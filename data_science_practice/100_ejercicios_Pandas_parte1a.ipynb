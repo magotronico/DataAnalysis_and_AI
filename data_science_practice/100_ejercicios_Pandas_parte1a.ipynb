{
  "cells": [
    {
      "cell_type": "markdown",
      "metadata": {
        "id": "view-in-github",
        "colab_type": "text"
      },
      "source": [
        "<a href=\"https://colab.research.google.com/github/magotronico/DataAnalysis_and_AI/blob/main/data_science_practice/100_ejercicios_Pandas_parte1a.ipynb\" target=\"_parent\"><img src=\"https://colab.research.google.com/assets/colab-badge.svg\" alt=\"Open In Colab\"/></a>"
      ]
    },
    {
      "cell_type": "markdown",
      "metadata": {
        "id": "OLZfkLBlM44Q"
      },
      "source": [
        "# 100 ejercicios pandas\n",
        "\n",
        "Dado que Pandas es una biblioteca grande con muchas funciones y características especializadas, estos ejercicios se centran principalmente en los fundamentos de la manipulación de datos (indexación, agrupación, agregación, limpieza), haciendo uso de los objetos principales DataFrame y Series.\n",
        "\n",
        "Muchos de los ejercicios aquí son sencillos en el sentido de que las soluciones requieren no más de unas pocas líneas de código (en Pandas o NumPy... ¡no uses Python puro o Cython!). Elegir los métodos correctos y seguir las mejores prácticas es el objetivo subyacente.\n",
        "\n",
        "Los ejercicios están divididos en secciones de manera general. Cada sección tiene una calificación de dificultad; estas calificaciones son subjetivas, por supuesto, pero deben verse como una guía aproximada de cuán ingeniosa debe ser la solución requerida.\n",
        "\n",
        "Si estas interesado en continuar preparandote en Pandas, estos recursos pueden ser de utilidad:\n",
        "\n",
        "- [10 minutes to pandas](http://pandas.pydata.org/pandas-docs/stable/10min.html)\n",
        "- [pandas basics](http://pandas.pydata.org/pandas-docs/stable/basics.html)\n",
        "- [tutorials](http://pandas.pydata.org/pandas-docs/stable/tutorials.html)\n",
        "- [cookbook and idioms](http://pandas.pydata.org/pandas-docs/stable/cookbook.html#cookbook)\n"
      ]
    },
    {
      "cell_type": "markdown",
      "metadata": {
        "id": "3qkVuSsSM44R"
      },
      "source": [
        "## Basicos de DataFrame\n",
        "\n",
        "### Algunos elementos basicos de rutinas para seleccionar, ordenar, agregar datos en DataFrames\n",
        "\n",
        "Dificultad: *facil*\n",
        "\n",
        "Nota: recuerda importar pandas ademas numpy usando:\n",
        "```python\n",
        "import pandas as pd\n",
        "import numpy as np\n",
        "```\n",
        "\n",
        "Considera el siguiente diccionario Python `data` y lista Python `labels`:\n",
        "\n",
        "``` python\n",
        "data = {'animal': ['cat', 'cat', 'snake', 'dog', 'dog', 'cat', 'snake', 'cat', 'dog', 'dog'],\n",
        "        'age': [2.5, 3, 0.5, np.nan, 5, 2, 4.5, np.nan, 7, 3],\n",
        "        'visits': [1, 3, 2, 3, 2, 3, 1, 1, 2, 1],\n",
        "        'priority': ['yes', 'yes', 'no', 'yes', 'no', 'no', 'no', 'yes', 'no', 'no']}\n",
        "\n",
        "labels = ['a', 'b', 'c', 'd', 'e', 'f', 'g', 'h', 'i', 'j']\n",
        "```\n",
        "(Son datos ficticios sobre animales y sus visitas al veterinario)\n",
        "\n",
        "**1.** Crea un DataFrame `df` con el diccionario `data` el cual usa como indices `labels`."
      ]
    },
    {
      "cell_type": "code",
      "execution_count": null,
      "metadata": {
        "id": "vY8o8ZvCM44R"
      },
      "outputs": [],
      "source": [
        "import pandas as pd\n",
        "import numpy as np\n",
        "\n",
        "data = {'animal': ['cat', 'cat', 'snake', 'dog', 'dog', 'cat', 'snake', 'cat', 'dog', 'dog'],\n",
        "        'age': [2.5, 3, 0.5, np.nan, 5, 2, 4.5, np.nan, 7, 3],\n",
        "        'visits': [1, 3, 2, 3, 2, 3, 1, 1, 2, 1],\n",
        "        'priority': ['yes', 'yes', 'no', 'yes', 'no', 'no', 'no', 'yes', 'no', 'no']}\n",
        "\n",
        "labels = ['a', 'b', 'c', 'd', 'e', 'f', 'g', 'h', 'i', 'j']\n",
        "\n"
      ]
    },
    {
      "cell_type": "markdown",
      "metadata": {
        "id": "y9n-YBInM44S"
      },
      "source": [
        "**2.** Muestra un resumen de la información básica sobre este DataFrame y sus datos (*pista: hay un solo método que se puede llamar en el DataFrame*)."
      ]
    },
    {
      "cell_type": "code",
      "execution_count": null,
      "metadata": {
        "id": "muOTCKZ6M44S"
      },
      "outputs": [],
      "source": []
    },
    {
      "cell_type": "markdown",
      "metadata": {
        "id": "lT26IstGM44S"
      },
      "source": [
        "**3.** Devuelve las primeras 3 filas del DataFrame `df`."
      ]
    },
    {
      "cell_type": "code",
      "execution_count": null,
      "metadata": {
        "id": "clzkt39eM44S"
      },
      "outputs": [],
      "source": []
    },
    {
      "cell_type": "markdown",
      "metadata": {
        "id": "Hj1vKMCKM44S"
      },
      "source": [
        "**4.** Selecciona solo las columnas 'animal' y 'age' del DataFrame `df`."
      ]
    },
    {
      "cell_type": "code",
      "execution_count": null,
      "metadata": {
        "id": "CI8htYlRM44S"
      },
      "outputs": [],
      "source": []
    },
    {
      "cell_type": "markdown",
      "metadata": {
        "id": "VcUCfdiBM44S"
      },
      "source": [
        "**5.** Selecciona los datos en las filas `[3, 4, 8]` *y* en las columnas `['animal', 'age']`."
      ]
    },
    {
      "cell_type": "code",
      "execution_count": null,
      "metadata": {
        "id": "Rm1yc6a2M44S"
      },
      "outputs": [],
      "source": []
    },
    {
      "cell_type": "markdown",
      "metadata": {
        "id": "7Vk7HUDgM44S"
      },
      "source": [
        "**6.** Selecciona solo las filas donde el numero de visitas es mayor a 3."
      ]
    },
    {
      "cell_type": "code",
      "execution_count": null,
      "metadata": {
        "id": "TkH4E92xM44S"
      },
      "outputs": [],
      "source": []
    },
    {
      "cell_type": "markdown",
      "metadata": {
        "id": "QHReb2bjM44S"
      },
      "source": [
        "**7.** Selecciona las filas donde la edad esta ausente, es decir, es `NaN`."
      ]
    },
    {
      "cell_type": "code",
      "execution_count": null,
      "metadata": {
        "id": "BfdKNQ-UM44S"
      },
      "outputs": [],
      "source": []
    },
    {
      "cell_type": "markdown",
      "metadata": {
        "id": "rPUgoma4M44T"
      },
      "source": [
        "**8.** Selecciona filas en donde el animal sea cat *y* age sea menor a 3."
      ]
    },
    {
      "cell_type": "code",
      "execution_count": null,
      "metadata": {
        "id": "dsqprHbcM44T"
      },
      "outputs": [],
      "source": []
    },
    {
      "cell_type": "markdown",
      "metadata": {
        "id": "mAFcZs8uM44T"
      },
      "source": [
        "**9.** Selecciona las filas donde age se encuentre entre 2 y 4 (inclusivos)."
      ]
    },
    {
      "cell_type": "code",
      "execution_count": null,
      "metadata": {
        "id": "b8oczmziM44T"
      },
      "outputs": [],
      "source": []
    },
    {
      "cell_type": "markdown",
      "metadata": {
        "id": "o3cTptezM44T"
      },
      "source": [
        "**10.** Cambia la edad (age) en la fila 'f' a 1.5."
      ]
    },
    {
      "cell_type": "code",
      "execution_count": null,
      "metadata": {
        "id": "E-gWBTOeM44T"
      },
      "outputs": [],
      "source": []
    },
    {
      "cell_type": "markdown",
      "metadata": {
        "id": "XXDQCICWM44T"
      },
      "source": [
        "**11.** Calcula la suma de todas las visitas de `df`."
      ]
    },
    {
      "cell_type": "code",
      "execution_count": null,
      "metadata": {
        "id": "Q5PaVJ3JM44T"
      },
      "outputs": [],
      "source": []
    },
    {
      "cell_type": "markdown",
      "metadata": {
        "id": "pIB4iXenM44T"
      },
      "source": [
        "**12.** Calcula la media de age para cada diferente animal en `df`."
      ]
    },
    {
      "cell_type": "code",
      "execution_count": null,
      "metadata": {
        "id": "-GQz41WHM44T"
      },
      "outputs": [],
      "source": []
    },
    {
      "cell_type": "markdown",
      "metadata": {
        "id": "83p7l44-M44T"
      },
      "source": [
        "**13.** Agrega una nueva fila 'k' a `df` con los valores de tu eleccion para cada columna. Luego elimina tal fila para regresar al DataFrame original."
      ]
    },
    {
      "cell_type": "code",
      "execution_count": null,
      "metadata": {
        "id": "gWM-sdjgM44T"
      },
      "outputs": [],
      "source": []
    },
    {
      "cell_type": "markdown",
      "metadata": {
        "id": "e8F5qNlHM44T"
      },
      "source": [
        "**14.** Haz el conteo de cada tipo de animal en `df`."
      ]
    },
    {
      "cell_type": "code",
      "execution_count": null,
      "metadata": {
        "id": "0DGVmx5XM44T"
      },
      "outputs": [],
      "source": []
    },
    {
      "cell_type": "markdown",
      "metadata": {
        "id": "di8UPD7rM44T"
      },
      "source": [
        "**15.** Ordena `df` primero por los valores de 'age' en orden *descendente*, luego por el valor de 'visits' en orden *ascendente* (asi la fila `i` seria la primera y la fila `d` seria la ultima)."
      ]
    },
    {
      "cell_type": "code",
      "execution_count": null,
      "metadata": {
        "id": "ayndAKIEM44T"
      },
      "outputs": [],
      "source": []
    },
    {
      "cell_type": "markdown",
      "metadata": {
        "id": "yJyY31fTM44T"
      },
      "source": [
        "**16.** La columna 'priority' contiene valores 'yes' y 'no'. Reemplazalos por valores booleanos: 'yes' debe ser `True` y 'no' debe ser `False`."
      ]
    },
    {
      "cell_type": "code",
      "execution_count": null,
      "metadata": {
        "id": "h3i2eMIHM44T"
      },
      "outputs": [],
      "source": []
    },
    {
      "cell_type": "markdown",
      "metadata": {
        "id": "dyiDPlX4M44T"
      },
      "source": [
        "**17.** En la columna 'animal', cambia 'snake' por 'python'."
      ]
    },
    {
      "cell_type": "code",
      "execution_count": null,
      "metadata": {
        "id": "r69bOeU4M44T"
      },
      "outputs": [],
      "source": []
    },
    {
      "cell_type": "markdown",
      "metadata": {
        "id": "v0hNYsWTM44T"
      },
      "source": [
        "**18.** Por cada tipo de animal y cada numero de visitas, encuentra la edad media. En otras palabras, cada fila es un animal, cada columna es el numero de visitas y los valores son las edades medias (*pista: utiliza una tabla pivote*)."
      ]
    },
    {
      "cell_type": "code",
      "execution_count": null,
      "metadata": {
        "id": "SeSeI2AeM44T"
      },
      "outputs": [],
      "source": []
    },
    {
      "cell_type": "markdown",
      "metadata": {
        "id": "-Zu1gvUOM44U"
      },
      "source": [
        "## DataFrames: mas alla de lo basico\n",
        "\n",
        "### Ejercicios mas complejos: necesitaras mezclar dos funciones o mas para resolverlos\n",
        "\n",
        "Dificultad: *media*\n",
        "\n",
        "Recuerda que puede haber mas de una forma de resolverlo."
      ]
    },
    {
      "cell_type": "markdown",
      "metadata": {
        "id": "ej2ErCDnM44U"
      },
      "source": [
        "**19.** Tienes un DataFrame `df` con una columna 'A' con interes. Por ejemplo:\n",
        "```python\n",
        "df = pd.DataFrame({'A': [1, 2, 2, 3, 4, 5, 5, 5, 6, 7, 7]})\n",
        "```\n",
        "\n",
        "Como filtrarias para descartar las filas que contienen el mismo entero que en la fila inmediatamente anterior?\n",
        "\n",
        "Deberias obtener las siguientes filas resultantes:\n",
        "\n",
        "```python\n",
        "1, 2, 3, 4, 5, 6, 7\n",
        "```"
      ]
    },
    {
      "cell_type": "code",
      "execution_count": null,
      "metadata": {
        "id": "ZwLXahhMM44X"
      },
      "outputs": [],
      "source": [
        "df = pd.DataFrame({'A': [1, 2, 2, 3, 4, 5, 5, 5, 6, 7, 7]})\n",
        "\n"
      ]
    },
    {
      "cell_type": "markdown",
      "metadata": {
        "id": "mqPyV9ujM44X"
      },
      "source": [
        "**20.** Dado un DataFrame con valores numericos aleatorios:\n",
        "```python\n",
        "df = pd.DataFrame(np.random.random(size=(5, 3))) # este es un DataFrame 5x3 DataFrame de valores flotantes\n",
        "```\n",
        "\n",
        "Como substraerias la fila media a cada elemento en la fila?"
      ]
    },
    {
      "cell_type": "code",
      "execution_count": null,
      "metadata": {
        "id": "dl1A8ohbM44X"
      },
      "outputs": [],
      "source": [
        "df = pd.DataFrame(np.random.random(size=(5, 3)))\n",
        "\n"
      ]
    },
    {
      "cell_type": "markdown",
      "metadata": {
        "id": "IJc3C3GiM44X"
      },
      "source": [
        "**21.** Supon tienes un DataFrame con 10 columnas de numeros reales, por ejemplo:\n",
        "\n",
        "```python\n",
        "df = pd.DataFrame(np.random.random(size=(5, 10)), columns=list('abcdefghij'))\n",
        "```\n",
        "Que columna de numeros tiene la menor suma? Devuelve solo el indice de la columna obtenida."
      ]
    },
    {
      "cell_type": "code",
      "execution_count": null,
      "metadata": {
        "id": "2b_GcEdBM44X"
      },
      "outputs": [],
      "source": [
        "df = pd.DataFrame(np.random.random(size=(5, 10)), columns=list('abcdefghij'))\n",
        "\n"
      ]
    },
    {
      "cell_type": "markdown",
      "metadata": {
        "id": "Q2Fs9x3lM44X"
      },
      "source": [
        "**22.** Como contabilizarias las filas unicas de un DataFrame (es decir, ignorar todas las filas duplicadas)?"
      ]
    },
    {
      "cell_type": "code",
      "execution_count": null,
      "metadata": {
        "id": "piTnTJ7VM44X"
      },
      "outputs": [],
      "source": [
        "df = pd.DataFrame(np.random.randint(0, 2, size=(10, 3)))\n",
        "\n"
      ]
    },
    {
      "cell_type": "markdown",
      "metadata": {
        "id": "4rQoMdmCM44X"
      },
      "source": [
        "Los siguientes 3 ejercicios son mas dificiles.\n",
        "\n",
        "**23.** Tenemos un DataFrame `df` que consiste en 10 columnas de valores flotantes. 5 de ellas son valores NaN.\n",
        "\n",
        "Para cada fila del DataFrame, encuenta la *columna* que contiene el *tercer* valor NaN.\n",
        "\n",
        "Deberas devolver la lista de etiquetas de las filas detectadas: `e, c, d, h, d`"
      ]
    },
    {
      "cell_type": "code",
      "execution_count": null,
      "metadata": {
        "id": "IGIBOMCuM44X"
      },
      "outputs": [],
      "source": [
        "nan = np.nan\n",
        "\n",
        "data = [[0.04,  nan,  nan, 0.25,  nan, 0.43, 0.71, 0.51,  nan,  nan],\n",
        "        [ nan,  nan,  nan, 0.04, 0.76,  nan,  nan, 0.67, 0.76, 0.16],\n",
        "        [ nan,  nan, 0.5 ,  nan, 0.31, 0.4 ,  nan,  nan, 0.24, 0.01],\n",
        "        [0.49,  nan,  nan, 0.62, 0.73, 0.26, 0.85,  nan,  nan,  nan],\n",
        "        [ nan,  nan, 0.41,  nan, 0.05,  nan, 0.61,  nan, 0.48, 0.68]]\n",
        "\n",
        "columns = list('abcdefghij')\n",
        "\n",
        "df = pd.DataFrame(data, columns=columns)\n",
        "\n"
      ]
    },
    {
      "cell_type": "markdown",
      "metadata": {
        "id": "aRv5DB2uM44X"
      },
      "source": [
        "**24.** Un DataFrame tiene una columna de grupos 'grps' y una columna de enteros 'vals':\n",
        "\n",
        "```python\n",
        "df = pd.DataFrame({'grps': list('aaabbcaabcccbbc'),\n",
        "                   'vals': [12,345,3,1,45,14,4,52,54,23,235,21,57,3,87]})\n",
        "```\n",
        "Para cada *group*, calcula la suma de los tres valores mayores.  Deberas obtener algo igual a:\n",
        "```\n",
        "grps\n",
        "a    409\n",
        "b    156\n",
        "c    345\n",
        "```"
      ]
    },
    {
      "cell_type": "code",
      "execution_count": null,
      "metadata": {
        "id": "k_J1ycKTM44X"
      },
      "outputs": [],
      "source": [
        "df = pd.DataFrame({'grps': list('aaabbcaabcccbbc'),\n",
        "                   'vals': [12,345,3,1,45,14,4,52,54,23,235,21,57,3,87]})\n",
        "\n"
      ]
    },
    {
      "cell_type": "markdown",
      "metadata": {
        "id": "VO4VkYlsM44X"
      },
      "source": [
        "**25.** El DataFrame `df` esta construido por dos columnas de enteros 'A' y 'B'. Los valores en 'A' son entre 1 y 100 (inclusive).\n",
        "\n",
        "Para cada grupo de 10 enteros consecutivos en 'A' (ejemplo, `(0, 10]`, `(10, 20]`, ...), calcula la suma de valores correspondientes en la columna 'B'.\n",
        "\n",
        "La solucion debe ser una Serie parecida a la siguiente:\n",
        "\n",
        "```\n",
        "A\n",
        "(0, 10]      635\n",
        "(10, 20]     360\n",
        "(20, 30]     315\n",
        "(30, 40]     306\n",
        "(40, 50]     750\n",
        "(50, 60]     284\n",
        "(60, 70]     424\n",
        "(70, 80]     526\n",
        "(80, 90]     835\n",
        "(90, 100]    852\n",
        "```"
      ]
    },
    {
      "cell_type": "code",
      "execution_count": null,
      "metadata": {
        "id": "mFdoWybFM44Y"
      },
      "outputs": [],
      "source": [
        "df = pd.DataFrame(np.random.RandomState(8765).randint(1, 101, size=(100, 2)), columns = [\"A\", \"B\"])\n",
        "\n"
      ]
    },
    {
      "cell_type": "markdown",
      "metadata": {
        "id": "MvGrkymIM44Y"
      },
      "source": [
        "## PARTE 2\n",
        "## DataFrames: problemas mas dificiles\n",
        "\n",
        "## Limpiando Data\n",
        "\n",
        "### Haciendo un DataFrame mas sencillo para trabajar\n",
        "\n",
        "Dificultad: *media*\n",
        "\n",
        "Esto sucede todo el tiempo: alguien te da datos que contienen cadenas mal formadas, listas de Python y datos faltantes. ¿Cómo lo ordenas para poder continuar con el análisis?\n",
        "\n",
        "Toma esta monstruosidad como el DataFrame a utilizar en los siguientes ejercicios:\n",
        "\n",
        "```python\n",
        "df = pd.DataFrame({'From_To': ['LoNDon_paris', 'MAdrid_miLAN', 'londON_StockhOlm',\n",
        "                               'Budapest_PaRis', 'Brussels_londOn'],\n",
        "              'FlightNumber': [10045, np.nan, 10065, np.nan, 10085],\n",
        "              'RecentDelays': [[23, 47], [], [24, 43, 87], [13], [67, 32]],\n",
        "                   'Airline': ['KLM(!)', '<Air France> (12)', '(British Airways. )',\n",
        "                               '12. Air France', '\"Swiss Air\"']})\n",
        "```\n",
        "\n",
        "Debe aparecer asi:\n",
        "\n",
        "```\n",
        "            From_To  FlightNumber  RecentDelays              Airline\n",
        "0      LoNDon_paris       10045.0      [23, 47]               KLM(!)\n",
        "1      MAdrid_miLAN           NaN            []    <Air France> (12)\n",
        "2  londON_StockhOlm       10065.0  [24, 43, 87]  (British Airways. )\n",
        "3    Budapest_PaRis           NaN          [13]       12. Air France\n",
        "4   Brussels_londOn       10085.0      [67, 32]          \"Swiss Air\"\n",
        "```\n",
        "\n",
        "(Son datos de vuelos simulados, no representan ningun valor real)"
      ]
    },
    {
      "cell_type": "markdown",
      "metadata": {
        "id": "SeAMIA8oM44Y"
      },
      "source": [
        "**26.** Algunos valores en la columna **FlightNumber** estan asuentes (son `NaN`). Estos valores representan incrementos de 10 entre cada fila, asi que 10055 y 10075 deberian ser colocados. Modifica `df` para rellenar automaticamente estos espacios con valores en una columna entera (en lugar de flotante)."
      ]
    },
    {
      "cell_type": "code",
      "execution_count": null,
      "metadata": {
        "id": "YbY0Zt49M44Y"
      },
      "outputs": [],
      "source": [
        "df = pd.DataFrame({'From_To': ['LoNDon_paris', 'MAdrid_miLAN', 'londON_StockhOlm',\n",
        "                               'Budapest_PaRis', 'Brussels_londOn'],\n",
        "              'FlightNumber': [10045, np.nan, 10065, np.nan, 10085],\n",
        "              'RecentDelays': [[23, 47], [], [24, 43, 87], [13], [67, 32]],\n",
        "                   'Airline': ['KLM(!)', '<Air France> (12)', '(British Airways. )',\n",
        "                               '12. Air France', '\"Swiss Air\"']})\n",
        "\n"
      ]
    },
    {
      "cell_type": "markdown",
      "metadata": {
        "id": "N2sVfcuBM44Y"
      },
      "source": [
        "**27.** La columna **From\\_To** deberia ser separada en dos! Corta cada cadena de caracteres utilizando el separador `_` guardando estos cambios en un DataFrame temporal llamado 'temp' que incluya los valores correctos. Denomina las dos nuevas columnas como 'From' y 'To' en este nuevo DataFrame."
      ]
    },
    {
      "cell_type": "code",
      "execution_count": null,
      "metadata": {
        "id": "l2vxW8cSM44Y"
      },
      "outputs": [],
      "source": []
    },
    {
      "cell_type": "markdown",
      "metadata": {
        "id": "fyh2obMNM44Y"
      },
      "source": [
        "**28.** Nota como las mayusculas y minusculas son un desastre en el DataFrame 'temp'. Estandariza las cadenas de caracteres para que solo la primer letra sea mayuscula (ejemplo: \"londON\" deberia ser \"London\".)"
      ]
    },
    {
      "cell_type": "code",
      "execution_count": null,
      "metadata": {
        "id": "j3TxSID2M44Y"
      },
      "outputs": [],
      "source": []
    },
    {
      "cell_type": "markdown",
      "metadata": {
        "id": "zQBf-atPM44Y"
      },
      "source": [
        "**29.** Elimina la columna **From_To** de `df` y coloca el DataFrame 'temp' de la pregunta anterior."
      ]
    },
    {
      "cell_type": "code",
      "execution_count": null,
      "metadata": {
        "id": "iEY5HdqgM44Y"
      },
      "outputs": [],
      "source": []
    },
    {
      "cell_type": "markdown",
      "metadata": {
        "id": "13Mk_bYEM44Y"
      },
      "source": [
        "**30**. En la columna **Airline**, puedes ver que hay puntuaciones y caracteres especiales con los nombres de las aerolineas. Limpialos para solo mostrar los nombres. Ejemplo: `'(British Airways. )'` debe convertirse en `'British Airways'`."
      ]
    },
    {
      "cell_type": "code",
      "execution_count": null,
      "metadata": {
        "id": "E_bLh_JzM44Y"
      },
      "outputs": [],
      "source": []
    }
  ],
  "metadata": {
    "kernelspec": {
      "display_name": "Python 3 (ipykernel)",
      "language": "python",
      "name": "python3"
    },
    "language_info": {
      "codemirror_mode": {
        "name": "ipython",
        "version": 3
      },
      "file_extension": ".py",
      "mimetype": "text/x-python",
      "name": "python",
      "nbconvert_exporter": "python",
      "pygments_lexer": "ipython3",
      "version": "3.9.7"
    },
    "colab": {
      "provenance": [],
      "include_colab_link": true
    }
  },
  "nbformat": 4,
  "nbformat_minor": 0
}