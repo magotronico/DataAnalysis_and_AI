{
 "cells": [
  {
   "cell_type": "markdown",
   "id": "a96c9a70",
   "metadata": {},
   "source": [
    "# CODIFICACION"
   ]
  },
  {
   "cell_type": "markdown",
   "id": "a6eb86ff",
   "metadata": {},
   "source": [
    "CONTEXTO"
   ]
  },
  {
   "cell_type": "markdown",
   "id": "483d3e51",
   "metadata": {},
   "source": [
    "¿Que tan satisfecho estas con el servicio de entrega?\n",
    "\n",
    "<list>\n",
    "    <li>Muy insatisfecho\n",
    "<li>Insatisfecho\n",
    "<li>Neutral\n",
    "<li>Satisfecho\n",
    "<li>Muy satisfecho\n",
    "<br><br>\n",
    "¿Como calificarias la calidad del producto entregado?\n",
    "<list>\n",
    "<li>Mala\n",
    "<li>Buena\n",
    "<li>Muy buena\n",
    "<li>Excelente"
   ]
  },
  {
   "cell_type": "code",
   "execution_count": 5,
   "id": "9739e847",
   "metadata": {},
   "outputs": [],
   "source": [
    "import pandas as pd\n",
    "import numpy as np"
   ]
  },
  {
   "cell_type": "code",
   "execution_count": 6,
   "id": "fc48c4cf",
   "metadata": {},
   "outputs": [],
   "source": [
    "cat_serv = [\"Muy insatisfecho\",\"Insatisfecho\",\"Neutral\",\n",
    "            \"Satisfecho\",\"Muy satisfecho\"]\n",
    "\n",
    "cat_prod = [\"Mala\",\"Buena\",\"Muy buena\",\"Excelente\"]\n",
    "\n",
    "encuesta = {'servicio' : ['Muy insatisfecho','Insatisfecho','Neutral',\n",
    "                         'Satisfecho','Muy satisfecho','Muy insatisfecho'],\n",
    "            'producto' : ['Mala','Buena','Muy buena','Excelente',\n",
    "                          'Mala','Buena']}\n",
    "\n",
    "# 0: esporadico 1:frecuente\n",
    "tipo_cliente = [0,0,1,1,0,1]"
   ]
  },
  {
   "cell_type": "code",
   "execution_count": 7,
   "id": "107e77c8",
   "metadata": {},
   "outputs": [
    {
     "data": {
      "text/html": [
       "<div>\n",
       "<style scoped>\n",
       "    .dataframe tbody tr th:only-of-type {\n",
       "        vertical-align: middle;\n",
       "    }\n",
       "\n",
       "    .dataframe tbody tr th {\n",
       "        vertical-align: top;\n",
       "    }\n",
       "\n",
       "    .dataframe thead th {\n",
       "        text-align: right;\n",
       "    }\n",
       "</style>\n",
       "<table border=\"1\" class=\"dataframe\">\n",
       "  <thead>\n",
       "    <tr style=\"text-align: right;\">\n",
       "      <th></th>\n",
       "      <th>servicio</th>\n",
       "      <th>producto</th>\n",
       "    </tr>\n",
       "  </thead>\n",
       "  <tbody>\n",
       "    <tr>\n",
       "      <th>0</th>\n",
       "      <td>Muy insatisfecho</td>\n",
       "      <td>Mala</td>\n",
       "    </tr>\n",
       "    <tr>\n",
       "      <th>1</th>\n",
       "      <td>Insatisfecho</td>\n",
       "      <td>Buena</td>\n",
       "    </tr>\n",
       "    <tr>\n",
       "      <th>2</th>\n",
       "      <td>Neutral</td>\n",
       "      <td>Muy buena</td>\n",
       "    </tr>\n",
       "    <tr>\n",
       "      <th>3</th>\n",
       "      <td>Satisfecho</td>\n",
       "      <td>Excelente</td>\n",
       "    </tr>\n",
       "    <tr>\n",
       "      <th>4</th>\n",
       "      <td>Muy satisfecho</td>\n",
       "      <td>Mala</td>\n",
       "    </tr>\n",
       "    <tr>\n",
       "      <th>5</th>\n",
       "      <td>Muy insatisfecho</td>\n",
       "      <td>Buena</td>\n",
       "    </tr>\n",
       "  </tbody>\n",
       "</table>\n",
       "</div>"
      ],
      "text/plain": [
       "           servicio   producto\n",
       "0  Muy insatisfecho       Mala\n",
       "1      Insatisfecho      Buena\n",
       "2           Neutral  Muy buena\n",
       "3        Satisfecho  Excelente\n",
       "4    Muy satisfecho       Mala\n",
       "5  Muy insatisfecho      Buena"
      ]
     },
     "execution_count": 7,
     "metadata": {},
     "output_type": "execute_result"
    }
   ],
   "source": [
    "pd.DataFrame(encuesta)"
   ]
  },
  {
   "cell_type": "markdown",
   "id": "985c4f2d",
   "metadata": {},
   "source": [
    "# ORDINALES"
   ]
  },
  {
   "cell_type": "code",
   "execution_count": 8,
   "id": "95dc1355",
   "metadata": {},
   "outputs": [],
   "source": [
    "from sklearn.preprocessing import OrdinalEncoder"
   ]
  },
  {
   "cell_type": "code",
   "execution_count": 9,
   "id": "6a27d238",
   "metadata": {},
   "outputs": [],
   "source": [
    "ordinales = pd.DataFrame(encuesta)\n",
    "codificador = OrdinalEncoder(categories=[cat_serv,cat_prod])"
   ]
  },
  {
   "cell_type": "code",
   "execution_count": 10,
   "id": "598d4393",
   "metadata": {},
   "outputs": [],
   "source": [
    "ordinales = pd.DataFrame(codificador.fit_transform(ordinales),\n",
    "                        columns=[\"servicio\",\"producto\"])"
   ]
  },
  {
   "cell_type": "code",
   "execution_count": 11,
   "id": "efb58058",
   "metadata": {},
   "outputs": [
    {
     "data": {
      "text/html": [
       "<div>\n",
       "<style scoped>\n",
       "    .dataframe tbody tr th:only-of-type {\n",
       "        vertical-align: middle;\n",
       "    }\n",
       "\n",
       "    .dataframe tbody tr th {\n",
       "        vertical-align: top;\n",
       "    }\n",
       "\n",
       "    .dataframe thead th {\n",
       "        text-align: right;\n",
       "    }\n",
       "</style>\n",
       "<table border=\"1\" class=\"dataframe\">\n",
       "  <thead>\n",
       "    <tr style=\"text-align: right;\">\n",
       "      <th></th>\n",
       "      <th>servicio</th>\n",
       "      <th>producto</th>\n",
       "    </tr>\n",
       "  </thead>\n",
       "  <tbody>\n",
       "    <tr>\n",
       "      <th>0</th>\n",
       "      <td>0.0</td>\n",
       "      <td>0.0</td>\n",
       "    </tr>\n",
       "    <tr>\n",
       "      <th>1</th>\n",
       "      <td>1.0</td>\n",
       "      <td>1.0</td>\n",
       "    </tr>\n",
       "    <tr>\n",
       "      <th>2</th>\n",
       "      <td>2.0</td>\n",
       "      <td>2.0</td>\n",
       "    </tr>\n",
       "    <tr>\n",
       "      <th>3</th>\n",
       "      <td>3.0</td>\n",
       "      <td>3.0</td>\n",
       "    </tr>\n",
       "    <tr>\n",
       "      <th>4</th>\n",
       "      <td>4.0</td>\n",
       "      <td>0.0</td>\n",
       "    </tr>\n",
       "    <tr>\n",
       "      <th>5</th>\n",
       "      <td>0.0</td>\n",
       "      <td>1.0</td>\n",
       "    </tr>\n",
       "  </tbody>\n",
       "</table>\n",
       "</div>"
      ],
      "text/plain": [
       "   servicio  producto\n",
       "0       0.0       0.0\n",
       "1       1.0       1.0\n",
       "2       2.0       2.0\n",
       "3       3.0       3.0\n",
       "4       4.0       0.0\n",
       "5       0.0       1.0"
      ]
     },
     "execution_count": 11,
     "metadata": {},
     "output_type": "execute_result"
    }
   ],
   "source": [
    "ordinales"
   ]
  },
  {
   "cell_type": "markdown",
   "id": "eda977f6",
   "metadata": {},
   "source": [
    "# ONE HOT"
   ]
  },
  {
   "cell_type": "code",
   "execution_count": 12,
   "id": "ee8a715d",
   "metadata": {},
   "outputs": [],
   "source": [
    "from sklearn.preprocessing import OneHotEncoder"
   ]
  },
  {
   "cell_type": "code",
   "execution_count": 13,
   "id": "10da08a3",
   "metadata": {},
   "outputs": [],
   "source": [
    "oneHots = pd.DataFrame(encuesta)\n",
    "codificador = OneHotEncoder()"
   ]
  },
  {
   "cell_type": "code",
   "execution_count": 14,
   "id": "7dbf7d75",
   "metadata": {},
   "outputs": [
    {
     "data": {
      "text/html": [
       "<div>\n",
       "<style scoped>\n",
       "    .dataframe tbody tr th:only-of-type {\n",
       "        vertical-align: middle;\n",
       "    }\n",
       "\n",
       "    .dataframe tbody tr th {\n",
       "        vertical-align: top;\n",
       "    }\n",
       "\n",
       "    .dataframe thead th {\n",
       "        text-align: right;\n",
       "    }\n",
       "</style>\n",
       "<table border=\"1\" class=\"dataframe\">\n",
       "  <thead>\n",
       "    <tr style=\"text-align: right;\">\n",
       "      <th></th>\n",
       "      <th>Insatisfecho</th>\n",
       "      <th>Muy insatisfecho</th>\n",
       "      <th>Muy satisfecho</th>\n",
       "      <th>Neutral</th>\n",
       "      <th>Satisfecho</th>\n",
       "      <th>Buena</th>\n",
       "      <th>Excelente</th>\n",
       "      <th>Mala</th>\n",
       "      <th>Muy buena</th>\n",
       "    </tr>\n",
       "  </thead>\n",
       "  <tbody>\n",
       "    <tr>\n",
       "      <th>0</th>\n",
       "      <td>0.0</td>\n",
       "      <td>1.0</td>\n",
       "      <td>0.0</td>\n",
       "      <td>0.0</td>\n",
       "      <td>0.0</td>\n",
       "      <td>0.0</td>\n",
       "      <td>0.0</td>\n",
       "      <td>1.0</td>\n",
       "      <td>0.0</td>\n",
       "    </tr>\n",
       "    <tr>\n",
       "      <th>1</th>\n",
       "      <td>1.0</td>\n",
       "      <td>0.0</td>\n",
       "      <td>0.0</td>\n",
       "      <td>0.0</td>\n",
       "      <td>0.0</td>\n",
       "      <td>1.0</td>\n",
       "      <td>0.0</td>\n",
       "      <td>0.0</td>\n",
       "      <td>0.0</td>\n",
       "    </tr>\n",
       "    <tr>\n",
       "      <th>2</th>\n",
       "      <td>0.0</td>\n",
       "      <td>0.0</td>\n",
       "      <td>0.0</td>\n",
       "      <td>1.0</td>\n",
       "      <td>0.0</td>\n",
       "      <td>0.0</td>\n",
       "      <td>0.0</td>\n",
       "      <td>0.0</td>\n",
       "      <td>1.0</td>\n",
       "    </tr>\n",
       "    <tr>\n",
       "      <th>3</th>\n",
       "      <td>0.0</td>\n",
       "      <td>0.0</td>\n",
       "      <td>0.0</td>\n",
       "      <td>0.0</td>\n",
       "      <td>1.0</td>\n",
       "      <td>0.0</td>\n",
       "      <td>1.0</td>\n",
       "      <td>0.0</td>\n",
       "      <td>0.0</td>\n",
       "    </tr>\n",
       "    <tr>\n",
       "      <th>4</th>\n",
       "      <td>0.0</td>\n",
       "      <td>0.0</td>\n",
       "      <td>1.0</td>\n",
       "      <td>0.0</td>\n",
       "      <td>0.0</td>\n",
       "      <td>0.0</td>\n",
       "      <td>0.0</td>\n",
       "      <td>1.0</td>\n",
       "      <td>0.0</td>\n",
       "    </tr>\n",
       "    <tr>\n",
       "      <th>5</th>\n",
       "      <td>0.0</td>\n",
       "      <td>1.0</td>\n",
       "      <td>0.0</td>\n",
       "      <td>0.0</td>\n",
       "      <td>0.0</td>\n",
       "      <td>1.0</td>\n",
       "      <td>0.0</td>\n",
       "      <td>0.0</td>\n",
       "      <td>0.0</td>\n",
       "    </tr>\n",
       "  </tbody>\n",
       "</table>\n",
       "</div>"
      ],
      "text/plain": [
       "   Insatisfecho  Muy insatisfecho  Muy satisfecho  Neutral  Satisfecho  Buena  \\\n",
       "0           0.0               1.0             0.0      0.0         0.0    0.0   \n",
       "1           1.0               0.0             0.0      0.0         0.0    1.0   \n",
       "2           0.0               0.0             0.0      1.0         0.0    0.0   \n",
       "3           0.0               0.0             0.0      0.0         1.0    0.0   \n",
       "4           0.0               0.0             1.0      0.0         0.0    0.0   \n",
       "5           0.0               1.0             0.0      0.0         0.0    1.0   \n",
       "\n",
       "   Excelente  Mala  Muy buena  \n",
       "0        0.0   1.0        0.0  \n",
       "1        0.0   0.0        0.0  \n",
       "2        0.0   0.0        1.0  \n",
       "3        1.0   0.0        0.0  \n",
       "4        0.0   1.0        0.0  \n",
       "5        0.0   0.0        0.0  "
      ]
     },
     "execution_count": 14,
     "metadata": {},
     "output_type": "execute_result"
    }
   ],
   "source": [
    "oneHots = pd.DataFrame(codificador.fit_transform(oneHots).toarray(),\n",
    "                      columns=np.concatenate(codificador.categories_))\n",
    "oneHots"
   ]
  }
 ],
 "metadata": {
  "kernelspec": {
   "display_name": "Python 3 (ipykernel)",
   "language": "python",
   "name": "python3"
  },
  "language_info": {
   "codemirror_mode": {
    "name": "ipython",
    "version": 3
   },
   "file_extension": ".py",
   "mimetype": "text/x-python",
   "name": "python",
   "nbconvert_exporter": "python",
   "pygments_lexer": "ipython3",
   "version": "3.11.9"
  }
 },
 "nbformat": 4,
 "nbformat_minor": 5
}
