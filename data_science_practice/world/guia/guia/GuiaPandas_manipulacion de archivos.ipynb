{
 "cells": [
  {
   "cell_type": "markdown",
   "id": "361942e5",
   "metadata": {},
   "source": [
    "#  Guia de manejo de archivos en Pandas"
   ]
  },
  {
   "cell_type": "markdown",
   "id": "0a760ce4",
   "metadata": {},
   "source": [
    "Para el uso de esta guia se utilizan tres archivos adjuntos: \"Churn.cvs\", \"Churn2.xlsx\" y \"example.json\""
   ]
  },
  {
   "cell_type": "code",
   "execution_count": 1,
   "id": "f7ccf4a6",
   "metadata": {},
   "outputs": [],
   "source": [
    "import pandas as pd"
   ]
  },
  {
   "cell_type": "markdown",
   "id": "dc313279",
   "metadata": {},
   "source": [
    "1. Leer un archivo CSV"
   ]
  },
  {
   "cell_type": "code",
   "execution_count": null,
   "id": "db4402fe",
   "metadata": {},
   "outputs": [],
   "source": [
    "tabla = pd.read_csv('Churn.csv')\n",
    "tabla"
   ]
  },
  {
   "cell_type": "markdown",
   "id": "383e1093",
   "metadata": {},
   "source": [
    "2. Leer un archivo de Excel"
   ]
  },
  {
   "cell_type": "code",
   "execution_count": null,
   "id": "54cfa7ed",
   "metadata": {},
   "outputs": [],
   "source": [
    "tabla = pd.read_excel('Churn2.xlsx')\n",
    "tabla"
   ]
  },
  {
   "cell_type": "markdown",
   "id": "3adfe3e5",
   "metadata": {},
   "source": [
    "3. Leer una pagina en especial del un archivo Excel"
   ]
  },
  {
   "cell_type": "code",
   "execution_count": null,
   "id": "b3a2835b",
   "metadata": {},
   "outputs": [],
   "source": [
    "tabla = pd.read_excel('Churn2.xlsx','Churn') #el segundo parametro es el nombre de la pagina\n",
    "tabla"
   ]
  },
  {
   "cell_type": "markdown",
   "id": "30e66429",
   "metadata": {},
   "source": [
    "4. Descartar el indizado del archivo Excel"
   ]
  },
  {
   "cell_type": "code",
   "execution_count": null,
   "id": "0b17e201",
   "metadata": {},
   "outputs": [],
   "source": [
    "tabla = pd.read_excel('Churn2.xlsx','Churn',index_col=0)\n",
    "tabla"
   ]
  },
  {
   "cell_type": "markdown",
   "id": "2f9f5d15",
   "metadata": {},
   "source": [
    "5. Usar solo ciertas columnas del Excel en un rango "
   ]
  },
  {
   "cell_type": "code",
   "execution_count": null,
   "id": "ac853876",
   "metadata": {},
   "outputs": [],
   "source": [
    "tabla = pd.read_excel('Churn2.xlsx','Churn',index_col=0, usecols=\"B:F\")#solo se mostraran las columnas de la B a la F en la pagina Churn\n",
    "tabla"
   ]
  },
  {
   "cell_type": "markdown",
   "id": "51856a7d",
   "metadata": {},
   "source": [
    "6. Usar solo ciertas columnas del Excel por su nombre"
   ]
  },
  {
   "cell_type": "code",
   "execution_count": null,
   "id": "b464c0db",
   "metadata": {},
   "outputs": [],
   "source": [
    "tabla = pd.read_excel('Churn2.xlsx','Churn',index_col=0, names=[\"customerID\",\"tenure\",\"Churn\"])\n",
    "tabla"
   ]
  },
  {
   "cell_type": "markdown",
   "id": "00d76f13",
   "metadata": {},
   "source": [
    "7. Leer un documento JSON"
   ]
  },
  {
   "cell_type": "code",
   "execution_count": null,
   "id": "7ae87a8b",
   "metadata": {},
   "outputs": [],
   "source": [
    "tabla = pd.read_json('example.json')\n",
    "tabla"
   ]
  },
  {
   "cell_type": "markdown",
   "id": "8fa9a362",
   "metadata": {},
   "source": [
    "8. Hacer un conteo de valores"
   ]
  },
  {
   "cell_type": "code",
   "execution_count": null,
   "id": "ce05eac6",
   "metadata": {},
   "outputs": [],
   "source": [
    "tabla.value_counts()"
   ]
  },
  {
   "cell_type": "markdown",
   "id": "1064b7a5",
   "metadata": {},
   "source": [
    "9. Detectar valores unicos en la tabla e indicarlos por columnas"
   ]
  },
  {
   "cell_type": "code",
   "execution_count": null,
   "id": "dcec99b9",
   "metadata": {},
   "outputs": [],
   "source": [
    "tabla.nunique()"
   ]
  },
  {
   "cell_type": "markdown",
   "id": "a559b513",
   "metadata": {},
   "source": [
    "10. Suma de todos los valores unicos de una tabla"
   ]
  },
  {
   "cell_type": "code",
   "execution_count": null,
   "id": "b6d2b57a",
   "metadata": {},
   "outputs": [],
   "source": [
    "tabla.nunique().sum()"
   ]
  },
  {
   "cell_type": "markdown",
   "id": "4e920644",
   "metadata": {},
   "source": [
    "11. Calcular la media por cada columna"
   ]
  },
  {
   "cell_type": "code",
   "execution_count": null,
   "id": "530fa04a",
   "metadata": {},
   "outputs": [],
   "source": [
    "tabla.mean(axis=\"index\")"
   ]
  },
  {
   "cell_type": "markdown",
   "id": "53378ea7",
   "metadata": {},
   "source": [
    "12. Calcular la media por cada fila"
   ]
  },
  {
   "cell_type": "code",
   "execution_count": null,
   "id": "72d7ceb9",
   "metadata": {},
   "outputs": [],
   "source": [
    "tabla.mean(axis=\"columns\")"
   ]
  },
  {
   "cell_type": "markdown",
   "id": "3c4e1c5f",
   "metadata": {},
   "source": [
    "13. Calcular la media de alguna columna en particular"
   ]
  },
  {
   "cell_type": "code",
   "execution_count": null,
   "id": "00cf2af8",
   "metadata": {},
   "outputs": [],
   "source": [
    "tabla['Pulse'].mean()"
   ]
  },
  {
   "cell_type": "markdown",
   "id": "a7fc8204",
   "metadata": {},
   "source": [
    "14. Detectar el valor minimo de una columna"
   ]
  },
  {
   "cell_type": "code",
   "execution_count": null,
   "id": "c5673c2c",
   "metadata": {},
   "outputs": [],
   "source": [
    "tabla['Pulse'].min()"
   ]
  },
  {
   "cell_type": "markdown",
   "id": "d1203687",
   "metadata": {},
   "source": [
    "15. Detectar el valor maximo de una columna"
   ]
  },
  {
   "cell_type": "code",
   "execution_count": null,
   "id": "0c6065e8",
   "metadata": {},
   "outputs": [],
   "source": [
    "tabla['Pulse'].max()"
   ]
  },
  {
   "cell_type": "markdown",
   "id": "4a37daa0",
   "metadata": {},
   "source": [
    "16. Detectar los minimos y maximos de toda la tabla"
   ]
  },
  {
   "cell_type": "code",
   "execution_count": null,
   "id": "814f68b0",
   "metadata": {},
   "outputs": [],
   "source": [
    "print(\"Minimos:\")\n",
    "print(tabla.min())\n",
    "print(\"Maximos:\")\n",
    "print(tabla.max())"
   ]
  },
  {
   "cell_type": "markdown",
   "id": "bba9c56a",
   "metadata": {},
   "source": [
    "17. Detectar valores condicionados. Por ejemplo: Todos las calorias menores a 1000"
   ]
  },
  {
   "cell_type": "code",
   "execution_count": null,
   "id": "f0b88d11",
   "metadata": {},
   "outputs": [],
   "source": [
    "tabla.loc[tabla['Calories']<1000]"
   ]
  }
 ],
 "metadata": {
  "kernelspec": {
   "display_name": "Python 3 (ipykernel)",
   "language": "python",
   "name": "python3"
  },
  "language_info": {
   "codemirror_mode": {
    "name": "ipython",
    "version": 3
   },
   "file_extension": ".py",
   "mimetype": "text/x-python",
   "name": "python",
   "nbconvert_exporter": "python",
   "pygments_lexer": "ipython3",
   "version": "3.9.7"
  }
 },
 "nbformat": 4,
 "nbformat_minor": 5
}
