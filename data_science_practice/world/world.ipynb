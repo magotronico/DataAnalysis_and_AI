{
 "cells": [
  {
   "cell_type": "markdown",
   "metadata": {},
   "source": [
    "# Actividad de aprendizaje - Análisis de datos con Pandas [ individual ]\n",
    "Name: Dilan González Castañeda | student_id: A00831905\n",
    "\n",
    "This notebook aims to resolve a set of instructions in order to practice as part of an assigment.\n",
    "\n",
    "To make this notebook professional, I will use PEP 8, PEP  484 and PEP 257.\n",
    "\n",
    "*Note: This notebook was created in VS Code locally, so the paths should be change if you want to test it out of this notebook.*"
   ]
  },
  {
   "cell_type": "code",
   "execution_count": 53,
   "metadata": {},
   "outputs": [
    {
     "name": "stdout",
     "output_type": "stream",
     "text": [
      "Requirement already satisfied: pandas in c:\\users\\dilan\\documents\\github\\dataanalysis_and_ai\\.venv\\lib\\site-packages (2.2.2)\n",
      "Requirement already satisfied: numpy>=1.23.2 in c:\\users\\dilan\\documents\\github\\dataanalysis_and_ai\\.venv\\lib\\site-packages (from pandas) (2.0.1)\n",
      "Requirement already satisfied: python-dateutil>=2.8.2 in c:\\users\\dilan\\documents\\github\\dataanalysis_and_ai\\.venv\\lib\\site-packages (from pandas) (2.9.0.post0)\n",
      "Requirement already satisfied: pytz>=2020.1 in c:\\users\\dilan\\documents\\github\\dataanalysis_and_ai\\.venv\\lib\\site-packages (from pandas) (2024.1)\n",
      "Requirement already satisfied: tzdata>=2022.7 in c:\\users\\dilan\\documents\\github\\dataanalysis_and_ai\\.venv\\lib\\site-packages (from pandas) (2024.1)\n",
      "Requirement already satisfied: six>=1.5 in c:\\users\\dilan\\documents\\github\\dataanalysis_and_ai\\.venv\\lib\\site-packages (from python-dateutil>=2.8.2->pandas) (1.16.0)\n",
      "Note: you may need to restart the kernel to use updated packages.\n"
     ]
    },
    {
     "name": "stderr",
     "output_type": "stream",
     "text": [
      "Could not find platform independent libraries <prefix>\n"
     ]
    }
   ],
   "source": [
    "%pip install pandas"
   ]
  },
  {
   "cell_type": "code",
   "execution_count": 68,
   "metadata": {},
   "outputs": [
    {
     "name": "stdout",
     "output_type": "stream",
     "text": [
      "<class 'pandas.core.frame.DataFrame'>\n",
      "RangeIndex: 984 entries, 0 to 983\n",
      "Data columns (total 4 columns):\n",
      " #   Column       Non-Null Count  Dtype  \n",
      "---  ------       --------------  -----  \n",
      " 0   CountryCode  984 non-null    object \n",
      " 1   Language     984 non-null    object \n",
      " 2   IsOfficial   984 non-null    object \n",
      " 3   Percentage   984 non-null    float64\n",
      "dtypes: float64(1), object(3)\n",
      "memory usage: 30.9+ KB\n"
     ]
    }
   ],
   "source": [
    "import pandas as pd\n",
    "from pandas import DataFrame\n",
    "from typing import Tuple\n",
    "\n",
    "# Load the data\n",
    "cities = pd.read_csv('world/world/CITY.csv')\n",
    "countries = pd.read_csv('world/world/COUNTRY.csv')\n",
    "languages = pd.read_csv('world/world/LANGUAGE.csv')\n",
    "\n",
    "# cities.head(3)\n",
    "# countries.head(3)\n",
    "languages.head(3)\n",
    "languages.info()"
   ]
  },
  {
   "cell_type": "markdown",
   "metadata": {},
   "source": [
    "## ¿Cuál es el promedio de población para el conjunto de países analizados?"
   ]
  },
  {
   "cell_type": "code",
   "execution_count": 55,
   "metadata": {},
   "outputs": [
    {
     "name": "stdout",
     "output_type": "stream",
     "text": [
      "Promedio de población por país: 25434098.11715481\n"
     ]
    }
   ],
   "source": [
    "def get_countries_avg_population(countries: DataFrame = None) -> float:\n",
    "    \"\"\"\n",
    "    Calculate the average population of countries.\n",
    "\n",
    "    Parameters:\n",
    "    - countries (DataFrame): A DataFrame containing country data.\n",
    "    \n",
    "    Returns:\n",
    "    - float: The average population of countries.\n",
    "    \"\"\"\n",
    "\n",
    "    # If countries is not provided, load the data\n",
    "    if countries is None:\n",
    "        countries = pd.read_csv('world/world/COUNTRY.csv')\n",
    "\n",
    "    return countries['Population'].mean()\n",
    "\n",
    "if __name__ == '__main__':\n",
    "    print(f\"Promedio de población por país: {get_countries_avg_population()}\")"
   ]
  },
  {
   "cell_type": "markdown",
   "metadata": {},
   "source": [
    "## ¿Cuál es el país más pequeño?"
   ]
  },
  {
   "cell_type": "code",
   "execution_count": 56,
   "metadata": {},
   "outputs": [
    {
     "name": "stdout",
     "output_type": "stream",
     "text": [
      "País con menor superficie: Holy See (Vatican City State)\n"
     ]
    }
   ],
   "source": [
    "# If we talk amount SurfaceArea, the smallest country is...\n",
    "\n",
    "def get_smallest_country(countries: DataFrame = None) -> str:\n",
    "    \"\"\"\n",
    "    Returns the name of the smallest country based on surface area.\n",
    "\n",
    "    Parameters:\n",
    "    countries (DataFrame): A DataFrame containing information about countries.\n",
    "    \n",
    "    Returns:\n",
    "    str: The name of the smallest country based on surface area.\n",
    "    \"\"\"\n",
    "\n",
    "    # If countries is not provided, load the data\n",
    "    if countries is None:\n",
    "        countries = pd.read_csv('world/world/COUNTRY.csv')\n",
    "        \n",
    "    return countries[countries['SurfaceArea'] == countries['SurfaceArea'].min()]['Name'].values[0]\n",
    "\n",
    "if __name__ == '__main__':\n",
    "    print(f\"País con menor superficie: {get_smallest_country()}\")"
   ]
  },
  {
   "cell_type": "markdown",
   "metadata": {},
   "source": [
    "## ¿Cuál es el valor máximo de la expectativa de vida?"
   ]
  },
  {
   "cell_type": "code",
   "execution_count": 57,
   "metadata": {},
   "outputs": [
    {
     "name": "stdout",
     "output_type": "stream",
     "text": [
      "La mayor esperanza de vida es: 83.5\n",
      "En el país de: Andorra\n"
     ]
    }
   ],
   "source": [
    "def get_max_life_expectancy(countries: DataFrame = countries) -> Tuple:\n",
    "    \"\"\"\n",
    "    Get the maximum life expectancy and the corresponding country.\n",
    "\n",
    "    Parameters:\n",
    "    countries (DataFrame): A DataFrame containing information about countries.\n",
    "    \n",
    "    Returns:\n",
    "    tuple: A tuple containing the maximum life expectancy and the corresponding country.\n",
    "    \"\"\"\n",
    "\n",
    "    # If countries is not provided, load the data\n",
    "    if countries is None:\n",
    "        countries = pd.read_csv('world/world/COUNTRY.csv')\n",
    "\n",
    "    lifespan = countries[countries['LifeExpectancy'] == countries['LifeExpectancy'].max()]['LifeExpectancy'].values[0]\n",
    "    country = countries[countries['LifeExpectancy'] == countries['LifeExpectancy'].max()]['Name'].values[0]\n",
    "\n",
    "    return (lifespan, country)\n",
    "\n",
    "if __name__ == '__main__':\n",
    "    l, c = get_max_life_expectancy()\n",
    "    print(f\"La mayor esperanza de vida es: {l}\\nEn el país de: {c}\")"
   ]
  },
  {
   "cell_type": "markdown",
   "metadata": {},
   "source": [
    "## ¿Qué países pertenecen a la región de América Central?"
   ]
  },
  {
   "cell_type": "code",
   "execution_count": 58,
   "metadata": {},
   "outputs": [
    {
     "name": "stdout",
     "output_type": "stream",
     "text": [
      "Países en la región de América Central (8):\n",
      "Belize\n",
      "Costa Rica\n",
      "Guatemala\n",
      "Honduras\n",
      "Mexico\n",
      "Nicaragua\n",
      "Panama\n",
      "El Salvador\n"
     ]
    }
   ],
   "source": [
    "def get_countries_by_region(countries: DataFrame = None, region: str = 'Central America') -> DataFrame:\n",
    "    \"\"\"\n",
    "    Get a DataFrame of countries in each region.\n",
    "\n",
    "    Parameters:\n",
    "    countries (DataFrame): A DataFrame containing information about countries.\n",
    "    region (str): The region to filter by.\n",
    "    \n",
    "    Returns:\n",
    "    DataFrame: A DataFrame containing the names of countries in each region.\n",
    "    \"\"\"\n",
    "    # If countries is not provided, load the data\n",
    "    if countries is None:\n",
    "        countries = pd.read_csv('world/world/COUNTRY.csv')\n",
    "\n",
    "    return countries[countries['Region'] == region]['Name'].values[:]\n",
    "\n",
    "if __name__ == '__main__':\n",
    "    finds = get_countries_by_region()\n",
    "    print(f\"Países en la región de América Central ({len(finds)}):\")\n",
    "    for country in finds:\n",
    "        print(country)"
   ]
  },
  {
   "cell_type": "markdown",
   "metadata": {},
   "source": [
    "## ¿Qué ciudades de México tienen más de un millón de habitantes?"
   ]
  },
  {
   "cell_type": "code",
   "execution_count": 64,
   "metadata": {},
   "outputs": [
    {
     "name": "stdout",
     "output_type": "stream",
     "text": [
      "Ciudades más pobladas de México (10):\n",
      "Ciudad de México\n",
      "Guadalajara\n",
      "Ecatepec de Morelos\n",
      "Puebla\n",
      "Nezahualcóyotl\n",
      "Juárez\n",
      "Tijuana\n",
      "León\n",
      "Monterrey\n",
      "Zapopan\n"
     ]
    }
   ],
   "source": [
    "def get_most_populated_cities(cities: DataFrame = None, country_code: str = 'MEX') -> DataFrame:\n",
    "    \"\"\"\n",
    "    Retrieves the most populated cities in a given country.\n",
    "    \n",
    "    Parameters:\n",
    "    - cities (DataFrame, optional): DataFrame containing city data. If not provided, the data will be loaded from 'world/world/CITY.csv'.\n",
    "    - country_code (str, default='MEX'): Country code to filter the cities.\n",
    "    \n",
    "    Returns:\n",
    "    - DataFrame: DataFrame containing the names of the most populated cities in the specified country.\n",
    "    \"\"\"\n",
    "    \n",
    "    # If cities is not provided, load the data\n",
    "    if cities is None:\n",
    "        cities = pd.read_csv('world/world/CITY.csv')\n",
    "\n",
    "    population_umbral = 1000000\n",
    "    return cities[(cities['CountryCode'] == country_code) & (cities['Population'] > population_umbral)]['Name'].values[:]\n",
    "\n",
    "if __name__ == '__main__':\n",
    "    finds = get_most_populated_cities()\n",
    "    print(f\"Ciudades más pobladas de México ({len(finds)}):\")\n",
    "    for city in finds:\n",
    "        print(city)\n"
   ]
  },
  {
   "cell_type": "markdown",
   "metadata": {},
   "source": [
    "## ¿Qué lenguas no oficiales se hablan en México?"
   ]
  },
  {
   "cell_type": "code",
   "execution_count": 71,
   "metadata": {},
   "outputs": [
    {
     "name": "stdout",
     "output_type": "stream",
     "text": [
      "Idiomas no oficiales en México (5):\n",
      "Mixtec\n",
      "Náhuatl\n",
      "Otomí\n",
      "Yucatec\n",
      "Zapotec\n"
     ]
    }
   ],
   "source": [
    "def get_non_oficial_languages(languages: DataFrame = None, contryCode: str = 'MEX') -> DataFrame:\n",
    "    \"\"\"\n",
    "    Retrieves the non-official languages spoken in a specific country.\n",
    "\n",
    "    Parameters:\n",
    "    - languages (DataFrame, optional): DataFrame containing language data. If not provided, the function will load the data from 'world/world/LANGUAGE.csv'.\n",
    "    - contryCode (str, default: 'MEX'): Country code for which the non-official languages are to be retrieved.\n",
    "    \n",
    "    Returns:\n",
    "    - DataFrame: DataFrame containing the non-official languages spoken in the specified country.\n",
    "    \"\"\"\n",
    "    \n",
    "\n",
    "    # If languages is not provided, load the data\n",
    "    if languages is None:\n",
    "        languages = pd.read_csv('world/world/LANGUAGE.csv')\n",
    "\n",
    "    return languages[(languages['IsOfficial'] == 'F') & (languages['CountryCode'] == contryCode)]['Language'].values[:]\n",
    "\n",
    "if __name__ == '__main__':\n",
    "    finds = get_non_oficial_languages()\n",
    "    \n",
    "    print(f\"Idiomas no oficiales en México ({len(finds)}):\")\n",
    "    for language in finds:\n",
    "        print(language)"
   ]
  }
 ],
 "metadata": {
  "kernelspec": {
   "display_name": ".venv",
   "language": "python",
   "name": "python3"
  },
  "language_info": {
   "codemirror_mode": {
    "name": "ipython",
    "version": 3
   },
   "file_extension": ".py",
   "mimetype": "text/x-python",
   "name": "python",
   "nbconvert_exporter": "python",
   "pygments_lexer": "ipython3",
   "version": "3.11.9"
  }
 },
 "nbformat": 4,
 "nbformat_minor": 2
}
