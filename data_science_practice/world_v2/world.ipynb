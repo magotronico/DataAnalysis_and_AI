{
 "cells": [
  {
   "cell_type": "markdown",
   "metadata": {},
   "source": [
    "# Actividad de aprendizaje - Análisis de datos con Pandas [ individual ]\n",
    "Name: Dilan González Castañeda | student_id: A00831905\n",
    "\n",
    "This notebook aims to resolve a set of instructions in order to practice as part of an assigment.\n",
    "\n",
    "To make this notebook professional, I will use PEP 8, PEP  484 and PEP 257.\n",
    "\n",
    "*Note: This notebook was created in VS Code locally, so the paths should be change if you want to test it out of this notebook.*"
   ]
  },
  {
   "cell_type": "markdown",
   "metadata": {},
   "source": [
    "## Cargar los datos"
   ]
  },
  {
   "cell_type": "code",
   "execution_count": 29,
   "metadata": {},
   "outputs": [],
   "source": [
    "import pandas as pd # type: ignore\n",
    "from pandas import DataFrame # type: ignore\n",
    "from typing import Tuple\n",
    "\n",
    "# Load the data\n",
    "cities = pd.read_csv('world/CITY.csv')\n",
    "countries = pd.read_csv('world/COUNTRY.csv')\n",
    "languages = pd.read_csv('world/LANGUAGE.csv')"
   ]
  },
  {
   "cell_type": "markdown",
   "metadata": {},
   "source": [
    "## Preprocesamiento de datos"
   ]
  },
  {
   "cell_type": "markdown",
   "metadata": {},
   "source": [
    "### Valores Faltantes\n",
    "Obtengan un resumen de los valores faltantes por columna"
   ]
  },
  {
   "cell_type": "code",
   "execution_count": 30,
   "metadata": {},
   "outputs": [
    {
     "name": "stdout",
     "output_type": "stream",
     "text": [
      "Cities information\n",
      "<class 'pandas.core.frame.DataFrame'>\n",
      "RangeIndex: 4079 entries, 0 to 4078\n",
      "Data columns (total 5 columns):\n",
      " #   Column       Non-Null Count  Dtype \n",
      "---  ------       --------------  ----- \n",
      " 0   ID           4079 non-null   int64 \n",
      " 1   Name         4079 non-null   object\n",
      " 2   CountryCode  4079 non-null   object\n",
      " 3   District     4075 non-null   object\n",
      " 4   Population   4079 non-null   int64 \n",
      "dtypes: int64(2), object(3)\n",
      "memory usage: 159.5+ KB\n",
      "\n",
      "Countries information\n",
      "<class 'pandas.core.frame.DataFrame'>\n",
      "RangeIndex: 239 entries, 0 to 238\n",
      "Data columns (total 13 columns):\n",
      " #   Column          Non-Null Count  Dtype  \n",
      "---  ------          --------------  -----  \n",
      " 0   Code            239 non-null    object \n",
      " 1   Name            239 non-null    object \n",
      " 2   Continent       239 non-null    object \n",
      " 3   Region          239 non-null    object \n",
      " 4   SurfaceArea     239 non-null    float64\n",
      " 5   IndepYear       192 non-null    float64\n",
      " 6   Population      239 non-null    int64  \n",
      " 7   LifeExpectancy  222 non-null    float64\n",
      " 8   GNP             239 non-null    float64\n",
      " 9   GNPOld          178 non-null    float64\n",
      " 10  LocalName       239 non-null    object \n",
      " 11  GovernmentForm  239 non-null    object \n",
      " 12  Capital         232 non-null    float64\n",
      "dtypes: float64(6), int64(1), object(6)\n",
      "memory usage: 24.4+ KB\n",
      "\n",
      "Languages information\n",
      "<class 'pandas.core.frame.DataFrame'>\n",
      "RangeIndex: 984 entries, 0 to 983\n",
      "Data columns (total 4 columns):\n",
      " #   Column       Non-Null Count  Dtype  \n",
      "---  ------       --------------  -----  \n",
      " 0   CountryCode  984 non-null    object \n",
      " 1   Language     984 non-null    object \n",
      " 2   IsOfficial   984 non-null    object \n",
      " 3   Percentage   984 non-null    float64\n",
      "dtypes: float64(1), object(3)\n",
      "memory usage: 30.9+ KB\n"
     ]
    }
   ],
   "source": [
    "# Display the data\n",
    "print(\"Cities information\")\n",
    "cities.info()\n",
    "print(\"\\nCountries information\")\n",
    "countries.info()\n",
    "print(\"\\nLanguages information\")\n",
    "languages.info()"
   ]
  },
  {
   "cell_type": "markdown",
   "metadata": {},
   "source": [
    "### Eliminar Valores NaN\n",
    "Del dataframe country, eliminen los registros que tengan NaN en la columna Capital"
   ]
  },
  {
   "cell_type": "code",
   "execution_count": 31,
   "metadata": {},
   "outputs": [
    {
     "name": "stdout",
     "output_type": "stream",
     "text": [
      "<class 'pandas.core.frame.DataFrame'>\n",
      "Index: 232 entries, 0 to 238\n",
      "Data columns (total 13 columns):\n",
      " #   Column          Non-Null Count  Dtype  \n",
      "---  ------          --------------  -----  \n",
      " 0   Code            232 non-null    object \n",
      " 1   Name            232 non-null    object \n",
      " 2   Continent       232 non-null    object \n",
      " 3   Region          232 non-null    object \n",
      " 4   SurfaceArea     232 non-null    float64\n",
      " 5   IndepYear       192 non-null    float64\n",
      " 6   Population      232 non-null    int64  \n",
      " 7   LifeExpectancy  222 non-null    float64\n",
      " 8   GNP             232 non-null    float64\n",
      " 9   GNPOld          178 non-null    float64\n",
      " 10  LocalName       232 non-null    object \n",
      " 11  GovernmentForm  232 non-null    object \n",
      " 12  Capital         232 non-null    float64\n",
      "dtypes: float64(6), int64(1), object(6)\n",
      "memory usage: 25.4+ KB\n"
     ]
    }
   ],
   "source": [
    "countries = countries[~countries['Capital'].isnull()]\n",
    "\n",
    "countries.info()"
   ]
  },
  {
   "cell_type": "markdown",
   "metadata": {},
   "source": [
    "### Metodos de Imputacion"
   ]
  },
  {
   "cell_type": "markdown",
   "metadata": {},
   "source": [
    "Para imputar los datos faltantes, primero señalaremos las columnas y los tipos de datos que faltan:\n",
    "1. Cities:\n",
    "    * 4 en 'District' -> str\n",
    "2. Countries:\n",
    "    * 40 en 'IndepYear' -> int\n",
    "    * 10 en 'LifeExpectancy' -> float64\n",
    "    * 54 en 'GNPOld' -> int\n",
    "3. Language:\n",
    "    * No hay faltantes"
   ]
  },
  {
   "cell_type": "code",
   "execution_count": null,
   "metadata": {},
   "outputs": [],
   "source": []
  },
  {
   "cell_type": "markdown",
   "metadata": {},
   "source": [
    "### Duplicados\n",
    "Identifiquen si hay países repetidos en el dataframe countries, o ciudades y lenguas duplicadas para un mismo país."
   ]
  },
  {
   "cell_type": "code",
   "execution_count": 32,
   "metadata": {},
   "outputs": [],
   "source": [
    "countries.drop_duplicates(subset=['Name', 'Code'], inplace=True)\n",
    "cities.drop_duplicates(subset=['Name'], inplace=True)\n",
    "languages.drop_duplicates(subset=['CountryCode'], inplace=True)"
   ]
  },
  {
   "cell_type": "markdown",
   "metadata": {},
   "source": [
    "### Join tables\n",
    "Analicen las columnas de los tres dataframes que conforman el conjunto, para encontrar claves.\n",
    "\n",
    "La columna en comun en los 3 csv son: \n",
    "1. CITY - CountryCode\n",
    "2. COUNTRY - Code\n",
    "3. LANGUAGE - \"CountryCode\"\n",
    "\n",
    "Antes de unir las tablas, hay que modificar la columna de LANGUAGE porque todos los valores estan entre comillas dobles y debemos eliminarlas."
   ]
  },
  {
   "cell_type": "code",
   "execution_count": 34,
   "metadata": {},
   "outputs": [
    {
     "name": "stdout",
     "output_type": "stream",
     "text": [
      "<class 'pandas.core.frame.DataFrame'>\n",
      "RangeIndex: 4001 entries, 0 to 4000\n",
      "Data columns (total 20 columns):\n",
      " #   Column          Non-Null Count  Dtype  \n",
      "---  ------          --------------  -----  \n",
      " 0   CountryCode     4001 non-null   object \n",
      " 1   Name_x          4001 non-null   object \n",
      " 2   Continent       4001 non-null   object \n",
      " 3   Region          4001 non-null   object \n",
      " 4   SurfaceArea     4001 non-null   float64\n",
      " 5   IndepYear       3943 non-null   float64\n",
      " 6   Population_x    4001 non-null   int64  \n",
      " 7   LifeExpectancy  3991 non-null   float64\n",
      " 8   GNP             4001 non-null   float64\n",
      " 9   GNPOld          3870 non-null   float64\n",
      " 10  LocalName       4001 non-null   object \n",
      " 11  GovernmentForm  4001 non-null   object \n",
      " 12  Capital         4001 non-null   float64\n",
      " 13  ID              4001 non-null   int64  \n",
      " 14  Name_y          4001 non-null   object \n",
      " 15  District        3998 non-null   object \n",
      " 16  Population_y    4001 non-null   int64  \n",
      " 17  Language        4001 non-null   object \n",
      " 18  IsOfficial      4001 non-null   object \n",
      " 19  Percentage      4001 non-null   float64\n",
      "dtypes: float64(7), int64(3), object(10)\n",
      "memory usage: 625.3+ KB\n"
     ]
    },
    {
     "data": {
      "text/html": [
       "<div>\n",
       "<style scoped>\n",
       "    .dataframe tbody tr th:only-of-type {\n",
       "        vertical-align: middle;\n",
       "    }\n",
       "\n",
       "    .dataframe tbody tr th {\n",
       "        vertical-align: top;\n",
       "    }\n",
       "\n",
       "    .dataframe thead th {\n",
       "        text-align: right;\n",
       "    }\n",
       "</style>\n",
       "<table border=\"1\" class=\"dataframe\">\n",
       "  <thead>\n",
       "    <tr style=\"text-align: right;\">\n",
       "      <th></th>\n",
       "      <th>CountryCode</th>\n",
       "      <th>Name_x</th>\n",
       "      <th>Continent</th>\n",
       "      <th>Region</th>\n",
       "      <th>SurfaceArea</th>\n",
       "      <th>IndepYear</th>\n",
       "      <th>Population_x</th>\n",
       "      <th>LifeExpectancy</th>\n",
       "      <th>GNP</th>\n",
       "      <th>GNPOld</th>\n",
       "      <th>LocalName</th>\n",
       "      <th>GovernmentForm</th>\n",
       "      <th>Capital</th>\n",
       "      <th>ID</th>\n",
       "      <th>Name_y</th>\n",
       "      <th>District</th>\n",
       "      <th>Population_y</th>\n",
       "      <th>Language</th>\n",
       "      <th>IsOfficial</th>\n",
       "      <th>Percentage</th>\n",
       "    </tr>\n",
       "  </thead>\n",
       "  <tbody>\n",
       "    <tr>\n",
       "      <th>918</th>\n",
       "      <td>COL</td>\n",
       "      <td>Colombia</td>\n",
       "      <td>South America</td>\n",
       "      <td>South America</td>\n",
       "      <td>1138914.0</td>\n",
       "      <td>1810.0</td>\n",
       "      <td>42321000</td>\n",
       "      <td>70.3</td>\n",
       "      <td>102896.0</td>\n",
       "      <td>105116.0</td>\n",
       "      <td>Colombia</td>\n",
       "      <td>Republic</td>\n",
       "      <td>2257.0</td>\n",
       "      <td>2260</td>\n",
       "      <td>Barranquilla</td>\n",
       "      <td>Atlántico</td>\n",
       "      <td>1223260</td>\n",
       "      <td>Arawakan</td>\n",
       "      <td>F</td>\n",
       "      <td>0.1</td>\n",
       "    </tr>\n",
       "    <tr>\n",
       "      <th>891</th>\n",
       "      <td>CMR</td>\n",
       "      <td>Cameroon</td>\n",
       "      <td>Africa</td>\n",
       "      <td>Central Africa</td>\n",
       "      <td>475442.0</td>\n",
       "      <td>1960.0</td>\n",
       "      <td>15085000</td>\n",
       "      <td>54.8</td>\n",
       "      <td>9174.0</td>\n",
       "      <td>8596.0</td>\n",
       "      <td>Cameroun/Cameroon</td>\n",
       "      <td>Republic</td>\n",
       "      <td>1804.0</td>\n",
       "      <td>1807</td>\n",
       "      <td>Bamenda</td>\n",
       "      <td>Nord-Ouest</td>\n",
       "      <td>138000</td>\n",
       "      <td>Bamileke-bamum</td>\n",
       "      <td>F</td>\n",
       "      <td>18.6</td>\n",
       "    </tr>\n",
       "    <tr>\n",
       "      <th>412</th>\n",
       "      <td>BRA</td>\n",
       "      <td>Brazil</td>\n",
       "      <td>South America</td>\n",
       "      <td>South America</td>\n",
       "      <td>8547403.0</td>\n",
       "      <td>1822.0</td>\n",
       "      <td>170115000</td>\n",
       "      <td>62.9</td>\n",
       "      <td>776739.0</td>\n",
       "      <td>804108.0</td>\n",
       "      <td>Brasil</td>\n",
       "      <td>Federal Republic</td>\n",
       "      <td>211.0</td>\n",
       "      <td>428</td>\n",
       "      <td>Sertãozinho</td>\n",
       "      <td>São Paulo</td>\n",
       "      <td>98140</td>\n",
       "      <td>German</td>\n",
       "      <td>F</td>\n",
       "      <td>0.5</td>\n",
       "    </tr>\n",
       "  </tbody>\n",
       "</table>\n",
       "</div>"
      ],
      "text/plain": [
       "    CountryCode    Name_x      Continent          Region  SurfaceArea  \\\n",
       "918         COL  Colombia  South America   South America    1138914.0   \n",
       "891         CMR  Cameroon         Africa  Central Africa     475442.0   \n",
       "412         BRA    Brazil  South America   South America    8547403.0   \n",
       "\n",
       "     IndepYear  Population_x  LifeExpectancy       GNP    GNPOld  \\\n",
       "918     1810.0      42321000            70.3  102896.0  105116.0   \n",
       "891     1960.0      15085000            54.8    9174.0    8596.0   \n",
       "412     1822.0     170115000            62.9  776739.0  804108.0   \n",
       "\n",
       "             LocalName    GovernmentForm  Capital    ID        Name_y  \\\n",
       "918           Colombia          Republic   2257.0  2260  Barranquilla   \n",
       "891  Cameroun/Cameroon          Republic   1804.0  1807       Bamenda   \n",
       "412             Brasil  Federal Republic    211.0   428   Sertãozinho   \n",
       "\n",
       "       District  Population_y        Language IsOfficial  Percentage  \n",
       "918   Atlántico       1223260        Arawakan          F         0.1  \n",
       "891  Nord-Ouest        138000  Bamileke-bamum          F        18.6  \n",
       "412   São Paulo         98140          German          F         0.5  "
      ]
     },
     "execution_count": 34,
     "metadata": {},
     "output_type": "execute_result"
    }
   ],
   "source": [
    "# Estandarizar la columna de LANGUAGE CountryCode\n",
    "languages.rename(columns={'\"CountryCode\"': 'CountryCode'}, inplace=True)\n",
    "countries.rename(columns={'Code': 'CountryCode'}, inplace=True)\n",
    "languages['CountryCode'] = languages['CountryCode'].apply(lambda x: x.upper().replace('\"', ''))\n",
    "\n",
    "# Merge the data\n",
    "# First, merge languages and countries on 'CountryCode'\n",
    "merged_df = pd.merge(countries, cities, on='CountryCode')\n",
    "\n",
    "# Then, merge the result with another_df on 'CountryCode'\n",
    "merged_df = pd.merge(merged_df, languages, on='CountryCode')\n",
    "merged_df.info()\n",
    "merged_df.sample(3)\n",
    "\n"
   ]
  },
  {
   "cell_type": "markdown",
   "metadata": {},
   "source": [
    "## ¿Cuál es la población total por continente?"
   ]
  },
  {
   "cell_type": "code",
   "execution_count": null,
   "metadata": {},
   "outputs": [],
   "source": []
  },
  {
   "cell_type": "markdown",
   "metadata": {},
   "source": [
    "## ¿Cuál es el promedio de la expectativa de vida por continente?"
   ]
  },
  {
   "cell_type": "code",
   "execution_count": null,
   "metadata": {},
   "outputs": [],
   "source": []
  },
  {
   "cell_type": "markdown",
   "metadata": {},
   "source": [
    "## ¿Cuál fue el primer país en independizarse por continente?"
   ]
  },
  {
   "cell_type": "code",
   "execution_count": null,
   "metadata": {},
   "outputs": [],
   "source": []
  },
  {
   "cell_type": "markdown",
   "metadata": {},
   "source": [
    "## ¿Cuántas ciudades hay por país en Europa Oriental?"
   ]
  },
  {
   "cell_type": "code",
   "execution_count": null,
   "metadata": {},
   "outputs": [],
   "source": []
  },
  {
   "cell_type": "markdown",
   "metadata": {},
   "source": [
    "## ¿Cuántas lenguas se hablan por región en Asia?"
   ]
  },
  {
   "cell_type": "code",
   "execution_count": null,
   "metadata": {},
   "outputs": [],
   "source": []
  },
  {
   "cell_type": "markdown",
   "metadata": {},
   "source": [
    "## ¿Cuál es la ciudad más poblada por región en África?"
   ]
  },
  {
   "cell_type": "code",
   "execution_count": null,
   "metadata": {},
   "outputs": [],
   "source": []
  }
 ],
 "metadata": {
  "kernelspec": {
   "display_name": ".venv",
   "language": "python",
   "name": "python3"
  },
  "language_info": {
   "codemirror_mode": {
    "name": "ipython",
    "version": 3
   },
   "file_extension": ".py",
   "mimetype": "text/x-python",
   "name": "python",
   "nbconvert_exporter": "python",
   "pygments_lexer": "ipython3",
   "version": "3.11.9"
  }
 },
 "nbformat": 4,
 "nbformat_minor": 2
}
