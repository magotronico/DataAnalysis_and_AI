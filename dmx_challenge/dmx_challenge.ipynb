{
  "nbformat": 4,
  "nbformat_minor": 0,
  "metadata": {
    "colab": {
      "provenance": [],
      "collapsed_sections": [
        "pHKXiQx1Mw-x",
        "Zu1Fgv3aNPeJ",
        "FgagX-RNQodR",
        "fRFSm4hwWQmz",
        "4ogJwTT4WIIA",
        "ac8cer1uB6C_",
        "b5JsVt48QkZJ",
        "82jiwLAvjpHM",
        "8z8wBrg1milB",
        "Nm9Flvh4O7HW",
        "rIMqjGlfQ-to",
        "DfrvCOTQPymA",
        "39W42C1UTrjc"
      ],
      "toc_visible": true,
      "include_colab_link": true
    },
    "kernelspec": {
      "name": "python3",
      "display_name": "Python 3"
    },
    "language_info": {
      "name": "python"
    }
  },
  "cells": [
    {
      "cell_type": "markdown",
      "metadata": {
        "id": "view-in-github",
        "colab_type": "text"
      },
      "source": [
        "<a href=\"https://colab.research.google.com/github/magotronico/DataAnalysis_and_AI/blob/main/dmx_challenge/dmx_challenge.ipynb\" target=\"_parent\"><img src=\"https://colab.research.google.com/assets/colab-badge.svg\" alt=\"Open In Colab\"/></a>"
      ]
    },
    {
      "cell_type": "markdown",
      "source": [
        "# DmX Challenge: Company Policies to Maximize Branch Income\n"
      ],
      "metadata": {
        "id": "-jKdHAwH-yhp"
      }
    },
    {
      "cell_type": "markdown",
      "source": [
        "**Overview**\n",
        "\n",
        "This notebook is designed to analyze the efficiency of each branch and its associated salesmen using the data provided by DmX. The primary goal of this analysis is to extract valuable insights that can help in assessing and improving operational performance across different branches.\n",
        "\n",
        "**Process**\n",
        "\n",
        "This project involves implementing an **ETL (Extract, Transform, Load) pipeline**. The pipeline is responsible for:\n",
        "\n",
        "1.   **Extracting** the raw data from CSV files.\n",
        "2.   **Transforming** the data into a structured and insightful format.\n",
        "3.   **Loading** the processed data back into CSV files for further analysis or reporting.\n",
        "\n",
        "By the end of this notebook, you'll have a clear understanding of how each branch and salesman perform, allowing for data-driven decision-making to enhance overall efficiency.\n",
        "\n",
        "\n",
        "\n",
        "---\n",
        "Instituto Tecnológico y de Estudios Superiores de Monterrey\n",
        "\n",
        "Analítica de datos y herramientas de inteligencia artificial TI3001C.103\n",
        "\n",
        "Profesor: Enrique Ricardo García Hernández\n",
        "\n",
        "Equipo 2:\n",
        "*   Dilan González Castañeda A00831905\n",
        "*   Karim Omar Martínez Bazaldúa A00832999\n",
        "\n"
      ],
      "metadata": {
        "id": "CpGs-QRrDTZL"
      }
    },
    {
      "cell_type": "markdown",
      "source": [
        "## Extract\n"
      ],
      "metadata": {
        "id": "pHKXiQx1Mw-x"
      }
    },
    {
      "cell_type": "markdown",
      "source": [
        "**Data Overview**\n",
        "\n",
        "DmX provided an `.xlsx` file containing financial data for the previous 12 months and the current month. The dataset includes the following categories:\n",
        "\n",
        "*   **Saldo Insoluto:** The outstanding balance of loans or credits that have not yet been paid off.\n",
        "*   **Saldo Insoluto Vencido:** The overdue portion of the outstanding balance that has not been paid by the due date in 12 months.\n",
        "Pago Anticipado: The amount of money that has been paid ahead of schedule.\n",
        "*   **Capital Liquidado:** The amount of capital that has been fully paid off.\n",
        "*   **Capital Dispersado:** The amount of capital that has been distributed by the company.\n",
        "*   **Quitas:** A reduction in the debt amount negotiated with the client when full recovery is unlikely.\n",
        "*   **Castigos:** The formal recognition of uncollectible debt that is written off the financial records.\n",
        "\n",
        "The `.xlsx `file was not structured in a way that was easily compatible with Python and pandas. Therefore, we converted the file to .csv format to facilitate data analysis and manipulation."
      ],
      "metadata": {
        "id": "B8BwhfjjEaJ_"
      }
    },
    {
      "cell_type": "code",
      "source": [
        "%pip install unidecode\n",
        "%pip install matplotlib"
      ],
      "metadata": {
        "colab": {
          "base_uri": "https://localhost:8080/"
        },
        "collapsed": true,
        "id": "n-xrD2_kCf8P",
        "outputId": "5fc601aa-66d8-49d9-9a83-3c75d9aed0eb"
      },
      "execution_count": null,
      "outputs": [
        {
          "output_type": "stream",
          "name": "stdout",
          "text": [
            "Collecting unidecode\n",
            "  Downloading Unidecode-1.3.8-py3-none-any.whl.metadata (13 kB)\n",
            "Downloading Unidecode-1.3.8-py3-none-any.whl (235 kB)\n",
            "\u001b[?25l   \u001b[90m━━━━━━━━━━━━━━━━━━━━━━━━━━━━━━━━━━━━━━━━\u001b[0m \u001b[32m0.0/235.5 kB\u001b[0m \u001b[31m?\u001b[0m eta \u001b[36m-:--:--\u001b[0m\r\u001b[2K   \u001b[90m━━━━━━━━━━━━━━━━━━━━━━━━━━━━━━━━━━━━━━━━\u001b[0m \u001b[32m235.5/235.5 kB\u001b[0m \u001b[31m13.2 MB/s\u001b[0m eta \u001b[36m0:00:00\u001b[0m\n",
            "\u001b[?25hInstalling collected packages: unidecode\n",
            "Successfully installed unidecode-1.3.8\n",
            "Requirement already satisfied: matplotlib in /usr/local/lib/python3.10/dist-packages (3.7.1)\n",
            "Requirement already satisfied: contourpy>=1.0.1 in /usr/local/lib/python3.10/dist-packages (from matplotlib) (1.2.1)\n",
            "Requirement already satisfied: cycler>=0.10 in /usr/local/lib/python3.10/dist-packages (from matplotlib) (0.12.1)\n",
            "Requirement already satisfied: fonttools>=4.22.0 in /usr/local/lib/python3.10/dist-packages (from matplotlib) (4.53.1)\n",
            "Requirement already satisfied: kiwisolver>=1.0.1 in /usr/local/lib/python3.10/dist-packages (from matplotlib) (1.4.5)\n",
            "Requirement already satisfied: numpy>=1.20 in /usr/local/lib/python3.10/dist-packages (from matplotlib) (1.26.4)\n",
            "Requirement already satisfied: packaging>=20.0 in /usr/local/lib/python3.10/dist-packages (from matplotlib) (24.1)\n",
            "Requirement already satisfied: pillow>=6.2.0 in /usr/local/lib/python3.10/dist-packages (from matplotlib) (9.4.0)\n",
            "Requirement already satisfied: pyparsing>=2.3.1 in /usr/local/lib/python3.10/dist-packages (from matplotlib) (3.1.2)\n",
            "Requirement already satisfied: python-dateutil>=2.7 in /usr/local/lib/python3.10/dist-packages (from matplotlib) (2.8.2)\n",
            "Requirement already satisfied: six>=1.5 in /usr/local/lib/python3.10/dist-packages (from python-dateutil>=2.7->matplotlib) (1.16.0)\n"
          ]
        }
      ]
    },
    {
      "cell_type": "code",
      "execution_count": null,
      "metadata": {
        "id": "w5lmZH8TafNz"
      },
      "outputs": [],
      "source": [
        "import pandas as pd\n",
        "import numpy as np\n",
        "from unidecode import unidecode\n",
        "import matplotlib.pyplot as plt\n",
        "import os\n",
        "import seaborn as sns\n",
        "\n",
        "file_name = '/content/Indicadores_reto_AD24.csv'"
      ]
    },
    {
      "cell_type": "code",
      "source": [
        "# Load original DataBase (csv)\n",
        "df = pd.read_csv(file_name, encoding='utf-8')\n",
        "df.head(3)\n",
        "df.info()"
      ],
      "metadata": {
        "colab": {
          "base_uri": "https://localhost:8080/"
        },
        "id": "7fIfgrF4a3aN",
        "outputId": "7c56207a-fcf3-4c83-d62a-b083226fdba8",
        "collapsed": true
      },
      "execution_count": null,
      "outputs": [
        {
          "output_type": "stream",
          "name": "stdout",
          "text": [
            "<class 'pandas.core.frame.DataFrame'>\n",
            "RangeIndex: 10322 entries, 0 to 10321\n",
            "Columns: 181 entries, Región to Quitas Actual\n",
            "dtypes: float64(167), object(14)\n",
            "memory usage: 14.3+ MB\n"
          ]
        }
      ]
    },
    {
      "cell_type": "markdown",
      "source": [
        "## Transform\n"
      ],
      "metadata": {
        "id": "Zu1Fgv3aNPeJ"
      }
    },
    {
      "cell_type": "markdown",
      "source": [
        "### Drop empty column and Columns Standardization"
      ],
      "metadata": {
        "id": "14XbrQo7MBXs"
      }
    },
    {
      "cell_type": "code",
      "source": [
        "# Original DB includes an empty column\n",
        "df.drop(columns=['Unnamed: 2'], inplace=True)\n",
        "\n",
        "# The column region in reality includes sucursales so it need to be renamed\n",
        "df.rename(columns={'Región': 'sucursal'}, inplace=True)\n",
        "df['sucursal'] = df['sucursal'].apply(unidecode)\n",
        "df.head()"
      ],
      "metadata": {
        "colab": {
          "base_uri": "https://localhost:8080/",
          "height": 357
        },
        "collapsed": true,
        "id": "ZqnZXuGcwmWz",
        "outputId": "839b1bd7-305b-4708-d5e8-07c07e829ee1"
      },
      "execution_count": null,
      "outputs": [
        {
          "output_type": "execute_result",
          "data": {
            "text/plain": [
              "            sucursal  Vendedor  Saldo Insoluto T-12  Saldo Insoluto T-11  \\\n",
              "0  Centro Metropolis  MAA_6289                  NaN                  NaN   \n",
              "1  Centro Metropolis       NaN                  0.0                  0.0   \n",
              "2     Conexion Magna  MAG_7191                  0.0                  0.0   \n",
              "3     Conexion Magna       NaN                  0.0                  0.0   \n",
              "4       Enlace Regio  ALM_0607                  NaN                  NaN   \n",
              "\n",
              "   Saldo Insoluto T-10  Saldo Insoluto T-09  Saldo Insoluto T-08  \\\n",
              "0                  NaN                  NaN                  NaN   \n",
              "1                  0.0                  0.0                  0.0   \n",
              "2                  0.0                  0.0                  0.0   \n",
              "3                  0.0                  0.0                  0.0   \n",
              "4                  NaN                  NaN                  NaN   \n",
              "\n",
              "   Saldo Insoluto T-07  Saldo Insoluto T-06  Saldo Insoluto T-05  ...  \\\n",
              "0                  NaN                  NaN                  NaN  ...   \n",
              "1                  0.0                  0.0                  0.0  ...   \n",
              "2                  0.0                  0.0                  0.0  ...   \n",
              "3                  0.0                  0.0                  0.0  ...   \n",
              "4                  NaN                  NaN                  NaN  ...   \n",
              "\n",
              "   Quitas T-09  Quitas T-08  Quitas T-07  Quitas T-06  Quitas T-05  \\\n",
              "0          NaN          NaN          NaN          NaN          NaN   \n",
              "1          0.0          0.0          0.0          0.0          0.0   \n",
              "2          NaN          NaN          NaN          NaN          NaN   \n",
              "3          0.0          0.0          0.0          0.0          0.0   \n",
              "4          NaN          NaN          NaN          NaN          NaN   \n",
              "\n",
              "   Quitas T-04  Quitas T-03  Quitas T-02  Quitas T-01  Quitas Actual  \n",
              "0          NaN          NaN          NaN      1488.00           0.02  \n",
              "1          0.0          0.0         0.00      1488.00           0.02  \n",
              "2          NaN          NaN        -0.02      1913.46          -0.01  \n",
              "3          0.0          0.0        -0.02      1913.46          -0.01  \n",
              "4          NaN          NaN      2794.28          NaN            NaN  \n",
              "\n",
              "[5 rows x 180 columns]"
            ],
            "text/html": [
              "\n",
              "  <div id=\"df-9206a11e-b093-4820-b6e3-ba0956a84369\" class=\"colab-df-container\">\n",
              "    <div>\n",
              "<style scoped>\n",
              "    .dataframe tbody tr th:only-of-type {\n",
              "        vertical-align: middle;\n",
              "    }\n",
              "\n",
              "    .dataframe tbody tr th {\n",
              "        vertical-align: top;\n",
              "    }\n",
              "\n",
              "    .dataframe thead th {\n",
              "        text-align: right;\n",
              "    }\n",
              "</style>\n",
              "<table border=\"1\" class=\"dataframe\">\n",
              "  <thead>\n",
              "    <tr style=\"text-align: right;\">\n",
              "      <th></th>\n",
              "      <th>sucursal</th>\n",
              "      <th>Vendedor</th>\n",
              "      <th>Saldo Insoluto T-12</th>\n",
              "      <th>Saldo Insoluto T-11</th>\n",
              "      <th>Saldo Insoluto T-10</th>\n",
              "      <th>Saldo Insoluto T-09</th>\n",
              "      <th>Saldo Insoluto T-08</th>\n",
              "      <th>Saldo Insoluto T-07</th>\n",
              "      <th>Saldo Insoluto T-06</th>\n",
              "      <th>Saldo Insoluto T-05</th>\n",
              "      <th>...</th>\n",
              "      <th>Quitas T-09</th>\n",
              "      <th>Quitas T-08</th>\n",
              "      <th>Quitas T-07</th>\n",
              "      <th>Quitas T-06</th>\n",
              "      <th>Quitas T-05</th>\n",
              "      <th>Quitas T-04</th>\n",
              "      <th>Quitas T-03</th>\n",
              "      <th>Quitas T-02</th>\n",
              "      <th>Quitas T-01</th>\n",
              "      <th>Quitas Actual</th>\n",
              "    </tr>\n",
              "  </thead>\n",
              "  <tbody>\n",
              "    <tr>\n",
              "      <th>0</th>\n",
              "      <td>Centro Metropolis</td>\n",
              "      <td>MAA_6289</td>\n",
              "      <td>NaN</td>\n",
              "      <td>NaN</td>\n",
              "      <td>NaN</td>\n",
              "      <td>NaN</td>\n",
              "      <td>NaN</td>\n",
              "      <td>NaN</td>\n",
              "      <td>NaN</td>\n",
              "      <td>NaN</td>\n",
              "      <td>...</td>\n",
              "      <td>NaN</td>\n",
              "      <td>NaN</td>\n",
              "      <td>NaN</td>\n",
              "      <td>NaN</td>\n",
              "      <td>NaN</td>\n",
              "      <td>NaN</td>\n",
              "      <td>NaN</td>\n",
              "      <td>NaN</td>\n",
              "      <td>1488.00</td>\n",
              "      <td>0.02</td>\n",
              "    </tr>\n",
              "    <tr>\n",
              "      <th>1</th>\n",
              "      <td>Centro Metropolis</td>\n",
              "      <td>NaN</td>\n",
              "      <td>0.0</td>\n",
              "      <td>0.0</td>\n",
              "      <td>0.0</td>\n",
              "      <td>0.0</td>\n",
              "      <td>0.0</td>\n",
              "      <td>0.0</td>\n",
              "      <td>0.0</td>\n",
              "      <td>0.0</td>\n",
              "      <td>...</td>\n",
              "      <td>0.0</td>\n",
              "      <td>0.0</td>\n",
              "      <td>0.0</td>\n",
              "      <td>0.0</td>\n",
              "      <td>0.0</td>\n",
              "      <td>0.0</td>\n",
              "      <td>0.0</td>\n",
              "      <td>0.00</td>\n",
              "      <td>1488.00</td>\n",
              "      <td>0.02</td>\n",
              "    </tr>\n",
              "    <tr>\n",
              "      <th>2</th>\n",
              "      <td>Conexion Magna</td>\n",
              "      <td>MAG_7191</td>\n",
              "      <td>0.0</td>\n",
              "      <td>0.0</td>\n",
              "      <td>0.0</td>\n",
              "      <td>0.0</td>\n",
              "      <td>0.0</td>\n",
              "      <td>0.0</td>\n",
              "      <td>0.0</td>\n",
              "      <td>0.0</td>\n",
              "      <td>...</td>\n",
              "      <td>NaN</td>\n",
              "      <td>NaN</td>\n",
              "      <td>NaN</td>\n",
              "      <td>NaN</td>\n",
              "      <td>NaN</td>\n",
              "      <td>NaN</td>\n",
              "      <td>NaN</td>\n",
              "      <td>-0.02</td>\n",
              "      <td>1913.46</td>\n",
              "      <td>-0.01</td>\n",
              "    </tr>\n",
              "    <tr>\n",
              "      <th>3</th>\n",
              "      <td>Conexion Magna</td>\n",
              "      <td>NaN</td>\n",
              "      <td>0.0</td>\n",
              "      <td>0.0</td>\n",
              "      <td>0.0</td>\n",
              "      <td>0.0</td>\n",
              "      <td>0.0</td>\n",
              "      <td>0.0</td>\n",
              "      <td>0.0</td>\n",
              "      <td>0.0</td>\n",
              "      <td>...</td>\n",
              "      <td>0.0</td>\n",
              "      <td>0.0</td>\n",
              "      <td>0.0</td>\n",
              "      <td>0.0</td>\n",
              "      <td>0.0</td>\n",
              "      <td>0.0</td>\n",
              "      <td>0.0</td>\n",
              "      <td>-0.02</td>\n",
              "      <td>1913.46</td>\n",
              "      <td>-0.01</td>\n",
              "    </tr>\n",
              "    <tr>\n",
              "      <th>4</th>\n",
              "      <td>Enlace Regio</td>\n",
              "      <td>ALM_0607</td>\n",
              "      <td>NaN</td>\n",
              "      <td>NaN</td>\n",
              "      <td>NaN</td>\n",
              "      <td>NaN</td>\n",
              "      <td>NaN</td>\n",
              "      <td>NaN</td>\n",
              "      <td>NaN</td>\n",
              "      <td>NaN</td>\n",
              "      <td>...</td>\n",
              "      <td>NaN</td>\n",
              "      <td>NaN</td>\n",
              "      <td>NaN</td>\n",
              "      <td>NaN</td>\n",
              "      <td>NaN</td>\n",
              "      <td>NaN</td>\n",
              "      <td>NaN</td>\n",
              "      <td>2794.28</td>\n",
              "      <td>NaN</td>\n",
              "      <td>NaN</td>\n",
              "    </tr>\n",
              "  </tbody>\n",
              "</table>\n",
              "<p>5 rows × 180 columns</p>\n",
              "</div>\n",
              "    <div class=\"colab-df-buttons\">\n",
              "\n",
              "  <div class=\"colab-df-container\">\n",
              "    <button class=\"colab-df-convert\" onclick=\"convertToInteractive('df-9206a11e-b093-4820-b6e3-ba0956a84369')\"\n",
              "            title=\"Convert this dataframe to an interactive table.\"\n",
              "            style=\"display:none;\">\n",
              "\n",
              "  <svg xmlns=\"http://www.w3.org/2000/svg\" height=\"24px\" viewBox=\"0 -960 960 960\">\n",
              "    <path d=\"M120-120v-720h720v720H120Zm60-500h600v-160H180v160Zm220 220h160v-160H400v160Zm0 220h160v-160H400v160ZM180-400h160v-160H180v160Zm440 0h160v-160H620v160ZM180-180h160v-160H180v160Zm440 0h160v-160H620v160Z\"/>\n",
              "  </svg>\n",
              "    </button>\n",
              "\n",
              "  <style>\n",
              "    .colab-df-container {\n",
              "      display:flex;\n",
              "      gap: 12px;\n",
              "    }\n",
              "\n",
              "    .colab-df-convert {\n",
              "      background-color: #E8F0FE;\n",
              "      border: none;\n",
              "      border-radius: 50%;\n",
              "      cursor: pointer;\n",
              "      display: none;\n",
              "      fill: #1967D2;\n",
              "      height: 32px;\n",
              "      padding: 0 0 0 0;\n",
              "      width: 32px;\n",
              "    }\n",
              "\n",
              "    .colab-df-convert:hover {\n",
              "      background-color: #E2EBFA;\n",
              "      box-shadow: 0px 1px 2px rgba(60, 64, 67, 0.3), 0px 1px 3px 1px rgba(60, 64, 67, 0.15);\n",
              "      fill: #174EA6;\n",
              "    }\n",
              "\n",
              "    .colab-df-buttons div {\n",
              "      margin-bottom: 4px;\n",
              "    }\n",
              "\n",
              "    [theme=dark] .colab-df-convert {\n",
              "      background-color: #3B4455;\n",
              "      fill: #D2E3FC;\n",
              "    }\n",
              "\n",
              "    [theme=dark] .colab-df-convert:hover {\n",
              "      background-color: #434B5C;\n",
              "      box-shadow: 0px 1px 3px 1px rgba(0, 0, 0, 0.15);\n",
              "      filter: drop-shadow(0px 1px 2px rgba(0, 0, 0, 0.3));\n",
              "      fill: #FFFFFF;\n",
              "    }\n",
              "  </style>\n",
              "\n",
              "    <script>\n",
              "      const buttonEl =\n",
              "        document.querySelector('#df-9206a11e-b093-4820-b6e3-ba0956a84369 button.colab-df-convert');\n",
              "      buttonEl.style.display =\n",
              "        google.colab.kernel.accessAllowed ? 'block' : 'none';\n",
              "\n",
              "      async function convertToInteractive(key) {\n",
              "        const element = document.querySelector('#df-9206a11e-b093-4820-b6e3-ba0956a84369');\n",
              "        const dataTable =\n",
              "          await google.colab.kernel.invokeFunction('convertToInteractive',\n",
              "                                                    [key], {});\n",
              "        if (!dataTable) return;\n",
              "\n",
              "        const docLinkHtml = 'Like what you see? Visit the ' +\n",
              "          '<a target=\"_blank\" href=https://colab.research.google.com/notebooks/data_table.ipynb>data table notebook</a>'\n",
              "          + ' to learn more about interactive tables.';\n",
              "        element.innerHTML = '';\n",
              "        dataTable['output_type'] = 'display_data';\n",
              "        await google.colab.output.renderOutput(dataTable, element);\n",
              "        const docLink = document.createElement('div');\n",
              "        docLink.innerHTML = docLinkHtml;\n",
              "        element.appendChild(docLink);\n",
              "      }\n",
              "    </script>\n",
              "  </div>\n",
              "\n",
              "\n",
              "<div id=\"df-da8211b6-facd-40fa-a8a6-34604973e1a7\">\n",
              "  <button class=\"colab-df-quickchart\" onclick=\"quickchart('df-da8211b6-facd-40fa-a8a6-34604973e1a7')\"\n",
              "            title=\"Suggest charts\"\n",
              "            style=\"display:none;\">\n",
              "\n",
              "<svg xmlns=\"http://www.w3.org/2000/svg\" height=\"24px\"viewBox=\"0 0 24 24\"\n",
              "     width=\"24px\">\n",
              "    <g>\n",
              "        <path d=\"M19 3H5c-1.1 0-2 .9-2 2v14c0 1.1.9 2 2 2h14c1.1 0 2-.9 2-2V5c0-1.1-.9-2-2-2zM9 17H7v-7h2v7zm4 0h-2V7h2v10zm4 0h-2v-4h2v4z\"/>\n",
              "    </g>\n",
              "</svg>\n",
              "  </button>\n",
              "\n",
              "<style>\n",
              "  .colab-df-quickchart {\n",
              "      --bg-color: #E8F0FE;\n",
              "      --fill-color: #1967D2;\n",
              "      --hover-bg-color: #E2EBFA;\n",
              "      --hover-fill-color: #174EA6;\n",
              "      --disabled-fill-color: #AAA;\n",
              "      --disabled-bg-color: #DDD;\n",
              "  }\n",
              "\n",
              "  [theme=dark] .colab-df-quickchart {\n",
              "      --bg-color: #3B4455;\n",
              "      --fill-color: #D2E3FC;\n",
              "      --hover-bg-color: #434B5C;\n",
              "      --hover-fill-color: #FFFFFF;\n",
              "      --disabled-bg-color: #3B4455;\n",
              "      --disabled-fill-color: #666;\n",
              "  }\n",
              "\n",
              "  .colab-df-quickchart {\n",
              "    background-color: var(--bg-color);\n",
              "    border: none;\n",
              "    border-radius: 50%;\n",
              "    cursor: pointer;\n",
              "    display: none;\n",
              "    fill: var(--fill-color);\n",
              "    height: 32px;\n",
              "    padding: 0;\n",
              "    width: 32px;\n",
              "  }\n",
              "\n",
              "  .colab-df-quickchart:hover {\n",
              "    background-color: var(--hover-bg-color);\n",
              "    box-shadow: 0 1px 2px rgba(60, 64, 67, 0.3), 0 1px 3px 1px rgba(60, 64, 67, 0.15);\n",
              "    fill: var(--button-hover-fill-color);\n",
              "  }\n",
              "\n",
              "  .colab-df-quickchart-complete:disabled,\n",
              "  .colab-df-quickchart-complete:disabled:hover {\n",
              "    background-color: var(--disabled-bg-color);\n",
              "    fill: var(--disabled-fill-color);\n",
              "    box-shadow: none;\n",
              "  }\n",
              "\n",
              "  .colab-df-spinner {\n",
              "    border: 2px solid var(--fill-color);\n",
              "    border-color: transparent;\n",
              "    border-bottom-color: var(--fill-color);\n",
              "    animation:\n",
              "      spin 1s steps(1) infinite;\n",
              "  }\n",
              "\n",
              "  @keyframes spin {\n",
              "    0% {\n",
              "      border-color: transparent;\n",
              "      border-bottom-color: var(--fill-color);\n",
              "      border-left-color: var(--fill-color);\n",
              "    }\n",
              "    20% {\n",
              "      border-color: transparent;\n",
              "      border-left-color: var(--fill-color);\n",
              "      border-top-color: var(--fill-color);\n",
              "    }\n",
              "    30% {\n",
              "      border-color: transparent;\n",
              "      border-left-color: var(--fill-color);\n",
              "      border-top-color: var(--fill-color);\n",
              "      border-right-color: var(--fill-color);\n",
              "    }\n",
              "    40% {\n",
              "      border-color: transparent;\n",
              "      border-right-color: var(--fill-color);\n",
              "      border-top-color: var(--fill-color);\n",
              "    }\n",
              "    60% {\n",
              "      border-color: transparent;\n",
              "      border-right-color: var(--fill-color);\n",
              "    }\n",
              "    80% {\n",
              "      border-color: transparent;\n",
              "      border-right-color: var(--fill-color);\n",
              "      border-bottom-color: var(--fill-color);\n",
              "    }\n",
              "    90% {\n",
              "      border-color: transparent;\n",
              "      border-bottom-color: var(--fill-color);\n",
              "    }\n",
              "  }\n",
              "</style>\n",
              "\n",
              "  <script>\n",
              "    async function quickchart(key) {\n",
              "      const quickchartButtonEl =\n",
              "        document.querySelector('#' + key + ' button');\n",
              "      quickchartButtonEl.disabled = true;  // To prevent multiple clicks.\n",
              "      quickchartButtonEl.classList.add('colab-df-spinner');\n",
              "      try {\n",
              "        const charts = await google.colab.kernel.invokeFunction(\n",
              "            'suggestCharts', [key], {});\n",
              "      } catch (error) {\n",
              "        console.error('Error during call to suggestCharts:', error);\n",
              "      }\n",
              "      quickchartButtonEl.classList.remove('colab-df-spinner');\n",
              "      quickchartButtonEl.classList.add('colab-df-quickchart-complete');\n",
              "    }\n",
              "    (() => {\n",
              "      let quickchartButtonEl =\n",
              "        document.querySelector('#df-da8211b6-facd-40fa-a8a6-34604973e1a7 button');\n",
              "      quickchartButtonEl.style.display =\n",
              "        google.colab.kernel.accessAllowed ? 'block' : 'none';\n",
              "    })();\n",
              "  </script>\n",
              "</div>\n",
              "\n",
              "    </div>\n",
              "  </div>\n"
            ],
            "application/vnd.google.colaboratory.intrinsic+json": {
              "type": "dataframe",
              "variable_name": "df"
            }
          },
          "metadata": {},
          "execution_count": 4
        }
      ]
    },
    {
      "cell_type": "markdown",
      "source": [
        "**Explanation:**\n",
        "* **Lowercase and Underscores:** The lower() method converts all characters to lowercase, and replace() is used to replace spaces and special characters with underscores.\n",
        "\n",
        "* **Acronyms:** Common phrases are replaced with shorter acronyms (e.g., saldo_insoluto becomes si, vencido becomes vnc, etc.).\n",
        "\n",
        "* **Time Series Handling:** T-12, T-11, etc., are replaced with m_12, m_11, and so on, to indicate months.\n",
        "\n",
        "---\n",
        "**Example Column Renaming:**\n",
        "* 'Región' → 'region'\n",
        "* 'Saldo Insoluto T-12' → 'si_m_12'\n",
        "* 'Saldo Insoluto Actual' → 'si_act'\n",
        "* 'Pago Anticipado T-12' → 'pa_m_12'\n",
        "* 'Castigos T-12' → 'cst_m_12'"
      ],
      "metadata": {
        "id": "bHWvaJkhMaGy"
      }
    },
    {
      "cell_type": "code",
      "source": [
        "def rename_column(col):\n",
        "    # Replace spaces and special characters\n",
        "    col = col.lower().replace(' ', '_').replace('\\n', '').replace('-', '_').replace('%', 'pct')\n",
        "\n",
        "    # Create a dictionary for common term replacements\n",
        "    replacements = {\n",
        "        'saldo_insoluto': 'si',\n",
        "        'vencido': 'vnc',\n",
        "        'actual': 'act',\n",
        "        'pago_anticipado': 'pa',\n",
        "        'capital_liquidado': 'cl',\n",
        "        'capital_dispersado': 'cd',\n",
        "        'quitas': 'qts',\n",
        "        'castigos': 'cst'\n",
        "    }\n",
        "\n",
        "    # Replace common terms\n",
        "    for old, new in replacements.items():\n",
        "        col = col.replace(old, new)\n",
        "\n",
        "    # Handle time series (T-12, T-11,..., T-01, Actual)\n",
        "    if '_t_' in col:\n",
        "        col = col.replace('_t_', '_m_')\n",
        "\n",
        "    # Map specific time series columns\n",
        "    column_mapping = {\n",
        "        'cst_ago_22': 'cst_m_23',\n",
        "        'cst_sep_22': 'cst_m_22',\n",
        "        'cst_oct_22': 'cst_m_21',\n",
        "        'cst_nov_22': 'cst_m_20',\n",
        "        'cst_dic_22': 'cst_m_19',\n",
        "        'cst_ene_23': 'cst_m_18',\n",
        "        'cst_feb_23': 'cst_m_17',\n",
        "        'cst_mar_23': 'cst_m_16',\n",
        "        'cst_abr_23': 'cst_m_15',\n",
        "        'cst_may_23': 'cst_m_14',\n",
        "        'cst_jun_23': 'cst_m_13'\n",
        "    }\n",
        "\n",
        "    # Apply the mapping\n",
        "    if col in column_mapping:\n",
        "        col = column_mapping[col]\n",
        "\n",
        "    # Ensure no double underscores\n",
        "    col = col.replace('__', '_')\n",
        "\n",
        "    return col\n",
        "\n",
        "# Apply renaming function to all columns\n",
        "df.columns = [rename_column(col) for col in df.columns]\n",
        "\n",
        "# Print new column names\n",
        "print([col for col in df.columns])\n"
      ],
      "metadata": {
        "colab": {
          "base_uri": "https://localhost:8080/"
        },
        "id": "EssB6zjcHcT3",
        "outputId": "c97743fa-e4ae-43c5-d8ea-9ecfe397b78d"
      },
      "execution_count": null,
      "outputs": [
        {
          "output_type": "stream",
          "name": "stdout",
          "text": [
            "['sucursal', 'vendedor', 'si_m_12', 'si_m_11', 'si_m_10', 'si_m_09', 'si_m_08', 'si_m_07', 'si_m_06', 'si_m_05', 'si_m_04', 'si_m_03', 'si_m_02', 'si_m_1', 'si_act', 'si_vnc_m_12', 'si_vnc_m_11', 'si_vnc_m_10', 'si_vnc_m_09', 'si_vnc_m_08', 'si_vnc_m_07', 'si_vnc_m_06', 'si_vnc_m_05', 'si_vnc_m_04', 'si_vnc_m_03', 'si_vnc_m_02', 'si_vnc_m_01', 'si_vnc_act', 'si_30_89_m_12', 'si_30_89_m_11', 'si_30_89_m_10', 'si_30_89_m_09', 'si_30_89_m_08', 'si_30_89_m_07', 'si_30_89_m_06', 'si_30_89_m_05', 'si_30_89_m_04', 'si_30_89_m_03', 'si_30_89_m_02', 'si_30_89_m_01', 'si_30_89_act', 'saldo_60_en_6_m_12', 'saldo_60_en_6_m_11', 'saldo_60_en_6_m_10', 'saldo_60_en_6_m_09', 'saldo_60_en_6_m_08', 'saldo_60_en_6_m_07', 'saldo_60_en_6_m_06', 'saldo_60_en_6_m_05', 'saldo_60_en_6_m_04', 'saldo_60_en_6_m_03', 'saldo_60_en_6_m_02', 'saldo_60_en_6_m_01', 'saldo_60_en_6_act', 'cst_m_23', 'cst_m_22', 'cst_m_21', 'cst_m_20', 'cst_m_19', 'cst_m_18', 'cst_m_17', 'cst_m_16', 'cst_m_15', 'cst_m_14', 'cst_m_13', 'cst_m_12', 'cst_m_11', 'cst_m_10', 'cst_m_09', 'cst_m_08', 'cst_m_07', 'cst_m_06', 'cst_m_05', 'cst_m_04', 'cst_m_03', 'cst_m_02', 'cst_m_01', 'cst_act', 'cl_m_12', 'cl_m_11', 'cl_m_10', 'cl_m_09', 'cl_m_08', 'cl_m_07', 'cl_m_06', 'cl_m_05', 'cl_m_04', 'cl_m_03', 'cl_m_02', 'cl_m_01', 'cl_act', 'pa_m_12', 'pa_m_11', 'pa_m_10', 'pa_m_09', 'pa_m_08', 'pa_m_07', 'pa_m_06', 'pa_m_05', 'pa_m_04', 'pa_m_03', 'pa_m_02', 'pa_m_01', 'pa_act', 'cd_m_12', 'cd_m_11', 'cd_m_10', 'cd_m_09', 'cd_m_08', 'cd_m_07', 'cd_m_06', 'cd_m_05', 'cd_m_04', 'cd_m_03', 'cd_m_02', 'cd_m_01', 'cd_act', 'pct_fpd_m_12', 'pct_fpd_m_11', 'pct_fpd_m_10', 'pct_fpd_m_09', 'pct_fpd_m_08', 'pct_fpd_m_07', 'pct_fpd_m_06', 'pct_fpd_m_05', 'pct_fpd_m_04', 'pct_fpd_m_03', 'pct_fpd_m_02', 'pct_fpd_m_01', 'pct_fpd_act', 'pct_spd_m_12', 'pct_spd_m_11', 'pct_spd_m_10', 'pct_spd_m_09', 'pct_spd_m_08', 'pct_spd_m_07', 'pct_spd_m_06', 'pct_spd_m_05', 'pct_spd_m_04', 'pct_spd_m_03', 'pct_spd_m_02', 'pct_spd_m_01', 'pct_spd_act', 'pct_tpd_m_12', 'pct_tpd_m_11', 'pct_tpd_m_10', 'pct_tpd_m_09', 'pct_tpd_m_08', 'pct_tpd_m_07', 'pct_tpd_m_06', 'pct_tpd_m_05', 'pct_tpd_m_04', 'pct_tpd_m_03', 'pct_tpd_m_02', 'pct_tpd_m_01', 'pct_tpd_act', 'qts_ago_22', 'qts_sep_22', 'qts_oct_22', 'qts_nov_22', 'qts_dic_22', 'qts_ene_23', 'qts_feb_23', 'qts_mar_23', 'qts_abr_23', 'qts_may_23', 'qts_jun_23', 'qts_m_12', 'qts_m_11', 'qts_m_10', 'qts_m_09', 'qts_m_08', 'qts_m_07', 'qts_m_06', 'qts_m_05', 'qts_m_04', 'qts_m_03', 'qts_m_02', 'qts_m_01', 'qts_act']\n"
          ]
        }
      ]
    },
    {
      "cell_type": "markdown",
      "source": [
        "### Split sucursal column, merge branches"
      ],
      "metadata": {
        "id": "Gkd6nj7zQxwM"
      }
    },
    {
      "cell_type": "markdown",
      "source": [
        "#### Aux to split region column"
      ],
      "metadata": {
        "id": "FgagX-RNQodR"
      }
    },
    {
      "cell_type": "code",
      "source": [
        "regions = [\"Brokers\", \"Nucleo Uno\", \"Nucleo Dos\", \"Red Nortena\", \"Red Noroeste\", \"Occidente Conexion\", \"Red Sureste\"]\n",
        "\n",
        "divisions = [\n",
        "    \"Division. Red Mexiquense\", \"Conexion Naucalpan\", \"Zona Sur Central\",\n",
        "    \"Zona Oriente Valle\", \"Zona Norte Valle\", \"Division. Distrito Central\",\n",
        "    \"Nucleo Avance\", \"Zona Nucleo CDMX\", \"Zona Oriente Conexion\",\n",
        "    \"Zona Cordillera Puebla\", \"Zona Bahia Veracruz\", \"Division Red Nortena\",\n",
        "    \"Zona Sierra Norte\", \"Zona Red frontera este\", \"Zona Bahia del Sol\",\n",
        "    \"Division Sierra del Desierto\", \"Zona Costa del Pacifico\",\n",
        "    \"Zona Valle Dorado\", \"Zona Desierto del Sol\", \"Conexion GDL\",\n",
        "    \"Zona Corazon de la Sierra\", \"Zona Valles Centrales\", \"Zona Tierra de lagos\", \"Zona Cumbres del Pacifico\", \"Zona Valles del Pacifico\", \"Zona Selva Alta\", \"Zona Sierra Escondida\", \"Zona Riviera del Caribe\"\n",
        "]\n",
        "\n",
        "branches = [\n",
        "    \"Centro Metropolis\", \"Conexion Magna\", \"Enlace Regio\", \"Puerto Magna\",\n",
        "    \"Ciudad Piramide\", \"Valle Verde\", \"Rio Blanco\", \"Colina del Sol\",\n",
        "    \"Colina del Sol BIS\", \"Parque Jurica\", \"Colina Plateada\", \"Altos de Queretaro\", \"Sol y Campo\", \"Satélite 1\", \"Satélite 2\", \"Satélite 3\", \"Bahia Dorada\", \"Costa Marquesa\", \"Bahia Dorada BIS\", \"Alto de Chilpan\", \"Cuautla Vista\", \"Jardines del Valle\", \"Llanos de Igualdad\", \"Parque Jojutla\",\n",
        "    \"Valle Chalco\", \"Montana Azul\", \"Reyes Paz A\", \"Reyes Paz B\",\n",
        "    \"Bosques Neza\", \"Cumbre Neza\", \"Cumbre Neza BIS\", \"Riberas Texcoco\",\n",
        "    \"Pinar del Valle\", \"Cielos de Metepec\", \"Lomas de Naucalpan\",\n",
        "    \"Puente de Tlalne\", \"Puente de Tlalne II\", \"Valles Toluca\",\n",
        "    \"Cumbre Toluca\", \"Bosques Tultitlan\", \"Jardin Aragon A\",\n",
        "    \"Pilares del Norte\", \"Pilares del Norte BIS\", \"Residencia A\",\n",
        "    \"Residencia B\", \"Colinas GAM\", \"Plaza Central\", \"Los Arcos\",\n",
        "    \"Los Arcos BIS\", \"Campo Zaragoza\", \"Lomas Zaragoza\", \"Campo Zaragoza BIS\",\n",
        "    \"Avance 1\", \"Avance 2\", \"Avance 3\", \"Avance 4\", \"Parque Obregon\",\n",
        "    \"Centro Viejo\", \"Mirador Tlalpan A\", \"Mirador Tlalpan A BIS\",\n",
        "    \"Mirador Tlalpan B\", \"Lagunas de Xochimilco\", \"Plaza Zapata\",\n",
        "    \"Robledal A\", \"Robledal B\", \"Campo Florido A\", \"Campo Florido B\",\n",
        "    \"Campo Florido C\", \"Campo Florido D\", \"Riberas del Sur\",\n",
        "    \"Sierra Cordobesa\", \"Valles de Orizaba\", \"Alturas de Puebla\",\n",
        "    \"Jardines Manuel\", \"Lomas Santiago\", \"Alturas de Puebla BIS\",\n",
        "    \"Llanos Tehuacan\", \"Bosques Tlaxcala\", \"Colinas Miron\",\n",
        "    \"Valle Rica\", \"Puerto Bravo\", \"Puerta Cuauhtemoc\", \"Puerto Bravo BIS\",\n",
        "    \"Cumbres Xalapa\", \"Lomas Xalapa\", \"Paso del Norte\", \"Rio Bravo\",\n",
        "    \"Aceros del Norte\", \"Aceros del Norte BIS\", \"Paso Nuevo\",\n",
        "    \"Paso Nuevo BIS\", \"Piedras Altas\", \"Piedras Altas BIS\", \"Valles del Norte\",\n",
        "    \"Laguna Norte\", \"Sabinas Sierra\", \"Campos Saltillo\", \"Centro Saltillo\",\n",
        "    \"Centro Saltillo BIS\", \"Campos Saltillo BIS\", \"Lomas de Alamos\",\n",
        "    \"Lomas de Alamos BIS\", \"Valle Apodaca\", \"Valle Apodaca BIS\",\n",
        "    \"Puente Lincoln\", \"Cumbres Regias\", \"Centro Regio\", \"Bulevar Regio\",\n",
        "    \"San Nicolas Valle\", \"San Nicolas Valle BIS\", \"Sierra Santa\",\n",
        "    \"Bosque Verde\", \"Palacio del Norte\", \"Palacio del Norte BIS\",\n",
        "    \"Valle de Guadalupe\", \"Parque Madero\", \"Parque Madero BIS\",\n",
        "    \"Expo Regia\", \"Desierto Norte\", \"Desierto Bravo\", \"Rio Revolucion\",\n",
        "    \"Desierto Norte BIS\", \"Valle Real\", \"Victoria Alta\", \"Victoria Alta BIS\",\n",
        "    \"Bahia Aeropuerto\", \"Plaza Tampico\", \"Colinas Tampico\",\n",
        "    \"Colinas Tampico BIS\", \"Rio Madero\", \"Sierra Chihuahua\",\n",
        "    \"Campus Sierra\", \"Victoria Sierra\", \"Victoria Sierra BIS\",\n",
        "    \"Plaza Cuauhtemoc\", \"Juarez Norte\", \"Jardines del Norte\",\n",
        "    \"Americas Plaza\", \"Americas Plaza BIS\", \"Patio Grande\",\n",
        "    \"Colinas Jilotepec\", \"Parral Viejo\", \"Bahia Azul\", \"Bahia Azul BIS\",\n",
        "    \"Plaza Pacifico\", \"Plaza Pacifico BIS\", \"Cabo Fuerte\", \"Valle Mexicali\",\n",
        "    \"Norte Mexicali\", \"Valle Mexicali BIS\", \"Frontera Oeste\",\n",
        "    \"Frontera Bravo\", \"Frontera Bravo BIS\", \"Valles de Culiacan\",\n",
        "    \"Culiacan Norte\", \"Valles de Culiacan BIS\", \"Sierra Durango\",\n",
        "    \"Durango Norte\", \"Valle del Rio\", \"Plaza Mochis\", \"Plaza Mochis BIS\",\n",
        "    \"Norte Dorado\", \"Obregon Central\", \"Obregon Norte\", \"Obregon Central BIS\",\n",
        "    \"Sierra Hermosillo\", \"Hermosillo Norte\", \"Sierra Hermosillo BIS\",\n",
        "    \"Valle de Navojoa\", \"Frontera Nogales\", \"Guadalajara Uno\",\n",
        "    \"Guadalajara Dos\", \"Guadalajara Tres\", \"Aguas Central\",\n",
        "    \"Aguas Norte\", \"Aguas Central BIS\", \"Sierra Colima\", \"Rio Fresnillo\",\n",
        "    \"Bahia Manzanillo\", \"San Luis Norte\", \"San Luis Alturas\",\n",
        "    \"Cumbres Zacatecas\", \"Plaza Celaya\", \"Hidalgo Valle\",\n",
        "    \"Jardines Irapuato\", \"Jardines Irapuato BIS\", \"Canadas Leon\",\n",
        "    \"Norte Leon\", \"Canadas Leon BIS\", \"Valle Piedad\", \"Bahia Lazaro\",\n",
        "    \"Colinas Morelia\", \"Morelia Norte\", \"Morelia Norte BIS\",\n",
        "    \"Camelinas Plaza\", \"Jardines Uruapan\", \"Valle Zamora\",\n",
        "    \"Valle Zamora BIS\", \"Riviera Zihua\", \"Montes Zitacuaro\",\n",
        "    \"GDL Central\", \"Norte GDL\", \"Riviera Vallarta\", \"Riviera Vallarta BIS\",\n",
        "    \"Valle Tepic\", \"Norte Tepic\", \"Jardines Tlaque\", \"Montes Tonala\",\n",
        "    \"Guzman Valle\", \"IMSS GDL\", \"Oblatos Plaza\", \"Las Aguilas\",\n",
        "    \"Zapopan Plaza\", \"Rio Coatzacoalcos\", \"Valle Comitan\",\n",
        "    \"Selva Tapachula\", \"Tuxtla Norte\", \"Tuxtla Central\", \"Villa Central\",\n",
        "    \"Villa Norte\", \"Villa Norte BIS\", \"Villa Alturas\", \"Sierra Oaxaca\",\n",
        "    \"Riviera Escondida\", \"Bahia Cruz\", \"Bahia Cruz BIS\", \"Rio Tuxtepec\",\n",
        "    \"Bahia Campeche\", \"Riviera Cancun\", \"Bahia Chetumal\",\n",
        "    \"Isla del Carmen\", \"Sierra Merida\", \"Merida Norte\", \"Alturas Merida\",\n",
        "    \"Sierra Merida BIS\", \"Riviera Playa\"\n",
        "]\n",
        "\n",
        "for branch in branches:\n",
        "  if 'BIS' in branch:\n",
        "    branches.remove(branch)\n",
        "\n",
        "print(len(branches), len(divisions), len(regions))"
      ],
      "metadata": {
        "colab": {
          "base_uri": "https://localhost:8080/"
        },
        "id": "6UZH9_-m0maG",
        "outputId": "d94d1b6d-1c43-4107-ebbe-a4826bff674d"
      },
      "execution_count": null,
      "outputs": [
        {
          "output_type": "stream",
          "name": "stdout",
          "text": [
            "196 28 7\n"
          ]
        }
      ]
    },
    {
      "cell_type": "code",
      "source": [
        "loc_struct = {\n",
        "    \"Brokers\": [\"Centro Metropolis\", \"Conexion Magna\", \"Enlace Regio\", \"Puerto Magna\"],\n",
        "    \"Nucleo Uno\": {\n",
        "        \"Division. Red Mexiquense\": [\"Ciudad Piramide\", \"Valle Verde\", \"Rio Blanco\", \"Colina del Sol\",\n",
        "                                     \"Colina del Sol BIS\", \"Parque Jurica\", \"Colina Plateada\",\n",
        "                                     \"Altos de Queretaro\", \"Sol y Campo\"],\n",
        "        \"Conexion Naucalpan\": [\"Satelite 1\", \"Satelite 2\", \"Satelite 3\"],\n",
        "        \"Zona Sur Central\": [\"Bahia Dorada\", \"Costa Marquesa\", \"Bahia Dorada BIS\", \"Alto de Chilpan\",\n",
        "                             \"Cuautla Vista\", \"Jardines del Valle\", \"Llanos de Igualdad\", \"Parque Jojutla\"],\n",
        "        \"Zona Oriente Valle\": [\"Valle Chalco\", \"Montana Azul\", \"Reyes Paz A\", \"Reyes Paz B\",\n",
        "                               \"Bosques Neza\", \"Cumbre Neza\", \"Cumbre Neza BIS\", \"Riberas Texcoco\"],\n",
        "        \"Zona Norte Valle\": [\"Pinar del Valle\", \"Cielos de Metepec\", \"Lomas de Naucalpan\",\n",
        "                             \"Puente de Tlalne\", \"Puente de Tlalne II\", \"Valles Toluca\",\n",
        "                             \"Cumbre Toluca\", \"Bosques Tultitlan\"]\n",
        "    },\n",
        "    \"Nucleo Dos\": {\n",
        "        \"Division. Distrito Central\": [\"Jardin Aragon A\", \"Pilares del Norte\", \"Pilares del Norte BIS\",\n",
        "                                       \"Residencia A\", \"Residencia B\", \"Colinas GAM\", \"Plaza Central\",\n",
        "                                       \"Los Arcos\", \"Los Arcos BIS\", \"Campo Zaragoza\", \"Lomas Zaragoza\",\n",
        "                                       \"Campo Zaragoza BIS\"],\n",
        "        \"Nucleo Avance\": [\"Avance 1\", \"Avance 2\", \"Avance 3\", \"Avance 4\"],\n",
        "        \"Zona Nucleo CDMX\": [\"Parque Obregon\", \"Centro Viejo\", \"Mirador Tlalpan A\", \"Mirador Tlalpan A BIS\",\n",
        "                             \"Mirador Tlalpan B\", \"Lagunas de Xochimilco\", \"Plaza Zapata\"],\n",
        "        \"Zona Oriente Conexion\": [\"Robledal A\", \"Robledal B\", \"Campo Florido A\",\n",
        "                                  \"Campo Florido B\", \"Campo Florido C\", \"Campo Florido D\",\n",
        "                                  \"Riberas del Sur\"],\n",
        "        \"Zona Cordillera Puebla\": [\"Sierra Cordobesa\", \"Valles de Orizaba\", \"Alturas de Puebla\",\n",
        "                                   \"Jardines Manuel\", \"Lomas Santiago\", \"Alturas de Puebla BIS\",\n",
        "                                   \"Llanos Tehuacan\", \"Bosques Tlaxcala\"],\n",
        "        \"Zona Bahia Veracruz\": [\"Colinas Miron\", \"Valle Rica\", \"Puerto Bravo\", \"Puerta Cuauhtemoc\", \"Puerto Bravo BIS\", \"Cumbres Xalapa\", \"Lomas Xalapa\"]\n",
        "    },\n",
        "\n",
        "    \"Red Nortena\": {\n",
        "        \"Division Red Nortena\": [\"Aceros del Norte\", \"Aceros del Norte BIS\", \"Paso Nuevo\", \"Paso Nuevo BIS\",\n",
        "                                 \"Piedras Altas\", \"Piedras Altas BIS\", \"Valles del Norte\",\n",
        "                                 \"Laguna Norte\", \"Sabinas Sierra\", \"Campos Saltillo\",\n",
        "                                 \"Centro Saltillo\", \"Centro Saltillo BIS\", \"Campos Saltillo BIS\", \"Rio Bravo\", \"Paso del Norte\"],\n",
        "\n",
        "        \"Zona Sierra Norte\": [\"Lomas de Alamos\", \"Lomas de alamos BIS\", \"Valle Apodaca\", \"Valle Apodaca BIS\", \"Puente Lincoln\", \"Cumbres Regias\", \"Centro Regio\",\n",
        "                              \"Bulevar Regio\", \"San Nicolas Valle\", \"San Nicolas Valles BIS\", \"Sierra Santa\"],\n",
        "        \"Zona Red frontera este\": [\"Bosque Verde\", \"Palacio del Norte\", \"Palacio del Norte BIS\", \"Valle de Guadalupe\", \"Parque Madero\", \"Parque Madero BIS\", \"Expo Regia\",\n",
        "                                   \"Desierto Norte\", \"Desierto Bravo\", \"Rio Revolucion\", \"Desierto Norte BIS\"],\n",
        "        \"Zona Bahia del Sol\": [\"Valle Real\", \"Victoria Alta\", \"Victoria Alta BIS\", \"Bahia Aeropuerto\",\n",
        "                               \"Plaza Tampico\", \"Colinas Tampico\", \"Colinas Tampico BIS\", \"Rio Madero\"]\n",
        "    },\n",
        "\n",
        "    \"Red Noroeste\": {\n",
        "        \"Zona Desierto del Sol\": [\"Obregon Central\", \"Obregon Norte\", \"Obregon Central BIS\",\n",
        "                                  \"Sierra Hermosillo\", \"Hermosillo Norte\", \"Sierra Hermosillo BIS\", \"Valle de Navojoa\",\n",
        "                                  \"Frontera Nogales\"],\n",
        "        \"Zona Valle Dorado\": [\"Valles de Culiacan\", \"Culiacan Norte\", \"Valles de Culiacan BIS\", \"Sierra Durango\",\n",
        "                              \"Durango Norte\", \"Valle del Rio\", \"Plaza Mochis\", \"Plaza Mochis BIS\", \"Bahia Dorada\", \"Norte Dorado\"],\n",
        "        \"Zona Costa del Pacifico\": [\"Bahia Azul\", \"Bahia Azul BIS\", \"Plaza Pacifico\", \"Plaza Pacifico BIS\",\n",
        "                                    \"Cabo Fuerte\", \"Valle Mexicali\", \"Norte Mexicali\", \"Valle Mexicali BIS\", \"Frontera Oeste\",\n",
        "                                    \"Frontera Bravo\", \"Frontera Bravo BIS\"],\n",
        "        \"Division Sierra del Desierto\": [\"Sierra Chihuahua\", \"Campus Sierra\", \"Victoria Sierra\",\n",
        "                                         \"Victoria Sierra BIS\", \"Plaza Cuauhtemoc\", \"Juarez Norte\", \"Jardines del Norte\", \"Americas Plaza\",\n",
        "                                         \"Americas Plaza BIS\", \"Patio Grande\", \"Colinas Jilotepec\", \"Parral Viejo\"]\n",
        "    },\n",
        "\n",
        "    \"Occidente Conexion\": {\n",
        "        \"Conexion GDL\": [\"Guadalajara Uno\", \"Guadalajara Dos\", \"Guadalajara Tres\"],\n",
        "        \"Zona Corazon de la Sierra\": [\"Aguas Central\", \"Aguas Norte\", \"Aguas Central BIS\", \"Sierra Colima\",\n",
        "                                      \"Rio Fresnillo\", \"Bahia Manzanillo\", \"San Luis Norte\", \"San Luis Alturas\", \"Cumbres Zacatecas\"],\n",
        "        \"Zona Valles Centrales\": [\"Plaza Celaya\", \"Hidalgo Valle\", \"Jardines Irapuato\", \"Jardines Irapuato BIS\",\n",
        "                                  \"Canadas Leon\", \"Norte Leon\", \"Canadas Leon BIS\"],\n",
        "        \"Zona Tierra de lagos\": [\"Valle Piedad\", \"Bahia Lazaro\", \"Colinas Morelia\", \"Morelia Norte\", \"Morelia Norte BIS\",\n",
        "                                 \"Camelinas Plaza\", \"Jardines Uruapan\", \"Valle Zamora\",\n",
        "                                 \"Valle Zamora BIS\", \"Riviera Zihua\", \"Montes Zitacuaro\"],\n",
        "        \"Zona Cumbres del Pacifico\": [\"GDL Central\", \"Norte GDL\", \"Riviera Vallarta\", \"Riviera Vallarta BIS\",\n",
        "                                      \"Valle Tepic\", \"Norte Tepic\", \"Jardines Tlaque\", \"Montes Tonala\"],\n",
        "        \"Zona Valles del Pacifico\": [\"Guzman Valle\", \"IMSS GDL\", \"Oblatos Plaza\",\n",
        "                                     \"Las Aguilas\", \"Zapopan Plaza\"]\n",
        "    },\n",
        "    \"Red Sureste\": {\n",
        "        \"Zona Selva Alta\": [\"Rio Coatzacoalcos\", \"Valle Comitan\", \"Selva Tapachula\", \"Tuxtla Norte\", \"Tuxtla Central\",\n",
        "                            \"Villa Central\", \"Villa Norte\", \"Villa Norte BIS\", \"Villa Alturas\"],\n",
        "        \"Zona Sierra Escondida\": [\"Sierra Oaxaca\", \"Riviera Escondida\", \"Bahia Cruz\", \"Bahia Cruz BIS\", \"Rio Tuxtepec\"],\n",
        "        \"Zona Riviera del Caribe\": [\"Bahia Campeche\", \"Riviera Cancun\", \"Bahia Chetumal\", \"Isla del Carmen\",\n",
        "                                   \"Sierra Merida\", \"Merida Norte\", \"Alturas Merida\", \"Sierra Merida BIS\",\n",
        "                                   \"Riviera Playa\"],\n",
        "    },\n",
        "}\n"
      ],
      "metadata": {
        "id": "JohMuYMHD56t"
      },
      "execution_count": null,
      "outputs": []
    },
    {
      "cell_type": "markdown",
      "source": [
        "#### Converge 'BIS' and Split Column script"
      ],
      "metadata": {
        "id": "fRFSm4hwWQmz"
      }
    },
    {
      "cell_type": "code",
      "source": [
        "# Step 1: Leave min unit (vendedores)\n",
        "filtered_df = df[df['sucursal'] != 'Total']\n",
        "filtered_df = filtered_df[~filtered_df['sucursal'].isin(regions)]\n",
        "filtered_df = filtered_df[~filtered_df['sucursal'].isin(divisions)]\n",
        "\n",
        "# Step 2: Combine \" BIS\" with corresponding non-BIS values\n",
        "filtered_df['sucursal'] = filtered_df['sucursal'].apply(lambda x: x.replace(' BIS', ''))\n",
        "\n",
        "# Step 3: Delete row with region but without vendor\n",
        "# is a 'Vendedor' to check for non-null values\n",
        "filtered_df = filtered_df[filtered_df['vendedor'].notna()]"
      ],
      "metadata": {
        "id": "mP9xZhvnbuow",
        "collapsed": true
      },
      "execution_count": null,
      "outputs": []
    },
    {
      "cell_type": "code",
      "source": [
        "# Step 4: Add region and division columns\n",
        "def extract_region_division(location, loc_struct):\n",
        "  \"\"\"Extracts region and division from loc_struct based on location.\n",
        "\n",
        "  Args:\n",
        "  location: The location name.\n",
        "  locsStruct: The nested dictionary containing location information.\n",
        "\n",
        "  Returns:\n",
        "  A tuple containing region and division, or None if not found.\n",
        "  \"\"\"\n",
        "\n",
        "  for region, divisions in loc_struct.items():\n",
        "    if isinstance(divisions, dict):\n",
        "      for division, locations_list in divisions.items():\n",
        "        if location in locations_list:\n",
        "          return region, division\n",
        "    elif location in divisions:\n",
        "      return region, None\n",
        "\n",
        "  return None, None\n",
        "\n",
        "# Apply the function to create new columns\n",
        "filtered_df['region'], filtered_df['division'] = zip(*filtered_df['sucursal'].apply(extract_region_division, args=(loc_struct,)))\n",
        "# Insert 'region' as the first column\n",
        "filtered_df.insert(0, 'region', filtered_df.pop('region'))\n",
        "# Insert 'division' as the second column\n",
        "filtered_df.insert(1, 'division', filtered_df.pop('division'))"
      ],
      "metadata": {
        "id": "uoX41YvvQknh"
      },
      "execution_count": null,
      "outputs": []
    },
    {
      "cell_type": "code",
      "source": [
        "x, y = extract_region_division('Riviera Playa', loc_struct)\n",
        "print(x, y)\n",
        "print(loc_struct[\"Red Sureste\"]['Zona Selva Alta'][2])"
      ],
      "metadata": {
        "id": "ZIIyEA-USrcd",
        "colab": {
          "base_uri": "https://localhost:8080/"
        },
        "outputId": "4ff9b766-5d08-4b36-fa28-d72b63e8910f"
      },
      "execution_count": null,
      "outputs": [
        {
          "output_type": "stream",
          "name": "stdout",
          "text": [
            "Red Sureste Zona Riviera del Caribe\n",
            "Selva Tapachula\n"
          ]
        }
      ]
    },
    {
      "cell_type": "markdown",
      "source": [
        "### Exclusion of stores with less than 30 vendors\n"
      ],
      "metadata": {
        "id": "4ogJwTT4WIIA"
      }
    },
    {
      "cell_type": "markdown",
      "source": [
        "In the follow code, we identify stores' vendors information. It returns:\n",
        "*    The total amount of stores\n",
        "*    Stores with less 30 vendors\n",
        "*    Number of vendors working within the mentioned stores.\n",
        "\n",
        "Then it removed all this stores from the dataframe"
      ],
      "metadata": {
        "id": "PIKhy0r8D71r"
      }
    },
    {
      "cell_type": "code",
      "source": [
        "# Group by 'sucursal' and count the number of 'vendedor' for each\n",
        "sucursal_vendor_count = filtered_df.groupby('sucursal')['vendedor'].count()\n",
        "\n",
        "# Filter for sucursals with less than 30 vendors\n",
        "filtered_sucursals = sucursal_vendor_count[sucursal_vendor_count < 30]\n",
        "\n",
        "# Sort the results in ascending order\n",
        "sorted_sucursals = filtered_sucursals.sort_values()\n",
        "\n",
        "# Convert to a list\n",
        "sucursal_list = sorted_sucursals.index.tolist()\n",
        "\n",
        "# Print the result\n",
        "print(f\"Total sucursales: {filtered_df['sucursal'].nunique()}\")\n",
        "print(f\"Sucursales with less than 30 vendors ({len(sucursal_list)}):\")\n",
        "\n",
        "# Show some of the sucursales\n",
        "for sucursal in sucursal_list[:5]:\n",
        "    print(f\"{sucursal}: {sucursal_vendor_count[sucursal]} vendors\")\n",
        "\n",
        "print(f\"Quanty of vendors in sucursal with less than 30 vendors: {len(filtered_df[filtered_df['sucursal'].isin(sucursal_list)])}\")\n",
        "\n",
        "# Remove the sucursales with less than 30 vendors from the DataFrame\n",
        "filtered_df = filtered_df[~filtered_df['sucursal'].isin(sucursal_list)]\n",
        "\n",
        "print(f\"Sucursales with 30 or more vendors: {filtered_df['sucursal'].nunique()}\")\n",
        "print(f\"Quanty of vendors in sucursal with 30 or more vendors: {len(filtered_df)}\")"
      ],
      "metadata": {
        "id": "ea6U8aYVmSgq",
        "outputId": "a15805bb-ee5b-4dc4-efe2-91a08d0c3e19",
        "colab": {
          "base_uri": "https://localhost:8080/"
        }
      },
      "execution_count": null,
      "outputs": [
        {
          "output_type": "stream",
          "name": "stdout",
          "text": [
            "Total sucursales: 195\n",
            "Sucursales with less than 30 vendors (48):\n",
            "Conexion Magna: 1 vendors\n",
            "Centro Metropolis: 1 vendors\n",
            "Guadalajara Tres: 2 vendors\n",
            "Puerto Magna: 2 vendors\n",
            "Enlace Regio: 3 vendors\n",
            "Quanty of vendors in sucursal with less than 30 vendors: 736\n",
            "Sucursales with 30 or more vendors: 147\n",
            "Quanty of vendors in sucursal with 30 or more vendors: 9312\n"
          ]
        }
      ]
    },
    {
      "cell_type": "markdown",
      "source": [
        "### Save clean database"
      ],
      "metadata": {
        "id": "ac8cer1uB6C_"
      }
    },
    {
      "cell_type": "markdown",
      "source": [
        "Before we start performing operations and other procedures, we save the 'clean db'.\n",
        "\n",
        "*Note: It still need some work like initial imputations but it will be handle further in this Notebook.*"
      ],
      "metadata": {
        "id": "34BBRu5ECCM5"
      }
    },
    {
      "cell_type": "code",
      "source": [
        "# Print the result\n",
        "print(filtered_df.shape[0])  # Number of rows\n",
        "filtered_df.to_csv('clean_db.csv', index=False)\n",
        "# filtered_df.sample(6)\n",
        "\n",
        "#quitar las sucursales que no se van a utilizar"
      ],
      "metadata": {
        "id": "iu0SVJ5QNYlb",
        "outputId": "538a9e88-cb70-414f-e9bd-36142b71f6d0",
        "colab": {
          "base_uri": "https://localhost:8080/"
        },
        "collapsed": true
      },
      "execution_count": null,
      "outputs": [
        {
          "output_type": "stream",
          "name": "stdout",
          "text": [
            "9312\n"
          ]
        }
      ]
    },
    {
      "cell_type": "markdown",
      "source": [
        "## Calculation of new indicators\n"
      ],
      "metadata": {
        "id": "b5JsVt48QkZJ"
      }
    },
    {
      "cell_type": "markdown",
      "source": [
        "### New data frames for SI, SI_vnc, Mora 30-89 and CST\n",
        "To get the expected indicators of the dataframe, we extract the informarion of SI, SI_vnc, Mora 30-89 and CST from m_12 to actual, in individual dataframes so it is easier to use for operations."
      ],
      "metadata": {
        "id": "RlCGt-0vdknJ"
      }
    },
    {
      "cell_type": "code",
      "source": [
        "def group_and_save(filtered_df, columns_prefixes, output_filename, group_by='sucursal', output_dir='original_indicators'):\n",
        "    # Create the directory if it doesn't exist\n",
        "    if not os.path.exists(output_dir):\n",
        "        os.makedirs(output_dir)\n",
        "\n",
        "    # Identifying the columns to sum based on the provided prefixes\n",
        "    columns_to_sum = [col for col in filtered_df.columns if any(col.startswith(prefix) for prefix in columns_prefixes) or col in columns_prefixes]\n",
        "\n",
        "    # Grouping by the specified column(s) and summing the selected columns\n",
        "    grouped_df = filtered_df.groupby([group_by])[columns_to_sum].sum().reset_index()\n",
        "\n",
        "    # Saving the grouped dataframe to a CSV file\n",
        "    grouped_df.to_csv(os.path.join(output_dir, output_filename), index=False)\n",
        "\n",
        "    # Return the grouped dataframe for further use\n",
        "    return columns_to_sum, grouped_df\n",
        "\n",
        "\n",
        "## Extraction of SI\n",
        "si_columns, grouped_si = group_and_save(filtered_df, ['si_m_', 'si_act'], 'grouped_si.csv')\n",
        "\n",
        "## Extraction of SIV\n",
        "si_vnc_columns, grouped_vnc = group_and_save(filtered_df, ['si_vnc_m_', 'si_vnc_act'], 'grouped_si_vnc.csv')\n",
        "\n",
        "## Extraction of CST\n",
        "cst_columns, grouped_cst = group_and_save(filtered_df, ['cst_'], 'grouped_cst.csv')\n",
        "\n",
        "## Extraction of SI 30-89\n",
        "si_30_89_columns, grouped_30_89 = group_and_save(filtered_df, ['si_30_89_m_', 'si_30_89_act'], 'grouped_si_30_89.csv')\n"
      ],
      "metadata": {
        "id": "IuDhh9zOEgNB"
      },
      "execution_count": null,
      "outputs": []
    },
    {
      "cell_type": "markdown",
      "source": [
        "### CST imputation"
      ],
      "metadata": {
        "id": "xs1l2fesxS1Q"
      }
    },
    {
      "cell_type": "code",
      "source": [
        "# CST data imputation with mean\n",
        "\n",
        "grouped_cst_row_mean_imputed = grouped_cst.copy()\n",
        "\n",
        "# Identify numeric columns, excluding the first column\n",
        "numeric_columns = grouped_cst_row_mean_imputed.columns[1:]  # Skip the first column\n",
        "\n",
        "# Replace zeros with NaN in the numeric columns (if needed)\n",
        "grouped_cst_row_mean_imputed[numeric_columns] = grouped_cst_row_mean_imputed[numeric_columns].replace(0, pd.NA)\n",
        "\n",
        "# Impute missing values with the mean of each row, excluding the first column\n",
        "grouped_cst_row_mean_imputed[numeric_columns] = grouped_cst_row_mean_imputed[numeric_columns].apply(lambda row: row.fillna(row.mean()), axis=1)\n",
        "grouped_cst_row_mean_imputed.to_csv('grouped__cst_row_mean_imputed.csv', index=False)"
      ],
      "metadata": {
        "id": "rL17T4i-xMx4"
      },
      "execution_count": null,
      "outputs": []
    },
    {
      "cell_type": "markdown",
      "source": [
        "### Calculate of ICV, %MORA30-89, iMORA"
      ],
      "metadata": {
        "id": "82jiwLAvjpHM"
      }
    },
    {
      "cell_type": "code",
      "source": [
        "# Function to calculate new indicators and save them to a CSV file\n",
        "def calculate_and_save_indicator(si_columns, si_target_columns, grouped_si, grouped_target, indicator_name, output_file):\n",
        "    indicator_df = pd.DataFrame()\n",
        "\n",
        "    # Calculate the indicator for each column\n",
        "    for si_col, target_col, i in zip(si_columns, si_target_columns, range(13, 0, -1)):\n",
        "        new_column_name = f\"{indicator_name}{i-1}\"\n",
        "        indicator_df[new_column_name] = (grouped_target[target_col] / grouped_si[si_col]) * 100 # Porcentage\n",
        "\n",
        "    # Rename the first column and insert 'sucursal'\n",
        "    indicator_df.rename(columns={f\"{indicator_name}0\": f\"{indicator_name}_actual\"}, inplace=True)\n",
        "    indicator_df.insert(0, 'sucursal', grouped_target.pop('sucursal'))\n",
        "\n",
        "    # Save the DataFrame to a CSV file\n",
        "    indicator_df.to_csv(output_file, index=False)\n",
        "\n",
        "    return indicator_df\n",
        "\n",
        "# Create the directory if it doesn't exist\n",
        "os.makedirs('new_indicators', exist_ok=True)\n",
        "\n",
        "# Calculate mora_30_89 and save to CSV\n",
        "mora_30_89 = calculate_and_save_indicator(\n",
        "    si_columns=si_columns,\n",
        "    si_target_columns=si_30_89_columns,\n",
        "    grouped_si=grouped_si,\n",
        "    grouped_target=grouped_30_89,\n",
        "    indicator_name=\"mora\",\n",
        "    output_file='new_indicators/mora_30_89.csv'\n",
        ")\n",
        "\n",
        "# Calculate ICV and save to CSV\n",
        "icv = calculate_and_save_indicator(\n",
        "    si_columns=si_columns,\n",
        "    si_target_columns=si_vnc_columns,\n",
        "    grouped_si=grouped_si,\n",
        "    grouped_target=grouped_vnc,\n",
        "    indicator_name=\"icv\",\n",
        "    output_file='new_indicators/icv.csv'\n",
        ")\n"
      ],
      "metadata": {
        "id": "Lr7ZbOpIR2YE"
      },
      "execution_count": null,
      "outputs": []
    },
    {
      "cell_type": "code",
      "source": [
        "# Function to calculate new indicator imora and save it to a CSV file\n",
        "def calculate_and_save_imora():\n",
        "  def calculate_cst_sum():\n",
        "    cst_sum = pd.DataFrame()\n",
        "\n",
        "    # Copy the first column (sucursal) to the new DataFrame\n",
        "    cst_sum['sucursal'] = grouped_cst.iloc[:, 0]\n",
        "\n",
        "    # Iterate over the columns in chunks of 12, starting from the second column\n",
        "    start_col = 1  # Starting from the second column (index 1)\n",
        "    chunk_size = 12\n",
        "    iteration = 1\n",
        "\n",
        "    while start_col + chunk_size <= grouped_cst.shape[1]:\n",
        "        # Sum the 12 columns\n",
        "        sum_col = grouped_cst.iloc[:, start_col:start_col + chunk_size].sum(axis=1)\n",
        "\n",
        "        # Add the result to the new DataFrame with a dynamic column name\n",
        "        cst_sum[f'cst_{13-iteration}'] = sum_col\n",
        "\n",
        "        # Move the start column index by one to slide the window\n",
        "        start_col += 1\n",
        "        iteration += 1\n",
        "\n",
        "    cst_sum.rename(columns={f\"cst_0\": \"cst_actual\"}, inplace=True)\n",
        "\n",
        "    cst_sum_columns = [col for col in cst_sum.columns if col.startswith('cst_')]\n",
        "\n",
        "    return cst_sum_columns, cst_sum\n",
        "\n",
        "  cst_sum_columns, cst_sum = calculate_cst_sum()\n",
        "\n",
        "  # Calculate ICV and save to CSV\n",
        "  imora= pd.DataFrame()\n",
        "\n",
        "  # Calculate the indicator for each column\n",
        "  for si_col, si_vnc_col, sum_cst_col, i in zip(si_columns, si_vnc_columns,cst_sum_columns, range(13, 0, -1)):\n",
        "      new_column_name = f\"imora{i-1}\"\n",
        "      imora[new_column_name] = ((grouped_vnc[si_vnc_col] + cst_sum[sum_cst_col]) / (grouped_si[si_col] + cst_sum[sum_cst_col])) * 100 # Porcetage\n",
        "\n",
        "  # Rename the first column and insert 'sucursal'\n",
        "  imora.rename(columns={f\"imora0\": \"imora_actual\"}, inplace=True)\n",
        "  imora.insert(0, 'sucursal', cst_sum.pop('sucursal'))\n",
        "\n",
        "  # Save the DataFrame to a CSV file\n",
        "  imora.to_csv('new_indicators/imora.csv', index=False)\n",
        "\n",
        "  return imora\n",
        "\n",
        "imora = calculate_and_save_imora()"
      ],
      "metadata": {
        "id": "TXuFss52Scf8"
      },
      "execution_count": null,
      "outputs": []
    },
    {
      "cell_type": "markdown",
      "source": [
        "## Stadistics"
      ],
      "metadata": {
        "id": "8z8wBrg1milB"
      }
    },
    {
      "cell_type": "code",
      "source": [
        "na = filtered_df.isna().sum()\n",
        "print(na)\n",
        "\n",
        "test = filtered_df.copy(deep=True)\n",
        "\n",
        "# Identify duplicates\n",
        "duplicates = test[test.duplicated(subset=['vendedor'], keep=False)]\n",
        "\n",
        "# Sort duplicates by 'vendedor' for better readability\n",
        "duplicates_sorted = duplicates.sort_values('vendedor')\n",
        "\n",
        "# Create a list of lists with 'vendedor' and 'sucursal' for each duplicate\n",
        "duplicate_list = duplicates_sorted[['vendedor', 'sucursal']].values.tolist()\n",
        "\n",
        "print(\"\\nNumber of rows before removing duplicates:\", len(test))\n",
        "print(\"Number of duplicate rows:\", len(duplicates))\n",
        "\n",
        "# Remove duplicates\n",
        "test.drop_duplicates(subset=['vendedor'], inplace=True)\n",
        "\n",
        "print(\"Number of rows after removing duplicates:\", len(test))\n",
        "\n",
        "# Display the list of first 5 duplicates\n",
        "print(\"\\nList of duplicates (vendedor, sucursal):\")\n",
        "for item in duplicate_list[10:15]:\n",
        "    print(item)\n",
        "\n"
      ],
      "metadata": {
        "id": "HSklql09g_7A",
        "colab": {
          "base_uri": "https://localhost:8080/"
        },
        "outputId": "b5a8520b-edab-4799-8060-fff00c7e7f4b"
      },
      "execution_count": null,
      "outputs": [
        {
          "output_type": "stream",
          "name": "stdout",
          "text": [
            "region         0\n",
            "division       0\n",
            "sucursal       0\n",
            "vendedor       0\n",
            "si_m_12      466\n",
            "            ... \n",
            "qts_m_04    8263\n",
            "qts_m_03    8244\n",
            "qts_m_02    7986\n",
            "qts_m_01    7096\n",
            "qts_act     8049\n",
            "Length: 182, dtype: int64\n",
            "\n",
            "Number of rows before removing duplicates: 9312\n",
            "Number of duplicate rows: 1136\n",
            "Number of rows after removing duplicates: 8719\n",
            "\n",
            "List of duplicates (vendedor, sucursal):\n",
            "['AAM_0031', 'Pilares del Norte']\n",
            "['AAM_0856', 'Jardines Manuel']\n",
            "['AAM_0856', 'Colinas Miron']\n",
            "['AAM_1095', 'Norte Mexicali']\n",
            "['AAM_1095', 'Valle Mexicali']\n"
          ]
        }
      ]
    },
    {
      "cell_type": "code",
      "source": [
        "def correlation_matrix_between_datasets(x, df2):\n",
        "    x=x.iloc[:,1:]\n",
        "    df2=df2.iloc[:,1:]\n",
        "    # B\n",
        "    x, df2 = x.align(df2, join='inner', axis=0)\n",
        "\n",
        "    # Initialize a DataFrame to store the correlation matrix\n",
        "    correlation_matrix = pd.DataFrame(index=x.columns, columns=df2.columns)\n",
        "    x.head()\n",
        "    df2.head()\n",
        "    # Calculate the Pearson correlation coefficient for each pair of columns\n",
        "    for col1 in x.columns:\n",
        "        for col2 in df2.columns:\n",
        "            correlation_matrix.loc[col1, col2] = x[col1].corr(df2[col2])\n",
        "\n",
        "    # Convert the values to numeric\n",
        "    correlation_matrix = correlation_matrix.astype(float)\n",
        "\n",
        "    # Create a heatmap to visualize the correlation matrix\n",
        "    plt.figure(figsize=(10, 8))\n",
        "    sns.heatmap(correlation_matrix, annot=True, fmt=\".2f\", cmap=\"coolwarm\", cbar=True)\n",
        "    plt.title(\"Correlation Matrix between \")\n",
        "    plt.xlabel(\"Columns from Dataset 2\")\n",
        "    plt.ylabel(\"Columns from Dataset 1\")\n",
        "    plt.show()\n",
        "\n",
        "    return correlation_matrix\n",
        "\n",
        "correlation_matrix = correlation_matrix_between_datasets(imora, icv)"
      ],
      "metadata": {
        "id": "HeGfB-aZmz8y",
        "colab": {
          "base_uri": "https://localhost:8080/",
          "height": 774
        },
        "outputId": "1a8220c1-4312-4009-c0d6-b470973abe23"
      },
      "execution_count": null,
      "outputs": [
        {
          "output_type": "display_data",
          "data": {
            "text/plain": [
              "<Figure size 1000x800 with 2 Axes>"
            ],
            "image/png": "[encoded data removed]"
          },
          "metadata": {}
        }
      ]
    },
    {
      "cell_type": "markdown",
      "source": [
        "## Outliers Imputation\n"
      ],
      "metadata": {
        "id": "Nm9Flvh4O7HW"
      }
    },
    {
      "cell_type": "markdown",
      "source": [
        "### Step 1: Visualize Data Before Outlier Imputation\n",
        "\n",
        "Before proceeding with the outlier imputation, it's important to visually inspect the data to determine if imputation is necessary. We'll examine three key aspects for each indicator (`imora`, `mora_30_89`, `icv`) across all sucursales:\n",
        "\n",
        "1. **Boxplot**: To identify potential outliers.\n",
        "2. **Histogram**: To analyze the frequency distribution.\n",
        "3. **Time Series**: To observe the evolution of each indicator over time.\n",
        "\n",
        "For each sucursal, we'll create a 3x3 grid of plots that includes these three graphs for each indicator.\n"
      ],
      "metadata": {
        "id": "rIMqjGlfQ-to"
      }
    },
    {
      "cell_type": "code",
      "source": [
        "## Intento 2\n",
        "\n",
        "# Directory paths\n",
        "base_dir = 'new_indicators_outputs'\n",
        "before_dir = os.path.join(base_dir, 'before_imputation')\n",
        "after_dir = os.path.join(base_dir, 'after_imputation')\n",
        "\n",
        "# Ensure directories exist\n",
        "os.makedirs(before_dir, exist_ok=True)\n",
        "os.makedirs(after_dir, exist_ok=True)\n",
        "\n",
        "# Create 3x3 graphs grid for each sucursal function\n",
        "def save_combined_plots(icv, mora_30_89, imora, directory):\n",
        "    for index, row_label in enumerate(icv.iloc[:, 0]):  # Using the first column for naming\n",
        "        if index == 0:  # Skip the first row (if necessary)\n",
        "            continue\n",
        "\n",
        "        fig, axes = plt.subplots(3, 3, figsize=(18, 18))  # 3x2 grid\n",
        "\n",
        "        # Plot icv row\n",
        "        axes[0, 0].bar(icv.columns[1:], icv.iloc[index, 1:])  # Bar chart with column labels as x-axis\n",
        "        axes[0, 0].set_xlabel('Month')  # Set x-axis title\n",
        "        axes[0, 0].set_ylabel('Porcentage')  # Set y-axis title\n",
        "        axes[0, 0].set_title(f'{row_label} - ICV Change Over Time')\n",
        "        axes[0, 0].set_xticklabels(icv.columns[1:], rotation=45, ha='right')\n",
        "\n",
        "        axes[0, 1].boxplot(icv.iloc[index, 1:])  # Boxplot of the row (excluding the first column)\n",
        "        axes[0, 1].set_ylabel('Porcentage')\n",
        "        axes[0, 1].set_title(f'{row_label} - ICV Boxplot')\n",
        "\n",
        "        axes[0, 2].hist(icv.iloc[index, 1:])  # Histogram of the row (excluding the first column)\n",
        "        axes[0, 2].set_xlabel('Percentage')  # Set x-axis title\n",
        "        axes[0, 2].set_ylabel('Frequency')  # Set y-axis title\n",
        "        axes[0, 2].set_title(f'{row_label} - ICV Histogram')\n",
        "\n",
        "        # Plot mora_30_89 row\n",
        "        axes[1, 0].bar(mora_30_89.columns[1:], mora_30_89.iloc[index, 1:])\n",
        "        axes[1, 0].set_xlabel('Month')\n",
        "        axes[1, 0].set_ylabel('Porcentage')\n",
        "        axes[1, 0].set_title(f'{row_label} - Mora 30-89 Change Over Time')\n",
        "        axes[1, 0].set_xticklabels(mora_30_89.columns[1:], rotation=45, ha='right')\n",
        "\n",
        "        axes[1, 1].boxplot(mora_30_89.iloc[index, 1:])\n",
        "        axes[1, 1].set_ylabel('Porcentage')\n",
        "        axes[1, 1].set_title(f'{row_label} - Mora 30-89 Boxplot')\n",
        "\n",
        "        axes[1, 2].hist(mora_30_89.iloc[index, 1:])\n",
        "        axes[1, 2].set_xlabel('Percentage')\n",
        "        axes[1, 2].set_ylabel('Frequency')\n",
        "        axes[1, 2].set_title(f'{row_label} - Mora 30-89 Histogram')\n",
        "\n",
        "        # Plot imora row\n",
        "        axes[2, 0].bar(imora.columns[1:], imora.iloc[index, 1:])\n",
        "        axes[2, 0].set_xlabel('Month')\n",
        "        axes[2, 0].set_ylabel('Porcentage')\n",
        "        axes[2, 0].set_title(f'{row_label} - Imora Change Over Time')\n",
        "        axes[2, 0].set_xticklabels(imora.columns[1:], rotation=45, ha='right')\n",
        "\n",
        "        axes[2, 1].boxplot(imora.iloc[index, 1:])\n",
        "        axes[2, 1].set_ylabel('Porcentage')\n",
        "        axes[2, 1].set_title(f'{row_label} - Imora Boxplot')\n",
        "\n",
        "        axes[2, 2].hist(imora.iloc[index, 1:])\n",
        "        axes[2, 2].set_xlabel('Percentage')\n",
        "        axes[2, 2].set_ylabel('Frequency')\n",
        "        axes[2, 2].set_title(f'{row_label} - Imora Histogram')\n",
        "\n",
        "        plt.tight_layout()\n",
        "\n",
        "        # File naming convention: <row_label>_combined_plots.png\n",
        "        combined_path = os.path.join(directory, f'{row_label}_combined_plots.png')\n",
        "\n",
        "        fig.savefig(combined_path)  # Save the combined plot\n",
        "        plt.close(fig)\n",
        "\n",
        "# Create the images for each sucursal before imputation\n",
        "save_combined_plots(icv, mora_30_89, imora, before_dir)"
      ],
      "metadata": {
        "id": "NavoyUSJ8NRf"
      },
      "execution_count": null,
      "outputs": []
    },
    {
      "cell_type": "markdown",
      "source": [
        "### Step 2: Outlier Imputation using median\n",
        "Given that the dataset contains 12 months of data, this is insufficient to use histograms for determining whether the distribution of each variable follows a Normal distribution. Therefore, outlier imputation is performed using the median (Q2). This process involves the following steps:\n",
        "\n",
        "1. **Calculation of Quartiles**: For each variable (representing the indicator values across the 12 months), the first quartile (Q1), the median (Q2), and the third quartile (Q3) are calculated.\n",
        "\n",
        "2. **Establishing the IQR Range**: The interquartile range (IQR) is determined as the difference between Q3 and Q1. This range helps define the expected spread of data points.\n",
        "\n",
        "3. **Outlier Identification**: Any data point that falls outside the range defined by \\( Q1 - 1.5 \\times IQR \\) and \\( Q3 + 1.5 \\times IQR \\) is considered an outlier.\n",
        "\n",
        "4. **Imputation with the Median**: When an outlier is detected (i.e., a value for a specific month falls outside the IQR range), it is replaced with the median value (Q2) for that indicator. This approach ensures that the outliers do not skew the results but are instead normalized based on the central tendency of the data.\n"
      ],
      "metadata": {
        "id": "DfrvCOTQPymA"
      }
    },
    {
      "cell_type": "code",
      "source": [
        "def imputate_outliers_with_median(file_path):\n",
        "    # Load the CSV file\n",
        "    df = pd.read_csv(file_path)\n",
        "\n",
        "    # Identify the columns containing the indicators (excluding the sucursal column)\n",
        "    indicator_columns = df.columns[1:]\n",
        "\n",
        "    # Function to imputate outliers with median based on IQR for a single sucursal\n",
        "    def imputate_outliers(sucursal_df):\n",
        "        # Calculate Q1 (25th percentile), Q3 (75th percentile), and the median (Q2)\n",
        "        Q1 = sucursal_df[indicator_columns].quantile(0.25)\n",
        "        Q3 = sucursal_df[indicator_columns].quantile(0.75)\n",
        "        IQR = Q3 - Q1\n",
        "        Q2 = sucursal_df[indicator_columns].median()\n",
        "\n",
        "        # Define lower and upper bounds for outliers\n",
        "        lower_bound = Q1 - 1.5 * IQR\n",
        "        upper_bound = Q3 + 1.5 * IQR\n",
        "\n",
        "        # Replace outliers with the median\n",
        "        for col in indicator_columns:\n",
        "            sucursal_df.loc[(sucursal_df[col] < lower_bound[col]) | (sucursal_df[col] > upper_bound[col]), col] = Q2[col]\n",
        "\n",
        "        return sucursal_df\n",
        "\n",
        "    # Apply the imputate outliers function to each sucursal\n",
        "    imputed_df = df.groupby('sucursal').apply(imputate_outliers).reset_index(drop=True)\n",
        "\n",
        "    # Save the imputed DataFrame to a new CSV file\n",
        "    imputed_file_path = file_path.replace(\".csv\", \"_imputed.csv\")\n",
        "    imputed_df.to_csv(imputed_file_path, index=False)\n",
        "\n",
        "    return imputed_df, imputed_file_path\n",
        "\n",
        "# Applying the function to the provided files\n",
        "imputed_mora_30_89_df, mora_30_89_imputed_path = imputate_outliers_with_median('/content/new_indicators/mora_30_89.csv')\n",
        "imputed_icv_df, icv_imputed_path = imputate_outliers_with_median('/content/new_indicators/icv.csv')\n",
        "imputate_imora_df, imora_imputed_path = imputate_outliers_with_median('/content/new_indicators/imora.csv')"
      ],
      "metadata": {
        "id": "EC7NpFOVOV9u"
      },
      "execution_count": null,
      "outputs": []
    },
    {
      "cell_type": "markdown",
      "source": [
        "### Step 3: Visualize Data After Outlier Imputation\n",
        "\n",
        "After completing the outlier imputation, it's essential to re-evaluate the data to confirm the effectiveness of the imputation process. This step mirrors the initial visualization process but focuses on the updated dataset to ensure that the imputation has appropriately adjusted any outliers. We'll create the same 3x3 grid of plots for each sucursal, including:\n",
        "\n",
        "1. **Boxplot**: To verify that outliers have been appropriately addressed and no extreme values remain outside the expected range.\n",
        "2. **Histogram**: To examine any changes in the frequency distribution after the imputation, ensuring the distribution remains as expected.\n",
        "3. **Time Series**: To observe the impact of imputation on the trend and continuity of each indicator over time.\n",
        "\n",
        "By comparing these post-imputation visualizations with the initial ones, we can assess whether the imputation has successfully mitigated the effects of outliers without distorting the overall data patterns.\n"
      ],
      "metadata": {
        "id": "39W42C1UTrjc"
      }
    },
    {
      "cell_type": "code",
      "source": [
        "# Directory paths\n",
        "base_dir = 'new_indicators_outputs'\n",
        "after_dir = os.path.join(base_dir, 'after_imputation')\n",
        "\n",
        "# Ensure directory exists\n",
        "os.makedirs(after_dir, exist_ok=True)\n",
        "\n",
        "# Create the images for each sucursal after imputation\n",
        "save_combined_plots(icv, mora_30_89, imora, before_dir)"
      ],
      "metadata": {
        "id": "EUbQIUcjUVlF"
      },
      "execution_count": null,
      "outputs": []
    }
  ]
}