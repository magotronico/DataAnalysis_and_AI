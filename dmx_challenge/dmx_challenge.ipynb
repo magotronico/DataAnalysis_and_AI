{
  "nbformat": 4,
  "nbformat_minor": 0,
  "metadata": {
    "colab": {
      "provenance": [],
      "collapsed_sections": [
        "pHKXiQx1Mw-x",
        "14XbrQo7MBXs",
        "Gkd6nj7zQxwM",
        "FgagX-RNQodR",
        "4ogJwTT4WIIA",
        "ac8cer1uB6C_"
      ],
      "toc_visible": true,
      "include_colab_link": true
    },
    "kernelspec": {
      "name": "python3",
      "display_name": "Python 3"
    },
    "language_info": {
      "name": "python"
    }
  },
  "cells": [
    {
      "cell_type": "markdown",
      "metadata": {
        "id": "view-in-github",
        "colab_type": "text"
      },
      "source": [
        "<a href=\"https://colab.research.google.com/github/magotronico/DataAnalysis_and_AI/blob/main/dmx_challenge/dmx_challenge.ipynb\" target=\"_parent\"><img src=\"https://colab.research.google.com/assets/colab-badge.svg\" alt=\"Open In Colab\"/></a>"
      ]
    },
    {
      "cell_type": "markdown",
      "source": [
        "# DmX Challenge: Company Policies to Maximize Branch Income\n"
      ],
      "metadata": {
        "id": "-jKdHAwH-yhp"
      }
    },
    {
      "cell_type": "markdown",
      "source": [
        "**Overview**\n",
        "\n",
        "This notebook is designed to analyze the efficiency of each branch and its associated salesmen using the data provided by DmX. The primary goal of this analysis is to extract valuable insights that can help in assessing and improving operational performance across different branches.\n",
        "\n",
        "**Process**\n",
        "\n",
        "This project involves implementing an **ETL (Extract, Transform, Load) pipeline**. The pipeline is responsible for:\n",
        "\n",
        "1.   **Extracting** the raw data from CSV files.\n",
        "2.   **Transforming** the data into a structured and insightful format.\n",
        "3.   **Loading** the processed data back into CSV files for further analysis or reporting.\n",
        "\n",
        "By the end of this notebook, you'll have a clear understanding of how each branch and salesman perform, allowing for data-driven decision-making to enhance overall efficiency.\n",
        "\n",
        "\n",
        "\n",
        "---\n",
        "Instituto Tecnológico y de Estudios Superiores de Monterrey\n",
        "\n",
        "Analítica de datos y herramientas de inteligencia artificial TI3001C.103\n",
        "\n",
        "Profesor: Enrique Ricardo García Hernández\n",
        "\n",
        "Equipo 2:\n",
        "*   Dilan González Castañeda A00831905\n",
        "*   Karim Omar Martínez Bazaldúa A00832999\n",
        "\n"
      ],
      "metadata": {
        "id": "CpGs-QRrDTZL"
      }
    },
    {
      "cell_type": "markdown",
      "source": [
        "## Extract\n"
      ],
      "metadata": {
        "id": "pHKXiQx1Mw-x"
      }
    },
    {
      "cell_type": "markdown",
      "source": [
        "**Data Overview**\n",
        "\n",
        "DmX provided an `.xlsx` file containing financial data for the previous 12 months and the current month. The dataset includes the following categories:\n",
        "\n",
        "*   **Saldo Insoluto:** The outstanding balance of loans or credits that have not yet been paid off.\n",
        "*   **Saldo Insoluto Vencido:** The overdue portion of the outstanding balance that has not been paid by the due date in 12 months.\n",
        "Pago Anticipado: The amount of money that has been paid ahead of schedule.\n",
        "*   **Capital Liquidado:** The amount of capital that has been fully paid off.\n",
        "*   **Capital Dispersado:** The amount of capital that has been distributed by the company.\n",
        "*   **Quitas:** A reduction in the debt amount negotiated with the client when full recovery is unlikely.\n",
        "*   **Castigos:** The formal recognition of uncollectible debt that is written off the financial records.\n",
        "\n",
        "The `.xlsx `file was not structured in a way that was easily compatible with Python and pandas. Therefore, we converted the file to .csv format to facilitate data analysis and manipulation."
      ],
      "metadata": {
        "id": "B8BwhfjjEaJ_"
      }
    },
    {
      "cell_type": "code",
      "source": [
        "%pip install unidecode\n",
        "%pip install matplotlib"
      ],
      "metadata": {
        "colab": {
          "base_uri": "https://localhost:8080/"
        },
        "collapsed": true,
        "id": "n-xrD2_kCf8P",
        "outputId": "5ac823a4-8b97-432c-900e-f16e1c452984"
      },
      "execution_count": 19,
      "outputs": [
        {
          "output_type": "stream",
          "name": "stdout",
          "text": [
            "Requirement already satisfied: unidecode in /usr/local/lib/python3.10/dist-packages (1.3.8)\n",
            "Requirement already satisfied: matplotlib in /usr/local/lib/python3.10/dist-packages (3.7.1)\n",
            "Requirement already satisfied: contourpy>=1.0.1 in /usr/local/lib/python3.10/dist-packages (from matplotlib) (1.2.1)\n",
            "Requirement already satisfied: cycler>=0.10 in /usr/local/lib/python3.10/dist-packages (from matplotlib) (0.12.1)\n",
            "Requirement already satisfied: fonttools>=4.22.0 in /usr/local/lib/python3.10/dist-packages (from matplotlib) (4.53.1)\n",
            "Requirement already satisfied: kiwisolver>=1.0.1 in /usr/local/lib/python3.10/dist-packages (from matplotlib) (1.4.5)\n",
            "Requirement already satisfied: numpy>=1.20 in /usr/local/lib/python3.10/dist-packages (from matplotlib) (1.26.4)\n",
            "Requirement already satisfied: packaging>=20.0 in /usr/local/lib/python3.10/dist-packages (from matplotlib) (24.1)\n",
            "Requirement already satisfied: pillow>=6.2.0 in /usr/local/lib/python3.10/dist-packages (from matplotlib) (9.4.0)\n",
            "Requirement already satisfied: pyparsing>=2.3.1 in /usr/local/lib/python3.10/dist-packages (from matplotlib) (3.1.2)\n",
            "Requirement already satisfied: python-dateutil>=2.7 in /usr/local/lib/python3.10/dist-packages (from matplotlib) (2.8.2)\n",
            "Requirement already satisfied: six>=1.5 in /usr/local/lib/python3.10/dist-packages (from python-dateutil>=2.7->matplotlib) (1.16.0)\n"
          ]
        }
      ]
    },
    {
      "cell_type": "code",
      "execution_count": 20,
      "metadata": {
        "id": "w5lmZH8TafNz"
      },
      "outputs": [],
      "source": [
        "import pandas as pd\n",
        "from unidecode import unidecode\n",
        "import matplotlib.pyplot as plt\n",
        "\n",
        "file_name = '/content/Indicadores_reto_AD24.csv'"
      ]
    },
    {
      "cell_type": "code",
      "source": [
        "# Load original DataBase (csv)\n",
        "df = pd.read_csv(file_name, encoding='utf-8')\n",
        "df.head(3)\n",
        "df.info()"
      ],
      "metadata": {
        "colab": {
          "base_uri": "https://localhost:8080/"
        },
        "id": "7fIfgrF4a3aN",
        "outputId": "b2e01f93-46eb-45a2-a5d9-6860cd5bd687",
        "collapsed": true
      },
      "execution_count": 21,
      "outputs": [
        {
          "output_type": "stream",
          "name": "stdout",
          "text": [
            "<class 'pandas.core.frame.DataFrame'>\n",
            "RangeIndex: 10322 entries, 0 to 10321\n",
            "Columns: 181 entries, Región to Quitas Actual\n",
            "dtypes: float64(167), object(14)\n",
            "memory usage: 14.3+ MB\n"
          ]
        }
      ]
    },
    {
      "cell_type": "markdown",
      "source": [
        "## Transform\n"
      ],
      "metadata": {
        "id": "Zu1Fgv3aNPeJ"
      }
    },
    {
      "cell_type": "markdown",
      "source": [
        "### Drop empty column and Columns Standardization"
      ],
      "metadata": {
        "id": "14XbrQo7MBXs"
      }
    },
    {
      "cell_type": "code",
      "source": [
        "# Original DB includes an empty column\n",
        "df.drop(columns=['Unnamed: 2'], inplace=True)\n",
        "\n",
        "# The column region in reality includes sucursales so it need to be renamed\n",
        "df.rename(columns={'Región': 'sucursal'}, inplace=True)\n",
        "df['sucursal'] = df['sucursal'].apply(unidecode)\n",
        "df.head()"
      ],
      "metadata": {
        "colab": {
          "base_uri": "https://localhost:8080/",
          "height": 0
        },
        "collapsed": true,
        "id": "ZqnZXuGcwmWz",
        "outputId": "7bab6870-697a-4d3f-a72f-5921c4ae1c7f"
      },
      "execution_count": 22,
      "outputs": [
        {
          "output_type": "execute_result",
          "data": {
            "text/plain": [
              "            sucursal  Vendedor  Saldo Insoluto T-12  Saldo Insoluto T-11  \\\n",
              "0  Centro Metropolis  MAA_6289                  NaN                  NaN   \n",
              "1  Centro Metropolis       NaN                  0.0                  0.0   \n",
              "2     Conexion Magna  MAG_7191                  0.0                  0.0   \n",
              "3     Conexion Magna       NaN                  0.0                  0.0   \n",
              "4       Enlace Regio  ALM_0607                  NaN                  NaN   \n",
              "\n",
              "   Saldo Insoluto T-10  Saldo Insoluto T-09  Saldo Insoluto T-08  \\\n",
              "0                  NaN                  NaN                  NaN   \n",
              "1                  0.0                  0.0                  0.0   \n",
              "2                  0.0                  0.0                  0.0   \n",
              "3                  0.0                  0.0                  0.0   \n",
              "4                  NaN                  NaN                  NaN   \n",
              "\n",
              "   Saldo Insoluto T-07  Saldo Insoluto T-06  Saldo Insoluto T-05  ...  \\\n",
              "0                  NaN                  NaN                  NaN  ...   \n",
              "1                  0.0                  0.0                  0.0  ...   \n",
              "2                  0.0                  0.0                  0.0  ...   \n",
              "3                  0.0                  0.0                  0.0  ...   \n",
              "4                  NaN                  NaN                  NaN  ...   \n",
              "\n",
              "   Quitas T-09  Quitas T-08  Quitas T-07  Quitas T-06  Quitas T-05  \\\n",
              "0          NaN          NaN          NaN          NaN          NaN   \n",
              "1          0.0          0.0          0.0          0.0          0.0   \n",
              "2          NaN          NaN          NaN          NaN          NaN   \n",
              "3          0.0          0.0          0.0          0.0          0.0   \n",
              "4          NaN          NaN          NaN          NaN          NaN   \n",
              "\n",
              "   Quitas T-04  Quitas T-03  Quitas T-02  Quitas T-01  Quitas Actual  \n",
              "0          NaN          NaN          NaN      1488.00           0.02  \n",
              "1          0.0          0.0         0.00      1488.00           0.02  \n",
              "2          NaN          NaN        -0.02      1913.46          -0.01  \n",
              "3          0.0          0.0        -0.02      1913.46          -0.01  \n",
              "4          NaN          NaN      2794.28          NaN            NaN  \n",
              "\n",
              "[5 rows x 180 columns]"
            ],
            "text/html": [
              "\n",
              "  <div id=\"df-f2b7d4af-948f-4369-8ad8-15abf3fb669f\" class=\"colab-df-container\">\n",
              "    <div>\n",
              "<style scoped>\n",
              "    .dataframe tbody tr th:only-of-type {\n",
              "        vertical-align: middle;\n",
              "    }\n",
              "\n",
              "    .dataframe tbody tr th {\n",
              "        vertical-align: top;\n",
              "    }\n",
              "\n",
              "    .dataframe thead th {\n",
              "        text-align: right;\n",
              "    }\n",
              "</style>\n",
              "<table border=\"1\" class=\"dataframe\">\n",
              "  <thead>\n",
              "    <tr style=\"text-align: right;\">\n",
              "      <th></th>\n",
              "      <th>sucursal</th>\n",
              "      <th>Vendedor</th>\n",
              "      <th>Saldo Insoluto T-12</th>\n",
              "      <th>Saldo Insoluto T-11</th>\n",
              "      <th>Saldo Insoluto T-10</th>\n",
              "      <th>Saldo Insoluto T-09</th>\n",
              "      <th>Saldo Insoluto T-08</th>\n",
              "      <th>Saldo Insoluto T-07</th>\n",
              "      <th>Saldo Insoluto T-06</th>\n",
              "      <th>Saldo Insoluto T-05</th>\n",
              "      <th>...</th>\n",
              "      <th>Quitas T-09</th>\n",
              "      <th>Quitas T-08</th>\n",
              "      <th>Quitas T-07</th>\n",
              "      <th>Quitas T-06</th>\n",
              "      <th>Quitas T-05</th>\n",
              "      <th>Quitas T-04</th>\n",
              "      <th>Quitas T-03</th>\n",
              "      <th>Quitas T-02</th>\n",
              "      <th>Quitas T-01</th>\n",
              "      <th>Quitas Actual</th>\n",
              "    </tr>\n",
              "  </thead>\n",
              "  <tbody>\n",
              "    <tr>\n",
              "      <th>0</th>\n",
              "      <td>Centro Metropolis</td>\n",
              "      <td>MAA_6289</td>\n",
              "      <td>NaN</td>\n",
              "      <td>NaN</td>\n",
              "      <td>NaN</td>\n",
              "      <td>NaN</td>\n",
              "      <td>NaN</td>\n",
              "      <td>NaN</td>\n",
              "      <td>NaN</td>\n",
              "      <td>NaN</td>\n",
              "      <td>...</td>\n",
              "      <td>NaN</td>\n",
              "      <td>NaN</td>\n",
              "      <td>NaN</td>\n",
              "      <td>NaN</td>\n",
              "      <td>NaN</td>\n",
              "      <td>NaN</td>\n",
              "      <td>NaN</td>\n",
              "      <td>NaN</td>\n",
              "      <td>1488.00</td>\n",
              "      <td>0.02</td>\n",
              "    </tr>\n",
              "    <tr>\n",
              "      <th>1</th>\n",
              "      <td>Centro Metropolis</td>\n",
              "      <td>NaN</td>\n",
              "      <td>0.0</td>\n",
              "      <td>0.0</td>\n",
              "      <td>0.0</td>\n",
              "      <td>0.0</td>\n",
              "      <td>0.0</td>\n",
              "      <td>0.0</td>\n",
              "      <td>0.0</td>\n",
              "      <td>0.0</td>\n",
              "      <td>...</td>\n",
              "      <td>0.0</td>\n",
              "      <td>0.0</td>\n",
              "      <td>0.0</td>\n",
              "      <td>0.0</td>\n",
              "      <td>0.0</td>\n",
              "      <td>0.0</td>\n",
              "      <td>0.0</td>\n",
              "      <td>0.00</td>\n",
              "      <td>1488.00</td>\n",
              "      <td>0.02</td>\n",
              "    </tr>\n",
              "    <tr>\n",
              "      <th>2</th>\n",
              "      <td>Conexion Magna</td>\n",
              "      <td>MAG_7191</td>\n",
              "      <td>0.0</td>\n",
              "      <td>0.0</td>\n",
              "      <td>0.0</td>\n",
              "      <td>0.0</td>\n",
              "      <td>0.0</td>\n",
              "      <td>0.0</td>\n",
              "      <td>0.0</td>\n",
              "      <td>0.0</td>\n",
              "      <td>...</td>\n",
              "      <td>NaN</td>\n",
              "      <td>NaN</td>\n",
              "      <td>NaN</td>\n",
              "      <td>NaN</td>\n",
              "      <td>NaN</td>\n",
              "      <td>NaN</td>\n",
              "      <td>NaN</td>\n",
              "      <td>-0.02</td>\n",
              "      <td>1913.46</td>\n",
              "      <td>-0.01</td>\n",
              "    </tr>\n",
              "    <tr>\n",
              "      <th>3</th>\n",
              "      <td>Conexion Magna</td>\n",
              "      <td>NaN</td>\n",
              "      <td>0.0</td>\n",
              "      <td>0.0</td>\n",
              "      <td>0.0</td>\n",
              "      <td>0.0</td>\n",
              "      <td>0.0</td>\n",
              "      <td>0.0</td>\n",
              "      <td>0.0</td>\n",
              "      <td>0.0</td>\n",
              "      <td>...</td>\n",
              "      <td>0.0</td>\n",
              "      <td>0.0</td>\n",
              "      <td>0.0</td>\n",
              "      <td>0.0</td>\n",
              "      <td>0.0</td>\n",
              "      <td>0.0</td>\n",
              "      <td>0.0</td>\n",
              "      <td>-0.02</td>\n",
              "      <td>1913.46</td>\n",
              "      <td>-0.01</td>\n",
              "    </tr>\n",
              "    <tr>\n",
              "      <th>4</th>\n",
              "      <td>Enlace Regio</td>\n",
              "      <td>ALM_0607</td>\n",
              "      <td>NaN</td>\n",
              "      <td>NaN</td>\n",
              "      <td>NaN</td>\n",
              "      <td>NaN</td>\n",
              "      <td>NaN</td>\n",
              "      <td>NaN</td>\n",
              "      <td>NaN</td>\n",
              "      <td>NaN</td>\n",
              "      <td>...</td>\n",
              "      <td>NaN</td>\n",
              "      <td>NaN</td>\n",
              "      <td>NaN</td>\n",
              "      <td>NaN</td>\n",
              "      <td>NaN</td>\n",
              "      <td>NaN</td>\n",
              "      <td>NaN</td>\n",
              "      <td>2794.28</td>\n",
              "      <td>NaN</td>\n",
              "      <td>NaN</td>\n",
              "    </tr>\n",
              "  </tbody>\n",
              "</table>\n",
              "<p>5 rows × 180 columns</p>\n",
              "</div>\n",
              "    <div class=\"colab-df-buttons\">\n",
              "\n",
              "  <div class=\"colab-df-container\">\n",
              "    <button class=\"colab-df-convert\" onclick=\"convertToInteractive('df-f2b7d4af-948f-4369-8ad8-15abf3fb669f')\"\n",
              "            title=\"Convert this dataframe to an interactive table.\"\n",
              "            style=\"display:none;\">\n",
              "\n",
              "  <svg xmlns=\"http://www.w3.org/2000/svg\" height=\"24px\" viewBox=\"0 -960 960 960\">\n",
              "    <path d=\"M120-120v-720h720v720H120Zm60-500h600v-160H180v160Zm220 220h160v-160H400v160Zm0 220h160v-160H400v160ZM180-400h160v-160H180v160Zm440 0h160v-160H620v160ZM180-180h160v-160H180v160Zm440 0h160v-160H620v160Z\"/>\n",
              "  </svg>\n",
              "    </button>\n",
              "\n",
              "  <style>\n",
              "    .colab-df-container {\n",
              "      display:flex;\n",
              "      gap: 12px;\n",
              "    }\n",
              "\n",
              "    .colab-df-convert {\n",
              "      background-color: #E8F0FE;\n",
              "      border: none;\n",
              "      border-radius: 50%;\n",
              "      cursor: pointer;\n",
              "      display: none;\n",
              "      fill: #1967D2;\n",
              "      height: 32px;\n",
              "      padding: 0 0 0 0;\n",
              "      width: 32px;\n",
              "    }\n",
              "\n",
              "    .colab-df-convert:hover {\n",
              "      background-color: #E2EBFA;\n",
              "      box-shadow: 0px 1px 2px rgba(60, 64, 67, 0.3), 0px 1px 3px 1px rgba(60, 64, 67, 0.15);\n",
              "      fill: #174EA6;\n",
              "    }\n",
              "\n",
              "    .colab-df-buttons div {\n",
              "      margin-bottom: 4px;\n",
              "    }\n",
              "\n",
              "    [theme=dark] .colab-df-convert {\n",
              "      background-color: #3B4455;\n",
              "      fill: #D2E3FC;\n",
              "    }\n",
              "\n",
              "    [theme=dark] .colab-df-convert:hover {\n",
              "      background-color: #434B5C;\n",
              "      box-shadow: 0px 1px 3px 1px rgba(0, 0, 0, 0.15);\n",
              "      filter: drop-shadow(0px 1px 2px rgba(0, 0, 0, 0.3));\n",
              "      fill: #FFFFFF;\n",
              "    }\n",
              "  </style>\n",
              "\n",
              "    <script>\n",
              "      const buttonEl =\n",
              "        document.querySelector('#df-f2b7d4af-948f-4369-8ad8-15abf3fb669f button.colab-df-convert');\n",
              "      buttonEl.style.display =\n",
              "        google.colab.kernel.accessAllowed ? 'block' : 'none';\n",
              "\n",
              "      async function convertToInteractive(key) {\n",
              "        const element = document.querySelector('#df-f2b7d4af-948f-4369-8ad8-15abf3fb669f');\n",
              "        const dataTable =\n",
              "          await google.colab.kernel.invokeFunction('convertToInteractive',\n",
              "                                                    [key], {});\n",
              "        if (!dataTable) return;\n",
              "\n",
              "        const docLinkHtml = 'Like what you see? Visit the ' +\n",
              "          '<a target=\"_blank\" href=https://colab.research.google.com/notebooks/data_table.ipynb>data table notebook</a>'\n",
              "          + ' to learn more about interactive tables.';\n",
              "        element.innerHTML = '';\n",
              "        dataTable['output_type'] = 'display_data';\n",
              "        await google.colab.output.renderOutput(dataTable, element);\n",
              "        const docLink = document.createElement('div');\n",
              "        docLink.innerHTML = docLinkHtml;\n",
              "        element.appendChild(docLink);\n",
              "      }\n",
              "    </script>\n",
              "  </div>\n",
              "\n",
              "\n",
              "<div id=\"df-63600842-3e5d-447f-a52a-be2df6778daf\">\n",
              "  <button class=\"colab-df-quickchart\" onclick=\"quickchart('df-63600842-3e5d-447f-a52a-be2df6778daf')\"\n",
              "            title=\"Suggest charts\"\n",
              "            style=\"display:none;\">\n",
              "\n",
              "<svg xmlns=\"http://www.w3.org/2000/svg\" height=\"24px\"viewBox=\"0 0 24 24\"\n",
              "     width=\"24px\">\n",
              "    <g>\n",
              "        <path d=\"M19 3H5c-1.1 0-2 .9-2 2v14c0 1.1.9 2 2 2h14c1.1 0 2-.9 2-2V5c0-1.1-.9-2-2-2zM9 17H7v-7h2v7zm4 0h-2V7h2v10zm4 0h-2v-4h2v4z\"/>\n",
              "    </g>\n",
              "</svg>\n",
              "  </button>\n",
              "\n",
              "<style>\n",
              "  .colab-df-quickchart {\n",
              "      --bg-color: #E8F0FE;\n",
              "      --fill-color: #1967D2;\n",
              "      --hover-bg-color: #E2EBFA;\n",
              "      --hover-fill-color: #174EA6;\n",
              "      --disabled-fill-color: #AAA;\n",
              "      --disabled-bg-color: #DDD;\n",
              "  }\n",
              "\n",
              "  [theme=dark] .colab-df-quickchart {\n",
              "      --bg-color: #3B4455;\n",
              "      --fill-color: #D2E3FC;\n",
              "      --hover-bg-color: #434B5C;\n",
              "      --hover-fill-color: #FFFFFF;\n",
              "      --disabled-bg-color: #3B4455;\n",
              "      --disabled-fill-color: #666;\n",
              "  }\n",
              "\n",
              "  .colab-df-quickchart {\n",
              "    background-color: var(--bg-color);\n",
              "    border: none;\n",
              "    border-radius: 50%;\n",
              "    cursor: pointer;\n",
              "    display: none;\n",
              "    fill: var(--fill-color);\n",
              "    height: 32px;\n",
              "    padding: 0;\n",
              "    width: 32px;\n",
              "  }\n",
              "\n",
              "  .colab-df-quickchart:hover {\n",
              "    background-color: var(--hover-bg-color);\n",
              "    box-shadow: 0 1px 2px rgba(60, 64, 67, 0.3), 0 1px 3px 1px rgba(60, 64, 67, 0.15);\n",
              "    fill: var(--button-hover-fill-color);\n",
              "  }\n",
              "\n",
              "  .colab-df-quickchart-complete:disabled,\n",
              "  .colab-df-quickchart-complete:disabled:hover {\n",
              "    background-color: var(--disabled-bg-color);\n",
              "    fill: var(--disabled-fill-color);\n",
              "    box-shadow: none;\n",
              "  }\n",
              "\n",
              "  .colab-df-spinner {\n",
              "    border: 2px solid var(--fill-color);\n",
              "    border-color: transparent;\n",
              "    border-bottom-color: var(--fill-color);\n",
              "    animation:\n",
              "      spin 1s steps(1) infinite;\n",
              "  }\n",
              "\n",
              "  @keyframes spin {\n",
              "    0% {\n",
              "      border-color: transparent;\n",
              "      border-bottom-color: var(--fill-color);\n",
              "      border-left-color: var(--fill-color);\n",
              "    }\n",
              "    20% {\n",
              "      border-color: transparent;\n",
              "      border-left-color: var(--fill-color);\n",
              "      border-top-color: var(--fill-color);\n",
              "    }\n",
              "    30% {\n",
              "      border-color: transparent;\n",
              "      border-left-color: var(--fill-color);\n",
              "      border-top-color: var(--fill-color);\n",
              "      border-right-color: var(--fill-color);\n",
              "    }\n",
              "    40% {\n",
              "      border-color: transparent;\n",
              "      border-right-color: var(--fill-color);\n",
              "      border-top-color: var(--fill-color);\n",
              "    }\n",
              "    60% {\n",
              "      border-color: transparent;\n",
              "      border-right-color: var(--fill-color);\n",
              "    }\n",
              "    80% {\n",
              "      border-color: transparent;\n",
              "      border-right-color: var(--fill-color);\n",
              "      border-bottom-color: var(--fill-color);\n",
              "    }\n",
              "    90% {\n",
              "      border-color: transparent;\n",
              "      border-bottom-color: var(--fill-color);\n",
              "    }\n",
              "  }\n",
              "</style>\n",
              "\n",
              "  <script>\n",
              "    async function quickchart(key) {\n",
              "      const quickchartButtonEl =\n",
              "        document.querySelector('#' + key + ' button');\n",
              "      quickchartButtonEl.disabled = true;  // To prevent multiple clicks.\n",
              "      quickchartButtonEl.classList.add('colab-df-spinner');\n",
              "      try {\n",
              "        const charts = await google.colab.kernel.invokeFunction(\n",
              "            'suggestCharts', [key], {});\n",
              "      } catch (error) {\n",
              "        console.error('Error during call to suggestCharts:', error);\n",
              "      }\n",
              "      quickchartButtonEl.classList.remove('colab-df-spinner');\n",
              "      quickchartButtonEl.classList.add('colab-df-quickchart-complete');\n",
              "    }\n",
              "    (() => {\n",
              "      let quickchartButtonEl =\n",
              "        document.querySelector('#df-63600842-3e5d-447f-a52a-be2df6778daf button');\n",
              "      quickchartButtonEl.style.display =\n",
              "        google.colab.kernel.accessAllowed ? 'block' : 'none';\n",
              "    })();\n",
              "  </script>\n",
              "</div>\n",
              "\n",
              "    </div>\n",
              "  </div>\n"
            ],
            "application/vnd.google.colaboratory.intrinsic+json": {
              "type": "dataframe",
              "variable_name": "df"
            }
          },
          "metadata": {},
          "execution_count": 22
        }
      ]
    },
    {
      "cell_type": "markdown",
      "source": [
        "**Explanation:**\n",
        "* **Lowercase and Underscores:** The lower() method converts all characters to lowercase, and replace() is used to replace spaces and special characters with underscores.\n",
        "\n",
        "* **Acronyms:** Common phrases are replaced with shorter acronyms (e.g., saldo_insoluto becomes si, vencido becomes vnc, etc.).\n",
        "\n",
        "* **Time Series Handling:** T-12, T-11, etc., are replaced with m_12, m_11, and so on, to indicate months.\n",
        "\n",
        "---\n",
        "**Example Column Renaming:**\n",
        "* 'Región' → 'region'\n",
        "* 'Saldo Insoluto T-12' → 'si_m_12'\n",
        "* 'Saldo Insoluto Actual' → 'si_act'\n",
        "* 'Pago Anticipado T-12' → 'pa_m_12'\n",
        "* 'Castigos T-12' → 'cst_m_12'"
      ],
      "metadata": {
        "id": "bHWvaJkhMaGy"
      }
    },
    {
      "cell_type": "code",
      "source": [
        "# Rename columns\n",
        "\n",
        "# Define a function to rename columns\n",
        "def rename_column(col):\n",
        "    # Replace spaces and special characters\n",
        "    col = col.lower().replace(' ', '_').replace('\\n', '').replace('-', '_').replace('%', 'pct')\n",
        "\n",
        "    # Create acronyms for common terms\n",
        "    col = col.replace('saldo_insoluto', 'si')\n",
        "    col = col.replace('vencido', 'vnc')\n",
        "    col = col.replace('actual', 'act')\n",
        "    col = col.replace('pago_anticipado', 'pa')\n",
        "    col = col.replace('capital_liquidado', 'cl')\n",
        "    col = col.replace('capital_dispersado', 'cd')\n",
        "    col = col.replace('quitas', 'qts')\n",
        "    col = col.replace('castigos', 'cst')\n",
        "\n",
        "    # Handle time series (T-12, T-11,..., T-01, Actual)\n",
        "    if '_t_' in col:\n",
        "        col = col.replace('_t_', '_m_')\n",
        "\n",
        "    col = col.replace('__', '_')\n",
        "    return col\n",
        "\n",
        "\n",
        "# Apply renaming function to all columns\n",
        "df.columns = [rename_column(col) for col in df.columns]\n",
        "\n",
        "# Print new column names\n",
        "print([col for col in df.columns])"
      ],
      "metadata": {
        "colab": {
          "base_uri": "https://localhost:8080/"
        },
        "id": "EssB6zjcHcT3",
        "outputId": "2981d08b-3e03-43e9-9f32-8971f0c6050a"
      },
      "execution_count": 23,
      "outputs": [
        {
          "output_type": "stream",
          "name": "stdout",
          "text": [
            "['sucursal', 'vendedor', 'si_m_12', 'si_m_11', 'si_m_10', 'si_m_09', 'si_m_08', 'si_m_07', 'si_m_06', 'si_m_05', 'si_m_04', 'si_m_03', 'si_m_02', 'si_m_1', 'si_act', 'si_vnc_m_12', 'si_vnc_m_11', 'si_vnc_m_10', 'si_vnc_m_09', 'si_vnc_m_08', 'si_vnc_m_07', 'si_vnc_m_06', 'si_vnc_m_05', 'si_vnc_m_04', 'si_vnc_m_03', 'si_vnc_m_02', 'si_vnc_m_01', 'si_vnc_act', 'si_30_89_m_12', 'si_30_89_m_11', 'si_30_89_m_10', 'si_30_89_m_09', 'si_30_89_m_08', 'si_30_89_m_07', 'si_30_89_m_06', 'si_30_89_m_05', 'si_30_89_m_04', 'si_30_89_m_03', 'si_30_89_m_02', 'si_30_89_m_01', 'si_30_89_act', 'saldo_60_en_6_m_12', 'saldo_60_en_6_m_11', 'saldo_60_en_6_m_10', 'saldo_60_en_6_m_09', 'saldo_60_en_6_m_08', 'saldo_60_en_6_m_07', 'saldo_60_en_6_m_06', 'saldo_60_en_6_m_05', 'saldo_60_en_6_m_04', 'saldo_60_en_6_m_03', 'saldo_60_en_6_m_02', 'saldo_60_en_6_m_01', 'saldo_60_en_6_act', 'cst_ago_22', 'cst_sep_22', 'cst_oct_22', 'cst_nov_22', 'cst_dic_22', 'cst_ene_23', 'cst_feb_23', 'cst_mar_23', 'cst_abr_23', 'cst_may_23', 'cst_jun_23', 'cst_m_12', 'cst_m_11', 'cst_m_10', 'cst_m_09', 'cst_m_08', 'cst_m_07', 'cst_m_06', 'cst_m_05', 'cst_m_04', 'cst_m_03', 'cst_m_02', 'cst_m_01', 'cst_act', 'cl_m_12', 'cl_m_11', 'cl_m_10', 'cl_m_09', 'cl_m_08', 'cl_m_07', 'cl_m_06', 'cl_m_05', 'cl_m_04', 'cl_m_03', 'cl_m_02', 'cl_m_01', 'cl_act', 'pa_m_12', 'pa_m_11', 'pa_m_10', 'pa_m_09', 'pa_m_08', 'pa_m_07', 'pa_m_06', 'pa_m_05', 'pa_m_04', 'pa_m_03', 'pa_m_02', 'pa_m_01', 'pa_act', 'cd_m_12', 'cd_m_11', 'cd_m_10', 'cd_m_09', 'cd_m_08', 'cd_m_07', 'cd_m_06', 'cd_m_05', 'cd_m_04', 'cd_m_03', 'cd_m_02', 'cd_m_01', 'cd_act', 'pct_fpd_m_12', 'pct_fpd_m_11', 'pct_fpd_m_10', 'pct_fpd_m_09', 'pct_fpd_m_08', 'pct_fpd_m_07', 'pct_fpd_m_06', 'pct_fpd_m_05', 'pct_fpd_m_04', 'pct_fpd_m_03', 'pct_fpd_m_02', 'pct_fpd_m_01', 'pct_fpd_act', 'pct_spd_m_12', 'pct_spd_m_11', 'pct_spd_m_10', 'pct_spd_m_09', 'pct_spd_m_08', 'pct_spd_m_07', 'pct_spd_m_06', 'pct_spd_m_05', 'pct_spd_m_04', 'pct_spd_m_03', 'pct_spd_m_02', 'pct_spd_m_01', 'pct_spd_act', 'pct_tpd_m_12', 'pct_tpd_m_11', 'pct_tpd_m_10', 'pct_tpd_m_09', 'pct_tpd_m_08', 'pct_tpd_m_07', 'pct_tpd_m_06', 'pct_tpd_m_05', 'pct_tpd_m_04', 'pct_tpd_m_03', 'pct_tpd_m_02', 'pct_tpd_m_01', 'pct_tpd_act', 'qts_ago_22', 'qts_sep_22', 'qts_oct_22', 'qts_nov_22', 'qts_dic_22', 'qts_ene_23', 'qts_feb_23', 'qts_mar_23', 'qts_abr_23', 'qts_may_23', 'qts_jun_23', 'qts_m_12', 'qts_m_11', 'qts_m_10', 'qts_m_09', 'qts_m_08', 'qts_m_07', 'qts_m_06', 'qts_m_05', 'qts_m_04', 'qts_m_03', 'qts_m_02', 'qts_m_01', 'qts_act']\n"
          ]
        }
      ]
    },
    {
      "cell_type": "markdown",
      "source": [
        "### Split sucursal column, merge branches"
      ],
      "metadata": {
        "id": "Gkd6nj7zQxwM"
      }
    },
    {
      "cell_type": "markdown",
      "source": [
        "#### Aux to split region column"
      ],
      "metadata": {
        "id": "FgagX-RNQodR"
      }
    },
    {
      "cell_type": "code",
      "source": [
        "regions = [\"Brokers\", \"Nucleo Uno\", \"Nucleo Dos\", \"Red Nortena\", \"Red Noroeste\", \"Occidente Conexion\", \"Red Sureste\"]\n",
        "\n",
        "divisions = [\n",
        "    \"Division. Red Mexiquense\", \"Conexion Naucalpan\", \"Zona Sur Central\",\n",
        "    \"Zona Oriente Valle\", \"Zona Norte Valle\", \"Division. Distrito Central\",\n",
        "    \"Nucleo Avance\", \"Zona Nucleo CDMX\", \"Zona Oriente Conexion\",\n",
        "    \"Zona Cordillera Puebla\", \"Zona Bahia Veracruz\", \"Division Red Nortena\",\n",
        "    \"Zona Sierra Norte\", \"Zona Red frontera este\", \"Zona Bahia del Sol\",\n",
        "    \"Division Sierra del Desierto\", \"Zona Costa del Pacifico\",\n",
        "    \"Zona Valle Dorado\", \"Zona Desierto del Sol\", \"Conexion GDL\",\n",
        "    \"Zona Corazon de la Sierra\", \"Zona Valles Centrales\", \"Zona Tierra de lagos\", \"Zona Cumbres del Pacifico\", \"Zona Valles del Pacifico\", \"Zona Selva Alta\", \"Zona Sierra Escondida\", \"Zona Riviera del Caribe\"\n",
        "]\n",
        "\n",
        "branches = [\n",
        "    \"Centro Metropolis\", \"Conexion Magna\", \"Enlace Regio\", \"Puerto Magna\",\n",
        "    \"Ciudad Piramide\", \"Valle Verde\", \"Rio Blanco\", \"Colina del Sol\",\n",
        "    \"Colina del Sol BIS\", \"Parque Jurica\", \"Colina Plateada\", \"Altos de Queretaro\", \"Sol y Campo\", \"Satélite 1\", \"Satélite 2\", \"Satélite 3\", \"Bahia Dorada\", \"Costa Marquesa\", \"Bahia Dorada BIS\", \"Alto de Chilpan\", \"Cuautla Vista\", \"Jardines del Valle\", \"Llanos de Igualdad\", \"Parque Jojutla\",\n",
        "    \"Valle Chalco\", \"Montana Azul\", \"Reyes Paz A\", \"Reyes Paz B\",\n",
        "    \"Bosques Neza\", \"Cumbre Neza\", \"Cumbre Neza BIS\", \"Riberas Texcoco\",\n",
        "    \"Pinar del Valle\", \"Cielos de Metepec\", \"Lomas de Naucalpan\",\n",
        "    \"Puente de Tlalne\", \"Puente de Tlalne II\", \"Valles Toluca\",\n",
        "    \"Cumbre Toluca\", \"Bosques Tultitlan\", \"Jardin Aragon A\",\n",
        "    \"Pilares del Norte\", \"Pilares del Norte BIS\", \"Residencia A\",\n",
        "    \"Residencia B\", \"Colinas GAM\", \"Plaza Central\", \"Los Arcos\",\n",
        "    \"Los Arcos BIS\", \"Campo Zaragoza\", \"Lomas Zaragoza\", \"Campo Zaragoza BIS\",\n",
        "    \"Avance 1\", \"Avance 2\", \"Avance 3\", \"Avance 4\", \"Parque Obregon\",\n",
        "    \"Centro Viejo\", \"Mirador Tlalpan A\", \"Mirador Tlalpan A BIS\",\n",
        "    \"Mirador Tlalpan B\", \"Lagunas de Xochimilco\", \"Plaza Zapata\",\n",
        "    \"Robledal A\", \"Robledal B\", \"Campo Florido A\", \"Campo Florido B\",\n",
        "    \"Campo Florido C\", \"Campo Florido D\", \"Riberas del Sur\",\n",
        "    \"Sierra Cordobesa\", \"Valles de Orizaba\", \"Alturas de Puebla\",\n",
        "    \"Jardines Manuel\", \"Lomas Santiago\", \"Alturas de Puebla BIS\",\n",
        "    \"Llanos Tehuacan\", \"Bosques Tlaxcala\", \"Colinas Miron\",\n",
        "    \"Valle Rica\", \"Puerto Bravo\", \"Puerta Cuauhtemoc\", \"Puerto Bravo BIS\",\n",
        "    \"Cumbres Xalapa\", \"Lomas Xalapa\", \"Paso del Norte\", \"Rio Bravo\",\n",
        "    \"Aceros del Norte\", \"Aceros del Norte BIS\", \"Paso Nuevo\",\n",
        "    \"Paso Nuevo BIS\", \"Piedras Altas\", \"Piedras Altas BIS\", \"Valles del Norte\",\n",
        "    \"Laguna Norte\", \"Sabinas Sierra\", \"Campos Saltillo\", \"Centro Saltillo\",\n",
        "    \"Centro Saltillo BIS\", \"Campos Saltillo BIS\", \"Lomas de Alamos\",\n",
        "    \"Lomas de Alamos BIS\", \"Valle Apodaca\", \"Valle Apodaca BIS\",\n",
        "    \"Puente Lincoln\", \"Cumbres Regias\", \"Centro Regio\", \"Bulevar Regio\",\n",
        "    \"San Nicolas Valle\", \"San Nicolas Valle BIS\", \"Sierra Santa\",\n",
        "    \"Bosque Verde\", \"Palacio del Norte\", \"Palacio del Norte BIS\",\n",
        "    \"Valle de Guadalupe\", \"Parque Madero\", \"Parque Madero BIS\",\n",
        "    \"Expo Regia\", \"Desierto Norte\", \"Desierto Bravo\", \"Rio Revolucion\",\n",
        "    \"Desierto Norte BIS\", \"Valle Real\", \"Victoria Alta\", \"Victoria Alta BIS\",\n",
        "    \"Bahia Aeropuerto\", \"Plaza Tampico\", \"Colinas Tampico\",\n",
        "    \"Colinas Tampico BIS\", \"Rio Madero\", \"Sierra Chihuahua\",\n",
        "    \"Campus Sierra\", \"Victoria Sierra\", \"Victoria Sierra BIS\",\n",
        "    \"Plaza Cuauhtemoc\", \"Juarez Norte\", \"Jardines del Norte\",\n",
        "    \"Americas Plaza\", \"Americas Plaza BIS\", \"Patio Grande\",\n",
        "    \"Colinas Jilotepec\", \"Parral Viejo\", \"Bahia Azul\", \"Bahia Azul BIS\",\n",
        "    \"Plaza Pacifico\", \"Plaza Pacifico BIS\", \"Cabo Fuerte\", \"Valle Mexicali\",\n",
        "    \"Norte Mexicali\", \"Valle Mexicali BIS\", \"Frontera Oeste\",\n",
        "    \"Frontera Bravo\", \"Frontera Bravo BIS\", \"Valles de Culiacan\",\n",
        "    \"Culiacan Norte\", \"Valles de Culiacan BIS\", \"Sierra Durango\",\n",
        "    \"Durango Norte\", \"Valle del Rio\", \"Plaza Mochis\", \"Plaza Mochis BIS\",\n",
        "    \"Norte Dorado\", \"Obregon Central\", \"Obregon Norte\", \"Obregon Central BIS\",\n",
        "    \"Sierra Hermosillo\", \"Hermosillo Norte\", \"Sierra Hermosillo BIS\",\n",
        "    \"Valle de Navojoa\", \"Frontera Nogales\", \"Guadalajara Uno\",\n",
        "    \"Guadalajara Dos\", \"Guadalajara Tres\", \"Aguas Central\",\n",
        "    \"Aguas Norte\", \"Aguas Central BIS\", \"Sierra Colima\", \"Rio Fresnillo\",\n",
        "    \"Bahia Manzanillo\", \"San Luis Norte\", \"San Luis Alturas\",\n",
        "    \"Cumbres Zacatecas\", \"Plaza Celaya\", \"Hidalgo Valle\",\n",
        "    \"Jardines Irapuato\", \"Jardines Irapuato BIS\", \"Canadas Leon\",\n",
        "    \"Norte Leon\", \"Canadas Leon BIS\", \"Valle Piedad\", \"Bahia Lazaro\",\n",
        "    \"Colinas Morelia\", \"Morelia Norte\", \"Morelia Norte BIS\",\n",
        "    \"Camelinas Plaza\", \"Jardines Uruapan\", \"Valle Zamora\",\n",
        "    \"Valle Zamora BIS\", \"Riviera Zihua\", \"Montes Zitacuaro\",\n",
        "    \"GDL Central\", \"Norte GDL\", \"Riviera Vallarta\", \"Riviera Vallarta BIS\",\n",
        "    \"Valle Tepic\", \"Norte Tepic\", \"Jardines Tlaque\", \"Montes Tonala\",\n",
        "    \"Guzman Valle\", \"IMSS GDL\", \"Oblatos Plaza\", \"Las Aguilas\",\n",
        "    \"Zapopan Plaza\", \"Rio Coatzacoalcos\", \"Valle Comitan\",\n",
        "    \"Selva Tapachula\", \"Tuxtla Norte\", \"Tuxtla Central\", \"Villa Central\",\n",
        "    \"Villa Norte\", \"Villa Norte BIS\", \"Villa Alturas\", \"Sierra Oaxaca\",\n",
        "    \"Riviera Escondida\", \"Bahia Cruz\", \"Bahia Cruz BIS\", \"Rio Tuxtepec\",\n",
        "    \"Bahia Campeche\", \"Riviera Cancun\", \"Bahia Chetumal\",\n",
        "    \"Isla del Carmen\", \"Sierra Merida\", \"Merida Norte\", \"Alturas Merida\",\n",
        "    \"Sierra Merida BIS\", \"Riviera Playa\"\n",
        "]\n",
        "\n",
        "for branch in branches:\n",
        "  if 'BIS' in branch:\n",
        "    branches.remove(branch)\n",
        "\n",
        "print(len(branches), len(divisions), len(regions))"
      ],
      "metadata": {
        "colab": {
          "base_uri": "https://localhost:8080/"
        },
        "id": "6UZH9_-m0maG",
        "outputId": "335c48d9-983f-47c8-ed23-3e1acb87aad1"
      },
      "execution_count": 24,
      "outputs": [
        {
          "output_type": "stream",
          "name": "stdout",
          "text": [
            "196 28 7\n"
          ]
        }
      ]
    },
    {
      "cell_type": "code",
      "source": [
        "loc_struct = {\n",
        "    \"Brokers\": [\"Centro Metropolis\", \"Conexion Magna\", \"Enlace Regio\", \"Puerto Magna\"],\n",
        "    \"Nucleo Uno\": {\n",
        "        \"Division. Red Mexiquense\": [\"Ciudad Piramide\", \"Valle Verde\", \"Rio Blanco\", \"Colina del Sol\",\n",
        "                                     \"Colina del Sol BIS\", \"Parque Jurica\", \"Colina Plateada\",\n",
        "                                     \"Altos de Queretaro\", \"Sol y Campo\"],\n",
        "        \"Conexion Naucalpan\": [\"Satelite 1\", \"Satelite 2\", \"Satelite 3\"],\n",
        "        \"Zona Sur Central\": [\"Bahia Dorada\", \"Costa Marquesa\", \"Bahia Dorada BIS\", \"Alto de Chilpan\",\n",
        "                             \"Cuautla Vista\", \"Jardines del Valle\", \"Llanos de Igualdad\", \"Parque Jojutla\"],\n",
        "        \"Zona Oriente Valle\": [\"Valle Chalco\", \"Montana Azul\", \"Reyes Paz A\", \"Reyes Paz B\",\n",
        "                               \"Bosques Neza\", \"Cumbre Neza\", \"Cumbre Neza BIS\", \"Riberas Texcoco\"],\n",
        "        \"Zona Norte Valle\": [\"Pinar del Valle\", \"Cielos de Metepec\", \"Lomas de Naucalpan\",\n",
        "                             \"Puente de Tlalne\", \"Puente de Tlalne II\", \"Valles Toluca\",\n",
        "                             \"Cumbre Toluca\", \"Bosques Tultitlan\"]\n",
        "    },\n",
        "    \"Nucleo Dos\": {\n",
        "        \"Division. Distrito Central\": [\"Jardin Aragon A\", \"Pilares del Norte\", \"Pilares del Norte BIS\",\n",
        "                                       \"Residencia A\", \"Residencia B\", \"Colinas GAM\", \"Plaza Central\",\n",
        "                                       \"Los Arcos\", \"Los Arcos BIS\", \"Campo Zaragoza\", \"Lomas Zaragoza\",\n",
        "                                       \"Campo Zaragoza BIS\"],\n",
        "        \"Nucleo Avance\": [\"Avance 1\", \"Avance 2\", \"Avance 3\", \"Avance 4\"],\n",
        "        \"Zona Nucleo CDMX\": [\"Parque Obregon\", \"Centro Viejo\", \"Mirador Tlalpan A\", \"Mirador Tlalpan A BIS\",\n",
        "                             \"Mirador Tlalpan B\", \"Lagunas de Xochimilco\", \"Plaza Zapata\"],\n",
        "        \"Zona Oriente Conexion\": [\"Robledal A\", \"Robledal B\", \"Campo Florido A\",\n",
        "                                  \"Campo Florido B\", \"Campo Florido C\", \"Campo Florido D\",\n",
        "                                  \"Riberas del Sur\"],\n",
        "        \"Zona Cordillera Puebla\": [\"Sierra Cordobesa\", \"Valles de Orizaba\", \"Alturas de Puebla\",\n",
        "                                   \"Jardines Manuel\", \"Lomas Santiago\", \"Alturas de Puebla BIS\",\n",
        "                                   \"Llanos Tehuacan\", \"Bosques Tlaxcala\"],\n",
        "        \"Zona Bahia Veracruz\": [\"Colinas Miron\", \"Valle Rica\", \"Puerto Bravo\", \"Puerta Cuauhtemoc\", \"Puerto Bravo BIS\", \"Cumbres Xalapa\", \"Lomas Xalapa\"]\n",
        "    },\n",
        "\n",
        "    \"Red Nortena\": {\n",
        "        \"Division Red Nortena\": [\"Aceros del Norte\", \"Aceros del Norte BIS\", \"Paso Nuevo\", \"Paso Nuevo BIS\",\n",
        "                                 \"Piedras Altas\", \"Piedras Altas BIS\", \"Valles del Norte\",\n",
        "                                 \"Laguna Norte\", \"Sabinas Sierra\", \"Campos Saltillo\",\n",
        "                                 \"Centro Saltillo\", \"Centro Saltillo BIS\", \"Campos Saltillo BIS\", \"Rio Bravo\", \"Paso del Norte\"],\n",
        "\n",
        "        \"Zona Sierra Norte\": [\"Lomas de Alamos\", \"Lomas de alamos BIS\", \"Valle Apodaca\", \"Valle Apodaca BIS\", \"Puente Lincoln\", \"Cumbres Regias\", \"Centro Regio\",\n",
        "                              \"Bulevar Regio\", \"San Nicolas Valle\", \"San Nicolas Valles BIS\", \"Sierra Santa\"],\n",
        "        \"Zona Red frontera este\": [\"Bosque Verde\", \"Palacio del Norte\", \"Palacio del Norte BIS\", \"Valle de Guadalupe\", \"Parque Madero\", \"Parque Madero BIS\", \"Expo Regia\",\n",
        "                                   \"Desierto Norte\", \"Desierto Bravo\", \"Rio Revolucion\", \"Desierto Norte BIS\"],\n",
        "        \"Zona Bahia del Sol\": [\"Valle Real\", \"Victoria Alta\", \"Victoria Alta BIS\", \"Bahia Aeropuerto\",\n",
        "                               \"Plaza Tampico\", \"Colinas Tampico\", \"Colinas Tampico BIS\", \"Rio Madero\"]\n",
        "    },\n",
        "\n",
        "    \"Red Noroeste\": {\n",
        "        \"Zona Desierto del Sol\": [\"Obregon Central\", \"Obregon Norte\", \"Obregon Central BIS\",\n",
        "                                  \"Sierra Hermosillo\", \"Hermosillo Norte\", \"Sierra Hermosillo BIS\", \"Valle de Navojoa\",\n",
        "                                  \"Frontera Nogales\"],\n",
        "        \"Zona Valle Dorado\": [\"Valles de Culiacan\", \"Culiacan Norte\", \"Valles de Culiacan BIS\", \"Sierra Durango\",\n",
        "                              \"Durango Norte\", \"Valle del Rio\", \"Plaza Mochis\", \"Plaza Mochis BIS\", \"Bahia Dorada\", \"Norte Dorado\"],\n",
        "        \"Zona Costa del Pacifico\": [\"Bahia Azul\", \"Bahia Azul BIS\", \"Plaza Pacifico\", \"Plaza Pacifico BIS\",\n",
        "                                    \"Cabo Fuerte\", \"Valle Mexicali\", \"Norte Mexicali\", \"Valle Mexicali BIS\", \"Frontera Oeste\",\n",
        "                                    \"Frontera Bravo\", \"Frontera Bravo BIS\"],\n",
        "        \"Division Sierra del Desierto\": [\"Sierra Chihuahua\", \"Campus Sierra\", \"Victoria Sierra\",\n",
        "                                         \"Victoria Sierra BIS\", \"Plaza Cuauhtemoc\", \"Juarez Norte\", \"Jardines del Norte\", \"Americas Plaza\",\n",
        "                                         \"Americas Plaza BIS\", \"Patio Grande\", \"Colinas Jilotepec\", \"Parral Viejo\"]\n",
        "    },\n",
        "\n",
        "    \"Occidente Conexion\": {\n",
        "        \"Conexion GDL\": [\"Guadalajara Uno\", \"Guadalajara Dos\", \"Guadalajara Tres\"],\n",
        "        \"Zona Corazon de la Sierra\": [\"Aguas Central\", \"Aguas Norte\", \"Aguas Central BIS\", \"Sierra Colima\",\n",
        "                                      \"Rio Fresnillo\", \"Bahia Manzanillo\", \"San Luis Norte\", \"San Luis Alturas\", \"Cumbres Zacatecas\"],\n",
        "        \"Zona Valles Centrales\": [\"Plaza Celaya\", \"Hidalgo Valle\", \"Jardines Irapuato\", \"Jardines Irapuato BIS\",\n",
        "                                  \"Canadas Leon\", \"Norte Leon\", \"Canadas Leon BIS\"],\n",
        "        \"Zona Tierra de lagos\": [\"Valle Piedad\", \"Bahia Lazaro\", \"Colinas Morelia\", \"Morelia Norte\", \"Morelia Norte BIS\",\n",
        "                                 \"Camelinas Plaza\", \"Jardines Uruapan\", \"Valle Zamora\",\n",
        "                                 \"Valle Zamora BIS\", \"Riviera Zihua\", \"Montes Zitacuaro\"],\n",
        "        \"Zona Cumbres del Pacifico\": [\"GDL Central\", \"Norte GDL\", \"Riviera Vallarta\", \"Riviera Vallarta BIS\",\n",
        "                                      \"Valle Tepic\", \"Norte Tepic\", \"Jardines Tlaque\", \"Montes Tonala\"],\n",
        "        \"Zona Valles del Pacifico\": [\"Guzman Valle\", \"IMSS GDL\", \"Oblatos Plaza\",\n",
        "                                     \"Las Aguilas\", \"Zapopan Plaza\"]\n",
        "    },\n",
        "    \"Red Sureste\": {\n",
        "        \"Zona Selva Alta\": [\"Rio Coatzacoalcos\", \"Valle Comitan\", \"Selva Tapachula\", \"Tuxtla Norte\", \"Tuxtla Central\",\n",
        "                            \"Villa Central\", \"Villa Norte\", \"Villa Norte BIS\", \"Villa Alturas\"],\n",
        "        \"Zona Sierra Escondida\": [\"Sierra Oaxaca\", \"Riviera Escondida\", \"Bahia Cruz\", \"Bahia Cruz BIS\", \"Rio Tuxtepec\"],\n",
        "        \"Zona Riviera del Caribe\": [\"Bahia Campeche\", \"Riviera Cancun\", \"Bahia Chetumal\", \"Isla del Carmen\",\n",
        "                                   \"Sierra Merida\", \"Merida Norte\", \"Alturas Merida\", \"Sierra Merida BIS\",\n",
        "                                   \"Riviera Playa\"],\n",
        "    },\n",
        "}\n"
      ],
      "metadata": {
        "id": "JohMuYMHD56t"
      },
      "execution_count": 25,
      "outputs": []
    },
    {
      "cell_type": "markdown",
      "source": [
        "#### Converge 'BIS' and Split Column script"
      ],
      "metadata": {
        "id": "fRFSm4hwWQmz"
      }
    },
    {
      "cell_type": "code",
      "source": [
        "# Step 1: Leave min unit (vendedores)\n",
        "filtered_df = df[df['sucursal'] != 'Total']\n",
        "filtered_df = filtered_df[~filtered_df['sucursal'].isin(regions)]\n",
        "filtered_df = filtered_df[~filtered_df['sucursal'].isin(divisions)]\n",
        "\n",
        "# Step 2: Combine \" BIS\" with corresponding non-BIS values\n",
        "filtered_df['sucursal'] = filtered_df['sucursal'].apply(lambda x: x.replace(' BIS', ''))\n",
        "\n",
        "# Step 3: Delete row with region but without vendor\n",
        "# is a 'Vendedor' to check for non-null values\n",
        "filtered_df = filtered_df[filtered_df['vendedor'].notna()]"
      ],
      "metadata": {
        "id": "mP9xZhvnbuow",
        "collapsed": true
      },
      "execution_count": 26,
      "outputs": []
    },
    {
      "cell_type": "code",
      "source": [
        "# Step 4: Add region and division columns\n",
        "def extract_region_division(location, loc_struct):\n",
        "  \"\"\"Extracts region and division from loc_struct based on location.\n",
        "\n",
        "  Args:\n",
        "  location: The location name.\n",
        "  locsStruct: The nested dictionary containing location information.\n",
        "\n",
        "  Returns:\n",
        "  A tuple containing region and division, or None if not found.\n",
        "  \"\"\"\n",
        "\n",
        "  for region, divisions in loc_struct.items():\n",
        "    if isinstance(divisions, dict):\n",
        "      for division, locations_list in divisions.items():\n",
        "        if location in locations_list:\n",
        "          return region, division\n",
        "    elif location in divisions:\n",
        "      return region, None\n",
        "\n",
        "  return None, None\n",
        "\n",
        "# Apply the function to create new columns\n",
        "filtered_df['region'], filtered_df['division'] = zip(*filtered_df['sucursal'].apply(extract_region_division, args=(loc_struct,)))\n",
        "# Insert 'region' as the first column\n",
        "filtered_df.insert(0, 'region', filtered_df.pop('region'))\n",
        "# Insert 'division' as the second column\n",
        "filtered_df.insert(1, 'division', filtered_df.pop('division'))"
      ],
      "metadata": {
        "id": "uoX41YvvQknh"
      },
      "execution_count": 27,
      "outputs": []
    },
    {
      "cell_type": "code",
      "source": [
        "x, y = extract_region_division('Riviera Playa', loc_struct)\n",
        "print(x, y)\n",
        "print(loc_struct[\"Red Sureste\"]['Zona Selva Alta'][2])"
      ],
      "metadata": {
        "id": "ZIIyEA-USrcd",
        "colab": {
          "base_uri": "https://localhost:8080/"
        },
        "outputId": "c32a16fa-5d6e-4790-aea3-23e6206283f4"
      },
      "execution_count": 28,
      "outputs": [
        {
          "output_type": "stream",
          "name": "stdout",
          "text": [
            "Red Sureste Zona Riviera del Caribe\n",
            "Selva Tapachula\n"
          ]
        }
      ]
    },
    {
      "cell_type": "markdown",
      "source": [
        "### Exclusion of stores with less than 30 vendors\n"
      ],
      "metadata": {
        "id": "4ogJwTT4WIIA"
      }
    },
    {
      "cell_type": "markdown",
      "source": [
        "In the follow code, we identify stores' vendors information. It returns:\n",
        "*    The total amount of stores\n",
        "*    Stores with less 30 vendors\n",
        "*    Number of vendors working within the mentioned stores.\n",
        "\n",
        "Then it removed all this stores from the dataframe"
      ],
      "metadata": {
        "id": "PIKhy0r8D71r"
      }
    },
    {
      "cell_type": "code",
      "source": [
        "# Group by 'sucursal' and count the number of 'vendedor' for each\n",
        "sucursal_vendor_count = filtered_df.groupby('sucursal')['vendedor'].count()\n",
        "\n",
        "# Filter for sucursals with less than 30 vendors\n",
        "filtered_sucursals = sucursal_vendor_count[sucursal_vendor_count < 30]\n",
        "\n",
        "# Sort the results in ascending order\n",
        "sorted_sucursals = filtered_sucursals.sort_values()\n",
        "\n",
        "# Convert to a list\n",
        "sucursal_list = sorted_sucursals.index.tolist()\n",
        "\n",
        "# Print the result\n",
        "print(f\"Total sucursales: {filtered_df['sucursal'].nunique()}\")\n",
        "print(f\"Sucursales with less than 30 vendors ({len(sucursal_list)}):\")\n",
        "\n",
        "# Show some of the sucursales\n",
        "for sucursal in sucursal_list[:5]:\n",
        "    print(f\"{sucursal}: {sucursal_vendor_count[sucursal]} vendors\")\n",
        "\n",
        "print(f\"Quanty of vendors in sucursal with less than 30 vendors: {len(filtered_df[filtered_df['sucursal'].isin(sucursal_list)])}\")\n",
        "\n",
        "# Remove the sucursales with less than 30 vendors from the DataFrame\n",
        "filtered_df = filtered_df[~filtered_df['sucursal'].isin(sucursal_list)]\n",
        "\n",
        "print(f\"Sucursales with 30 or more vendors: {filtered_df['sucursal'].nunique()}\")\n",
        "print(f\"Quanty of vendors in sucursal with 30 or more vendors: {len(filtered_df)}\")"
      ],
      "metadata": {
        "id": "ea6U8aYVmSgq",
        "outputId": "9eec786d-6326-4080-f763-62c30eb199d8",
        "colab": {
          "base_uri": "https://localhost:8080/"
        }
      },
      "execution_count": 29,
      "outputs": [
        {
          "output_type": "stream",
          "name": "stdout",
          "text": [
            "Total sucursales: 195\n",
            "Sucursales with less than 30 vendors (48):\n",
            "Conexion Magna: 1 vendors\n",
            "Centro Metropolis: 1 vendors\n",
            "Guadalajara Tres: 2 vendors\n",
            "Puerto Magna: 2 vendors\n",
            "Enlace Regio: 3 vendors\n",
            "Quanty of vendors in sucursal with less than 30 vendors: 736\n",
            "Sucursales with 30 or more vendors: 147\n",
            "Quanty of vendors in sucursal with 30 or more vendors: 9312\n"
          ]
        }
      ]
    },
    {
      "cell_type": "markdown",
      "source": [
        "### Save clean database"
      ],
      "metadata": {
        "id": "ac8cer1uB6C_"
      }
    },
    {
      "cell_type": "markdown",
      "source": [
        "Before we start performing operations and other procedures, we save the 'clean db'.\n",
        "\n",
        "*Note: It still need some work like initial imputations but it will be handle further in this Notebook.*"
      ],
      "metadata": {
        "id": "34BBRu5ECCM5"
      }
    },
    {
      "cell_type": "code",
      "source": [
        "# Print the result\n",
        "print(filtered_df.shape[0])  # Number of rows\n",
        "filtered_df.to_csv('clean_db.csv', index=False)\n",
        "# filtered_df.sample(6)\n",
        "\n",
        "#quitar las sucursales que no se van a utilizar"
      ],
      "metadata": {
        "id": "iu0SVJ5QNYlb",
        "outputId": "98957235-43d8-4bea-ce24-5a1f28715e4a",
        "colab": {
          "base_uri": "https://localhost:8080/"
        },
        "collapsed": true
      },
      "execution_count": 30,
      "outputs": [
        {
          "output_type": "stream",
          "name": "stdout",
          "text": [
            "9312\n"
          ]
        }
      ]
    },
    {
      "cell_type": "markdown",
      "source": [
        "## Compute new indicators\n"
      ],
      "metadata": {
        "id": "b5JsVt48QkZJ"
      }
    },
    {
      "cell_type": "markdown",
      "source": [
        "### New data frames for SI, SI_vnc, Mora 30-89 and CST\n",
        "To get the expected indicators of the dataframe, we extract the informarion of SI, SI_vnc, Mora 30-89 and CST from m_12 to actual, in individual dataframes so it is easier to use for operations."
      ],
      "metadata": {
        "id": "RlCGt-0vdknJ"
      }
    },
    {
      "cell_type": "code",
      "source": [
        "## Extraction of SI\n",
        "# Identifying the columns to sum (those starting with 'si_m_')\n",
        "si_columns = [col for col in filtered_df.columns if col.startswith('si_m_') or col=='si_act']\n",
        "\n",
        "#sidf = filtered_df.loc(\"si_m_12\", \"si_act\")\n",
        "# Grouping by 'region', 'division', and 'sucursal', summing the 'si_m_' columns, and excluding 'vendedor'\n",
        "grouped_si = filtered_df.groupby(['sucursal'])[si_columns].sum().reset_index()\n",
        "grouped_si.to_csv('grouped_si.csv', index=False)\n",
        "\n",
        "## Extraction of SIV\n",
        "# Identifying the columns to sum (those starting with 'si_vnc_m_')\n",
        "si_vnc_columns = [col for col in filtered_df.columns if col.startswith('si_vnc_m_') or col=='si_vnc_act']\n",
        "\n",
        "# Grouping by 'region', 'division', and 'sucursal', summing the 'si_vnc_' columns, and excluding 'vendedor'\n",
        "grouped_vnc = filtered_df.groupby(['sucursal'])[si_vnc_columns].sum().reset_index()\n",
        "grouped_vnc.to_csv('grouped_vnc.csv', index=False)\n",
        "\n",
        "## Extraction of CST\n",
        "# Identifying the columns to sum (those starting with 'cst_m_')\n",
        "cst_columns = [col for col in filtered_df.columns if col.startswith('cst_m_') or col=='cst_act']\n",
        "grouped_cst = filtered_df.groupby(['sucursal'])[cst_columns].sum().reset_index()\n",
        "grouped_cst.to_csv('grouped_cst.csv', index=False)\n",
        "\n",
        "# Identifying the columns to sum (those starting with 'si_30_89_m_')\n",
        "si_30_89_columns = [col for col in filtered_df.columns if col.startswith('si_30_89_m_')or col=='si_30_89_act']\n",
        "\n",
        "# Grouping by 'region', 'division', and 'sucursal', summing the 'si_30_89_m_' columns, and excluding 'vendedor'\n",
        "grouped_30_89 = filtered_df.groupby(['sucursal'])[si_30_89_columns].sum().reset_index()\n",
        "grouped_30_89.to_csv('grouped_30-89.csv', index=False)"
      ],
      "metadata": {
        "id": "IuDhh9zOEgNB"
      },
      "execution_count": 14,
      "outputs": []
    },
    {
      "cell_type": "markdown",
      "source": [
        "### Calculate of ICV, %MORA30-89, iMORA"
      ],
      "metadata": {
        "id": "82jiwLAvjpHM"
      }
    },
    {
      "cell_type": "code",
      "source": [
        "\n",
        "# Crear un nuevo DataFrame para almacenar los resultados de la división\n",
        "mor= pd.DataFrame()\n",
        "for si_col, si_30_89_col, i in zip(si_columns, si_30_89_columns, range(13, 0, -1)):\n",
        "    new_column_name = f\"mora{i-1}\"\n",
        "    mor[new_column_name] = grouped_30_89[si_30_89_col] / grouped_si[si_col]\n",
        "mor.rename(columns={f\"mora0\": \"mora_actual\"}, inplace=True)\n",
        "mor.insert(0, 'sucursal', grouped_30_89.pop('sucursal'))\n",
        "#varianza=grouped_30_89.var()\n",
        "mor.to_csv('mora_30d89.csv', index=False)\n",
        "\n",
        "#Crear dataframe para ICV\n",
        "icv = pd.DataFrame()\n",
        "for si_col, si_vnc_col, i in zip(si_columns, si_vnc_columns, range(13, 0, -1)):\n",
        "    new_column_name = f\"iv{i-1}\"\n",
        "    icv[new_column_name] = grouped_vnc[si_vnc_col] / grouped_si[si_col]\n",
        "icv.rename(columns={f\"iv0\": \"iv_actual\"}, inplace=True)\n",
        "icv.insert(0, 'sucursal', grouped_vnc.pop('sucursal'))\n",
        "#varianza=grouped_30_89.var()\n",
        "icv.to_csv('icv.csv', index=False)\n"
      ],
      "metadata": {
        "id": "Lr7ZbOpIR2YE"
      },
      "execution_count": 15,
      "outputs": []
    },
    {
      "cell_type": "code",
      "source": [
        "grouped_cst['sum_cst'] = grouped_cst.iloc[:, 1:].sum(axis=1)\n",
        "#sum_cst = sum.DataFrame([sum_cst])\n",
        "grouped_cst.insert(1, 'sum_cst', grouped_cst.pop('sum_cst'))\n",
        "#Crear dataframe para Imora\n",
        "\n",
        "imora= pd.DataFrame()\n",
        "imora['imora'] = (grouped_vnc['si_vnc_act'] +grouped_cst['sum_cst']) / (grouped_si['si_act'] +grouped_cst['sum_cst'])\n",
        "imora.insert(0, 'sucursal', grouped_cst.pop('sucursal'))\n",
        "imora.to_csv('imora.csv', index=False)"
      ],
      "metadata": {
        "id": "_K5Vzx2Da-g1"
      },
      "execution_count": 16,
      "outputs": []
    },
    {
      "cell_type": "code",
      "source": [],
      "metadata": {
        "id": "ax8kGCRXo0du"
      },
      "execution_count": 16,
      "outputs": []
    },
    {
      "cell_type": "markdown",
      "source": [
        "### Estadísticos"
      ],
      "metadata": {
        "id": "8z8wBrg1milB"
      }
    },
    {
      "cell_type": "code",
      "source": [],
      "metadata": {
        "id": "CsTZb4ODHIOi"
      },
      "execution_count": null,
      "outputs": []
    },
    {
      "cell_type": "code",
      "source": [
        "# Obtener promedio, varianza por sucursal y agreugarlo en un nuevo data frame en donde las sucursales sean las filas y los indicadores las columnas\n",
        "avr = filtered_df.groupby('sucursal').mean()\n",
        "var = filtered_df.groupby('sucursal').var()\n",
        "avr.to_csv('avr.csv', index=False)\n",
        "var.to_csv('var.csv', index=False)  # Save the updated DataFrame to a new CSV file"
      ],
      "metadata": {
        "id": "Y_AQiP8PGwNB",
        "outputId": "6415d399-6b9c-4dba-d331-569042d6cfe4",
        "colab": {
          "base_uri": "https://localhost:8080/",
          "height": 478
        }
      },
      "execution_count": null,
      "outputs": [
        {
          "output_type": "error",
          "ename": "TypeError",
          "evalue": "agg function failed [how->mean,dtype->object]",
          "traceback": [
            "\u001b[0;31m---------------------------------------------------------------------------\u001b[0m",
            "\u001b[0;31mTypeError\u001b[0m                                 Traceback (most recent call last)",
            "\u001b[0;32m/usr/local/lib/python3.10/dist-packages/pandas/core/groupby/groupby.py\u001b[0m in \u001b[0;36m_agg_py_fallback\u001b[0;34m(self, how, values, ndim, alt)\u001b[0m\n\u001b[1;32m   1873\u001b[0m         \u001b[0;32mtry\u001b[0m\u001b[0;34m:\u001b[0m\u001b[0;34m\u001b[0m\u001b[0;34m\u001b[0m\u001b[0m\n\u001b[0;32m-> 1874\u001b[0;31m             \u001b[0mres_values\u001b[0m \u001b[0;34m=\u001b[0m \u001b[0mself\u001b[0m\u001b[0;34m.\u001b[0m\u001b[0mgrouper\u001b[0m\u001b[0;34m.\u001b[0m\u001b[0magg_series\u001b[0m\u001b[0;34m(\u001b[0m\u001b[0mser\u001b[0m\u001b[0;34m,\u001b[0m \u001b[0malt\u001b[0m\u001b[0;34m,\u001b[0m \u001b[0mpreserve_dtype\u001b[0m\u001b[0;34m=\u001b[0m\u001b[0;32mTrue\u001b[0m\u001b[0;34m)\u001b[0m\u001b[0;34m\u001b[0m\u001b[0;34m\u001b[0m\u001b[0m\n\u001b[0m\u001b[1;32m   1875\u001b[0m         \u001b[0;32mexcept\u001b[0m \u001b[0mException\u001b[0m \u001b[0;32mas\u001b[0m \u001b[0merr\u001b[0m\u001b[0;34m:\u001b[0m\u001b[0;34m\u001b[0m\u001b[0;34m\u001b[0m\u001b[0m\n",
            "\u001b[0;32m/usr/local/lib/python3.10/dist-packages/pandas/core/groupby/ops.py\u001b[0m in \u001b[0;36magg_series\u001b[0;34m(self, obj, func, preserve_dtype)\u001b[0m\n\u001b[1;32m    848\u001b[0m \u001b[0;34m\u001b[0m\u001b[0m\n\u001b[0;32m--> 849\u001b[0;31m         \u001b[0mresult\u001b[0m \u001b[0;34m=\u001b[0m \u001b[0mself\u001b[0m\u001b[0;34m.\u001b[0m\u001b[0m_aggregate_series_pure_python\u001b[0m\u001b[0;34m(\u001b[0m\u001b[0mobj\u001b[0m\u001b[0;34m,\u001b[0m \u001b[0mfunc\u001b[0m\u001b[0;34m)\u001b[0m\u001b[0;34m\u001b[0m\u001b[0;34m\u001b[0m\u001b[0m\n\u001b[0m\u001b[1;32m    850\u001b[0m \u001b[0;34m\u001b[0m\u001b[0m\n",
            "\u001b[0;32m/usr/local/lib/python3.10/dist-packages/pandas/core/groupby/ops.py\u001b[0m in \u001b[0;36m_aggregate_series_pure_python\u001b[0;34m(self, obj, func)\u001b[0m\n\u001b[1;32m    876\u001b[0m         \u001b[0;32mfor\u001b[0m \u001b[0mi\u001b[0m\u001b[0;34m,\u001b[0m \u001b[0mgroup\u001b[0m \u001b[0;32min\u001b[0m \u001b[0menumerate\u001b[0m\u001b[0;34m(\u001b[0m\u001b[0msplitter\u001b[0m\u001b[0;34m)\u001b[0m\u001b[0;34m:\u001b[0m\u001b[0;34m\u001b[0m\u001b[0;34m\u001b[0m\u001b[0m\n\u001b[0;32m--> 877\u001b[0;31m             \u001b[0mres\u001b[0m \u001b[0;34m=\u001b[0m \u001b[0mfunc\u001b[0m\u001b[0;34m(\u001b[0m\u001b[0mgroup\u001b[0m\u001b[0;34m)\u001b[0m\u001b[0;34m\u001b[0m\u001b[0;34m\u001b[0m\u001b[0m\n\u001b[0m\u001b[1;32m    878\u001b[0m             \u001b[0mres\u001b[0m \u001b[0;34m=\u001b[0m \u001b[0mextract_result\u001b[0m\u001b[0;34m(\u001b[0m\u001b[0mres\u001b[0m\u001b[0;34m)\u001b[0m\u001b[0;34m\u001b[0m\u001b[0;34m\u001b[0m\u001b[0m\n",
            "\u001b[0;32m/usr/local/lib/python3.10/dist-packages/pandas/core/groupby/groupby.py\u001b[0m in \u001b[0;36m<lambda>\u001b[0;34m(x)\u001b[0m\n\u001b[1;32m   2379\u001b[0m                 \u001b[0;34m\"mean\"\u001b[0m\u001b[0;34m,\u001b[0m\u001b[0;34m\u001b[0m\u001b[0;34m\u001b[0m\u001b[0m\n\u001b[0;32m-> 2380\u001b[0;31m                 \u001b[0malt\u001b[0m\u001b[0;34m=\u001b[0m\u001b[0;32mlambda\u001b[0m \u001b[0mx\u001b[0m\u001b[0;34m:\u001b[0m \u001b[0mSeries\u001b[0m\u001b[0;34m(\u001b[0m\u001b[0mx\u001b[0m\u001b[0;34m)\u001b[0m\u001b[0;34m.\u001b[0m\u001b[0mmean\u001b[0m\u001b[0;34m(\u001b[0m\u001b[0mnumeric_only\u001b[0m\u001b[0;34m=\u001b[0m\u001b[0mnumeric_only\u001b[0m\u001b[0;34m)\u001b[0m\u001b[0;34m,\u001b[0m\u001b[0;34m\u001b[0m\u001b[0;34m\u001b[0m\u001b[0m\n\u001b[0m\u001b[1;32m   2381\u001b[0m                 \u001b[0mnumeric_only\u001b[0m\u001b[0;34m=\u001b[0m\u001b[0mnumeric_only\u001b[0m\u001b[0;34m,\u001b[0m\u001b[0;34m\u001b[0m\u001b[0;34m\u001b[0m\u001b[0m\n",
            "\u001b[0;32m/usr/local/lib/python3.10/dist-packages/pandas/core/series.py\u001b[0m in \u001b[0;36mmean\u001b[0;34m(self, axis, skipna, numeric_only, **kwargs)\u001b[0m\n\u001b[1;32m   6224\u001b[0m     ):\n\u001b[0;32m-> 6225\u001b[0;31m         \u001b[0;32mreturn\u001b[0m \u001b[0mNDFrame\u001b[0m\u001b[0;34m.\u001b[0m\u001b[0mmean\u001b[0m\u001b[0;34m(\u001b[0m\u001b[0mself\u001b[0m\u001b[0;34m,\u001b[0m \u001b[0maxis\u001b[0m\u001b[0;34m,\u001b[0m \u001b[0mskipna\u001b[0m\u001b[0;34m,\u001b[0m \u001b[0mnumeric_only\u001b[0m\u001b[0;34m,\u001b[0m \u001b[0;34m**\u001b[0m\u001b[0mkwargs\u001b[0m\u001b[0;34m)\u001b[0m\u001b[0;34m\u001b[0m\u001b[0;34m\u001b[0m\u001b[0m\n\u001b[0m\u001b[1;32m   6226\u001b[0m \u001b[0;34m\u001b[0m\u001b[0m\n",
            "\u001b[0;32m/usr/local/lib/python3.10/dist-packages/pandas/core/generic.py\u001b[0m in \u001b[0;36mmean\u001b[0;34m(self, axis, skipna, numeric_only, **kwargs)\u001b[0m\n\u001b[1;32m  11991\u001b[0m     ) -> Series | float:\n\u001b[0;32m> 11992\u001b[0;31m         return self._stat_function(\n\u001b[0m\u001b[1;32m  11993\u001b[0m             \u001b[0;34m\"mean\"\u001b[0m\u001b[0;34m,\u001b[0m \u001b[0mnanops\u001b[0m\u001b[0;34m.\u001b[0m\u001b[0mnanmean\u001b[0m\u001b[0;34m,\u001b[0m \u001b[0maxis\u001b[0m\u001b[0;34m,\u001b[0m \u001b[0mskipna\u001b[0m\u001b[0;34m,\u001b[0m \u001b[0mnumeric_only\u001b[0m\u001b[0;34m,\u001b[0m \u001b[0;34m**\u001b[0m\u001b[0mkwargs\u001b[0m\u001b[0;34m\u001b[0m\u001b[0;34m\u001b[0m\u001b[0m\n",
            "\u001b[0;32m/usr/local/lib/python3.10/dist-packages/pandas/core/generic.py\u001b[0m in \u001b[0;36m_stat_function\u001b[0;34m(self, name, func, axis, skipna, numeric_only, **kwargs)\u001b[0m\n\u001b[1;32m  11948\u001b[0m \u001b[0;34m\u001b[0m\u001b[0m\n\u001b[0;32m> 11949\u001b[0;31m         return self._reduce(\n\u001b[0m\u001b[1;32m  11950\u001b[0m             \u001b[0mfunc\u001b[0m\u001b[0;34m,\u001b[0m \u001b[0mname\u001b[0m\u001b[0;34m=\u001b[0m\u001b[0mname\u001b[0m\u001b[0;34m,\u001b[0m \u001b[0maxis\u001b[0m\u001b[0;34m=\u001b[0m\u001b[0maxis\u001b[0m\u001b[0;34m,\u001b[0m \u001b[0mskipna\u001b[0m\u001b[0;34m=\u001b[0m\u001b[0mskipna\u001b[0m\u001b[0;34m,\u001b[0m \u001b[0mnumeric_only\u001b[0m\u001b[0;34m=\u001b[0m\u001b[0mnumeric_only\u001b[0m\u001b[0;34m\u001b[0m\u001b[0;34m\u001b[0m\u001b[0m\n",
            "\u001b[0;32m/usr/local/lib/python3.10/dist-packages/pandas/core/series.py\u001b[0m in \u001b[0;36m_reduce\u001b[0;34m(self, op, name, axis, skipna, numeric_only, filter_type, **kwds)\u001b[0m\n\u001b[1;32m   6132\u001b[0m                 )\n\u001b[0;32m-> 6133\u001b[0;31m             \u001b[0;32mreturn\u001b[0m \u001b[0mop\u001b[0m\u001b[0;34m(\u001b[0m\u001b[0mdelegate\u001b[0m\u001b[0;34m,\u001b[0m \u001b[0mskipna\u001b[0m\u001b[0;34m=\u001b[0m\u001b[0mskipna\u001b[0m\u001b[0;34m,\u001b[0m \u001b[0;34m**\u001b[0m\u001b[0mkwds\u001b[0m\u001b[0;34m)\u001b[0m\u001b[0;34m\u001b[0m\u001b[0;34m\u001b[0m\u001b[0m\n\u001b[0m\u001b[1;32m   6134\u001b[0m \u001b[0;34m\u001b[0m\u001b[0m\n",
            "\u001b[0;32m/usr/local/lib/python3.10/dist-packages/pandas/core/nanops.py\u001b[0m in \u001b[0;36mf\u001b[0;34m(values, axis, skipna, **kwds)\u001b[0m\n\u001b[1;32m    146\u001b[0m             \u001b[0;32melse\u001b[0m\u001b[0;34m:\u001b[0m\u001b[0;34m\u001b[0m\u001b[0;34m\u001b[0m\u001b[0m\n\u001b[0;32m--> 147\u001b[0;31m                 \u001b[0mresult\u001b[0m \u001b[0;34m=\u001b[0m \u001b[0malt\u001b[0m\u001b[0;34m(\u001b[0m\u001b[0mvalues\u001b[0m\u001b[0;34m,\u001b[0m \u001b[0maxis\u001b[0m\u001b[0;34m=\u001b[0m\u001b[0maxis\u001b[0m\u001b[0;34m,\u001b[0m \u001b[0mskipna\u001b[0m\u001b[0;34m=\u001b[0m\u001b[0mskipna\u001b[0m\u001b[0;34m,\u001b[0m \u001b[0;34m**\u001b[0m\u001b[0mkwds\u001b[0m\u001b[0;34m)\u001b[0m\u001b[0;34m\u001b[0m\u001b[0;34m\u001b[0m\u001b[0m\n\u001b[0m\u001b[1;32m    148\u001b[0m \u001b[0;34m\u001b[0m\u001b[0m\n",
            "\u001b[0;32m/usr/local/lib/python3.10/dist-packages/pandas/core/nanops.py\u001b[0m in \u001b[0;36mnew_func\u001b[0;34m(values, axis, skipna, mask, **kwargs)\u001b[0m\n\u001b[1;32m    403\u001b[0m \u001b[0;34m\u001b[0m\u001b[0m\n\u001b[0;32m--> 404\u001b[0;31m         \u001b[0mresult\u001b[0m \u001b[0;34m=\u001b[0m \u001b[0mfunc\u001b[0m\u001b[0;34m(\u001b[0m\u001b[0mvalues\u001b[0m\u001b[0;34m,\u001b[0m \u001b[0maxis\u001b[0m\u001b[0;34m=\u001b[0m\u001b[0maxis\u001b[0m\u001b[0;34m,\u001b[0m \u001b[0mskipna\u001b[0m\u001b[0;34m=\u001b[0m\u001b[0mskipna\u001b[0m\u001b[0;34m,\u001b[0m \u001b[0mmask\u001b[0m\u001b[0;34m=\u001b[0m\u001b[0mmask\u001b[0m\u001b[0;34m,\u001b[0m \u001b[0;34m**\u001b[0m\u001b[0mkwargs\u001b[0m\u001b[0;34m)\u001b[0m\u001b[0;34m\u001b[0m\u001b[0;34m\u001b[0m\u001b[0m\n\u001b[0m\u001b[1;32m    405\u001b[0m \u001b[0;34m\u001b[0m\u001b[0m\n",
            "\u001b[0;32m/usr/local/lib/python3.10/dist-packages/pandas/core/nanops.py\u001b[0m in \u001b[0;36mnanmean\u001b[0;34m(values, axis, skipna, mask)\u001b[0m\n\u001b[1;32m    719\u001b[0m     \u001b[0mthe_sum\u001b[0m \u001b[0;34m=\u001b[0m \u001b[0mvalues\u001b[0m\u001b[0;34m.\u001b[0m\u001b[0msum\u001b[0m\u001b[0;34m(\u001b[0m\u001b[0maxis\u001b[0m\u001b[0;34m,\u001b[0m \u001b[0mdtype\u001b[0m\u001b[0;34m=\u001b[0m\u001b[0mdtype_sum\u001b[0m\u001b[0;34m)\u001b[0m\u001b[0;34m\u001b[0m\u001b[0;34m\u001b[0m\u001b[0m\n\u001b[0;32m--> 720\u001b[0;31m     \u001b[0mthe_sum\u001b[0m \u001b[0;34m=\u001b[0m \u001b[0m_ensure_numeric\u001b[0m\u001b[0;34m(\u001b[0m\u001b[0mthe_sum\u001b[0m\u001b[0;34m)\u001b[0m\u001b[0;34m\u001b[0m\u001b[0;34m\u001b[0m\u001b[0m\n\u001b[0m\u001b[1;32m    721\u001b[0m \u001b[0;34m\u001b[0m\u001b[0m\n",
            "\u001b[0;32m/usr/local/lib/python3.10/dist-packages/pandas/core/nanops.py\u001b[0m in \u001b[0;36m_ensure_numeric\u001b[0;34m(x)\u001b[0m\n\u001b[1;32m   1692\u001b[0m             \u001b[0;31m# GH#44008, GH#36703 avoid casting e.g. strings to numeric\u001b[0m\u001b[0;34m\u001b[0m\u001b[0;34m\u001b[0m\u001b[0m\n\u001b[0;32m-> 1693\u001b[0;31m             \u001b[0;32mraise\u001b[0m \u001b[0mTypeError\u001b[0m\u001b[0;34m(\u001b[0m\u001b[0;34mf\"Could not convert string '{x}' to numeric\"\u001b[0m\u001b[0;34m)\u001b[0m\u001b[0;34m\u001b[0m\u001b[0;34m\u001b[0m\u001b[0m\n\u001b[0m\u001b[1;32m   1694\u001b[0m         \u001b[0;32mtry\u001b[0m\u001b[0;34m:\u001b[0m\u001b[0;34m\u001b[0m\u001b[0;34m\u001b[0m\u001b[0m\n",
            "\u001b[0;31mTypeError\u001b[0m: Could not convert string 'Red NortenaRed NortenaRed NortenaRed NortenaRed NortenaRed NortenaRed NortenaRed NortenaRed NortenaRed NortenaRed NortenaRed NortenaRed NortenaRed NortenaRed NortenaRed NortenaRed NortenaRed NortenaRed NortenaRed NortenaRed NortenaRed NortenaRed NortenaRed NortenaRed NortenaRed NortenaRed NortenaRed NortenaRed NortenaRed NortenaRed NortenaRed NortenaRed NortenaRed NortenaRed NortenaRed NortenaRed NortenaRed NortenaRed NortenaRed Nortena' to numeric",
            "\nThe above exception was the direct cause of the following exception:\n",
            "\u001b[0;31mTypeError\u001b[0m                                 Traceback (most recent call last)",
            "\u001b[0;32m<ipython-input-21-daa8b4367788>\u001b[0m in \u001b[0;36m<cell line: 2>\u001b[0;34m()\u001b[0m\n\u001b[1;32m      1\u001b[0m \u001b[0;31m# Obtener promedio, varianza por sucursal y agreugarlo en un nuevo data frame en donde las sucursales sean las filas y los indicadores las columnas\u001b[0m\u001b[0;34m\u001b[0m\u001b[0;34m\u001b[0m\u001b[0m\n\u001b[0;32m----> 2\u001b[0;31m \u001b[0mavr\u001b[0m \u001b[0;34m=\u001b[0m \u001b[0mfiltered_df\u001b[0m\u001b[0;34m.\u001b[0m\u001b[0mgroupby\u001b[0m\u001b[0;34m(\u001b[0m\u001b[0;34m'sucursal'\u001b[0m\u001b[0;34m)\u001b[0m\u001b[0;34m.\u001b[0m\u001b[0mmean\u001b[0m\u001b[0;34m(\u001b[0m\u001b[0;34m)\u001b[0m\u001b[0;34m\u001b[0m\u001b[0;34m\u001b[0m\u001b[0m\n\u001b[0m\u001b[1;32m      3\u001b[0m \u001b[0mvar\u001b[0m \u001b[0;34m=\u001b[0m \u001b[0mfiltered_df\u001b[0m\u001b[0;34m.\u001b[0m\u001b[0mgroupby\u001b[0m\u001b[0;34m(\u001b[0m\u001b[0;34m'sucursal'\u001b[0m\u001b[0;34m)\u001b[0m\u001b[0;34m.\u001b[0m\u001b[0mvar\u001b[0m\u001b[0;34m(\u001b[0m\u001b[0;34m)\u001b[0m\u001b[0;34m\u001b[0m\u001b[0;34m\u001b[0m\u001b[0m\n\u001b[1;32m      4\u001b[0m \u001b[0mavr\u001b[0m\u001b[0;34m.\u001b[0m\u001b[0mto_csv\u001b[0m\u001b[0;34m(\u001b[0m\u001b[0;34m'avr.csv'\u001b[0m\u001b[0;34m,\u001b[0m \u001b[0mindex\u001b[0m\u001b[0;34m=\u001b[0m\u001b[0;32mFalse\u001b[0m\u001b[0;34m)\u001b[0m\u001b[0;34m\u001b[0m\u001b[0;34m\u001b[0m\u001b[0m\n\u001b[1;32m      5\u001b[0m \u001b[0mvar\u001b[0m\u001b[0;34m.\u001b[0m\u001b[0mto_csv\u001b[0m\u001b[0;34m(\u001b[0m\u001b[0;34m'var.csv'\u001b[0m\u001b[0;34m,\u001b[0m \u001b[0mindex\u001b[0m\u001b[0;34m=\u001b[0m\u001b[0;32mFalse\u001b[0m\u001b[0;34m)\u001b[0m  \u001b[0;31m# Save the updated DataFrame to a new CSV file\u001b[0m\u001b[0;34m\u001b[0m\u001b[0;34m\u001b[0m\u001b[0m\n",
            "\u001b[0;32m/usr/local/lib/python3.10/dist-packages/pandas/core/groupby/groupby.py\u001b[0m in \u001b[0;36mmean\u001b[0;34m(self, numeric_only, engine, engine_kwargs)\u001b[0m\n\u001b[1;32m   2376\u001b[0m             )\n\u001b[1;32m   2377\u001b[0m         \u001b[0;32melse\u001b[0m\u001b[0;34m:\u001b[0m\u001b[0;34m\u001b[0m\u001b[0;34m\u001b[0m\u001b[0m\n\u001b[0;32m-> 2378\u001b[0;31m             result = self._cython_agg_general(\n\u001b[0m\u001b[1;32m   2379\u001b[0m                 \u001b[0;34m\"mean\"\u001b[0m\u001b[0;34m,\u001b[0m\u001b[0;34m\u001b[0m\u001b[0;34m\u001b[0m\u001b[0m\n\u001b[1;32m   2380\u001b[0m                 \u001b[0malt\u001b[0m\u001b[0;34m=\u001b[0m\u001b[0;32mlambda\u001b[0m \u001b[0mx\u001b[0m\u001b[0;34m:\u001b[0m \u001b[0mSeries\u001b[0m\u001b[0;34m(\u001b[0m\u001b[0mx\u001b[0m\u001b[0;34m)\u001b[0m\u001b[0;34m.\u001b[0m\u001b[0mmean\u001b[0m\u001b[0;34m(\u001b[0m\u001b[0mnumeric_only\u001b[0m\u001b[0;34m=\u001b[0m\u001b[0mnumeric_only\u001b[0m\u001b[0;34m)\u001b[0m\u001b[0;34m,\u001b[0m\u001b[0;34m\u001b[0m\u001b[0;34m\u001b[0m\u001b[0m\n",
            "\u001b[0;32m/usr/local/lib/python3.10/dist-packages/pandas/core/groupby/groupby.py\u001b[0m in \u001b[0;36m_cython_agg_general\u001b[0;34m(self, how, alt, numeric_only, min_count, **kwargs)\u001b[0m\n\u001b[1;32m   1927\u001b[0m             \u001b[0;32mreturn\u001b[0m \u001b[0mresult\u001b[0m\u001b[0;34m\u001b[0m\u001b[0;34m\u001b[0m\u001b[0m\n\u001b[1;32m   1928\u001b[0m \u001b[0;34m\u001b[0m\u001b[0m\n\u001b[0;32m-> 1929\u001b[0;31m         \u001b[0mnew_mgr\u001b[0m \u001b[0;34m=\u001b[0m \u001b[0mdata\u001b[0m\u001b[0;34m.\u001b[0m\u001b[0mgrouped_reduce\u001b[0m\u001b[0;34m(\u001b[0m\u001b[0marray_func\u001b[0m\u001b[0;34m)\u001b[0m\u001b[0;34m\u001b[0m\u001b[0;34m\u001b[0m\u001b[0m\n\u001b[0m\u001b[1;32m   1930\u001b[0m         \u001b[0mres\u001b[0m \u001b[0;34m=\u001b[0m \u001b[0mself\u001b[0m\u001b[0;34m.\u001b[0m\u001b[0m_wrap_agged_manager\u001b[0m\u001b[0;34m(\u001b[0m\u001b[0mnew_mgr\u001b[0m\u001b[0;34m)\u001b[0m\u001b[0;34m\u001b[0m\u001b[0;34m\u001b[0m\u001b[0m\n\u001b[1;32m   1931\u001b[0m         \u001b[0mout\u001b[0m \u001b[0;34m=\u001b[0m \u001b[0mself\u001b[0m\u001b[0;34m.\u001b[0m\u001b[0m_wrap_aggregated_output\u001b[0m\u001b[0;34m(\u001b[0m\u001b[0mres\u001b[0m\u001b[0;34m)\u001b[0m\u001b[0;34m\u001b[0m\u001b[0;34m\u001b[0m\u001b[0m\n",
            "\u001b[0;32m/usr/local/lib/python3.10/dist-packages/pandas/core/internals/managers.py\u001b[0m in \u001b[0;36mgrouped_reduce\u001b[0;34m(self, func)\u001b[0m\n\u001b[1;32m   1426\u001b[0m                 \u001b[0;31m#  while others do not.\u001b[0m\u001b[0;34m\u001b[0m\u001b[0;34m\u001b[0m\u001b[0m\n\u001b[1;32m   1427\u001b[0m                 \u001b[0;32mfor\u001b[0m \u001b[0msb\u001b[0m \u001b[0;32min\u001b[0m \u001b[0mblk\u001b[0m\u001b[0;34m.\u001b[0m\u001b[0m_split\u001b[0m\u001b[0;34m(\u001b[0m\u001b[0;34m)\u001b[0m\u001b[0;34m:\u001b[0m\u001b[0;34m\u001b[0m\u001b[0;34m\u001b[0m\u001b[0m\n\u001b[0;32m-> 1428\u001b[0;31m                     \u001b[0mapplied\u001b[0m \u001b[0;34m=\u001b[0m \u001b[0msb\u001b[0m\u001b[0;34m.\u001b[0m\u001b[0mapply\u001b[0m\u001b[0;34m(\u001b[0m\u001b[0mfunc\u001b[0m\u001b[0;34m)\u001b[0m\u001b[0;34m\u001b[0m\u001b[0;34m\u001b[0m\u001b[0m\n\u001b[0m\u001b[1;32m   1429\u001b[0m                     \u001b[0mresult_blocks\u001b[0m \u001b[0;34m=\u001b[0m \u001b[0mextend_blocks\u001b[0m\u001b[0;34m(\u001b[0m\u001b[0mapplied\u001b[0m\u001b[0;34m,\u001b[0m \u001b[0mresult_blocks\u001b[0m\u001b[0;34m)\u001b[0m\u001b[0;34m\u001b[0m\u001b[0;34m\u001b[0m\u001b[0m\n\u001b[1;32m   1430\u001b[0m             \u001b[0;32melse\u001b[0m\u001b[0;34m:\u001b[0m\u001b[0;34m\u001b[0m\u001b[0;34m\u001b[0m\u001b[0m\n",
            "\u001b[0;32m/usr/local/lib/python3.10/dist-packages/pandas/core/internals/blocks.py\u001b[0m in \u001b[0;36mapply\u001b[0;34m(self, func, **kwargs)\u001b[0m\n\u001b[1;32m    364\u001b[0m         \u001b[0mone\u001b[0m\u001b[0;34m\u001b[0m\u001b[0;34m\u001b[0m\u001b[0m\n\u001b[1;32m    365\u001b[0m         \"\"\"\n\u001b[0;32m--> 366\u001b[0;31m         \u001b[0mresult\u001b[0m \u001b[0;34m=\u001b[0m \u001b[0mfunc\u001b[0m\u001b[0;34m(\u001b[0m\u001b[0mself\u001b[0m\u001b[0;34m.\u001b[0m\u001b[0mvalues\u001b[0m\u001b[0;34m,\u001b[0m \u001b[0;34m**\u001b[0m\u001b[0mkwargs\u001b[0m\u001b[0;34m)\u001b[0m\u001b[0;34m\u001b[0m\u001b[0;34m\u001b[0m\u001b[0m\n\u001b[0m\u001b[1;32m    367\u001b[0m \u001b[0;34m\u001b[0m\u001b[0m\n\u001b[1;32m    368\u001b[0m         \u001b[0mresult\u001b[0m \u001b[0;34m=\u001b[0m \u001b[0mmaybe_coerce_values\u001b[0m\u001b[0;34m(\u001b[0m\u001b[0mresult\u001b[0m\u001b[0;34m)\u001b[0m\u001b[0;34m\u001b[0m\u001b[0;34m\u001b[0m\u001b[0m\n",
            "\u001b[0;32m/usr/local/lib/python3.10/dist-packages/pandas/core/groupby/groupby.py\u001b[0m in \u001b[0;36marray_func\u001b[0;34m(values)\u001b[0m\n\u001b[1;32m   1924\u001b[0m                 \u001b[0;32mreturn\u001b[0m \u001b[0mresult\u001b[0m\u001b[0;34m\u001b[0m\u001b[0;34m\u001b[0m\u001b[0m\n\u001b[1;32m   1925\u001b[0m \u001b[0;34m\u001b[0m\u001b[0m\n\u001b[0;32m-> 1926\u001b[0;31m             \u001b[0mresult\u001b[0m \u001b[0;34m=\u001b[0m \u001b[0mself\u001b[0m\u001b[0;34m.\u001b[0m\u001b[0m_agg_py_fallback\u001b[0m\u001b[0;34m(\u001b[0m\u001b[0mhow\u001b[0m\u001b[0;34m,\u001b[0m \u001b[0mvalues\u001b[0m\u001b[0;34m,\u001b[0m \u001b[0mndim\u001b[0m\u001b[0;34m=\u001b[0m\u001b[0mdata\u001b[0m\u001b[0;34m.\u001b[0m\u001b[0mndim\u001b[0m\u001b[0;34m,\u001b[0m \u001b[0malt\u001b[0m\u001b[0;34m=\u001b[0m\u001b[0malt\u001b[0m\u001b[0;34m)\u001b[0m\u001b[0;34m\u001b[0m\u001b[0;34m\u001b[0m\u001b[0m\n\u001b[0m\u001b[1;32m   1927\u001b[0m             \u001b[0;32mreturn\u001b[0m \u001b[0mresult\u001b[0m\u001b[0;34m\u001b[0m\u001b[0;34m\u001b[0m\u001b[0m\n\u001b[1;32m   1928\u001b[0m \u001b[0;34m\u001b[0m\u001b[0m\n",
            "\u001b[0;32m/usr/local/lib/python3.10/dist-packages/pandas/core/groupby/groupby.py\u001b[0m in \u001b[0;36m_agg_py_fallback\u001b[0;34m(self, how, values, ndim, alt)\u001b[0m\n\u001b[1;32m   1876\u001b[0m             \u001b[0mmsg\u001b[0m \u001b[0;34m=\u001b[0m \u001b[0;34mf\"agg function failed [how->{how},dtype->{ser.dtype}]\"\u001b[0m\u001b[0;34m\u001b[0m\u001b[0;34m\u001b[0m\u001b[0m\n\u001b[1;32m   1877\u001b[0m             \u001b[0;31m# preserve the kind of exception that raised\u001b[0m\u001b[0;34m\u001b[0m\u001b[0;34m\u001b[0m\u001b[0m\n\u001b[0;32m-> 1878\u001b[0;31m             \u001b[0;32mraise\u001b[0m \u001b[0mtype\u001b[0m\u001b[0;34m(\u001b[0m\u001b[0merr\u001b[0m\u001b[0;34m)\u001b[0m\u001b[0;34m(\u001b[0m\u001b[0mmsg\u001b[0m\u001b[0;34m)\u001b[0m \u001b[0;32mfrom\u001b[0m \u001b[0merr\u001b[0m\u001b[0;34m\u001b[0m\u001b[0;34m\u001b[0m\u001b[0m\n\u001b[0m\u001b[1;32m   1879\u001b[0m \u001b[0;34m\u001b[0m\u001b[0m\n\u001b[1;32m   1880\u001b[0m         \u001b[0;32mif\u001b[0m \u001b[0mser\u001b[0m\u001b[0;34m.\u001b[0m\u001b[0mdtype\u001b[0m \u001b[0;34m==\u001b[0m \u001b[0mobject\u001b[0m\u001b[0;34m:\u001b[0m\u001b[0;34m\u001b[0m\u001b[0;34m\u001b[0m\u001b[0m\n",
            "\u001b[0;31mTypeError\u001b[0m: agg function failed [how->mean,dtype->object]"
          ]
        }
      ]
    },
    {
      "cell_type": "code",
      "source": [
        "na = filtered_df.isna().sum()\n",
        "print(na)\n",
        "\n",
        "test = filtered_df.copy(deep=True)\n",
        "\n",
        "# Identify duplicates\n",
        "duplicates = test[test.duplicated(subset=['vendedor'], keep=False)]\n",
        "\n",
        "# Sort duplicates by 'vendedor' for better readability\n",
        "duplicates_sorted = duplicates.sort_values('vendedor')\n",
        "\n",
        "# Create a list of lists with 'vendedor' and 'sucursal' for each duplicate\n",
        "duplicate_list = duplicates_sorted[['vendedor', 'sucursal']].values.tolist()\n",
        "\n",
        "print(\"\\nNumber of rows before removing duplicates:\", len(test))\n",
        "print(\"Number of duplicate rows:\", len(duplicates))\n",
        "\n",
        "# Remove duplicates\n",
        "test.drop_duplicates(subset=['vendedor'], inplace=True)\n",
        "\n",
        "print(\"Number of rows after removing duplicates:\", len(test))\n",
        "\n",
        "# Display the list of duplicates\n",
        "print(\"\\nList of duplicates (vendedor, sucursal):\")\n",
        "for item in duplicate_list:\n",
        "    print(item)\n",
        "\n",
        "# Return the list of duplicates\n",
        "duplicate_list\n"
      ],
      "metadata": {
        "id": "HSklql09g_7A"
      },
      "execution_count": null,
      "outputs": []
    },
    {
      "cell_type": "code",
      "source": [
        "import matplotlib.pyplot as plt\n",
        "\n",
        "# Assuming 'icv' DataFrame is already created as per your code\n",
        "\n",
        "for column in icv.columns[1:]:  # Iterate over columns except 'sucursal'\n",
        "    # Create subplots for histogram and boxplot\n",
        "    fig, axes = plt.subplots(1, 2, figsize=(10, 5))\n",
        "\n",
        "    # Histogram\n",
        "    axes[0].hist(icv[column])\n",
        "    axes[0].set_xlabel(column)\n",
        "    axes[0].set_ylabel('Frequency')\n",
        "    axes[0].set_title(f'Distribution of {column}')\n",
        "\n",
        "    # Boxplot\n",
        "    axes[1].boxplot(icv[column])\n",
        "    axes[1].set_ylabel(column)\n",
        "    axes[1].set_title(f'Boxplot of {column}')\n",
        "\n",
        "    plt.tight_layout()\n",
        "    plt.show()"
      ],
      "metadata": {
        "id": "xs2aQMwMfCW0"
      },
      "execution_count": null,
      "outputs": []
    },
    {
      "cell_type": "code",
      "source": [
        "\"\"\"\n",
        "Create a dict for each indicator which is going to store the values per cycle and per vendedor\n",
        "\"\"\"\n",
        "\n",
        "\n",
        "# Calculate 'Indice de Cartera Vencida' (icv)\n",
        "filtered_df['icv'] = filtered_df['si_vnc_act'] / filtered_df['si_act']\n",
        "\n",
        "# Calculate 'Morosidad 30-89 dias'\n",
        "filtered_df['mora_30_89'] =  filtered_df['si_30_89_act'] / filtered_df['si_act']\n",
        "\n",
        "# Calculate 'imora'\n",
        "filtered_df['imora'] = filtered_df['si_vnc_act'] / filtered_df['si_act']\n",
        "\n",
        "# Insert 'Cartera Vencida' as the fourth column\n",
        "filtered_df.insert(4, 'icv', filtered_df.pop('icv'))\n",
        "# Insert 'mora_30_89' as the fifth column\n",
        "filtered_df.insert(5, 'mora_30_89', filtered_df.pop('mora_30_89'))\n",
        "# Insert 'imora' as the sixth column\n",
        "filtered_df.insert(6, 'imora', filtered_df.pop('imora'))\n",
        "\n",
        "# # Check if columns exist\n",
        "# print('Saldo Insoluto \\n30-89  Actual' in filtered_df.columns)\n",
        "# print('Saldo Insoluto Actual' in filtered_df.columns)\n",
        "# print('Saldo Insoluto Vencido Actual' in filtered_df.columns)\n",
        "# print([col for col in filtered_df.columns])\n",
        "\n",
        "# Save the updated DataFrame to a new CSV file\n",
        "filtered_df.to_csv('clean_db_with_venc_moras.csv', index=False)\n",
        "\n",
        "# filtered_df.sample(3)\n",
        "\n",
        "# Icv estogram\n",
        "plt.hist(filtered_df['icv'])\n",
        "plt.xlabel('Indice de Cartera Vencida')\n",
        "plt.ylabel('Frequency')\n",
        "plt.title('Distribution of Indice de Cartera Vencida')\n",
        "plt.show()\n",
        "\n",
        "#boxplot Cartera Vencida\n",
        "plt.boxplot(filtered_df['mora_30_89'])\n",
        "plt.ylabel('Indice de Cartera Vencida')\n",
        "plt.title('Boxplot of Indice de Cartera Vencida')\n",
        "plt.show()\n",
        "# mora30 estogram\n",
        "plt.hist(filtered_df['mora_30_89'])\n",
        "plt.xlabel('Indice de mora 30 89')\n",
        "plt.ylabel('Frequency')\n",
        "plt.title('Distribution of mora')\n",
        "plt.show()\n",
        "\n",
        "#boxplot mora 30 89\n",
        "plt.boxplot(filtered_df['mora_30_89'])\n",
        "plt.ylabel('Indice de mora')\n",
        "plt.title('Boxplot of mora')\n",
        "plt.show()\n",
        "# Imora estogram\n",
        "plt.hist(filtered_df['imora'])\n",
        "plt.xlabel('Indice de imora')\n",
        "plt.ylabel('Frequency')\n",
        "plt.title('Distribution of emora')\n",
        "plt.show()\n",
        "\n",
        "#boxplot of imora\n",
        "plt.boxplot(filtered_df['imora'])\n",
        "plt.ylabel('Indice de imora')\n",
        "plt.title('Boxplot of emora')\n",
        "plt.show()"
      ],
      "metadata": {
        "id": "xWfHnwfcV2v7"
      },
      "execution_count": null,
      "outputs": []
    }
  ]
}