{
 "cells": [
  {
   "cell_type": "markdown",
   "metadata": {},
   "source": [
    "# Introduction to Python3: Pandas"
   ]
  },
  {
   "cell_type": "markdown",
   "metadata": {},
   "source": [
    "Pandas es un paquete de Python que permite optimizar el uso de datos. Las siguientes notas fueron tomadas del tutorial *Python for Data Analysis-Pandas Lightning Tutorials, Alfred Essa* perteneciente a la serie *Pandas cookbook*."
   ]
  },
  {
   "cell_type": "markdown",
   "metadata": {},
   "source": [
    "Para estos notebooks se utilizó Pandas en la versión 0.20.2 en la cual se notan algunas diferencias con la versión 0.17."
   ]
  },
  {
   "cell_type": "markdown",
   "metadata": {},
   "source": [
    "## Serie de datos"
   ]
  },
  {
   "cell_type": "markdown",
   "metadata": {},
   "source": [
    "Para comenzar a trabajar en la exploración y análisis de datos con Pandas se requiere crear una **serie de datos**. Una serie de datos es un objeto que consiste de un conjunto de elementos del mismo o diferente tipo. Este objeto puede ser una lista, un array, o un diccionario."
   ]
  },
  {
   "cell_type": "code",
   "execution_count": 1,
   "metadata": {},
   "outputs": [],
   "source": [
    "# importar pandas y nuympy\n",
    "import pandas as pd \n",
    "import numpy as np"
   ]
  },
  {
   "cell_type": "markdown",
   "metadata": {},
   "source": [
    "Una vez importados los paquetes *pandas* y *numpy* utilizamos la función `Series()` del paquete Pandas para crear una serie de datos. `Series()` es el método básico para crear una Serie de datos:"
   ]
  },
  {
   "cell_type": "markdown",
   "metadata": {},
   "source": [
    "`a = Series(data, index=index)`"
   ]
  },
  {
   "cell_type": "markdown",
   "metadata": {},
   "source": [
    "**Ejemplo1:** Serie de datos con índices por default"
   ]
  },
  {
   "cell_type": "code",
   "execution_count": 94,
   "metadata": {},
   "outputs": [],
   "source": [
    "# Serie de datos con base en un lista de \n",
    "# enteros\n",
    "s1 = pd.Series([33, 19, 89, 11, 5, 9])\n"
   ]
  },
  {
   "cell_type": "code",
   "execution_count": 95,
   "metadata": {},
   "outputs": [
    {
     "data": {
      "text/plain": [
       "0    33\n",
       "1    19\n",
       "2    89\n",
       "3    11\n",
       "4     5\n",
       "5     9\n",
       "dtype: int64"
      ]
     },
     "execution_count": 95,
     "metadata": {},
     "output_type": "execute_result"
    }
   ],
   "source": [
    "# Si no se especifica un índice en el conjunto de datos\n",
    "# el constructor del objeto Series crea un índice por\n",
    "# default como una lista consecutiva enteros\n",
    "s1"
   ]
  },
  {
   "cell_type": "code",
   "execution_count": 96,
   "metadata": {},
   "outputs": [
    {
     "data": {
      "text/plain": [
       "pandas.core.series.Series"
      ]
     },
     "execution_count": 96,
     "metadata": {},
     "output_type": "execute_result"
    }
   ],
   "source": [
    "# tipo de dato del objeto Series de pandas\n",
    "type(s1)"
   ]
  },
  {
   "cell_type": "code",
   "execution_count": 98,
   "metadata": {},
   "outputs": [
    {
     "data": {
      "text/plain": [
       "array([33, 19, 89, 11,  5,  9], dtype=int64)"
      ]
     },
     "execution_count": 98,
     "metadata": {},
     "output_type": "execute_result"
    }
   ],
   "source": [
    "# recupera los valores de la serie\n",
    "s1.values"
   ]
  },
  {
   "cell_type": "code",
   "execution_count": 99,
   "metadata": {},
   "outputs": [
    {
     "data": {
      "text/plain": [
       "numpy.ndarray"
      ]
     },
     "execution_count": 99,
     "metadata": {},
     "output_type": "execute_result"
    }
   ],
   "source": [
    "# tipo de dato que contiene los valores de la serie\n",
    "type(s1.values)"
   ]
  },
  {
   "cell_type": "code",
   "execution_count": 100,
   "metadata": {},
   "outputs": [
    {
     "data": {
      "text/plain": [
       "RangeIndex(start=0, stop=6, step=1)"
      ]
     },
     "execution_count": 100,
     "metadata": {},
     "output_type": "execute_result"
    }
   ],
   "source": [
    "# recupera los indices del array\n",
    "s1.index"
   ]
  },
  {
   "cell_type": "code",
   "execution_count": 101,
   "metadata": {},
   "outputs": [
    {
     "data": {
      "text/plain": [
       "0    33\n",
       "1    19\n",
       "2    89\n",
       "3    11\n",
       "4     5\n",
       "5     9\n",
       "dtype: int64"
      ]
     },
     "execution_count": 101,
     "metadata": {},
     "output_type": "execute_result"
    }
   ],
   "source": [
    "# asocia una serie como un mapeo de indices a valores\n",
    "s1"
   ]
  },
  {
   "cell_type": "markdown",
   "metadata": {},
   "source": [
    "**Ejemplo2:** Serie con índices que tienen significado específico"
   ]
  },
  {
   "cell_type": "code",
   "execution_count": 102,
   "metadata": {},
   "outputs": [],
   "source": [
    "# Se definen la serie de datos e índices\n",
    "data1 =[33, 19, 15, 89, 11, 5, 9]\n",
    "index1 = ['Mon', 'Tue', 'Wed', 'Thu', 'Fri','Sat','Sun']"
   ]
  },
  {
   "cell_type": "code",
   "execution_count": 103,
   "metadata": {},
   "outputs": [],
   "source": [
    "# Se crean las series\n",
    "s2 = pd.Series(data1, index = index1)"
   ]
  },
  {
   "cell_type": "code",
   "execution_count": 104,
   "metadata": {},
   "outputs": [
    {
     "data": {
      "text/plain": [
       "Mon    33\n",
       "Tue    19\n",
       "Wed    15\n",
       "Thu    89\n",
       "Fri    11\n",
       "Sat     5\n",
       "Sun     9\n",
       "dtype: int64"
      ]
     },
     "execution_count": 104,
     "metadata": {},
     "output_type": "execute_result"
    }
   ],
   "source": [
    "s2"
   ]
  },
  {
   "cell_type": "code",
   "execution_count": 105,
   "metadata": {},
   "outputs": [
    {
     "data": {
      "text/plain": [
       "Index(['Mon', 'Tue', 'Wed', 'Thu', 'Fri', 'Sat', 'Sun'], dtype='object')"
      ]
     },
     "execution_count": 105,
     "metadata": {},
     "output_type": "execute_result"
    }
   ],
   "source": [
    "# verifica el índice\n",
    "s2.index"
   ]
  },
  {
   "cell_type": "code",
   "execution_count": 106,
   "metadata": {},
   "outputs": [],
   "source": [
    "# asigna etiquetas a la serie de datos y al índice.\n",
    "s2.name = 'Daily Temperature'\n",
    "s2.index.name = 'Weekday'"
   ]
  },
  {
   "cell_type": "code",
   "execution_count": 107,
   "metadata": {},
   "outputs": [
    {
     "data": {
      "text/plain": [
       "Weekday\n",
       "Mon    33\n",
       "Tue    19\n",
       "Wed    15\n",
       "Thu    89\n",
       "Fri    11\n",
       "Sat     5\n",
       "Sun     9\n",
       "Name: Daily Temperature, dtype: int64"
      ]
     },
     "execution_count": 107,
     "metadata": {},
     "output_type": "execute_result"
    }
   ],
   "source": [
    "s2"
   ]
  },
  {
   "cell_type": "markdown",
   "metadata": {},
   "source": [
    "Los valores en una serie de datos son homogéneos. Python modifica los valores de una serie con distintos tipos al tipo de mayor capacidad "
   ]
  },
  {
   "cell_type": "code",
   "execution_count": 108,
   "metadata": {},
   "outputs": [],
   "source": [
    "# serie con datos no homogéneos\n",
    "data2 = [33, 19.3, 15, 89, 11, -5, 9]"
   ]
  },
  {
   "cell_type": "code",
   "execution_count": 109,
   "metadata": {},
   "outputs": [],
   "source": [
    "s3 = pd.Series(data2, index = index1)"
   ]
  },
  {
   "cell_type": "code",
   "execution_count": 110,
   "metadata": {},
   "outputs": [
    {
     "data": {
      "text/plain": [
       "Mon    33.0\n",
       "Tue    19.3\n",
       "Wed    15.0\n",
       "Thu    89.0\n",
       "Fri    11.0\n",
       "Sat    -5.0\n",
       "Sun     9.0\n",
       "dtype: float64"
      ]
     },
     "execution_count": 110,
     "metadata": {},
     "output_type": "execute_result"
    }
   ],
   "source": [
    "# los datos son de tipo float\n",
    "s3"
   ]
  },
  {
   "cell_type": "markdown",
   "metadata": {},
   "source": [
    "**Ejemplo 3:** Series a partir de diccionarios"
   ]
  },
  {
   "cell_type": "code",
   "execution_count": 122,
   "metadata": {},
   "outputs": [],
   "source": [
    "dict1 = {'Mon': 33, 'Tue': 19, 'Wed': 15, 'Thu': 89, 'Fri': 11, 'Sat': 5, 'Sun': 9}"
   ]
  },
  {
   "cell_type": "code",
   "execution_count": 123,
   "metadata": {},
   "outputs": [],
   "source": [
    "s4 = pd.Series(dict1)"
   ]
  },
  {
   "cell_type": "code",
   "execution_count": 124,
   "metadata": {},
   "outputs": [
    {
     "data": {
      "text/plain": [
       "Mon    33\n",
       "Tue    19\n",
       "Wed    15\n",
       "Thu    89\n",
       "Fri    11\n",
       "Sat     5\n",
       "Sun     9\n",
       "dtype: int64"
      ]
     },
     "execution_count": 124,
     "metadata": {},
     "output_type": "execute_result"
    }
   ],
   "source": [
    "s4"
   ]
  },
  {
   "cell_type": "markdown",
   "metadata": {},
   "source": [
    "La representación más general de una serie de datos es arreglo ordenado de duplas llave-valor.\n",
    "* El orden está representado por un offset\n",
    "* La dupla llave-valor es un mapeo que asocia un índice o etiquea a un valor del arreglo de datos\n",
    "* Índice como \"offset\" o \"posición\" vs índice como \"etiqueta\" o \"llave\" "
   ]
  },
  {
   "cell_type": "markdown",
   "metadata": {},
   "source": [
    "**Series como ndarray de numpy**"
   ]
  },
  {
   "cell_type": "code",
   "execution_count": 125,
   "metadata": {},
   "outputs": [
    {
     "data": {
      "text/plain": [
       "Mon    33\n",
       "Tue    19\n",
       "Wed    15\n",
       "Thu    89\n",
       "Fri    11\n",
       "Sat     5\n",
       "Sun     9\n",
       "dtype: int64"
      ]
     },
     "execution_count": 125,
     "metadata": {},
     "output_type": "execute_result"
    }
   ],
   "source": [
    "# operaciones vectorizadas\n",
    "s4"
   ]
  },
  {
   "cell_type": "code",
   "execution_count": 126,
   "metadata": {},
   "outputs": [
    {
     "data": {
      "text/plain": [
       "Mon     66\n",
       "Tue     38\n",
       "Wed     30\n",
       "Thu    178\n",
       "Fri     22\n",
       "Sat     10\n",
       "Sun     18\n",
       "dtype: int64"
      ]
     },
     "execution_count": 126,
     "metadata": {},
     "output_type": "execute_result"
    }
   ],
   "source": [
    "s4 * 2"
   ]
  },
  {
   "cell_type": "code",
   "execution_count": 127,
   "metadata": {
    "scrolled": true
   },
   "outputs": [
    {
     "data": {
      "text/plain": [
       "Mon    3.496508\n",
       "Tue    2.944439\n",
       "Wed    2.708050\n",
       "Thu    4.488636\n",
       "Fri    2.397895\n",
       "Sat    1.609438\n",
       "Sun    2.197225\n",
       "dtype: float64"
      ]
     },
     "execution_count": 127,
     "metadata": {},
     "output_type": "execute_result"
    }
   ],
   "source": [
    "np.log(s4)"
   ]
  },
  {
   "cell_type": "markdown",
   "metadata": {},
   "source": [
    "**Nota**: NaN (not a number) es el marcador por default que asigna pandas a un dato faltante "
   ]
  },
  {
   "cell_type": "code",
   "execution_count": 141,
   "metadata": {},
   "outputs": [
    {
     "data": {
      "text/plain": [
       "Tue    199\n",
       "Wed     15\n",
       "dtype: int64"
      ]
     },
     "execution_count": 141,
     "metadata": {},
     "output_type": "execute_result"
    }
   ],
   "source": [
    "# slice usando las etiquetas del índice\n",
    "s4['Tue':'Wed']"
   ]
  },
  {
   "cell_type": "code",
   "execution_count": 129,
   "metadata": {},
   "outputs": [
    {
     "data": {
      "text/plain": [
       "Tue    19\n",
       "Wed    15\n",
       "dtype: int64"
      ]
     },
     "execution_count": 129,
     "metadata": {},
     "output_type": "execute_result"
    }
   ],
   "source": [
    "# slice usando posición\n",
    "s4[1:3]"
   ]
  },
  {
   "cell_type": "code",
   "execution_count": 130,
   "metadata": {},
   "outputs": [
    {
     "data": {
      "text/plain": [
       "19"
      ]
     },
     "execution_count": 130,
     "metadata": {},
     "output_type": "execute_result"
    }
   ],
   "source": [
    "# recupera valores usando el offset\n",
    "s4[1]"
   ]
  },
  {
   "cell_type": "code",
   "execution_count": 131,
   "metadata": {},
   "outputs": [],
   "source": [
    "# asignación de valores\n",
    "s4[1] = 199"
   ]
  },
  {
   "cell_type": "code",
   "execution_count": 132,
   "metadata": {},
   "outputs": [
    {
     "data": {
      "text/plain": [
       "Mon     33\n",
       "Tue    199\n",
       "Wed     15\n",
       "Thu     89\n",
       "Fri     11\n",
       "Sat      5\n",
       "Sun      9\n",
       "dtype: int64"
      ]
     },
     "execution_count": 132,
     "metadata": {},
     "output_type": "execute_result"
    }
   ],
   "source": [
    "s4"
   ]
  },
  {
   "cell_type": "markdown",
   "metadata": {},
   "source": [
    "El objeto serie es una subclase de ndarray de numpy, por tanto dicho objeto tiene la mayoría de los métodos del ndarray."
   ]
  },
  {
   "cell_type": "code",
   "execution_count": 133,
   "metadata": {},
   "outputs": [
    {
     "data": {
      "text/plain": [
       "Mon     33\n",
       "Tue    199\n",
       "Wed     15\n",
       "Thu     89\n",
       "Fri     11\n",
       "Sat      5\n",
       "Sun      9\n",
       "dtype: int64"
      ]
     },
     "execution_count": 133,
     "metadata": {},
     "output_type": "execute_result"
    }
   ],
   "source": [
    "s4"
   ]
  },
  {
   "cell_type": "code",
   "execution_count": 134,
   "metadata": {},
   "outputs": [
    {
     "data": {
      "text/plain": [
       "15.0"
      ]
     },
     "execution_count": 134,
     "metadata": {},
     "output_type": "execute_result"
    }
   ],
   "source": [
    "# la mediana de la serie de valores\n",
    "s4.median() "
   ]
  },
  {
   "cell_type": "code",
   "execution_count": 135,
   "metadata": {},
   "outputs": [
    {
     "data": {
      "text/plain": [
       "199"
      ]
     },
     "execution_count": 135,
     "metadata": {},
     "output_type": "execute_result"
    }
   ],
   "source": [
    "# máximo valor de la serie\n",
    "s4.max()"
   ]
  },
  {
   "cell_type": "code",
   "execution_count": 136,
   "metadata": {},
   "outputs": [
    {
     "data": {
      "text/plain": [
       "Mon     33\n",
       "Tue    232\n",
       "Wed    247\n",
       "Thu    336\n",
       "Fri    347\n",
       "Sat    352\n",
       "Sun    361\n",
       "dtype: int64"
      ]
     },
     "execution_count": 136,
     "metadata": {},
     "output_type": "execute_result"
    }
   ],
   "source": [
    "# suma acumulada\n",
    "s4.cumsum()"
   ]
  },
  {
   "cell_type": "markdown",
   "metadata": {},
   "source": [
    "El objeto serie no es iterable pero puede hacerse iterable por medio del la función `enumerate()` que devuelve un objeto iterable que contiene índice y valor."
   ]
  },
  {
   "cell_type": "code",
   "execution_count": 137,
   "metadata": {},
   "outputs": [
    {
     "name": "stdout",
     "output_type": "stream",
     "text": [
      "0 33\n",
      "1 199\n",
      "2 15\n",
      "3 89\n",
      "4 11\n",
      "5 5\n",
      "6 9\n"
     ]
    }
   ],
   "source": [
    "# itera sobre los valores de la serie\n",
    "# usando enumerate() devuelve un objeto iterable\n",
    "for i,v in enumerate(s4):\n",
    "    print (i, v)"
   ]
  },
  {
   "cell_type": "code",
   "execution_count": 138,
   "metadata": {},
   "outputs": [
    {
     "data": {
      "text/plain": [
       "[1089, 39601, 225, 7921, 121, 25, 81]"
      ]
     },
     "execution_count": 138,
     "metadata": {},
     "output_type": "execute_result"
    }
   ],
   "source": [
    "# comprensión de listas puede usarse para crear una nueva lista\n",
    "new_list = [x**2 for x in s4]\n",
    "new_list"
   ]
  },
  {
   "cell_type": "markdown",
   "metadata": {},
   "source": [
    "Las objeto serie funciona como un diccionario "
   ]
  },
  {
   "cell_type": "code",
   "execution_count": 139,
   "metadata": {},
   "outputs": [
    {
     "data": {
      "text/plain": [
       "True"
      ]
     },
     "execution_count": 139,
     "metadata": {},
     "output_type": "execute_result"
    }
   ],
   "source": [
    "# la llave se encuentra en la lista\n",
    "'Sun' in s4"
   ]
  },
  {
   "cell_type": "code",
   "execution_count": 140,
   "metadata": {},
   "outputs": [
    {
     "data": {
      "text/plain": [
       "199"
      ]
     },
     "execution_count": 140,
     "metadata": {},
     "output_type": "execute_result"
    }
   ],
   "source": [
    "s4['Tue']"
   ]
  },
  {
   "cell_type": "code",
   "execution_count": 35,
   "metadata": {},
   "outputs": [
    {
     "data": {
      "text/plain": [
       "15"
      ]
     },
     "execution_count": 35,
     "metadata": {},
     "output_type": "execute_result"
    }
   ],
   "source": [
    "# recupera un vloar usando llave o índice\n",
    "s4['Wed']"
   ]
  },
  {
   "cell_type": "code",
   "execution_count": 36,
   "metadata": {},
   "outputs": [],
   "source": [
    "# asiganación por medio de la llave\n",
    "s4['Tue'] = 200"
   ]
  },
  {
   "cell_type": "code",
   "execution_count": 37,
   "metadata": {},
   "outputs": [
    {
     "data": {
      "text/plain": [
       "Mon     33\n",
       "Tue    200\n",
       "Wed     15\n",
       "Thu     89\n",
       "Fri     11\n",
       "Sat      5\n",
       "Sun      9\n",
       "dtype: int64"
      ]
     },
     "execution_count": 37,
     "metadata": {},
     "output_type": "execute_result"
    }
   ],
   "source": [
    "s4"
   ]
  },
  {
   "cell_type": "markdown",
   "metadata": {},
   "source": [
    "Otra forma de hacer iterable una serie es por medio del método `iteritems()`"
   ]
  },
  {
   "cell_type": "code",
   "execution_count": 38,
   "metadata": {},
   "outputs": [
    {
     "name": "stdout",
     "output_type": "stream",
     "text": [
      "Mon 33\n",
      "Tue 200\n",
      "Wed 15\n",
      "Thu 89\n",
      "Fri 11\n",
      "Sat 5\n",
      "Sun 9\n"
     ]
    }
   ],
   "source": [
    "# itera sobre el diccionario por medio de llave y valores\n",
    "for k,v in s4.iteritems():\n",
    "    print (k,v)"
   ]
  },
  {
   "cell_type": "markdown",
   "metadata": {},
   "source": [
    "## DataFrames"
   ]
  },
  {
   "cell_type": "markdown",
   "metadata": {},
   "source": [
    "Pandas permite crear el objeto **DataFrame** que es un arreglo bidimensional con renglones y columnas etiquetadas y indexadas.\n",
    "* Los datos del array pueden ser de tipo: entero, cadena, números de punto flotante, objetos de Python, etc.\n",
    "* Los datos contenidos en cada columna son homogéneos\n",
    "* Por default Pandas crea un índice numérico para los renglones en la sequencia 0,...,n\n",
    "\n",
    "![](./dataFrame)\n",
    "\n",
    "Adicionalmente, cualquier columna puede utilizarse como índice de los datos."
   ]
  },
  {
   "cell_type": "code",
   "execution_count": 1,
   "metadata": {},
   "outputs": [],
   "source": [
    "import pandas as pd\n",
    "import datetime"
   ]
  },
  {
   "cell_type": "code",
   "execution_count": 2,
   "metadata": {},
   "outputs": [],
   "source": [
    "# crea un lista que contiene fechas 01/12 al 07/12\n",
    "#datetime.datetime Una combinacion de datos y tiempo.Attributes: year, month, day, hour, minute, second, microsecond, and tzinfo.\n",
    "#datetime.timedelta A duration expressing the difference between two date, time, or datetime instances to microsecond resolution.\n",
    "\n",
    "dt = datetime.datetime(2013,12,1)\n",
    "end = datetime.datetime(2013,12,8)\n",
    "step = datetime.timedelta(days=1)\n",
    "dates = []"
   ]
  },
  {
   "cell_type": "code",
   "execution_count": 3,
   "metadata": {},
   "outputs": [],
   "source": [
    "# popule the list\n",
    "while dt < end:\n",
    "    dates.append(dt.strftime('%m-%d'))\n",
    "    dt += step"
   ]
  },
  {
   "cell_type": "code",
   "execution_count": 4,
   "metadata": {},
   "outputs": [
    {
     "data": {
      "text/plain": [
       "['12-01', '12-02', '12-03', '12-04', '12-05', '12-06', '12-07']"
      ]
     },
     "execution_count": 4,
     "metadata": {},
     "output_type": "execute_result"
    }
   ],
   "source": [
    "dates"
   ]
  },
  {
   "cell_type": "code",
   "execution_count": 5,
   "metadata": {},
   "outputs": [],
   "source": [
    "d = {'Date': dates, 'Tokyo':[15, 19, 15, 11, 9, 8, 13], \n",
    "     'Paris': [-2, 0, 2, 5, 7, -5, -3], \n",
    "     'Mumbai': [20, 18, 23, 19, 25, 27, 23]}"
   ]
  },
  {
   "cell_type": "code",
   "execution_count": 6,
   "metadata": {},
   "outputs": [
    {
     "data": {
      "text/plain": [
       "{'Date': ['12-01', '12-02', '12-03', '12-04', '12-05', '12-06', '12-07'],\n",
       " 'Tokyo': [15, 19, 15, 11, 9, 8, 13],\n",
       " 'Paris': [-2, 0, 2, 5, 7, -5, -3],\n",
       " 'Mumbai': [20, 18, 23, 19, 25, 27, 23]}"
      ]
     },
     "execution_count": 6,
     "metadata": {},
     "output_type": "execute_result"
    }
   ],
   "source": [
    "d"
   ]
  },
  {
   "cell_type": "markdown",
   "metadata": {},
   "source": [
    "**Ejemplo 4:** Crear un objeto DataFrame desde un Diccionario de Python con listas de igual longitud"
   ]
  },
  {
   "cell_type": "code",
   "execution_count": 7,
   "metadata": {},
   "outputs": [
    {
     "data": {
      "text/html": [
       "<div>\n",
       "<style scoped>\n",
       "    .dataframe tbody tr th:only-of-type {\n",
       "        vertical-align: middle;\n",
       "    }\n",
       "\n",
       "    .dataframe tbody tr th {\n",
       "        vertical-align: top;\n",
       "    }\n",
       "\n",
       "    .dataframe thead th {\n",
       "        text-align: right;\n",
       "    }\n",
       "</style>\n",
       "<table border=\"1\" class=\"dataframe\">\n",
       "  <thead>\n",
       "    <tr style=\"text-align: right;\">\n",
       "      <th></th>\n",
       "      <th>Date</th>\n",
       "      <th>Tokyo</th>\n",
       "      <th>Paris</th>\n",
       "      <th>Mumbai</th>\n",
       "    </tr>\n",
       "  </thead>\n",
       "  <tbody>\n",
       "    <tr>\n",
       "      <th>0</th>\n",
       "      <td>12-01</td>\n",
       "      <td>15</td>\n",
       "      <td>-2</td>\n",
       "      <td>20</td>\n",
       "    </tr>\n",
       "    <tr>\n",
       "      <th>1</th>\n",
       "      <td>12-02</td>\n",
       "      <td>19</td>\n",
       "      <td>0</td>\n",
       "      <td>18</td>\n",
       "    </tr>\n",
       "    <tr>\n",
       "      <th>2</th>\n",
       "      <td>12-03</td>\n",
       "      <td>15</td>\n",
       "      <td>2</td>\n",
       "      <td>23</td>\n",
       "    </tr>\n",
       "    <tr>\n",
       "      <th>3</th>\n",
       "      <td>12-04</td>\n",
       "      <td>11</td>\n",
       "      <td>5</td>\n",
       "      <td>19</td>\n",
       "    </tr>\n",
       "    <tr>\n",
       "      <th>4</th>\n",
       "      <td>12-05</td>\n",
       "      <td>9</td>\n",
       "      <td>7</td>\n",
       "      <td>25</td>\n",
       "    </tr>\n",
       "    <tr>\n",
       "      <th>5</th>\n",
       "      <td>12-06</td>\n",
       "      <td>8</td>\n",
       "      <td>-5</td>\n",
       "      <td>27</td>\n",
       "    </tr>\n",
       "    <tr>\n",
       "      <th>6</th>\n",
       "      <td>12-07</td>\n",
       "      <td>13</td>\n",
       "      <td>-3</td>\n",
       "      <td>23</td>\n",
       "    </tr>\n",
       "  </tbody>\n",
       "</table>\n",
       "</div>"
      ],
      "text/plain": [
       "    Date  Tokyo  Paris  Mumbai\n",
       "0  12-01     15     -2      20\n",
       "1  12-02     19      0      18\n",
       "2  12-03     15      2      23\n",
       "3  12-04     11      5      19\n",
       "4  12-05      9      7      25\n",
       "5  12-06      8     -5      27\n",
       "6  12-07     13     -3      23"
      ]
     },
     "execution_count": 7,
     "metadata": {},
     "output_type": "execute_result"
    }
   ],
   "source": [
    "temps = pd.DataFrame(d)\n",
    "temps"
   ]
  },
  {
   "cell_type": "code",
   "execution_count": 8,
   "metadata": {},
   "outputs": [
    {
     "data": {
      "text/plain": [
       "0    20\n",
       "1    18\n",
       "2    23\n",
       "3    19\n",
       "4    25\n",
       "5    27\n",
       "6    23\n",
       "Name: Mumbai, dtype: int64"
      ]
     },
     "execution_count": 8,
     "metadata": {},
     "output_type": "execute_result"
    }
   ],
   "source": [
    "temps.Mumbai"
   ]
  },
  {
   "cell_type": "code",
   "execution_count": 9,
   "metadata": {},
   "outputs": [
    {
     "data": {
      "text/plain": [
       "0    20\n",
       "1    18\n",
       "2    23\n",
       "3    19\n",
       "4    25\n",
       "5    27\n",
       "6    23\n",
       "Name: Mumbai, dtype: int64"
      ]
     },
     "execution_count": 9,
     "metadata": {},
     "output_type": "execute_result"
    }
   ],
   "source": [
    "temps['Mumbai']"
   ]
  },
  {
   "cell_type": "code",
   "execution_count": 10,
   "metadata": {},
   "outputs": [
    {
     "data": {
      "text/plain": [
       "pandas.core.series.Series"
      ]
     },
     "execution_count": 10,
     "metadata": {},
     "output_type": "execute_result"
    }
   ],
   "source": [
    "type(temps['Mumbai'])"
   ]
  },
  {
   "cell_type": "code",
   "execution_count": 11,
   "metadata": {},
   "outputs": [],
   "source": [
    "ntemp = temps['Mumbai']"
   ]
  },
  {
   "cell_type": "code",
   "execution_count": 12,
   "metadata": {},
   "outputs": [
    {
     "data": {
      "text/plain": [
       "0    20\n",
       "1    18\n",
       "2    23\n",
       "3    19\n",
       "4    25\n",
       "5    27\n",
       "6    23\n",
       "Name: Mumbai, dtype: int64"
      ]
     },
     "execution_count": 12,
     "metadata": {},
     "output_type": "execute_result"
    }
   ],
   "source": [
    "ntemp"
   ]
  },
  {
   "cell_type": "code",
   "execution_count": 13,
   "metadata": {},
   "outputs": [
    {
     "data": {
      "text/html": [
       "<div>\n",
       "<style scoped>\n",
       "    .dataframe tbody tr th:only-of-type {\n",
       "        vertical-align: middle;\n",
       "    }\n",
       "\n",
       "    .dataframe tbody tr th {\n",
       "        vertical-align: top;\n",
       "    }\n",
       "\n",
       "    .dataframe thead th {\n",
       "        text-align: right;\n",
       "    }\n",
       "</style>\n",
       "<table border=\"1\" class=\"dataframe\">\n",
       "  <thead>\n",
       "    <tr style=\"text-align: right;\">\n",
       "      <th></th>\n",
       "      <th>Date</th>\n",
       "      <th>Tokyo</th>\n",
       "      <th>Paris</th>\n",
       "      <th>Mumbai</th>\n",
       "    </tr>\n",
       "  </thead>\n",
       "  <tbody>\n",
       "    <tr>\n",
       "      <th>0</th>\n",
       "      <td>12-01</td>\n",
       "      <td>15</td>\n",
       "      <td>-2</td>\n",
       "      <td>20</td>\n",
       "    </tr>\n",
       "    <tr>\n",
       "      <th>1</th>\n",
       "      <td>12-02</td>\n",
       "      <td>19</td>\n",
       "      <td>0</td>\n",
       "      <td>18</td>\n",
       "    </tr>\n",
       "    <tr>\n",
       "      <th>2</th>\n",
       "      <td>12-03</td>\n",
       "      <td>15</td>\n",
       "      <td>2</td>\n",
       "      <td>23</td>\n",
       "    </tr>\n",
       "    <tr>\n",
       "      <th>3</th>\n",
       "      <td>12-04</td>\n",
       "      <td>11</td>\n",
       "      <td>5</td>\n",
       "      <td>19</td>\n",
       "    </tr>\n",
       "    <tr>\n",
       "      <th>4</th>\n",
       "      <td>12-05</td>\n",
       "      <td>9</td>\n",
       "      <td>7</td>\n",
       "      <td>25</td>\n",
       "    </tr>\n",
       "    <tr>\n",
       "      <th>5</th>\n",
       "      <td>12-06</td>\n",
       "      <td>8</td>\n",
       "      <td>-5</td>\n",
       "      <td>27</td>\n",
       "    </tr>\n",
       "    <tr>\n",
       "      <th>6</th>\n",
       "      <td>12-07</td>\n",
       "      <td>13</td>\n",
       "      <td>-3</td>\n",
       "      <td>23</td>\n",
       "    </tr>\n",
       "  </tbody>\n",
       "</table>\n",
       "</div>"
      ],
      "text/plain": [
       "    Date  Tokyo  Paris  Mumbai\n",
       "0  12-01     15     -2      20\n",
       "1  12-02     19      0      18\n",
       "2  12-03     15      2      23\n",
       "3  12-04     11      5      19\n",
       "4  12-05      9      7      25\n",
       "5  12-06      8     -5      27\n",
       "6  12-07     13     -3      23"
      ]
     },
     "execution_count": 13,
     "metadata": {},
     "output_type": "execute_result"
    }
   ],
   "source": [
    "temps"
   ]
  },
  {
   "cell_type": "code",
   "execution_count": 14,
   "metadata": {},
   "outputs": [
    {
     "data": {
      "text/html": [
       "<div>\n",
       "<style scoped>\n",
       "    .dataframe tbody tr th:only-of-type {\n",
       "        vertical-align: middle;\n",
       "    }\n",
       "\n",
       "    .dataframe tbody tr th {\n",
       "        vertical-align: top;\n",
       "    }\n",
       "\n",
       "    .dataframe thead th {\n",
       "        text-align: right;\n",
       "    }\n",
       "</style>\n",
       "<table border=\"1\" class=\"dataframe\">\n",
       "  <thead>\n",
       "    <tr style=\"text-align: right;\">\n",
       "      <th></th>\n",
       "      <th>Tokyo</th>\n",
       "      <th>Paris</th>\n",
       "      <th>Mumbai</th>\n",
       "    </tr>\n",
       "    <tr>\n",
       "      <th>Date</th>\n",
       "      <th></th>\n",
       "      <th></th>\n",
       "      <th></th>\n",
       "    </tr>\n",
       "  </thead>\n",
       "  <tbody>\n",
       "    <tr>\n",
       "      <th>12-01</th>\n",
       "      <td>15</td>\n",
       "      <td>-2</td>\n",
       "      <td>20</td>\n",
       "    </tr>\n",
       "    <tr>\n",
       "      <th>12-02</th>\n",
       "      <td>19</td>\n",
       "      <td>0</td>\n",
       "      <td>18</td>\n",
       "    </tr>\n",
       "    <tr>\n",
       "      <th>12-03</th>\n",
       "      <td>15</td>\n",
       "      <td>2</td>\n",
       "      <td>23</td>\n",
       "    </tr>\n",
       "    <tr>\n",
       "      <th>12-04</th>\n",
       "      <td>11</td>\n",
       "      <td>5</td>\n",
       "      <td>19</td>\n",
       "    </tr>\n",
       "    <tr>\n",
       "      <th>12-05</th>\n",
       "      <td>9</td>\n",
       "      <td>7</td>\n",
       "      <td>25</td>\n",
       "    </tr>\n",
       "    <tr>\n",
       "      <th>12-06</th>\n",
       "      <td>8</td>\n",
       "      <td>-5</td>\n",
       "      <td>27</td>\n",
       "    </tr>\n",
       "    <tr>\n",
       "      <th>12-07</th>\n",
       "      <td>13</td>\n",
       "      <td>-3</td>\n",
       "      <td>23</td>\n",
       "    </tr>\n",
       "  </tbody>\n",
       "</table>\n",
       "</div>"
      ],
      "text/plain": [
       "       Tokyo  Paris  Mumbai\n",
       "Date                       \n",
       "12-01     15     -2      20\n",
       "12-02     19      0      18\n",
       "12-03     15      2      23\n",
       "12-04     11      5      19\n",
       "12-05      9      7      25\n",
       "12-06      8     -5      27\n",
       "12-07     13     -3      23"
      ]
     },
     "execution_count": 14,
     "metadata": {},
     "output_type": "execute_result"
    }
   ],
   "source": [
    "temps = temps.set_index('Date')\n",
    "temps"
   ]
  },
  {
   "cell_type": "markdown",
   "metadata": {},
   "source": [
    "**Ejemplo 5:** Crear un objeto DataFrame con base en un archivo .csv"
   ]
  },
  {
   "cell_type": "code",
   "execution_count": 15,
   "metadata": {},
   "outputs": [],
   "source": [
    "titanic = pd.read_csv('titanic.csv')"
   ]
  },
  {
   "cell_type": "code",
   "execution_count": 16,
   "metadata": {
    "scrolled": false
   },
   "outputs": [
    {
     "data": {
      "text/html": [
       "<div>\n",
       "<style scoped>\n",
       "    .dataframe tbody tr th:only-of-type {\n",
       "        vertical-align: middle;\n",
       "    }\n",
       "\n",
       "    .dataframe tbody tr th {\n",
       "        vertical-align: top;\n",
       "    }\n",
       "\n",
       "    .dataframe thead th {\n",
       "        text-align: right;\n",
       "    }\n",
       "</style>\n",
       "<table border=\"1\" class=\"dataframe\">\n",
       "  <thead>\n",
       "    <tr style=\"text-align: right;\">\n",
       "      <th></th>\n",
       "      <th>PassengerId</th>\n",
       "      <th>Survived</th>\n",
       "      <th>Pclass</th>\n",
       "      <th>Name</th>\n",
       "      <th>Sex</th>\n",
       "      <th>Age</th>\n",
       "      <th>SibSp</th>\n",
       "      <th>Parch</th>\n",
       "      <th>Ticket</th>\n",
       "      <th>Fare</th>\n",
       "      <th>Cabin</th>\n",
       "      <th>Embarked</th>\n",
       "    </tr>\n",
       "  </thead>\n",
       "  <tbody>\n",
       "    <tr>\n",
       "      <th>0</th>\n",
       "      <td>1</td>\n",
       "      <td>0</td>\n",
       "      <td>3</td>\n",
       "      <td>Braund, Mr. Owen Harris</td>\n",
       "      <td>male</td>\n",
       "      <td>22.0</td>\n",
       "      <td>1</td>\n",
       "      <td>0</td>\n",
       "      <td>A/5 21171</td>\n",
       "      <td>7.2500</td>\n",
       "      <td>NaN</td>\n",
       "      <td>S</td>\n",
       "    </tr>\n",
       "    <tr>\n",
       "      <th>1</th>\n",
       "      <td>2</td>\n",
       "      <td>1</td>\n",
       "      <td>1</td>\n",
       "      <td>Cumings, Mrs. John Bradley (Florence Briggs Th...</td>\n",
       "      <td>female</td>\n",
       "      <td>38.0</td>\n",
       "      <td>1</td>\n",
       "      <td>0</td>\n",
       "      <td>PC 17599</td>\n",
       "      <td>71.2833</td>\n",
       "      <td>C85</td>\n",
       "      <td>C</td>\n",
       "    </tr>\n",
       "    <tr>\n",
       "      <th>2</th>\n",
       "      <td>3</td>\n",
       "      <td>1</td>\n",
       "      <td>3</td>\n",
       "      <td>Heikkinen, Miss. Laina</td>\n",
       "      <td>female</td>\n",
       "      <td>26.0</td>\n",
       "      <td>0</td>\n",
       "      <td>0</td>\n",
       "      <td>STON/O2. 3101282</td>\n",
       "      <td>7.9250</td>\n",
       "      <td>NaN</td>\n",
       "      <td>S</td>\n",
       "    </tr>\n",
       "    <tr>\n",
       "      <th>3</th>\n",
       "      <td>4</td>\n",
       "      <td>1</td>\n",
       "      <td>1</td>\n",
       "      <td>Futrelle, Mrs. Jacques Heath (Lily May Peel)</td>\n",
       "      <td>female</td>\n",
       "      <td>35.0</td>\n",
       "      <td>1</td>\n",
       "      <td>0</td>\n",
       "      <td>113803</td>\n",
       "      <td>53.1000</td>\n",
       "      <td>C123</td>\n",
       "      <td>S</td>\n",
       "    </tr>\n",
       "    <tr>\n",
       "      <th>4</th>\n",
       "      <td>5</td>\n",
       "      <td>0</td>\n",
       "      <td>3</td>\n",
       "      <td>Allen, Mr. William Henry</td>\n",
       "      <td>male</td>\n",
       "      <td>35.0</td>\n",
       "      <td>0</td>\n",
       "      <td>0</td>\n",
       "      <td>373450</td>\n",
       "      <td>8.0500</td>\n",
       "      <td>NaN</td>\n",
       "      <td>S</td>\n",
       "    </tr>\n",
       "  </tbody>\n",
       "</table>\n",
       "</div>"
      ],
      "text/plain": [
       "   PassengerId  Survived  Pclass  \\\n",
       "0            1         0       3   \n",
       "1            2         1       1   \n",
       "2            3         1       3   \n",
       "3            4         1       1   \n",
       "4            5         0       3   \n",
       "\n",
       "                                                Name     Sex   Age  SibSp  \\\n",
       "0                            Braund, Mr. Owen Harris    male  22.0      1   \n",
       "1  Cumings, Mrs. John Bradley (Florence Briggs Th...  female  38.0      1   \n",
       "2                             Heikkinen, Miss. Laina  female  26.0      0   \n",
       "3       Futrelle, Mrs. Jacques Heath (Lily May Peel)  female  35.0      1   \n",
       "4                           Allen, Mr. William Henry    male  35.0      0   \n",
       "\n",
       "   Parch            Ticket     Fare Cabin Embarked  \n",
       "0      0         A/5 21171   7.2500   NaN        S  \n",
       "1      0          PC 17599  71.2833   C85        C  \n",
       "2      0  STON/O2. 3101282   7.9250   NaN        S  \n",
       "3      0            113803  53.1000  C123        S  \n",
       "4      0            373450   8.0500   NaN        S  "
      ]
     },
     "execution_count": 16,
     "metadata": {},
     "output_type": "execute_result"
    }
   ],
   "source": [
    "titanic.head()"
   ]
  },
  {
   "cell_type": "code",
   "execution_count": 60,
   "metadata": {},
   "outputs": [
    {
     "data": {
      "text/html": [
       "<div>\n",
       "<style scoped>\n",
       "    .dataframe tbody tr th:only-of-type {\n",
       "        vertical-align: middle;\n",
       "    }\n",
       "\n",
       "    .dataframe tbody tr th {\n",
       "        vertical-align: top;\n",
       "    }\n",
       "\n",
       "    .dataframe thead th {\n",
       "        text-align: right;\n",
       "    }\n",
       "</style>\n",
       "<table border=\"1\" class=\"dataframe\">\n",
       "  <thead>\n",
       "    <tr style=\"text-align: right;\">\n",
       "      <th></th>\n",
       "      <th>PassengerId</th>\n",
       "      <th>Survived</th>\n",
       "      <th>Pclass</th>\n",
       "      <th>Name</th>\n",
       "      <th>Sex</th>\n",
       "      <th>Age</th>\n",
       "      <th>SibSp</th>\n",
       "      <th>Parch</th>\n",
       "      <th>Ticket</th>\n",
       "      <th>Fare</th>\n",
       "      <th>Cabin</th>\n",
       "      <th>Embarked</th>\n",
       "    </tr>\n",
       "  </thead>\n",
       "  <tbody>\n",
       "    <tr>\n",
       "      <th>886</th>\n",
       "      <td>887</td>\n",
       "      <td>0</td>\n",
       "      <td>2</td>\n",
       "      <td>Montvila, Rev. Juozas</td>\n",
       "      <td>male</td>\n",
       "      <td>27.0</td>\n",
       "      <td>0</td>\n",
       "      <td>0</td>\n",
       "      <td>211536</td>\n",
       "      <td>13.00</td>\n",
       "      <td>NaN</td>\n",
       "      <td>S</td>\n",
       "    </tr>\n",
       "    <tr>\n",
       "      <th>887</th>\n",
       "      <td>888</td>\n",
       "      <td>1</td>\n",
       "      <td>1</td>\n",
       "      <td>Graham, Miss. Margaret Edith</td>\n",
       "      <td>female</td>\n",
       "      <td>19.0</td>\n",
       "      <td>0</td>\n",
       "      <td>0</td>\n",
       "      <td>112053</td>\n",
       "      <td>30.00</td>\n",
       "      <td>B42</td>\n",
       "      <td>S</td>\n",
       "    </tr>\n",
       "    <tr>\n",
       "      <th>888</th>\n",
       "      <td>889</td>\n",
       "      <td>0</td>\n",
       "      <td>3</td>\n",
       "      <td>Johnston, Miss. Catherine Helen \"Carrie\"</td>\n",
       "      <td>female</td>\n",
       "      <td>NaN</td>\n",
       "      <td>1</td>\n",
       "      <td>2</td>\n",
       "      <td>W./C. 6607</td>\n",
       "      <td>23.45</td>\n",
       "      <td>NaN</td>\n",
       "      <td>S</td>\n",
       "    </tr>\n",
       "    <tr>\n",
       "      <th>889</th>\n",
       "      <td>890</td>\n",
       "      <td>1</td>\n",
       "      <td>1</td>\n",
       "      <td>Behr, Mr. Karl Howell</td>\n",
       "      <td>male</td>\n",
       "      <td>26.0</td>\n",
       "      <td>0</td>\n",
       "      <td>0</td>\n",
       "      <td>111369</td>\n",
       "      <td>30.00</td>\n",
       "      <td>C148</td>\n",
       "      <td>C</td>\n",
       "    </tr>\n",
       "    <tr>\n",
       "      <th>890</th>\n",
       "      <td>891</td>\n",
       "      <td>0</td>\n",
       "      <td>3</td>\n",
       "      <td>Dooley, Mr. Patrick</td>\n",
       "      <td>male</td>\n",
       "      <td>32.0</td>\n",
       "      <td>0</td>\n",
       "      <td>0</td>\n",
       "      <td>370376</td>\n",
       "      <td>7.75</td>\n",
       "      <td>NaN</td>\n",
       "      <td>Q</td>\n",
       "    </tr>\n",
       "  </tbody>\n",
       "</table>\n",
       "</div>"
      ],
      "text/plain": [
       "     PassengerId  Survived  Pclass                                      Name  \\\n",
       "886          887         0       2                     Montvila, Rev. Juozas   \n",
       "887          888         1       1              Graham, Miss. Margaret Edith   \n",
       "888          889         0       3  Johnston, Miss. Catherine Helen \"Carrie\"   \n",
       "889          890         1       1                     Behr, Mr. Karl Howell   \n",
       "890          891         0       3                       Dooley, Mr. Patrick   \n",
       "\n",
       "        Sex   Age  SibSp  Parch      Ticket   Fare Cabin Embarked  \n",
       "886    male  27.0      0      0      211536  13.00   NaN        S  \n",
       "887  female  19.0      0      0      112053  30.00   B42        S  \n",
       "888  female   NaN      1      2  W./C. 6607  23.45   NaN        S  \n",
       "889    male  26.0      0      0      111369  30.00  C148        C  \n",
       "890    male  32.0      0      0      370376   7.75   NaN        Q  "
      ]
     },
     "execution_count": 60,
     "metadata": {},
     "output_type": "execute_result"
    }
   ],
   "source": [
    "titanic.tail()"
   ]
  },
  {
   "cell_type": "code",
   "execution_count": 61,
   "metadata": {},
   "outputs": [
    {
     "data": {
      "text/plain": [
       "male      577\n",
       "female    314\n",
       "Name: Sex, dtype: int64"
      ]
     },
     "execution_count": 61,
     "metadata": {},
     "output_type": "execute_result"
    }
   ],
   "source": [
    "titanic.Sex.value_counts()"
   ]
  },
  {
   "cell_type": "code",
   "execution_count": 62,
   "metadata": {},
   "outputs": [
    {
     "data": {
      "text/plain": [
       "0    549\n",
       "1    342\n",
       "Name: Survived, dtype: int64"
      ]
     },
     "execution_count": 62,
     "metadata": {},
     "output_type": "execute_result"
    }
   ],
   "source": [
    "titanic.Survived.value_counts()"
   ]
  },
  {
   "cell_type": "code",
   "execution_count": 63,
   "metadata": {},
   "outputs": [
    {
     "data": {
      "text/plain": [
       "3    491\n",
       "1    216\n",
       "2    184\n",
       "Name: Pclass, dtype: int64"
      ]
     },
     "execution_count": 63,
     "metadata": {},
     "output_type": "execute_result"
    }
   ],
   "source": [
    "titanic.Pclass.value_counts()"
   ]
  },
  {
   "cell_type": "markdown",
   "metadata": {},
   "source": [
    "## Ordenar un DataFrame"
   ]
  },
  {
   "cell_type": "code",
   "execution_count": 142,
   "metadata": {},
   "outputs": [],
   "source": [
    "# obtener datos de salarios de jugadores de baseball\n",
    "mlb = pd.read_csv('mlbsalaries.csv')"
   ]
  },
  {
   "cell_type": "code",
   "execution_count": 143,
   "metadata": {},
   "outputs": [
    {
     "data": {
      "text/html": [
       "<div>\n",
       "<style scoped>\n",
       "    .dataframe tbody tr th:only-of-type {\n",
       "        vertical-align: middle;\n",
       "    }\n",
       "\n",
       "    .dataframe tbody tr th {\n",
       "        vertical-align: top;\n",
       "    }\n",
       "\n",
       "    .dataframe thead th {\n",
       "        text-align: right;\n",
       "    }\n",
       "</style>\n",
       "<table border=\"1\" class=\"dataframe\">\n",
       "  <thead>\n",
       "    <tr style=\"text-align: right;\">\n",
       "      <th></th>\n",
       "      <th>Year</th>\n",
       "      <th>Player</th>\n",
       "      <th>Salary</th>\n",
       "      <th>Position</th>\n",
       "      <th>Team</th>\n",
       "    </tr>\n",
       "  </thead>\n",
       "  <tbody>\n",
       "    <tr>\n",
       "      <th>0</th>\n",
       "      <td>1988</td>\n",
       "      <td>Mike Witt</td>\n",
       "      <td>1400000</td>\n",
       "      <td>Pitcher</td>\n",
       "      <td>Los Angeles Angels</td>\n",
       "    </tr>\n",
       "    <tr>\n",
       "      <th>1</th>\n",
       "      <td>1988</td>\n",
       "      <td>George Hendrick</td>\n",
       "      <td>989333</td>\n",
       "      <td>Outfielder</td>\n",
       "      <td>Los Angeles Angels</td>\n",
       "    </tr>\n",
       "    <tr>\n",
       "      <th>2</th>\n",
       "      <td>1988</td>\n",
       "      <td>Chili Davis</td>\n",
       "      <td>950000</td>\n",
       "      <td>Outfielder</td>\n",
       "      <td>Los Angeles Angels</td>\n",
       "    </tr>\n",
       "    <tr>\n",
       "      <th>3</th>\n",
       "      <td>1988</td>\n",
       "      <td>Brian Downing</td>\n",
       "      <td>900000</td>\n",
       "      <td>Designated Hitter</td>\n",
       "      <td>Los Angeles Angels</td>\n",
       "    </tr>\n",
       "    <tr>\n",
       "      <th>4</th>\n",
       "      <td>1988</td>\n",
       "      <td>Bob Boone</td>\n",
       "      <td>883000</td>\n",
       "      <td>Catcher</td>\n",
       "      <td>Los Angeles Angels</td>\n",
       "    </tr>\n",
       "  </tbody>\n",
       "</table>\n",
       "</div>"
      ],
      "text/plain": [
       "   Year           Player   Salary           Position                Team\n",
       "0  1988        Mike Witt  1400000            Pitcher  Los Angeles Angels\n",
       "1  1988  George Hendrick   989333         Outfielder  Los Angeles Angels\n",
       "2  1988      Chili Davis   950000         Outfielder  Los Angeles Angels\n",
       "3  1988    Brian Downing   900000  Designated Hitter  Los Angeles Angels\n",
       "4  1988        Bob Boone   883000            Catcher  Los Angeles Angels"
      ]
     },
     "execution_count": 143,
     "metadata": {},
     "output_type": "execute_result"
    }
   ],
   "source": [
    "mlb.head()"
   ]
  },
  {
   "cell_type": "code",
   "execution_count": 144,
   "metadata": {},
   "outputs": [
    {
     "data": {
      "text/html": [
       "<div>\n",
       "<style scoped>\n",
       "    .dataframe tbody tr th:only-of-type {\n",
       "        vertical-align: middle;\n",
       "    }\n",
       "\n",
       "    .dataframe tbody tr th {\n",
       "        vertical-align: top;\n",
       "    }\n",
       "\n",
       "    .dataframe thead th {\n",
       "        text-align: right;\n",
       "    }\n",
       "</style>\n",
       "<table border=\"1\" class=\"dataframe\">\n",
       "  <thead>\n",
       "    <tr style=\"text-align: right;\">\n",
       "      <th></th>\n",
       "      <th>Year</th>\n",
       "      <th>Player</th>\n",
       "      <th>Salary</th>\n",
       "      <th>Position</th>\n",
       "      <th>Team</th>\n",
       "    </tr>\n",
       "  </thead>\n",
       "  <tbody>\n",
       "    <tr>\n",
       "      <th>19538</th>\n",
       "      <td>2011</td>\n",
       "      <td>Gustavo Molina</td>\n",
       "      <td>455000</td>\n",
       "      <td>Catcher</td>\n",
       "      <td>New York Yankees</td>\n",
       "    </tr>\n",
       "    <tr>\n",
       "      <th>19539</th>\n",
       "      <td>2011</td>\n",
       "      <td>Ivan Nova</td>\n",
       "      <td>432900</td>\n",
       "      <td>Pitcher</td>\n",
       "      <td>New York Yankees</td>\n",
       "    </tr>\n",
       "    <tr>\n",
       "      <th>19540</th>\n",
       "      <td>2011</td>\n",
       "      <td>Colin Curtis</td>\n",
       "      <td>420400</td>\n",
       "      <td>Outfielder</td>\n",
       "      <td>New York Yankees</td>\n",
       "    </tr>\n",
       "    <tr>\n",
       "      <th>19541</th>\n",
       "      <td>2011</td>\n",
       "      <td>Eduardo Nunez</td>\n",
       "      <td>419300</td>\n",
       "      <td>Shortstop</td>\n",
       "      <td>New York Yankees</td>\n",
       "    </tr>\n",
       "    <tr>\n",
       "      <th>19542</th>\n",
       "      <td>2011</td>\n",
       "      <td>Reegie Corona</td>\n",
       "      <td>414000</td>\n",
       "      <td>Second Baseman</td>\n",
       "      <td>New York Yankees</td>\n",
       "    </tr>\n",
       "  </tbody>\n",
       "</table>\n",
       "</div>"
      ],
      "text/plain": [
       "       Year          Player  Salary        Position              Team\n",
       "19538  2011  Gustavo Molina  455000         Catcher  New York Yankees\n",
       "19539  2011       Ivan Nova  432900         Pitcher  New York Yankees\n",
       "19540  2011    Colin Curtis  420400      Outfielder  New York Yankees\n",
       "19541  2011   Eduardo Nunez  419300       Shortstop  New York Yankees\n",
       "19542  2011   Reegie Corona  414000  Second Baseman  New York Yankees"
      ]
     },
     "execution_count": 144,
     "metadata": {},
     "output_type": "execute_result"
    }
   ],
   "source": [
    "mlb.tail()"
   ]
  },
  {
   "cell_type": "code",
   "execution_count": 145,
   "metadata": {},
   "outputs": [
    {
     "data": {
      "text/plain": [
       "1990    972\n",
       "1999    919\n",
       "2008    858\n",
       "2001    857\n",
       "2002    849\n",
       "2007    848\n",
       "1998    846\n",
       "2011    843\n",
       "2000    843\n",
       "2004    833\n",
       "2005    831\n",
       "2010    828\n",
       "2003    826\n",
       "2006    823\n",
       "2009    818\n",
       "1995    805\n",
       "1993    786\n",
       "1997    773\n",
       "1996    768\n",
       "1992    753\n",
       "1994    748\n",
       "1991    720\n",
       "1989    710\n",
       "1988    686\n",
       "Name: Year, dtype: int64"
      ]
     },
     "execution_count": 145,
     "metadata": {},
     "output_type": "execute_result"
    }
   ],
   "source": [
    "mlb.Year.value_counts()"
   ]
  },
  {
   "cell_type": "code",
   "execution_count": 146,
   "metadata": {},
   "outputs": [
    {
     "data": {
      "text/plain": [
       "Texas Rangers            711\n",
       "Los Angeles Dodgers      698\n",
       "Philadelphia Phillies    695\n",
       "Los Angeles Angels       695\n",
       "St. Louis Cardinals      693\n",
       "Cleveland Indians        693\n",
       "Boston Red Sox           692\n",
       "Milwaukee Brewers        690\n",
       "Washington Nationals     687\n",
       "New York Yankees         685\n",
       "Seattle Mariners         684\n",
       "Baltimore Orioles        684\n",
       "Toronto Blue Jays        683\n",
       "Atlanta Braves           683\n",
       "Cincinnati Reds          681\n",
       "San Francisco Giants     678\n",
       "Detroit Tigers           676\n",
       "New York Mets            676\n",
       "Kansas City Royals       674\n",
       "Oakland Athletics        674\n",
       "San Diego Padres         673\n",
       "Pittsburgh Pirates       669\n",
       "Chicago Cubs             663\n",
       "Houston Astros           660\n",
       "Minnesota Twins          650\n",
       "Chicago White Sox        648\n",
       "Florida Marlins          533\n",
       "Colorado Rockies         528\n",
       "Tampa Bay Rays           398\n",
       "Arizona Diamondbacks     389\n",
       "Name: Team, dtype: int64"
      ]
     },
     "execution_count": 146,
     "metadata": {},
     "output_type": "execute_result"
    }
   ],
   "source": [
    "mlb.Team.value_counts()"
   ]
  },
  {
   "cell_type": "code",
   "execution_count": 147,
   "metadata": {},
   "outputs": [
    {
     "data": {
      "text/plain": [
       "Pitcher              9160\n",
       "Outfielder           3785\n",
       "Catcher              1664\n",
       "Shortstop            1331\n",
       "Second Baseman       1216\n",
       "Third Baseman        1139\n",
       "First Baseman        1118\n",
       "Designated Hitter     109\n",
       "Infielder              21\n",
       "Name: Position, dtype: int64"
      ]
     },
     "execution_count": 147,
     "metadata": {},
     "output_type": "execute_result"
    }
   ],
   "source": [
    "mlb.Position.value_counts()"
   ]
  },
  {
   "cell_type": "markdown",
   "metadata": {},
   "source": [
    "Crea un subconjunto de **mlb** para el año 2010"
   ]
  },
  {
   "cell_type": "code",
   "execution_count": 148,
   "metadata": {},
   "outputs": [
    {
     "data": {
      "text/plain": [
       "0        False\n",
       "1        False\n",
       "2        False\n",
       "3        False\n",
       "4        False\n",
       "         ...  \n",
       "19538    False\n",
       "19539    False\n",
       "19540    False\n",
       "19541    False\n",
       "19542    False\n",
       "Name: Year, Length: 19543, dtype: bool"
      ]
     },
     "execution_count": 148,
     "metadata": {},
     "output_type": "execute_result"
    }
   ],
   "source": [
    "# identifica los jugadores del 2010\n",
    "mlb.Year == 2010"
   ]
  },
  {
   "cell_type": "code",
   "execution_count": 149,
   "metadata": {},
   "outputs": [],
   "source": [
    "# usa el criterio para extraer solo los jugadores del 2010\n",
    "yr2010 = mlb[mlb.Year == 2010]"
   ]
  },
  {
   "cell_type": "code",
   "execution_count": 150,
   "metadata": {},
   "outputs": [
    {
     "data": {
      "text/html": [
       "<div>\n",
       "<style scoped>\n",
       "    .dataframe tbody tr th:only-of-type {\n",
       "        vertical-align: middle;\n",
       "    }\n",
       "\n",
       "    .dataframe tbody tr th {\n",
       "        vertical-align: top;\n",
       "    }\n",
       "\n",
       "    .dataframe thead th {\n",
       "        text-align: right;\n",
       "    }\n",
       "</style>\n",
       "<table border=\"1\" class=\"dataframe\">\n",
       "  <thead>\n",
       "    <tr style=\"text-align: right;\">\n",
       "      <th></th>\n",
       "      <th>Year</th>\n",
       "      <th>Player</th>\n",
       "      <th>Salary</th>\n",
       "      <th>Position</th>\n",
       "      <th>Team</th>\n",
       "    </tr>\n",
       "  </thead>\n",
       "  <tbody>\n",
       "    <tr>\n",
       "      <th>17872</th>\n",
       "      <td>2010</td>\n",
       "      <td>Torii Hunter</td>\n",
       "      <td>18500000</td>\n",
       "      <td>Outfielder</td>\n",
       "      <td>Los Angeles Angels</td>\n",
       "    </tr>\n",
       "    <tr>\n",
       "      <th>17873</th>\n",
       "      <td>2010</td>\n",
       "      <td>Bobby Abreu</td>\n",
       "      <td>9000000</td>\n",
       "      <td>Outfielder</td>\n",
       "      <td>Los Angeles Angels</td>\n",
       "    </tr>\n",
       "    <tr>\n",
       "      <th>17874</th>\n",
       "      <td>2010</td>\n",
       "      <td>Brian Fuentes</td>\n",
       "      <td>9000000</td>\n",
       "      <td>Pitcher</td>\n",
       "      <td>Los Angeles Angels</td>\n",
       "    </tr>\n",
       "    <tr>\n",
       "      <th>17875</th>\n",
       "      <td>2010</td>\n",
       "      <td>Scott Kazmir</td>\n",
       "      <td>8000000</td>\n",
       "      <td>Pitcher</td>\n",
       "      <td>Los Angeles Angels</td>\n",
       "    </tr>\n",
       "    <tr>\n",
       "      <th>17876</th>\n",
       "      <td>2010</td>\n",
       "      <td>Joel Pineiro</td>\n",
       "      <td>8000000</td>\n",
       "      <td>Pitcher</td>\n",
       "      <td>Los Angeles Angels</td>\n",
       "    </tr>\n",
       "    <tr>\n",
       "      <th>...</th>\n",
       "      <td>...</td>\n",
       "      <td>...</td>\n",
       "      <td>...</td>\n",
       "      <td>...</td>\n",
       "      <td>...</td>\n",
       "    </tr>\n",
       "    <tr>\n",
       "      <th>18695</th>\n",
       "      <td>2010</td>\n",
       "      <td>Phil Hughes</td>\n",
       "      <td>447000</td>\n",
       "      <td>Pitcher</td>\n",
       "      <td>New York Yankees</td>\n",
       "    </tr>\n",
       "    <tr>\n",
       "      <th>18696</th>\n",
       "      <td>2010</td>\n",
       "      <td>Alfredo Aceves</td>\n",
       "      <td>435650</td>\n",
       "      <td>Pitcher</td>\n",
       "      <td>New York Yankees</td>\n",
       "    </tr>\n",
       "    <tr>\n",
       "      <th>18697</th>\n",
       "      <td>2010</td>\n",
       "      <td>David Robertson</td>\n",
       "      <td>426650</td>\n",
       "      <td>Pitcher</td>\n",
       "      <td>New York Yankees</td>\n",
       "    </tr>\n",
       "    <tr>\n",
       "      <th>18698</th>\n",
       "      <td>2010</td>\n",
       "      <td>Ramiro Pena</td>\n",
       "      <td>412100</td>\n",
       "      <td>Infielder</td>\n",
       "      <td>New York Yankees</td>\n",
       "    </tr>\n",
       "    <tr>\n",
       "      <th>18699</th>\n",
       "      <td>2010</td>\n",
       "      <td>Francisco Cervelli</td>\n",
       "      <td>410800</td>\n",
       "      <td>Catcher</td>\n",
       "      <td>New York Yankees</td>\n",
       "    </tr>\n",
       "  </tbody>\n",
       "</table>\n",
       "<p>828 rows × 5 columns</p>\n",
       "</div>"
      ],
      "text/plain": [
       "       Year              Player    Salary    Position                Team\n",
       "17872  2010        Torii Hunter  18500000  Outfielder  Los Angeles Angels\n",
       "17873  2010         Bobby Abreu   9000000  Outfielder  Los Angeles Angels\n",
       "17874  2010       Brian Fuentes   9000000     Pitcher  Los Angeles Angels\n",
       "17875  2010        Scott Kazmir   8000000     Pitcher  Los Angeles Angels\n",
       "17876  2010        Joel Pineiro   8000000     Pitcher  Los Angeles Angels\n",
       "...     ...                 ...       ...         ...                 ...\n",
       "18695  2010         Phil Hughes    447000     Pitcher    New York Yankees\n",
       "18696  2010      Alfredo Aceves    435650     Pitcher    New York Yankees\n",
       "18697  2010     David Robertson    426650     Pitcher    New York Yankees\n",
       "18698  2010         Ramiro Pena    412100   Infielder    New York Yankees\n",
       "18699  2010  Francisco Cervelli    410800     Catcher    New York Yankees\n",
       "\n",
       "[828 rows x 5 columns]"
      ]
     },
     "execution_count": 150,
     "metadata": {},
     "output_type": "execute_result"
    }
   ],
   "source": [
    "yr2010"
   ]
  },
  {
   "cell_type": "code",
   "execution_count": 151,
   "metadata": {},
   "outputs": [],
   "source": [
    "# crea un índice alfanumérico con base en \"player\"\n",
    "yr2010 = yr2010.set_index('Player')"
   ]
  },
  {
   "cell_type": "code",
   "execution_count": 152,
   "metadata": {},
   "outputs": [
    {
     "data": {
      "text/html": [
       "<div>\n",
       "<style scoped>\n",
       "    .dataframe tbody tr th:only-of-type {\n",
       "        vertical-align: middle;\n",
       "    }\n",
       "\n",
       "    .dataframe tbody tr th {\n",
       "        vertical-align: top;\n",
       "    }\n",
       "\n",
       "    .dataframe thead th {\n",
       "        text-align: right;\n",
       "    }\n",
       "</style>\n",
       "<table border=\"1\" class=\"dataframe\">\n",
       "  <thead>\n",
       "    <tr style=\"text-align: right;\">\n",
       "      <th></th>\n",
       "      <th>Year</th>\n",
       "      <th>Salary</th>\n",
       "      <th>Position</th>\n",
       "      <th>Team</th>\n",
       "    </tr>\n",
       "    <tr>\n",
       "      <th>Player</th>\n",
       "      <th></th>\n",
       "      <th></th>\n",
       "      <th></th>\n",
       "      <th></th>\n",
       "    </tr>\n",
       "  </thead>\n",
       "  <tbody>\n",
       "    <tr>\n",
       "      <th>Torii Hunter</th>\n",
       "      <td>2010</td>\n",
       "      <td>18500000</td>\n",
       "      <td>Outfielder</td>\n",
       "      <td>Los Angeles Angels</td>\n",
       "    </tr>\n",
       "    <tr>\n",
       "      <th>Bobby Abreu</th>\n",
       "      <td>2010</td>\n",
       "      <td>9000000</td>\n",
       "      <td>Outfielder</td>\n",
       "      <td>Los Angeles Angels</td>\n",
       "    </tr>\n",
       "    <tr>\n",
       "      <th>Brian Fuentes</th>\n",
       "      <td>2010</td>\n",
       "      <td>9000000</td>\n",
       "      <td>Pitcher</td>\n",
       "      <td>Los Angeles Angels</td>\n",
       "    </tr>\n",
       "    <tr>\n",
       "      <th>Scott Kazmir</th>\n",
       "      <td>2010</td>\n",
       "      <td>8000000</td>\n",
       "      <td>Pitcher</td>\n",
       "      <td>Los Angeles Angels</td>\n",
       "    </tr>\n",
       "    <tr>\n",
       "      <th>Joel Pineiro</th>\n",
       "      <td>2010</td>\n",
       "      <td>8000000</td>\n",
       "      <td>Pitcher</td>\n",
       "      <td>Los Angeles Angels</td>\n",
       "    </tr>\n",
       "  </tbody>\n",
       "</table>\n",
       "</div>"
      ],
      "text/plain": [
       "               Year    Salary    Position                Team\n",
       "Player                                                       \n",
       "Torii Hunter   2010  18500000  Outfielder  Los Angeles Angels\n",
       "Bobby Abreu    2010   9000000  Outfielder  Los Angeles Angels\n",
       "Brian Fuentes  2010   9000000     Pitcher  Los Angeles Angels\n",
       "Scott Kazmir   2010   8000000     Pitcher  Los Angeles Angels\n",
       "Joel Pineiro   2010   8000000     Pitcher  Los Angeles Angels"
      ]
     },
     "execution_count": 152,
     "metadata": {},
     "output_type": "execute_result"
    }
   ],
   "source": [
    "yr2010.head()"
   ]
  },
  {
   "cell_type": "markdown",
   "metadata": {},
   "source": [
    "## Operaciones de ordenamiento"
   ]
  },
  {
   "cell_type": "code",
   "execution_count": 153,
   "metadata": {},
   "outputs": [
    {
     "data": {
      "text/html": [
       "<div>\n",
       "<style scoped>\n",
       "    .dataframe tbody tr th:only-of-type {\n",
       "        vertical-align: middle;\n",
       "    }\n",
       "\n",
       "    .dataframe tbody tr th {\n",
       "        vertical-align: top;\n",
       "    }\n",
       "\n",
       "    .dataframe thead th {\n",
       "        text-align: right;\n",
       "    }\n",
       "</style>\n",
       "<table border=\"1\" class=\"dataframe\">\n",
       "  <thead>\n",
       "    <tr style=\"text-align: right;\">\n",
       "      <th></th>\n",
       "      <th>Year</th>\n",
       "      <th>Salary</th>\n",
       "      <th>Position</th>\n",
       "      <th>Team</th>\n",
       "    </tr>\n",
       "    <tr>\n",
       "      <th>Player</th>\n",
       "      <th></th>\n",
       "      <th></th>\n",
       "      <th></th>\n",
       "      <th></th>\n",
       "    </tr>\n",
       "  </thead>\n",
       "  <tbody>\n",
       "    <tr>\n",
       "      <th>A.J. Burnett</th>\n",
       "      <td>2010</td>\n",
       "      <td>16500000</td>\n",
       "      <td>Pitcher</td>\n",
       "      <td>New York Yankees</td>\n",
       "    </tr>\n",
       "    <tr>\n",
       "      <th>A.J. Pierzynski</th>\n",
       "      <td>2010</td>\n",
       "      <td>6750000</td>\n",
       "      <td>Catcher</td>\n",
       "      <td>Chicago White Sox</td>\n",
       "    </tr>\n",
       "    <tr>\n",
       "      <th>Aaron Cook</th>\n",
       "      <td>2010</td>\n",
       "      <td>9625000</td>\n",
       "      <td>Pitcher</td>\n",
       "      <td>Colorado Rockies</td>\n",
       "    </tr>\n",
       "    <tr>\n",
       "      <th>Aaron Harang</th>\n",
       "      <td>2010</td>\n",
       "      <td>12500000</td>\n",
       "      <td>Pitcher</td>\n",
       "      <td>Cincinnati Reds</td>\n",
       "    </tr>\n",
       "    <tr>\n",
       "      <th>Aaron Heilman</th>\n",
       "      <td>2010</td>\n",
       "      <td>2150000</td>\n",
       "      <td>Pitcher</td>\n",
       "      <td>Arizona Diamondbacks</td>\n",
       "    </tr>\n",
       "  </tbody>\n",
       "</table>\n",
       "</div>"
      ],
      "text/plain": [
       "                 Year    Salary Position                  Team\n",
       "Player                                                        \n",
       "A.J. Burnett     2010  16500000  Pitcher      New York Yankees\n",
       "A.J. Pierzynski  2010   6750000  Catcher     Chicago White Sox\n",
       "Aaron Cook       2010   9625000  Pitcher      Colorado Rockies\n",
       "Aaron Harang     2010  12500000  Pitcher       Cincinnati Reds\n",
       "Aaron Heilman    2010   2150000  Pitcher  Arizona Diamondbacks"
      ]
     },
     "execution_count": 153,
     "metadata": {},
     "output_type": "execute_result"
    }
   ],
   "source": [
    "# ordenar por etiquetas de renglón\n",
    "yr2010.sort_index().head()"
   ]
  },
  {
   "cell_type": "code",
   "execution_count": 154,
   "metadata": {},
   "outputs": [
    {
     "data": {
      "text/html": [
       "<div>\n",
       "<style scoped>\n",
       "    .dataframe tbody tr th:only-of-type {\n",
       "        vertical-align: middle;\n",
       "    }\n",
       "\n",
       "    .dataframe tbody tr th {\n",
       "        vertical-align: top;\n",
       "    }\n",
       "\n",
       "    .dataframe thead th {\n",
       "        text-align: right;\n",
       "    }\n",
       "</style>\n",
       "<table border=\"1\" class=\"dataframe\">\n",
       "  <thead>\n",
       "    <tr style=\"text-align: right;\">\n",
       "      <th></th>\n",
       "      <th>Position</th>\n",
       "      <th>Salary</th>\n",
       "      <th>Team</th>\n",
       "      <th>Year</th>\n",
       "    </tr>\n",
       "    <tr>\n",
       "      <th>Player</th>\n",
       "      <th></th>\n",
       "      <th></th>\n",
       "      <th></th>\n",
       "      <th></th>\n",
       "    </tr>\n",
       "  </thead>\n",
       "  <tbody>\n",
       "    <tr>\n",
       "      <th>Torii Hunter</th>\n",
       "      <td>Outfielder</td>\n",
       "      <td>18500000</td>\n",
       "      <td>Los Angeles Angels</td>\n",
       "      <td>2010</td>\n",
       "    </tr>\n",
       "    <tr>\n",
       "      <th>Bobby Abreu</th>\n",
       "      <td>Outfielder</td>\n",
       "      <td>9000000</td>\n",
       "      <td>Los Angeles Angels</td>\n",
       "      <td>2010</td>\n",
       "    </tr>\n",
       "    <tr>\n",
       "      <th>Brian Fuentes</th>\n",
       "      <td>Pitcher</td>\n",
       "      <td>9000000</td>\n",
       "      <td>Los Angeles Angels</td>\n",
       "      <td>2010</td>\n",
       "    </tr>\n",
       "    <tr>\n",
       "      <th>Scott Kazmir</th>\n",
       "      <td>Pitcher</td>\n",
       "      <td>8000000</td>\n",
       "      <td>Los Angeles Angels</td>\n",
       "      <td>2010</td>\n",
       "    </tr>\n",
       "    <tr>\n",
       "      <th>Joel Pineiro</th>\n",
       "      <td>Pitcher</td>\n",
       "      <td>8000000</td>\n",
       "      <td>Los Angeles Angels</td>\n",
       "      <td>2010</td>\n",
       "    </tr>\n",
       "  </tbody>\n",
       "</table>\n",
       "</div>"
      ],
      "text/plain": [
       "                 Position    Salary                Team  Year\n",
       "Player                                                       \n",
       "Torii Hunter   Outfielder  18500000  Los Angeles Angels  2010\n",
       "Bobby Abreu    Outfielder   9000000  Los Angeles Angels  2010\n",
       "Brian Fuentes     Pitcher   9000000  Los Angeles Angels  2010\n",
       "Scott Kazmir      Pitcher   8000000  Los Angeles Angels  2010\n",
       "Joel Pineiro      Pitcher   8000000  Los Angeles Angels  2010"
      ]
     },
     "execution_count": 154,
     "metadata": {},
     "output_type": "execute_result"
    }
   ],
   "source": [
    "# ordenar por etiqueta de columnas\n",
    "yr2010.sort_index(axis = 1).head()"
   ]
  },
  {
   "cell_type": "code",
   "execution_count": 155,
   "metadata": {},
   "outputs": [
    {
     "data": {
      "text/plain": [
       "Player\n",
       "Alex Rodriguez    33000000\n",
       "CC Sabathia       24285714\n",
       "Derek Jeter       22600000\n",
       "Mark Teixeira     20625000\n",
       "Johan Santana     20144707\n",
       "Name: Salary, dtype: int64"
      ]
     },
     "execution_count": 155,
     "metadata": {},
     "output_type": "execute_result"
    }
   ],
   "source": [
    "# ordenar por valores de columna usando \"order field\"\n",
    "yr2010.Salary.sort_values(ascending=False).head()"
   ]
  },
  {
   "cell_type": "code",
   "execution_count": 156,
   "metadata": {},
   "outputs": [
    {
     "data": {
      "text/html": [
       "<div>\n",
       "<style scoped>\n",
       "    .dataframe tbody tr th:only-of-type {\n",
       "        vertical-align: middle;\n",
       "    }\n",
       "\n",
       "    .dataframe tbody tr th {\n",
       "        vertical-align: top;\n",
       "    }\n",
       "\n",
       "    .dataframe thead th {\n",
       "        text-align: right;\n",
       "    }\n",
       "</style>\n",
       "<table border=\"1\" class=\"dataframe\">\n",
       "  <thead>\n",
       "    <tr style=\"text-align: right;\">\n",
       "      <th></th>\n",
       "      <th>Year</th>\n",
       "      <th>Salary</th>\n",
       "      <th>Position</th>\n",
       "      <th>Team</th>\n",
       "    </tr>\n",
       "    <tr>\n",
       "      <th>Player</th>\n",
       "      <th></th>\n",
       "      <th></th>\n",
       "      <th></th>\n",
       "      <th></th>\n",
       "    </tr>\n",
       "  </thead>\n",
       "  <tbody>\n",
       "    <tr>\n",
       "      <th>Alex Rodriguez</th>\n",
       "      <td>2010</td>\n",
       "      <td>33000000</td>\n",
       "      <td>Third Baseman</td>\n",
       "      <td>New York Yankees</td>\n",
       "    </tr>\n",
       "    <tr>\n",
       "      <th>CC Sabathia</th>\n",
       "      <td>2010</td>\n",
       "      <td>24285714</td>\n",
       "      <td>Pitcher</td>\n",
       "      <td>New York Yankees</td>\n",
       "    </tr>\n",
       "    <tr>\n",
       "      <th>Derek Jeter</th>\n",
       "      <td>2010</td>\n",
       "      <td>22600000</td>\n",
       "      <td>Shortstop</td>\n",
       "      <td>New York Yankees</td>\n",
       "    </tr>\n",
       "    <tr>\n",
       "      <th>Mark Teixeira</th>\n",
       "      <td>2010</td>\n",
       "      <td>20625000</td>\n",
       "      <td>First Baseman</td>\n",
       "      <td>New York Yankees</td>\n",
       "    </tr>\n",
       "    <tr>\n",
       "      <th>Johan Santana</th>\n",
       "      <td>2010</td>\n",
       "      <td>20144707</td>\n",
       "      <td>Pitcher</td>\n",
       "      <td>New York Mets</td>\n",
       "    </tr>\n",
       "  </tbody>\n",
       "</table>\n",
       "</div>"
      ],
      "text/plain": [
       "                Year    Salary       Position              Team\n",
       "Player                                                         \n",
       "Alex Rodriguez  2010  33000000  Third Baseman  New York Yankees\n",
       "CC Sabathia     2010  24285714        Pitcher  New York Yankees\n",
       "Derek Jeter     2010  22600000      Shortstop  New York Yankees\n",
       "Mark Teixeira   2010  20625000  First Baseman  New York Yankees\n",
       "Johan Santana   2010  20144707        Pitcher     New York Mets"
      ]
     },
     "execution_count": 156,
     "metadata": {},
     "output_type": "execute_result"
    }
   ],
   "source": [
    "# Ordenar los valores de columnas usando el método\n",
    "# sort_values()\n",
    "\n",
    "yr2010.sort_values('Salary', ascending=False).head()"
   ]
  },
  {
   "cell_type": "code",
   "execution_count": 157,
   "metadata": {},
   "outputs": [
    {
     "data": {
      "text/html": [
       "<div>\n",
       "<style scoped>\n",
       "    .dataframe tbody tr th:only-of-type {\n",
       "        vertical-align: middle;\n",
       "    }\n",
       "\n",
       "    .dataframe tbody tr th {\n",
       "        vertical-align: top;\n",
       "    }\n",
       "\n",
       "    .dataframe thead th {\n",
       "        text-align: right;\n",
       "    }\n",
       "</style>\n",
       "<table border=\"1\" class=\"dataframe\">\n",
       "  <thead>\n",
       "    <tr style=\"text-align: right;\">\n",
       "      <th></th>\n",
       "      <th>Year</th>\n",
       "      <th>Salary</th>\n",
       "      <th>Position</th>\n",
       "      <th>Team</th>\n",
       "    </tr>\n",
       "    <tr>\n",
       "      <th>Player</th>\n",
       "      <th></th>\n",
       "      <th></th>\n",
       "      <th></th>\n",
       "      <th></th>\n",
       "    </tr>\n",
       "  </thead>\n",
       "  <tbody>\n",
       "    <tr>\n",
       "      <th>Alex Rodriguez</th>\n",
       "      <td>2010</td>\n",
       "      <td>33000000</td>\n",
       "      <td>Third Baseman</td>\n",
       "      <td>New York Yankees</td>\n",
       "    </tr>\n",
       "    <tr>\n",
       "      <th>CC Sabathia</th>\n",
       "      <td>2010</td>\n",
       "      <td>24285714</td>\n",
       "      <td>Pitcher</td>\n",
       "      <td>New York Yankees</td>\n",
       "    </tr>\n",
       "    <tr>\n",
       "      <th>Derek Jeter</th>\n",
       "      <td>2010</td>\n",
       "      <td>22600000</td>\n",
       "      <td>Shortstop</td>\n",
       "      <td>New York Yankees</td>\n",
       "    </tr>\n",
       "    <tr>\n",
       "      <th>Mark Teixeira</th>\n",
       "      <td>2010</td>\n",
       "      <td>20625000</td>\n",
       "      <td>First Baseman</td>\n",
       "      <td>New York Yankees</td>\n",
       "    </tr>\n",
       "    <tr>\n",
       "      <th>Johan Santana</th>\n",
       "      <td>2010</td>\n",
       "      <td>20144707</td>\n",
       "      <td>Pitcher</td>\n",
       "      <td>New York Mets</td>\n",
       "    </tr>\n",
       "    <tr>\n",
       "      <th>Miguel Cabrera</th>\n",
       "      <td>2010</td>\n",
       "      <td>20000000</td>\n",
       "      <td>First Baseman</td>\n",
       "      <td>Detroit Tigers</td>\n",
       "    </tr>\n",
       "    <tr>\n",
       "      <th>Carlos Beltran</th>\n",
       "      <td>2010</td>\n",
       "      <td>19401569</td>\n",
       "      <td>Outfielder</td>\n",
       "      <td>New York Mets</td>\n",
       "    </tr>\n",
       "    <tr>\n",
       "      <th>Alfonso Soriano</th>\n",
       "      <td>2010</td>\n",
       "      <td>19000000</td>\n",
       "      <td>Outfielder</td>\n",
       "      <td>Chicago Cubs</td>\n",
       "    </tr>\n",
       "    <tr>\n",
       "      <th>Carlos Lee</th>\n",
       "      <td>2010</td>\n",
       "      <td>19000000</td>\n",
       "      <td>Outfielder</td>\n",
       "      <td>Houston Astros</td>\n",
       "    </tr>\n",
       "    <tr>\n",
       "      <th>Ryan Howard</th>\n",
       "      <td>2010</td>\n",
       "      <td>19000000</td>\n",
       "      <td>First Baseman</td>\n",
       "      <td>Philadelphia Phillies</td>\n",
       "    </tr>\n",
       "  </tbody>\n",
       "</table>\n",
       "</div>"
      ],
      "text/plain": [
       "                 Year    Salary       Position                   Team\n",
       "Player                                                               \n",
       "Alex Rodriguez   2010  33000000  Third Baseman       New York Yankees\n",
       "CC Sabathia      2010  24285714        Pitcher       New York Yankees\n",
       "Derek Jeter      2010  22600000      Shortstop       New York Yankees\n",
       "Mark Teixeira    2010  20625000  First Baseman       New York Yankees\n",
       "Johan Santana    2010  20144707        Pitcher          New York Mets\n",
       "Miguel Cabrera   2010  20000000  First Baseman         Detroit Tigers\n",
       "Carlos Beltran   2010  19401569     Outfielder          New York Mets\n",
       "Alfonso Soriano  2010  19000000     Outfielder           Chicago Cubs\n",
       "Carlos Lee       2010  19000000     Outfielder         Houston Astros\n",
       "Ryan Howard      2010  19000000  First Baseman  Philadelphia Phillies"
      ]
     },
     "execution_count": 157,
     "metadata": {},
     "output_type": "execute_result"
    }
   ],
   "source": [
    "# ordenar los valores de varias columnas\n",
    "yr2010.sort_values(['Salary', 'Team'], \n",
    "                   ascending=[False,True]).head(10)"
   ]
  },
  {
   "cell_type": "code",
   "execution_count": 158,
   "metadata": {},
   "outputs": [],
   "source": [
    "# top 10 de salarios \n",
    "top10 = yr2010.Salary.sort_values(ascending=False).head(10)"
   ]
  },
  {
   "cell_type": "code",
   "execution_count": 159,
   "metadata": {},
   "outputs": [
    {
     "data": {
      "text/plain": [
       "pandas.core.series.Series"
      ]
     },
     "execution_count": 159,
     "metadata": {},
     "output_type": "execute_result"
    }
   ],
   "source": [
    "type(top10)"
   ]
  },
  {
   "cell_type": "code",
   "execution_count": 160,
   "metadata": {},
   "outputs": [
    {
     "data": {
      "text/plain": [
       "Player\n",
       "Alex Rodriguez     33000000\n",
       "CC Sabathia        24285714\n",
       "Derek Jeter        22600000\n",
       "Mark Teixeira      20625000\n",
       "Johan Santana      20144707\n",
       "Miguel Cabrera     20000000\n",
       "Carlos Beltran     19401569\n",
       "Carlos Lee         19000000\n",
       "Ryan Howard        19000000\n",
       "Alfonso Soriano    19000000\n",
       "Name: Salary, dtype: int64"
      ]
     },
     "execution_count": 160,
     "metadata": {},
     "output_type": "execute_result"
    }
   ],
   "source": [
    "top10"
   ]
  },
  {
   "cell_type": "markdown",
   "metadata": {},
   "source": [
    "**Pylab** combines pyplot with numpy into a single namespace. This is convenient for interactive work, but for programming it is recommended that the namespaces be kept separate"
   ]
  },
  {
   "cell_type": "code",
   "execution_count": 161,
   "metadata": {},
   "outputs": [
    {
     "name": "stdout",
     "output_type": "stream",
     "text": [
      "Populating the interactive namespace from numpy and matplotlib\n"
     ]
    },
    {
     "data": {
      "image/png": "[encoded data removed]",
      "text/plain": [
       "<Figure size 432x288 with 1 Axes>"
      ]
     },
     "metadata": {
      "needs_background": "light"
     },
     "output_type": "display_data"
    }
   ],
   "source": [
    "# plot top 10 Salaries\n",
    "%pylab inline\n",
    "import matplotlib.pyplot as plt\n",
    "plt.figure()\n",
    "top10.plot(label='Salaries')\n",
    "plt.xticks(rotation='vertical')\n",
    "plt.legend()\n",
    "plt.show()"
   ]
  },
  {
   "cell_type": "markdown",
   "metadata": {},
   "source": [
    "## Grupby"
   ]
  },
  {
   "cell_type": "markdown",
   "metadata": {},
   "source": [
    "Una vez que se tiene un conjunto de datos se desea ordenar y agrupar los datos de acuerdo a cierta característica. La operación groupby() consiste de tres pasos: separar, analizar y combinar"
   ]
  },
  {
   "cell_type": "code",
   "execution_count": 162,
   "metadata": {},
   "outputs": [
    {
     "data": {
      "text/html": [
       "<div>\n",
       "<style scoped>\n",
       "    .dataframe tbody tr th:only-of-type {\n",
       "        vertical-align: middle;\n",
       "    }\n",
       "\n",
       "    .dataframe tbody tr th {\n",
       "        vertical-align: top;\n",
       "    }\n",
       "\n",
       "    .dataframe thead th {\n",
       "        text-align: right;\n",
       "    }\n",
       "</style>\n",
       "<table border=\"1\" class=\"dataframe\">\n",
       "  <thead>\n",
       "    <tr style=\"text-align: right;\">\n",
       "      <th></th>\n",
       "      <th>Year</th>\n",
       "      <th>Player</th>\n",
       "      <th>Salary</th>\n",
       "      <th>Position</th>\n",
       "      <th>Team</th>\n",
       "    </tr>\n",
       "  </thead>\n",
       "  <tbody>\n",
       "    <tr>\n",
       "      <th>0</th>\n",
       "      <td>1988</td>\n",
       "      <td>Mike Witt</td>\n",
       "      <td>1400000</td>\n",
       "      <td>Pitcher</td>\n",
       "      <td>Los Angeles Angels</td>\n",
       "    </tr>\n",
       "    <tr>\n",
       "      <th>1</th>\n",
       "      <td>1988</td>\n",
       "      <td>George Hendrick</td>\n",
       "      <td>989333</td>\n",
       "      <td>Outfielder</td>\n",
       "      <td>Los Angeles Angels</td>\n",
       "    </tr>\n",
       "    <tr>\n",
       "      <th>2</th>\n",
       "      <td>1988</td>\n",
       "      <td>Chili Davis</td>\n",
       "      <td>950000</td>\n",
       "      <td>Outfielder</td>\n",
       "      <td>Los Angeles Angels</td>\n",
       "    </tr>\n",
       "    <tr>\n",
       "      <th>3</th>\n",
       "      <td>1988</td>\n",
       "      <td>Brian Downing</td>\n",
       "      <td>900000</td>\n",
       "      <td>Designated Hitter</td>\n",
       "      <td>Los Angeles Angels</td>\n",
       "    </tr>\n",
       "    <tr>\n",
       "      <th>4</th>\n",
       "      <td>1988</td>\n",
       "      <td>Bob Boone</td>\n",
       "      <td>883000</td>\n",
       "      <td>Catcher</td>\n",
       "      <td>Los Angeles Angels</td>\n",
       "    </tr>\n",
       "  </tbody>\n",
       "</table>\n",
       "</div>"
      ],
      "text/plain": [
       "   Year           Player   Salary           Position                Team\n",
       "0  1988        Mike Witt  1400000            Pitcher  Los Angeles Angels\n",
       "1  1988  George Hendrick   989333         Outfielder  Los Angeles Angels\n",
       "2  1988      Chili Davis   950000         Outfielder  Los Angeles Angels\n",
       "3  1988    Brian Downing   900000  Designated Hitter  Los Angeles Angels\n",
       "4  1988        Bob Boone   883000            Catcher  Los Angeles Angels"
      ]
     },
     "execution_count": 162,
     "metadata": {},
     "output_type": "execute_result"
    }
   ],
   "source": [
    "mlb.head()"
   ]
  },
  {
   "cell_type": "code",
   "execution_count": 163,
   "metadata": {},
   "outputs": [
    {
     "data": {
      "text/plain": [
       "pandas.core.groupby.generic.DataFrameGroupBy"
      ]
     },
     "execution_count": 163,
     "metadata": {},
     "output_type": "execute_result"
    }
   ],
   "source": [
    "grouped = mlb.groupby('Year')\n",
    "type(grouped)"
   ]
  },
  {
   "cell_type": "markdown",
   "metadata": {},
   "source": [
    "El objeto agrupado resultado de aplicar `groupby()` es un objeto iterable"
   ]
  },
  {
   "cell_type": "code",
   "execution_count": 85,
   "metadata": {},
   "outputs": [
    {
     "name": "stdout",
     "output_type": "stream",
     "text": [
      "1988\n",
      "     Year           Player   Salary           Position                Team\n",
      "0    1988        Mike Witt  1400000            Pitcher  Los Angeles Angels\n",
      "1    1988  George Hendrick   989333         Outfielder  Los Angeles Angels\n",
      "2    1988      Chili Davis   950000         Outfielder  Los Angeles Angels\n",
      "3    1988    Brian Downing   900000  Designated Hitter  Los Angeles Angels\n",
      "4    1988        Bob Boone   883000            Catcher  Los Angeles Angels\n",
      "..    ...              ...      ...                ...                 ...\n",
      "681  1988    Dale Mohorcic   157500            Pitcher    New York Yankees\n",
      "682  1988    Steve Shields   110000            Pitcher    New York Yankees\n",
      "683  1988     Joel Skinner   110000            Catcher    New York Yankees\n",
      "684  1988    Roberto Kelly    67000         Outfielder    New York Yankees\n",
      "685  1988        Al Leiter    67000            Pitcher    New York Yankees\n",
      "\n",
      "[686 rows x 5 columns]\n",
      "1989\n",
      "      Year           Player   Salary    Position                Team\n",
      "686   1989        Mike Witt  1400000     Pitcher  Los Angeles Angels\n",
      "687   1989      Chili Davis  1275000  Outfielder  Los Angeles Angels\n",
      "688   1989    Brian Downing  1250000  Outfielder  Los Angeles Angels\n",
      "689   1989    Bert Blyleven  1225000     Pitcher  Los Angeles Angels\n",
      "690   1989    Lance Parrish  1000000     Catcher  Los Angeles Angels\n",
      "...    ...              ...      ...         ...                 ...\n",
      "1391  1989    Roberto Kelly    80000  Outfielder    New York Yankees\n",
      "1392  1989        Al Leiter    80000     Pitcher    New York Yankees\n",
      "1393  1989    Randy Velarde    72500   Shortstop    New York Yankees\n",
      "1394  1989  Alvaro Espinoza    68000   Shortstop    New York Yankees\n",
      "1395  1989  Bernie Williams    68000  Outfielder    New York Yankees\n",
      "\n",
      "[710 rows x 5 columns]\n",
      "1990\n",
      "      Year         Player   Salary       Position                Team\n",
      "1396  1990  Lance Parrish  1916667        Catcher  Los Angeles Angels\n",
      "1397  1990  Mark Langston  1800000        Pitcher  Los Angeles Angels\n",
      "1398  1990   Wally Joyner  1750000  First Baseman  Los Angeles Angels\n",
      "1399  1990    Chili Davis  1375000     Outfielder  Los Angeles Angels\n",
      "1400  1990      Mike Witt  1300000        Pitcher  Los Angeles Angels\n",
      "...    ...            ...      ...            ...                 ...\n",
      "2363  1990  Brian Dorsett   107000        Catcher    New York Yankees\n",
      "2364  1990    Dave Eiland   103500        Pitcher    New York Yankees\n",
      "2365  1990     Van Snider   102000     Outfielder    New York Yankees\n",
      "2366  1990     Alan Mills   100000        Pitcher    New York Yankees\n",
      "2367  1990   Willie Smith   100000        Pitcher    New York Yankees\n",
      "\n",
      "[972 rows x 5 columns]\n",
      "1991\n",
      "      Year           Player   Salary       Position                Team\n",
      "2368  1991    Mark Langston  3550000        Pitcher  Los Angeles Angels\n",
      "2369  1991    Dave Winfield  3300000     Outfielder  Los Angeles Angels\n",
      "2370  1991      Gary Gaetti  2700000  Third Baseman  Los Angeles Angels\n",
      "2371  1991     Chuck Finley  2500000        Pitcher  Los Angeles Angels\n",
      "2372  1991    Lance Parrish  2416667        Catcher  Los Angeles Angels\n",
      "...    ...              ...      ...            ...                 ...\n",
      "3083  1991     Mike Blowers   130000  Third Baseman    New York Yankees\n",
      "3084  1991  Hensley Meulens   120000     Outfielder    New York Yankees\n",
      "3085  1991      Dave Eiland   110000        Pitcher    New York Yankees\n",
      "3086  1991      John Habyan   105000        Pitcher    New York Yankees\n",
      "3087  1991    Torey Lovullo   100000  Third Baseman    New York Yankees\n",
      "\n",
      "[720 rows x 5 columns]\n",
      "1992\n",
      "      Year             Player   Salary        Position                Team\n",
      "3088  1992       Chuck Finley  4375000         Pitcher  Los Angeles Angels\n",
      "3089  1992      Mark Langston  3550000         Pitcher  Los Angeles Angels\n",
      "3090  1992       Bryan Harvey  3125000         Pitcher  Los Angeles Angels\n",
      "3091  1992        Gary Gaetti  2700000   Third Baseman  Los Angeles Angels\n",
      "3092  1992      Lance Parrish  2416667         Catcher  Los Angeles Angels\n",
      "...    ...                ...      ...             ...                 ...\n",
      "3836  1992  Scott Kamieniecki   120000         Pitcher    New York Yankees\n",
      "3837  1992       Jeff Johnson   115000         Pitcher    New York Yankees\n",
      "3838  1992         John Ramos   109000         Catcher    New York Yankees\n",
      "3839  1992       Willie Smith   109000         Pitcher    New York Yankees\n",
      "3840  1992   Andy Stankiewicz   109000  Second Baseman    New York Yankees\n",
      "\n",
      "[753 rows x 5 columns]\n",
      "1993\n",
      "      Year           Player   Salary       Position                Team\n",
      "3841  1993     Chuck Finley  5375000        Pitcher  Los Angeles Angels\n",
      "3842  1993     Kelly Gruber  4333334  Third Baseman  Los Angeles Angels\n",
      "3843  1993    Mark Langston  3550000        Pitcher  Los Angeles Angels\n",
      "3844  1993      Gary Gaetti  3000000  Third Baseman  Los Angeles Angels\n",
      "3845  1993     Luis Polonia  2475000     Outfielder  Los Angeles Angels\n",
      "...    ...              ...      ...            ...                 ...\n",
      "4622  1993     Jeff Johnson   125000        Pitcher    New York Yankees\n",
      "4623  1993    Sam Militello   118000        Pitcher    New York Yankees\n",
      "4624  1993      Bob Wickman   116000        Pitcher    New York Yankees\n",
      "4625  1993   Mike Humphreys   112000        Pitcher    New York Yankees\n",
      "4626  1993  Gerald Williams   109000     Outfielder    New York Yankees\n",
      "\n",
      "[786 rows x 5 columns]\n",
      "1994\n",
      "      Year              Player   Salary    Position                Team\n",
      "4627  1994        Chuck Finley  3875000     Pitcher  Los Angeles Angels\n",
      "4628  1994       Mark Langston  3550000     Pitcher  Los Angeles Angels\n",
      "4629  1994         Chili Davis  2400000  Outfielder  Los Angeles Angels\n",
      "4630  1994         Joe Magrane  1500000     Pitcher  Los Angeles Angels\n",
      "4631  1994          Spike Owen  1250000   Shortstop  Los Angeles Angels\n",
      "...    ...                 ...      ...         ...                 ...\n",
      "5370  1994   Scott Kamieniecki   235000     Pitcher    New York Yankees\n",
      "5371  1994     Bernie Williams   225000  Outfielder    New York Yankees\n",
      "5372  1994         Bob Wickman   180000     Pitcher    New York Yankees\n",
      "5373  1994     Gerald Williams   115000  Outfielder    New York Yankees\n",
      "5374  1994  Sterling Hitchcock   112000     Pitcher    New York Yankees\n",
      "\n",
      "[748 rows x 5 columns]\n",
      "1995\n",
      "      Year            Player   Salary           Position                Team\n",
      "5375  1995     Mark Langston  5000000            Pitcher  Los Angeles Angels\n",
      "5376  1995      Chuck Finley  4875000            Pitcher  Los Angeles Angels\n",
      "5377  1995     Tony Phillips  4366667         Outfielder  Los Angeles Angels\n",
      "5378  1995       Chili Davis  3800000  Designated Hitter  Los Angeles Angels\n",
      "5379  1995        Spike Owen  3500000          Shortstop  Los Angeles Angels\n",
      "...    ...               ...      ...                ...                 ...\n",
      "6175  1995       Joe Ausanio   110000            Pitcher    New York Yankees\n",
      "6176  1995  Brian Boehringer   109000            Pitcher    New York Yankees\n",
      "6177  1995        Russ Davis   109000      Third Baseman    New York Yankees\n",
      "6178  1995     Andy Pettitte   109000            Pitcher    New York Yankees\n",
      "6179  1995    Mariano Rivera   109000            Pitcher    New York Yankees\n",
      "\n",
      "[805 rows x 5 columns]\n",
      "1996\n",
      "      Year           Player   Salary           Position                Team\n",
      "6180  1996    Mark Langston  5000000            Pitcher  Los Angeles Angels\n",
      "6181  1996      Chili Davis  3800000  Designated Hitter  Los Angeles Angels\n",
      "6182  1996     Chuck Finley  3000000            Pitcher  Los Angeles Angels\n",
      "6183  1996       Tim Salmon  2500000         Outfielder  Los Angeles Angels\n",
      "6184  1996       Jim Abbott  2200000            Pitcher  Los Angeles Angels\n",
      "...    ...              ...      ...                ...                 ...\n",
      "6943  1996      Derek Jeter   120000          Shortstop    New York Yankees\n",
      "6944  1996  Robert Eenhoorn   119000          Shortstop    New York Yankees\n",
      "6945  1996      Mark Hutton   119000            Pitcher    New York Yankees\n",
      "6946  1996         Andy Fox   109000     Second Baseman    New York Yankees\n",
      "6947  1996        Matt Luke   109000         Outfielder    New York Yankees\n",
      "\n",
      "[768 rows x 5 columns]\n",
      "1997\n",
      "      Year            Player   Salary    Position                Team\n",
      "6948  1997      Chuck Finley  4000000     Pitcher  Los Angeles Angels\n",
      "6949  1997     Mark Langston  4000000     Pitcher  Los Angeles Angels\n",
      "6950  1997        Tim Salmon  3500000  Outfielder  Los Angeles Angels\n",
      "6951  1997    Gary DiSarcina  2600000   Shortstop  Los Angeles Angels\n",
      "6952  1997       Jim Edmonds  2100000  Outfielder  Los Angeles Angels\n",
      "...    ...               ...      ...         ...                 ...\n",
      "7716  1997    David Weathers   435000     Pitcher    New York Yankees\n",
      "7717  1997         Luis Sojo   400000   Shortstop    New York Yankees\n",
      "7718  1997  Brian Boehringer   161100     Pitcher    New York Yankees\n",
      "7719  1997      Ruben Rivera   158800  Outfielder    New York Yankees\n",
      "7720  1997      Jorge Posada   158500     Catcher    New York Yankees\n",
      "\n",
      "[773 rows x 5 columns]\n",
      "1998\n",
      "      Year             Player   Salary        Position                Team\n",
      "7721  1998       Chuck Finley  5000000         Pitcher  Los Angeles Angels\n",
      "7722  1998           Ken Hill  5000000         Pitcher  Los Angeles Angels\n",
      "7723  1998         Tim Salmon  5000000      Outfielder  Los Angeles Angels\n",
      "7724  1998       Allen Watson  2900000         Pitcher  Los Angeles Angels\n",
      "7725  1998        Jim Edmonds  2800000      Outfielder  Los Angeles Angels\n",
      "...    ...                ...      ...             ...                 ...\n",
      "8562  1998  Darryl Strawberry   750000      Outfielder    New York Yankees\n",
      "8563  1998       Willie Banks   290000         Pitcher    New York Yankees\n",
      "8564  1998     Ramiro Mendoza   275000         Pitcher    New York Yankees\n",
      "8565  1998       Jorge Posada   250000         Catcher    New York Yankees\n",
      "8566  1998         Homer Bush   178900  Second Baseman    New York Yankees\n",
      "\n",
      "[846 rows x 5 columns]\n",
      "1999\n",
      "      Year            Player   Salary       Position                Team\n",
      "8567  1999         Mo Vaughn  7166666  First Baseman  Los Angeles Angels\n",
      "8568  1999      Chuck Finley  5800000        Pitcher  Los Angeles Angels\n",
      "8569  1999          Ken Hill  5500000        Pitcher  Los Angeles Angels\n",
      "8570  1999        Tim Salmon  5500000     Outfielder  Los Angeles Angels\n",
      "8571  1999       Tim Belcher  4650000        Pitcher  Los Angeles Angels\n",
      "...    ...               ...      ...            ...                 ...\n",
      "9481  1999       Ricky Ledee   202850     Outfielder    New York Yankees\n",
      "9482  1999  Vidal Candelaria   200000        Catcher    New York Yankees\n",
      "9483  1999    Casey Degroote   200000      Shortstop    New York Yankees\n",
      "9484  1999   Mike Jerzembeck   200000        Pitcher    New York Yankees\n",
      "9485  1999      Allen Watson   200000        Pitcher    New York Yankees\n",
      "\n",
      "[919 rows x 5 columns]\n",
      "2000\n",
      "       Year              Player    Salary       Position                Team\n",
      "9486   2000           Mo Vaughn  11166667  First Baseman  Los Angeles Angels\n",
      "9487   2000          Tim Salmon   6000000     Outfielder  Los Angeles Angels\n",
      "9488   2000            Ken Hill   5600000        Pitcher  Los Angeles Angels\n",
      "9489   2000         Tim Belcher   4600000        Pitcher  Los Angeles Angels\n",
      "9490   2000    Kent Bottenfield   4000000        Pitcher  Los Angeles Angels\n",
      "...     ...                 ...       ...            ...                 ...\n",
      "10324  2000          Todd Erdos    203800        Pitcher    New York Yankees\n",
      "10325  2000           Ted Lilly    201000        Pitcher    New York Yankees\n",
      "10326  2000  Luis De Los Santos    200000        Pitcher    New York Yankees\n",
      "10327  2000    D'Angelo Jimenez    200000      Shortstop    New York Yankees\n",
      "10328  2000        Nick Johnson    200000  First Baseman    New York Yankees\n",
      "\n",
      "[843 rows x 5 columns]\n",
      "2001\n",
      "       Year            Player    Salary       Position                Team\n",
      "10329  2001         Mo Vaughn  13166668  First Baseman  Los Angeles Angels\n",
      "10330  2001        Tim Salmon   6500000     Outfielder  Los Angeles Angels\n",
      "10331  2001   Garret Anderson   4500000     Outfielder  Los Angeles Angels\n",
      "10332  2001      Darin Erstad   3450000     Outfielder  Los Angeles Angels\n",
      "10333  2001     Troy Percival   3400000        Pitcher  Los Angeles Angels\n",
      "...     ...               ...       ...            ...                 ...\n",
      "11181  2001   Michael Coleman    204000     Outfielder    New York Yankees\n",
      "11182  2001      Randy Choate    200000        Pitcher    New York Yankees\n",
      "11183  2001  D'Angelo Jimenez    200000      Shortstop    New York Yankees\n",
      "11184  2001  Christian Parker    200000        Pitcher    New York Yankees\n",
      "11185  2001      Scott Seabol    200000  Third Baseman    New York Yankees\n",
      "\n",
      "[857 rows x 5 columns]\n",
      "2002\n",
      "       Year            Player   Salary           Position                Team\n",
      "11186  2002        Tim Salmon  9650000         Outfielder  Los Angeles Angels\n",
      "11187  2002      Kevin Appier  9500000            Pitcher  Los Angeles Angels\n",
      "11188  2002        Aaron Sele  7166667            Pitcher  Los Angeles Angels\n",
      "11189  2002      Darin Erstad  6250000         Outfielder  Los Angeles Angels\n",
      "11190  2002     Troy Percival  5250000            Pitcher  Los Angeles Angels\n",
      "...     ...               ...      ...                ...                 ...\n",
      "12030  2002      Randy Choate   223350            Pitcher    New York Yankees\n",
      "12031  2002      Nick Johnson   220650  Designated Hitter    New York Yankees\n",
      "12032  2002  Christian Parker   218600            Pitcher    New York Yankees\n",
      "12033  2002     Randy Keisler   211400            Pitcher    New York Yankees\n",
      "12034  2002       Jay Tessmer   210000            Pitcher    New York Yankees\n",
      "\n",
      "[849 rows x 5 columns]\n",
      "2003\n",
      "       Year          Player    Salary       Position                Team\n",
      "12035  2003    Kevin Appier  11500000        Pitcher  Los Angeles Angels\n",
      "12036  2003      Tim Salmon   9900000     Outfielder  Los Angeles Angels\n",
      "12037  2003      Aaron Sele   8166667        Pitcher  Los Angeles Angels\n",
      "12038  2003   Troy Percival   7833333        Pitcher  Los Angeles Angels\n",
      "12039  2003    Darin Erstad   7250000     Outfielder  Los Angeles Angels\n",
      "...     ...             ...       ...            ...                 ...\n",
      "12856  2003  Enrique Wilson    700000      Shortstop    New York Yankees\n",
      "12857  2003      Jon Lieber    550000        Pitcher    New York Yankees\n",
      "12858  2003    Chris Latham    400000     Outfielder    New York Yankees\n",
      "12859  2003    Nick Johnson    364100  First Baseman    New York Yankees\n",
      "12860  2003  Jason Anderson    300000        Pitcher    New York Yankees\n",
      "\n",
      "[826 rows x 5 columns]\n",
      "2004\n",
      "       Year             Player    Salary           Position  \\\n",
      "12861  2004      Bartolo Colon  11000000            Pitcher   \n",
      "12862  2004  Vladimir Guerrero  11000000         Outfielder   \n",
      "12863  2004         Troy Glaus   9900000      Third Baseman   \n",
      "12864  2004         Tim Salmon   9900000  Designated Hitter   \n",
      "12865  2004         Aaron Sele   8666667            Pitcher   \n",
      "...     ...                ...       ...                ...   \n",
      "13689  2004     Enrique Wilson    700000          Shortstop   \n",
      "13690  2004  Orlando Hernandez    500000            Pitcher   \n",
      "13691  2004    Donovan Osborne    450000            Pitcher   \n",
      "13692  2004     Jorge De Paula    302550            Pitcher   \n",
      "13693  2004       Bubba Crosby    301400         Outfielder   \n",
      "\n",
      "                     Team  \n",
      "12861  Los Angeles Angels  \n",
      "12862  Los Angeles Angels  \n",
      "12863  Los Angeles Angels  \n",
      "12864  Los Angeles Angels  \n",
      "12865  Los Angeles Angels  \n",
      "...                   ...  \n",
      "13689    New York Yankees  \n",
      "13690    New York Yankees  \n",
      "13691    New York Yankees  \n",
      "13692    New York Yankees  \n",
      "13693    New York Yankees  \n",
      "\n",
      "[833 rows x 5 columns]\n",
      "2005\n",
      "       Year             Player    Salary        Position                Team\n",
      "13694  2005  Vladimir Guerrero  12500000      Outfielder  Los Angeles Angels\n",
      "13695  2005      Bartolo Colon  10000000         Pitcher  Los Angeles Angels\n",
      "13696  2005    Garret Anderson   9600000      Outfielder  Los Angeles Angels\n",
      "13697  2005       Darin Erstad   8250000   First Baseman  Los Angeles Angels\n",
      "13698  2005    Jarrod Washburn   6500000         Pitcher  Los Angeles Angels\n",
      "...     ...                ...       ...             ...                 ...\n",
      "14520  2005     Tanyon Sturtze    850000         Pitcher    New York Yankees\n",
      "14521  2005      John Flaherty    800000         Catcher    New York Yankees\n",
      "14522  2005        Rey Sanchez    600000  Second Baseman    New York Yankees\n",
      "14523  2005       Bubba Crosby    322950      Outfielder    New York Yankees\n",
      "14524  2005      Andy Phillips    317200  Second Baseman    New York Yankees\n",
      "\n",
      "[831 rows x 5 columns]\n",
      "2006\n",
      "       Year             Player    Salary       Position                Team\n",
      "14525  2006      Bartolo Colon  14000000        Pitcher  Los Angeles Angels\n",
      "14526  2006  Vladimir Guerrero  13500000     Outfielder  Los Angeles Angels\n",
      "14527  2006    Garret Anderson  10600000     Outfielder  Los Angeles Angels\n",
      "14528  2006       Darin Erstad   8750000  First Baseman  Los Angeles Angels\n",
      "14529  2006        Jeff Weaver   8325000        Pitcher  Los Angeles Angels\n",
      "...     ...                ...       ...            ...                 ...\n",
      "15343  2006       Bubba Crosby    354250     Outfielder    New York Yankees\n",
      "15344  2006    Chien-Ming Wang    353175        Pitcher    New York Yankees\n",
      "15345  2006      Scott Proctor    352675        Pitcher    New York Yankees\n",
      "15346  2006      Andy Phillips    333150  First Baseman    New York Yankees\n",
      "15347  2006         Wil Nieves    328600        Catcher    New York Yankees\n",
      "\n",
      "[823 rows x 5 columns]\n",
      "2007\n",
      "       Year             Player    Salary    Position                Team\n",
      "15348  2007      Bartolo Colon  16000000     Pitcher  Los Angeles Angels\n",
      "15349  2007  Vladimir Guerrero  14500000  Outfielder  Los Angeles Angels\n",
      "15350  2007    Garret Anderson  11600000  Outfielder  Los Angeles Angels\n",
      "15351  2007     Kelvim Escobar   9000000     Pitcher  Los Angeles Angels\n",
      "15352  2007    Orlando Cabrera   8500000   Shortstop  Los Angeles Angels\n",
      "...     ...                ...       ...         ...                 ...\n",
      "16191  2007     Darrell Rasner    384523     Pitcher    New York Yankees\n",
      "16192  2007        Enger Veras    382475     Pitcher    New York Yankees\n",
      "16193  2007         Wil Nieves    382150     Catcher    New York Yankees\n",
      "16194  2007          Sean Henn    382048     Pitcher    New York Yankees\n",
      "16195  2007   Humberto Sanchez    380000     Pitcher    New York Yankees\n",
      "\n",
      "[848 rows x 5 columns]\n",
      "2008\n",
      "       Year               Player    Salary    Position                Team\n",
      "16196  2008         Torii Hunter  16500000  Outfielder  Los Angeles Angels\n",
      "16197  2008    Vladimir Guerrero  15500000  Outfielder  Los Angeles Angels\n",
      "16198  2008      Garret Anderson  12600000  Outfielder  Los Angeles Angels\n",
      "16199  2008          Jon Garland  12000000     Pitcher  Los Angeles Angels\n",
      "16200  2008  Francisco Rodriguez  10000000     Pitcher  Los Angeles Angels\n",
      "...     ...                  ...       ...         ...                 ...\n",
      "17049  2008     Jeffrey Karstens    393300     Pitcher    New York Yankees\n",
      "17050  2008       Jon Albaladejo    393225     Pitcher    New York Yankees\n",
      "17051  2008       Ross Ohlendorf    391425     Pitcher    New York Yankees\n",
      "17052  2008     Joba Chamberlain    390000     Pitcher    New York Yankees\n",
      "17053  2008     Humberto Sanchez    390000     Pitcher    New York Yankees\n",
      "\n",
      "[858 rows x 5 columns]\n",
      "2009\n",
      "       Year             Player    Salary    Position                Team\n",
      "17054  2009       Torii Hunter  18000000  Outfielder  Los Angeles Angels\n",
      "17055  2009  Vladimir Guerrero  15000000  Outfielder  Los Angeles Angels\n",
      "17056  2009      Gary Matthews  10400000  Outfielder  Los Angeles Angels\n",
      "17057  2009     Kelvim Escobar  10000000     Pitcher  Los Angeles Angels\n",
      "17058  2009        John Lackey  10000000     Pitcher  Los Angeles Angels\n",
      "...     ...                ...       ...         ...                 ...\n",
      "17867  2009      Edwar Ramirez    422450     Pitcher    New York Yankees\n",
      "17868  2009      Brett Gardner    414000  Outfielder    New York Yankees\n",
      "17869  2009          Phil Coke    403300     Pitcher    New York Yankees\n",
      "17870  2009     Jon Albaladejo    403075     Pitcher    New York Yankees\n",
      "17871  2009        Ramiro Pena    400000   Infielder    New York Yankees\n",
      "\n",
      "[818 rows x 5 columns]\n",
      "2010\n",
      "       Year              Player    Salary    Position                Team\n",
      "17872  2010        Torii Hunter  18500000  Outfielder  Los Angeles Angels\n",
      "17873  2010         Bobby Abreu   9000000  Outfielder  Los Angeles Angels\n",
      "17874  2010       Brian Fuentes   9000000     Pitcher  Los Angeles Angels\n",
      "17875  2010        Scott Kazmir   8000000     Pitcher  Los Angeles Angels\n",
      "17876  2010        Joel Pineiro   8000000     Pitcher  Los Angeles Angels\n",
      "...     ...                 ...       ...         ...                 ...\n",
      "18695  2010         Phil Hughes    447000     Pitcher    New York Yankees\n",
      "18696  2010      Alfredo Aceves    435650     Pitcher    New York Yankees\n",
      "18697  2010     David Robertson    426650     Pitcher    New York Yankees\n",
      "18698  2010         Ramiro Pena    412100   Infielder    New York Yankees\n",
      "18699  2010  Francisco Cervelli    410800     Catcher    New York Yankees\n",
      "\n",
      "[828 rows x 5 columns]\n",
      "2011\n",
      "       Year          Player    Salary        Position                Team\n",
      "18700  2011    Vernon Wells  26187500      Outfielder  Los Angeles Angels\n",
      "18701  2011    Torii Hunter  18500000      Outfielder  Los Angeles Angels\n",
      "18702  2011       Dan Haren  12750000         Pitcher  Los Angeles Angels\n",
      "18703  2011    Scott Kazmir  12000000         Pitcher  Los Angeles Angels\n",
      "18704  2011     Bobby Abreu   9000000      Outfielder  Los Angeles Angels\n",
      "...     ...             ...       ...             ...                 ...\n",
      "19538  2011  Gustavo Molina    455000         Catcher    New York Yankees\n",
      "19539  2011       Ivan Nova    432900         Pitcher    New York Yankees\n",
      "19540  2011    Colin Curtis    420400      Outfielder    New York Yankees\n",
      "19541  2011   Eduardo Nunez    419300       Shortstop    New York Yankees\n",
      "19542  2011   Reegie Corona    414000  Second Baseman    New York Yankees\n",
      "\n",
      "[843 rows x 5 columns]\n"
     ]
    }
   ],
   "source": [
    "for k,group in grouped:\n",
    "    print (k)\n",
    "    print (group)"
   ]
  },
  {
   "cell_type": "code",
   "execution_count": 86,
   "metadata": {},
   "outputs": [
    {
     "data": {
      "text/plain": [
       "generator"
      ]
     },
     "execution_count": 86,
     "metadata": {},
     "output_type": "execute_result"
    }
   ],
   "source": [
    "# utiliza un generador que de forma similar \n",
    "# la comprehensión de listas, permite obtener el\n",
    "# pago mas alto por año\n",
    "t = (group.sort_values(by='Salary', ascending=False)[:1] for yr,group in grouped)\n",
    "type(t)"
   ]
  },
  {
   "cell_type": "code",
   "execution_count": 87,
   "metadata": {},
   "outputs": [],
   "source": [
    "# convierte el objeto generador en un DataFrame\n",
    "topsalaries = pd.DataFrame()\n",
    "for line in t:\n",
    "    topsalaries = topsalaries.append(line)"
   ]
  },
  {
   "cell_type": "code",
   "execution_count": 88,
   "metadata": {},
   "outputs": [
    {
     "data": {
      "text/html": [
       "<div>\n",
       "<style scoped>\n",
       "    .dataframe tbody tr th:only-of-type {\n",
       "        vertical-align: middle;\n",
       "    }\n",
       "\n",
       "    .dataframe tbody tr th {\n",
       "        vertical-align: top;\n",
       "    }\n",
       "\n",
       "    .dataframe thead th {\n",
       "        text-align: right;\n",
       "    }\n",
       "</style>\n",
       "<table border=\"1\" class=\"dataframe\">\n",
       "  <thead>\n",
       "    <tr style=\"text-align: right;\">\n",
       "      <th></th>\n",
       "      <th>Year</th>\n",
       "      <th>Player</th>\n",
       "      <th>Salary</th>\n",
       "      <th>Position</th>\n",
       "      <th>Team</th>\n",
       "    </tr>\n",
       "  </thead>\n",
       "  <tbody>\n",
       "    <tr>\n",
       "      <th>321</th>\n",
       "      <td>1988</td>\n",
       "      <td>Gary Carter</td>\n",
       "      <td>2360714</td>\n",
       "      <td>Catcher</td>\n",
       "      <td>New York Mets</td>\n",
       "    </tr>\n",
       "    <tr>\n",
       "      <th>908</th>\n",
       "      <td>1989</td>\n",
       "      <td>Orel Hershiser</td>\n",
       "      <td>2766666</td>\n",
       "      <td>Pitcher</td>\n",
       "      <td>Los Angeles Dodgers</td>\n",
       "    </tr>\n",
       "    <tr>\n",
       "      <th>1580</th>\n",
       "      <td>1990</td>\n",
       "      <td>Robin Yount</td>\n",
       "      <td>3200000</td>\n",
       "      <td>Outfielder</td>\n",
       "      <td>Milwaukee Brewers</td>\n",
       "    </tr>\n",
       "    <tr>\n",
       "      <th>2590</th>\n",
       "      <td>1991</td>\n",
       "      <td>Darryl Strawberry</td>\n",
       "      <td>3800000</td>\n",
       "      <td>Outfielder</td>\n",
       "      <td>Los Angeles Dodgers</td>\n",
       "    </tr>\n",
       "    <tr>\n",
       "      <th>3441</th>\n",
       "      <td>1992</td>\n",
       "      <td>Bobby Bonilla</td>\n",
       "      <td>6100000</td>\n",
       "      <td>Outfielder</td>\n",
       "      <td>New York Mets</td>\n",
       "    </tr>\n",
       "    <tr>\n",
       "      <th>4214</th>\n",
       "      <td>1993</td>\n",
       "      <td>Bobby Bonilla</td>\n",
       "      <td>6200000</td>\n",
       "      <td>Outfielder</td>\n",
       "      <td>New York Mets</td>\n",
       "    </tr>\n",
       "    <tr>\n",
       "      <th>4977</th>\n",
       "      <td>1994</td>\n",
       "      <td>Bobby Bonilla</td>\n",
       "      <td>6300000</td>\n",
       "      <td>Third Baseman</td>\n",
       "      <td>New York Mets</td>\n",
       "    </tr>\n",
       "    <tr>\n",
       "      <th>6068</th>\n",
       "      <td>1995</td>\n",
       "      <td>Cecil Fielder</td>\n",
       "      <td>9237500</td>\n",
       "      <td>First Baseman</td>\n",
       "      <td>Detroit Tigers</td>\n",
       "    </tr>\n",
       "    <tr>\n",
       "      <th>6840</th>\n",
       "      <td>1996</td>\n",
       "      <td>Cecil Fielder</td>\n",
       "      <td>9237500</td>\n",
       "      <td>First Baseman</td>\n",
       "      <td>Detroit Tigers</td>\n",
       "    </tr>\n",
       "    <tr>\n",
       "      <th>7666</th>\n",
       "      <td>1997</td>\n",
       "      <td>Albert Belle</td>\n",
       "      <td>10000000</td>\n",
       "      <td>Outfielder</td>\n",
       "      <td>Chicago White Sox</td>\n",
       "    </tr>\n",
       "    <tr>\n",
       "      <th>8090</th>\n",
       "      <td>1998</td>\n",
       "      <td>Gary Sheffield</td>\n",
       "      <td>10000000</td>\n",
       "      <td>Outfielder</td>\n",
       "      <td>Florida Marlins</td>\n",
       "    </tr>\n",
       "    <tr>\n",
       "      <th>9067</th>\n",
       "      <td>1999</td>\n",
       "      <td>Albert Belle</td>\n",
       "      <td>11949794</td>\n",
       "      <td>Outfielder</td>\n",
       "      <td>Baltimore Orioles</td>\n",
       "    </tr>\n",
       "    <tr>\n",
       "      <th>9743</th>\n",
       "      <td>2000</td>\n",
       "      <td>Kevin J. Brown</td>\n",
       "      <td>15714286</td>\n",
       "      <td>Pitcher</td>\n",
       "      <td>Los Angeles Dodgers</td>\n",
       "    </tr>\n",
       "    <tr>\n",
       "      <th>10903</th>\n",
       "      <td>2001</td>\n",
       "      <td>Alex Rodriguez</td>\n",
       "      <td>22000000</td>\n",
       "      <td>Shortstop</td>\n",
       "      <td>Texas Rangers</td>\n",
       "    </tr>\n",
       "    <tr>\n",
       "      <th>11752</th>\n",
       "      <td>2002</td>\n",
       "      <td>Alex Rodriguez</td>\n",
       "      <td>22000000</td>\n",
       "      <td>Shortstop</td>\n",
       "      <td>Texas Rangers</td>\n",
       "    </tr>\n",
       "    <tr>\n",
       "      <th>12589</th>\n",
       "      <td>2003</td>\n",
       "      <td>Alex Rodriguez</td>\n",
       "      <td>22000000</td>\n",
       "      <td>Shortstop</td>\n",
       "      <td>Texas Rangers</td>\n",
       "    </tr>\n",
       "    <tr>\n",
       "      <th>13497</th>\n",
       "      <td>2004</td>\n",
       "      <td>Manny Ramirez</td>\n",
       "      <td>22500000</td>\n",
       "      <td>Outfielder</td>\n",
       "      <td>Boston Red Sox</td>\n",
       "    </tr>\n",
       "    <tr>\n",
       "      <th>14499</th>\n",
       "      <td>2005</td>\n",
       "      <td>Alex Rodriguez</td>\n",
       "      <td>26000000</td>\n",
       "      <td>Third Baseman</td>\n",
       "      <td>New York Yankees</td>\n",
       "    </tr>\n",
       "    <tr>\n",
       "      <th>15320</th>\n",
       "      <td>2006</td>\n",
       "      <td>Alex Rodriguez</td>\n",
       "      <td>21680727</td>\n",
       "      <td>Third Baseman</td>\n",
       "      <td>New York Yankees</td>\n",
       "    </tr>\n",
       "    <tr>\n",
       "      <th>16167</th>\n",
       "      <td>2007</td>\n",
       "      <td>Jason Giambi</td>\n",
       "      <td>23428571</td>\n",
       "      <td>Designated Hitter</td>\n",
       "      <td>New York Yankees</td>\n",
       "    </tr>\n",
       "    <tr>\n",
       "      <th>17023</th>\n",
       "      <td>2008</td>\n",
       "      <td>Alex Rodriguez</td>\n",
       "      <td>28000000</td>\n",
       "      <td>Third Baseman</td>\n",
       "      <td>New York Yankees</td>\n",
       "    </tr>\n",
       "    <tr>\n",
       "      <th>17846</th>\n",
       "      <td>2009</td>\n",
       "      <td>Alex Rodriguez</td>\n",
       "      <td>33000000</td>\n",
       "      <td>Third Baseman</td>\n",
       "      <td>New York Yankees</td>\n",
       "    </tr>\n",
       "    <tr>\n",
       "      <th>18675</th>\n",
       "      <td>2010</td>\n",
       "      <td>Alex Rodriguez</td>\n",
       "      <td>33000000</td>\n",
       "      <td>Third Baseman</td>\n",
       "      <td>New York Yankees</td>\n",
       "    </tr>\n",
       "    <tr>\n",
       "      <th>19513</th>\n",
       "      <td>2011</td>\n",
       "      <td>Alex Rodriguez</td>\n",
       "      <td>32000000</td>\n",
       "      <td>Third Baseman</td>\n",
       "      <td>New York Yankees</td>\n",
       "    </tr>\n",
       "  </tbody>\n",
       "</table>\n",
       "</div>"
      ],
      "text/plain": [
       "       Year             Player    Salary           Position  \\\n",
       "321    1988        Gary Carter   2360714            Catcher   \n",
       "908    1989     Orel Hershiser   2766666            Pitcher   \n",
       "1580   1990        Robin Yount   3200000         Outfielder   \n",
       "2590   1991  Darryl Strawberry   3800000         Outfielder   \n",
       "3441   1992      Bobby Bonilla   6100000         Outfielder   \n",
       "4214   1993      Bobby Bonilla   6200000         Outfielder   \n",
       "4977   1994      Bobby Bonilla   6300000      Third Baseman   \n",
       "6068   1995      Cecil Fielder   9237500      First Baseman   \n",
       "6840   1996      Cecil Fielder   9237500      First Baseman   \n",
       "7666   1997       Albert Belle  10000000         Outfielder   \n",
       "8090   1998     Gary Sheffield  10000000         Outfielder   \n",
       "9067   1999       Albert Belle  11949794         Outfielder   \n",
       "9743   2000     Kevin J. Brown  15714286            Pitcher   \n",
       "10903  2001     Alex Rodriguez  22000000          Shortstop   \n",
       "11752  2002     Alex Rodriguez  22000000          Shortstop   \n",
       "12589  2003     Alex Rodriguez  22000000          Shortstop   \n",
       "13497  2004      Manny Ramirez  22500000         Outfielder   \n",
       "14499  2005     Alex Rodriguez  26000000      Third Baseman   \n",
       "15320  2006     Alex Rodriguez  21680727      Third Baseman   \n",
       "16167  2007       Jason Giambi  23428571  Designated Hitter   \n",
       "17023  2008     Alex Rodriguez  28000000      Third Baseman   \n",
       "17846  2009     Alex Rodriguez  33000000      Third Baseman   \n",
       "18675  2010     Alex Rodriguez  33000000      Third Baseman   \n",
       "19513  2011     Alex Rodriguez  32000000      Third Baseman   \n",
       "\n",
       "                      Team  \n",
       "321          New York Mets  \n",
       "908    Los Angeles Dodgers  \n",
       "1580     Milwaukee Brewers  \n",
       "2590   Los Angeles Dodgers  \n",
       "3441         New York Mets  \n",
       "4214         New York Mets  \n",
       "4977         New York Mets  \n",
       "6068        Detroit Tigers  \n",
       "6840        Detroit Tigers  \n",
       "7666     Chicago White Sox  \n",
       "8090       Florida Marlins  \n",
       "9067     Baltimore Orioles  \n",
       "9743   Los Angeles Dodgers  \n",
       "10903        Texas Rangers  \n",
       "11752        Texas Rangers  \n",
       "12589        Texas Rangers  \n",
       "13497       Boston Red Sox  \n",
       "14499     New York Yankees  \n",
       "15320     New York Yankees  \n",
       "16167     New York Yankees  \n",
       "17023     New York Yankees  \n",
       "17846     New York Yankees  \n",
       "18675     New York Yankees  \n",
       "19513     New York Yankees  "
      ]
     },
     "execution_count": 88,
     "metadata": {},
     "output_type": "execute_result"
    }
   ],
   "source": [
    "topsalaries"
   ]
  },
  {
   "cell_type": "code",
   "execution_count": 89,
   "metadata": {},
   "outputs": [
    {
     "data": {
      "text/html": [
       "<div>\n",
       "<style scoped>\n",
       "    .dataframe tbody tr th:only-of-type {\n",
       "        vertical-align: middle;\n",
       "    }\n",
       "\n",
       "    .dataframe tbody tr th {\n",
       "        vertical-align: top;\n",
       "    }\n",
       "\n",
       "    .dataframe thead th {\n",
       "        text-align: right;\n",
       "    }\n",
       "</style>\n",
       "<table border=\"1\" class=\"dataframe\">\n",
       "  <thead>\n",
       "    <tr style=\"text-align: right;\">\n",
       "      <th></th>\n",
       "      <th>Year</th>\n",
       "      <th>Salary</th>\n",
       "    </tr>\n",
       "  </thead>\n",
       "  <tbody>\n",
       "    <tr>\n",
       "      <th>321</th>\n",
       "      <td>1988</td>\n",
       "      <td>2360714</td>\n",
       "    </tr>\n",
       "    <tr>\n",
       "      <th>908</th>\n",
       "      <td>1989</td>\n",
       "      <td>2766666</td>\n",
       "    </tr>\n",
       "    <tr>\n",
       "      <th>1580</th>\n",
       "      <td>1990</td>\n",
       "      <td>3200000</td>\n",
       "    </tr>\n",
       "    <tr>\n",
       "      <th>2590</th>\n",
       "      <td>1991</td>\n",
       "      <td>3800000</td>\n",
       "    </tr>\n",
       "    <tr>\n",
       "      <th>3441</th>\n",
       "      <td>1992</td>\n",
       "      <td>6100000</td>\n",
       "    </tr>\n",
       "    <tr>\n",
       "      <th>4214</th>\n",
       "      <td>1993</td>\n",
       "      <td>6200000</td>\n",
       "    </tr>\n",
       "    <tr>\n",
       "      <th>4977</th>\n",
       "      <td>1994</td>\n",
       "      <td>6300000</td>\n",
       "    </tr>\n",
       "    <tr>\n",
       "      <th>6068</th>\n",
       "      <td>1995</td>\n",
       "      <td>9237500</td>\n",
       "    </tr>\n",
       "    <tr>\n",
       "      <th>6840</th>\n",
       "      <td>1996</td>\n",
       "      <td>9237500</td>\n",
       "    </tr>\n",
       "    <tr>\n",
       "      <th>7666</th>\n",
       "      <td>1997</td>\n",
       "      <td>10000000</td>\n",
       "    </tr>\n",
       "    <tr>\n",
       "      <th>8090</th>\n",
       "      <td>1998</td>\n",
       "      <td>10000000</td>\n",
       "    </tr>\n",
       "    <tr>\n",
       "      <th>9067</th>\n",
       "      <td>1999</td>\n",
       "      <td>11949794</td>\n",
       "    </tr>\n",
       "    <tr>\n",
       "      <th>9743</th>\n",
       "      <td>2000</td>\n",
       "      <td>15714286</td>\n",
       "    </tr>\n",
       "    <tr>\n",
       "      <th>10903</th>\n",
       "      <td>2001</td>\n",
       "      <td>22000000</td>\n",
       "    </tr>\n",
       "    <tr>\n",
       "      <th>11752</th>\n",
       "      <td>2002</td>\n",
       "      <td>22000000</td>\n",
       "    </tr>\n",
       "    <tr>\n",
       "      <th>12589</th>\n",
       "      <td>2003</td>\n",
       "      <td>22000000</td>\n",
       "    </tr>\n",
       "    <tr>\n",
       "      <th>13497</th>\n",
       "      <td>2004</td>\n",
       "      <td>22500000</td>\n",
       "    </tr>\n",
       "    <tr>\n",
       "      <th>14499</th>\n",
       "      <td>2005</td>\n",
       "      <td>26000000</td>\n",
       "    </tr>\n",
       "    <tr>\n",
       "      <th>15320</th>\n",
       "      <td>2006</td>\n",
       "      <td>21680727</td>\n",
       "    </tr>\n",
       "    <tr>\n",
       "      <th>16167</th>\n",
       "      <td>2007</td>\n",
       "      <td>23428571</td>\n",
       "    </tr>\n",
       "    <tr>\n",
       "      <th>17023</th>\n",
       "      <td>2008</td>\n",
       "      <td>28000000</td>\n",
       "    </tr>\n",
       "    <tr>\n",
       "      <th>17846</th>\n",
       "      <td>2009</td>\n",
       "      <td>33000000</td>\n",
       "    </tr>\n",
       "    <tr>\n",
       "      <th>18675</th>\n",
       "      <td>2010</td>\n",
       "      <td>33000000</td>\n",
       "    </tr>\n",
       "    <tr>\n",
       "      <th>19513</th>\n",
       "      <td>2011</td>\n",
       "      <td>32000000</td>\n",
       "    </tr>\n",
       "  </tbody>\n",
       "</table>\n",
       "</div>"
      ],
      "text/plain": [
       "       Year    Salary\n",
       "321    1988   2360714\n",
       "908    1989   2766666\n",
       "1580   1990   3200000\n",
       "2590   1991   3800000\n",
       "3441   1992   6100000\n",
       "4214   1993   6200000\n",
       "4977   1994   6300000\n",
       "6068   1995   9237500\n",
       "6840   1996   9237500\n",
       "7666   1997  10000000\n",
       "8090   1998  10000000\n",
       "9067   1999  11949794\n",
       "9743   2000  15714286\n",
       "10903  2001  22000000\n",
       "11752  2002  22000000\n",
       "12589  2003  22000000\n",
       "13497  2004  22500000\n",
       "14499  2005  26000000\n",
       "15320  2006  21680727\n",
       "16167  2007  23428571\n",
       "17023  2008  28000000\n",
       "17846  2009  33000000\n",
       "18675  2010  33000000\n",
       "19513  2011  32000000"
      ]
     },
     "execution_count": 89,
     "metadata": {},
     "output_type": "execute_result"
    }
   ],
   "source": [
    "ts = topsalaries[['Year', 'Salary']]\n",
    "ts"
   ]
  },
  {
   "cell_type": "code",
   "execution_count": 90,
   "metadata": {},
   "outputs": [
    {
     "data": {
      "text/html": [
       "<div>\n",
       "<style scoped>\n",
       "    .dataframe tbody tr th:only-of-type {\n",
       "        vertical-align: middle;\n",
       "    }\n",
       "\n",
       "    .dataframe tbody tr th {\n",
       "        vertical-align: top;\n",
       "    }\n",
       "\n",
       "    .dataframe thead th {\n",
       "        text-align: right;\n",
       "    }\n",
       "</style>\n",
       "<table border=\"1\" class=\"dataframe\">\n",
       "  <thead>\n",
       "    <tr style=\"text-align: right;\">\n",
       "      <th></th>\n",
       "      <th>Salary</th>\n",
       "    </tr>\n",
       "    <tr>\n",
       "      <th>Year</th>\n",
       "      <th></th>\n",
       "    </tr>\n",
       "  </thead>\n",
       "  <tbody>\n",
       "    <tr>\n",
       "      <th>1988</th>\n",
       "      <td>2360714</td>\n",
       "    </tr>\n",
       "    <tr>\n",
       "      <th>1989</th>\n",
       "      <td>2766666</td>\n",
       "    </tr>\n",
       "    <tr>\n",
       "      <th>1990</th>\n",
       "      <td>3200000</td>\n",
       "    </tr>\n",
       "    <tr>\n",
       "      <th>1991</th>\n",
       "      <td>3800000</td>\n",
       "    </tr>\n",
       "    <tr>\n",
       "      <th>1992</th>\n",
       "      <td>6100000</td>\n",
       "    </tr>\n",
       "  </tbody>\n",
       "</table>\n",
       "</div>"
      ],
      "text/plain": [
       "       Salary\n",
       "Year         \n",
       "1988  2360714\n",
       "1989  2766666\n",
       "1990  3200000\n",
       "1991  3800000\n",
       "1992  6100000"
      ]
     },
     "execution_count": 90,
     "metadata": {},
     "output_type": "execute_result"
    }
   ],
   "source": [
    "ts = ts.set_index('Year')\n",
    "ts.head()"
   ]
  },
  {
   "cell_type": "code",
   "execution_count": 91,
   "metadata": {},
   "outputs": [
    {
     "data": {
      "text/plain": [
       "<AxesSubplot:xlabel='Year'>"
      ]
     },
     "execution_count": 91,
     "metadata": {},
     "output_type": "execute_result"
    },
    {
     "data": {
      "image/png": "[encoded data removed]",
      "text/plain": [
       "<Figure size 432x288 with 1 Axes>"
      ]
     },
     "metadata": {
      "needs_background": "light"
     },
     "output_type": "display_data"
    }
   ],
   "source": [
    "ts.plot()"
   ]
  },
  {
   "cell_type": "code",
   "execution_count": 92,
   "metadata": {},
   "outputs": [
    {
     "data": {
      "text/plain": [
       "<AxesSubplot:xlabel='Year'>"
      ]
     },
     "execution_count": 92,
     "metadata": {},
     "output_type": "execute_result"
    },
    {
     "data": {
      "image/png": "[encoded data removed]",
      "text/plain": [
       "<Figure size 432x288 with 1 Axes>"
      ]
     },
     "metadata": {
      "needs_background": "light"
     },
     "output_type": "display_data"
    }
   ],
   "source": [
    "grouped['Salary'].median().plot()"
   ]
  },
  {
   "cell_type": "code",
   "execution_count": null,
   "metadata": {},
   "outputs": [],
   "source": []
  }
 ],
 "metadata": {
  "kernelspec": {
   "display_name": "Python 3",
   "language": "python",
   "name": "python3"
  },
  "language_info": {
   "codemirror_mode": {
    "name": "ipython",
    "version": 3
   },
   "file_extension": ".py",
   "mimetype": "text/x-python",
   "name": "python",
   "nbconvert_exporter": "python",
   "pygments_lexer": "ipython3",
   "version": "3.8.5"
  },
  "widgets": {
   "state": {},
   "version": "1.1.2"
  }
 },
 "nbformat": 4,
 "nbformat_minor": 1
}
