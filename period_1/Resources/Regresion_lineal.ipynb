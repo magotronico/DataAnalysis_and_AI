{
  "nbformat": 4,
  "nbformat_minor": 0,
  "metadata": {
    "colab": {
      "provenance": []
    },
    "kernelspec": {
      "name": "python3",
      "display_name": "Python 3"
    },
    "language_info": {
      "name": "python"
    }
  },
  "cells": [
    {
      "cell_type": "code",
      "execution_count": 1,
      "metadata": {
        "colab": {
          "base_uri": "https://localhost:8080/",
          "height": 565
        },
        "id": "4CxESkGwocoR",
        "outputId": "34a44380-4b75-427b-beff-1e95449c14dc"
      },
      "outputs": [
        {
          "output_type": "display_data",
          "data": {
            "text/plain": [
              "<Figure size 800x600 with 1 Axes>"
            ],
            "image/png": "[encoded data removed]"
          },
          "metadata": {}
        }
      ],
      "source": [
        "import numpy as np\n",
        "import matplotlib.pyplot as plt\n",
        "estatura = np.array([152, 157, 163, 168, 173, 178, 183, 188, 193])\n",
        "peso = np.array([48, 53, 63, 70, 53, 79, 65, 89, 68])\n",
        "\n",
        "# Graficar diagrama de dispersión\n",
        "plt.figure(figsize=(8, 6))\n",
        "plt.scatter(estatura, peso, color='blue')\n",
        "plt.title('Diagrama de Dispersión: Estatura vs Peso')\n",
        "plt.xlabel('Estatura (cm)')\n",
        "plt.ylabel('Peso (kg)')\n",
        "plt.grid(True)\n",
        "plt.show()"
      ]
    },
    {
      "cell_type": "code",
      "source": [
        "# Calcular la media de la estatura\n",
        "media_estatura = sum(estatura) / len(estatura)\n",
        "\n",
        "# Calcular la media del peso\n",
        "media_peso = sum(peso) / len(peso)\n",
        "\n",
        "print(f\"Media de la estatura: {media_estatura:.2f} centímetros\")\n",
        "print(f\"Media del peso: {media_peso:.2f} kilos\")"
      ],
      "metadata": {
        "colab": {
          "base_uri": "https://localhost:8080/"
        },
        "id": "6izQwMxd41Cp",
        "outputId": "d6cf0485-0ad8-488c-c360-fcff88b6c0f0"
      },
      "execution_count": null,
      "outputs": [
        {
          "output_type": "stream",
          "name": "stdout",
          "text": [
            "Media de la estatura: 172.78 centímetros\n",
            "Media del peso: 65.33 kilos\n"
          ]
        }
      ]
    },
    {
      "cell_type": "code",
      "source": [
        "#Cálculo de la media\n",
        "# Calcular la media de la estatura utilizando la función mean de NumPy\n",
        "media_estatura = np.mean(estatura)\n",
        "print(media_estatura)\n",
        "\n",
        "# Calcular la media del peso utilizando la función mean de NumPy\n",
        "media_peso = np.mean(peso)\n",
        "print(media_peso)"
      ],
      "metadata": {
        "colab": {
          "base_uri": "https://localhost:8080/"
        },
        "id": "6-lP3zuSpSJC",
        "outputId": "3b984596-d29b-4b7b-df24-9be773622b38"
      },
      "execution_count": null,
      "outputs": [
        {
          "output_type": "stream",
          "name": "stdout",
          "text": [
            "172.77777777777777\n",
            "65.33333333333333\n"
          ]
        }
      ]
    },
    {
      "cell_type": "code",
      "source": [
        "# Calcular las medias de x y y\n",
        "media_estatura = np.mean(estatura)\n",
        "media_peso = np.mean(peso)\n",
        "\n",
        "# Calcular las diferencias\n",
        "dx = estatura - media_estatura\n",
        "dy = peso - media_peso\n",
        "\n",
        "# Calcular el numerador de la pendiente b\n",
        "numerador = np.sum(dx * dy)\n",
        "\n",
        "# Calcular el denominador de la pendiente b\n",
        "denominador = np.sum(dx**2)\n",
        "\n",
        "# Calcular la pendiente b\n",
        "b = numerador / denominador\n",
        "\n",
        "# Calcular la intersección a\n",
        "a = media_peso - (b * media_estatura)\n",
        "\n",
        "# Imprimir los resultados\n",
        "print(f\"Pendiente (b): {b:.3f}\")\n",
        "print(f\"Intersección (a): {a:.3f}\")\n"
      ],
      "metadata": {
        "colab": {
          "base_uri": "https://localhost:8080/"
        },
        "id": "nBakpsJ81ahF",
        "outputId": "7a6651f0-6d64-4c3f-ba53-d6d73cba8681"
      },
      "execution_count": null,
      "outputs": [
        {
          "output_type": "stream",
          "name": "stdout",
          "text": [
            "Pendiente (b): 0.658\n",
            "Intersección (a): -48.419\n"
          ]
        }
      ]
    },
    {
      "cell_type": "code",
      "source": [
        "from sklearn.linear_model import LinearRegression\n",
        "\n",
        "# Combinar los datos en un solo array\n",
        "datos = np.column_stack((estatura, peso))\n",
        "\n",
        "# Extraer las columnas de estatura y peso\n",
        "estatura = datos[:, 0] #datos[:, 0]: Esto selecciona todas las filas (:) de la primera columna (índice 0)\n",
        "# de la matriz datos, que representa la estatura de los datos.\n",
        "peso = datos[:, 1] #datos[:, 1]: De manera similar, esto selecciona todas las filas de la segunda columna (índice 1) de la matriz datos, que representa el peso de los datos."
      ],
      "metadata": {
        "id": "HZLn8gqf2G5t"
      },
      "execution_count": null,
      "outputs": []
    },
    {
      "cell_type": "code",
      "source": [
        "datos"
      ],
      "metadata": {
        "colab": {
          "base_uri": "https://localhost:8080/"
        },
        "id": "Y--b6dih4IPF",
        "outputId": "a718ee0b-50b2-4a6d-d173-ff90f6398705"
      },
      "execution_count": null,
      "outputs": [
        {
          "output_type": "execute_result",
          "data": {
            "text/plain": [
              "array([[152,  48],\n",
              "       [157,  53],\n",
              "       [163,  63],\n",
              "       [168,  70],\n",
              "       [173,  53],\n",
              "       [178,  79],\n",
              "       [183,  65],\n",
              "       [188,  89],\n",
              "       [193,  68]])"
            ]
          },
          "metadata": {},
          "execution_count": 42
        }
      ]
    },
    {
      "cell_type": "code",
      "source": [
        "estatura"
      ],
      "metadata": {
        "colab": {
          "base_uri": "https://localhost:8080/"
        },
        "id": "fUneazC74K4E",
        "outputId": "648bdd9a-ad41-4873-f238-926cb445407d"
      },
      "execution_count": null,
      "outputs": [
        {
          "output_type": "execute_result",
          "data": {
            "text/plain": [
              "array([152, 157, 163, 168, 173, 178, 183, 188, 193])"
            ]
          },
          "metadata": {},
          "execution_count": 43
        }
      ]
    },
    {
      "cell_type": "code",
      "source": [
        "peso"
      ],
      "metadata": {
        "colab": {
          "base_uri": "https://localhost:8080/"
        },
        "id": "HI4Ey62B4d9M",
        "outputId": "429d743b-d664-4bbf-dcb8-3ac2836bf673"
      },
      "execution_count": null,
      "outputs": [
        {
          "output_type": "execute_result",
          "data": {
            "text/plain": [
              "array([48, 53, 63, 70, 53, 79, 65, 89, 68])"
            ]
          },
          "metadata": {},
          "execution_count": 44
        }
      ]
    },
    {
      "cell_type": "code",
      "source": [
        "# Crear el modelo de regresión lineal\n",
        "modelo = LinearRegression()\n",
        "\n",
        "# Ajustar el modelo a los datos\n",
        "modelo.fit(estatura.reshape(-1,1), peso)\n",
        "\n",
        "# Obtener la pendiente (coeficiente) y la intersección (intercept) del modelo\n",
        "pendiente = modelo.coef_[0]\n",
        "intercepto = modelo.intercept_\n",
        "\n",
        "# Imprimir los resultados\n",
        "print(\"Coeficientes de la regresión lineal:\")\n",
        "print(f\"Pendiente (b): {pendiente:.3f}\")\n",
        "print(f\"Intercepto (a): {intercepto:.3f}\")"
      ],
      "metadata": {
        "colab": {
          "base_uri": "https://localhost:8080/"
        },
        "id": "cWJz_0kI4FGX",
        "outputId": "aae17274-ff83-425d-a6e9-09205e133083"
      },
      "execution_count": null,
      "outputs": [
        {
          "output_type": "stream",
          "name": "stdout",
          "text": [
            "Coeficientes de la regresión lineal:\n",
            "Pendiente (b): 0.658\n",
            "Intercepto (a): -48.419\n"
          ]
        }
      ]
    },
    {
      "cell_type": "code",
      "source": [
        "# Graficar los puntos originales\n",
        "plt.scatter(estatura, peso, color='blue', label='Datos Originales')\n",
        "\n",
        "# Graficar la regresión lineal\n",
        "plt.plot(estatura, modelo.predict(estatura.reshape(-1, 1)), color='red', label='Regresión Lineal')\n",
        "\n",
        "# Marcar la coordenada de estatura media y peso medio\n",
        "plt.scatter(media_estatura, media_peso, color='green', label='Media', marker='x', s=100)\n",
        "\n",
        "# Etiquetas y leyenda\n",
        "plt.xlabel('Estatura (cm)')\n",
        "plt.ylabel('Peso (kg)')\n",
        "plt.title('Regresión Lineal: Estatura vs Peso')\n",
        "plt.legend()\n",
        "plt.grid(True)\n",
        "\n",
        "# Anotar las coordenadas de media\n",
        "plt.annotate(f'Media: ({media_estatura:.2f} cm, {media_peso:.2f} kg)', (media_estatura, media_peso), xytext=(media_estatura + 5, media_peso + 5), arrowprops=dict(facecolor='black', arrowstyle='->'))\n",
        "\n",
        "# Mostrar la gráfica\n",
        "plt.show()"
      ],
      "metadata": {
        "colab": {
          "base_uri": "https://localhost:8080/",
          "height": 472
        },
        "id": "YD7Gl1Db6WhK",
        "outputId": "38677198-2db4-43fb-e8a6-8b3be3553c7d"
      },
      "execution_count": null,
      "outputs": [
        {
          "output_type": "display_data",
          "data": {
            "text/plain": [
              "<Figure size 640x480 with 1 Axes>"
            ],
            "image/png": "[encoded data removed]"
          },
          "metadata": {}
        }
      ]
    },
    {
      "cell_type": "code",
      "source": [
        "# Calcular la media de estatura y peso\n",
        "media_estatura = np.mean(estatura)\n",
        "media_peso = np.mean(peso)\n",
        "\n",
        "# Calcular el numerador de la correlación\n",
        "numerador #<== este ya lo tenemos de cálculos anteriores numerador=np.sum(dx*dy)\n",
        "\n",
        "# Calcular el denominador de la correlación\n",
        "denominador = np.sqrt(np.sum(dx**2)) * np.sqrt(np.sum(dy**2))\n",
        "\n",
        "# Calcular el coeficiente de correlación r\n",
        "coef_correlacion = numerador / denominador\n",
        "\n",
        "print(f\"Coeficiente de correlación (r): {coef_correlacion:.3f}\")"
      ],
      "metadata": {
        "colab": {
          "base_uri": "https://localhost:8080/"
        },
        "id": "ez6ilwts7yNf",
        "outputId": "084f88cc-6542-4d9e-e361-ba968c7246db"
      },
      "execution_count": null,
      "outputs": [
        {
          "output_type": "stream",
          "name": "stdout",
          "text": [
            "Coeficiente de correlación (r): 0.701\n"
          ]
        }
      ]
    },
    {
      "cell_type": "code",
      "source": [
        "# Calcular el coeficiente de correlación\n",
        "coef_correlacion = np.corrcoef(estatura, peso)[0, 1]\n",
        "print(f\"Coeficiente de correlación (r): {coef_correlacion:.3f}\")"
      ],
      "metadata": {
        "colab": {
          "base_uri": "https://localhost:8080/"
        },
        "id": "0WMeeJwQMPDo",
        "outputId": "857b511d-8439-44ed-dd82-125c52ef4d07"
      },
      "execution_count": null,
      "outputs": [
        {
          "output_type": "stream",
          "name": "stdout",
          "text": [
            "Coeficiente de correlación (r): 0.701\n"
          ]
        }
      ]
    },
    {
      "cell_type": "code",
      "source": [
        "# Estatura proporcionada por el usuario\n",
        "estatura_usuario = float(input(\"Ingrese una estatura para estimar el peso: \"))\n",
        "\n",
        "# Estimar el peso utilizando el modelo\n",
        "peso_estimado = modelo.predict([[estatura_usuario]])\n",
        "\n",
        "print(f\"Estimación de peso para una estatura de {estatura_usuario} cm: {peso_estimado[0]:.2f} kg\")"
      ],
      "metadata": {
        "colab": {
          "base_uri": "https://localhost:8080/"
        },
        "id": "uVAEoH92NVnr",
        "outputId": "ffcf1fb4-48d2-4ca5-e504-019062a5e853"
      },
      "execution_count": null,
      "outputs": [
        {
          "output_type": "stream",
          "name": "stdout",
          "text": [
            "Ingrese una estatura para estimar el peso: 180\n",
            "Estimación de peso para una estatura de 180.0 cm: 70.09 kg\n"
          ]
        }
      ]
    },
    {
      "cell_type": "code",
      "source": [
        "def predecir_pesos(estaturas):\n",
        "    estaturas_array = np.array(estaturas).reshape(-1, 1)\n",
        "    pesos_estimados = modelo.predict(estaturas_array)\n",
        "    return pesos_estimados\n",
        "\n",
        "# Ingresar estaturas por el usuario\n",
        "estaturas_usuario = [int(x) for x in input(\"Ingrese las estaturas separadas por coma: \").split(',')]\n",
        "pesos_estimados = predecir_pesos(estaturas_usuario)\n",
        "\n",
        "# Imprimir resultados\n",
        "for i, estatura_m in enumerate(estaturas_usuario):\n",
        "    print(f\"Estimación de peso para una estatura de {estatura_m} cm: {pesos_estimados[i]:.2f} kg\")"
      ],
      "metadata": {
        "colab": {
          "base_uri": "https://localhost:8080/"
        },
        "id": "MV86hXFPP7M4",
        "outputId": "62718c7e-d353-4e8f-f0e4-2d0ceb3d6646"
      },
      "execution_count": null,
      "outputs": [
        {
          "output_type": "stream",
          "name": "stdout",
          "text": [
            "Ingrese las estaturas separadas por coma: 180, 176, 158\n",
            "Estimación de peso para una estatura de 180 cm: 70.09 kg\n",
            "Estimación de peso para una estatura de 176 cm: 67.45 kg\n",
            "Estimación de peso para una estatura de 158 cm: 55.60 kg\n"
          ]
        }
      ]
    },
    {
      "cell_type": "code",
      "source": [
        "import numpy as np\n",
        "import statsmodels.api as sm\n",
        "\n",
        "# Agregar una columna de unos para el término constante (intercepto)\n",
        "X = sm.add_constant(estatura)\n",
        "\n",
        "# Ajustar el modelo de regresión lineal\n",
        "modelo = sm.OLS(peso, X).fit()\n",
        "\n",
        "# Obtener los intervalos de confianza con tres decimales\n",
        "intervalos_confianza = modelo.conf_int(alpha=0.05)  # Nivel de confianza del 95%\n",
        "\n",
        "intervalos_confianza"
      ],
      "metadata": {
        "colab": {
          "base_uri": "https://localhost:8080/"
        },
        "id": "cUDeBjAeQXFC",
        "outputId": "6a4376dd-a7fa-46c1-947a-bfe53fb47028"
      },
      "execution_count": null,
      "outputs": [
        {
          "output_type": "execute_result",
          "data": {
            "text/plain": [
              "array([[-1.52132517e+02,  5.52954125e+01],\n",
              "       [ 5.98452476e-02,  1.25689683e+00]])"
            ]
          },
          "metadata": {},
          "execution_count": 51
        }
      ]
    },
    {
      "cell_type": "code",
      "source": [
        "# Imprimir los intervalos de confianza para el intercepto y la pendiente\n",
        "print(f\"Intervalo de confianza para el intercepto (a): {intervalos_confianza[0, 0]:.3f} - {intervalos_confianza[0, 1]:.3f}\")\n",
        "print(f\"Intervalo de confianza para la pendiente (b): {intervalos_confianza[1, 0]:.3f} - {intervalos_confianza[1, 1]:.3f}\")"
      ],
      "metadata": {
        "colab": {
          "base_uri": "https://localhost:8080/"
        },
        "id": "_cdeTgRu0n2O",
        "outputId": "0247755a-6d95-4058-b8b9-51b7586cb7d7"
      },
      "execution_count": null,
      "outputs": [
        {
          "output_type": "stream",
          "name": "stdout",
          "text": [
            "Intervalo de confianza para el intercepto (a): -152.133 - 55.295\n",
            "Intervalo de confianza para la pendiente (b): 0.060 - 1.257\n"
          ]
        }
      ]
    },
    {
      "cell_type": "code",
      "source": [
        "#Realiza la ecuación SIN intercepto\n",
        "# Crear el modelo de regresión lineal sin intercepto\n",
        "modelo_sin_intercepto = LinearRegression(fit_intercept=False)\n",
        "\n",
        "# Ajustar el modelo a los datos\n",
        "modelo_sin_intercepto.fit(estatura.reshape(-1,1), peso)\n",
        "\n",
        "# Obtener la pendiente (coeficiente) del modelo\n",
        "pendiente_sin_intercepto = modelo_sin_intercepto.coef_[0]\n",
        "\n",
        "# Calcular el coeficiente de correlación\n",
        "correlacion_sin_intercepto = np.corrcoef(estatura.ravel(), peso)[0, 1]\n",
        "\n",
        "# Obtener los intervalos de confianza\n",
        "modelo_con_intercepto = sm.OLS(peso, estatura).fit()\n",
        "\n",
        "# Obtener los intervalos de confianza con tres decimales\n",
        "intervalos_confianza_sin_intercepto = modelo_con_intercepto.conf_int(alpha=0.05, cols=None)  # Nivel de confianza del 95%\n",
        "\n",
        "\n",
        "print(f\"Coeficiente de correlación (r) sin intercepto: {correlacion_sin_intercepto:.3f}\")\n",
        "print(f\"Pendiente (coeficiente) sin intercepto: {pendiente_sin_intercepto:.3f}\")\n",
        "print(f\"Intervalos de confianza sin intercepto: {intervalos_confianza_sin_intercepto[0, 0]:.3f} - {intervalos_confianza_sin_intercepto[0, 1]:.3f}\")"
      ],
      "metadata": {
        "colab": {
          "base_uri": "https://localhost:8080/"
        },
        "id": "Crs4az6jV0a_",
        "outputId": "82f40f22-ea24-44df-9032-8f129b8cbf80"
      },
      "execution_count": null,
      "outputs": [
        {
          "output_type": "stream",
          "name": "stdout",
          "text": [
            "Coeficiente de correlación (r) sin intercepto: 0.701\n",
            "Pendiente (coeficiente) sin intercepto: 0.380\n",
            "Intervalos de confianza sin intercepto: 0.335 - 0.425\n"
          ]
        }
      ]
    },
    {
      "cell_type": "code",
      "source": [
        "import seaborn as sns\n",
        "\n",
        "# Crear y ajustar el modelo de regresión lineal sin intercepto usando sklearn\n",
        "modelo_sin_intercepto = LinearRegression(fit_intercept=False)\n",
        "modelo_sin_intercepto.fit(estatura.reshape(-1,1), peso)\n",
        "\n",
        "# Obtener la pendiente (coeficiente) del modelo sin intercepto\n",
        "pendiente_sin_intercepto = modelo_sin_intercepto.coef_[0]\n",
        "\n",
        "# Predicción de los valores de peso\n",
        "predicciones = modelo_sin_intercepto.predict(estatura.reshape(-1,1))\n",
        "\n",
        "# Graficar el diagrama de dispersión y la regresión lineal sin intercepto\n",
        "plt.figure(figsize=(10, 6))\n",
        "\n",
        "# Diagrama de dispersión\n",
        "sns.scatterplot(x=estatura.ravel(), y=peso, label='Datos', color='blue')\n",
        "\n",
        "# Regresión lineal sin intercepto\n",
        "plt.plot(estatura, predicciones, label=f'Regresión Lineal (sin intercepto), pendiente={pendiente_sin_intercepto:.3f}', color='red')\n",
        "\n",
        "plt.xlabel('Estatura')\n",
        "plt.ylabel('Peso')\n",
        "plt.title('Regresión Lineal sin Intercepto')\n",
        "plt.legend()\n",
        "plt.grid(True)\n",
        "\n",
        "# Marcar la coordenada de estatura media y peso medio\n",
        "plt.scatter(media_estatura, media_peso, color='green', label='Media', marker='x', s=100)\n",
        "\n",
        "# Anotar las coordenadas de media\n",
        "plt.annotate(f'Media: ({media_estatura:.2f} cm, {media_peso:.2f} kg)', (media_estatura, media_peso), xytext=(media_estatura + 5, media_peso + 5), arrowprops=dict(facecolor='black', arrowstyle='->'))\n",
        "\n",
        "# Mostrar la gráfica\n",
        "plt.show()"
      ],
      "metadata": {
        "colab": {
          "base_uri": "https://localhost:8080/",
          "height": 565
        },
        "id": "BhMs3Xmiwfk2",
        "outputId": "5a18ef40-9219-4271-b03f-4a1606817a19"
      },
      "execution_count": null,
      "outputs": [
        {
          "output_type": "display_data",
          "data": {
            "text/plain": [
              "<Figure size 1000x600 with 1 Axes>"
            ],
            "image/png": "[encoded data removed]"
          },
          "metadata": {}
        }
      ]
    },
    {
      "cell_type": "code",
      "source": [
        "# Estimar el peso utilizando el modelo sin intercepto\n",
        "# Estatura proporcionada por el usuario\n",
        "estatura_usuario_sin = float(input(\"Ingrese una estatura para estimar el peso: \"))\n",
        "\n",
        "# Estimar el peso utilizando el modelo\n",
        "peso_estimado_sin = modelo_sin_intercepto.predict([[estatura_usuario_sin]])\n",
        "\n",
        "print(f\"Estimación de peso para una estatura de {estatura_usuario_sin} cm: {peso_estimado_sin[0]:.2f} kg\")"
      ],
      "metadata": {
        "colab": {
          "base_uri": "https://localhost:8080/"
        },
        "id": "Zq2OrCia3wbR",
        "outputId": "b06ad9c5-7d24-48ca-91f6-771d4c49f825"
      },
      "execution_count": null,
      "outputs": [
        {
          "output_type": "stream",
          "name": "stdout",
          "text": [
            "Ingrese una estatura para estimar el peso: 180\n",
            "Estimación de peso para una estatura de 180.0 cm: 68.36 kg\n"
          ]
        }
      ]
    },
    {
      "cell_type": "code",
      "source": [
        "####2do EJEMPLO####\n",
        "\n",
        "import numpy as np\n",
        "import pandas as pd\n",
        "\n",
        "# Configuración de la semilla aleatoria para reproducibilidad\n",
        "np.random.seed(1234)\n",
        "\n",
        "# Generar datos aleatorios para las variables independientes\n",
        "independiente1 = np.random.randint(50, 100, 50)\n",
        "independiente2 = np.random.randint(1, 10, 50)\n",
        "independiente3 = np.random.normal(5, 2, 50)\n",
        "\n",
        "# Generar datos para la variable dependiente usando una combinación lineal de las variables independientes\n",
        "dependiente = 2 * independiente1 + 3 * independiente2 - 4 * independiente3 + np.random.normal(0, 10, 50)\n",
        "\n",
        "#La función np.random.normal(0, 10, 50) se utiliza para generar una muestra de números aleatorios distribuidos normalmente, es decir,\n",
        "#una distribución gaussiana con una media de 0 y una desviación estándar de 10, y en este caso, se generan 50 números aleatorios en total.\n",
        "\n",
        "# Crear el DataFrame\n",
        "data = pd.DataFrame({\n",
        "    'Independiente1': independiente1,\n",
        "    'Independiente2': independiente2,\n",
        "    'Independiente3': independiente3,\n",
        "    'Dependiente': dependiente\n",
        "})\n",
        "\n",
        "# Mostrar las primeras filas del DataFrame\n",
        "print(data.head())"
      ],
      "metadata": {
        "id": "Is-Lzt1i6QKL",
        "colab": {
          "base_uri": "https://localhost:8080/"
        },
        "outputId": "ba9fdb7b-d355-4151-da15-ee73b158cb5a"
      },
      "execution_count": null,
      "outputs": [
        {
          "output_type": "stream",
          "name": "stdout",
          "text": [
            "   Independiente1  Independiente2  Independiente3  Dependiente\n",
            "0              97               5        5.315243   175.407855\n",
            "1              69               1        4.412890   137.814233\n",
            "2              88               6        5.223120   157.730249\n",
            "3              62               2        6.195357    94.405632\n",
            "4              74               6        2.459814   164.541752\n"
          ]
        }
      ]
    },
    {
      "cell_type": "code",
      "source": [
        "# Calcular la matriz de correlación\n",
        "matriz_correlacion = data.corr()\n",
        "\n",
        "# Graficar el diagrama de correlación\n",
        "plt.figure(figsize=(10, 8))\n",
        "sns.heatmap(matriz_correlacion, annot=True, cmap='coolwarm', square=True)\n",
        "plt.title('Mapa de Calor de Correlación')\n",
        "plt.show()"
      ],
      "metadata": {
        "id": "0AAUkEj11AW2",
        "colab": {
          "base_uri": "https://localhost:8080/",
          "height": 699
        },
        "outputId": "d080ee42-754c-4c62-913d-74ae21fb590c"
      },
      "execution_count": null,
      "outputs": [
        {
          "output_type": "display_data",
          "data": {
            "text/plain": [
              "<Figure size 1000x800 with 2 Axes>"
            ],
            "image/png": "[encoded data removed]"
          },
          "metadata": {}
        }
      ]
    },
    {
      "cell_type": "code",
      "source": [
        "from sklearn.model_selection import train_test_split\n",
        "from sklearn.linear_model import LinearRegression\n",
        "from sklearn.metrics import mean_squared_error, r2_score\n",
        "\n",
        "# Dividir el dataset en variables independientes (X) y variable dependiente (y)\n",
        "X = data[['Independiente1', 'Independiente2', 'Independiente3']]\n",
        "y = data['Dependiente']\n",
        "\n",
        "# Dividir el dataset en conjunto de entrenamiento y conjunto de prueba (75% y 25% respectivamente)\n",
        "X_train, X_test, y_train, y_test = train_test_split(X, y, test_size=0.25, random_state=42)\n",
        "\n",
        "# Crear y ajustar el modelo de regresión lineal utilizando el conjunto de entrenamiento\n",
        "modelo = LinearRegression()\n",
        "modelo.fit(X_train, y_train)\n",
        "\n",
        "# Realizar predicciones con el conjunto de prueba\n",
        "y_pred = modelo.predict(X_test)\n",
        "\n",
        "r2 = r2_score(y_test, y_pred)\n",
        "print(f\"Coeficiente de determinación (R^2): {r2:.2f}\")"
      ],
      "metadata": {
        "id": "XWqEsepsZUR_",
        "colab": {
          "base_uri": "https://localhost:8080/"
        },
        "outputId": "1b42930e-8a07-4a4b-dac4-9d907f1d967b"
      },
      "execution_count": null,
      "outputs": [
        {
          "output_type": "stream",
          "name": "stdout",
          "text": [
            "Coeficiente de determinación (R^2): 0.86\n"
          ]
        }
      ]
    },
    {
      "cell_type": "markdown",
      "source": [
        "La función sm.OLS(y, X).fit() se utiliza para ajustar un modelo de regresión lineal utilizando el método de Mínimos Cuadrados Ordinarios (OLS, por sus siglas en inglés) utilizando la librería statsmodels.\n",
        "\n",
        "Aquí está el desglose de esta función:\n",
        "\n",
        "**sm**: es la abreviatura de statsmodels, la cual es una librería en Python utilizada para realizar análisis estadísticos y modelado.\n",
        "\n",
        "**OLS**: es el método que se utiliza para ajustar un modelo de regresión lineal. OLS se refiere a Mínimos Cuadrados Ordinarios (Ordinary Least Squares Regression), que es un método estadístico para estimar los parámetros de una regresión lineal al minimizar la suma de los cuadrados de las diferencias entre los valores observados y los valores predichos por el modelo.\n",
        "\n",
        "**y**: es la variable dependiente del modelo de regresión lineal. Debe ser un objeto Series o array de una dimensión que contenga las observaciones de la variable dependiente.\n",
        "\n",
        "**X**: es la matriz de variables independientes del modelo de regresión lineal. Debe ser un objeto DataFrame o array bidimensional que contenga las observaciones de las variables independientes.\n",
        "\n",
        "**.fit()**: es el método que se utiliza para ajustar el modelo de regresión lineal a los datos. Devuelve un objeto RegressionResults que contiene información detallada sobre el modelo ajustado, como coeficientes, p-values, intervalos de confianza, estadísticas de ajuste (como R-cuadrado, F-statistic, etc.), entre otros.\n",
        "\n",
        "\n",
        "Entonces, modelo = sm.OLS(y, X).fit() crea un modelo de regresión lineal utilizando el método de Mínimos Cuadrados Ordinarios y ajusta este modelo a los datos X e y, devolviendo un objeto RegressionResults que contiene toda la información relevante sobre el modelo ajustado. Este objeto modelo se puede utilizar posteriormente para obtener información específica sobre el ajuste del modelo, como los coeficientes, los p-values, los intervalos de confianza, etc., que es un método estadístico para estimar los parámetros de una regresión lineal al minimizar la suma de los cuadrados de las diferencias entre los valores observados y los valores predichos por el modelo."
      ],
      "metadata": {
        "id": "jJKSfIDzabiK"
      }
    },
    {
      "cell_type": "code",
      "source": [
        "# Añadir constante a las variables independientes (intercepto)\n",
        "X = sm.add_constant(X)\n",
        "\n",
        "# Crear y ajustar el modelo de regresión lineal utilizando statsmodels\n",
        "modelo = sm.OLS(y, X).fit()\n",
        "\n",
        "# Obtener los coeficientes, p-values (nivel de significancia) y los intervalos de confianza\n",
        "coeficientes = modelo.params\n",
        "p_values = modelo.pvalues\n",
        "intervalos_confianza = modelo.conf_int()\n",
        "\n",
        "# Imprimir los resultados\n",
        "print(\"Coeficientes:\")\n",
        "print(coeficientes)\n",
        "print(\"\\nNivel de significancia (p-values):\")\n",
        "print(p_values)\n",
        "print(\"\\nIntervalos de confianza:\")\n",
        "print(intervalos_confianza)"
      ],
      "metadata": {
        "id": "I-Pqo19rj2V8",
        "colab": {
          "base_uri": "https://localhost:8080/"
        },
        "outputId": "643a394a-d6da-4be9-f833-4b9dabf0d664"
      },
      "execution_count": null,
      "outputs": [
        {
          "output_type": "stream",
          "name": "stdout",
          "text": [
            "Coeficientes:\n",
            "const            -3.275961\n",
            "Independiente1    2.045527\n",
            "Independiente2    2.706890\n",
            "Independiente3   -4.072575\n",
            "dtype: float64\n",
            "\n",
            "Nivel de significancia (p-values):\n",
            "const             7.364254e-01\n",
            "Independiente1    1.106706e-22\n",
            "Independiente2    4.088827e-04\n",
            "Independiente3    2.513563e-05\n",
            "dtype: float64\n",
            "\n",
            "Intervalos de confianza:\n",
            "                        0          1\n",
            "const          -22.748725  16.196804\n",
            "Independiente1   1.819710   2.271343\n",
            "Independiente2   1.277317   4.136463\n",
            "Independiente3  -5.822557  -2.322592\n"
          ]
        }
      ]
    },
    {
      "cell_type": "code",
      "source": [
        "# Datos\n",
        "# ==============================================================================\n",
        "equipos = [\"Texas\",\"Boston\",\"Detroit\",\"Kansas\",\"St.\",\"New_S.\",\"New_Y.\",\n",
        "           \"Milwaukee\",\"Colorado\",\"Houston\",\"Baltimore\",\"Los_An.\",\"Chicago\",\n",
        "           \"Cincinnati\",\"Los_P.\",\"Philadelphia\",\"Chicago\",\"Cleveland\",\"Arizona\",\n",
        "           \"Toronto\",\"Minnesota\",\"Florida\",\"Pittsburgh\",\"Oakland\",\"Tampa\",\n",
        "           \"Atlanta\",\"Washington\",\"San.F\",\"San.I\",\"Seattle\"]\n",
        "bateos = [5659,  5710, 5563, 5672, 5532, 5600, 5518, 5447, 5544, 5598,\n",
        "          5585, 5436, 5549, 5612, 5513, 5579, 5502, 5509, 5421, 5559,\n",
        "          5487, 5508, 5421, 5452, 5436, 5528, 5441, 5486, 5417, 5421]\n",
        "\n",
        "runs = [855, 875, 787, 730, 762, 718, 867, 721, 735, 615, 708, 644, 654, 735,\n",
        "        667, 713, 654, 704, 731, 743, 619, 625, 610, 645, 707, 641, 624, 570,\n",
        "        593, 556]\n",
        "\n",
        "datos = pd.DataFrame({'equipos': equipos, 'bateos': bateos, 'runs': runs})\n",
        "datos.head(3)"
      ],
      "metadata": {
        "id": "IF3cNENnO6p8",
        "colab": {
          "base_uri": "https://localhost:8080/",
          "height": 144
        },
        "outputId": "0a4b782d-a2e4-4b31-bbd3-82d8970dd4fa"
      },
      "execution_count": null,
      "outputs": [
        {
          "output_type": "execute_result",
          "data": {
            "text/plain": [
              "   equipos  bateos  runs\n",
              "0    Texas    5659   855\n",
              "1   Boston    5710   875\n",
              "2  Detroit    5563   787"
            ],
            "text/html": [
              "\n",
              "  <div id=\"df-0cb1f6d0-44ac-4fc8-9ec1-73afa36aefc5\" class=\"colab-df-container\">\n",
              "    <div>\n",
              "<style scoped>\n",
              "    .dataframe tbody tr th:only-of-type {\n",
              "        vertical-align: middle;\n",
              "    }\n",
              "\n",
              "    .dataframe tbody tr th {\n",
              "        vertical-align: top;\n",
              "    }\n",
              "\n",
              "    .dataframe thead th {\n",
              "        text-align: right;\n",
              "    }\n",
              "</style>\n",
              "<table border=\"1\" class=\"dataframe\">\n",
              "  <thead>\n",
              "    <tr style=\"text-align: right;\">\n",
              "      <th></th>\n",
              "      <th>equipos</th>\n",
              "      <th>bateos</th>\n",
              "      <th>runs</th>\n",
              "    </tr>\n",
              "  </thead>\n",
              "  <tbody>\n",
              "    <tr>\n",
              "      <th>0</th>\n",
              "      <td>Texas</td>\n",
              "      <td>5659</td>\n",
              "      <td>855</td>\n",
              "    </tr>\n",
              "    <tr>\n",
              "      <th>1</th>\n",
              "      <td>Boston</td>\n",
              "      <td>5710</td>\n",
              "      <td>875</td>\n",
              "    </tr>\n",
              "    <tr>\n",
              "      <th>2</th>\n",
              "      <td>Detroit</td>\n",
              "      <td>5563</td>\n",
              "      <td>787</td>\n",
              "    </tr>\n",
              "  </tbody>\n",
              "</table>\n",
              "</div>\n",
              "    <div class=\"colab-df-buttons\">\n",
              "\n",
              "  <div class=\"colab-df-container\">\n",
              "    <button class=\"colab-df-convert\" onclick=\"convertToInteractive('df-0cb1f6d0-44ac-4fc8-9ec1-73afa36aefc5')\"\n",
              "            title=\"Convert this dataframe to an interactive table.\"\n",
              "            style=\"display:none;\">\n",
              "\n",
              "  <svg xmlns=\"http://www.w3.org/2000/svg\" height=\"24px\" viewBox=\"0 -960 960 960\">\n",
              "    <path d=\"M120-120v-720h720v720H120Zm60-500h600v-160H180v160Zm220 220h160v-160H400v160Zm0 220h160v-160H400v160ZM180-400h160v-160H180v160Zm440 0h160v-160H620v160ZM180-180h160v-160H180v160Zm440 0h160v-160H620v160Z\"/>\n",
              "  </svg>\n",
              "    </button>\n",
              "\n",
              "  <style>\n",
              "    .colab-df-container {\n",
              "      display:flex;\n",
              "      gap: 12px;\n",
              "    }\n",
              "\n",
              "    .colab-df-convert {\n",
              "      background-color: #E8F0FE;\n",
              "      border: none;\n",
              "      border-radius: 50%;\n",
              "      cursor: pointer;\n",
              "      display: none;\n",
              "      fill: #1967D2;\n",
              "      height: 32px;\n",
              "      padding: 0 0 0 0;\n",
              "      width: 32px;\n",
              "    }\n",
              "\n",
              "    .colab-df-convert:hover {\n",
              "      background-color: #E2EBFA;\n",
              "      box-shadow: 0px 1px 2px rgba(60, 64, 67, 0.3), 0px 1px 3px 1px rgba(60, 64, 67, 0.15);\n",
              "      fill: #174EA6;\n",
              "    }\n",
              "\n",
              "    .colab-df-buttons div {\n",
              "      margin-bottom: 4px;\n",
              "    }\n",
              "\n",
              "    [theme=dark] .colab-df-convert {\n",
              "      background-color: #3B4455;\n",
              "      fill: #D2E3FC;\n",
              "    }\n",
              "\n",
              "    [theme=dark] .colab-df-convert:hover {\n",
              "      background-color: #434B5C;\n",
              "      box-shadow: 0px 1px 3px 1px rgba(0, 0, 0, 0.15);\n",
              "      filter: drop-shadow(0px 1px 2px rgba(0, 0, 0, 0.3));\n",
              "      fill: #FFFFFF;\n",
              "    }\n",
              "  </style>\n",
              "\n",
              "    <script>\n",
              "      const buttonEl =\n",
              "        document.querySelector('#df-0cb1f6d0-44ac-4fc8-9ec1-73afa36aefc5 button.colab-df-convert');\n",
              "      buttonEl.style.display =\n",
              "        google.colab.kernel.accessAllowed ? 'block' : 'none';\n",
              "\n",
              "      async function convertToInteractive(key) {\n",
              "        const element = document.querySelector('#df-0cb1f6d0-44ac-4fc8-9ec1-73afa36aefc5');\n",
              "        const dataTable =\n",
              "          await google.colab.kernel.invokeFunction('convertToInteractive',\n",
              "                                                    [key], {});\n",
              "        if (!dataTable) return;\n",
              "\n",
              "        const docLinkHtml = 'Like what you see? Visit the ' +\n",
              "          '<a target=\"_blank\" href=https://colab.research.google.com/notebooks/data_table.ipynb>data table notebook</a>'\n",
              "          + ' to learn more about interactive tables.';\n",
              "        element.innerHTML = '';\n",
              "        dataTable['output_type'] = 'display_data';\n",
              "        await google.colab.output.renderOutput(dataTable, element);\n",
              "        const docLink = document.createElement('div');\n",
              "        docLink.innerHTML = docLinkHtml;\n",
              "        element.appendChild(docLink);\n",
              "      }\n",
              "    </script>\n",
              "  </div>\n",
              "\n",
              "\n",
              "<div id=\"df-d1d6f69f-0feb-480d-b6f4-944c4d9dd1b4\">\n",
              "  <button class=\"colab-df-quickchart\" onclick=\"quickchart('df-d1d6f69f-0feb-480d-b6f4-944c4d9dd1b4')\"\n",
              "            title=\"Suggest charts\"\n",
              "            style=\"display:none;\">\n",
              "\n",
              "<svg xmlns=\"http://www.w3.org/2000/svg\" height=\"24px\"viewBox=\"0 0 24 24\"\n",
              "     width=\"24px\">\n",
              "    <g>\n",
              "        <path d=\"M19 3H5c-1.1 0-2 .9-2 2v14c0 1.1.9 2 2 2h14c1.1 0 2-.9 2-2V5c0-1.1-.9-2-2-2zM9 17H7v-7h2v7zm4 0h-2V7h2v10zm4 0h-2v-4h2v4z\"/>\n",
              "    </g>\n",
              "</svg>\n",
              "  </button>\n",
              "\n",
              "<style>\n",
              "  .colab-df-quickchart {\n",
              "      --bg-color: #E8F0FE;\n",
              "      --fill-color: #1967D2;\n",
              "      --hover-bg-color: #E2EBFA;\n",
              "      --hover-fill-color: #174EA6;\n",
              "      --disabled-fill-color: #AAA;\n",
              "      --disabled-bg-color: #DDD;\n",
              "  }\n",
              "\n",
              "  [theme=dark] .colab-df-quickchart {\n",
              "      --bg-color: #3B4455;\n",
              "      --fill-color: #D2E3FC;\n",
              "      --hover-bg-color: #434B5C;\n",
              "      --hover-fill-color: #FFFFFF;\n",
              "      --disabled-bg-color: #3B4455;\n",
              "      --disabled-fill-color: #666;\n",
              "  }\n",
              "\n",
              "  .colab-df-quickchart {\n",
              "    background-color: var(--bg-color);\n",
              "    border: none;\n",
              "    border-radius: 50%;\n",
              "    cursor: pointer;\n",
              "    display: none;\n",
              "    fill: var(--fill-color);\n",
              "    height: 32px;\n",
              "    padding: 0;\n",
              "    width: 32px;\n",
              "  }\n",
              "\n",
              "  .colab-df-quickchart:hover {\n",
              "    background-color: var(--hover-bg-color);\n",
              "    box-shadow: 0 1px 2px rgba(60, 64, 67, 0.3), 0 1px 3px 1px rgba(60, 64, 67, 0.15);\n",
              "    fill: var(--button-hover-fill-color);\n",
              "  }\n",
              "\n",
              "  .colab-df-quickchart-complete:disabled,\n",
              "  .colab-df-quickchart-complete:disabled:hover {\n",
              "    background-color: var(--disabled-bg-color);\n",
              "    fill: var(--disabled-fill-color);\n",
              "    box-shadow: none;\n",
              "  }\n",
              "\n",
              "  .colab-df-spinner {\n",
              "    border: 2px solid var(--fill-color);\n",
              "    border-color: transparent;\n",
              "    border-bottom-color: var(--fill-color);\n",
              "    animation:\n",
              "      spin 1s steps(1) infinite;\n",
              "  }\n",
              "\n",
              "  @keyframes spin {\n",
              "    0% {\n",
              "      border-color: transparent;\n",
              "      border-bottom-color: var(--fill-color);\n",
              "      border-left-color: var(--fill-color);\n",
              "    }\n",
              "    20% {\n",
              "      border-color: transparent;\n",
              "      border-left-color: var(--fill-color);\n",
              "      border-top-color: var(--fill-color);\n",
              "    }\n",
              "    30% {\n",
              "      border-color: transparent;\n",
              "      border-left-color: var(--fill-color);\n",
              "      border-top-color: var(--fill-color);\n",
              "      border-right-color: var(--fill-color);\n",
              "    }\n",
              "    40% {\n",
              "      border-color: transparent;\n",
              "      border-right-color: var(--fill-color);\n",
              "      border-top-color: var(--fill-color);\n",
              "    }\n",
              "    60% {\n",
              "      border-color: transparent;\n",
              "      border-right-color: var(--fill-color);\n",
              "    }\n",
              "    80% {\n",
              "      border-color: transparent;\n",
              "      border-right-color: var(--fill-color);\n",
              "      border-bottom-color: var(--fill-color);\n",
              "    }\n",
              "    90% {\n",
              "      border-color: transparent;\n",
              "      border-bottom-color: var(--fill-color);\n",
              "    }\n",
              "  }\n",
              "</style>\n",
              "\n",
              "  <script>\n",
              "    async function quickchart(key) {\n",
              "      const quickchartButtonEl =\n",
              "        document.querySelector('#' + key + ' button');\n",
              "      quickchartButtonEl.disabled = true;  // To prevent multiple clicks.\n",
              "      quickchartButtonEl.classList.add('colab-df-spinner');\n",
              "      try {\n",
              "        const charts = await google.colab.kernel.invokeFunction(\n",
              "            'suggestCharts', [key], {});\n",
              "      } catch (error) {\n",
              "        console.error('Error during call to suggestCharts:', error);\n",
              "      }\n",
              "      quickchartButtonEl.classList.remove('colab-df-spinner');\n",
              "      quickchartButtonEl.classList.add('colab-df-quickchart-complete');\n",
              "    }\n",
              "    (() => {\n",
              "      let quickchartButtonEl =\n",
              "        document.querySelector('#df-d1d6f69f-0feb-480d-b6f4-944c4d9dd1b4 button');\n",
              "      quickchartButtonEl.style.display =\n",
              "        google.colab.kernel.accessAllowed ? 'block' : 'none';\n",
              "    })();\n",
              "  </script>\n",
              "</div>\n",
              "    </div>\n",
              "  </div>\n"
            ],
            "application/vnd.google.colaboratory.intrinsic+json": {
              "type": "dataframe",
              "variable_name": "datos",
              "summary": "{\n  \"name\": \"datos\",\n  \"rows\": 30,\n  \"fields\": [\n    {\n      \"column\": \"equipos\",\n      \"properties\": {\n        \"dtype\": \"string\",\n        \"num_unique_values\": 29,\n        \"samples\": [\n          \"San.I\",\n          \"Cleveland\",\n          \"Chicago\"\n        ],\n        \"semantic_type\": \"\",\n        \"description\": \"\"\n      }\n    },\n    {\n      \"column\": \"bateos\",\n      \"properties\": {\n        \"dtype\": \"number\",\n        \"std\": 79,\n        \"min\": 5417,\n        \"max\": 5710,\n        \"num_unique_values\": 27,\n        \"samples\": [\n          5544,\n          5612,\n          5598\n        ],\n        \"semantic_type\": \"\",\n        \"description\": \"\"\n      }\n    },\n    {\n      \"column\": \"runs\",\n      \"properties\": {\n        \"dtype\": \"number\",\n        \"std\": 82,\n        \"min\": 556,\n        \"max\": 875,\n        \"num_unique_values\": 28,\n        \"samples\": [\n          615,\n          570,\n          735\n        ],\n        \"semantic_type\": \"\",\n        \"description\": \"\"\n      }\n    }\n  ]\n}"
            }
          },
          "metadata": {},
          "execution_count": 60
        }
      ]
    },
    {
      "cell_type": "code",
      "source": [
        "# Gráfico\n",
        "# ==============================================================================\n",
        "fig, ax = plt.subplots(figsize=(6, 3.84))\n",
        "\n",
        "datos.plot(\n",
        "    x    = 'bateos',\n",
        "    y    = 'runs',\n",
        "    c    = 'firebrick',\n",
        "    kind = \"scatter\",\n",
        "    ax   = ax,\n",
        ")\n",
        "ax.set_title('Distribución de bateos y runs');\n",
        "\n",
        "# Añadir el nombre de los equipos\n",
        "for i, row in datos.iterrows():\n",
        "    ax.annotate(row['equipos'], (row['bateos'], row['runs']), textcoords=\"offset points\", xytext=(5,-5), ha='center')\n"
      ],
      "metadata": {
        "id": "UYvFHkKBQhUC",
        "colab": {
          "base_uri": "https://localhost:8080/",
          "height": 398
        },
        "outputId": "2ff012b8-f229-4e5c-9202-74e6bf5847bc"
      },
      "execution_count": null,
      "outputs": [
        {
          "output_type": "display_data",
          "data": {
            "text/plain": [
              "<Figure size 600x384 with 1 Axes>"
            ],
            "image/png": "[encoded data removed]"
          },
          "metadata": {}
        }
      ]
    },
    {
      "cell_type": "code",
      "source": [
        "# División de los datos en train y test\n",
        "# ==============================================================================\n",
        "X = datos[['bateos']]\n",
        "y = datos['runs']\n",
        "\n",
        "X_train, X_test, y_train, y_test = train_test_split(\n",
        "                                        X.values.reshape(-1,1),\n",
        "                                        y.values.reshape(-1,1),\n",
        "                                        train_size   = 0.8,\n",
        "                                        random_state = 1234,\n",
        "                                        shuffle      = True\n",
        "                                    )\n",
        "\n",
        "# Creación del modelo\n",
        "# ==============================================================================\n",
        "modelo = LinearRegression()\n",
        "modelo.fit(X = X_train.reshape(-1, 1), y = y_train)"
      ],
      "metadata": {
        "id": "6fQehX2KQQXF",
        "colab": {
          "base_uri": "https://localhost:8080/",
          "height": 75
        },
        "outputId": "bcf70839-7070-46e7-bb91-8ef3ea750ce0"
      },
      "execution_count": null,
      "outputs": [
        {
          "output_type": "execute_result",
          "data": {
            "text/plain": [
              "LinearRegression()"
            ],
            "text/html": [
              "<style>#sk-container-id-2 {color: black;background-color: white;}#sk-container-id-2 pre{padding: 0;}#sk-container-id-2 div.sk-toggleable {background-color: white;}#sk-container-id-2 label.sk-toggleable__label {cursor: pointer;display: block;width: 100%;margin-bottom: 0;padding: 0.3em;box-sizing: border-box;text-align: center;}#sk-container-id-2 label.sk-toggleable__label-arrow:before {content: \"▸\";float: left;margin-right: 0.25em;color: #696969;}#sk-container-id-2 label.sk-toggleable__label-arrow:hover:before {color: black;}#sk-container-id-2 div.sk-estimator:hover label.sk-toggleable__label-arrow:before {color: black;}#sk-container-id-2 div.sk-toggleable__content {max-height: 0;max-width: 0;overflow: hidden;text-align: left;background-color: #f0f8ff;}#sk-container-id-2 div.sk-toggleable__content pre {margin: 0.2em;color: black;border-radius: 0.25em;background-color: #f0f8ff;}#sk-container-id-2 input.sk-toggleable__control:checked~div.sk-toggleable__content {max-height: 200px;max-width: 100%;overflow: auto;}#sk-container-id-2 input.sk-toggleable__control:checked~label.sk-toggleable__label-arrow:before {content: \"▾\";}#sk-container-id-2 div.sk-estimator input.sk-toggleable__control:checked~label.sk-toggleable__label {background-color: #d4ebff;}#sk-container-id-2 div.sk-label input.sk-toggleable__control:checked~label.sk-toggleable__label {background-color: #d4ebff;}#sk-container-id-2 input.sk-hidden--visually {border: 0;clip: rect(1px 1px 1px 1px);clip: rect(1px, 1px, 1px, 1px);height: 1px;margin: -1px;overflow: hidden;padding: 0;position: absolute;width: 1px;}#sk-container-id-2 div.sk-estimator {font-family: monospace;background-color: #f0f8ff;border: 1px dotted black;border-radius: 0.25em;box-sizing: border-box;margin-bottom: 0.5em;}#sk-container-id-2 div.sk-estimator:hover {background-color: #d4ebff;}#sk-container-id-2 div.sk-parallel-item::after {content: \"\";width: 100%;border-bottom: 1px solid gray;flex-grow: 1;}#sk-container-id-2 div.sk-label:hover label.sk-toggleable__label {background-color: #d4ebff;}#sk-container-id-2 div.sk-serial::before {content: \"\";position: absolute;border-left: 1px solid gray;box-sizing: border-box;top: 0;bottom: 0;left: 50%;z-index: 0;}#sk-container-id-2 div.sk-serial {display: flex;flex-direction: column;align-items: center;background-color: white;padding-right: 0.2em;padding-left: 0.2em;position: relative;}#sk-container-id-2 div.sk-item {position: relative;z-index: 1;}#sk-container-id-2 div.sk-parallel {display: flex;align-items: stretch;justify-content: center;background-color: white;position: relative;}#sk-container-id-2 div.sk-item::before, #sk-container-id-2 div.sk-parallel-item::before {content: \"\";position: absolute;border-left: 1px solid gray;box-sizing: border-box;top: 0;bottom: 0;left: 50%;z-index: -1;}#sk-container-id-2 div.sk-parallel-item {display: flex;flex-direction: column;z-index: 1;position: relative;background-color: white;}#sk-container-id-2 div.sk-parallel-item:first-child::after {align-self: flex-end;width: 50%;}#sk-container-id-2 div.sk-parallel-item:last-child::after {align-self: flex-start;width: 50%;}#sk-container-id-2 div.sk-parallel-item:only-child::after {width: 0;}#sk-container-id-2 div.sk-dashed-wrapped {border: 1px dashed gray;margin: 0 0.4em 0.5em 0.4em;box-sizing: border-box;padding-bottom: 0.4em;background-color: white;}#sk-container-id-2 div.sk-label label {font-family: monospace;font-weight: bold;display: inline-block;line-height: 1.2em;}#sk-container-id-2 div.sk-label-container {text-align: center;}#sk-container-id-2 div.sk-container {/* jupyter's `normalize.less` sets `[hidden] { display: none; }` but bootstrap.min.css set `[hidden] { display: none !important; }` so we also need the `!important` here to be able to override the default hidden behavior on the sphinx rendered scikit-learn.org. See: https://github.com/scikit-learn/scikit-learn/issues/21755 */display: inline-block !important;position: relative;}#sk-container-id-2 div.sk-text-repr-fallback {display: none;}</style><div id=\"sk-container-id-2\" class=\"sk-top-container\"><div class=\"sk-text-repr-fallback\"><pre>LinearRegression()</pre><b>In a Jupyter environment, please rerun this cell to show the HTML representation or trust the notebook. <br />On GitHub, the HTML representation is unable to render, please try loading this page with nbviewer.org.</b></div><div class=\"sk-container\" hidden><div class=\"sk-item\"><div class=\"sk-estimator sk-toggleable\"><input class=\"sk-toggleable__control sk-hidden--visually\" id=\"sk-estimator-id-2\" type=\"checkbox\" checked><label for=\"sk-estimator-id-2\" class=\"sk-toggleable__label sk-toggleable__label-arrow\">LinearRegression</label><div class=\"sk-toggleable__content\"><pre>LinearRegression()</pre></div></div></div></div></div>"
            ]
          },
          "metadata": {},
          "execution_count": 62
        }
      ]
    },
    {
      "cell_type": "code",
      "source": [
        "# Información del modelo\n",
        "# ==============================================================================\n",
        "print(\"Intercept:\", modelo.intercept_)\n",
        "print(\"Coeficiente:\", list(zip(X.columns, modelo.coef_.flatten(), )))\n",
        "print(\"Coeficiente de determinación R^2:\", modelo.score(X, y))"
      ],
      "metadata": {
        "id": "L7y-ONwOQmnc",
        "colab": {
          "base_uri": "https://localhost:8080/"
        },
        "outputId": "c43a3de5-0bd3-4b06-ccc1-0c4f851810f1"
      },
      "execution_count": null,
      "outputs": [
        {
          "output_type": "stream",
          "name": "stdout",
          "text": [
            "Intercept: [-2367.7028413]\n",
            "Coeficiente: [('bateos', 0.5528713534479736)]\n",
            "Coeficiente de determinación R^2: 0.3586119899498744\n"
          ]
        },
        {
          "output_type": "stream",
          "name": "stderr",
          "text": [
            "/usr/local/lib/python3.10/dist-packages/sklearn/base.py:432: UserWarning: X has feature names, but LinearRegression was fitted without feature names\n",
            "  warnings.warn(\n"
          ]
        }
      ]
    },
    {
      "cell_type": "code",
      "source": [
        "# Predicción en la base Test\n",
        "# ==============================================================================\n",
        "predicciones = modelo.predict(X = X_test)\n",
        "print(predicciones[0:3,])"
      ],
      "metadata": {
        "id": "cAeyyieNQzsg",
        "colab": {
          "base_uri": "https://localhost:8080/"
        },
        "outputId": "57146f02-262e-4235-ab66-72d8409adea2"
      },
      "execution_count": null,
      "outputs": [
        {
          "output_type": "stream",
          "name": "stdout",
          "text": [
            "[[643.78742093]\n",
            " [720.0836677 ]\n",
            " [690.78148597]]\n"
          ]
        }
      ]
    },
    {
      "cell_type": "code",
      "source": [
        "# Creación del modelo utilizando matrices como en scikitlearn\n",
        "# ==============================================================================\n",
        "# A la matriz de predictores se le tiene que añadir una columna de 1s para el intercept del modelo\n",
        "X_train = sm.add_constant(X_train, prepend=True)\n",
        "modelo = sm.OLS(endog=y_train, exog=X_train,)\n",
        "modelo = modelo.fit()\n",
        "print(modelo.summary())"
      ],
      "metadata": {
        "id": "aWboqrDPRMp8",
        "colab": {
          "base_uri": "https://localhost:8080/"
        },
        "outputId": "fc84c4cd-a824-49ed-cdc1-e10574759d35"
      },
      "execution_count": null,
      "outputs": [
        {
          "output_type": "stream",
          "name": "stdout",
          "text": [
            "                            OLS Regression Results                            \n",
            "==============================================================================\n",
            "Dep. Variable:                      y   R-squared:                       0.271\n",
            "Model:                            OLS   Adj. R-squared:                  0.238\n",
            "Method:                 Least Squares   F-statistic:                     8.191\n",
            "Date:                Fri, 24 May 2024   Prob (F-statistic):            0.00906\n",
            "Time:                        13:51:02   Log-Likelihood:                -134.71\n",
            "No. Observations:                  24   AIC:                             273.4\n",
            "Df Residuals:                      22   BIC:                             275.8\n",
            "Df Model:                           1                                         \n",
            "Covariance Type:            nonrobust                                         \n",
            "==============================================================================\n",
            "                 coef    std err          t      P>|t|      [0.025      0.975]\n",
            "------------------------------------------------------------------------------\n",
            "const      -2367.7028   1066.357     -2.220      0.037   -4579.192    -156.214\n",
            "x1             0.5529      0.193      2.862      0.009       0.152       0.953\n",
            "==============================================================================\n",
            "Omnibus:                        5.033   Durbin-Watson:                   1.902\n",
            "Prob(Omnibus):                  0.081   Jarque-Bera (JB):                3.170\n",
            "Skew:                           0.829   Prob(JB):                        0.205\n",
            "Kurtosis:                       3.650   Cond. No.                     4.17e+05\n",
            "==============================================================================\n",
            "\n",
            "Notes:\n",
            "[1] Standard Errors assume that the covariance matrix of the errors is correctly specified.\n",
            "[2] The condition number is large, 4.17e+05. This might indicate that there are\n",
            "strong multicollinearity or other numerical problems.\n"
          ]
        }
      ]
    },
    {
      "cell_type": "code",
      "source": [
        "# Intervalos de confianza para los coeficientes del modelo\n",
        "# ==============================================================================\n",
        "modelo.conf_int(alpha=0.05)"
      ],
      "metadata": {
        "id": "zlLeEfsvRoyn",
        "colab": {
          "base_uri": "https://localhost:8080/"
        },
        "outputId": "a8d6d105-3221-4c41-8a65-f65b81f184e0"
      },
      "execution_count": null,
      "outputs": [
        {
          "output_type": "execute_result",
          "data": {
            "text/plain": [
              "array([[-4.57919205e+03, -1.56213633e+02],\n",
              "       [ 1.52244180e-01,  9.53498527e-01]])"
            ]
          },
          "metadata": {},
          "execution_count": 66
        }
      ]
    },
    {
      "cell_type": "markdown",
      "source": [
        "Predicciones\n",
        "\n",
        "\n",
        "Una vez entrenado el modelo, se pueden obtener predicciones para nuevos datos. Los modelos de statsmodels permiten calcular las predicciones de dos formas:\n",
        "\n",
        ".predict(): devuelve únicamente el valor de las predicciones.\n",
        "\n",
        ".get_prediction().summary_frame(): devuelve, además de las predicciones, los intervalos de confianza asociados."
      ],
      "metadata": {
        "id": "R-D7aDQ1R_Ts"
      }
    },
    {
      "cell_type": "code",
      "source": [
        "# Predicciones con intervalo de confianza del 95%\n",
        "# ==============================================================================\n",
        "predicciones = modelo.get_prediction(exog = X_train).summary_frame(alpha=0.05)\n",
        "predicciones.head(4)"
      ],
      "metadata": {
        "id": "zp7nUg8KSBR9",
        "colab": {
          "base_uri": "https://localhost:8080/",
          "height": 175
        },
        "outputId": "4fac7062-c061-4010-cd7f-a3d34eae558f"
      },
      "execution_count": null,
      "outputs": [
        {
          "output_type": "execute_result",
          "data": {
            "text/plain": [
              "         mean    mean_se  mean_ci_lower  mean_ci_upper  obs_ci_lower  \\\n",
              "0  768.183475  32.658268     700.454374     835.912577    609.456054   \n",
              "1  646.551778  19.237651     606.655332     686.448224    497.558860   \n",
              "2  680.276930  14.186441     650.856053     709.697807    533.741095   \n",
              "3  735.011194  22.767596     687.794091     782.228298    583.893300   \n",
              "\n",
              "   obs_ci_upper  \n",
              "0    926.910897  \n",
              "1    795.544695  \n",
              "2    826.812765  \n",
              "3    886.129088  "
            ],
            "text/html": [
              "\n",
              "  <div id=\"df-c250d4ea-07ae-4ccb-9e4a-a81d1bc0f545\" class=\"colab-df-container\">\n",
              "    <div>\n",
              "<style scoped>\n",
              "    .dataframe tbody tr th:only-of-type {\n",
              "        vertical-align: middle;\n",
              "    }\n",
              "\n",
              "    .dataframe tbody tr th {\n",
              "        vertical-align: top;\n",
              "    }\n",
              "\n",
              "    .dataframe thead th {\n",
              "        text-align: right;\n",
              "    }\n",
              "</style>\n",
              "<table border=\"1\" class=\"dataframe\">\n",
              "  <thead>\n",
              "    <tr style=\"text-align: right;\">\n",
              "      <th></th>\n",
              "      <th>mean</th>\n",
              "      <th>mean_se</th>\n",
              "      <th>mean_ci_lower</th>\n",
              "      <th>mean_ci_upper</th>\n",
              "      <th>obs_ci_lower</th>\n",
              "      <th>obs_ci_upper</th>\n",
              "    </tr>\n",
              "  </thead>\n",
              "  <tbody>\n",
              "    <tr>\n",
              "      <th>0</th>\n",
              "      <td>768.183475</td>\n",
              "      <td>32.658268</td>\n",
              "      <td>700.454374</td>\n",
              "      <td>835.912577</td>\n",
              "      <td>609.456054</td>\n",
              "      <td>926.910897</td>\n",
              "    </tr>\n",
              "    <tr>\n",
              "      <th>1</th>\n",
              "      <td>646.551778</td>\n",
              "      <td>19.237651</td>\n",
              "      <td>606.655332</td>\n",
              "      <td>686.448224</td>\n",
              "      <td>497.558860</td>\n",
              "      <td>795.544695</td>\n",
              "    </tr>\n",
              "    <tr>\n",
              "      <th>2</th>\n",
              "      <td>680.276930</td>\n",
              "      <td>14.186441</td>\n",
              "      <td>650.856053</td>\n",
              "      <td>709.697807</td>\n",
              "      <td>533.741095</td>\n",
              "      <td>826.812765</td>\n",
              "    </tr>\n",
              "    <tr>\n",
              "      <th>3</th>\n",
              "      <td>735.011194</td>\n",
              "      <td>22.767596</td>\n",
              "      <td>687.794091</td>\n",
              "      <td>782.228298</td>\n",
              "      <td>583.893300</td>\n",
              "      <td>886.129088</td>\n",
              "    </tr>\n",
              "  </tbody>\n",
              "</table>\n",
              "</div>\n",
              "    <div class=\"colab-df-buttons\">\n",
              "\n",
              "  <div class=\"colab-df-container\">\n",
              "    <button class=\"colab-df-convert\" onclick=\"convertToInteractive('df-c250d4ea-07ae-4ccb-9e4a-a81d1bc0f545')\"\n",
              "            title=\"Convert this dataframe to an interactive table.\"\n",
              "            style=\"display:none;\">\n",
              "\n",
              "  <svg xmlns=\"http://www.w3.org/2000/svg\" height=\"24px\" viewBox=\"0 -960 960 960\">\n",
              "    <path d=\"M120-120v-720h720v720H120Zm60-500h600v-160H180v160Zm220 220h160v-160H400v160Zm0 220h160v-160H400v160ZM180-400h160v-160H180v160Zm440 0h160v-160H620v160ZM180-180h160v-160H180v160Zm440 0h160v-160H620v160Z\"/>\n",
              "  </svg>\n",
              "    </button>\n",
              "\n",
              "  <style>\n",
              "    .colab-df-container {\n",
              "      display:flex;\n",
              "      gap: 12px;\n",
              "    }\n",
              "\n",
              "    .colab-df-convert {\n",
              "      background-color: #E8F0FE;\n",
              "      border: none;\n",
              "      border-radius: 50%;\n",
              "      cursor: pointer;\n",
              "      display: none;\n",
              "      fill: #1967D2;\n",
              "      height: 32px;\n",
              "      padding: 0 0 0 0;\n",
              "      width: 32px;\n",
              "    }\n",
              "\n",
              "    .colab-df-convert:hover {\n",
              "      background-color: #E2EBFA;\n",
              "      box-shadow: 0px 1px 2px rgba(60, 64, 67, 0.3), 0px 1px 3px 1px rgba(60, 64, 67, 0.15);\n",
              "      fill: #174EA6;\n",
              "    }\n",
              "\n",
              "    .colab-df-buttons div {\n",
              "      margin-bottom: 4px;\n",
              "    }\n",
              "\n",
              "    [theme=dark] .colab-df-convert {\n",
              "      background-color: #3B4455;\n",
              "      fill: #D2E3FC;\n",
              "    }\n",
              "\n",
              "    [theme=dark] .colab-df-convert:hover {\n",
              "      background-color: #434B5C;\n",
              "      box-shadow: 0px 1px 3px 1px rgba(0, 0, 0, 0.15);\n",
              "      filter: drop-shadow(0px 1px 2px rgba(0, 0, 0, 0.3));\n",
              "      fill: #FFFFFF;\n",
              "    }\n",
              "  </style>\n",
              "\n",
              "    <script>\n",
              "      const buttonEl =\n",
              "        document.querySelector('#df-c250d4ea-07ae-4ccb-9e4a-a81d1bc0f545 button.colab-df-convert');\n",
              "      buttonEl.style.display =\n",
              "        google.colab.kernel.accessAllowed ? 'block' : 'none';\n",
              "\n",
              "      async function convertToInteractive(key) {\n",
              "        const element = document.querySelector('#df-c250d4ea-07ae-4ccb-9e4a-a81d1bc0f545');\n",
              "        const dataTable =\n",
              "          await google.colab.kernel.invokeFunction('convertToInteractive',\n",
              "                                                    [key], {});\n",
              "        if (!dataTable) return;\n",
              "\n",
              "        const docLinkHtml = 'Like what you see? Visit the ' +\n",
              "          '<a target=\"_blank\" href=https://colab.research.google.com/notebooks/data_table.ipynb>data table notebook</a>'\n",
              "          + ' to learn more about interactive tables.';\n",
              "        element.innerHTML = '';\n",
              "        dataTable['output_type'] = 'display_data';\n",
              "        await google.colab.output.renderOutput(dataTable, element);\n",
              "        const docLink = document.createElement('div');\n",
              "        docLink.innerHTML = docLinkHtml;\n",
              "        element.appendChild(docLink);\n",
              "      }\n",
              "    </script>\n",
              "  </div>\n",
              "\n",
              "\n",
              "<div id=\"df-e0c8775a-cd59-4f91-acc6-f49dff8373d6\">\n",
              "  <button class=\"colab-df-quickchart\" onclick=\"quickchart('df-e0c8775a-cd59-4f91-acc6-f49dff8373d6')\"\n",
              "            title=\"Suggest charts\"\n",
              "            style=\"display:none;\">\n",
              "\n",
              "<svg xmlns=\"http://www.w3.org/2000/svg\" height=\"24px\"viewBox=\"0 0 24 24\"\n",
              "     width=\"24px\">\n",
              "    <g>\n",
              "        <path d=\"M19 3H5c-1.1 0-2 .9-2 2v14c0 1.1.9 2 2 2h14c1.1 0 2-.9 2-2V5c0-1.1-.9-2-2-2zM9 17H7v-7h2v7zm4 0h-2V7h2v10zm4 0h-2v-4h2v4z\"/>\n",
              "    </g>\n",
              "</svg>\n",
              "  </button>\n",
              "\n",
              "<style>\n",
              "  .colab-df-quickchart {\n",
              "      --bg-color: #E8F0FE;\n",
              "      --fill-color: #1967D2;\n",
              "      --hover-bg-color: #E2EBFA;\n",
              "      --hover-fill-color: #174EA6;\n",
              "      --disabled-fill-color: #AAA;\n",
              "      --disabled-bg-color: #DDD;\n",
              "  }\n",
              "\n",
              "  [theme=dark] .colab-df-quickchart {\n",
              "      --bg-color: #3B4455;\n",
              "      --fill-color: #D2E3FC;\n",
              "      --hover-bg-color: #434B5C;\n",
              "      --hover-fill-color: #FFFFFF;\n",
              "      --disabled-bg-color: #3B4455;\n",
              "      --disabled-fill-color: #666;\n",
              "  }\n",
              "\n",
              "  .colab-df-quickchart {\n",
              "    background-color: var(--bg-color);\n",
              "    border: none;\n",
              "    border-radius: 50%;\n",
              "    cursor: pointer;\n",
              "    display: none;\n",
              "    fill: var(--fill-color);\n",
              "    height: 32px;\n",
              "    padding: 0;\n",
              "    width: 32px;\n",
              "  }\n",
              "\n",
              "  .colab-df-quickchart:hover {\n",
              "    background-color: var(--hover-bg-color);\n",
              "    box-shadow: 0 1px 2px rgba(60, 64, 67, 0.3), 0 1px 3px 1px rgba(60, 64, 67, 0.15);\n",
              "    fill: var(--button-hover-fill-color);\n",
              "  }\n",
              "\n",
              "  .colab-df-quickchart-complete:disabled,\n",
              "  .colab-df-quickchart-complete:disabled:hover {\n",
              "    background-color: var(--disabled-bg-color);\n",
              "    fill: var(--disabled-fill-color);\n",
              "    box-shadow: none;\n",
              "  }\n",
              "\n",
              "  .colab-df-spinner {\n",
              "    border: 2px solid var(--fill-color);\n",
              "    border-color: transparent;\n",
              "    border-bottom-color: var(--fill-color);\n",
              "    animation:\n",
              "      spin 1s steps(1) infinite;\n",
              "  }\n",
              "\n",
              "  @keyframes spin {\n",
              "    0% {\n",
              "      border-color: transparent;\n",
              "      border-bottom-color: var(--fill-color);\n",
              "      border-left-color: var(--fill-color);\n",
              "    }\n",
              "    20% {\n",
              "      border-color: transparent;\n",
              "      border-left-color: var(--fill-color);\n",
              "      border-top-color: var(--fill-color);\n",
              "    }\n",
              "    30% {\n",
              "      border-color: transparent;\n",
              "      border-left-color: var(--fill-color);\n",
              "      border-top-color: var(--fill-color);\n",
              "      border-right-color: var(--fill-color);\n",
              "    }\n",
              "    40% {\n",
              "      border-color: transparent;\n",
              "      border-right-color: var(--fill-color);\n",
              "      border-top-color: var(--fill-color);\n",
              "    }\n",
              "    60% {\n",
              "      border-color: transparent;\n",
              "      border-right-color: var(--fill-color);\n",
              "    }\n",
              "    80% {\n",
              "      border-color: transparent;\n",
              "      border-right-color: var(--fill-color);\n",
              "      border-bottom-color: var(--fill-color);\n",
              "    }\n",
              "    90% {\n",
              "      border-color: transparent;\n",
              "      border-bottom-color: var(--fill-color);\n",
              "    }\n",
              "  }\n",
              "</style>\n",
              "\n",
              "  <script>\n",
              "    async function quickchart(key) {\n",
              "      const quickchartButtonEl =\n",
              "        document.querySelector('#' + key + ' button');\n",
              "      quickchartButtonEl.disabled = true;  // To prevent multiple clicks.\n",
              "      quickchartButtonEl.classList.add('colab-df-spinner');\n",
              "      try {\n",
              "        const charts = await google.colab.kernel.invokeFunction(\n",
              "            'suggestCharts', [key], {});\n",
              "      } catch (error) {\n",
              "        console.error('Error during call to suggestCharts:', error);\n",
              "      }\n",
              "      quickchartButtonEl.classList.remove('colab-df-spinner');\n",
              "      quickchartButtonEl.classList.add('colab-df-quickchart-complete');\n",
              "    }\n",
              "    (() => {\n",
              "      let quickchartButtonEl =\n",
              "        document.querySelector('#df-e0c8775a-cd59-4f91-acc6-f49dff8373d6 button');\n",
              "      quickchartButtonEl.style.display =\n",
              "        google.colab.kernel.accessAllowed ? 'block' : 'none';\n",
              "    })();\n",
              "  </script>\n",
              "</div>\n",
              "    </div>\n",
              "  </div>\n"
            ],
            "application/vnd.google.colaboratory.intrinsic+json": {
              "type": "dataframe",
              "variable_name": "predicciones",
              "summary": "{\n  \"name\": \"predicciones\",\n  \"rows\": 24,\n  \"fields\": [\n    {\n      \"column\": \"mean\",\n      \"properties\": {\n        \"dtype\": \"number\",\n        \"std\": 41.30749605536673,\n        \"min\": 629.4127657392542,\n        \"max\": 768.183475454693,\n        \"num_unique_values\": 21,\n        \"samples\": [\n          768.183475454693,\n          677.5125734892272,\n          665.9022750668196\n        ],\n        \"semantic_type\": \"\",\n        \"description\": \"\"\n      }\n    },\n    {\n      \"column\": \"mean_se\",\n      \"properties\": {\n        \"dtype\": \"number\",\n        \"std\": 5.130903106000532,\n        \"min\": 14.132631848927284,\n        \"max\": 32.65826754205377,\n        \"num_unique_values\": 21,\n        \"samples\": [\n          32.65826754205377,\n          14.305411499683048,\n          15.46793754652178\n        ],\n        \"semantic_type\": \"\",\n        \"description\": \"\"\n      }\n    },\n    {\n      \"column\": \"mean_ci_lower\",\n      \"properties\": {\n        \"dtype\": \"number\",\n        \"std\": 39.769360792082,\n        \"min\": 580.2345222871195,\n        \"max\": 700.454373954824,\n        \"num_unique_values\": 21,\n        \"samples\": [\n          700.454373954824,\n          647.8449658547502,\n          633.8237359730667\n        ],\n        \"semantic_type\": \"\",\n        \"description\": \"\"\n      }\n    },\n    {\n      \"column\": \"mean_ci_upper\",\n      \"properties\": {\n        \"dtype\": \"number\",\n        \"std\": 45.359358790406645,\n        \"min\": 678.5910091913888,\n        \"max\": 835.9125769545622,\n        \"num_unique_values\": 21,\n        \"samples\": [\n          835.9125769545622,\n          707.1801811237042,\n          697.9808141605724\n        ],\n        \"semantic_type\": \"\",\n        \"description\": \"\"\n      }\n    },\n    {\n      \"column\": \"obs_ci_lower\",\n      \"properties\": {\n        \"dtype\": \"number\",\n        \"std\": 40.36347620986568,\n        \"min\": 477.67067323041624,\n        \"max\": 609.4560543835282,\n        \"num_unique_values\": 21,\n        \"samples\": [\n          609.4560543835282,\n          530.9270013728808,\n          518.809801838878\n        ],\n        \"semantic_type\": \"\",\n        \"description\": \"\"\n      }\n    },\n    {\n      \"column\": \"obs_ci_upper\",\n      \"properties\": {\n        \"dtype\": \"number\",\n        \"std\": 42.47317906779473,\n        \"min\": 781.1548582480921,\n        \"max\": 926.9108965258579,\n        \"num_unique_values\": 21,\n        \"samples\": [\n          926.9108965258579,\n          824.0981456055736,\n          812.9947482947612\n        ],\n        \"semantic_type\": \"\",\n        \"description\": \"\"\n      }\n    }\n  ]\n}"
            }
          },
          "metadata": {},
          "execution_count": 67
        }
      ]
    },
    {
      "cell_type": "code",
      "source": [
        "# Predicciones con intervalo de confianza del 95%\n",
        "# ==============================================================================\n",
        "predicciones = modelo.get_prediction(exog = X_train).summary_frame(alpha=0.05)\n",
        "predicciones['x'] = X_train[:, 1]\n",
        "predicciones['y'] = y_train\n",
        "predicciones = predicciones.sort_values('x')\n",
        "\n",
        "# Gráfico del modelo\n",
        "# ==============================================================================\n",
        "fig, ax = plt.subplots(figsize=(6, 3.84))\n",
        "\n",
        "ax.scatter(predicciones['x'], predicciones['y'], marker='o', color = \"gray\")\n",
        "ax.plot(predicciones['x'], predicciones[\"mean\"], linestyle='-', label=\"REGRESIÓN\")\n",
        "ax.plot(predicciones['x'], predicciones[\"mean_ci_lower\"], linestyle='--', color='red', label=\"95% CI\")\n",
        "ax.plot(predicciones['x'], predicciones[\"mean_ci_upper\"], linestyle='--', color='red')\n",
        "ax.fill_between(predicciones['x'], predicciones[\"mean_ci_lower\"], predicciones[\"mean_ci_upper\"], alpha=0.1)\n",
        "ax.legend();"
      ],
      "metadata": {
        "id": "-2yCuuTOSOzX",
        "colab": {
          "base_uri": "https://localhost:8080/",
          "height": 356
        },
        "outputId": "cd4fe947-8c8f-4273-bbd7-1472ebef6b0a"
      },
      "execution_count": null,
      "outputs": [
        {
          "output_type": "display_data",
          "data": {
            "text/plain": [
              "<Figure size 600x384 with 1 Axes>"
            ],
            "image/png": "[encoded data removed]"
          },
          "metadata": {}
        }
      ]
    }
  ]
}