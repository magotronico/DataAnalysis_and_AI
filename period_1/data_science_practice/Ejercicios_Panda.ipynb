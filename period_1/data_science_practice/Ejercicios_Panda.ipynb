{
  "cells": [
    {
      "cell_type": "markdown",
      "metadata": {
        "id": "view-in-github",
        "colab_type": "text"
      },
      "source": [
        "<a href=\"https://colab.research.google.com/github/magotronico/DataAnalysis_and_AI/blob/main/data_science_practice/Ejercicios_Panda.ipynb\" target=\"_parent\"><img src=\"https://colab.research.google.com/assets/colab-badge.svg\" alt=\"Open In Colab\"/></a>"
      ]
    },
    {
      "cell_type": "markdown",
      "id": "e5ea7b51",
      "metadata": {
        "id": "e5ea7b51"
      },
      "source": [
        "# Ejercicios con Pandas"
      ]
    },
    {
      "cell_type": "code",
      "execution_count": 2,
      "id": "eee31421",
      "metadata": {
        "id": "eee31421"
      },
      "outputs": [],
      "source": [
        "import pandas as pd"
      ]
    },
    {
      "cell_type": "markdown",
      "id": "bc435830",
      "metadata": {
        "id": "bc435830"
      },
      "source": [
        "1. Escribe un programa Pandas para sumar, restar, multiplicar y dividir dos Series Pandas.\n",
        "\n",
        "Serie de muestra: [2, 4, 6, 8, 10], [1, 3, 5, 7, 9]"
      ]
    },
    {
      "cell_type": "code",
      "execution_count": 3,
      "id": "d885abad",
      "metadata": {
        "colab": {
          "base_uri": "https://localhost:8080/"
        },
        "id": "d885abad",
        "outputId": "ac883482-529f-4758-b5db-98a5f1ec58c7"
      },
      "outputs": [
        {
          "output_type": "stream",
          "name": "stdout",
          "text": [
            "Addition:\n",
            "0     3\n",
            "1     7\n",
            "2    11\n",
            "3    15\n",
            "4    19\n",
            "dtype: int64\n",
            "Substraction:\n",
            "0    1\n",
            "1    1\n",
            "2    1\n",
            "3    1\n",
            "4    1\n",
            "dtype: int64\n",
            "Multiplication:\n",
            "0     2\n",
            "1    12\n",
            "2    30\n",
            "3    56\n",
            "4    90\n",
            "dtype: int64\n",
            "Division:\n",
            "0    2.000000\n",
            "1    1.333333\n",
            "2    1.200000\n",
            "3    1.142857\n",
            "4    1.111111\n",
            "dtype: float64\n"
          ]
        }
      ],
      "source": [
        "# Define Series\n",
        "s1 = pd.Series([2, 4, 6, 8, 10])\n",
        "s2 = pd.Series([1, 3, 5, 7, 9]) # Si no son del mismo tamaño, simplemente se suma 0 a los indices extras\n",
        "\n",
        "# Addition\n",
        "res = s1 + s2\n",
        "print(\"Addition:\")\n",
        "print(res)\n",
        "\n",
        "# Substraction\n",
        "res = s1 - s2\n",
        "print(\"Substraction:\")\n",
        "print(res)\n",
        "\n",
        "# Multiplication\n",
        "res = s1 * s2\n",
        "print(\"Multiplication:\")\n",
        "print(res)\n",
        "\n",
        "# Division\n",
        "res = s1 / s2\n",
        "print(\"Division:\")\n",
        "print(res)"
      ]
    },
    {
      "cell_type": "markdown",
      "id": "e72c4403",
      "metadata": {
        "id": "e72c4403"
      },
      "source": [
        "2. Escriba un programa de Pandas para comparar los elementos de las dos series de Pandas.\n",
        "\n",
        "Serie de muestra: [2, 4, 6, 8, 10], [1, 3, 5, 7, 10]"
      ]
    },
    {
      "cell_type": "code",
      "execution_count": 4,
      "id": "b37cefb9",
      "metadata": {
        "colab": {
          "base_uri": "https://localhost:8080/"
        },
        "id": "b37cefb9",
        "outputId": "6eab7316-8eb2-42f4-dbda-a171a00a750f"
      },
      "outputs": [
        {
          "output_type": "stream",
          "name": "stdout",
          "text": [
            "Equals:\n",
            "0    False\n",
            "1    False\n",
            "2    False\n",
            "3    False\n",
            "4     True\n",
            "dtype: bool\n",
            "Greater than:\n",
            "0     True\n",
            "1     True\n",
            "2     True\n",
            "3     True\n",
            "4    False\n",
            "dtype: bool\n",
            "Less than:\n",
            "0    False\n",
            "1    False\n",
            "2    False\n",
            "3    False\n",
            "4    False\n",
            "dtype: bool\n"
          ]
        }
      ],
      "source": [
        "s1 = pd.Series([2, 4, 6, 8, 10])\n",
        "s2 = pd.Series([1, 3, 5, 7, 10])\n",
        "\n",
        "# Equals\n",
        "print(\"Equals:\")\n",
        "res = s1 == s2\n",
        "print(res)\n",
        "\n",
        "# Greater than\n",
        "print(\"Greater than:\")\n",
        "res = s1 > s2\n",
        "print(res)\n",
        "\n",
        "# Less than\n",
        "print(\"Less than:\")\n",
        "res = s1 < s2\n",
        "print(res)"
      ]
    },
    {
      "cell_type": "markdown",
      "id": "2d3d5693",
      "metadata": {
        "id": "2d3d5693"
      },
      "source": [
        "3. Escriba un programa Pandas para ordenar una serie determinada."
      ]
    },
    {
      "cell_type": "code",
      "execution_count": 5,
      "id": "21486a49",
      "metadata": {
        "colab": {
          "base_uri": "https://localhost:8080/"
        },
        "id": "21486a49",
        "outputId": "0456173e-4994-44b7-ed6c-b055fa8f442f"
      },
      "outputs": [
        {
          "output_type": "stream",
          "name": "stdout",
          "text": [
            "0       100\n",
            "1       200\n",
            "3    300.12\n",
            "4       400\n",
            "2    python\n",
            "dtype: object\n"
          ]
        }
      ],
      "source": [
        "s = pd.Series(['100', '200', 'python', '300.12', '400'])\n",
        "res = s.sort_values()\n",
        "print(res)"
      ]
    },
    {
      "cell_type": "markdown",
      "id": "f8894d03",
      "metadata": {
        "id": "f8894d03"
      },
      "source": [
        "4. Escriba un programa Pandas para agregar algunos datos a una serie existente."
      ]
    },
    {
      "cell_type": "code",
      "execution_count": 6,
      "id": "0fed806a",
      "metadata": {
        "colab": {
          "base_uri": "https://localhost:8080/",
          "height": 303
        },
        "id": "0fed806a",
        "outputId": "75a887bd-e78a-49d5-fb32-88e755f1f940"
      },
      "outputs": [
        {
          "output_type": "execute_result",
          "data": {
            "text/plain": [
              "0       100\n",
              "1       200\n",
              "2    python\n",
              "3    300.12\n",
              "4       400\n",
              "5       500\n",
              "6       php\n",
              "dtype: object"
            ],
            "text/html": [
              "<div>\n",
              "<style scoped>\n",
              "    .dataframe tbody tr th:only-of-type {\n",
              "        vertical-align: middle;\n",
              "    }\n",
              "\n",
              "    .dataframe tbody tr th {\n",
              "        vertical-align: top;\n",
              "    }\n",
              "\n",
              "    .dataframe thead th {\n",
              "        text-align: right;\n",
              "    }\n",
              "</style>\n",
              "<table border=\"1\" class=\"dataframe\">\n",
              "  <thead>\n",
              "    <tr style=\"text-align: right;\">\n",
              "      <th></th>\n",
              "      <th>0</th>\n",
              "    </tr>\n",
              "  </thead>\n",
              "  <tbody>\n",
              "    <tr>\n",
              "      <th>0</th>\n",
              "      <td>100</td>\n",
              "    </tr>\n",
              "    <tr>\n",
              "      <th>1</th>\n",
              "      <td>200</td>\n",
              "    </tr>\n",
              "    <tr>\n",
              "      <th>2</th>\n",
              "      <td>python</td>\n",
              "    </tr>\n",
              "    <tr>\n",
              "      <th>3</th>\n",
              "      <td>300.12</td>\n",
              "    </tr>\n",
              "    <tr>\n",
              "      <th>4</th>\n",
              "      <td>400</td>\n",
              "    </tr>\n",
              "    <tr>\n",
              "      <th>5</th>\n",
              "      <td>500</td>\n",
              "    </tr>\n",
              "    <tr>\n",
              "      <th>6</th>\n",
              "      <td>php</td>\n",
              "    </tr>\n",
              "  </tbody>\n",
              "</table>\n",
              "</div><br><label><b>dtype:</b> object</label>"
            ]
          },
          "metadata": {},
          "execution_count": 6
        }
      ],
      "source": [
        "pd.concat([s, pd.Series([500, \"php\"])], ignore_index=True)"
      ]
    },
    {
      "cell_type": "markdown",
      "id": "040af05e",
      "metadata": {
        "id": "040af05e"
      },
      "source": [
        "5. Escriba un programa Pandas para cambiar el orden del índice de una serie dada"
      ]
    },
    {
      "cell_type": "code",
      "execution_count": 7,
      "id": "6c860d24",
      "metadata": {
        "colab": {
          "base_uri": "https://localhost:8080/"
        },
        "id": "6c860d24",
        "outputId": "bd35e80b-f03b-474d-ebce-23496872e350"
      },
      "outputs": [
        {
          "output_type": "stream",
          "name": "stdout",
          "text": [
            "z    0\n",
            "C    3\n",
            "b    0\n",
            "h    0\n",
            "a    0\n",
            "dtype: int64\n"
          ]
        }
      ],
      "source": [
        "s = pd.Series(data = [1,2,3,4,5], index = ['A', 'B', 'C','D','E'])\n",
        "s = s.reindex(['z','C','b','h','a'], fill_value=0)\n",
        "print(s)"
      ]
    },
    {
      "cell_type": "markdown",
      "id": "ab7185d3",
      "metadata": {
        "id": "ab7185d3"
      },
      "source": [
        "6. Escriba un programa Pandas para crear la media y la desviación estándar de los datos de una serie dada."
      ]
    },
    {
      "cell_type": "code",
      "execution_count": 8,
      "id": "f12f3a5b",
      "metadata": {
        "id": "f12f3a5b"
      },
      "outputs": [],
      "source": [
        "s = pd.Series(data = [1,2,3,4,5,6,7,8,9,5,3])"
      ]
    },
    {
      "cell_type": "code",
      "execution_count": 9,
      "id": "8ed19834",
      "metadata": {
        "colab": {
          "base_uri": "https://localhost:8080/"
        },
        "id": "8ed19834",
        "outputId": "6021bfec-053f-434d-943f-9fadeb9cc56b"
      },
      "outputs": [
        {
          "output_type": "stream",
          "name": "stdout",
          "text": [
            "4.818181818181818\n",
            "2.522624895547565\n"
          ]
        }
      ],
      "source": [
        "avg = s.mean()\n",
        "print(avg)\n",
        "std = s.std()\n",
        "print(std)"
      ]
    },
    {
      "cell_type": "markdown",
      "id": "ea1cfe71",
      "metadata": {
        "id": "ea1cfe71"
      },
      "source": [
        "7. Escriba un programa Pandas para obtener los elementos de una serie determinada que no están presentes en otra serie determinada"
      ]
    },
    {
      "cell_type": "code",
      "execution_count": 10,
      "id": "5039924e",
      "metadata": {
        "id": "5039924e"
      },
      "outputs": [],
      "source": [
        "sr1 = pd.Series([1, 2, 3, 4, 5])\n",
        "sr2 = pd.Series([2, 4, 6, 8, 10])"
      ]
    },
    {
      "cell_type": "code",
      "execution_count": 11,
      "id": "09ce478d",
      "metadata": {
        "colab": {
          "base_uri": "https://localhost:8080/"
        },
        "id": "09ce478d",
        "outputId": "718cedd0-06ee-4844-8b41-bee659b8233c"
      },
      "outputs": [
        {
          "output_type": "stream",
          "name": "stdout",
          "text": [
            "1    2\n",
            "3    4\n",
            "dtype: int64\n"
          ]
        }
      ],
      "source": [
        "res = sr1[sr1.isin(sr2)]\n",
        "print(res)"
      ]
    },
    {
      "cell_type": "markdown",
      "id": "177da790",
      "metadata": {
        "id": "177da790"
      },
      "source": [
        "8. Escriba un programa Pandas para obtener los elementos que no son comunes de dos series dadas"
      ]
    },
    {
      "cell_type": "code",
      "execution_count": 12,
      "id": "10774716",
      "metadata": {
        "colab": {
          "base_uri": "https://localhost:8080/"
        },
        "id": "10774716",
        "outputId": "7151fb02-8b6f-41cd-e615-0f9415ba8d95"
      },
      "outputs": [
        {
          "output_type": "stream",
          "name": "stdout",
          "text": [
            "0    1\n",
            "2    3\n",
            "4    5\n",
            "dtype: int64\n"
          ]
        }
      ],
      "source": [
        "res = sr1[~sr1.isin(sr2)]\n",
        "print(res)"
      ]
    },
    {
      "cell_type": "markdown",
      "id": "ca36a47c",
      "metadata": {
        "id": "ca36a47c"
      },
      "source": [
        "9. Escriba un programa Pandas para calcular los conteos de frecuencia de cada valor único de una serie dada."
      ]
    },
    {
      "cell_type": "code",
      "execution_count": 13,
      "id": "29709138",
      "metadata": {
        "colab": {
          "base_uri": "https://localhost:8080/"
        },
        "id": "29709138",
        "outputId": "db9074fb-aa23-45b1-8d70-989b5562af07"
      },
      "outputs": [
        {
          "output_type": "stream",
          "name": "stdout",
          "text": [
            "1    7\n",
            "5    5\n",
            "0    5\n",
            "6    4\n",
            "9    4\n",
            "4    4\n",
            "2    4\n",
            "8    3\n",
            "3    2\n",
            "7    2\n",
            "Name: count, dtype: int64\n"
          ]
        }
      ],
      "source": [
        "import numpy as np\n",
        "\n",
        "sA = pd.Series(np.take(list('0123456789'),np.random.randint(10,size=40)))\n",
        "counts = sA.value_counts()\n",
        "print(counts)"
      ]
    },
    {
      "cell_type": "markdown",
      "id": "373017a7",
      "metadata": {
        "id": "373017a7"
      },
      "source": [
        "10. Escriba un programa Pandas para mostrar el valor más frecuente en una serie dada y reemplace todo lo demás como 'Otro' en la serie."
      ]
    },
    {
      "cell_type": "code",
      "execution_count": 14,
      "id": "3dd6cb6c",
      "metadata": {
        "colab": {
          "base_uri": "https://localhost:8080/"
        },
        "id": "3dd6cb6c",
        "outputId": "63340262-cb41-49ac-e557-67ac003b9e52"
      },
      "outputs": [
        {
          "output_type": "stream",
          "name": "stdout",
          "text": [
            "0     3.0\n",
            "1     NaN\n",
            "2     NaN\n",
            "3     3.0\n",
            "4     3.0\n",
            "5     NaN\n",
            "6     NaN\n",
            "7     3.0\n",
            "8     3.0\n",
            "9     3.0\n",
            "10    NaN\n",
            "11    NaN\n",
            "12    NaN\n",
            "13    3.0\n",
            "14    NaN\n",
            "dtype: float64\n"
          ]
        }
      ],
      "source": [
        "sA = pd.Series(np.random.randint(1,5,[15]))\n",
        "sA[~sA.isin(sA.value_counts().index[:1])] = None\n",
        "print(sA)"
      ]
    },
    {
      "cell_type": "markdown",
      "id": "d749eb4d",
      "metadata": {
        "id": "d749eb4d"
      },
      "source": [
        "11. Escriba un programa Pandas para extraer elementos en posiciones dadas de una serie dada"
      ]
    },
    {
      "cell_type": "code",
      "execution_count": 15,
      "id": "0cf54397",
      "metadata": {
        "id": "0cf54397"
      },
      "outputs": [],
      "source": [
        "num_series = pd.Series(list('2390238923902390239023'))\n",
        "element_pos = [0, 2, 6, 11, 21]"
      ]
    },
    {
      "cell_type": "code",
      "execution_count": 16,
      "id": "411bc570",
      "metadata": {
        "colab": {
          "base_uri": "https://localhost:8080/"
        },
        "id": "411bc570",
        "outputId": "6c9d2636-d492-4b0f-cf68-01f286dce660"
      },
      "outputs": [
        {
          "output_type": "stream",
          "name": "stdout",
          "text": [
            "0     2\n",
            "2     9\n",
            "6     8\n",
            "11    0\n",
            "21    3\n",
            "dtype: object\n"
          ]
        }
      ],
      "source": [
        "res = num_series.take(element_pos)\n",
        "print(res)"
      ]
    },
    {
      "cell_type": "markdown",
      "id": "2d0b9374",
      "metadata": {
        "id": "2d0b9374"
      },
      "source": [
        "12. Escriba un programa Pandas que convierta el primer y último carácter de cada palabra a mayúsculas en cada palabra de una serie dada."
      ]
    },
    {
      "cell_type": "code",
      "execution_count": 17,
      "id": "0aa0500c",
      "metadata": {
        "id": "0aa0500c"
      },
      "outputs": [],
      "source": [
        "series1 = pd.Series(['php', 'python', 'java', 'c#'])"
      ]
    },
    {
      "cell_type": "code",
      "execution_count": 18,
      "id": "10bd0b8b",
      "metadata": {
        "colab": {
          "base_uri": "https://localhost:8080/"
        },
        "id": "10bd0b8b",
        "outputId": "8e4842d0-0802-4b15-de3e-9c468ce6b071"
      },
      "outputs": [
        {
          "output_type": "stream",
          "name": "stdout",
          "text": [
            "0       PhP\n",
            "1    PythoN\n",
            "2      JavA\n",
            "3        C#\n",
            "dtype: object\n"
          ]
        }
      ],
      "source": [
        "series1 = series1.map(lambda x: x[0].upper() + x[1:-1] + x[-1].upper())\n",
        "print(series1)"
      ]
    },
    {
      "cell_type": "markdown",
      "id": "9c6e1904",
      "metadata": {
        "id": "9c6e1904"
      },
      "source": [
        "13. Escriba un programa Pandas para convertir una serie de cadenas de fecha en una serie time."
      ]
    },
    {
      "cell_type": "code",
      "execution_count": 25,
      "id": "e6a3c63e",
      "metadata": {
        "colab": {
          "base_uri": "https://localhost:8080/"
        },
        "id": "e6a3c63e",
        "outputId": "1b65a5f2-546b-4e66-e3f7-3c3863c41df3"
      },
      "outputs": [
        {
          "output_type": "stream",
          "name": "stdout",
          "text": [
            "0   2015-01-01 00:00:00\n",
            "1   2016-10-02 00:00:00\n",
            "2   2018-03-07 00:00:00\n",
            "3   2014-05-06 00:00:00\n",
            "4   2016-04-12 00:00:00\n",
            "5   2019-04-06 11:20:00\n",
            "dtype: datetime64[ns]\n"
          ]
        }
      ],
      "source": [
        "date_series = pd.Series(['01 Jan 2015', '10-02-2016', '20180307', '2014/05/06', '2016-04-12', '2019-04-06T11:20'])\n",
        "\n",
        "print(pd.to_datetime(date_series, format='mixed'))"
      ]
    },
    {
      "cell_type": "markdown",
      "id": "e5172343",
      "metadata": {
        "id": "e5172343"
      },
      "source": [
        "14. Escriba un programa Pandas para obtener el día del mes, el día del año, el número de semana y el día de la semana de una serie dada de cadenas de fechas."
      ]
    },
    {
      "cell_type": "code",
      "execution_count": 31,
      "id": "7a399f1e",
      "metadata": {
        "id": "7a399f1e",
        "colab": {
          "base_uri": "https://localhost:8080/"
        },
        "outputId": "68fa8acf-6db3-4e50-b598-18acb3c5952a"
      },
      "outputs": [
        {
          "output_type": "stream",
          "name": "stdout",
          "text": [
            "Day of month:\n",
            "[1, 2, 7, 6, 12, 6]\n",
            "Day of year:\n",
            "[1, 276, 66, 126, 103, 96]\n"
          ]
        }
      ],
      "source": [
        "from dateutil.parser import parse\n",
        "\n",
        "data_series = date_series.map(lambda x: parse(x))\n",
        "print(\"Day of month:\")\n",
        "print(data_series.dt.day.tolist())\n",
        "print(\"Day of year:\")\n",
        "print(data_series.dt.dayofyear.tolist())\n"
      ]
    },
    {
      "cell_type": "markdown",
      "id": "39b0f22d",
      "metadata": {
        "id": "39b0f22d"
      },
      "source": [
        "15. Escriba un programa Pandas para filtrar palabras de una serie determinada que contengan al menos dos vocales."
      ]
    },
    {
      "cell_type": "code",
      "execution_count": 34,
      "id": "f12a55aa",
      "metadata": {
        "id": "f12a55aa",
        "colab": {
          "base_uri": "https://localhost:8080/"
        },
        "outputId": "cbd6dd91-a7a4-45ef-e61b-3a0c24067ccc"
      },
      "outputs": [
        {
          "output_type": "stream",
          "name": "stdout",
          "text": [
            "Original Series:\n",
            "0       Red\n",
            "1     Green\n",
            "2    Orange\n",
            "3      Pink\n",
            "4    Yellow\n",
            "5     White\n",
            "dtype: object\n",
            "\n",
            "Filtered words:\n",
            "1     Green\n",
            "2    Orange\n",
            "4    Yellow\n",
            "5     White\n",
            "dtype: object\n"
          ]
        }
      ],
      "source": [
        "color_series = pd.Series(['Red', 'Green', 'Orange', 'Pink', 'Yellow', 'White'])\n",
        "\n",
        "from collections import Counter\n",
        "print(\"Original Series:\")\n",
        "print(color_series)\n",
        "print(\"\\nFiltered words:\")\n",
        "result = color_series.map(lambda x: sum(Counter(x.lower()).get(i, 0) for i in list('aeiou')) >= 2)\n",
        "print(color_series[result])"
      ]
    },
    {
      "cell_type": "markdown",
      "id": "6cf717df",
      "metadata": {
        "id": "6cf717df"
      },
      "source": [
        "16. Escriba un programa Pandas para seleccionar las filas en las que la puntuación está entre 15 y 20"
      ]
    },
    {
      "cell_type": "code",
      "execution_count": 50,
      "id": "cd44cfac",
      "metadata": {
        "id": "cd44cfac"
      },
      "outputs": [],
      "source": [
        "exam_data = {'name': ['Anastasia', 'Dima', 'Katherine', 'James', 'Emily', 'Michael', 'Matthew', 'Laura', 'Kevin', 'Jonas'],\n",
        "'score': [12.5, 9, 16.5, np.nan, 9, 20, 14.5, np.nan, 8, 19],\n",
        "'attempts': [1, 3, 2, 3, 2, 3, 1, 1, 2, 1],\n",
        "'qualify': ['yes', 'no', 'yes', 'no', 'no', 'yes', 'yes', 'no', 'no', 'yes']}\n",
        "labels = ['a', 'b', 'c', 'd', 'e', 'f', 'g', 'h', 'i', 'j']"
      ]
    },
    {
      "cell_type": "code",
      "execution_count": 51,
      "id": "6dc96063",
      "metadata": {
        "id": "6dc96063",
        "colab": {
          "base_uri": "https://localhost:8080/"
        },
        "outputId": "3c0177c0-a162-4b72-c625-c939ea0c998f"
      },
      "outputs": [
        {
          "output_type": "stream",
          "name": "stdout",
          "text": [
            "Rows where score betqween 15 and 20 (inclusive):\n",
            "        name  score  attempts qualify\n",
            "c  Katherine   16.5         2     yes\n",
            "f    Michael   20.0         3     yes\n",
            "j      Jonas   19.0         1     yes\n"
          ]
        }
      ],
      "source": [
        "df = pd.DataFrame(exam_data, index=labels)\n",
        "print(\"Rows where score betqween 15 and 20 (inclusive):\")\n",
        "print(df[df['score'].between(15, 20)])"
      ]
    },
    {
      "cell_type": "markdown",
      "id": "96832200",
      "metadata": {
        "id": "96832200"
      },
      "source": [
        "17. Escriba un programa Pandas para ordenar el DataFrame primero por 'nombre' en orden descendente, luego por 'puntuación' en orden ascendente."
      ]
    },
    {
      "cell_type": "code",
      "execution_count": 52,
      "id": "9baaa47b",
      "metadata": {
        "id": "9baaa47b",
        "colab": {
          "base_uri": "https://localhost:8080/"
        },
        "outputId": "cd09671e-d508-45d2-9976-4a5a08917601"
      },
      "outputs": [
        {
          "output_type": "stream",
          "name": "stdout",
          "text": [
            "Sort by 'name' indescending order, then by 'score in ascending order':\n",
            "        name  score  attempts qualify\n",
            "f    Michael   20.0         3     yes\n",
            "g    Matthew   14.5         1     yes\n",
            "h      Laura    NaN         1      no\n",
            "i      Kevin    8.0         2      no\n",
            "c  Katherine   16.5         2     yes\n",
            "j      Jonas   19.0         1     yes\n",
            "d      James    NaN         3      no\n",
            "e      Emily    9.0         2      no\n",
            "b       Dima    9.0         3      no\n",
            "a  Anastasia   12.5         1     yes\n"
          ]
        }
      ],
      "source": [
        "df = df.sort_values(by=['name', 'score'], ascending=[False, True])\n",
        "print(\"Sort by 'name' indescending order, then by 'score in ascending order':\")\n",
        "print(df)"
      ]
    },
    {
      "cell_type": "markdown",
      "id": "cd3173d0",
      "metadata": {
        "id": "cd3173d0"
      },
      "source": [
        "18. Escriba un programa Pandas para reemplazar la columna 'qualify' que contiene los valores 'yes' y 'no' con True y False."
      ]
    },
    {
      "cell_type": "code",
      "execution_count": 53,
      "id": "aa609dbd",
      "metadata": {
        "id": "aa609dbd",
        "colab": {
          "base_uri": "https://localhost:8080/"
        },
        "outputId": "c382c3c2-380a-4cf3-8bdf-5a030c145edf"
      },
      "outputs": [
        {
          "output_type": "stream",
          "name": "stdout",
          "text": [
            "        name  score  attempts  qualify\n",
            "f    Michael   20.0         3     True\n",
            "g    Matthew   14.5         1     True\n",
            "h      Laura    NaN         1    False\n",
            "i      Kevin    8.0         2    False\n",
            "c  Katherine   16.5         2     True\n",
            "j      Jonas   19.0         1     True\n",
            "d      James    NaN         3    False\n",
            "e      Emily    9.0         2    False\n",
            "b       Dima    9.0         3    False\n",
            "a  Anastasia   12.5         1     True\n"
          ]
        }
      ],
      "source": [
        "df['qualify'] = df['qualify'].map({'yes': True, 'no': False})\n",
        "print(df)"
      ]
    },
    {
      "cell_type": "markdown",
      "id": "1674b9c9",
      "metadata": {
        "id": "1674b9c9"
      },
      "source": [
        "19. Escriba un programa Pandas para cambiar el nombre de las columnas de un DataFrame dado"
      ]
    },
    {
      "cell_type": "code",
      "execution_count": 55,
      "id": "684511f4",
      "metadata": {
        "id": "684511f4"
      },
      "outputs": [],
      "source": [
        "d = {'col1': [1, 2, 3], 'col2': [4, 5, 6], 'col3': [7, 8, 9]}\n",
        "df = pd.DataFrame(data=d)"
      ]
    },
    {
      "cell_type": "code",
      "execution_count": 56,
      "id": "2f8fd582",
      "metadata": {
        "id": "2f8fd582",
        "colab": {
          "base_uri": "https://localhost:8080/"
        },
        "outputId": "9c811efb-b584-4190-cdae-63bc45d2bfb6"
      },
      "outputs": [
        {
          "output_type": "stream",
          "name": "stdout",
          "text": [
            "New DataFrame after renaming columns: \n",
            "   Column1  Column2  Column3\n",
            "0        1        4        7\n",
            "1        2        5        8\n",
            "2        3        6        9\n"
          ]
        }
      ],
      "source": [
        "df.columns = ['Column1', 'Column2', 'Column3']\n",
        "df = df.rename(columns={'col1': 'Column1', 'col2': 'Column2', 'col3': 'Column3'})\n",
        "print(\"New DataFrame after renaming columns: \")\n",
        "print(df)"
      ]
    },
    {
      "cell_type": "markdown",
      "id": "510ab916",
      "metadata": {
        "id": "510ab916"
      },
      "source": [
        "20. Escriba un programa Pandas para cambiar el orden de las columnas de un DataFrame."
      ]
    },
    {
      "cell_type": "code",
      "execution_count": 59,
      "id": "ad593d7b",
      "metadata": {
        "id": "ad593d7b"
      },
      "outputs": [],
      "source": [
        "d = {'col1': [1, 4, 3, 4, 5], 'col2': [4, 5, 6, 7, 8], 'col3': [7, 8, 9, 0, 1]}\n",
        "df = pd.DataFrame(data=d)"
      ]
    },
    {
      "cell_type": "code",
      "execution_count": 62,
      "id": "feea2913",
      "metadata": {
        "id": "feea2913",
        "colab": {
          "base_uri": "https://localhost:8080/"
        },
        "outputId": "e80763a2-1485-4b57-86c4-f0dfc1923b46"
      },
      "outputs": [
        {
          "output_type": "stream",
          "name": "stdout",
          "text": [
            "   col3  col2  col1\n",
            "0     7     4     1\n",
            "1     8     5     4\n",
            "2     9     6     3\n",
            "3     0     7     4\n",
            "4     1     8     5\n"
          ]
        }
      ],
      "source": [
        "df = df[['col3', 'col2', 'col1']]\n",
        "# df.insert(0, 'col1', df.pop('col1'))\n",
        "print(df)"
      ]
    },
    {
      "cell_type": "markdown",
      "id": "068d2bbf",
      "metadata": {
        "id": "068d2bbf"
      },
      "source": [
        "21. Escriba un programa Pandas para escribir un DataFrame en un archivo CSV usando un separador \\t"
      ]
    },
    {
      "cell_type": "code",
      "execution_count": 63,
      "id": "780996a4",
      "metadata": {
        "id": "780996a4"
      },
      "outputs": [],
      "source": [
        "df.to_csv('df.csv', sep='\\t', index=False)"
      ]
    },
    {
      "cell_type": "markdown",
      "id": "d30a5b31",
      "metadata": {
        "id": "d30a5b31"
      },
      "source": [
        "22. Escriba un programa de Pandas para reemplazar todos los valores de NaN con cero en una columna de un DataFrame."
      ]
    },
    {
      "cell_type": "code",
      "execution_count": 82,
      "id": "93ea8f6c",
      "metadata": {
        "id": "93ea8f6c"
      },
      "outputs": [],
      "source": [
        "exam_data = {'name': ['Anastasia', 'Dima', 'Katherine', 'James', 'Emily', 'Michael', 'Matthew', 'Laura', 'Kevin', 'Jonas'],\n",
        "        'score': [12.5, 9, 16.5, np.nan, 9, 20, 14.5, np.nan, 8, 19],\n",
        "        'attempts': [1, 3, 2, 3, 2, 3, 1, 1, 2, 1],\n",
        "        'qualify': ['yes', 'no', 'yes', 'no', 'no', 'yes', 'yes', 'no', 'no', 'yes']}\n",
        "df = pd.DataFrame(exam_data)"
      ]
    },
    {
      "cell_type": "code",
      "execution_count": 83,
      "id": "3e492534",
      "metadata": {
        "id": "3e492534",
        "colab": {
          "base_uri": "https://localhost:8080/"
        },
        "outputId": "85546c24-cbf8-4915-d4ff-ad6751f2c3d5"
      },
      "outputs": [
        {
          "output_type": "stream",
          "name": "stdout",
          "text": [
            "        name  score  attempts qualify\n",
            "0  Anastasia   12.5         1     yes\n",
            "1       Dima    9.0         3      no\n",
            "2  Katherine   16.5         2     yes\n",
            "3      James    0.0         3      no\n",
            "4      Emily    9.0         2      no\n",
            "5    Michael   20.0         3     yes\n",
            "6    Matthew   14.5         1     yes\n",
            "7      Laura    0.0         1      no\n",
            "8      Kevin    8.0         2      no\n",
            "9      Jonas   19.0         1     yes\n"
          ]
        }
      ],
      "source": [
        "df.fillna(0, inplace=True)\n",
        "print(df)"
      ]
    },
    {
      "cell_type": "markdown",
      "id": "986f1cd8",
      "metadata": {
        "id": "986f1cd8"
      },
      "source": [
        "23. Escriba un programa Pandas para invertir el orden (filas, columnas) de un DataFrame dado."
      ]
    },
    {
      "cell_type": "code",
      "execution_count": 84,
      "id": "0dea39e1",
      "metadata": {
        "id": "0dea39e1"
      },
      "outputs": [],
      "source": [
        "df = pd.DataFrame({'W':[68,75,86,80,66],'X':[78,85,96,80,86], 'Y':[84,94,89,83,86],'Z':[86,97,96,72,83]})"
      ]
    },
    {
      "cell_type": "code",
      "execution_count": 85,
      "id": "18a41a2f",
      "metadata": {
        "id": "18a41a2f",
        "colab": {
          "base_uri": "https://localhost:8080/"
        },
        "outputId": "e6c5b821-35de-4fd5-c452-e6ed15750877"
      },
      "outputs": [
        {
          "output_type": "stream",
          "name": "stdout",
          "text": [
            "\n",
            "Revertir orden de columnas:\n",
            "    Z   Y   X   W\n",
            "0  86  84  78  68\n",
            "1  97  94  85  75\n",
            "2  96  89  96  86\n",
            "3  72  83  80  80\n",
            "4  83  86  86  66\n",
            "\n",
            "Revertir orden de filas:\n",
            "    W   X   Y   Z\n",
            "4  66  86  86  83\n",
            "3  80  80  83  72\n",
            "2  86  96  89  96\n",
            "1  75  85  94  97\n",
            "0  68  78  84  86\n",
            "\n",
            "Revertir orden de filas y reiniciar index:\n",
            "    W   X   Y   Z\n",
            "0  66  86  86  83\n",
            "1  80  80  83  72\n",
            "2  86  96  89  96\n",
            "3  75  85  94  97\n",
            "4  68  78  84  86\n"
          ]
        }
      ],
      "source": [
        "print(\"\\nRevertir orden de columnas:\")\n",
        "print(df.loc[:, ::-1])\n",
        "print(\"\\nRevertir orden de filas:\")\n",
        "print(df.loc[::-1])\n",
        "print(\"\\nRevertir orden de filas y reiniciar index:\")\n",
        "print(df.loc[::-1].reset_index(drop=True))"
      ]
    },
    {
      "cell_type": "markdown",
      "id": "878bf95d",
      "metadata": {
        "id": "878bf95d"
      },
      "source": [
        "24. Escriba un programa Pandas para crear DataFrames que contengan valores aleatorios, valores faltantes, valores de fecha y hora y valores mixtos."
      ]
    },
    {
      "cell_type": "code",
      "execution_count": 95,
      "id": "956c1e88",
      "metadata": {
        "id": "956c1e88",
        "colab": {
          "base_uri": "https://localhost:8080/"
        },
        "outputId": "f608a32d-508e-487c-b5ba-5230aa6924f3"
      },
      "outputs": [
        {
          "output_type": "stream",
          "name": "stdout",
          "text": [
            "                   A         B         C         D\n",
            "ZqgszYBfuL  0.125730  0.345584  0.189053  2.040919\n",
            "YT9l2dIrmO -0.132105  0.821618 -0.522748 -2.555665\n",
            "sIqjUAQP6A  0.640423  0.330437 -0.413064  0.418099\n",
            "nN571Qxycl  0.104900 -1.303157 -2.441467 -0.567770\n",
            "uvJFQ32W8t -0.535669  0.905356  1.799707 -0.452649\n",
            "45nDJRRgDg  0.361595  0.446375  1.144166 -0.215597\n",
            "7mB2GQE0KN  1.304000 -0.536953 -0.325423 -2.019986\n",
            "CzKGWKD1nB  0.947081  0.581118  0.773807 -0.231932\n",
            "E3BMeZBEfQ -0.703735  0.364572  0.281211 -0.865213\n",
            "NvVGdnqgFc -1.265421  0.294132 -0.553823  3.323000\n",
            "GRJCq3tZBx -0.623274  0.028422  0.977567  0.225787\n",
            "Q8WKgVWzwm  0.041326  0.546713 -0.310557 -0.352631\n",
            "8kElWLjgfb -2.325031 -0.736454 -0.328824 -0.281287\n",
            "1ZxgrBHEMM -0.218792 -0.162910 -0.792147 -0.668046\n",
            "MFB6YUdJ2M -1.245911 -0.482119  0.454958 -1.055151\n",
            "lFI7IogQ9I -0.732267  0.598846 -0.099198 -0.390801\n",
            "fcWsD5pWfa -0.544259  0.039722  0.545289  0.481945\n",
            "csDaLZFgZd -0.316300 -0.292457 -0.607186 -0.238554\n",
            "F8wBptodTy  0.411631 -0.781908  0.126828  0.957759\n",
            "9wWGMa1j7n  1.042513 -0.257192 -0.892274 -0.199802\n",
            "VBVspMarP4 -0.128535  0.008142  0.841465  0.024260\n",
            "C7rdQm8I7V  1.366463 -0.275603  0.188035  1.545821\n",
            "Qd0lfCgP84 -0.665195  1.294064  0.330571  0.545106\n",
            "51pXpdV8YM  0.351510  1.006724  0.410504 -0.505229\n",
            "7fgpeMcxFB  0.903470 -2.711162 -1.010758 -0.182839\n",
            "KX3ZUHKXDz  0.094012 -1.889013  0.783181  0.540525\n",
            "Z8xLc7Ycx2 -0.743499 -0.174772  2.056703  1.935088\n",
            "NIhSMlDIIr -0.921725 -0.422190 -1.638443 -0.269620\n",
            "FgKab4ZPDm -0.457726  0.213643 -1.729411 -0.243559\n",
            "AplCGYHhh8  0.220195  0.217322 -1.504831  1.002314\n"
          ]
        }
      ],
      "source": [
        "df1 = pd._testing.makeDataFrame()\n",
        "print(df1)\n",
        "\n",
        "# print(\"\\nDataFrame: Contains missing values:\")\n",
        "# df2 = pd._testing.makeMissingDataframe()\n",
        "# print(df2)\n",
        "\n",
        "# print(\"\\nDataFrame: Contains datetime values:\")\n",
        "# df3 = pd._testing.makeTimeDataFrame()\n",
        "# print(df3)\n",
        "\n",
        "# print(\"\\nDataFrame: Contains mixed values:\")\n",
        "# df4 = pd._testing.makeMixedDataFrame()\n",
        "# print(df4)"
      ]
    },
    {
      "cell_type": "markdown",
      "id": "5cdfbe1c",
      "metadata": {
        "id": "5cdfbe1c"
      },
      "source": [
        "25. Escribir en Pandas un programa para modificar el indexado de un DataFrame"
      ]
    },
    {
      "cell_type": "code",
      "execution_count": 111,
      "id": "37e979a9",
      "metadata": {
        "id": "37e979a9"
      },
      "outputs": [],
      "source": [
        "Students = pd.DataFrame({'Admission_id': ['AB101', 'AB102', 'AB103',\n",
        "                                          'AB104', 'AB105'],\n",
        "                         'Student_id': ['21GFG1', '21GFG2', '21GFG3',\n",
        "                                        '21GFG4', '21GFG5'],\n",
        "                         'Student_Name': ['Akhil', 'Mahesh Babu', 'Warner',\n",
        "                                          'Virat', 'ABD'],\n",
        "                         'Height': [5.9, 6.2, 5.6, 5.8, 5.10]})"
      ]
    },
    {
      "cell_type": "code",
      "execution_count": 112,
      "id": "7b772393",
      "metadata": {
        "id": "7b772393",
        "colab": {
          "base_uri": "https://localhost:8080/"
        },
        "outputId": "20d5b4e5-8f4e-436e-a392-4633062e5155"
      },
      "outputs": [
        {
          "output_type": "stream",
          "name": "stdout",
          "text": [
            "           Admission_id Student_Name  Height\n",
            "Student_id                                  \n",
            "21GFG1            AB101        Akhil     5.9\n",
            "21GFG2            AB102  Mahesh Babu     6.2\n",
            "21GFG3            AB103       Warner     5.6\n",
            "21GFG4            AB104        Virat     5.8\n",
            "21GFG5            AB105          ABD     5.1\n"
          ]
        }
      ],
      "source": [
        "Students.set_index('Student_id', inplace=True)\n",
        "print(Students)"
      ]
    },
    {
      "cell_type": "code",
      "source": [
        "print(Students.loc['21GFG2'], isinstance(Students.loc['21GFG2'], pd.Series))\n"
      ],
      "metadata": {
        "colab": {
          "base_uri": "https://localhost:8080/"
        },
        "id": "4U5tP9kavvgL",
        "outputId": "cc10da30-c4da-4fcb-b53c-c563e0deacaf"
      },
      "id": "4U5tP9kavvgL",
      "execution_count": 115,
      "outputs": [
        {
          "output_type": "stream",
          "name": "stdout",
          "text": [
            "Admission_id          AB102\n",
            "Student_Name    Mahesh Babu\n",
            "Height                  6.2\n",
            "Name: 21GFG2, dtype: object True\n"
          ]
        }
      ]
    }
  ],
  "metadata": {
    "kernelspec": {
      "display_name": "Python 3 (ipykernel)",
      "language": "python",
      "name": "python3"
    },
    "language_info": {
      "codemirror_mode": {
        "name": "ipython",
        "version": 3
      },
      "file_extension": ".py",
      "mimetype": "text/x-python",
      "name": "python",
      "nbconvert_exporter": "python",
      "pygments_lexer": "ipython3",
      "version": "3.9.7"
    },
    "colab": {
      "provenance": [],
      "include_colab_link": true
    }
  },
  "nbformat": 4,
  "nbformat_minor": 5
}