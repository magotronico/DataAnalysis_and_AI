{
  "nbformat": 4,
  "nbformat_minor": 0,
  "metadata": {
    "colab": {
      "provenance": []
    },
    "kernelspec": {
      "name": "python3",
      "display_name": "Python 3"
    },
    "language_info": {
      "name": "python"
    }
  },
  "cells": [
    {
      "cell_type": "markdown",
      "source": [
        "# Clasificador de un limon\n",
        "Este código solo toma en consideración una ponderación sin pesos para obtener el porcentage de certeza sobre la clasificación. En el código se incluye una variable `weights` que nos sirve para una implementación futura y que podría ser más preciso.\n",
        "\n",
        "Para ser considerado un limon, consideramos que el resultado => 80%.\n",
        "\n",
        "---\n",
        "**Resultados**\n",
        "* Pera: 53.85%\n",
        "* kiwi:72.73%\n",
        "* uva: 46.15%\n",
        "* sandia: 30.76%\n",
        "* fresa: 23.07%\n",
        "* naranja: 61.53%\n",
        "* mango : 46.15%\n",
        "* banana: 15.38%\n",
        "\n",
        "---\n",
        "\n",
        "**Equipo 2**\n",
        "* Dilan González\n",
        "*   Carolina Murillo\n",
        "*   Karim Martínez\n",
        "* André Zenteno\n",
        "\n"
      ],
      "metadata": {
        "id": "-flfWmsLn2P4"
      }
    },
    {
      "cell_type": "code",
      "execution_count": null,
      "metadata": {
        "colab": {
          "base_uri": "https://localhost:8080/"
        },
        "id": "Hw7h3EFHitlk",
        "outputId": "1f62e2fa-2b71-4f4a-ff30-39b3935adb20"
      },
      "outputs": [
        {
          "output_type": "stream",
          "name": "stdout",
          "text": [
            "Q1 ¿Es una fruta? (si,no): si\n",
            "Q2 ¿Qué color tiene? [verde (v), amarill(a), ninguno(na)]: na\n",
            "Q3 ¿El aroma de la fruta es cítrico y fresco? (si,no): no\n",
            "Q4 ¿La fruta tiene una forma redonda o ligeramente ovalada? (si,no): si\n",
            "Q5 ¿La cáscara es lisa y brillante al tacto? (si,no): no\n",
            "Q6 ¿Al cortar la fruta, el jugo tiene un sabor ácido y refrescante? (si,no): si\n",
            "Q7 ¿La pulpa es de color verde claro o amarillo pálido? (si,no): si\n",
            "Q8 ¿Hay pequeñas semillas dentro de la fruta? (si,no): si\n",
            "Q9 ¿La fruta es más pequeña que un limón amarillo? (si,no): si\n",
            "Q10 ¿La cáscara es relativamente delgada? (si,no): si\n",
            "Q11 ¿La fruta es jugosa y libera mucho líquido al exprimirla? (si,no): si\n",
            "\n",
            "Estamos 72.72727272727273% seguros que la fruta que pensaste es un limón.\n"
          ]
        }
      ],
      "source": [
        "class Quiz:\n",
        "    def __init__(self, questions, answers, weights):\n",
        "        self.questions = questions\n",
        "        self.answers = answers\n",
        "        self.weights = weights\n",
        "        self.bad_answer = 0\n",
        "        self.good_answer = 0\n",
        "\n",
        "    def ask_questions(self):\n",
        "        for n, question in enumerate(self.questions):\n",
        "            answer = input(f\"Q{n+1} {question}: \")\n",
        "            answer = answer.lower()\n",
        "\n",
        "            if answer in self.answers[n]:\n",
        "                self.good_answer += 1\n",
        "            else:\n",
        "                self.bad_answer += 1\n",
        "\n",
        "    def calculate_confidence(self):\n",
        "        if len(self.questions) > 0:\n",
        "            return self.good_answer / len(self.questions) * 100\n",
        "        else:\n",
        "            return 0\n",
        "\n",
        "    def display_result(self):\n",
        "        confidence = self.calculate_confidence()\n",
        "        if confidence >= 80:\n",
        "          print(\"\\nTu fruta es un limón.\")\n",
        "        else:\n",
        "          print(\"\\nTu fruta no es un limón.\n",
        "\n",
        "        print(f\"Estamos {confidence}% seguros de nuestra classificacion.\")\n",
        "\n",
        "if __name__ == \"__main__\":\n",
        "    questions = [\n",
        "        \"¿Es una fruta? (si,no)\",\n",
        "        \"¿Qué color tiene? [verde (v), amarill(a), ninguno(na)]\",\n",
        "        \"¿El aroma de la fruta es cítrico y fresco? (si,no)\",\n",
        "        \"¿La fruta tiene una forma redonda o ligeramente ovalada? (si,no)\",\n",
        "        \"¿La cáscara es lisa y brillante al tacto? (si,no)\",\n",
        "        \"¿Al cortar la fruta, el jugo tiene un sabor ácido y refrescante? (si,no)\",\n",
        "        \"¿La pulpa es de color verde claro o amarillo pálido? (si,no)\",\n",
        "        \"¿Hay pequeñas semillas dentro de la fruta? (si,no)\",\n",
        "        \"¿La fruta es más pequeña que un limón amarillo? (si,no)\",\n",
        "        \"¿La cáscara es relativamente delgada? (si,no)\",\n",
        "        \"¿La fruta es jugosa y libera mucho líquido al exprimirla? (si,no)\",\n",
        "    ]\n",
        "\n",
        "    answers = [\n",
        "        [\"si\"],\n",
        "        [\"v\", \"a\"],\n",
        "        [\"si\"],\n",
        "        [\"si\"],\n",
        "        [\"si\"],\n",
        "        [\"si\"],\n",
        "        [\"si\"],\n",
        "        [\"si\"],\n",
        "        [\"si\"],\n",
        "        [\"si\"],\n",
        "        [\"si\"]\n",
        "    ]\n",
        "\n",
        "    weights = [\n",
        "        1.0,\n",
        "        1.0,\n",
        "        1.0,\n",
        "        1.0,\n",
        "        1.0,\n",
        "        1.0,\n",
        "        1.0,\n",
        "        1.0,\n",
        "        1.0,\n",
        "        1.0,\n",
        "        1.0\n",
        "    ]\n",
        "\n",
        "    quiz = Quiz(questions, answers, weights)\n",
        "    quiz.ask_questions()\n",
        "    quiz.display_result()\n"
      ]
    }
  ]
}