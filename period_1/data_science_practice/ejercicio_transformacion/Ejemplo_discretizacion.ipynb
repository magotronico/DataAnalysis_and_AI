{
 "cells": [
  {
   "cell_type": "code",
   "execution_count": 5,
   "id": "5e6aa395",
   "metadata": {},
   "outputs": [],
   "source": [
    "import pandas as pd\n",
    "import numpy as np\n",
    "import matplotlib.pyplot as plt"
   ]
  },
  {
   "cell_type": "code",
   "execution_count": 6,
   "id": "6d4dc88e",
   "metadata": {},
   "outputs": [
    {
     "data": {
      "text/html": [
       "<div>\n",
       "<style scoped>\n",
       "    .dataframe tbody tr th:only-of-type {\n",
       "        vertical-align: middle;\n",
       "    }\n",
       "\n",
       "    .dataframe tbody tr th {\n",
       "        vertical-align: top;\n",
       "    }\n",
       "\n",
       "    .dataframe thead th {\n",
       "        text-align: right;\n",
       "    }\n",
       "</style>\n",
       "<table border=\"1\" class=\"dataframe\">\n",
       "  <thead>\n",
       "    <tr style=\"text-align: right;\">\n",
       "      <th></th>\n",
       "      <th>Survived</th>\n",
       "      <th>Age</th>\n",
       "    </tr>\n",
       "  </thead>\n",
       "  <tbody>\n",
       "    <tr>\n",
       "      <th>0</th>\n",
       "      <td>0</td>\n",
       "      <td>34.5</td>\n",
       "    </tr>\n",
       "    <tr>\n",
       "      <th>1</th>\n",
       "      <td>1</td>\n",
       "      <td>47.0</td>\n",
       "    </tr>\n",
       "    <tr>\n",
       "      <th>2</th>\n",
       "      <td>0</td>\n",
       "      <td>62.0</td>\n",
       "    </tr>\n",
       "    <tr>\n",
       "      <th>3</th>\n",
       "      <td>0</td>\n",
       "      <td>27.0</td>\n",
       "    </tr>\n",
       "    <tr>\n",
       "      <th>4</th>\n",
       "      <td>1</td>\n",
       "      <td>22.0</td>\n",
       "    </tr>\n",
       "  </tbody>\n",
       "</table>\n",
       "</div>"
      ],
      "text/plain": [
       "   Survived   Age\n",
       "0         0  34.5\n",
       "1         1  47.0\n",
       "2         0  62.0\n",
       "3         0  27.0\n",
       "4         1  22.0"
      ]
     },
     "execution_count": 6,
     "metadata": {},
     "output_type": "execute_result"
    }
   ],
   "source": [
    "data = pd.read_csv('titanic-1.csv',usecols=['Age','Survived'])\n",
    "data.head()"
   ]
  },
  {
   "cell_type": "code",
   "execution_count": 7,
   "id": "3e96aeb5",
   "metadata": {},
   "outputs": [
    {
     "data": {
      "text/plain": [
       "np.int64(86)"
      ]
     },
     "execution_count": 7,
     "metadata": {},
     "output_type": "execute_result"
    }
   ],
   "source": [
    "data['Age'].isnull().sum()"
   ]
  },
  {
   "cell_type": "code",
   "execution_count": 8,
   "id": "b1d88b3f",
   "metadata": {},
   "outputs": [],
   "source": [
    "data['Age']=np.where(data['Age'].isnull(),data['Age'].mean(),data['Age'])"
   ]
  },
  {
   "cell_type": "code",
   "execution_count": 9,
   "id": "d8e965df",
   "metadata": {},
   "outputs": [
    {
     "data": {
      "text/plain": [
       "np.int64(0)"
      ]
     },
     "execution_count": 9,
     "metadata": {},
     "output_type": "execute_result"
    }
   ],
   "source": [
    "data['Age'].isnull().sum()"
   ]
  },
  {
   "cell_type": "code",
   "execution_count": 10,
   "id": "2fcd0b3f",
   "metadata": {},
   "outputs": [
    {
     "data": {
      "text/plain": [
       "<Axes: ylabel='Frequency'>"
      ]
     },
     "execution_count": 10,
     "metadata": {},
     "output_type": "execute_result"
    },
    {
     "data": {
      "image/png": "[encoded data removed]",
      "text/plain": [
       "<Figure size 640x480 with 1 Axes>"
      ]
     },
     "metadata": {},
     "output_type": "display_data"
    }
   ],
   "source": [
    "data['Age'].plot.hist(bins=30)"
   ]
  },
  {
   "cell_type": "code",
   "execution_count": 11,
   "id": "ef4f0115",
   "metadata": {},
   "outputs": [],
   "source": [
    "maxrange = int(np.ceil(max(data['Age'])))\n",
    "minrange = int(np.floor(min(data['Age'])))\n",
    "ageRange = maxrange - minrange\n",
    "bins = 10\n",
    "binwidth = int(np.round(ageRange/bins))"
   ]
  },
  {
   "cell_type": "code",
   "execution_count": 12,
   "id": "0013ef28",
   "metadata": {},
   "outputs": [
    {
     "name": "stdout",
     "output_type": "stream",
     "text": [
      "Rango max: 76\n",
      "Rango min: 0\n",
      "Rango: 76\n",
      "Ancho de los grupos: 8\n"
     ]
    }
   ],
   "source": [
    "print(\"Rango max:\",maxrange)\n",
    "print(\"Rango min:\",minrange)\n",
    "print(\"Rango:\",ageRange)\n",
    "print(\"Ancho de los grupos:\",binwidth)"
   ]
  },
  {
   "cell_type": "code",
   "execution_count": 13,
   "id": "0203fa3b",
   "metadata": {},
   "outputs": [
    {
     "data": {
      "text/plain": [
       "[0, 8, 16, 24, 32, 40, 48, 56, 64, 72, 80]"
      ]
     },
     "execution_count": 13,
     "metadata": {},
     "output_type": "execute_result"
    }
   ],
   "source": [
    "intervalos = [ age for age in range(minrange, maxrange+binwidth, binwidth)]\n",
    "intervalos"
   ]
  },
  {
   "cell_type": "code",
   "execution_count": 14,
   "id": "369f169f",
   "metadata": {},
   "outputs": [
    {
     "data": {
      "text/plain": [
       "['gpoA',\n",
       " 'gpoB',\n",
       " 'gpoC',\n",
       " 'gpoD',\n",
       " 'gpoE',\n",
       " 'gpoF',\n",
       " 'gpoG',\n",
       " 'gpoH',\n",
       " 'gpoI',\n",
       " 'gpoJ']"
      ]
     },
     "execution_count": 14,
     "metadata": {},
     "output_type": "execute_result"
    }
   ],
   "source": [
    "binlabels = [\"gpoA\",'gpoB','gpoC','gpoD','gpoE','gpoF','gpoG','gpoH','gpoI','gpoJ']\n",
    "binlabels"
   ]
  },
  {
   "cell_type": "code",
   "execution_count": 15,
   "id": "e4a5c0c0",
   "metadata": {},
   "outputs": [],
   "source": [
    "data[\"age_categ\"]=pd.cut(data[\"Age\"],bins = \n",
    "                         intervalos, labels = binlabels, include_lowest=True)"
   ]
  },
  {
   "cell_type": "code",
   "execution_count": 16,
   "id": "09e892a3",
   "metadata": {},
   "outputs": [
    {
     "data": {
      "text/plain": [
       "0      gpoE\n",
       "1      gpoF\n",
       "2      gpoH\n",
       "3      gpoD\n",
       "4      gpoC\n",
       "       ... \n",
       "413    gpoD\n",
       "414    gpoE\n",
       "415    gpoE\n",
       "416    gpoD\n",
       "417    gpoD\n",
       "Name: age_categ, Length: 418, dtype: category\n",
       "Categories (10, object): ['gpoA' < 'gpoB' < 'gpoC' < 'gpoD' ... 'gpoG' < 'gpoH' < 'gpoI' < 'gpoJ']"
      ]
     },
     "execution_count": 16,
     "metadata": {},
     "output_type": "execute_result"
    }
   ],
   "source": [
    "data[\"age_categ\"]"
   ]
  },
  {
   "cell_type": "code",
   "execution_count": 17,
   "id": "54572a79",
   "metadata": {},
   "outputs": [
    {
     "name": "stderr",
     "output_type": "stream",
     "text": [
      "C:\\Users\\dilan\\AppData\\Local\\Temp\\ipykernel_17412\\2378944603.py:1: FutureWarning: The default of observed=False is deprecated and will be changed to True in a future version of pandas. Pass observed=False to retain current behavior or observed=True to adopt the future default and silence this warning.\n",
      "  data.groupby(\"age_categ\")['Age'].count().plot.bar()\n"
     ]
    },
    {
     "data": {
      "text/plain": [
       "Text(0, 0.5, 'conteo de observaciones')"
      ]
     },
     "execution_count": 17,
     "metadata": {},
     "output_type": "execute_result"
    },
    {
     "data": {
      "image/png": "[encoded data removed]",
      "text/plain": [
       "<Figure size 640x480 with 1 Axes>"
      ]
     },
     "metadata": {},
     "output_type": "display_data"
    }
   ],
   "source": [
    "data.groupby(\"age_categ\")['Age'].count().plot.bar()\n",
    "plt.xticks(rotation=60)\n",
    "plt.ylabel('conteo de observaciones')"
   ]
  }
 ],
 "metadata": {
  "kernelspec": {
   "display_name": "Python 3 (ipykernel)",
   "language": "python",
   "name": "python3"
  },
  "language_info": {
   "codemirror_mode": {
    "name": "ipython",
    "version": 3
   },
   "file_extension": ".py",
   "mimetype": "text/x-python",
   "name": "python",
   "nbconvert_exporter": "python",
   "pygments_lexer": "ipython3",
   "version": "3.11.9"
  }
 },
 "nbformat": 4,
 "nbformat_minor": 5
}
