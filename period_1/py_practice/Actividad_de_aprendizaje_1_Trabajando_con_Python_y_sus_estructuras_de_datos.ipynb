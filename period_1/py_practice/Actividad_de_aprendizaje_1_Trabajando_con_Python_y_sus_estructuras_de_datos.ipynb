{
  "cells": [
    {
      "cell_type": "markdown",
      "metadata": {
        "id": "0HTh7Wb7V43N"
      },
      "source": [
        "# Actividad de aprendizaje 1: Trabajando con Python y sus estructuras de datos\n",
        "\n",
        "This notebook aims to resolve a set of instructions in order to practice as part of an assigment.\n",
        "\n",
        "To make this notebook professional, I will use PEP 8, PEP  484 and PEP 257.\n",
        "\n",
        "**Instructions:**\n",
        "1. Una función para obtener la lista de palabras del archivo\n",
        "2. Una función que reciba la lista de palabras y obtenga la cantidad de palabras aproximadas que tiene el archivo\n",
        "3. Una función que reciba la lista de palabras y obtenga el promedio de letras que tienen las palabras\n",
        "4. Una función que reciba la lista de palabras y regrese una tupla con dos valores: el primero representa la cantidad de palabras que comienzan con una vocal y el segundo representa la cantidad de palabras que comienzan con una consonante.\n",
        "5. Una función que reciba la lista de palabras y regrese un diccionario donde las llaves son las letras del abecedario y cada elemento una lista de las palabras que comienzan con dicha letra.\n",
        "6. Una función que reciba el texto en formato cadena y regrese el conteo de los signos de puntuación que se utilizaron.\n",
        "\n",
        "---\n",
        "Dilan Gonzalez Castañeda A00831905"
      ]
    },
    {
      "cell_type": "markdown",
      "metadata": {
        "id": "A2SIoTIwWomU"
      },
      "source": [
        "## Load file"
      ]
    },
    {
      "cell_type": "code",
      "execution_count": 3,
      "metadata": {
        "colab": {
          "base_uri": "https://localhost:8080/"
        },
        "id": "O3akwy5yWqxU",
        "outputId": "99ac942b-7e45-44f3-8123-4150c075f7cf"
      },
      "outputs": [
        {
          "name": "stdout",
          "output_type": "stream",
          "text": [
            "edicado este libro a una persona mayor. Tengo \n",
            "una seÃ±a excusa: esta persona mayor es el mejor amig\n"
          ]
        }
      ],
      "source": [
        "def load_file(file_name: str = 'Fragmento El Principito.txt') -> str:\n",
        "  \"\"\"\"\n",
        "  Load a file and return the text.\n",
        "  \"\"\"\n",
        "\n",
        "  file = open(file_name, 'r')\n",
        "  text = file.read()\n",
        "  file.close()\n",
        "  return text\n",
        "\n",
        "if __name__ == '__main__':\n",
        "  text = load_file()\n",
        "  print(text[100:200])"
      ]
    },
    {
      "cell_type": "markdown",
      "metadata": {
        "id": "R16s-vxEWi9g"
      },
      "source": [
        "## List of words"
      ]
    },
    {
      "cell_type": "code",
      "execution_count": 4,
      "metadata": {
        "colab": {
          "base_uri": "https://localhost:8080/"
        },
        "id": "m1UMeoZNVX3n",
        "outputId": "0bbc05d7-4c93-4cae-b062-eb48251f3085"
      },
      "outputs": [
        {
          "name": "stdout",
          "output_type": "stream",
          "text": [
            "['el', 'principito', 'antoine', 'de', 'saintexupary', 'a', 'leon', 'werth', 'pido', 'perda3n', 'a', 'los', 'niaos', 'por', 'haber', 'dedicado', 'este', 'libro', 'a', 'una', 'persona', 'mayor', 'tengo', 'una', 'seaa', 'excusa', 'esta', 'persona', 'mayor', 'es', 'el', 'mejor', 'amigo', 'que', 'tengo', 'en', 'el', 'mundo', 'pero', 'tengo', 'otra', 'excusa', 'esta', 'persona', 'mayor', 'es', 'capaz', 'de', 'comprenderlo', 'todo']\n"
          ]
        }
      ],
      "source": [
        "import unicodedata\n",
        "from typing import List\n",
        "\n",
        "def lst_words(text: str) -> List[str]:\n",
        "  \"\"\"\n",
        "  Return a list of words.\n",
        "  \"\"\"\n",
        "  # Lowercase text\n",
        "  text = text.lower()\n",
        "\n",
        "  # Normalize text to remove accents and diacritics\n",
        "  text = unicodedata.normalize('NFKD', text)\n",
        "  text = ''.join([c for c in text if not unicodedata.combining(c)])\n",
        "\n",
        "  # Remove special characters (only keep alphanumeric and spaces)\n",
        "  text = ''.join([c for c in text if c.isalnum() or c.isspace()])\n",
        "\n",
        "  # Remove extra whitespace\n",
        "  text = text.strip()\n",
        "\n",
        "  # Split text into words\n",
        "  words = text.split()\n",
        "\n",
        "  # Remove empty strings\n",
        "  words = [word for word in words if word != \"\"]\n",
        "\n",
        "  return words\n",
        "\n",
        "\n",
        "if __name__ == '__main__':\n",
        "  words = lst_words(text)\n",
        "  print(words[:50])"
      ]
    },
    {
      "cell_type": "markdown",
      "metadata": {
        "id": "9I7tYdqNZol1"
      },
      "source": [
        "## Amount of words"
      ]
    },
    {
      "cell_type": "code",
      "execution_count": 5,
      "metadata": {
        "colab": {
          "base_uri": "https://localhost:8080/"
        },
        "id": "krW3l2LSZlEs",
        "outputId": "902b6bae-3bb6-4375-af97-699b5a5357cc"
      },
      "outputs": [
        {
          "name": "stdout",
          "output_type": "stream",
          "text": [
            "Total amount of words: 5658\n"
          ]
        }
      ],
      "source": [
        "def calc_words(words: List[str]) -> int:\n",
        "  \"\"\"\n",
        "  Return the amount of words.\n",
        "  \"\"\"\n",
        "  return len(words)\n",
        "\n",
        "if __name__ == '__main__':\n",
        "  amount_words = calc_words(words)\n",
        "  print(f\"Total amount of words: {amount_words}\")"
      ]
    },
    {
      "cell_type": "markdown",
      "metadata": {
        "id": "Qr8lobgMZxEs"
      },
      "source": [
        "## Average amount of letters per word"
      ]
    },
    {
      "cell_type": "code",
      "execution_count": 6,
      "metadata": {
        "colab": {
          "base_uri": "https://localhost:8080/"
        },
        "id": "K0_m2-0sZvdz",
        "outputId": "d338867c-6e8b-4bd6-c7b5-a4e06f96e669"
      },
      "outputs": [
        {
          "name": "stdout",
          "output_type": "stream",
          "text": [
            "Amount the letters per word: 4.606751502297632\n"
          ]
        }
      ],
      "source": [
        "def avg_letters(words: List[str]) -> float:\n",
        "  \"\"\"\n",
        "  Return the average\n",
        "  \"\"\"\n",
        "  # Calculate the total number of letters\n",
        "  total_letters = sum(len(word) for word in words)\n",
        "\n",
        "  # Calculate the average\n",
        "  avg_letters = total_letters / calc_words(words)\n",
        "\n",
        "  return avg_letters\n",
        "\n",
        "if __name__ == '__main__':\n",
        "  avg_letters = avg_letters(words)\n",
        "  print(f\"Amount the letters per word: {avg_letters}\")"
      ]
    },
    {
      "cell_type": "markdown",
      "metadata": {
        "id": "YpURiDD4aOG5"
      },
      "source": [
        "## Words starting with vowel or consonant"
      ]
    },
    {
      "cell_type": "code",
      "execution_count": 7,
      "metadata": {
        "colab": {
          "base_uri": "https://localhost:8080/"
        },
        "id": "CBLiafSbafWX",
        "outputId": "73026554-2107-423e-e31b-8513e34a4b7b"
      },
      "outputs": [
        {
          "name": "stdout",
          "output_type": "stream",
          "text": [
            "Words starting with vowel: 1511\n",
            "Words starting with consonant: 4147\n"
          ]
        }
      ],
      "source": [
        "from typing import Tuple, List\n",
        "\n",
        "def starts_v_or_c(words: List[str]) -> Tuple:\n",
        "  \"\"\"\n",
        "  Return a tuple with the amount of words starting with vowel and consonant\n",
        "  \"\"\"\n",
        "  # Iterate over words\n",
        "  one_hot = [1 if word[0] in 'aeiou' else 0 for word in words]\n",
        "  vowels = sum(one_hot)\n",
        "  consonants = len(words) - vowels\n",
        "\n",
        "  return (vowels, consonants)\n",
        "\n",
        "if __name__ == '__main__':\n",
        "  v, c = starts_v_or_c(words)\n",
        "  print(f\"Words starting with vowel: {v}\")\n",
        "  print(f\"Words starting with consonant: {c}\")"
      ]
    },
    {
      "cell_type": "code",
      "execution_count": 10,
      "metadata": {
        "colab": {
          "base_uri": "https://localhost:8080/"
        },
        "id": "Vy2d2MTLbrvM",
        "outputId": "091ef445-d448-49cd-e9d1-13887f23ee02"
      },
      "outputs": [
        {
          "name": "stdout",
          "output_type": "stream",
          "text": [
            "{'e': ['el', 'este', 'excusa', 'esta', 'es', 'el', 'en', 'el', 'excusa', 'esta', 'es', 'excusa', 'esta', 'en', 'esas', 'entonces', 'este', 'esta', 'ellas', 'era', 'en', 'esta', 'es', 'en', 'el', 'entera', 'en', 'ese', 'era', 'esta', 'enseaa', 'elefante', 'entonces', 'el', 'estas', 'explicaciones', 'era', 'el', 'en', 'el', 'esta', 'edad', 'el', 'es', 'explicaciones', 'elegir', 'el', 'en', 'efecto', 'esto', 'es', 'esto', 'ellas', 'encontrado', 'experiencia', 'era', 'e', 'es', 'estrellas', 'en', 'el', 'estropeado', 'en', 'el', 'era', 'estaba', 'en', 'en', 'extraaa', 'en', 'el', 'extraordinario', 'el', 'es', 'encantador', 'el', 'es', 'edad', 'encontraba', 'el', 'en', 'en', 'el', 'entonces', 'el', 'es', 'es', 'en', 'estudiado', 'especialmente', 'era', 'el', 'estupefacto', 'elefante', 'en', 'es', 'el', 'elefante', 'en', 'es', 'este', 'esta', 'enfermo', 'esto', 'es', 'es', 'este', 'es', 'el', 'este', 'enseaa', 'esta', 'es', 'el', 'esta', 'el', 'es', 'este', 'en', 'es', 'el', 'exclama3', 'esta', 'el', 'es', 'esa', 'eso', 'es', 'eso', 'es', 'el', 'entonces', 'el', 'en', 'entonces', 'eres', 'en', 'el', 'es', 'encima', 'eso', 'en', 'ensueao', 'en', 'esta', 'esforca', 'en', 'esta', 'es', 'eres', 'estaca', 'el', 'esta', 'entonces', 'el', 'es', 'esta', 'era', 'esto', 'existen', 'ellos', 'es', 'estos', 'ejemplo', 'el', 'el', 'el', 'era', 'el', 'este', 'el', 'en', 'este', 'en', 'el', 'europea', 'entonces', 'el', 'en', 'elegante', 'el', 'estos', 'el', 'es', 'esencial', 'en', 'edad', 'estos', 'en', 'en', 'el', 'es', 'esa', 'eso', 'el', 'extremadamente', 'esta', 'el', 'estuviera', 'el', 'en', 'el', 'esta', 'eso', 'ese', 'el', 'estoy', 'el', 'estaras', 'en', 'espinas', 'era', 'encontraba', 'en', 'en', 'e', 'el', 'estaba', 'el', 'estaba', 'embargo', 'exclama3', 'el', 'el', 'es', 'el', 'esta', 'el', 'estaba', 'el', 'el', 'el', 'estaba', 'el', 'estaba', 'etiqueta', 'en', 'el', 'evitarlo', 'el', 'entonces', 'el', 'el', 'enrojeciendo', 'el', 'el', 'era', 'era', 'en', 'el', 'el', 'el', 'el', 'estaba', 'era', 'explicaba', 'el', 'ejerce', 'el', 'el', 'estrellas', 'eso', 'el', 'eso', 'el', 'era', 'era', 'estrellas', 'el', 'en', 'en', 'el', 'ese', 'en', 'escribir', 'en', 'el', 'ejecutase', 'el', 'exactamente', 'el', 'en', 'el', 'exigir', 'el', 'exigira', 'esperara', 'eso', 'ejem', 'el', 'enorme', 'ejem', 'el', 'estaba', 'el', 'eso', 'el', 'estoy', 'el', 'el', 'echar', 'el', 'es', 'es', 'es', 'eres', 'en', 'ejem', 'el', 'en', 'esta', 'en', 'en', 'el', 'el', 'el', 'ejemplo', 'el', 'el', 'emprendia3', 'embajador', 'el', 'extraaas', 'el', 'el', 'el', 'estaba', 'el', 'el', 'es', 'el', 'el', 'el', 'el', 'el', 'el', 'esto', 'el', 'el', 'el', 'el', 'el', 'el', 'el', 'el', 'el', 'el', 'el', 'el', 'estas', 'en', 'ese', 'el', 'encogiandose', 'el', 'extraaas', 'el', 'el', 'estaba', 'en', 'estaba', 'en', 'el', 'el', 'el', 'el', 'el', 'el', 'encerra3', 'en', 'el', 'el', 'extraaas', 'el', 'el', 'estaba', 'este', 'estaba', 'encenderlo', 'esto', 'entretengo', 'en', 'el', 'en', 'el', 'este', 'errores', 'en', 'ejercicio', 'es', 'el', 'esperanza', 'en', 'esas', 'en', 'el', 'eso', 'es', 'estrellas', 'estrellas', 'exacto', 'esas', 'estrellas', 'ellas', 'estrellas', 'es', 'estrellas', 'estrellas', 'eso', 'el', 'extremadamente', 'esta', 'el', 'estuviera', 'el', 'en', 'el', 'esta', 'eso', 'ese', 'el', 'estoy', 'el', 'estaras', 'en', 'espinas', 'era', 'encontraba', 'en', 'en', 'e', 'el', 'estaba', 'el', 'estaba', 'embargo', 'exclama3', 'el', 'el', 'es', 'el', 'esta', 'el', 'estaba', 'el', 'el', 'el', 'estaba', 'el', 'estaba', 'etiqueta', 'en', 'el', 'evitarlo', 'el', 'entonces', 'el', 'el', 'enrojeciendo', 'el', 'el', 'era', 'era', 'en', 'el', 'el', 'el', 'el', 'estaba', 'era', 'explicaba', 'el', 'ejerce', 'el', 'el', 'estrellas', 'eso', 'el', 'eso', 'el', 'era', 'era', 'estrellas', 'el', 'en', 'en', 'el', 'ese', 'en', 'escribir', 'en', 'el', 'ejecutase', 'el', 'exactamente', 'el', 'en', 'el', 'exigir', 'el', 'exigira', 'esperara', 'eso', 'ejem', 'el', 'enorme', 'ejem', 'el', 'estaba', 'el', 'eso', 'el', 'estoy', 'el', 'el', 'echar', 'el', 'es', 'es', 'es', 'eres', 'en', 'ejem', 'el', 'en', 'esta', 'en', 'en', 'el', 'el', 'el', 'ejemplo', 'el', 'el', 'emprendia3', 'embajador', 'el', 'extraaas', 'el', 'el', 'el', 'estaba', 'el', 'el', 'es', 'el', 'el', 'el', 'el', 'el', 'el', 'esto', 'el', 'el', 'el', 'el', 'el', 'el', 'el', 'el', 'el', 'el', 'el', 'el', 'estas', 'en', 'ese', 'el', 'encogiandose', 'el', 'extraaas', 'el', 'el', 'estaba', 'en', 'estaba', 'en', 'el', 'el', 'el', 'el', 'el', 'el', 'encerra3', 'en', 'el', 'el', 'extraaas', 'el', 'el', 'estaba', 'este', 'estaba'], 'p': ['principito', 'pido', 'perda3n', 'por', 'persona', 'persona', 'pero', 'persona', 'para', 'persona', 'pasa', 'por', 'persona', 'personas', 'pero', 'pocas', 'por', 'presa', 'puede', 'primer', 'personas', 'pregunta', 'personas', 'pudieran', 'personas', 'personas', 'poner', 'pintor', 'por', 'personas', 'pueden', 'por', 'para', 'pues', 'pilotear', 'poco', 'por', 'primer', 'podaa', 'perfectamente', 'pierde', 'personas', 'pero', 'parecaa', 'poco', 'poniandome', 'polatica', 'poder', 'pasajero', 'para', 'pues', 'para', 'primera', 'pra3ximo', 'pues', 'pantame', 'puse', 'pie', 'por', 'pero', 'personas', 'pintor', 'pues', 'pra3ximo', 'parecaa', 'perdido', 'perdido', 'pra3ximo', 'por', 'palabra', 'pero', 'por', 'pantame', 'por', 'pareciera', 'peligro', 'papel', 'pluma', 'poco', 'pantame', 'para', 'peligrosa', 'pequeao', 'pantame', 'paciencia', 'para', 'porque', 'pequeao', 'pequeao', 'principito', 'principito', 'preguntas', 'parecaa', 'palabras', 'pronunciadas', 'poco', 'poco', 'por', 'primera', 'por', 'para', 'pregunta3', 'principito', 'planeta', 'presencia', 'pregunta', 'pues', 'planeta', 'pero', 'puedes', 'planetas', 'pues', 'por', 'para', 'proposicia3n', 'parecia3', 'principito', 'perdera', 'parte', 'principito', 'pequeaa', 'poco', 'puede', 'planeta', 'podaa', 'planetas', 'pequeaos', 'planetas', 'por', 'por', 'poderosas', 'para', 'planeta', 'principito', 'por', 'pero', 'personas', 'para', 'pueblo', 'pena', 'por', 'personas', 'preguntan', 'preguntar', 'prefiere', 'pero', 'preguntan', 'pesa', 'padre', 'personas', 'preciosa', 'palomas', 'posibilidad', 'pequeaos', 'por', 'principito', 'poco', 'pero', 'parecieron', 'por', 'ponerla', 'principito', 'pero', 'porque', 'perda3name', 'procura', 'por', 'pero', 'pero', 'para', 'prolongues', 'puesto', 'partir', 'para', 'primero', 'por', 'paorpura', 'principito', 'principito', 'pregunta3', 'posible', 'para', 'para', 'por', 'principito', 'pero', 'planeta', 'por', 'pues', 'pie', 'pero', 'permite', 'presencia', 'prohabo', 'podido', 'principito', 'para', 'principito', 'pronto', 'poco', 'parecaa', 'pues', 'pero', 'pregunta3', 'principito', 'principito', 'planeta', 'pequeao', 'podraa', 'perda3neme', 'pregunto', 'preguntes', 'poder', 'planeta', 'planetas', 'preguntar', 'principito', 'pues', 'poder', 'principito', 'poder', 'podido', 'puestas', 'poco', 'pequeao', 'planeta', 'puesta', 'ponga', 'principito', 'pedir', 'puede', 'pueblo', 'pueblo', 'porque', 'puesta', 'principito', 'pregunta', 'puesta', 'pero', 'previamente', 'principito', 'puesta', 'poco', 'partas', 'para', 'pero', 'principito', 'para', 'planeta', 'puedo', 'parte', 'parte', 'planeta', 'por', 'podras', 'para', 'principito', 'pero', 'principito', 'preparativos', 'puntualmente', 'podraa', 'podraa', 'por', 'partir', 'parece', 'principito', 'primero', 'personas', 'principito', 'para', 'planeta', 'por', 'principito', 'para', 'principito', 'para', 'pasa', 'por', 'pregunta3', 'principito', 'principito', 'parece', 'para', 'principito', 'principito', 'para', 'pregunta3', 'principito', 'pero', 'pregunta3', 'principito', 'planeta', 'planeta', 'principito', 'pero', 'principito', 'personas', 'para', 'principito', 'planeta', 'por', 'pues', 'principito', 'pregunta3', 'preguntar', 'principito', 'para', 'principito', 'para', 'principito', 'principito', 'perplejo', 'personas', 'para', 'principito', 'planeta', 'por', 'principito', 'preguntar', 'principito', 'pregunta', 'planeta', 'primera', 'por', 'por', 'pues', 'pues', 'paz', 'pequeaas', 'poseo', 'poseen', 'poseer', 'para', 'para', 'posibilidad', 'pequeaos', 'por', 'principito', 'poco', 'pero', 'parecieron', 'por', 'ponerla', 'principito', 'pero', 'porque', 'perda3name', 'procura', 'por', 'pero', 'pero', 'para', 'prolongues', 'puesto', 'partir', 'para', 'primero', 'por', 'paorpura', 'principito', 'principito', 'pregunta3', 'posible', 'para', 'para', 'por', 'principito', 'pero', 'planeta', 'por', 'pues', 'pie', 'pero', 'permite', 'presencia', 'prohabo', 'podido', 'principito', 'para', 'principito', 'pronto', 'poco', 'parecaa', 'pues', 'pero', 'pregunta3', 'principito', 'principito', 'planeta', 'pequeao', 'podraa', 'perda3neme', 'pregunto', 'preguntes', 'poder', 'planeta', 'planetas', 'preguntar', 'principito', 'pues', 'poder', 'principito', 'poder', 'podido', 'puestas', 'poco', 'pequeao', 'planeta', 'puesta', 'ponga', 'principito', 'pedir', 'puede', 'pueblo', 'pueblo', 'porque', 'puesta', 'principito', 'pregunta', 'puesta', 'pero', 'previamente', 'principito', 'puesta', 'poco', 'partas', 'para', 'pero', 'principito', 'para', 'planeta', 'puedo', 'parte', 'parte', 'planeta', 'por', 'podras', 'para', 'principito', 'pero', 'principito', 'preparativos', 'puntualmente', 'podraa', 'podraa', 'por', 'partir', 'parece', 'principito', 'primero', 'personas', 'principito', 'para', 'planeta', 'por', 'principito', 'para', 'principito', 'para', 'pasa', 'por', 'pregunta3', 'principito', 'principito', 'parece', 'para', 'principito', 'principito', 'para', 'pregunta3', 'principito', 'pero', 'pregunta3', 'principito', 'planeta', 'planeta', 'principito', 'pero', 'principito', 'personas', 'para', 'principito', 'planeta', 'por', 'pues', 'principito', 'pregunta3', 'preguntar', 'principito', 'para', 'principito', 'para', 'principito', 'principito', 'perplejo', 'personas', 'para', 'principito', 'planeta', 'por', 'principito'], 'a': ['antoine', 'a', 'a', 'a', 'amigo', 'al', 'antes', 'a', 'aaos', 'a', 'afirmaba', 'aventuras', 'a', 'arte', 'a', 'apor', 'asustar', 'a', 'asa', 'aconsejaron', 'abandonar', 'abiertas', 'a', 'aaos', 'abandona', 'algo', 'aburrido', 'aprendaa', 'aviones', 'al', 'arizona', 'aotil', 'a', 'alguien', 'a', 'abstenaa', 'a', 'altura', 'a', 'asa', 'aaos', 'averaa', 'algo', 'alguno', 'a', 'apenas', 'agua', 'arena', 'a', 'aislado', 'al', 'amanecer', 'apor', 'aeh', 'apantame', 'a', 'alrededor', 'a', 'aha', 'al', 'aunque', 'a', 'aaos', 'aprendido', 'a', 'abiertas', 'a', 'aquella', 'aparicia3n', 'admiracia3n', 'a', 'ahora', 'absoluto', 'apariencia', 'a', 'articular', 'aqua', 'aqua', 'al', 'algo', 'apor', 'absurdo', 'aquello', 'a', 'al', 'al', 'aonicos', 'al', 'ano', 'atentamente', 'ano', 'a', 'amigo', 'aves', 'anteriores', 'a', 'agregua', 'adentro', 'aasa', 'acrees', 'apor', 'abueno', 'asa', 'al', 'al', 'azar', 'a', 'asa', 'avia3n', 'avia3n', 'aqua', 'avia3n', 'avia3n', 'al', 'aca3mo', 'ahas', 'aah', 'aaadia3', 'atao', 'ade', 'atu', 'avia3n', 'abisma3', 'algo', 'ade', 'ada3nde', 'ada3nde', 'atarlo', 'al', 'aatarlo', 'aqua', 'atas', 'amigo', 'ay', 'a', 'adelante', 'ano', 'agrega3', 'adelante', 'apenas', 'asombrarme', 'aparte', 'a', 'a', 'aun', 'ayuda', 'astra3nomo', 'asteroide', 'asteroide', 'asteroide', 'astra3nomo', 'astra3nomo', 'astronomaa', 'a', 'asa', 'asteroide', 'a', 'a', 'astra3nomo', 'a', 'acepta3', 'asteroide', 'a', 'a', 'amigo', 'aqua', 'aqua', 'ale', 'aqua', 'acuantos', 'acuanto', 'acuanto', 'a', 'a', 'arranca3', 'aoltimos', 'a', 'aquellos', 'aquella', 'aoltima', 'a', 'al', 'abrigo', 'adia3s', 'a', 'adia3s', 'al', 'ausencia', 'aire', 'aire', 'animales', 'aquian', 'a', 'a', 'aaadia3', 'asteroides', 'algo', 'al', 'armiao', 'aah', 'al', 'al', 'aqua', 'aca3mo', 'aproxamate', 'alguien', 'armiao', 'apenas', 'aaos', 'a', 'algo', 'avamos', 'ahum', 'abueno', 'a', 'autoridad', 'absoluto', 'a3rdenes', 'a', 'ave', 'apuedo', 'armiao', 'aquel', 'aquel', 'apresura3', 'a', 'asobre', 'asobre', 'asobre', 'a', 'absoluto', 'ademas', 'ay', 'anaturalmente', 'al', 'al', 'asistir', 'a', 'a', 'a', 'a', 'arrastrar', 'al', 'abandonado', 'atrevia3', 'a', 'al', 'al', 'a', 'ave', 'ade', 'al', 'a', 'autoridad', 'apoya', 'antes', 'a', 'al', 'a', 'a3rdenes', 'aentonces', 'ay', 'aejem', 'aejem', 'ademas', 'aburriendo', 'aqua', 'al', 'aministro', 'ade', 'apero', 'aqua', 'a', 'aoh', 'al', 'alla', 'abajo', 'a', 'a', 'a', 'a', 'aqua', 'aejem', 'alguna', 'a', 'a', 'a', 'a', 'a', 'a', 'al', 'antes', 'ate', 'apresura3', 'a', 'aspecto', 'autoridad', 'aah', 'aah', 'aun', 'admirador', 'a', 'al', 'a', 'al', 'admiradores', 'abuenos', 'aqua', 'a', 'aclaman', 'aqua', 'aah', 'aconseja3', 'aplaudia3', 'al', 'aplaudiendo', 'a', 'a', 'aquel', 'aqua', 'alabanzas', 'atao', 'admiras', 'al', 'aqua', 'admirar', 'admirar', 'asi', 'ahazme', 'admarame', 'abueno', 'admiro', 'apara', 'al', 'aqua', 'aha', 'al', 'ante', 'abebo', 'apor', 'a', 'apara', 'averga14enza', 'ayudarle', 'averga14enza', 'abstraado', 'a', 'abuenos', 'aste', 'apagado', 'abuenos', 'auf', 'aquinientos', 'aeh', 'aestas', 'aha', 'ahe', 'ayo', 'aquinientos', 'a', 'a', 'aaos', 'aaos', 'abejorro', 'aqua', 'aaos', 'ala', 'asta', 'amillones', 'algunas', 'amoscas', 'ano', 'aabejas', 'a', 'ayo', 'aah', 'aestrellas', 'ay', 'ay', 'aque', 'aque', 'ay', 'ay', 'alguien', 'arranca3', 'aoltimos', 'a', 'aquellos', 'aquella', 'aoltima', 'a', 'al', 'abrigo', 'adia3s', 'a', 'adia3s', 'al', 'ausencia', 'aire', 'aire', 'animales', 'aquian', 'a', 'a', 'aaadia3', 'asteroides', 'algo', 'al', 'armiao', 'aah', 'al', 'al', 'aqua', 'aca3mo', 'aproxamate', 'alguien', 'armiao', 'apenas', 'aaos', 'a', 'algo', 'avamos', 'ahum', 'abueno', 'a', 'autoridad', 'absoluto', 'a3rdenes', 'a', 'ave', 'apuedo', 'armiao', 'aquel', 'aquel', 'apresura3', 'a', 'asobre', 'asobre', 'asobre', 'a', 'absoluto', 'ademas', 'ay', 'anaturalmente', 'al', 'al', 'asistir', 'a', 'a', 'a', 'a', 'arrastrar', 'al', 'abandonado', 'atrevia3', 'a', 'al', 'al', 'a', 'ave', 'ade', 'al', 'a', 'autoridad', 'apoya', 'antes', 'a', 'al', 'a', 'a3rdenes', 'aentonces', 'ay', 'aejem', 'aejem', 'ademas', 'aburriendo', 'aqua', 'al', 'aministro', 'ade', 'apero', 'aqua', 'a', 'aoh', 'al', 'alla', 'abajo', 'a', 'a', 'a', 'a', 'aqua', 'aejem', 'alguna', 'a', 'a', 'a', 'a', 'a', 'a', 'al', 'antes', 'ate', 'apresura3', 'a', 'aspecto', 'autoridad', 'aah', 'aah', 'aun', 'admirador', 'a', 'al', 'a', 'al', 'admiradores', 'abuenos', 'aqua', 'a', 'aclaman', 'aqua', 'aah', 'aconseja3', 'aplaudia3', 'al', 'aplaudiendo', 'a', 'a', 'aquel', 'aqua', 'alabanzas', 'atao', 'admiras', 'al', 'aqua', 'admirar', 'admirar', 'asi', 'ahazme', 'admarame', 'abueno', 'admiro', 'apara', 'al', 'aqua', 'aha', 'al', 'ante', 'abebo', 'apor', 'a', 'apara', 'averga14enza', 'ayudarle', 'averga14enza', 'abstraado', 'a', 'abuenos', 'aste', 'apagado'], 'd': ['de', 'dedicado', 'de', 'donde', 'de', 'dedicar', 'de', 'dedicatoria', 'del', 'dibujo', 'duerme', 'durante', 'dura', 'digestia3n', 'de', 'de', 'dibujo', 'dibujo', 'de', 'de', 'dibujo', 'daba', 'de', 'dibujo', 'digiere', 'dibuja', 'de', 'de', 'de', 'dibujo', 'dibujo', 'de', 'de', 'de', 'de', 'desilusionado', 'de', 'dibujos', 'darles', 'de', 'distinguir', 'de', 'durante', 'de', 'de', 'de', 'de', 'demasiado', 'de', 'dibujo', 'de', 'de', 'de', 'de', 'del', 'del', 'de', 'de', 'de', 'desierto', 'de', 'dispuse', 'difacil', 'de', 'de', 'daas', 'dorma', 'de', 'distancia', 'del', 'del', 'desperta3', 'decaa', 'de', 'de', 'dibujo', 'desanimaron', 'de', 'de', 'de', 'dibujar', 'de', 'de', 'de', 'distancia', 'del', 'de', 'de', 'de', 'de', 'de', 'desierto', 'de', 'distancia', 'del', 'dije', 'demasiado', 'desobedecer', 'de', 'distancia', 'de', 'de', 'de', 'de', 'dije', 'dibujar', 'dibujado', 'de', 'dos', 'dibujos', 'de', 'de', 'decir', 'dibuja', 'dijo', 'dibujar', 'dulcemente', 'dibujo', 'demasiado', 'de', 'deseoso', 'de', 'desmontar', 'dibujo', 'de', 'dibujo', 'dormido', 'de', 'da3nde', 'distinguia3', 'dibujara', 'de', 'dibujo', 'demasiado', 'decirle', 'del', 'dije', 'desgracias', 'del', 'divisa', 'de', 'de', 'detenidamente', 'de', 'de', 'durante', 'de', 'de', 'da3nde', 'despuas', 'de', 'de', 'dado', 'de', 'duda', 'dara', 'durante', 'daa', 'da3nde', 'da3nde', 'derecho', 'de', 'derecho', 'de', 'de', 'de', 'dado', 'de', 'difacil', 'distinguirlos', 'del', 'descubre', 'de', 'da', 'del', 'demostracia3n', 'de', 'descubrimiento', 'de', 'de', 'de', 'del', 'dictador', 'de', 'dar', 'de', 'descubrimiento', 'demostracia3n', 'de', 'detalles', 'de', 'del', 'detalles', 'decimos', 'de', 'de', 'deshollinar', 'demasiado', 'dan', 'disgustos', 'de', 'de', 'dulces', 'dispuso', 'del', 'de', 'dijo', 'dijo', 'de', 'desconcertado', 'dijo', 'de', 'de', 'de', 'dos', 'despedida', 'decidido', 'de', 'de', 'decidia3', 'de', 'divisar', 'dijo', 'de', 'de', 'donde', 'de', 'de', 'del', 'dijo', 'dormido', 'dijo', 'da', 'dijo', 'daba', 'daba', 'decaa', 'del', 'de', 'de', 'dijo', 'decir', 'dijo', 'deja3', 'disfrutara', 'de', 'de', 'daa', 'dos', 'doscientas', 'de', 'de', 'de', 'deme', 'diera', 'de', 'de', 'de', 'de', 'de', 'de', 'dijo', 'dar', 'derecho', 'de', 'de', 'dicta', 'de', 'dijo', 'de', 'de', 'de', 'dijo', 'dijo', 'del', 'difacil', 'difacil', 'de', 'dijo', 'del', 'de', 'dependeraa', 'de', 'dijo', 'dijo', 'disgustar', 'dijo', 'deseara', 'dar', 'de', 'de', 'decaa', 'durante', 'divisar', 'demas', 'daas', 'dijo', 'desgraciadamente', 'divertido', 'dijo', 'de', 'del', 'de', 'dijo', 'de', 'decididamente', 'decaa', 'durante', 'de', 'de', 'deseoso', 'de', 'de', 'definitivamente', 'duda', 'de', 'diciandose', 'durante', 'de', 'del', 'daas', 'dijo', 'dos', 'doce', 'doce', 'daas', 'de', 'de', 'de', 'dos', 'de', 'de', 'desde', 'de', 'dios', 'da3nde', 'de', 'de', 'decaa', 'de', 'de', 'de', 'dejaran', 'de', 'doradas', 'desvariar', 'de', 'desvariar', 'de', 'diferente', 'de', 'de', 'descubre', 'de', 'deshollinar', 'demasiado', 'dan', 'disgustos', 'de', 'de', 'dulces', 'dispuso', 'del', 'de', 'dijo', 'dijo', 'de', 'desconcertado', 'dijo', 'de', 'de', 'de', 'dos', 'despedida', 'decidido', 'de', 'de', 'decidia3', 'de', 'divisar', 'dijo', 'de', 'de', 'donde', 'de', 'de', 'del', 'dijo', 'dormido', 'dijo', 'da', 'dijo', 'daba', 'daba', 'decaa', 'del', 'de', 'de', 'dijo', 'decir', 'dijo', 'deja3', 'disfrutara', 'de', 'de', 'daa', 'dos', 'doscientas', 'de', 'de', 'de', 'deme', 'diera', 'de', 'de', 'de', 'de', 'de', 'de', 'dijo', 'dar', 'derecho', 'de', 'de', 'dicta', 'de', 'dijo', 'de', 'de', 'de', 'dijo', 'dijo', 'del', 'difacil', 'difacil', 'de', 'dijo', 'del', 'de', 'dependeraa', 'de', 'dijo', 'dijo', 'disgustar', 'dijo', 'deseara', 'dar', 'de', 'de', 'decaa', 'durante', 'divisar', 'demas', 'daas', 'dijo', 'desgraciadamente', 'divertido', 'dijo', 'de', 'del', 'de', 'dijo', 'de', 'decididamente', 'decaa', 'durante', 'de', 'de', 'deseoso', 'de', 'de', 'definitivamente', 'duda', 'de', 'diciandose', 'durante', 'de', 'del', 'daas', 'dijo'], 's': ['saintexupary', 'seaa', 'ser', 'si', 'suficientes', 'sido', 'seis', 'sobre', 'selva', 'se', 'serpiente', 'se', 'se', 'serpiente', 'se', 'su', 'sin', 'seis', 'su', 'sobre', 'si', 'sombrero', 'sombrero', 'serpiente', 'serpiente', 'siempre', 'serpientes', 'seis', 'sa', 'solas', 'servido', 'sobre', 'si', 'se', 'seria', 'sobre', 'sometido', 'siempre', 'saber', 'si', 'ser', 'siempre', 'sombrero', 'serpiente', 'selva', 'su', 'se', 'solo', 'seis', 'sahara', 'se', 'solo', 'sobre', 'sorpresa', 'salto', 'seis', 'sed', 'suavemente', 'saqua', 'sabaa', 'serpiente', 'serpiente', 'serpiente', 'sitio', 'sonria3', 'se', 'sorpresa', 'se', 'sea', 'se', 'sentaa', 'sa', 'se', 'serio', 'su', 'se', 'sacando', 'su', 'se', 'su', 'semiconfidencia', 'sobre', 'saber', 'silenciosamente', 'servira', 'sin', 'si', 'si', 'se', 'sabe', 'se', 'solta3', 'sa', 'seaala3', 'se', 'supe', 'segunda', 'su', 'sabaa', 'se', 'sido', 'sa3lo', 'su', 'su', 'son', 'su', 'su', 'su', 'si', 'sobre', 'su', 'se', 'sobre', 'se', 'su', 'su', 'solamente', 'si', 'somos', 'se', 'sintia3', 'sido', 'ser', 'se', 'sorprendia3', 'sa', 'sido', 'sepas', 'sido', 'ser', 'suelta', 'soy', 'sera', 'soporte', 'si', 'son', 'si', 'sus', 'se', 'sentado', 'sobre', 'sencillo', 'sin', 'saobdito', 'se', 'si', 'simplificado', 'son', 'saobditos', 'ser', 'sentarse', 'se', 'son', 'su', 'siempre', 'si', 'si', 'se', 'seraa', 'sino', 'sentarme', 'sentarte', 'su', 'sorprendido', 'se', 'sobre', 'seaor', 'si', 'se', 'seaor', 'su', 'sobre', 'sencillo', 'seaala3', 'su', 'sobre', 'sa3lo', 'seguida', 'semejante', 'si', 'sino', 'setenta', 'sol', 'sin', 'su', 'silla', 'se', 'sentaa', 'su', 'se', 'solicitar', 'sol', 'sol', 'se', 'si', 'seraa', 'seraa', 'sa3lo', 'se', 'si', 'se', 'son', 'sol', 'su', 'sol', 'segaon', 'sean', 'sera', 'sera', 'sera', 'siete', 'se', 'su', 'sol', 'se', 'se', 'sentaa', 'saobdito', 'si', 'se', 'sabe', 'sitio', 'se', 'sa', 'si', 'sabio', 'su', 'sus', 'si', 'ser', 'son', 'suspiro', 'se', 'son', 'se', 'sa', 'segundo', 'son', 'sombrero', 'saludar', 'sa', 'sin', 'saluda3', 'sombrero', 'se', 'sa', 'saludarle', 'sombrero', 'se', 'sombrero', 'se', 'sa3lo', 'significa', 'significa', 'soy', 'solo', 'sirve', 'se', 'son', 'se', 'sa', 'su', 'siguiente', 'sentado', 'silencio', 'sinnaomero', 'siento', 'se', 'se', 'silencio', 'se', 'son', 'seguaa', 'sa', 'su', 'siquiera', 'su', 'se', 'siete', 'siete', 'seis', 'suma', 'seiscientos', 'setecientos', 'sa', 'soy', 'serio', 'siete', 'su', 'sa3lo', 'sabe', 'suma', 'segunda', 'soy', 'serio', 'se', 'soy', 'serio', 'seiscientos', 'setecientos', 'soy', 'serio', 'sa', 'son', 'sa', 'sirve', 'sirve', 'ser', 'sirve', 'ser', 'sirve', 'si', 'somos', 'se', 'sintia3', 'sido', 'ser', 'se', 'sorprendia3', 'sa', 'sido', 'sepas', 'sido', 'ser', 'suelta', 'soy', 'sera', 'soporte', 'si', 'son', 'si', 'sus', 'se', 'sentado', 'sobre', 'sencillo', 'sin', 'saobdito', 'se', 'si', 'simplificado', 'son', 'saobditos', 'ser', 'sentarse', 'se', 'son', 'su', 'siempre', 'si', 'si', 'se', 'seraa', 'sino', 'sentarme', 'sentarte', 'su', 'sorprendido', 'se', 'sobre', 'seaor', 'si', 'se', 'seaor', 'su', 'sobre', 'sencillo', 'seaala3', 'su', 'sobre', 'sa3lo', 'seguida', 'semejante', 'si', 'sino', 'setenta', 'sol', 'sin', 'su', 'silla', 'se', 'sentaa', 'su', 'se', 'solicitar', 'sol', 'sol', 'se', 'si', 'seraa', 'seraa', 'sa3lo', 'se', 'si', 'se', 'son', 'sol', 'su', 'sol', 'segaon', 'sean', 'sera', 'sera', 'sera', 'siete', 'se', 'su', 'sol', 'se', 'se', 'sentaa', 'saobdito', 'si', 'se', 'sabe', 'sitio', 'se', 'sa', 'si', 'sabio', 'su', 'sus', 'si', 'ser', 'son', 'suspiro', 'se', 'son', 'se', 'sa', 'segundo', 'son', 'sombrero', 'saludar', 'sa', 'sin', 'saluda3', 'sombrero', 'se', 'sa', 'saludarle', 'sombrero', 'se', 'sombrero', 'se', 'sa3lo', 'significa', 'significa', 'soy', 'solo', 'sirve', 'se', 'son', 'se', 'sa', 'su', 'siguiente', 'sentado', 'silencio', 'sinnaomero', 'siento', 'se', 'se', 'silencio', 'se', 'son', 'seguaa', 'sa', 'su', 'siquiera', 'su', 'se'], 'l': ['leon', 'los', 'libro', 'los', 'libros', 'libro', 'las', 'lo', 'lean', 'libro', 'la', 'lamina', 'la', 'libro', 'la', 'luego', 'las', 'la', 'logra', 'lapiz', 'las', 'les', 'les', 'la', 'las', 'las', 'la', 'la', 'la', 'la', 'las', 'los', 'la', 'la', 'la', 'lo', 'largo', 'las', 'laocido', 'lo', 'la', 'la', 'la', 'las', 'les', 'llevaba', 'la', 'la', 'lugar', 'los', 'logra', 'la', 'las', 'la', 'loera', 'los', 'lugar', 'la', 'lugar', 'logra', 'le', 'lugar', 'le', 'los', 'la', 'la', 'lo', 'los', 'lo', 'le', 'la', 'lo', 'las', 'las', 'le', 'lanza3', 'luz', 'le', 'lentamente', 'la', 'lejos', 'largo', 'luego', 'la', 'los', 'llevarte', 'lo', 'la', 'la', 'le', 'lo', 'lejos', 'los', 'la', 'los', 'les', 'la', 'le', 'le', 'llama', 'le', 'las', 'la', 'la', 'lucaa', 'les', 'les', 'las', 'los', 'les', 'las', 'les', 'lo', 'les', 'les', 'las', 'ladrillo', 'las', 'llegaran', 'los', 'los', 'los', 'le', 'la', 'llorar', 'le', 'la', 'la', 'le', 'la', 'la', 'le', 'la', 'lo', 'lo', 'la', 'los', 'las', 'lejos', 'las', 'las', 'le', 'luego', 'la', 'la', 'llorar', 'la', 'los', 'los', 'los', 'le', 'la', 'le', 'lo', 'largo', 'le', 'los', 'lo', 'la', 'le', 'le', 'le', 'los', 'las', 'las', 'le', 'le', 'la', 'le', 'la', 'la', 'la', 'la', 'le', 'lo', 'la', 'la', 'la', 'la', 'la', 'las', 'le', 'las', 'lamentaba', 'le', 'le', 'le', 'lado', 'le', 'lo', 'los', 'la', 'la', 'la', 'la', 'las', 'la', 'las', 'lo', 'lejos', 'los', 'los', 'los', 'le', 'le', 'levantando', 'la', 'los', 'la', 'le', 'los', 'las', 'las', 'llenas', 'laogubre', 'la', 'la', 'las', 'levanta3', 'la', 'la', 'llegada', 'le', 'la', 'levanta3', 'la', 'la', 'la', 'la', 'lo', 'los', 'las', 'las', 'los', 'las', 'las', 'los', 'los', 'los', 'le', 'la', 'llorar', 'le', 'la', 'la', 'le', 'la', 'la', 'le', 'la', 'lo', 'lo', 'la', 'los', 'las', 'lejos', 'las', 'las', 'le', 'luego', 'la', 'la', 'llorar', 'la', 'los', 'los', 'los', 'le', 'la', 'le', 'lo', 'largo', 'le', 'los', 'lo', 'la', 'le', 'le', 'le', 'los', 'las', 'las', 'le', 'le', 'la', 'le', 'la', 'la', 'la', 'la', 'le', 'lo', 'la', 'la', 'la', 'la', 'la', 'las', 'le', 'las', 'lamentaba', 'le', 'le', 'le', 'lado', 'le', 'lo', 'los', 'la', 'la', 'la', 'la', 'las', 'la', 'las', 'lo', 'lejos', 'los', 'los', 'los', 'le', 'le', 'levantando', 'la', 'los', 'la', 'le', 'los', 'las', 'las', 'llenas', 'laogubre', 'la', 'la', 'las', 'levanta3', 'la', 'la', 'llegada', 'le'], 'w': ['werth', 'werth', 'w'], 'n': ['niaos', 'niaos', 'necesidad', 'no', 'niao', 'niaos', 'niao', 'no', 'naomero', 'no', 'necesidad', 'naomero', 'naomero', 'naomero', 'nunca', 'niaos', 'noche', 'no', 'naomero', 'nadie', 'no', 'ni', 'ni', 'noche', 'naufrago', 'no', 'no', 'no', 'no', 'ni', 'ni', 'no', 'niao', 'no', 'no', 'nunca', 'no', 'no', 'necesito', 'no', 'nuevamente', 'necesario', 'no', 'no', 'no', 'no', 'no', 'noche', 'no', 'nueva', 'no', 'no', 'no', 'nombre', 'nombre', 'naomero', 'nadie', 'naomero', 'nuevo', 'nunca', 'no', 'nos', 'no', 'nunca', 'no', 'no', 'no', 'no', 'no', 'no', 'no', 'noche', 'necesario', 'no', 'no', 'no', 'no', 'nunca', 'no', 'no', 'no', 'nadie', 'no', 'no', 'no', 'no', 'no', 'no', 'no', 'naturaleza', 'no', 'necesidad', 'no', 'nada', 'no', 'nada', 'no', 'no', 'no', 'nadie', 'no', 'nunca', 'no', 'no', 'nadie', 'no', 'necesidad', 'noche', 'no', 'no', 'nadie', 'no', 'no', 'no', 'nada', 'nombro', 'nunca', 'nadie', 'no', 'nueva', 'no', 'negocios', 'ni', 'no', 'no', 'no', 'nunca', 'negocios', 'no', 'ningaon', 'no', 'negocios', 'no', 'ninguna', 'no', 'no', 'nada', 'no', 'nada', 'no', 'nos', 'no', 'nunca', 'no', 'no', 'no', 'no', 'no', 'no', 'no', 'noche', 'necesario', 'no', 'no', 'no', 'no', 'nunca', 'no', 'no', 'no', 'nadie', 'no', 'no', 'no', 'no', 'no', 'no', 'no', 'naturaleza', 'no', 'necesidad', 'no', 'nada', 'no', 'nada', 'no', 'no', 'no', 'nadie', 'no', 'nunca', 'no', 'no', 'nadie', 'no', 'necesidad', 'noche', 'no', 'no', 'nadie', 'no', 'no', 'no', 'nada', 'nombro', 'nunca', 'nadie', 'no', 'nueva', 'no', 'negocios', 'ni'], 'h': ['haber', 'hambre', 'hace', 'han', 'historias', 'habraa', 'historia', 'habaa', 'he', 'ha', 'he', 'he', 'ha', 'he', 'he', 'he', 'hablarles', 'hablaba', 'hombre', 'hablar', 'hasta', 'hace', 'habaa', 'habitado', 'herido', 'hacer', 'habaa', 'hacer', 'hay', 'habitado', 'hambre', 'habitado', 'haces', 'habitado', 'hoja', 'habaa', 'historia', 'habaa', 'hombrecito', 'haz', 'hierba', 'hacia', 'hacaa', 'hundia3', 'has', 'ha', 'ha', 'hizo', 'he', 'hasta', 'he', 'habla', 'hermanos', 'he', 'hay', 'hombres', 'he', 'ha', 'has', 'hara', 'hermosas', 'has', 'habitado', 'ha', 'hombres', 'he', 'he', 'hecho', 'he', 'hace', 'hum', 'hubiese', 'hay', 'hara', 'habaa', 'hacia', 'hacia', 'hacia', 'hacer', 'hago', 'hay', 'he', 'hay', 'he', 'hay', 'hay', 'habiendo', 'habitado', 'hombres', 'hay', 'hacer', 'hombre', 'hombros', 'habitado', 'hundia3', 'haces', 'hay', 'hombre', 'hombre', 'ha', 'hombre', 'habaa', 'habaa', 'hombre', 'hace', 'habito', 'han', 'hace', 'habaa', 'hacaa', 'hizo', 'hace', 'hago', 'hombre', 'hombre', 'hacen', 'holgazanes', 'hombre', 'haces', 'hombre', 'haces', 'hago', 'he', 'hay', 'hombres', 'he', 'ha', 'has', 'hara', 'hermosas', 'has', 'habitado', 'ha', 'hombres', 'he', 'he', 'hecho', 'he', 'hace', 'hum', 'hubiese', 'hay', 'hara', 'habaa', 'hacia', 'hacia', 'hacia', 'hacer', 'hago', 'hay', 'he', 'hay', 'he', 'hay', 'hay', 'habiendo', 'habitado', 'hombres', 'hay', 'hacer', 'hombre', 'hombros', 'habitado', 'hundia3', 'haces', 'hay', 'hombre', 'hombre', 'ha'], 'u': ['una', 'una', 'una', 'una', 'un', 'una', 'una', 'una', 'un', 'un', 'un', 'una', 'un', 'una', 'una', 'un', 'uno', 'un', 'un', 'un', 'un', 'una', 'una', 'una', 'unas', 'un', 'una', 'una', 'un', 'un', 'un', 'un', 'unas', 'un', 'un', 'una', 'una', 'un', 'un', 'un', 'uno', 'un', 'una', 'un', 'un', 'un', 'un', 'un', 'un', 'un', 'una', 'un', 'una', 'una', 'un', 'una', 'una', 'una', 'un', 'una', 'una', 'un', 'uno', 'un', 'una', 'un', 'una', 'un', 'un', 'un', 'un', 'una', 'un', 'una', 'una', 'una', 'una', 'un', 'un', 'un', 'un', 'un', 'un', 'un', 'un', 'un', 'un', 'un', 'universal', 'un', 'un', 'un', 'una', 'una', 'un', 'una', 'una', 'usted', 'uno', 'uno', 'una', 'un', 'un', 'un', 'una', 'una', 'un', 'una', 'una', 'una', 'un', 'un', 'un', 'un', 'una', 'un', 'una', 'una', 'un', 'un', 'uno', 'un', 'uno', 'un', 'una', 'una', 'un', 'un', 'una', 'una', 'un', 'un', 'unas', 'un', 'un', 'uno', 'un', 'un', 'un', 'una', 'una', 'una', 'una', 'un', 'un', 'un', 'un', 'un', 'un', 'un', 'un', 'un', 'un', 'un', 'universal', 'un', 'un', 'un', 'una', 'una', 'un', 'una', 'una', 'usted', 'uno', 'uno', 'una', 'un', 'un', 'un', 'una', 'una', 'un', 'una', 'una', 'una', 'un', 'un', 'un', 'un', 'una', 'un', 'una', 'una', 'un', 'un'], 'm': ['mayor', 'mayor', 'mejor', 'mundo', 'mayor', 'mayor', 'mayor', 'mayores', 'mi', 'magnafica', 'masticarla', 'moverse', 'meses', 'mucho', 'momento', 'mi', 'mi', 'mi', 'manera', 'mi', 'mayores', 'mi', 'miedo', 'me', 'mi', 'mayores', 'mi', 'mayores', 'me', 'mas', 'manera', 'magnafica', 'mis', 'mayores', 'muy', 'mundo', 'me', 'mucho', 'muy', 'mi', 'multitud', 'multitud', 'mucho', 'mayores', 'muy', 'mejorado', 'mi', 'me', 'me', 'mi', 'me', 'me', 'mi', 'muy', 'motor', 'mecanico', 'me', 'ma', 'muerte', 'me', 'mil', 'millas', 'mas', 'mas', 'medio', 'mi', 'me', 'me', 'me', 'mira', 'mi', 'muchachito', 'me', 'miraba', 'mejor', 'mas', 'mi', 'menos', 'modelo', 'maa', 'mayores', 'me', 'mi', 'mira', 'me', 'mil', 'millas', 'mas', 'muchachito', 'me', 'muerto', 'miedo', 'mil', 'millas', 'mas', 'muy', 'misterio', 'me', 'mil', 'millas', 'muerte', 'mi', 'muchachito', 'malhumorado', 'me', 'muy', 'mucho', 'mi', 'muy', 'mira3', 'muy', 'mi', 'mi', 'mucho', 'motor', 'maa', 'mi', 'mucha', 'mi', 'me', 'mucho', 'me', 'muchas', 'maas', 'me', 'mi', 'mi', 'ma', 'me', 'mi', 'me', 'modestamente', 'me', 'mucho', 'me', 'mis', 'misterio', 'me', 'movaa', 'mirando', 'mi', 'muy', 'mi', 'me', 'me', 'mas', 'muchachito', 'mi', 'meditar', 'me', 'me', 'mas', 'mi', 'mi', 'melancolaa', 'muy', 'manera', 'muy', 'mas', 'mucho', 'muy', 'marte', 'manera', 'mayores', 'muerte', 'muy', 'mundo', 'mayores', 'mayores', 'mismo', 'mariposas', 'mayores', 'melancolaa', 'maaana', 'mansedumbre', 'maa', 'me', 'mariposas', 'muy', 'muy', 'mis', 'mostraba', 'mas', 'mismo', 'muy', 'majestuoso', 'me', 'me', 'mundo', 'muy', 'mejor', 'magnafico', 'manto', 'monarca', 'muy', 'muy', 'ma', 'me', 'monarca', 'muy', 'marina', 'me', 'maa', 'majestuosamente', 'manto', 'me', 'monarca', 'monarca', 'maravillado', 'mismo', 'me', 'mariposa', 'marina', 'maa', 'mar', 'mis', 'mi', 'me', 'mi', 'me', 'me', 'muy', 'ministro', 'mi', 'muy', 'me', 'mismo', 'mas', 'mucho', 'mas', 'mismo', 'ma', 'mismo', 'muerte', 'mas', 'ma', 'me', 'muerte', 'me', 'marchar', 'monarca', 'majestad', 'minuto', 'me', 'marcha', 'mi', 'mayores', 'muy', 'mismo', 'me', 'manos', 'modestamente', 'mas', 'mientras', 'minutos', 'monotonaa', 'me', 'mucho', 'mas', 'mejor', 'mas', 'mas', 'maneras', 'marcha3', 'mayores', 'muy', 'muy', 'melancolaa', 'marcha3', 'menor', 'mayores', 'muy', 'millones', 'mil', 'millones', 'millones', 'me', 'millones', 'me', 'molestado', 'me', 'millones', 'millones', 'millones', 'millones', 'mil', 'muy', 'me', 'me', 'mas', 'melancolaa', 'maaana', 'mansedumbre', 'maa', 'me', 'mariposas', 'muy', 'muy', 'mis', 'mostraba', 'mas', 'mismo', 'muy', 'majestuoso', 'me', 'me', 'mundo', 'muy', 'mejor', 'magnafico', 'manto', 'monarca', 'muy', 'muy', 'ma', 'me', 'monarca', 'muy', 'marina', 'me', 'maa', 'majestuosamente', 'manto', 'me', 'monarca', 'monarca', 'maravillado', 'mismo', 'me', 'mariposa', 'marina', 'maa', 'mar', 'mis', 'mi', 'me', 'mi', 'me', 'me', 'muy', 'ministro', 'mi', 'muy', 'me', 'mismo', 'mas', 'mucho', 'mas', 'mismo', 'ma', 'mismo', 'muerte', 'mas', 'ma', 'me', 'muerte', 'me', 'marchar', 'monarca', 'majestad', 'minuto', 'me', 'marcha', 'mi', 'mayores', 'muy', 'mismo', 'me', 'manos', 'modestamente', 'mas', 'mientras', 'minutos', 'monotonaa', 'me', 'mucho', 'mas', 'mejor', 'mas', 'mas', 'maneras', 'marcha3', 'mayores', 'muy', 'muy', 'melancolaa', 'marcha3', 'menor', 'mayores', 'muy'], 't': ['tengo', 'tengo', 'tengo', 'todo', 'tengo', 'tercera', 'todavaa', 'tiene', 'todas', 'tiempo', 'todas', 'tenaa', 'titulaba', 'tragaba', 'traga', 'trazar', 'tienen', 'tener', 'tuve', 'todo', 'todo', 'tenido', 'tan', 'tuve', 'tenaa', 'tienen', 'tarde', 'tenaa', 'tao', 'todo', 'tierra', 'todo', 'tiene', 'tiempo', 'tierra', 'todo', 'tan', 'tan', 'tiempo', 'todo', 'tratarse', 'tomen', 'tambian', 'tao', 'tiempo', 'tesoro', 'tu', 'te', 'tambian', 'tan', 'tierra', 'tierra', 'tan', 'telescopio', 'tengo', 'telescopio', 'turco', 'turco', 'traje', 'todo', 'todos', 'tono', 'tiene', 'tiene', 'tejado', 'tierra', 'tantos', 'tambian', 'todos', 'trabajos', 'tosia3', 'tonta', 'tranquila', 'te', 'tao', 'tiene', 'tao', 'tan', 'tonto', 'trata', 'tan', 'tres', 'tao', 'temo', 'tengo', 'tu', 'tan', 'tiempo', 'trono', 'tenemos', 'todos', 'te', 'totalmente', 'te', 'te', 'te', 'tengo', 'te', 'tan', 'tartamudeaba', 'transformara', 'tamidamente', 'te', 'tan', 'te', 'todo', 'todo', 'todo', 'todo', 'tolero', 'tal', 'tres', 'tener', 'triste', 'tragedia', 'transformarse', 'tu', 'tire', 'tengo', 'tendras', 'tu', 'tengo', 'tener', 'te', 'te', 'todo', 'tampoco', 'te', 'ti', 'tengo', 'tu', 'tu', 'terminado', 'tenaa', 'todos', 'tan', 'tiene', 'tus', 'tao', 'tu', 'todas', 'te', 'te', 'tantas', 'tono', 'tan', 'tres', 'tres', 'tengo', 'tiempo', 'tres', 'treinta', 'treinta', 'todavaa', 'trabajado', 'tanto', 'tonteraas', 'tres', 'tengo', 'tiempo', 'tercera', 'tercera', 'tenaa', 'tengo', 'tiempo', 'tao', 'treinta', 'tuyas', 'te', 'te', 'tierra', 'tantos', 'tambian', 'todos', 'trabajos', 'tosia3', 'tonta', 'tranquila', 'te', 'tao', 'tiene', 'tao', 'tan', 'tonto', 'trata', 'tan', 'tres', 'tao', 'temo', 'tengo', 'tu', 'tan', 'tiempo', 'trono', 'tenemos', 'todos', 'te', 'totalmente', 'te', 'te', 'te', 'tengo', 'te', 'tan', 'tartamudeaba', 'transformara', 'tamidamente', 'te', 'tan', 'te', 'todo', 'todo', 'todo', 'todo', 'tolero', 'tal', 'tres', 'tener', 'triste', 'tragedia', 'transformarse', 'tu', 'tire', 'tengo', 'tendras', 'tu', 'tengo', 'tener', 'te', 'te', 'todo', 'tampoco', 'te', 'ti', 'tengo', 'tu', 'tu', 'terminado', 'tenaa', 'todos', 'tan', 'tiene', 'tus', 'tao', 'tu', 'todas', 'te', 'te', 'tantas', 'tono', 'tan'], 'q': ['que', 'quiero', 'que', 'que', 'que', 'que', 'qua', 'que', 'que', 'quedado', 'que', 'que', 'que', 'que', 'queraa', 'quedaba', 'quien', 'que', 'que', 'que', 'que', 'que', 'que', 'que', 'que', 'que', 'que', 'que', 'que', 'queda', 'quiero', 'que', 'quiero', 'que', 'que', 'quieres', 'queraa', 'que', 'qua', 'que', 'que', 'que', 'que', 'que', 'que', 'qua', 'que', 'quieres', 'que', 'que', 'quian', 'quieres', 'que', 'quizas', 'que', 'que', 'que', 'que', 'que', 'queda3', 'quiero', 'que', 'quiero', 'que', 'quiero', 'que', 'que', 'queraa', 'que', 'que', 'que', 'que', 'que', 'queda3', 'que', 'que', 'que', 'que', 'que', 'que', 'que', 'quian', 'que', 'qua', 'que', 'quian', 'que', 'que', 'que', 'que', 'que', 'que', 'que', 'que', 'que', 'qua', 'quien', 'que', 'que', 'que', 'que', 'que', 'que', 'que', 'que', 'quiso', 'que', 'que', 'que', 'que', 'quitandose', 'que', 'que', 'que', 'qua', 'que', 'qua', 'qua', 'que', 'qua', 'que', 'que', 'que', 'quince', 'quince', 'quinientos', 'qua', 'quinientos', 'qua', 'que', 'que', 'que', 'que', 'quinientos', 'qua', 'que', 'que', 'que', 'que', 'que', 'qua', 'quinientos', 'quinientos', 'qua', 'qua', 'que', 'qua', 'qua', 'que', 'queda3', 'quiero', 'que', 'quiero', 'que', 'quiero', 'que', 'que', 'queraa', 'que', 'que', 'que', 'que', 'que', 'queda3', 'que', 'que', 'que', 'que', 'que', 'que', 'que', 'quian', 'que', 'qua', 'que', 'quian', 'que', 'que', 'que', 'que', 'que', 'que', 'que', 'que', 'que', 'qua', 'quien', 'que', 'que', 'que', 'que', 'que', 'que', 'que', 'que', 'quiso', 'que', 'que', 'que', 'que', 'quitandose', 'que', 'que', 'que', 'qua', 'que', 'qua', 'qua', 'que', 'qua', 'que', 'que', 'que'], 'o': ['otra', 'obra', 'o', 'otra', 'otro', 'oficio', 'opinia3n', 'o', 'ocho', 'ocaano', 'ojos', 'otra', 'ojos', 'olvidar', 'o', 'oa', 'ocupa', 'otro', 'oar', 'orgulloso', 'otro', 'otros', 'origen', 'otros', 'ocurre', 'o', 'orugas', 'orgullosa', 'ocuparse', 'orgulloso', 'ocupado', 'ordeno', 'otra', 'ordeno', 'ordeno', 'ordenara', 'ordenara', 'obedeciese', 'ordeno', 'ordeno', 'otros', 'obedecen', 'obedecen', 'o', 'ordanele', 'orden', 'o', 'o', 'orden', 'o', 'ordenas', 'obediencia', 'olvidaba', 'obedece', 'orgulloso', 'ojeada', 'otro', 'otros', 'oigo', 'obedecido', 'orden', 'ordenarme', 'otra', 'oya3', 'oyen', 'otras', 'olvidar', 'olvidar', 'olvidar', 'ocupado', 'once', 'o', 'orugas', 'orgullosa', 'ocuparse', 'orgulloso', 'ocupado', 'ordeno', 'otra', 'ordeno', 'ordeno', 'ordenara', 'ordenara', 'obedeciese', 'ordeno', 'ordeno', 'otros', 'obedecen', 'obedecen', 'o', 'ordanele', 'orden', 'o', 'o', 'orden', 'o', 'ordenas', 'obediencia', 'olvidaba', 'obedece', 'orgulloso', 'ojeada', 'otro', 'otros', 'oigo', 'obedecido', 'orden', 'ordenarme', 'otra', 'oya3', 'oyen', 'otras', 'olvidar', 'olvidar', 'olvidar', 'ocupado'], 'c': ['capaz', 'comprenderlo', 'consiguiente', 'consolada', 'corrijo', 'consiguiente', 'cuando', 'cuando', 'copia', 'con', 'colores', 'comprender', 'cerradas', 'calculo', 'carrera', 'comprender', 'china', 'contactos', 'con', 'con', 'conocido', 'cerca', 'cuando', 'con', 'conservado', 'comprensivo', 'contestaban', 'corbatas', 'contento', 'conocer', 'con', 'cuando', 'como', 'conmigo', 'cuestia3n', 'cuando', 'cordero', 'cordero', 'como', 'ciertamente', 'culpa', 'carrera', 'cosa', 'cerradas', 'con', 'cansancio', 'cuando', 'como', 'cordero', 'cuando', 'calculo', 'cordero', 'como', 'cordero', 'capaz', 'cerrada', 'cuando', 'cordero', 'cordero', 'cordero', 'con', 'cordero', 'carnero', 'cuernos', 'cordero', 'comenzar', 'caja', 'cordero', 'con', 'como', 'cordero', 'como', 'conoca', 'costa3', 'comprender', 'cuando', 'complicado', 'cosa', 'cosa', 'caado', 'cielo', 'curioso', 'carcajada', 'cielo', 'cabeza', 'cierto', 'cordero', 'contemplacia3n', 'ca3mo', 'casa', 'cordero', 'caja', 'casa', 'cuerda', 'chocar', 'carcajada', 'cualquier', 'camino', 'con', 'con', 'camino', 'cosa', 'casa', 'como', 'cuales', 'centenares', 'con', 'cuando', 'creer', 'cual', 'con', 'congreso', 'creya3', 'causa', 'cuenta', 'como', 'contado', 'confiado', 'consideracia3n', 'cifras', 'cuando', 'coleccionar', 'cambio', 'con', 'creen', 'conocerle', 'casa', 'con', 'ca3mo', 'con', 'creaa', 'cuando', 'con', 'comprendiendo', 'culpa', 'como', 'como', 'conocer', 'creo', 'cuanto', 'cuatro', 'como', 'cansado', 'confuso', 'curioso', 'como', 'culpa', 'contesta3', 'con', 'con', 'cuarenta', 'cien', 'como', 'como', 'culpa', 'culpa', 'con', 'cada', 'cada', 'continua3', 'ciencia', 'condiciones', 'cuando', 'consultando', 'calendario', 'cuarenta', 'ca3mo', 'caminar', 'cansa', 'como', 'carroza', 'consigues', 'cualquier', 'creo', 'condenaras', 'cuando', 'cada', 'conservarla', 'condenar', 'creo', 'condiciones', 'como', 'con', 'comprender', 'contra', 'continua3', 'cinco', 'cansa3', 'con', 'caiga', 'corta', 'con', 'compadecido', 'confesa3', 'cabeza', 'concluya3', 'cuarto', 'cabeza', 'cigarro', 'cinco', 'cinco', 'cinco', 'cabeza', 'cincuenta', 'cuatro', 'caado', 'cometer', 'cuatro', 'crisis', 'callejear', 'comprendia3', 'cosas', 'cielo', 'cositas', 'cositas', 'con', 'con', 'con', 'comprar', 'con', 'creaa', 'cuando', 'con', 'comprendiendo', 'culpa', 'como', 'como', 'conocer', 'creo', 'cuanto', 'cuatro', 'como', 'cansado', 'confuso', 'curioso', 'como', 'culpa', 'contesta3', 'con', 'con', 'cuarenta', 'cien', 'como', 'como', 'culpa', 'culpa', 'con', 'cada', 'cada', 'continua3', 'ciencia', 'condiciones', 'cuando', 'consultando', 'calendario', 'cuarenta', 'ca3mo', 'caminar', 'cansa', 'como', 'carroza', 'consigues', 'cualquier', 'creo', 'condenaras', 'cuando', 'cada', 'conservarla', 'condenar', 'creo', 'condiciones', 'como', 'con', 'comprender', 'contra', 'continua3', 'cinco', 'cansa3', 'con', 'caiga', 'corta', 'con', 'compadecido', 'confesa3', 'cabeza', 'concluya3', 'cuarto', 'cabeza', 'cigarro'], 'i': ['incluso', 'ios', 'interior', 'interas', 'invariablemente', 'interlocutor', 'imaganense', 'importante', 'impresionante', 'imposible', 'importa', 'indulgencia', 'igual', 'ilumina3', 'inclina3', 'irrita3', 'imaganense', 'intriga3', 'idea', 'ira', 'importa', 'ir', 'iv', 'importante', 'internacional', 'impuso', 'imaginarse', 'iba', 'importancia', 'ingenuamente', 'instruirse', 'ignoraba', 'importancia', 'ingenuidad', 'indisciplina', 'incluso', 'inclina3', 'indultaras', 'inteligente', 'inquiria3', 'informa3', 'insoportable', 'iba', 'importancia', 'ingenuamente', 'instruirse', 'ignoraba', 'importancia', 'ingenuidad', 'indisciplina', 'incluso', 'inclina3', 'indultaras', 'inteligente', 'inquiria3', 'informa3'], 'v': ['vive', 'vi', 'virgen', 'vividas', 'vez', 'vez', 'volado', 'vistazo', 'vida', 'viva', 'verdaderamente', 'virgen', 'viva', 'verdaderamente', 'vida', 'vocecita', 'vi', 'volva', 'viejo', 'viva', 'venaa', 'vez', 'vuela', 'volaba', 'vienes', 'vienes', 'venir', 'vienes', 'vaya', 'venus', 'veces', 'venaa', 'visto', 'vez', 'vestir', 'vestido', 'volvia3', 'voz', 'visto', 'ventanas', 'volcanes', 'volver', 'vez', 'vez', 'viento', 'vendra', 'visitarme', 'vete', 'vez', 'viese', 'visitarlos', 'vestido', 'visto', 'vea', 'viaje', 'veo', 'vez', 'verga14enza', 'vejado', 'volvia3', 'ver', 'volar', 'vez', 'veras', 'voy', 'vayas', 'viejo', 'visto', 'verdadero', 'vivir', 'vive', 'vieja', 'vieja', 'vez', 'vida', 'voy', 'viejo', 'vuestra', 'vacila3', 'viaje', 'vanidoso', 'viene', 'visitarme', 'vanidoso', 'vanidosos', 'vanidoso', 'vanidoso', 'vanidoso', 'visita', 'vanidoso', 'volvaa', 'vanidoso', 'vanidosos', 'verdad', 'vanidoso', 'vestido', 'viaje', 'visita', 'vacaas', 'volvia3', 'verga14enza', 'viaje', 'veintida3s', 'veintida3s', 'veintiocho', 'veintiocho', 'veintida3s', 'volvia3', 'vida', 'vez', 'veces', 'veintida3s', 'vez', 'vez', 'vez', 'veces', 'ven', 'veintida3s', 'visto', 'volcanes', 'volver', 'vez', 'vez', 'viento', 'vendra', 'visitarme', 'vete', 'vez', 'viese', 'visitarlos', 'vestido', 'visto', 'vea', 'viaje', 'veo', 'vez', 'verga14enza', 'vejado', 'volvia3', 'ver', 'volar', 'vez', 'veras', 'voy', 'vayas', 'viejo', 'visto', 'verdadero', 'vivir', 'vive', 'vieja', 'vieja', 'vez', 'vida', 'voy', 'viejo', 'vuestra', 'vacila3', 'viaje', 'vanidoso', 'viene', 'visitarme', 'vanidoso', 'vanidosos', 'vanidoso', 'vanidoso', 'vanidoso', 'visita', 'vanidoso', 'volvaa', 'vanidoso', 'vanidosos', 'verdad', 'vanidoso', 'vestido', 'viaje', 'visita', 'vacaas', 'volvia3', 'verga14enza', 'viaje'], 'f': ['francia', 'frao', 'fueran', 'fue', 'fiera', 'fin', 'fueran', 'fracaso', 'favor', 'frota', 'fin', 'favor', 'fuente', 'fue', 'falto', 'fue', 'fueron', 'felizmente', 'flor', 'fanal', 'flor', 'flor', 'fin', 'flor', 'feliz', 'fanal', 'flor', 'feliz', 'fanal', 'fresco', 'flor', 'fieras', 'flor', 'fin', 'fuese', 'frecuentemente', 'falda3n', 'flor', 'flor', 'firmeza', 'formulado', 'favorables', 'frustrada', 'favorables', 'favor', 'fue', 'formulado', 'fue', 'flor', 'fanal', 'flor', 'flor', 'fin', 'flor', 'feliz', 'fanal', 'flor', 'feliz', 'fanal', 'fresco', 'flor', 'fieras', 'flor', 'fin', 'fuese', 'frecuentemente', 'falda3n', 'flor', 'flor', 'firmeza', 'formulado', 'favorables', 'frustrada', 'favorables', 'favor', 'fue'], 'y': ['y', 'yo', 'ya', 'y', 'y', 'y', 'ya', 'y', 'y', 'y', 'y', 'y', 'y', 'y', 'y', 'y', 'y', 'y', 'yo', 'y', 'y', 'y', 'y', 'y', 'y', 'yo', 'y', 'y', 'ya', 'yo', 'y', 'yo', 'y', 'y', 'ya', 'ya', 'y', 'y', 'yo', 'y', 'y', 'y', 'y', 'y', 'y', 'y', 'y', 'y', 'y', 'y', 'y', 'y', 'y', 'y', 'y', 'yo', 'y', 'yo', 'y', 'ya', 'y', 'yo', 'y', 'y', 'y', 'y', 'y', 'y', 'ya', 'y', 'y', 'yo', 'yo', 'y', 'y', 'y', 'yo', 'y', 'y', 'y', 'yo', 'y', 'yo', 'ya', 'y', 'ya', 'ya', 'y', 'y', 'y', 'yo', 'ya', 'yo', 'y', 'yo', 'y', 'ya', 'ya', 'y', 'y', 'yo', 'y', 'y', 'y', 'ya', 'y', 'y', 'y', 'y', 'y', 'y', 'y', 'y', 'y', 'y', 'ya', 'y', 'y', 'y', 'y', 'yo', 'y', 'y', 'y', 'yo', 'y', 'yo', 'y', 'y', 'y', 'yo', 'y', 'yo', 'y', 'ya', 'y', 'yo', 'y', 'y', 'y', 'y', 'y', 'y', 'ya', 'y', 'y', 'yo', 'yo', 'y', 'y', 'y', 'yo', 'y', 'y', 'y', 'yo', 'y', 'yo', 'ya', 'y', 'ya', 'ya', 'y', 'y', 'y', 'yo', 'ya', 'yo', 'y', 'yo', 'y', 'ya', 'ya', 'y', 'y', 'yo', 'y', 'y', 'y', 'ya', 'y', 'y'], 'g': ['gran', 'geografaa', 'gramatica', 'geografaa', 'gente', 'golf', 'gravemente', 'geografaa', 'gramatica', 'garrapatea', 'gran', 'grita3', 'graciosa', 'gusta', 'gravedad', 'grande', 'grandes', 'gran', 'gustan', 'gusta', 'gana', 'geranios', 'ganas', 'garras', 'ganas', 'gran', 'general', 'general', 'general', 'gran', 'gesto', 'gracia', 'gustaraa', 'gusto', 'general', 'general', 'gobernante', 'gusta', 'gritar', 'gran', 'grita3', 'golpea', 'gran', 'ganas', 'garras', 'ganas', 'gran', 'general', 'general', 'general', 'gran', 'gesto', 'gracia', 'gustaraa', 'gusto', 'general', 'general', 'gobernante', 'gusta', 'gritar', 'gran', 'grita3', 'golpea', 'gran'], 'r': ['razones', 'recuerdan', 'representaba', 'reflexiona', 'respondieron', 'representaba', 'representaba', 'razonable', 'realizar', 'reparacia3n', 'rayo', 'retrato', 'redondos', 'respondia3', 'recorda', 'respondia3', 'rehace', 'realizar', 'rehice', 'rechazado', 'rapidamente', 'rostro', 'revelaron', 'respondia3', 'respondia3', 'rara', 'razones', 'reputacia3n', 'rosa', 'rega3', 'respondia3', 'repitia3', 'resfriada', 'reproches', 'resfriada', 'regia3n', 'rey', 'rey', 'rey', 'reconozca', 'reyes', 'rey', 'rey', 'rey', 'respondia3', 'rey', 'respondia3', 'rey', 'rey', 'respetada', 'razonables', 'respondia3', 'rey', 'recogiendo', 'reinar', 'rey', 'rey', 'rey', 'rey', 'respondia3', 'rey', 'rey', 'recordar', 'rey', 'recibida', 'rey', 'raza3n', 'revolucia3n', 'razonables', 'recorda3', 'respondia3', 'rey', 'rey', 'respondia3', 'rey', 'rey', 'recorrido', 'reino', 'respondia3', 'rey', 'rectamente', 'rey', 'rata', 'rata', 'rey', 'razonable', 'rey', 'respondiera', 'rey', 'raro', 'respondia3', 'rey', 'reconocer', 'rico', 'respondia3', 'renunciado', 'ruido', 'reumatismo', 'rey', 'reyes', 'reinan', 'rico', 'rico', 'rega3', 'respondia3', 'repitia3', 'resfriada', 'reproches', 'resfriada', 'regia3n', 'rey', 'rey', 'rey', 'reconozca', 'reyes', 'rey', 'rey', 'rey', 'respondia3', 'rey', 'respondia3', 'rey', 'rey', 'respetada', 'razonables', 'respondia3', 'rey', 'recogiendo', 'reinar', 'rey', 'rey', 'rey', 'rey', 'respondia3', 'rey', 'rey', 'recordar', 'rey', 'recibida', 'rey', 'raza3n', 'revolucia3n', 'razonables', 'recorda3', 'respondia3', 'rey', 'rey', 'respondia3', 'rey', 'rey', 'recorrido', 'reino', 'respondia3', 'rey', 'rectamente', 'rey', 'rata', 'rata', 'rey', 'razonable', 'rey', 'respondiera', 'rey', 'raro', 'respondia3', 'rey', 'reconocer', 'rico', 'respondia3'], 'b': ['boa', 'boa', 'boa', 'boa', 'boas', 'boa', 'bridge', 'beber', 'balsa', 'boas', 'boas', 'bien', 'bolsillo', 'boa', 'bruscamente', 'bolsillo', 'bueno', 'bueno', 'bien', 'b', 'b', 'bajo', 'b', 'brotes', 'baobabs', 'bien', 'busca3', 'bosteza3', 'bostezar', 'bosteces', 'bostezar', 'bostezos', 'bosteza', 'bosteces', 'bosteces', 'bueno', 'bosteza3', 'bello', 'bebedor', 'bebedor', 'botellas', 'botellas', 'bebedor', 'bebes', 'bebedor', 'bajando', 'beber', 'bebedor', 'brillan', 'brotes', 'baobabs', 'bien', 'busca3', 'bosteza3', 'bostezar', 'bosteces', 'bostezar', 'bostezos', 'bosteza', 'bosteces', 'bosteces', 'bueno', 'bosteza3', 'bello', 'bebedor', 'bebedor', 'botellas', 'botellas', 'bebedor', 'bebes', 'bebedor', 'bajando', 'beber', 'bebedor'], '1': ['1', '1', '1', '1', '1', '1909', '1920'], 'j': ['jungla', 'joven', 'juez', 'jamas', 'jaopiter', 'jamas', 'juegos', 'jamas', 'jamas', 'justicia', 'juzgar', 'juzgaras', 'juzgarse', 'juzgar', 'juzgarte', 'juzgarme', 'juzgar', 'justicia', 'juicio', 'juego', 'jamas', 'justicia', 'juzgar', 'juzgaras', 'juzgarse', 'juzgar', 'juzgarte', 'juzgarme', 'juzgar', 'justicia', 'juicio', 'juego'], '2': ['2', '2', '2', '21', '22', '23', '24', '25', '26', '27', '28', '29', '21', '22', '23', '24', '25', '26', '27', '28'], '3': ['3', '3251', '325', '326', '327', '328', '329', '330', '30', '31', '325', '326', '327', '328', '329', '330'], '4': ['4'], '5': ['5'], '6': ['6', '612', '612', '612'], '7': ['7'], '8': ['8'], '9': ['9'], 'x': ['x', 'xii', 'xiii', 'x', 'xii', 'xiii']}\n",
            "List of words starting with a:\n",
            "['antoine', 'a', 'a', 'a', 'amigo', 'al', 'antes', 'a', 'aaos', 'a', 'afirmaba', 'aventuras', 'a', 'arte', 'a', 'apor', 'asustar', 'a', 'asa', 'aconsejaron', 'abandonar', 'abiertas', 'a', 'aaos', 'abandona', 'algo', 'aburrido', 'aprendaa', 'aviones', 'al', 'arizona', 'aotil', 'a', 'alguien', 'a', 'abstenaa', 'a', 'altura', 'a', 'asa', 'aaos', 'averaa', 'algo', 'alguno', 'a', 'apenas', 'agua', 'arena', 'a', 'aislado', 'al', 'amanecer', 'apor', 'aeh', 'apantame', 'a', 'alrededor', 'a', 'aha', 'al', 'aunque', 'a', 'aaos', 'aprendido', 'a', 'abiertas', 'a', 'aquella', 'aparicia3n', 'admiracia3n', 'a', 'ahora', 'absoluto', 'apariencia', 'a', 'articular', 'aqua', 'aqua', 'al', 'algo', 'apor', 'absurdo', 'aquello', 'a', 'al', 'al', 'aonicos', 'al', 'ano', 'atentamente', 'ano', 'a', 'amigo', 'aves', 'anteriores', 'a', 'agregua', 'adentro', 'aasa', 'acrees', 'apor', 'abueno', 'asa', 'al', 'al', 'azar', 'a', 'asa', 'avia3n', 'avia3n', 'aqua', 'avia3n', 'avia3n', 'al', 'aca3mo', 'ahas', 'aah', 'aaadia3', 'atao', 'ade', 'atu', 'avia3n', 'abisma3', 'algo', 'ade', 'ada3nde', 'ada3nde', 'atarlo', 'al', 'aatarlo', 'aqua', 'atas', 'amigo', 'ay', 'a', 'adelante', 'ano', 'agrega3', 'adelante', 'apenas', 'asombrarme', 'aparte', 'a', 'a', 'aun', 'ayuda', 'astra3nomo', 'asteroide', 'asteroide', 'asteroide', 'astra3nomo', 'astra3nomo', 'astronomaa', 'a', 'asa', 'asteroide', 'a', 'a', 'astra3nomo', 'a', 'acepta3', 'asteroide', 'a', 'a', 'amigo', 'aqua', 'aqua', 'ale', 'aqua', 'acuantos', 'acuanto', 'acuanto', 'a', 'a', 'arranca3', 'aoltimos', 'a', 'aquellos', 'aquella', 'aoltima', 'a', 'al', 'abrigo', 'adia3s', 'a', 'adia3s', 'al', 'ausencia', 'aire', 'aire', 'animales', 'aquian', 'a', 'a', 'aaadia3', 'asteroides', 'algo', 'al', 'armiao', 'aah', 'al', 'al', 'aqua', 'aca3mo', 'aproxamate', 'alguien', 'armiao', 'apenas', 'aaos', 'a', 'algo', 'avamos', 'ahum', 'abueno', 'a', 'autoridad', 'absoluto', 'a3rdenes', 'a', 'ave', 'apuedo', 'armiao', 'aquel', 'aquel', 'apresura3', 'a', 'asobre', 'asobre', 'asobre', 'a', 'absoluto', 'ademas', 'ay', 'anaturalmente', 'al', 'al', 'asistir', 'a', 'a', 'a', 'a', 'arrastrar', 'al', 'abandonado', 'atrevia3', 'a', 'al', 'al', 'a', 'ave', 'ade', 'al', 'a', 'autoridad', 'apoya', 'antes', 'a', 'al', 'a', 'a3rdenes', 'aentonces', 'ay', 'aejem', 'aejem', 'ademas', 'aburriendo', 'aqua', 'al', 'aministro', 'ade', 'apero', 'aqua', 'a', 'aoh', 'al', 'alla', 'abajo', 'a', 'a', 'a', 'a', 'aqua', 'aejem', 'alguna', 'a', 'a', 'a', 'a', 'a', 'a', 'al', 'antes', 'ate', 'apresura3', 'a', 'aspecto', 'autoridad', 'aah', 'aah', 'aun', 'admirador', 'a', 'al', 'a', 'al', 'admiradores', 'abuenos', 'aqua', 'a', 'aclaman', 'aqua', 'aah', 'aconseja3', 'aplaudia3', 'al', 'aplaudiendo', 'a', 'a', 'aquel', 'aqua', 'alabanzas', 'atao', 'admiras', 'al', 'aqua', 'admirar', 'admirar', 'asi', 'ahazme', 'admarame', 'abueno', 'admiro', 'apara', 'al', 'aqua', 'aha', 'al', 'ante', 'abebo', 'apor', 'a', 'apara', 'averga14enza', 'ayudarle', 'averga14enza', 'abstraado', 'a', 'abuenos', 'aste', 'apagado', 'abuenos', 'auf', 'aquinientos', 'aeh', 'aestas', 'aha', 'ahe', 'ayo', 'aquinientos', 'a', 'a', 'aaos', 'aaos', 'abejorro', 'aqua', 'aaos', 'ala', 'asta', 'amillones', 'algunas', 'amoscas', 'ano', 'aabejas', 'a', 'ayo', 'aah', 'aestrellas', 'ay', 'ay', 'aque', 'aque', 'ay', 'ay', 'alguien', 'arranca3', 'aoltimos', 'a', 'aquellos', 'aquella', 'aoltima', 'a', 'al', 'abrigo', 'adia3s', 'a', 'adia3s', 'al', 'ausencia', 'aire', 'aire', 'animales', 'aquian', 'a', 'a', 'aaadia3', 'asteroides', 'algo', 'al', 'armiao', 'aah', 'al', 'al', 'aqua', 'aca3mo', 'aproxamate', 'alguien', 'armiao', 'apenas', 'aaos', 'a', 'algo', 'avamos', 'ahum', 'abueno', 'a', 'autoridad', 'absoluto', 'a3rdenes', 'a', 'ave', 'apuedo', 'armiao', 'aquel', 'aquel', 'apresura3', 'a', 'asobre', 'asobre', 'asobre', 'a', 'absoluto', 'ademas', 'ay', 'anaturalmente', 'al', 'al', 'asistir', 'a', 'a', 'a', 'a', 'arrastrar', 'al', 'abandonado', 'atrevia3', 'a', 'al', 'al', 'a', 'ave', 'ade', 'al', 'a', 'autoridad', 'apoya', 'antes', 'a', 'al', 'a', 'a3rdenes', 'aentonces', 'ay', 'aejem', 'aejem', 'ademas', 'aburriendo', 'aqua', 'al', 'aministro', 'ade', 'apero', 'aqua', 'a', 'aoh', 'al', 'alla', 'abajo', 'a', 'a', 'a', 'a', 'aqua', 'aejem', 'alguna', 'a', 'a', 'a', 'a', 'a', 'a', 'al', 'antes', 'ate', 'apresura3', 'a', 'aspecto', 'autoridad', 'aah', 'aah', 'aun', 'admirador', 'a', 'al', 'a', 'al', 'admiradores', 'abuenos', 'aqua', 'a', 'aclaman', 'aqua', 'aah', 'aconseja3', 'aplaudia3', 'al', 'aplaudiendo', 'a', 'a', 'aquel', 'aqua', 'alabanzas', 'atao', 'admiras', 'al', 'aqua', 'admirar', 'admirar', 'asi', 'ahazme', 'admarame', 'abueno', 'admiro', 'apara', 'al', 'aqua', 'aha', 'al', 'ante', 'abebo', 'apor', 'a', 'apara', 'averga14enza', 'ayudarle', 'averga14enza', 'abstraado', 'a', 'abuenos', 'aste', 'apagado']\n",
            "\n",
            "List of words starting with p:\n",
            "['principito', 'pido', 'perda3n', 'por', 'persona', 'persona', 'pero', 'persona', 'para', 'persona', 'pasa', 'por', 'persona', 'personas', 'pero', 'pocas', 'por', 'presa', 'puede', 'primer', 'personas', 'pregunta', 'personas', 'pudieran', 'personas', 'personas', 'poner', 'pintor', 'por', 'personas', 'pueden', 'por', 'para', 'pues', 'pilotear', 'poco', 'por', 'primer', 'podaa', 'perfectamente', 'pierde', 'personas', 'pero', 'parecaa', 'poco', 'poniandome', 'polatica', 'poder', 'pasajero', 'para', 'pues', 'para', 'primera', 'pra3ximo', 'pues', 'pantame', 'puse', 'pie', 'por', 'pero', 'personas', 'pintor', 'pues', 'pra3ximo', 'parecaa', 'perdido', 'perdido', 'pra3ximo', 'por', 'palabra', 'pero', 'por', 'pantame', 'por', 'pareciera', 'peligro', 'papel', 'pluma', 'poco', 'pantame', 'para', 'peligrosa', 'pequeao', 'pantame', 'paciencia', 'para', 'porque', 'pequeao', 'pequeao', 'principito', 'principito', 'preguntas', 'parecaa', 'palabras', 'pronunciadas', 'poco', 'poco', 'por', 'primera', 'por', 'para', 'pregunta3', 'principito', 'planeta', 'presencia', 'pregunta', 'pues', 'planeta', 'pero', 'puedes', 'planetas', 'pues', 'por', 'para', 'proposicia3n', 'parecia3', 'principito', 'perdera', 'parte', 'principito', 'pequeaa', 'poco', 'puede', 'planeta', 'podaa', 'planetas', 'pequeaos', 'planetas', 'por', 'por', 'poderosas', 'para', 'planeta', 'principito', 'por', 'pero', 'personas', 'para', 'pueblo', 'pena', 'por', 'personas', 'preguntan', 'preguntar', 'prefiere', 'pero', 'preguntan', 'pesa', 'padre', 'personas', 'preciosa', 'palomas', 'posibilidad', 'pequeaos', 'por', 'principito', 'poco', 'pero', 'parecieron', 'por', 'ponerla', 'principito', 'pero', 'porque', 'perda3name', 'procura', 'por', 'pero', 'pero', 'para', 'prolongues', 'puesto', 'partir', 'para', 'primero', 'por', 'paorpura', 'principito', 'principito', 'pregunta3', 'posible', 'para', 'para', 'por', 'principito', 'pero', 'planeta', 'por', 'pues', 'pie', 'pero', 'permite', 'presencia', 'prohabo', 'podido', 'principito', 'para', 'principito', 'pronto', 'poco', 'parecaa', 'pues', 'pero', 'pregunta3', 'principito', 'principito', 'planeta', 'pequeao', 'podraa', 'perda3neme', 'pregunto', 'preguntes', 'poder', 'planeta', 'planetas', 'preguntar', 'principito', 'pues', 'poder', 'principito', 'poder', 'podido', 'puestas', 'poco', 'pequeao', 'planeta', 'puesta', 'ponga', 'principito', 'pedir', 'puede', 'pueblo', 'pueblo', 'porque', 'puesta', 'principito', 'pregunta', 'puesta', 'pero', 'previamente', 'principito', 'puesta', 'poco', 'partas', 'para', 'pero', 'principito', 'para', 'planeta', 'puedo', 'parte', 'parte', 'planeta', 'por', 'podras', 'para', 'principito', 'pero', 'principito', 'preparativos', 'puntualmente', 'podraa', 'podraa', 'por', 'partir', 'parece', 'principito', 'primero', 'personas', 'principito', 'para', 'planeta', 'por', 'principito', 'para', 'principito', 'para', 'pasa', 'por', 'pregunta3', 'principito', 'principito', 'parece', 'para', 'principito', 'principito', 'para', 'pregunta3', 'principito', 'pero', 'pregunta3', 'principito', 'planeta', 'planeta', 'principito', 'pero', 'principito', 'personas', 'para', 'principito', 'planeta', 'por', 'pues', 'principito', 'pregunta3', 'preguntar', 'principito', 'para', 'principito', 'para', 'principito', 'principito', 'perplejo', 'personas', 'para', 'principito', 'planeta', 'por', 'principito', 'preguntar', 'principito', 'pregunta', 'planeta', 'primera', 'por', 'por', 'pues', 'pues', 'paz', 'pequeaas', 'poseo', 'poseen', 'poseer', 'para', 'para', 'posibilidad', 'pequeaos', 'por', 'principito', 'poco', 'pero', 'parecieron', 'por', 'ponerla', 'principito', 'pero', 'porque', 'perda3name', 'procura', 'por', 'pero', 'pero', 'para', 'prolongues', 'puesto', 'partir', 'para', 'primero', 'por', 'paorpura', 'principito', 'principito', 'pregunta3', 'posible', 'para', 'para', 'por', 'principito', 'pero', 'planeta', 'por', 'pues', 'pie', 'pero', 'permite', 'presencia', 'prohabo', 'podido', 'principito', 'para', 'principito', 'pronto', 'poco', 'parecaa', 'pues', 'pero', 'pregunta3', 'principito', 'principito', 'planeta', 'pequeao', 'podraa', 'perda3neme', 'pregunto', 'preguntes', 'poder', 'planeta', 'planetas', 'preguntar', 'principito', 'pues', 'poder', 'principito', 'poder', 'podido', 'puestas', 'poco', 'pequeao', 'planeta', 'puesta', 'ponga', 'principito', 'pedir', 'puede', 'pueblo', 'pueblo', 'porque', 'puesta', 'principito', 'pregunta', 'puesta', 'pero', 'previamente', 'principito', 'puesta', 'poco', 'partas', 'para', 'pero', 'principito', 'para', 'planeta', 'puedo', 'parte', 'parte', 'planeta', 'por', 'podras', 'para', 'principito', 'pero', 'principito', 'preparativos', 'puntualmente', 'podraa', 'podraa', 'por', 'partir', 'parece', 'principito', 'primero', 'personas', 'principito', 'para', 'planeta', 'por', 'principito', 'para', 'principito', 'para', 'pasa', 'por', 'pregunta3', 'principito', 'principito', 'parece', 'para', 'principito', 'principito', 'para', 'pregunta3', 'principito', 'pero', 'pregunta3', 'principito', 'planeta', 'planeta', 'principito', 'pero', 'principito', 'personas', 'para', 'principito', 'planeta', 'por', 'pues', 'principito', 'pregunta3', 'preguntar', 'principito', 'para', 'principito', 'para', 'principito', 'principito', 'perplejo', 'personas', 'para', 'principito', 'planeta', 'por', 'principito']\n",
            "\n",
            "List of words starting with s:\n",
            "['saintexupary', 'seaa', 'ser', 'si', 'suficientes', 'sido', 'seis', 'sobre', 'selva', 'se', 'serpiente', 'se', 'se', 'serpiente', 'se', 'su', 'sin', 'seis', 'su', 'sobre', 'si', 'sombrero', 'sombrero', 'serpiente', 'serpiente', 'siempre', 'serpientes', 'seis', 'sa', 'solas', 'servido', 'sobre', 'si', 'se', 'seria', 'sobre', 'sometido', 'siempre', 'saber', 'si', 'ser', 'siempre', 'sombrero', 'serpiente', 'selva', 'su', 'se', 'solo', 'seis', 'sahara', 'se', 'solo', 'sobre', 'sorpresa', 'salto', 'seis', 'sed', 'suavemente', 'saqua', 'sabaa', 'serpiente', 'serpiente', 'serpiente', 'sitio', 'sonria3', 'se', 'sorpresa', 'se', 'sea', 'se', 'sentaa', 'sa', 'se', 'serio', 'su', 'se', 'sacando', 'su', 'se', 'su', 'semiconfidencia', 'sobre', 'saber', 'silenciosamente', 'servira', 'sin', 'si', 'si', 'se', 'sabe', 'se', 'solta3', 'sa', 'seaala3', 'se', 'supe', 'segunda', 'su', 'sabaa', 'se', 'sido', 'sa3lo', 'su', 'su', 'son', 'su', 'su', 'su', 'si', 'sobre', 'su', 'se', 'sobre', 'se', 'su', 'su', 'solamente', 'si', 'somos', 'se', 'sintia3', 'sido', 'ser', 'se', 'sorprendia3', 'sa', 'sido', 'sepas', 'sido', 'ser', 'suelta', 'soy', 'sera', 'soporte', 'si', 'son', 'si', 'sus', 'se', 'sentado', 'sobre', 'sencillo', 'sin', 'saobdito', 'se', 'si', 'simplificado', 'son', 'saobditos', 'ser', 'sentarse', 'se', 'son', 'su', 'siempre', 'si', 'si', 'se', 'seraa', 'sino', 'sentarme', 'sentarte', 'su', 'sorprendido', 'se', 'sobre', 'seaor', 'si', 'se', 'seaor', 'su', 'sobre', 'sencillo', 'seaala3', 'su', 'sobre', 'sa3lo', 'seguida', 'semejante', 'si', 'sino', 'setenta', 'sol', 'sin', 'su', 'silla', 'se', 'sentaa', 'su', 'se', 'solicitar', 'sol', 'sol', 'se', 'si', 'seraa', 'seraa', 'sa3lo', 'se', 'si', 'se', 'son', 'sol', 'su', 'sol', 'segaon', 'sean', 'sera', 'sera', 'sera', 'siete', 'se', 'su', 'sol', 'se', 'se', 'sentaa', 'saobdito', 'si', 'se', 'sabe', 'sitio', 'se', 'sa', 'si', 'sabio', 'su', 'sus', 'si', 'ser', 'son', 'suspiro', 'se', 'son', 'se', 'sa', 'segundo', 'son', 'sombrero', 'saludar', 'sa', 'sin', 'saluda3', 'sombrero', 'se', 'sa', 'saludarle', 'sombrero', 'se', 'sombrero', 'se', 'sa3lo', 'significa', 'significa', 'soy', 'solo', 'sirve', 'se', 'son', 'se', 'sa', 'su', 'siguiente', 'sentado', 'silencio', 'sinnaomero', 'siento', 'se', 'se', 'silencio', 'se', 'son', 'seguaa', 'sa', 'su', 'siquiera', 'su', 'se', 'siete', 'siete', 'seis', 'suma', 'seiscientos', 'setecientos', 'sa', 'soy', 'serio', 'siete', 'su', 'sa3lo', 'sabe', 'suma', 'segunda', 'soy', 'serio', 'se', 'soy', 'serio', 'seiscientos', 'setecientos', 'soy', 'serio', 'sa', 'son', 'sa', 'sirve', 'sirve', 'ser', 'sirve', 'ser', 'sirve', 'si', 'somos', 'se', 'sintia3', 'sido', 'ser', 'se', 'sorprendia3', 'sa', 'sido', 'sepas', 'sido', 'ser', 'suelta', 'soy', 'sera', 'soporte', 'si', 'son', 'si', 'sus', 'se', 'sentado', 'sobre', 'sencillo', 'sin', 'saobdito', 'se', 'si', 'simplificado', 'son', 'saobditos', 'ser', 'sentarse', 'se', 'son', 'su', 'siempre', 'si', 'si', 'se', 'seraa', 'sino', 'sentarme', 'sentarte', 'su', 'sorprendido', 'se', 'sobre', 'seaor', 'si', 'se', 'seaor', 'su', 'sobre', 'sencillo', 'seaala3', 'su', 'sobre', 'sa3lo', 'seguida', 'semejante', 'si', 'sino', 'setenta', 'sol', 'sin', 'su', 'silla', 'se', 'sentaa', 'su', 'se', 'solicitar', 'sol', 'sol', 'se', 'si', 'seraa', 'seraa', 'sa3lo', 'se', 'si', 'se', 'son', 'sol', 'su', 'sol', 'segaon', 'sean', 'sera', 'sera', 'sera', 'siete', 'se', 'su', 'sol', 'se', 'se', 'sentaa', 'saobdito', 'si', 'se', 'sabe', 'sitio', 'se', 'sa', 'si', 'sabio', 'su', 'sus', 'si', 'ser', 'son', 'suspiro', 'se', 'son', 'se', 'sa', 'segundo', 'son', 'sombrero', 'saludar', 'sa', 'sin', 'saluda3', 'sombrero', 'se', 'sa', 'saludarle', 'sombrero', 'se', 'sombrero', 'se', 'sa3lo', 'significa', 'significa', 'soy', 'solo', 'sirve', 'se', 'son', 'se', 'sa', 'su', 'siguiente', 'sentado', 'silencio', 'sinnaomero', 'siento', 'se', 'se', 'silencio', 'se', 'son', 'seguaa', 'sa', 'su', 'siquiera', 'su', 'se']\n"
          ]
        }
      ],
      "source": [
        "def dict_words(words: List[str]) -> dict:\n",
        "  \"\"\"\n",
        "  Return a dictionary with the words starting with each letter\n",
        "  \"\"\"\n",
        "  dict_words = {}\n",
        "\n",
        "  # Iterate over words\n",
        "  for word in words:\n",
        "    if word[0] not in dict_words:\n",
        "      dict_words[word[0]] = [word]\n",
        "    else:\n",
        "      dict_words[word[0]].append(word)\n",
        "\n",
        "  return dict_words\n",
        "\n",
        "if __name__ == '__main__':\n",
        "  dictionary_with_words = dict_words(words)\n",
        "  print(dictionary_with_words)\n",
        "  print(\"List of words starting with a:\")\n",
        "  print(dictionary_with_words['a'])\n",
        "  print(\"\\nList of words starting with p:\")\n",
        "  print(dictionary_with_words['p'])\n",
        "  print(\"\\nList of words starting with s:\")\n",
        "  print(dictionary_with_words['s'])"
      ]
    },
    {
      "cell_type": "code",
      "execution_count": 9,
      "metadata": {
        "colab": {
          "base_uri": "https://localhost:8080/"
        },
        "id": "t5KP9-qvcTFV",
        "outputId": "2b5a244a-8542-4100-fe13-f373d14e4adc"
      },
      "outputs": [
        {
          "name": "stdout",
          "output_type": "stream",
          "text": [
            "Amount of punctuation symbols in text: 1474\n"
          ]
        }
      ],
      "source": [
        "import string\n",
        "\n",
        "def count_punctuation(text: str) -> int:\n",
        "  \"\"\"\n",
        "  Return the number of punctuation symbols in the text.\n",
        "  \"\"\"\n",
        "  # Initialize count to 0\n",
        "  count = 0\n",
        "\n",
        "  # Iterate through each character in the text\n",
        "  for c in text:\n",
        "      # Check if the character is in the punctuation set\n",
        "      if c in string.punctuation: # string.punctuation = (!\"#$%&'()*+,-./:;<=>?@[\\]^_{|}~`)\n",
        "          count += 1\n",
        "\n",
        "  return count\n",
        "\n",
        "if __name__ == '__main__':\n",
        "  count = count_punctuation(text)\n",
        "  print(f\"Amount of punctuation symbols in text: {count}\")"
      ]
    }
  ],
  "metadata": {
    "colab": {
      "provenance": []
    },
    "kernelspec": {
      "display_name": "Python 3",
      "name": "python3"
    },
    "language_info": {
      "codemirror_mode": {
        "name": "ipython",
        "version": 3
      },
      "file_extension": ".py",
      "mimetype": "text/x-python",
      "name": "python",
      "nbconvert_exporter": "python",
      "pygments_lexer": "ipython3",
      "version": "3.11.9"
    }
  },
  "nbformat": 4,
  "nbformat_minor": 0
}
