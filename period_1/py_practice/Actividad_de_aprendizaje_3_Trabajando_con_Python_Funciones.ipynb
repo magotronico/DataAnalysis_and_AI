{
  "cells": [
    {
      "cell_type": "markdown",
      "metadata": {
        "colab_type": "text",
        "id": "view-in-github"
      },
      "source": [
        "<a href=\"https://colab.research.google.com/github/magotronico/DataAnalysis_and_AI/blob/main/Actividad_de_aprendizaje_3_Trabajando_con_Python_Funciones.ipynb\" target=\"_parent\"><img src=\"https://colab.research.google.com/assets/colab-badge.svg\" alt=\"Open In Colab\"/></a>"
      ]
    },
    {
      "cell_type": "markdown",
      "metadata": {
        "id": "BfRSozuqaEKR"
      },
      "source": [
        "# Actividad de aprendizaje 3: Trabajando con Python. Funciones\n",
        "Usando PEP 8 y PEP 484 para estandarización y legibilidad de scripts.\n",
        "\n",
        "\n",
        "Dilan González Castañeda A00831905\n"
      ]
    },
    {
      "cell_type": "markdown",
      "metadata": {
        "id": "1OjZLGTXZpnm"
      },
      "source": [
        "## Problema 0\n",
        "\n",
        "Escribir una función que calcule el total de una factura tras aplicarle el IVA. La función debe recibir la cantidad sin IVA y el porcentaje de IVA a aplicar, y devolver el total de la factura. Si se invoca la función sin pasarle el porcentaje de IVA, deberá aplicar un 21%.\n",
        "\n"
      ]
    },
    {
      "cell_type": "code",
      "execution_count": 30,
      "metadata": {
        "colab": {
          "base_uri": "https://localhost:8080/"
        },
        "id": "bluZ1GixZoKu",
        "outputId": "ad6c32cd-1f7c-468d-d2e6-4ca7d39fa3ce"
      },
      "outputs": [
        {
          "name": "stdout",
          "output_type": "stream",
          "text": [
            "121.0\n",
            "1700\n"
          ]
        }
      ],
      "source": [
        "def calc_total(subtotal: float, iva: float = 0.21) -> float:\n",
        "  return subtotal * (1 + iva)\n",
        "\n",
        "if __name__ == '__main__':\n",
        "  print(calc_total(100))\n",
        "  print(calc_total(100, 0.16))"
      ]
    },
    {
      "cell_type": "markdown",
      "metadata": {
        "id": "RdjhOQbVZvni"
      },
      "source": [
        "## Problema 1\n",
        "Escribir una función que reciba una muestra de números en una lista y devuelva un diccionario con su media, varianza y desviación típica."
      ]
    },
    {
      "cell_type": "code",
      "execution_count": 39,
      "metadata": {
        "colab": {
          "base_uri": "https://localhost:8080/"
        },
        "id": "ZBxRMfDnaKhS",
        "outputId": "27e28ae4-661c-44b5-fef7-403b45890bbf"
      },
      "outputs": [
        {
          "name": "stdout",
          "output_type": "stream",
          "text": [
            "{'media': 3.0, 'varianza': 2.0, 'desviacion': 1.4142135623730951}\n",
            "{'media': 8.700000000000001, 'varianza': 18.956666666666663, 'desviacion': 4.353925431913902}\n"
          ]
        }
      ],
      "source": [
        "import math\n",
        "import numpy as np\n",
        "from typing import List, TypeVar\n",
        "\n",
        "T = TypeVar('T', int, float)\n",
        "\n",
        "def calc_estadisticos(nums: List[T]) -> dict:\n",
        "  media = np.mean(nums)\n",
        "  varianza = np.var(nums)\n",
        "  desviacion = np.std(nums)\n",
        "\n",
        "  return {\"media\": media, \"varianza\": varianza, \"desviacion\": desviacion}\n",
        "\n",
        "if __name__ == '__main__':\n",
        "  print(calc_estadisticos([1, 2, 3, 4, 5]))\n",
        "  print(calc_estadisticos([2.3, 5.7, 6.8, 9.7, 12.1, 15.6]))"
      ]
    },
    {
      "cell_type": "markdown",
      "metadata": {
        "id": "-ebYBSW0ZyR_"
      },
      "source": [
        "## Problema 2\n",
        "Definir una función que calcule la longitud de una lista o una cadena dada. (Es cierto que python tiene la función len() incorporada, pero escribirla por nosotros mismos resulta un muy buen ejercicio."
      ]
    },
    {
      "cell_type": "code",
      "execution_count": 36,
      "metadata": {
        "colab": {
          "base_uri": "https://localhost:8080/"
        },
        "id": "E7NimOCKaK71",
        "outputId": "187c7747-1587-4bd4-98cb-489144aa9f56"
      },
      "outputs": [
        {
          "name": "stdout",
          "output_type": "stream",
          "text": [
            "5\n",
            "4\n",
            "5\n"
          ]
        }
      ],
      "source": [
        "from typing import List, TypeVar\n",
        "\n",
        "T = TypeVar('T')\n",
        "\n",
        "def lenght(lst: List[T]) -> int:\n",
        "  count = 0\n",
        "\n",
        "  for _ in lst:\n",
        "    count += 1\n",
        "\n",
        "  return count\n",
        "\n",
        "\n",
        "if __name__ == '__main__':\n",
        "  print(lenght([1, 2, 3, 4, 5]))\n",
        "  print(lenght(\"Hola\"))\n",
        "  print(lenght([1, 2.3, 3, \"Hello\", 5]))"
      ]
    },
    {
      "cell_type": "markdown",
      "metadata": {
        "id": "YnkfkhssZ397"
      },
      "source": [
        "## Problema 3\n",
        "Escribir un programa que reciba una cadena de caracteres y devuelva un diccionario con cada palabra que contiene y su frecuencia. Escribir otra función que reciba el diccionario generado con la función anterior y devuelva una tupla con la palabra más repetida y su frecuencia."
      ]
    },
    {
      "cell_type": "code",
      "execution_count": 1,
      "metadata": {
        "colab": {
          "base_uri": "https://localhost:8080/"
        },
        "id": "v1w-rQglaLSN",
        "outputId": "7b7bc57f-858e-42b2-8449-3f91a72165e7"
      },
      "outputs": [
        {
          "name": "stdout",
          "output_type": "stream",
          "text": [
            "{'El': 3, 'bosque': 1, 'era': 3, 'un': 1, 'lugar': 1, 'mágico.': 1, 'Los': 1, 'árboles,': 1, 'altos': 1, 'y': 4, 'esbeltos,': 1, 'se': 1, 'elevaban': 1, 'hacia': 1, 'el': 2, 'cielo': 1, 'como': 2, 'gigantes': 1, 'vigilantes.': 1, 'Sus': 1, 'hojas,': 1, 'verdes': 1, 'brillantes,': 1, 'bailaban': 1, 'al': 1, 'ritmo': 1, 'del': 1, 'viento.': 1, 'suelo,': 1, 'cubierto': 1, 'de': 2, 'hojas': 1, 'secas': 1, 'musgo,': 1, 'suave': 1, 'una': 1, 'alfombra.': 1, 'silencio,': 1, 'profundo': 1, 'absoluto,': 1, 'solo': 1, 'interrumpido': 1, 'por': 1, 'canto': 1, 'los': 1, 'pájaros.': 1}\n",
            "('y', 4)\n"
          ]
        }
      ],
      "source": [
        "from math import inf\n",
        "\n",
        "def count_words(sentence: str) -> dict:\n",
        "  words = sentence.split()\n",
        "  counts = {}\n",
        "\n",
        "  for word in words:\n",
        "    if word in counts:\n",
        "      counts[word] += 1\n",
        "    else:\n",
        "      counts[word] = 1\n",
        "\n",
        "  return counts\n",
        "\n",
        "def most_repeated(counts: dict) -> tuple:\n",
        "  max = -inf\n",
        "\n",
        "  # Value of most repeated word (s)\n",
        "  for word, count in counts.items():\n",
        "    if count > max:\n",
        "      max = count\n",
        "\n",
        "  # In order to handle tied\n",
        "  word_max = ()\n",
        "  for word, count in counts.items():\n",
        "    if count == max:\n",
        "      word_max = word_max + (word,)\n",
        "\n",
        "  res = word_max + (max,)\n",
        "\n",
        "  return res\n",
        "\n",
        "if __name__ == '__main__':\n",
        "  string = \"El bosque era un lugar mágico. Los árboles, altos y esbeltos, se elevaban hacia el cielo como gigantes vigilantes. Sus hojas, verdes y brillantes, bailaban al ritmo del viento. El suelo, cubierto de hojas secas y musgo, era suave como una alfombra. El silencio, profundo y absoluto, solo era interrumpido por el canto de los pájaros.\"\n",
        "\n",
        "  print(count_words(string))\n",
        "  print(most_repeated(count_words(string)))"
      ]
    },
    {
      "cell_type": "markdown",
      "metadata": {
        "id": "jJVNOVJLZ7q6"
      },
      "source": [
        "## Problema 4\n",
        "Crea una función llamada es_primo que determine si un número es primo. La función debe recibir un número entero como parámetro y devolver True si el número es primo, o False en caso contrario"
      ]
    },
    {
      "cell_type": "code",
      "execution_count": 27,
      "metadata": {
        "colab": {
          "base_uri": "https://localhost:8080/"
        },
        "id": "0cDcM3ftaLte",
        "outputId": "8861662c-fb3a-4f36-b066-20a423fac39d"
      },
      "outputs": [
        {
          "name": "stdout",
          "output_type": "stream",
          "text": [
            "False\n",
            "True\n",
            "True\n",
            "False\n",
            "True\n"
          ]
        }
      ],
      "source": [
        "def es_primo(num: int) -> bool:\n",
        "  if num < 2:\n",
        "    return False\n",
        "\n",
        "  for i in range(2, num):\n",
        "    if num % i == 0:\n",
        "      return False\n",
        "\n",
        "  return True\n",
        "\n",
        "if __name__ == '__main__':\n",
        "  print(es_primo(1))\n",
        "  print(es_primo(2))\n",
        "  print(es_primo(3))\n",
        "  print(es_primo(4))\n",
        "  print(es_primo(5))"
      ]
    },
    {
      "cell_type": "markdown",
      "metadata": {
        "id": "MtOV-wfsZ-1Y"
      },
      "source": [
        "## Problema 5\n",
        "Escribe una función llamada convertir_temperatura que convierta temperaturas de grados Celsius a grados Fahrenheit. La función debe recibir un parámetro, la temperatura en Celsius, y devolver la temperatura equivalente en Fahrenheit."
      ]
    },
    {
      "cell_type": "code",
      "execution_count": 28,
      "metadata": {
        "colab": {
          "base_uri": "https://localhost:8080/"
        },
        "id": "Mnppg3oaaMIv",
        "outputId": "b74ca49d-cd18-481a-8c6e-e87df5163ea3"
      },
      "outputs": [
        {
          "name": "stdout",
          "output_type": "stream",
          "text": [
            "32.0\n",
            "212.0\n"
          ]
        }
      ],
      "source": [
        "def convertir_temperatura(celsius: float) -> float:\n",
        "  return celsius * 9/5 + 32\n",
        "\n",
        "if __name__ == '__main__':\n",
        "  print(convertir_temperatura(0))\n",
        "  print(convertir_temperatura(100))"
      ]
    }
  ],
  "metadata": {
    "colab": {
      "authorship_tag": "ABX9TyPgzDBsJBKObKn1oVg4U7lc",
      "include_colab_link": true,
      "provenance": [],
      "toc_visible": true
    },
    "kernelspec": {
      "display_name": "Python 3",
      "name": "python3"
    },
    "language_info": {
      "codemirror_mode": {
        "name": "ipython",
        "version": 3
      },
      "file_extension": ".py",
      "mimetype": "text/x-python",
      "name": "python",
      "nbconvert_exporter": "python",
      "pygments_lexer": "ipython3",
      "version": "3.11.9"
    }
  },
  "nbformat": 4,
  "nbformat_minor": 0
}
