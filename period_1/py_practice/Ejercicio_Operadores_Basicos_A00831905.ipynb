{
  "nbformat": 4,
  "nbformat_minor": 0,
  "metadata": {
    "colab": {
      "provenance": [],
      "include_colab_link": true
    },
    "kernelspec": {
      "name": "python3",
      "display_name": "Python 3"
    },
    "language_info": {
      "name": "python"
    }
  },
  "cells": [
    {
      "cell_type": "markdown",
      "metadata": {
        "id": "view-in-github",
        "colab_type": "text"
      },
      "source": [
        "<a href=\"https://colab.research.google.com/github/magotronico/DataAnalysis_and_AI/blob/main/Ejercicio_Operadores_Basicos_A00831905.ipynb\" target=\"_parent\"><img src=\"https://colab.research.google.com/assets/colab-badge.svg\" alt=\"Open In Colab\"/></a>"
      ]
    },
    {
      "cell_type": "markdown",
      "source": [
        "#Problema de Robots\n",
        "Este problema es un pseudo código para que un robot pueda llegar a su objetivo.\n",
        "\n",
        "Te dice cuantos movimientos debe de hacer para cumplir con su tarea.\n",
        "\n",
        "Los robots seran omnidireccionales por lo que la orientación no importa en este caso.\n",
        "\n",
        "Se usará PEP 8 y PEP 484 como estándandares de programación. Programación Orientada a Objetos con finalidad de demostrar los conceptos de Asignación.\n",
        "\n",
        "---\n",
        "\n",
        "Las variables dummy son:\n",
        "* **pos0:** posición inicial del robot de donde comenzará a moverse. list[int]->[x,y]\n",
        "* **target:** posición final del robot a la que debe de llegar. list[int]->[x,y]\n",
        "\n"
      ],
      "metadata": {
        "id": "DqWrDCEgedZl"
      }
    },
    {
      "cell_type": "code",
      "source": [
        "class Robot():\n",
        "  def __init__(self, x: int, y: int) -> None:\n",
        "    self.x = x # Position in X\n",
        "    self.y = y # Position in Y\n",
        "    self.moves = [] # List of moves\n",
        "    self.target_x = 0 # Target position in X\n",
        "    self.target_y = 0 # Target position in Y\n",
        "\n",
        "  def target(self, target_x: int, target_y: int)  -> None:\n",
        "    self.target_x = target_x\n",
        "    self.target_y = target_y\n",
        "\n",
        "  def _add_move(self, move: str) -> None:\n",
        "    self.moves.append(move)\n",
        "\n",
        "  def move_up(self) -> None:\n",
        "    self.y =  self.y + 1 # Operador de aritmetico\n",
        "\n",
        "  def move_down(self) -> None:\n",
        "    self.y -= 1 # Operador de asignación\n",
        "\n",
        "  def move_left(self) -> None:\n",
        "    self.x -= 1\n",
        "\n",
        "  def move_right(self) -> None:\n",
        "    self.x += 1\n",
        "\n",
        "  def solvePath(self) -> None:\n",
        "    targetFound = False\n",
        "\n",
        "    while targetFound != True:\n",
        "      if self.x > self.target_x: # Operador de comparación\n",
        "        self.move_left()\n",
        "        self._add_move(\"left\")\n",
        "      elif self.x < self.target_x:\n",
        "        self.move_right()\n",
        "        self._add_move(\"right\")\n",
        "      elif self.y > self.target_y:\n",
        "        self.move_down()\n",
        "        self._add_move(\"down\")\n",
        "      elif self.y < self.target_y:\n",
        "        self.move_up()\n",
        "        self._add_move(\"up\")\n",
        "      else:\n",
        "        targetFound = True\n",
        "\n",
        "    return self.moves\n",
        "\n",
        "\n",
        "if __name__ == \"__main__\":\n",
        "  # Iniciar variables\n",
        "  pos_x = 0\n",
        "  pos_y = 0\n",
        "  pos = [pos_x, pos_y]\n",
        "  target_x = 0\n",
        "  target_y = 0\n",
        "  target = [target_x, target_y]\n",
        "\n",
        "  # Solicitar posición inicial y target\n",
        "  for i in pos:\n",
        "    if i is pos_x: # Operador de Identidad\n",
        "      _ = input(\"Ingresa la posición en X: \")\n",
        "      pos_x = int(_)\n",
        "    else:\n",
        "      _ = input(\"Ingresa la posición en Y:\")\n",
        "      pos_y = int(_)\n",
        "\n",
        "  for i in target:\n",
        "    if i is target_x:\n",
        "      _ = input(\"Ingresa la posición en X: \")\n",
        "      target_x = int(_)\n",
        "    else:\n",
        "      _ = input(\"Ingresa la posición en Y: \")\n",
        "      target_y = int(_)\n",
        "\n",
        "if pos and target: # Operador Lógico\n",
        "  # Create instance of Robot class\n",
        "  robot0 = Robot(pos_x, pos_y)\n",
        "  robot0.target(target_x, target_y)\n",
        "\n",
        "  # Solución del problema\n",
        "  solution = robot0.solvePath()\n",
        "\n",
        "  # Procesamiento para imprimir la solución\n",
        "  movesInSolution = {\"up\": 0, \"down\": 0, \"left\": 0, \"right\": 0}\n",
        "  totalMoves = len(solution)\n",
        "\n",
        "  for move in solution: # Operador de pertenencia\n",
        "    movesInSolution[move] += 1\n",
        "\n",
        "  #Imprimir la solución\n",
        "  print(f\"\\nRobot found the target in {totalMoves} moves.\\nMoves:\")\n",
        "\n",
        "  for move in movesInSolution:\n",
        "    print(f\"{move}: {movesInSolution[move]}\")"
      ],
      "metadata": {
        "colab": {
          "base_uri": "https://localhost:8080/"
        },
        "id": "KqTjMIqfe9_v",
        "outputId": "39b18c86-a2cf-4e5d-ddbe-6d65f9f27a2c"
      },
      "execution_count": null,
      "outputs": [
        {
          "output_type": "stream",
          "name": "stdout",
          "text": [
            "Ingresa la posición en X: 0\n",
            "Ingresa la posición en X: 0\n",
            "Ingresa la posición en X: 2\n",
            "Ingresa la posición en Y: 1\n",
            "\n",
            "Robot found the target in 3 moves.\n",
            "Moves:\n",
            "up: 1\n",
            "down: 0\n",
            "left: 0\n",
            "right: 2\n"
          ]
        }
      ]
    },
    {
      "cell_type": "markdown",
      "source": [
        "##Conclusion\n",
        "Estuvo curioso la experiencia ya que la implementación tiene fragmentos con codigo extra a favor de cumplir con los requisitos. Pero está genial poder jugar con el lenguaje para cumplir con lo que se te pide ya que funciona como una actividad de exploración muy buena.\n",
        "\n",
        "En mi persona ya tengo conocimientos de Python intermedio-avanzado por lo que fui un poco más allá implementando una clase y haciendo una aplicación un poco más rica y divertida de hacer."
      ],
      "metadata": {
        "id": "hSe-AfnGqjOk"
      }
    }
  ]
}