{
  "nbformat": 4,
  "nbformat_minor": 0,
  "metadata": {
    "colab": {
      "provenance": [],
      "include_colab_link": true
    },
    "kernelspec": {
      "name": "python3",
      "display_name": "Python 3"
    },
    "language_info": {
      "name": "python"
    }
  },
  "cells": [
    {
      "cell_type": "markdown",
      "metadata": {
        "id": "view-in-github",
        "colab_type": "text"
      },
      "source": [
        "<a href=\"https://colab.research.google.com/github/magotronico/DataAnalysis_and_AI/blob/main/Ejercicios_de_Estructuras_de_Control_A00831905.ipynb\" target=\"_parent\"><img src=\"https://colab.research.google.com/assets/colab-badge.svg\" alt=\"Open In Colab\"/></a>"
      ]
    },
    {
      "cell_type": "markdown",
      "source": [
        "#Problema de Robots\n",
        "Este módulo implementa una clase simple llamada Robot que puede navegar desde una posición inicial hasta una posición objetivo en una cuadrícula 2D. Calcula el camino y proporciona estadísticas sobre los movimientos del robot.\n",
        "\n",
        "**Clases:**\n",
        "Robot: Representa un robot que puede moverse en una cuadrícula 2D.\n",
        "\n",
        "**Uso:**\n",
        "Ejecuta este script para ingresar interactivamente las posiciones iniciales y objetivo del robot, y luego ver el camino resultante y las estadísticas de movimiento.\n",
        "\n",
        "Se usará PEP 8, PEP 257 y PEP 484 como estándandares de programación. Programación Orientada a Objetos con finalidad de demostrar los conceptos de listas, tuplas y diccionarios.\n"
      ],
      "metadata": {
        "id": "DqWrDCEgedZl"
      }
    },
    {
      "cell_type": "code",
      "source": [
        "class Robot:\n",
        "  \"\"\"\n",
        "  Una clase que representa un robot que puede moverse en una cuadrícula 2D.\n",
        "\n",
        "  Atributos:\n",
        "      x (int): Coordenada x actual del robot.\n",
        "      y (int): Coordenada y actual del robot.\n",
        "      moves (list): Lista de movimientos realizados por el robot.\n",
        "      target_x (int): Coordenada x objetivo.\n",
        "      target_y (int): Coordenada y objetivo.\n",
        "  \"\"\"\n",
        "\n",
        "  def __init__(self, pos: tuple[int, int], target: tuple[int, int] = None) -> None:\n",
        "    \"\"\"\n",
        "    Inicializa el robot con una posición inicial y un objetivo opcional.\n",
        "\n",
        "    Args:\n",
        "        pos (tuple[int, int]): Posición inicial como (x, y).\n",
        "        target (tuple[int, int], opcional): Posición objetivo como (x, y). Por defecto es None.\n",
        "    \"\"\"\n",
        "    self.x, self.y = pos\n",
        "    self.moves = []\n",
        "    self.target_x, self.target_y = target if target else (0, 0)\n",
        "\n",
        "  def target(self, target: tuple[int, int]) -> None:\n",
        "    \"\"\"\n",
        "    Establece un nuevo objetivo para el robot.\n",
        "\n",
        "    Args:\n",
        "        target (tuple[int, int]): Nueva posición objetivo como (x, y).\n",
        "    \"\"\"\n",
        "    self.target_x, self.target_y = target\n",
        "\n",
        "  def _add_move(self, move: str) -> None:\n",
        "    \"\"\"\n",
        "    Añade un movimiento a la lista de movimientos del robot.\n",
        "\n",
        "    Args:\n",
        "        move (str): El movimiento a añadir ('up', 'down', 'left', o 'right').\n",
        "    \"\"\"\n",
        "    self.moves.append(move)\n",
        "\n",
        "  def move_up(self) -> None:\n",
        "    \"\"\"Mueve el robot hacia arriba incrementando su coordenada y.\"\"\"\n",
        "    self.y += 1\n",
        "\n",
        "  def move_down(self) -> None:\n",
        "    \"\"\"Mueve el robot hacia abajo decrementando su coordenada y.\"\"\"\n",
        "    self.y -= 1\n",
        "\n",
        "  def move_left(self) -> None:\n",
        "    \"\"\"Mueve el robot hacia la izquierda decrementando su coordenada x.\"\"\"\n",
        "    self.x -= 1\n",
        "\n",
        "  def move_right(self) -> None:\n",
        "    \"\"\"Mueve el robot hacia la derecha incrementando su coordenada x.\"\"\"\n",
        "    self.x += 1\n",
        "\n",
        "  def solvePath(self) -> list:\n",
        "    \"\"\"\n",
        "    Resuelve el camino desde la posición actual hasta el objetivo.\n",
        "\n",
        "    Returns:\n",
        "        list: Una lista de movimientos necesarios para llegar al objetivo.\n",
        "    \"\"\"\n",
        "    targetFound = False\n",
        "\n",
        "    while not targetFound:\n",
        "        if self.x > self.target_x:\n",
        "            self.move_left()\n",
        "            self._add_move(\"left\")\n",
        "        elif self.x < self.target_x:\n",
        "            self.move_right()\n",
        "            self._add_move(\"right\")\n",
        "        elif self.y > self.target_y:\n",
        "            self.move_down()\n",
        "            self._add_move(\"down\")\n",
        "        elif self.y < self.target_y:\n",
        "            self.move_up()\n",
        "            self._add_move(\"up\")\n",
        "        else:\n",
        "            targetFound = True\n",
        "\n",
        "    return self.moves\n",
        "\n",
        "\n",
        "if __name__ == \"__main__\":\n",
        "  # Bloque principal de ejecución para la búsqueda de caminos del robot\n",
        "\n",
        "  # Inicializar variables\n",
        "  pos = (0, 0)\n",
        "  target = (0, 0)\n",
        "\n",
        "  # Solicitar posición inicial y objetivo del usuario\n",
        "  pos = tuple(int(input(f\"Enter position in {'X' if i == 0 else 'Y'}: \")) for i in range(2))\n",
        "  target = tuple(int(input(f\"Enter target in {'X' if i == 0 else 'Y'}: \")) for i in range(2))\n",
        "\n",
        "  if pos and target: # if con tuplas\n",
        "      # Crear una instancia de la clase Robot\n",
        "      robot0 = Robot(pos, target)\n",
        "\n",
        "      # Resolver el camino\n",
        "      solution = robot0.solvePath()\n",
        "\n",
        "      # Procesar e imprimir la solución\n",
        "      movesInSolution = {\"up\": 0, \"down\": 0, \"left\": 0, \"right\": 0}\n",
        "      totalMoves = len(solution)\n",
        "\n",
        "      for move in solution: # for con lista\n",
        "          movesInSolution[move] += 1\n",
        "\n",
        "      vector_desplazamiento = (target[0] - pos[0], target[1] - pos[1])\n",
        "\n",
        "      # Imprimir la solución\n",
        "      print(f\"\\nEl robot encontró su objetivo en {totalMoves} movimientos. \"\n",
        "            f\"Y tuvo un desplazamiento de {vector_desplazamiento}.\\nMovimientos:\")\n",
        "\n",
        "      for move in movesInSolution: # for con dict\n",
        "          print(f\"{move}: {movesInSolution[move]}\")"
      ],
      "metadata": {
        "colab": {
          "base_uri": "https://localhost:8080/"
        },
        "id": "KqTjMIqfe9_v",
        "outputId": "f11a4824-4fd8-4cc8-9f4c-a121eb902cfa"
      },
      "execution_count": 14,
      "outputs": [
        {
          "output_type": "stream",
          "name": "stdout",
          "text": [
            "Enter position in X: 1\n",
            "Enter position in Y: 1\n",
            "Enter target in X: -3\n",
            "Enter target in Y: -3\n",
            "\n",
            "El robot encontró su objetivo en 8 movimientos. Y tuvo un desplazamiento de (-4, -4).\n",
            "Movimientos:\n",
            "up: 0\n",
            "down: 4\n",
            "left: 4\n",
            "right: 0\n"
          ]
        }
      ]
    },
    {
      "cell_type": "markdown",
      "source": [
        "##Conclusion\n",
        "Fue interesante porque esta vez tuve que poner más atención en la lógica detrás del uso de las estructuras de datos, ya que la maestra enfatizó la importancia de que el código fuera eficiente. Por ello, realicé algunos ajustes en los atributos y métodos para optimizar el uso de los arreglos de manera más eficiente."
      ],
      "metadata": {
        "id": "hSe-AfnGqjOk"
      }
    }
  ]
}