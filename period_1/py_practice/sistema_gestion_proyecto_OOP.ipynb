{
  "nbformat": 4,
  "nbformat_minor": 0,
  "metadata": {
    "colab": {
      "provenance": [],
      "authorship_tag": "ABX9TyMOLaLVffgtjAU6/XwNVunm",
      "include_colab_link": true
    },
    "kernelspec": {
      "name": "python3",
      "display_name": "Python 3"
    },
    "language_info": {
      "name": "python"
    }
  },
  "cells": [
    {
      "cell_type": "markdown",
      "metadata": {
        "id": "view-in-github",
        "colab_type": "text"
      },
      "source": [
        "<a href=\"https://colab.research.google.com/github/magotronico/DataAnalysis_and_AI/blob/main/py_practice/sistema_gestion_proyecto_OOP.ipynb\" target=\"_parent\"><img src=\"https://colab.research.google.com/assets/colab-badge.svg\" alt=\"Open In Colab\"/></a>"
      ]
    },
    {
      "cell_type": "markdown",
      "source": [
        "# Sistema de Gestion de Proyecto\n",
        "Este notebook presenta la solución a un problema que involucra el diseño e implementación de un sistema de gestión de proyectos, utilizando el paradigma de Programación Orientada a Objetos (POO). Se proponen diversas clases, atributos y métodos que reflejan la estructura y funcionalidad descrita en el enunciado del problema. El objetivo de este ejercicio es reforzar las buenas prácticas de POO mediante la creación de componentes modulares, reutilizables y escalables.\n",
        "\n",
        "\n",
        "---\n",
        "\n",
        "Equipo 2"
      ],
      "metadata": {
        "id": "nul4IV4Qiv5V"
      }
    },
    {
      "cell_type": "code",
      "execution_count": 121,
      "metadata": {
        "id": "N-uDr5uJg-Xz"
      },
      "outputs": [],
      "source": [
        "class Empresa:\n",
        "  def __init__(self, name, empleados, projects):\n",
        "    self.name = name\n",
        "    self.empleados = empleados\n",
        "    self.projects = projects\n",
        "\n",
        "  def crear_proyecto(self, project):\n",
        "    self.projects.append(project)\n",
        "    return \"Proyecto agregado a la empresa\"\n",
        "\n",
        "  def buscar_empleado(self, name):\n",
        "    for employee in self.empleados:\n",
        "      if employee.name == name:\n",
        "        return employee\n",
        "    return \"El empleado no fue encontrado en la empresa\"\n",
        "\n",
        "  def gestionar_proyecto(self, project):\n",
        "    if project in self.projects:\n",
        "      project.generar_reporte()\n",
        "      return \"Reporte generado\"\n",
        "    else:\n",
        "      return \"No se encontró el proyecto en la empresa\"\n",
        "\n"
      ]
    },
    {
      "cell_type": "code",
      "source": [
        "class Proyecto:\n",
        "  def __init__(self, name, start_date, end_date, tareas_asignadas):\n",
        "    self.name = name\n",
        "    self.start_date = start_date\n",
        "    self.end_date = end_date\n",
        "    self.tareas_asignadas = tareas_asignadas\n",
        "\n",
        "\n",
        "  def agregar_tarea(self, tarea):\n",
        "    self.tareas_asignadas.append(tarea)\n",
        "\n",
        "  def asignar_tarea(self, empleado, tarea):\n",
        "    empleado.asignar_tarea(tarea)\n",
        "    self.agregar_tarea(tarea)\n",
        "\n",
        "  def generar_reporte(self):\n",
        "    print(f\"\\nReporte de proyecto: {self.name}\")\n",
        "    print(f\"Fecha de inicio: {self.start_date} | Fecha de fin: {self.end_date}\")\n",
        "    print(f\"Tareas asignadas:\")\n",
        "    tareas_completadas = 0\n",
        "    tareas_criticas_completadas = 0\n",
        "    for tarea in self.tareas_asignadas:\n",
        "      if tarea.estado == \"Tarea Sin Clasificacion Completada\":\n",
        "        tareas_completadas += 1\n",
        "      elif tarea.estado == \"Tarea Critica Completada\":\n",
        "        tareas_criticas_completadas += 1\n",
        "        tareas_completadas += 1\n",
        "      elif tarea.estado == \"Tarea Regular Completada\":\n",
        "        tareas_completadas += 1\n",
        "\n",
        "      print(f\"- {tarea.descripcion}. Estado: {tarea.estado}\")\n",
        "\n",
        "    pct_progreso = (tareas_completadas / len(self.tareas_asignadas)) * 100\n",
        "    print(f\"Porcentaje de progreso: {pct_progreso}%\")\n",
        "    print(f\"Tareas criticas completadas: {tareas_criticas_completadas}\")\n",
        "\n"
      ],
      "metadata": {
        "id": "KXelH8_vhD93"
      },
      "execution_count": 122,
      "outputs": []
    },
    {
      "cell_type": "code",
      "source": [
        "class Empleado:\n",
        "  def __init__(self, name, tareas_asignadas):\n",
        "    self.name = name\n",
        "    self.tareas_asignadas = tareas_asignadas\n",
        "\n",
        "  def asignar_tarea(self, tarea):\n",
        "    self.tareas_asignadas.append(tarea)\n",
        "\n",
        "  def marcar_tarea_completada(self, tarea):\n",
        "    tarea.marcar_completada()"
      ],
      "metadata": {
        "id": "29nARxW9hIwb"
      },
      "execution_count": 123,
      "outputs": []
    },
    {
      "cell_type": "code",
      "source": [
        "class Tarea:\n",
        "  def __init__(self, descripcion, fecha_limite, estado, responsable):\n",
        "    self.descripcion = descripcion\n",
        "    self.fecha_limite = fecha_limite\n",
        "    self.estado = estado\n",
        "    self.responsable = responsable\n",
        "    self.imp = None\n",
        "\n",
        "  def marcar_completada(self):\n",
        "    self.estado = \"Tarea Sin Clasificacion Completada\"\n",
        "\n",
        "  def asignar_responsable(self, responsable):\n",
        "    self.responsable = responsable"
      ],
      "metadata": {
        "id": "WuBY-23HhG0f"
      },
      "execution_count": 124,
      "outputs": []
    },
    {
      "cell_type": "code",
      "source": [
        "class TareaCritica(Tarea):\n",
        "  def __init__(self, descripcion, fecha_limite, estado, responsable, importancia = 'Critica'):\n",
        "    super().__init__(descripcion, fecha_limite, estado, responsable)\n",
        "    self.importancia = importancia\n",
        "\n",
        "  def marcar_completada(self):\n",
        "    self.estado = \"Tarea Critica Completada\""
      ],
      "metadata": {
        "id": "w25bX78Pj67E"
      },
      "execution_count": 125,
      "outputs": []
    },
    {
      "cell_type": "code",
      "source": [
        "class TareaRegular(Tarea):\n",
        "  def __init__(self, descripcion, fecha_limite, estado, responsable, importancia = 'Regular'):\n",
        "    super().__init__(descripcion, fecha_limite, estado, responsable)\n",
        "    self.importancia = importancia\n",
        "\n",
        "  def marcar_completada(self):\n",
        "    self.estado = \"Tarea Regular Completada\""
      ],
      "metadata": {
        "id": "EQBfZiYUlgvC"
      },
      "execution_count": 126,
      "outputs": []
    },
    {
      "cell_type": "code",
      "source": [
        "if __name__ == \"__main__\":\n",
        "  # Crear instancias de tareas\n",
        "  tarea1 = TareaCritica(\"Tarea 1\", \"2023-04-30\", \"Incompleta\", None)\n",
        "  tarea2 = TareaRegular(\"Tarea 2\", \"2023-05-15\", \"Incompleta\", None)\n",
        "  tarea3 = TareaRegular(\"Tarea 3\", \"2023-06-10\", \"Incompleta\", None)\n",
        "\n",
        "\n",
        "  # Crear instancias de empleados\n",
        "  empleado1 = Empleado(\"Empleado 1\", [tarea1])\n",
        "  empleado2 = Empleado(\"Empleado 2\", [])\n",
        "\n",
        "  # Crear instancias de proyectos\n",
        "  proyecto1 = Proyecto(\"Proyecto 1\", \"2023-04-01\", \"2023-06-30\", [tarea1])\n",
        "  proyecto1.asignar_tarea(empleado1, tarea2)\n",
        "\n",
        "  proyecto2 = Proyecto(\"Proyecto 2\", \"2023-05-01\", \"2023-07-31\", [])\n",
        "  proyecto2.asignar_tarea(empleado2, tarea3)\n",
        "\n",
        "  # Crear instancia de empresa\n",
        "  empresa1 = Empresa(\"Empresa 1\", [empleado1, empleado2], [proyecto1, proyecto2])\n",
        "\n",
        "  print(empresa1.gestionar_proyecto(proyecto1))\n",
        "  print(empresa1.gestionar_proyecto(proyecto2))\n",
        "\n",
        "  # Usar metodo de tarea\n",
        "  tarea1.marcar_completada()\n",
        "\n",
        "  # Usar metodo de empleado\n",
        "  empleado2.marcar_tarea_completada(tarea3)\n",
        "\n",
        "  print(empresa1.gestionar_proyecto(proyecto1))\n",
        "  print(empresa1.gestionar_proyecto(proyecto2))\n"
      ],
      "metadata": {
        "colab": {
          "base_uri": "https://localhost:8080/"
        },
        "id": "JRPS3pAmi32L",
        "outputId": "7fe87466-e12a-43a5-de0f-0b084bfae522"
      },
      "execution_count": 128,
      "outputs": [
        {
          "output_type": "stream",
          "name": "stdout",
          "text": [
            "\n",
            "Reporte de proyecto: Proyecto 1\n",
            "Fecha de inicio: 2023-04-01 | Fecha de fin: 2023-06-30\n",
            "Tareas asignadas:\n",
            "- Tarea 1. Estado: Incompleta\n",
            "- Tarea 2. Estado: Incompleta\n",
            "Porcentaje de progreso: 0.0%\n",
            "Tareas criticas completadas: 0\n",
            "Reporte generado\n",
            "\n",
            "Reporte de proyecto: Proyecto 2\n",
            "Fecha de inicio: 2023-05-01 | Fecha de fin: 2023-07-31\n",
            "Tareas asignadas:\n",
            "- Tarea 3. Estado: Incompleta\n",
            "Porcentaje de progreso: 0.0%\n",
            "Tareas criticas completadas: 0\n",
            "Reporte generado\n",
            "\n",
            "Reporte de proyecto: Proyecto 1\n",
            "Fecha de inicio: 2023-04-01 | Fecha de fin: 2023-06-30\n",
            "Tareas asignadas:\n",
            "- Tarea 1. Estado: Tarea Critica Completada\n",
            "- Tarea 2. Estado: Incompleta\n",
            "Porcentaje de progreso: 50.0%\n",
            "Tareas criticas completadas: 1\n",
            "Reporte generado\n",
            "\n",
            "Reporte de proyecto: Proyecto 2\n",
            "Fecha de inicio: 2023-05-01 | Fecha de fin: 2023-07-31\n",
            "Tareas asignadas:\n",
            "- Tarea 3. Estado: Tarea Regular Completada\n",
            "Porcentaje de progreso: 100.0%\n",
            "Tareas criticas completadas: 0\n",
            "Reporte generado\n"
          ]
        }
      ]
    }
  ]
}