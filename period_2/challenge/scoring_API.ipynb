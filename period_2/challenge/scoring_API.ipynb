{
 "cells": [
  {
   "cell_type": "markdown",
   "metadata": {},
   "source": [
    "# DmX Challenge: Predictive Credit Risk Modeling Using Customer Credit Scores and Phone Footprints\n"
   ]
  },
  {
   "cell_type": "code",
   "execution_count": null,
   "metadata": {},
   "outputs": [],
   "source": [
    "# ───────────────────────────────────────────────────────────────────────────────────────────────────────────────────────                                                       \n",
    "# Script Name : scoring_API.py\n",
    "# Author      : Dilan Castañeda                                          \n",
    "# Created On  : September 18, 2024                                           \n",
    "# Last Update : September 18, 2024                                         \n",
    "# Version     : 0.0.1                                          \n",
    "# Description : Credit risk modeling using bureau reports and phone data to predict client default probability.          \n",
    "# ───────────────────────────────────────────────────────────────────────────────────────────────────────────────────────"
   ]
  },
  {
   "cell_type": "markdown",
   "metadata": {},
   "source": [
    "## Overview"
   ]
  },
  {
   "cell_type": "markdown",
   "metadata": {},
   "source": [
    "---\n",
    "Instituto Tecnológico y de Estudios Superiores de Monterrey\n",
    "\n",
    "Analítica de datos y herramientas de inteligencia artificial TI3001C.103\n",
    "\n",
    "Profesor: Enrique Ricardo García Hernández\n",
    "\n",
    "Equipo 2:\n",
    "*   Dilan González Castañeda             A00831905\n",
    "*   Karim Omar Martínez Bazaldúa         A00832999\n",
    "*   André Ulises Zenteno Ruiz            A00835044\n",
    "*   Carolina Glorisel Murillo Guajardo   A00834868\n",
    "---"
   ]
  },
  {
   "cell_type": "markdown",
   "metadata": {},
   "source": [
    "**Overview**\n",
    "\n",
    "Credit risk modeling using bureau reports and phone usage data to predict client default probability for loan approval decisions.\n",
    "\n",
    "**Database Source**\n",
    "\n",
    "The database for this project was provided by DMX, containing comprehensive credit bureau reports and detailed phone usage data for each client.\n",
    "\n",
    "**Key Components**\n",
    "\n",
    "1. Credit Bureau Data:\n",
    "\n",
    "* Credit history\n",
    "* Loan inquiries\n",
    "* Payment behaviors\n",
    "* Current debt levels\n",
    "\n",
    "\n",
    "2. Phone Usage Data:\n",
    "\n",
    "* Subscription type\n",
    "* Usage patterns\n",
    "* Payment history\n",
    "* Device information\n",
    "\n",
    "\n",
    "3.  Target Variable:\n",
    "\n",
    "* Client default status (binary: defaulted or not)\n",
    "\n",
    "\n",
    "\n",
    "**Project Goals**\n",
    "\n",
    "Develop a predictive model to assess the likelihood of client loan default\n",
    "Optimize loan approval decisions based on calculated risk\n",
    "Enhance the overall loan portfolio quality by minimizing potential defaults\n",
    "\n",
    "**Methodology**\n",
    "\n",
    "* Utilize machine learning techniques to analyze historical data\n",
    "* Incorporate both traditional credit metrics and alternative data (phone usage)\n",
    "* Create a robust model that can handle various data types and complex relationships\n",
    "\n",
    "**Expected Outcome**\n",
    "A reliable credit risk assessment tool that can:\n",
    "\n",
    "* Accurately predict client default probability\n",
    "* Assist in making informed loan approval decisions\n",
    "* Potentially increase approval rates for creditworthy clients while minimizing risk\n",
    "\n",
    "This project aims to leverage the unique combination of traditional credit data and alternative phone usage data provided by DMX to create a more comprehensive and accurate credit risk assessment model."
   ]
  },
  {
   "cell_type": "markdown",
   "metadata": {},
   "source": [
    "### 2. ETL for API (Scoring New Records)\n",
    "\n",
    "#### Purpose:\n",
    "- Prepare new, incoming data for real-time or batch prediction using the trained model.\n",
    "\n",
    "#### Process:\n",
    "1. **Extract**:\n",
    "   - Receive new client data through an API endpoint.\n",
    "\n",
    "2. **Transform**:\n",
    "   - Apply the same transformations used in the training ETL, but optimized for speed:\n",
    "     - Handle missing values using pre-computed statistics.\n",
    "     - Apply pre-defined encoding schemes for categorical variables.\n",
    "     - Use saved normalization parameters for numerical features.\n",
    "   - Create only the features used in the final model.\n",
    "\n",
    "3. **Load**:\n",
    "   - Prepare the data in the format expected by the deployed model.\n",
    "   - Pass the prepared data to the model for scoring.\n",
    "\n",
    "#### Benefits:\n",
    "- Optimized for speed and efficiency, crucial for real-time scoring.\n",
    "- Ensures consistency with the training data preprocessing.\n",
    "- Can be more easily versioned and deployed alongside the model.\n",
    "\n",
    "By implementing separate ETL processes for training and scoring, we can optimize our credit risk model for both comprehensive learning from historical data and efficient, consistent scoring of new records."
   ]
  }
 ],
 "metadata": {
  "kernelspec": {
   "display_name": ".venv",
   "language": "python",
   "name": "python3"
  },
  "language_info": {
   "codemirror_mode": {
    "name": "ipython",
    "version": 3
   },
   "file_extension": ".py",
   "mimetype": "text/x-python",
   "name": "python",
   "nbconvert_exporter": "python",
   "pygments_lexer": "ipython3",
   "version": "3.11.9"
  }
 },
 "nbformat": 4,
 "nbformat_minor": 2
}
