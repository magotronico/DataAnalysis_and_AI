{
 "cells": [
  {
   "cell_type": "markdown",
   "metadata": {},
   "source": [
    "# DmX Challenge: Predictive Credit Risk Modeling Using Customer Credit Scores and Phone Footprints\n"
   ]
  },
  {
   "cell_type": "code",
   "execution_count": null,
   "metadata": {},
   "outputs": [],
   "source": [
    "# ───────────────────────────────────────────────────────────────────────────────────────────────────────────────────────                                                       \n",
    "# Script Name : training_etl.py\n",
    "# Author      : Dilan Castañeda                                          \n",
    "# Created On  : September 18, 2024                                           \n",
    "# Last Update : September 18, 2024                                         \n",
    "# Version     : 0.0.1                                          \n",
    "# Description : Credit risk modeling using bureau reports and phone data to predict client default probability.          \n",
    "# ───────────────────────────────────────────────────────────────────────────────────────────────────────────────────────"
   ]
  },
  {
   "cell_type": "markdown",
   "metadata": {},
   "source": [
    "## Overview"
   ]
  },
  {
   "cell_type": "markdown",
   "metadata": {},
   "source": [
    "---\n",
    "Instituto Tecnológico y de Estudios Superiores de Monterrey\n",
    "\n",
    "Analítica de datos y herramientas de inteligencia artificial TI3001C.103\n",
    "\n",
    "Profesor: Enrique Ricardo García Hernández\n",
    "\n",
    "Equipo 2:\n",
    "*   Dilan González Castañeda             A00831905\n",
    "*   Karim Omar Martínez Bazaldúa         A00832999\n",
    "*   André Ulises Zenteno Ruiz            A00835044\n",
    "*   Carolina Glorisel Murillo Guajardo   A00834868\n",
    "---"
   ]
  },
  {
   "cell_type": "markdown",
   "metadata": {},
   "source": [
    "**Overview**\n",
    "\n",
    "Credit risk modeling using bureau reports and phone usage data to predict client default probability for loan approval decisions.\n",
    "\n",
    "**Database Source**\n",
    "\n",
    "The database for this project was provided by DMX, containing comprehensive credit bureau reports and detailed phone usage data for each client.\n",
    "\n",
    "**Key Components**\n",
    "\n",
    "1. Credit Bureau Data:\n",
    "\n",
    "* Credit history\n",
    "* Loan inquiries\n",
    "* Payment behaviors\n",
    "* Current debt levels\n",
    "\n",
    "\n",
    "2. Phone Usage Data:\n",
    "\n",
    "* Subscription type\n",
    "* Usage patterns\n",
    "* Payment history\n",
    "* Device information\n",
    "\n",
    "\n",
    "3.  Target Variable:\n",
    "\n",
    "* Client default status (binary: defaulted or not)\n",
    "\n",
    "\n",
    "\n",
    "**Project Goals**\n",
    "\n",
    "Develop a predictive model to assess the likelihood of client loan default\n",
    "Optimize loan approval decisions based on calculated risk\n",
    "Enhance the overall loan portfolio quality by minimizing potential defaults\n",
    "\n",
    "**Methodology**\n",
    "\n",
    "* Utilize machine learning techniques to analyze historical data\n",
    "* Incorporate both traditional credit metrics and alternative data (phone usage)\n",
    "* Create a robust model that can handle various data types and complex relationships\n",
    "\n",
    "**Expected Outcome**\n",
    "A reliable credit risk assessment tool that can:\n",
    "\n",
    "* Accurately predict client default probability\n",
    "* Assist in making informed loan approval decisions\n",
    "* Potentially increase approval rates for creditworthy clients while minimizing risk\n",
    "\n",
    "This project aims to leverage the unique combination of traditional credit data and alternative phone usage data provided by DMX to create a more comprehensive and accurate credit risk assessment model."
   ]
  },
  {
   "cell_type": "markdown",
   "metadata": {},
   "source": [
    "### 1. ETL for Model Training\n",
    "\n",
    "#### Purpose:\n",
    "- Prepare historical data for model development and training.\n",
    "\n",
    "#### Process:\n",
    "1. **Extract**: \n",
    "   - Pull historical data from DMX database (credit bureau reports and phone usage data).\n",
    "   - Include all available features and the target variable (default status).\n",
    "\n",
    "2. **Transform**:\n",
    "   - Handle missing values, outliers, and data quality issues.\n",
    "   - Perform feature engineering (e.g., creating interaction terms, deriving new features).\n",
    "   - Encode categorical variables.\n",
    "   - Normalize or standardize numerical features.\n",
    "\n",
    "3. **Load**:\n",
    "   - Store the processed data in a format suitable for model training (e.g., parquet files, a data warehouse).\n",
    "\n",
    "#### Benefits:\n",
    "- Can perform extensive data cleaning and feature engineering.\n",
    "- Allows for complex transformations that might be computationally expensive.\n",
    "- Can use the full historical dataset for better feature creation and selection.\n",
    "\n",
    "By implementing separate ETL processes for training and scoring, we can optimize our credit risk model for both comprehensive learning from historical data and efficient, consistent scoring of new records."
   ]
  },
  {
   "cell_type": "markdown",
   "metadata": {},
   "source": [
    "## ETL"
   ]
  },
  {
   "cell_type": "markdown",
   "metadata": {},
   "source": [
    "### Extract"
   ]
  },
  {
   "cell_type": "code",
   "execution_count": 1,
   "metadata": {},
   "outputs": [],
   "source": [
    "import pandas as pd\n",
    "import numpy as np\n",
    "from unidecode import unidecode\n",
    "import matplotlib.pyplot as plt\n",
    "import os\n",
    "import seaborn as sns\n",
    "from matplotlib.colors import LinearSegmentedColormap\n",
    "from sklearn.preprocessing import MinMaxScaler\n",
    "\n",
    "file_name = r'C:\\Users\\dilan\\Documents\\Github\\DataAnalysis_and_AI\\period_2\\Resources\\Challenge\\base_Reto.csv'"
   ]
  },
  {
   "cell_type": "code",
   "execution_count": 4,
   "metadata": {},
   "outputs": [
    {
     "name": "stdout",
     "output_type": "stream",
     "text": [
      "<class 'pandas.core.frame.DataFrame'>\n",
      "RangeIndex: 25101 entries, 0 to 25100\n",
      "Data columns (total 41 columns):\n",
      " #   Column                                   Non-Null Count  Dtype  \n",
      "---  ------                                   --------------  -----  \n",
      " 0   Solicitud_id                             25101 non-null  float64\n",
      " 1   Aprobado                                 25101 non-null  int64  \n",
      " 2   Hit_Buro_Huella                          25101 non-null  int64  \n",
      " 3   Malo                                     25101 non-null  int64  \n",
      " 4   Num_IQ_U3M_PL_Financieras                25101 non-null  int64  \n",
      " 5   Edad_cliente                             25101 non-null  int64  \n",
      " 6   Porcentaje_cuentas_abiertas              25101 non-null  float64\n",
      " 7   Num_IQ_U3M                               25101 non-null  int64  \n",
      " 8   Num_IQ_U3M_TDC_Banco                     25101 non-null  int64  \n",
      " 9   MaxMOP_U3M                               25101 non-null  int64  \n",
      " 10  Saldo_actual_prest_personales            25101 non-null  int64  \n",
      " 11  Num_IQ_U3M_Prest_personales              25101 non-null  int64  \n",
      " 12  Ingreso_Bruto                            25101 non-null  float64\n",
      " 13  Número_ctas_atraso_prest_personales_U3M  25101 non-null  int64  \n",
      " 14  Número_ctas_atraso_TdC_U3M               25101 non-null  int64  \n",
      " 15  Ctas_ab_U18M_TDC_Banco                   25101 non-null  int64  \n",
      " 16  Num_ctas_prest_pers                      25101 non-null  int64  \n",
      " 17  Flag_prest_nómina                        25101 non-null  int64  \n",
      " 18  Meses_cta_más_antig                      25101 non-null  int64  \n",
      " 19  Flag_fraude_prest_nomina                 25101 non-null  int64  \n",
      " 20  Flag_fraude_hipotecario                  25101 non-null  int64  \n",
      " 21  Flag_quebranto_prest_personal            25101 non-null  int64  \n",
      " 22  Entidad_federativa                       24965 non-null  object \n",
      " 23  Tipo_suscripcion                         17107 non-null  object \n",
      " 24  Status                                   25101 non-null  int64  \n",
      " 25  Antigüedad_uso_linea_celular             25101 non-null  int64  \n",
      " 26  Gasto_mensual_telefonia                  25101 non-null  int64  \n",
      " 27  Actividad_usuario                        25101 non-null  int64  \n",
      " 28  Cambio_SIM_U3M                           25101 non-null  int64  \n",
      " 29  Variable_37                              25101 non-null  int64  \n",
      " 30  Gasto_ultimos_60_días                    25101 non-null  int64  \n",
      " 31  Score_FPD                                25101 non-null  int64  \n",
      " 32  Rango_dispositivo                        25101 non-null  int64  \n",
      " 33  Adopcion_tecno                           25101 non-null  int64  \n",
      " 34  Score_incumplimiento                     25101 non-null  int64  \n",
      " 35  Tasa_contactacion                        25101 non-null  int64  \n",
      " 36  Calidad_telefonica                       25101 non-null  int64  \n",
      " 37  Score_contabilidad_entrante              25101 non-null  int64  \n",
      " 38  Score_contabilidad_saliente              25101 non-null  int64  \n",
      " 39  Disciplina_tech                          25101 non-null  int64  \n",
      " 40  Cluster_sucursales                       25101 non-null  int64  \n",
      "dtypes: float64(3), int64(36), object(2)\n",
      "memory usage: 7.9+ MB\n"
     ]
    }
   ],
   "source": [
    "# Load original DataBase (csv)\n",
    "df = pd.read_csv(file_name, encoding='latin-1')\n",
    "df.head(3)\n",
    "df.info()"
   ]
  },
  {
   "cell_type": "markdown",
   "metadata": {},
   "source": [
    "### Transform\n"
   ]
  },
  {
   "cell_type": "markdown",
   "metadata": {},
   "source": [
    "### Load"
   ]
  },
  {
   "cell_type": "markdown",
   "metadata": {},
   "source": [
    "## Training Models"
   ]
  }
 ],
 "metadata": {
  "kernelspec": {
   "display_name": ".venv",
   "language": "python",
   "name": "python3"
  },
  "language_info": {
   "codemirror_mode": {
    "name": "ipython",
    "version": 3
   },
   "file_extension": ".py",
   "mimetype": "text/x-python",
   "name": "python",
   "nbconvert_exporter": "python",
   "pygments_lexer": "ipython3",
   "version": "3.11.9"
  }
 },
 "nbformat": 4,
 "nbformat_minor": 2
}
