{
 "cells": [
  {
   "cell_type": "markdown",
   "metadata": {},
   "source": [
    "# Let's Practice: Lab5B"
   ]
  },
  {
   "cell_type": "code",
   "execution_count": 51,
   "metadata": {},
   "outputs": [],
   "source": [
    "#   __  __                   _                   _           \n",
    "#  |  \\/  |                 | |                 (_)          \n",
    "#  | \\  / | __ _  __ _  ___ | |_ _ __ ___  _ __  _  ___ ___  \n",
    "#  | |\\/| |/ _` |/ _` |/ _ \\| __| '__/ _ \\| '_ \\| |/ __/ _ \\ \n",
    "#  | |  | | (_| | (_| | (_) | |_| | | (_) | | | | | (_| (_) |\n",
    "#  |_|  |_|\\__,_|\\__, |\\___/ \\__|_|  \\___/|_| |_|_|\\___\\___/ \n",
    "#                 __/ |                                      \n",
    "#                |___/                                       \n",
    "# ─────────────────────────────────────────────────────────────────────────────\n",
    "#                                                                           \n",
    "# Script Name : Lab5A.py\n",
    "# Author      : Dilan Castañeda                                             \n",
    "# Created On  : September 26, 2024                                           \n",
    "# Last Update : September 26, 2024                                         \n",
    "# Version     : 1.0.0                                          \n",
    "# Description : Correlation and Heatmaps\n",
    "# ─────────────────────────────────────────────────────────────────────────────"
   ]
  },
  {
   "cell_type": "markdown",
   "metadata": {},
   "source": [
    "## Import Libraries"
   ]
  },
  {
   "cell_type": "code",
   "execution_count": 2,
   "metadata": {},
   "outputs": [],
   "source": [
    "# 1) Import pandas and numpy libraries\n",
    "import pandas as pd\n",
    "import numpy as np\n",
    "import fitter\n",
    "import matplotlib.pyplot as plt\n",
    "import seaborn as sns\n",
    "import scipy.stats as stats"
   ]
  },
  {
   "cell_type": "markdown",
   "metadata": {},
   "source": [
    "## Extract"
   ]
  },
  {
   "cell_type": "code",
   "execution_count": 5,
   "metadata": {},
   "outputs": [
    {
     "data": {
      "text/html": [
       "<div>\n",
       "<style scoped>\n",
       "    .dataframe tbody tr th:only-of-type {\n",
       "        vertical-align: middle;\n",
       "    }\n",
       "\n",
       "    .dataframe tbody tr th {\n",
       "        vertical-align: top;\n",
       "    }\n",
       "\n",
       "    .dataframe thead th {\n",
       "        text-align: right;\n",
       "    }\n",
       "</style>\n",
       "<table border=\"1\" class=\"dataframe\">\n",
       "  <thead>\n",
       "    <tr style=\"text-align: right;\">\n",
       "      <th></th>\n",
       "      <th>Gender</th>\n",
       "      <th>Height</th>\n",
       "      <th>Weight</th>\n",
       "    </tr>\n",
       "  </thead>\n",
       "  <tbody>\n",
       "    <tr>\n",
       "      <th>2008</th>\n",
       "      <td>Male</td>\n",
       "      <td>66.416414</td>\n",
       "      <td>193.601091</td>\n",
       "    </tr>\n",
       "    <tr>\n",
       "      <th>9438</th>\n",
       "      <td>Female</td>\n",
       "      <td>67.585509</td>\n",
       "      <td>151.894080</td>\n",
       "    </tr>\n",
       "    <tr>\n",
       "      <th>6933</th>\n",
       "      <td>Female</td>\n",
       "      <td>62.311533</td>\n",
       "      <td>136.236833</td>\n",
       "    </tr>\n",
       "    <tr>\n",
       "      <th>1487</th>\n",
       "      <td>Male</td>\n",
       "      <td>73.279445</td>\n",
       "      <td>209.228854</td>\n",
       "    </tr>\n",
       "    <tr>\n",
       "      <th>5508</th>\n",
       "      <td>Female</td>\n",
       "      <td>63.921431</td>\n",
       "      <td>142.843103</td>\n",
       "    </tr>\n",
       "  </tbody>\n",
       "</table>\n",
       "</div>"
      ],
      "text/plain": [
       "      Gender     Height      Weight\n",
       "2008    Male  66.416414  193.601091\n",
       "9438  Female  67.585509  151.894080\n",
       "6933  Female  62.311533  136.236833\n",
       "1487    Male  73.279445  209.228854\n",
       "5508  Female  63.921431  142.843103"
      ]
     },
     "execution_count": 5,
     "metadata": {},
     "output_type": "execute_result"
    }
   ],
   "source": [
    "# 1)Load the mpg dataset using load_dataset function from seaborn\n",
    "df = pd.read_csv(r'C:\\Users\\dilan\\Documents\\Github\\DataAnalysis_and_AI\\period_2\\Resources\\Datasets\\height-weight.csv')\n",
    "df.sample(5)"
   ]
  },
  {
   "cell_type": "markdown",
   "metadata": {},
   "source": [
    "## Trasnform"
   ]
  },
  {
   "cell_type": "code",
   "execution_count": null,
   "metadata": {},
   "outputs": [],
   "source": [
    "# 2)Create a correlation matrix using the pandas function corr( )\n",
    "\n"
   ]
  },
  {
   "cell_type": "code",
   "execution_count": null,
   "metadata": {},
   "outputs": [],
   "source": [
    "# 3)What is the meaning of the correlation scores? What is the default correlation method? How is it obtained? What other correlation methods can be selected?\n",
    "\n"
   ]
  },
  {
   "cell_type": "code",
   "execution_count": null,
   "metadata": {},
   "outputs": [],
   "source": [
    "# 4)  Verify a pairwise correlation coefficient obtained by plotting the two variables.\n",
    "\n"
   ]
  },
  {
   "cell_type": "code",
   "execution_count": null,
   "metadata": {},
   "outputs": [],
   "source": [
    "# 5)To visualize correlations, a heatmap plot can be used. Create a heatmap plot using the seaborn “heatmap” function. Try changing the color scale.\n",
    "\n"
   ]
  },
  {
   "cell_type": "code",
   "execution_count": null,
   "metadata": {},
   "outputs": [],
   "source": [
    "# 6) Create a correlogram figure using the pairplot function from seaborn. What can you conclude? Which plot is more useful to display correlations?\n",
    "\n"
   ]
  },
  {
   "cell_type": "code",
   "execution_count": null,
   "metadata": {},
   "outputs": [],
   "source": [
    "# 7) Modify the parameter “hue” in the pairplot plot using the column ‘origin’. What can you conclude?"
   ]
  }
 ],
 "metadata": {
  "kernelspec": {
   "display_name": ".venv",
   "language": "python",
   "name": "python3"
  },
  "language_info": {
   "codemirror_mode": {
    "name": "ipython",
    "version": 3
   },
   "file_extension": ".py",
   "mimetype": "text/x-python",
   "name": "python",
   "nbconvert_exporter": "python",
   "pygments_lexer": "ipython3",
   "version": "3.11.9"
  }
 },
 "nbformat": 4,
 "nbformat_minor": 2
}
