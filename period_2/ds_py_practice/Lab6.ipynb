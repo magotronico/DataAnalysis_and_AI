{
  "cells": [
    {
      "cell_type": "markdown",
      "metadata": {
        "id": "vpQ0f7A-tPlY"
      },
      "source": [
        "# Lab6"
      ]
    },
    {
      "cell_type": "code",
      "execution_count": null,
      "metadata": {},
      "outputs": [],
      "source": [
        "#   __  __                   _                   _           \n",
        "#  |  \\/  |                 | |                 (_)          \n",
        "#  | \\  / | __ _  __ _  ___ | |_ _ __ ___  _ __  _  ___ ___  \n",
        "#  | |\\/| |/ _` |/ _` |/ _ \\| __| '__/ _ \\| '_ \\| |/ __/ _ \\ \n",
        "#  | |  | | (_| | (_| | (_) | |_| | | (_) | | | | | (_| (_) |\n",
        "#  |_|  |_|\\__,_|\\__, |\\___/ \\__|_|  \\___/|_| |_|_|\\___\\___/ \n",
        "#                 __/ |                                      \n",
        "#                |___/                                       \n",
        "# ─────────────────────────────────────────────────────────────────────────────\n",
        "#                                                                           \n",
        "# Script Name : Lab6.py\n",
        "# Author      : Dilan Castañeda                                             \n",
        "# Created On  : October 04, 2024                                           \n",
        "# Last Update : October 04, 2024                                         \n",
        "# Version     : 1.0.0                                          \n",
        "# Description : ANOVA and Tukey Test\n",
        "# ─────────────────────────────────────────────────────────────────────────────"
      ]
    },
    {
      "cell_type": "code",
      "execution_count": 30,
      "metadata": {},
      "outputs": [],
      "source": [
        "# Importing Libraries\n",
        "# !pip install bioinfokit\n",
        "# !pip install pingouin\n",
        "import pingouin as pg\n",
        "from bioinfokit.analys import stat\n",
        "import pandas as pd\n",
        "import seaborn as sns\n",
        "import matplotlib.pyplot as plt\n",
        "import statsmodels.api as sm\n",
        "from statsmodels.formula.api import ols\n",
        "from statsmodels.stats.multicomp import pairwise_tukeyhsd"
      ]
    },
    {
      "cell_type": "markdown",
      "metadata": {},
      "source": [
        "## 1. Descarga o copia el dataset"
      ]
    },
    {
      "cell_type": "markdown",
      "metadata": {},
      "source": [
        "El dataser esta en el siguiente sitio: https://www.reneshbedre.com/assets/posts/anova/onewayanova.txt"
      ]
    },
    {
      "cell_type": "code",
      "execution_count": 10,
      "metadata": {},
      "outputs": [
        {
          "data": {
            "text/html": [
              "<div>\n",
              "<style scoped>\n",
              "    .dataframe tbody tr th:only-of-type {\n",
              "        vertical-align: middle;\n",
              "    }\n",
              "\n",
              "    .dataframe tbody tr th {\n",
              "        vertical-align: top;\n",
              "    }\n",
              "\n",
              "    .dataframe thead th {\n",
              "        text-align: right;\n",
              "    }\n",
              "</style>\n",
              "<table border=\"1\" class=\"dataframe\">\n",
              "  <thead>\n",
              "    <tr style=\"text-align: right;\">\n",
              "      <th></th>\n",
              "      <th>A</th>\n",
              "      <th>B</th>\n",
              "      <th>C</th>\n",
              "      <th>D</th>\n",
              "    </tr>\n",
              "  </thead>\n",
              "  <tbody>\n",
              "    <tr>\n",
              "      <th>0</th>\n",
              "      <td>25</td>\n",
              "      <td>45</td>\n",
              "      <td>30</td>\n",
              "      <td>54</td>\n",
              "    </tr>\n",
              "    <tr>\n",
              "      <th>1</th>\n",
              "      <td>30</td>\n",
              "      <td>55</td>\n",
              "      <td>29</td>\n",
              "      <td>60</td>\n",
              "    </tr>\n",
              "    <tr>\n",
              "      <th>2</th>\n",
              "      <td>28</td>\n",
              "      <td>29</td>\n",
              "      <td>33</td>\n",
              "      <td>51</td>\n",
              "    </tr>\n",
              "    <tr>\n",
              "      <th>3</th>\n",
              "      <td>36</td>\n",
              "      <td>56</td>\n",
              "      <td>37</td>\n",
              "      <td>62</td>\n",
              "    </tr>\n",
              "    <tr>\n",
              "      <th>4</th>\n",
              "      <td>29</td>\n",
              "      <td>40</td>\n",
              "      <td>27</td>\n",
              "      <td>73</td>\n",
              "    </tr>\n",
              "  </tbody>\n",
              "</table>\n",
              "</div>"
            ],
            "text/plain": [
              "    A   B   C   D\n",
              "0  25  45  30  54\n",
              "1  30  55  29  60\n",
              "2  28  29  33  51\n",
              "3  36  56  37  62\n",
              "4  29  40  27  73"
            ]
          },
          "execution_count": 10,
          "metadata": {},
          "output_type": "execute_result"
        }
      ],
      "source": [
        "# Load the .txt file into a DataFrame\n",
        "df = pd.read_csv('https://www.reneshbedre.com/assets/posts/anova/onewayanova.txt', delimiter='\\t')\n",
        "\n",
        "df"
      ]
    },
    {
      "cell_type": "markdown",
      "metadata": {},
      "source": [
        "## 2. Acondiciona los datos para que tengan el siguiente formato de dataframe: (y poderlo utilizar con statsmodels)"
      ]
    },
    {
      "cell_type": "code",
      "execution_count": 13,
      "metadata": {
        "colab": {
          "base_uri": "https://localhost:8080/",
          "height": 676
        },
        "id": "D-tIx8wbG7cj",
        "outputId": "e5a2902d-5ffa-4e42-c4fc-fbcad7820641"
      },
      "outputs": [
        {
          "data": {
            "text/html": [
              "<div>\n",
              "<style scoped>\n",
              "    .dataframe tbody tr th:only-of-type {\n",
              "        vertical-align: middle;\n",
              "    }\n",
              "\n",
              "    .dataframe tbody tr th {\n",
              "        vertical-align: top;\n",
              "    }\n",
              "\n",
              "    .dataframe thead th {\n",
              "        text-align: right;\n",
              "    }\n",
              "</style>\n",
              "<table border=\"1\" class=\"dataframe\">\n",
              "  <thead>\n",
              "    <tr style=\"text-align: right;\">\n",
              "      <th></th>\n",
              "      <th>Treatment</th>\n",
              "      <th>Value</th>\n",
              "    </tr>\n",
              "  </thead>\n",
              "  <tbody>\n",
              "    <tr>\n",
              "      <th>0</th>\n",
              "      <td>A</td>\n",
              "      <td>25</td>\n",
              "    </tr>\n",
              "    <tr>\n",
              "      <th>1</th>\n",
              "      <td>A</td>\n",
              "      <td>30</td>\n",
              "    </tr>\n",
              "    <tr>\n",
              "      <th>2</th>\n",
              "      <td>A</td>\n",
              "      <td>28</td>\n",
              "    </tr>\n",
              "    <tr>\n",
              "      <th>3</th>\n",
              "      <td>A</td>\n",
              "      <td>36</td>\n",
              "    </tr>\n",
              "    <tr>\n",
              "      <th>4</th>\n",
              "      <td>A</td>\n",
              "      <td>29</td>\n",
              "    </tr>\n",
              "  </tbody>\n",
              "</table>\n",
              "</div>"
            ],
            "text/plain": [
              "  Treatment  Value\n",
              "0         A     25\n",
              "1         A     30\n",
              "2         A     28\n",
              "3         A     36\n",
              "4         A     29"
            ]
          },
          "execution_count": 13,
          "metadata": {},
          "output_type": "execute_result"
        }
      ],
      "source": [
        "# Data Preprocessing\n",
        "df_acon = pd.DataFrame(df).melt(var_name='Treatment', value_name='Value')\n",
        "df_acon.head()"
      ]
    },
    {
      "cell_type": "markdown",
      "metadata": {
        "id": "cw-75hV8uGMZ"
      },
      "source": [
        "## 3. Hacer boxplots para los tratamientos"
      ]
    },
    {
      "cell_type": "code",
      "execution_count": 18,
      "metadata": {
        "colab": {
          "base_uri": "https://localhost:8080/",
          "height": 527
        },
        "id": "TCVfbpMnuSgN",
        "outputId": "3ecb9d63-123a-4a83-d9d8-bb3ae72b2778"
      },
      "outputs": [
        {
          "data": {
            "image/png": "[encoded data removed]",
            "text/plain": [
              "<Figure size 640x480 with 1 Axes>"
            ]
          },
          "metadata": {},
          "output_type": "display_data"
        }
      ],
      "source": [
        "# Boxplot of Treatments\n",
        "sns.boxplot(x='Treatment', y='Value', data=df_acon, color='green')\n",
        "plt.title('Boxplot of Treatments', fontsize=15, fontweight='bold')\n",
        "plt.show()"
      ]
    },
    {
      "cell_type": "markdown",
      "metadata": {
        "id": "Wof1u1PouJQL"
      },
      "source": [
        "## 4. Haz la prueba ANOVA con 3 formas diferentes:"
      ]
    },
    {
      "cell_type": "code",
      "execution_count": 28,
      "metadata": {
        "colab": {
          "base_uri": "https://localhost:8080/"
        },
        "id": "mh4tgkc6uTIO",
        "outputId": "63fd445c-ff04-4862-cea0-6b9a5c3f0b0b"
      },
      "outputs": [
        {
          "name": "stdout",
          "output_type": "stream",
          "text": [
            "Statsmodels ANOVA:\n"
          ]
        },
        {
          "data": {
            "text/html": [
              "<div>\n",
              "<style scoped>\n",
              "    .dataframe tbody tr th:only-of-type {\n",
              "        vertical-align: middle;\n",
              "    }\n",
              "\n",
              "    .dataframe tbody tr th {\n",
              "        vertical-align: top;\n",
              "    }\n",
              "\n",
              "    .dataframe thead th {\n",
              "        text-align: right;\n",
              "    }\n",
              "</style>\n",
              "<table border=\"1\" class=\"dataframe\">\n",
              "  <thead>\n",
              "    <tr style=\"text-align: right;\">\n",
              "      <th></th>\n",
              "      <th>sum_sq</th>\n",
              "      <th>df</th>\n",
              "      <th>F</th>\n",
              "      <th>PR(&gt;F)</th>\n",
              "    </tr>\n",
              "  </thead>\n",
              "  <tbody>\n",
              "    <tr>\n",
              "      <th>Treatment</th>\n",
              "      <td>3010.95</td>\n",
              "      <td>3.0</td>\n",
              "      <td>17.49281</td>\n",
              "      <td>0.000026</td>\n",
              "    </tr>\n",
              "    <tr>\n",
              "      <th>Residual</th>\n",
              "      <td>918.00</td>\n",
              "      <td>16.0</td>\n",
              "      <td>NaN</td>\n",
              "      <td>NaN</td>\n",
              "    </tr>\n",
              "  </tbody>\n",
              "</table>\n",
              "</div>"
            ],
            "text/plain": [
              "            sum_sq    df         F    PR(>F)\n",
              "Treatment  3010.95   3.0  17.49281  0.000026\n",
              "Residual    918.00  16.0       NaN       NaN"
            ]
          },
          "execution_count": 28,
          "metadata": {},
          "output_type": "execute_result"
        }
      ],
      "source": [
        "# ANOVA using statsmodels\n",
        "model = ols('Value ~ Treatment', data=df_acon).fit()\n",
        "anova = sm.stats.anova_lm(model, typ=2)\n",
        "\n",
        "# ANOVA Table\n",
        "print(\"Statsmodels ANOVA:\")\n",
        "anova"
      ]
    },
    {
      "cell_type": "code",
      "execution_count": 26,
      "metadata": {
        "colab": {
          "base_uri": "https://localhost:8080/",
          "height": 112
        },
        "id": "J1tY5MyuKvri",
        "outputId": "27fed4b5-6b07-4a76-96ee-7497c78fcb51"
      },
      "outputs": [
        {
          "name": "stdout",
          "output_type": "stream",
          "text": [
            "Bioinfokit ANOVA:\n"
          ]
        },
        {
          "data": {
            "text/html": [
              "<div>\n",
              "<style scoped>\n",
              "    .dataframe tbody tr th:only-of-type {\n",
              "        vertical-align: middle;\n",
              "    }\n",
              "\n",
              "    .dataframe tbody tr th {\n",
              "        vertical-align: top;\n",
              "    }\n",
              "\n",
              "    .dataframe thead th {\n",
              "        text-align: right;\n",
              "    }\n",
              "</style>\n",
              "<table border=\"1\" class=\"dataframe\">\n",
              "  <thead>\n",
              "    <tr style=\"text-align: right;\">\n",
              "      <th></th>\n",
              "      <th>df</th>\n",
              "      <th>sum_sq</th>\n",
              "      <th>mean_sq</th>\n",
              "      <th>F</th>\n",
              "      <th>PR(&gt;F)</th>\n",
              "    </tr>\n",
              "  </thead>\n",
              "  <tbody>\n",
              "    <tr>\n",
              "      <th>C(Treatment)</th>\n",
              "      <td>3.0</td>\n",
              "      <td>3010.95</td>\n",
              "      <td>1003.650</td>\n",
              "      <td>17.49281</td>\n",
              "      <td>0.000026</td>\n",
              "    </tr>\n",
              "    <tr>\n",
              "      <th>Residual</th>\n",
              "      <td>16.0</td>\n",
              "      <td>918.00</td>\n",
              "      <td>57.375</td>\n",
              "      <td>NaN</td>\n",
              "      <td>NaN</td>\n",
              "    </tr>\n",
              "  </tbody>\n",
              "</table>\n",
              "</div>"
            ],
            "text/plain": [
              "                df   sum_sq   mean_sq         F    PR(>F)\n",
              "C(Treatment)   3.0  3010.95  1003.650  17.49281  0.000026\n",
              "Residual      16.0   918.00    57.375       NaN       NaN"
            ]
          },
          "execution_count": 26,
          "metadata": {},
          "output_type": "execute_result"
        }
      ],
      "source": [
        "# ANOVA using bioinfokit\n",
        "output = stat()\n",
        "output.anova_stat(df=df_acon, anova_model='Value ~ C(Treatment)')\n",
        "\n",
        "# ANOVA Table\n",
        "print(\"Bioinfokit ANOVA:\")\n",
        "output.anova_summary"
      ]
    },
    {
      "cell_type": "code",
      "execution_count": 27,
      "metadata": {
        "colab": {
          "base_uri": "https://localhost:8080/"
        },
        "id": "_rmhrvgIMFxJ",
        "outputId": "c21ab0f2-5d2a-46da-9e1a-8b9457690391"
      },
      "outputs": [
        {
          "name": "stdout",
          "output_type": "stream",
          "text": [
            "Pingouin ANOVA:\n"
          ]
        },
        {
          "data": {
            "text/html": [
              "<div>\n",
              "<style scoped>\n",
              "    .dataframe tbody tr th:only-of-type {\n",
              "        vertical-align: middle;\n",
              "    }\n",
              "\n",
              "    .dataframe tbody tr th {\n",
              "        vertical-align: top;\n",
              "    }\n",
              "\n",
              "    .dataframe thead th {\n",
              "        text-align: right;\n",
              "    }\n",
              "</style>\n",
              "<table border=\"1\" class=\"dataframe\">\n",
              "  <thead>\n",
              "    <tr style=\"text-align: right;\">\n",
              "      <th></th>\n",
              "      <th>Source</th>\n",
              "      <th>SS</th>\n",
              "      <th>DF</th>\n",
              "      <th>MS</th>\n",
              "      <th>F</th>\n",
              "      <th>p-unc</th>\n",
              "      <th>np2</th>\n",
              "    </tr>\n",
              "  </thead>\n",
              "  <tbody>\n",
              "    <tr>\n",
              "      <th>0</th>\n",
              "      <td>Treatment</td>\n",
              "      <td>3010.95</td>\n",
              "      <td>3</td>\n",
              "      <td>1003.650</td>\n",
              "      <td>17.49281</td>\n",
              "      <td>0.000026</td>\n",
              "      <td>0.76635</td>\n",
              "    </tr>\n",
              "    <tr>\n",
              "      <th>1</th>\n",
              "      <td>Within</td>\n",
              "      <td>918.00</td>\n",
              "      <td>16</td>\n",
              "      <td>57.375</td>\n",
              "      <td>NaN</td>\n",
              "      <td>NaN</td>\n",
              "      <td>NaN</td>\n",
              "    </tr>\n",
              "  </tbody>\n",
              "</table>\n",
              "</div>"
            ],
            "text/plain": [
              "      Source       SS  DF        MS         F     p-unc      np2\n",
              "0  Treatment  3010.95   3  1003.650  17.49281  0.000026  0.76635\n",
              "1     Within   918.00  16    57.375       NaN       NaN      NaN"
            ]
          },
          "execution_count": 27,
          "metadata": {},
          "output_type": "execute_result"
        }
      ],
      "source": [
        "# ANOVA using pingouin\n",
        "anova_pingouin = pg.anova(dv='Value', between='Treatment', data=df_acon, detailed=True)\n",
        "\n",
        "# ANOVA Table\n",
        "print(\"Pingouin ANOVA:\")\n",
        "anova_pingouin"
      ]
    },
    {
      "cell_type": "markdown",
      "metadata": {
        "id": "DfzUmYMsuOQ0"
      },
      "source": [
        "## 5. Haz la prueba de Tukey (Honest Significant Difference) para determinar los pares de medias que son diferentes"
      ]
    },
    {
      "cell_type": "code",
      "execution_count": 33,
      "metadata": {
        "colab": {
          "base_uri": "https://localhost:8080/",
          "height": 356
        },
        "id": "buJxiw3BNBI5",
        "outputId": "02adbf75-d67f-4681-bb17-9ae9778abcf2"
      },
      "outputs": [
        {
          "name": "stdout",
          "output_type": "stream",
          "text": [
            "\n",
            "Tukey HSD Results:\n"
          ]
        },
        {
          "data": {
            "text/html": [
              "<table class=\"simpletable\">\n",
              "<caption>Multiple Comparison of Means - Tukey HSD, FWER=0.05</caption>\n",
              "<tr>\n",
              "  <th>group1</th> <th>group2</th> <th>meandiff</th>  <th>p-adj</th>  <th>lower</th>   <th>upper</th> <th>reject</th>\n",
              "</tr>\n",
              "<tr>\n",
              "     <td>A</td>      <td>B</td>     <td>15.4</td>   <td>0.0251</td>  <td>1.694</td>  <td>29.106</td>  <td>True</td> \n",
              "</tr>\n",
              "<tr>\n",
              "     <td>A</td>      <td>C</td>      <td>1.6</td>   <td>0.9867</td> <td>-12.106</td> <td>15.306</td>  <td>False</td>\n",
              "</tr>\n",
              "<tr>\n",
              "     <td>A</td>      <td>D</td>     <td>30.4</td>   <td>0.0001</td> <td>16.694</td>  <td>44.106</td>  <td>True</td> \n",
              "</tr>\n",
              "<tr>\n",
              "     <td>B</td>      <td>C</td>     <td>-13.8</td>  <td>0.0482</td> <td>-27.506</td> <td>-0.094</td>  <td>True</td> \n",
              "</tr>\n",
              "<tr>\n",
              "     <td>B</td>      <td>D</td>     <td>15.0</td>   <td>0.0296</td>  <td>1.294</td>  <td>28.706</td>  <td>True</td> \n",
              "</tr>\n",
              "<tr>\n",
              "     <td>C</td>      <td>D</td>     <td>28.8</td>   <td>0.0001</td> <td>15.094</td>  <td>42.506</td>  <td>True</td> \n",
              "</tr>\n",
              "</table>"
            ],
            "text/latex": [
              "\\begin{center}\n",
              "\\begin{tabular}{ccccccc}\n",
              "\\toprule\n",
              "\\textbf{group1} & \\textbf{group2} & \\textbf{meandiff} & \\textbf{p-adj} & \\textbf{lower} & \\textbf{upper} & \\textbf{reject}  \\\\\n",
              "\\midrule\n",
              "       A        &        B        &        15.4       &     0.0251     &     1.694      &     29.106     &       True       \\\\\n",
              "       A        &        C        &        1.6        &     0.9867     &    -12.106     &     15.306     &      False       \\\\\n",
              "       A        &        D        &        30.4       &     0.0001     &     16.694     &     44.106     &       True       \\\\\n",
              "       B        &        C        &       -13.8       &     0.0482     &    -27.506     &     -0.094     &       True       \\\\\n",
              "       B        &        D        &        15.0       &     0.0296     &     1.294      &     28.706     &       True       \\\\\n",
              "       C        &        D        &        28.8       &     0.0001     &     15.094     &     42.506     &       True       \\\\\n",
              "\\bottomrule\n",
              "\\end{tabular}\n",
              "%\\caption{Multiple Comparison of Means - Tukey HSD, FWER=0.05}\n",
              "\\end{center}"
            ],
            "text/plain": [
              "<class 'statsmodels.iolib.table.SimpleTable'>"
            ]
          },
          "execution_count": 33,
          "metadata": {},
          "output_type": "execute_result"
        }
      ],
      "source": [
        "# Prueba de Tukey HSD\n",
        "tukey = pairwise_tukeyhsd(endog=df_acon['Value'], groups=df_acon['Treatment'], alpha=0.05)\n",
        "\n",
        "# Tukey HSD Results\n",
        "print(\"\\nTukey HSD Results:\")\n",
        "tukey.summary()"
      ]
    }
  ],
  "metadata": {
    "colab": {
      "provenance": []
    },
    "kernelspec": {
      "display_name": ".venv",
      "language": "python",
      "name": "python3"
    },
    "language_info": {
      "codemirror_mode": {
        "name": "ipython",
        "version": 3
      },
      "file_extension": ".py",
      "mimetype": "text/x-python",
      "name": "python",
      "nbconvert_exporter": "python",
      "pygments_lexer": "ipython3",
      "version": "3.11.9"
    }
  },
  "nbformat": 4,
  "nbformat_minor": 0
}
