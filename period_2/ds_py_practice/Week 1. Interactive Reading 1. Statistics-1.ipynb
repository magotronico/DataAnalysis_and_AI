{
 "cells": [
  {
   "cell_type": "code",
   "execution_count": null,
   "id": "da0d1d54",
   "metadata": {},
   "outputs": [],
   "source": [
    "#   __  __                   _                   _           \n",
    "#  |  \\/  |                 | |                 (_)          \n",
    "#  | \\  / | __ _  __ _  ___ | |_ _ __ ___  _ __  _  ___ ___  \n",
    "#  | |\\/| |/ _` |/ _` |/ _ \\| __| '__/ _ \\| '_ \\| |/ __/ _ \\ \n",
    "#  | |  | | (_| | (_| | (_) | |_| | | (_) | | | | | (_| (_) |\n",
    "#  |_|  |_|\\__,_|\\__, |\\___/ \\__|_|  \\___/|_| |_|_|\\___\\___/ \n",
    "#                 __/ |                                      \n",
    "#                |___/                                       \n",
    "# ─────────────────────────────────────────────────────────────────────────────\n",
    "#                                                                           \n",
    "# Script Name : Lab3.py\n",
    "# Author      : Dilan Castañeda                                             \n",
    "# Created On  : September 20, 2024                                           \n",
    "# Last Update : September 20, 2024                                         \n",
    "# Version     : 1.0.0                                          \n",
    "# Description : La prueba de hemoglobina A1c, que es una prueba de sangre aplicada a los diabéticos durante sus chequeos periódicos, indica el nivel de control de azúcar en la sangre durante los dos o tres meses pasados. Los datos siguientes se obtuvieron de 40 diabéticos distintos en una clínica universitaria que atiende a pacientes diabéticos.      \n",
    "# ─────────────────────────────────────────────────────────────────────────────"
   ]
  },
  {
   "cell_type": "markdown",
   "id": "00057e6d",
   "metadata": {},
   "source": [
    "# Statistics\n",
    "# Interactive reading 1\n",
    "\n",
    "Throughout this course we will be working with these *Jupyter Notebooks*, trying to put into practice the concepts learned in each module. But, we will also use them as a reading tool to, before programming our own code, know how to use some functions, learn about different libraries, etc.\n",
    "\n",
    "In this practice we will become familiar with the Python programming language, making use of some of its basic functions to import data, modify it, graph it, etc.\n",
    "\n",
    "Please do not modify the cells with the instructions, and only write code in the cells where you are instructed to do so. **If at any time you mistakenly select an instruction cell and its appearance changes, simply press “Ctrl + Enter”.\n",
    "\n",
    "Within the code cells, lines that begin with a “\\#” are comments and will not be executed, they simply serve as helpful instructions or descriptions for you."
   ]
  },
  {
   "cell_type": "markdown",
   "id": "abe17634",
   "metadata": {},
   "source": [
    "Let's start with a classic example. In the cell below, simply use the `print()` function, to which you must give the phrase \"I will learn statistics!\" as an argument, surrounded by quotes. Once finished, press\"Ctrl + Enter\", or run the cell from the menu Cell -> Run Cells. If there were no errors, you should see a console below your code showing the indicated text. <br><br>\n",
    "\n",
    "<details>\n",
    "    <summary>If you have problems, click here to show the solution</summary>\n",
    "    print(\"I will learn statistics!\")\n",
    "</details>"
   ]
  },
  {
   "cell_type": "code",
   "execution_count": 3,
   "id": "13c4fd2d",
   "metadata": {},
   "outputs": [
    {
     "name": "stdout",
     "output_type": "stream",
     "text": [
      "I will learn statistics!\n"
     ]
    }
   ],
   "source": [
    "# Write the requested line of code below\n",
    "print(\"I will learn statistics!\") # This is the requested line of code\n"
   ]
  },
  {
   "cell_type": "markdown",
   "id": "9845d897",
   "metadata": {},
   "source": [
    "Alright, it's time to use functions to work with real data. Make sure the \"ObesityDataSet.csv\" file is in the same folder you are currently working in (the folder where you saved this *Jupyter Notebook*). This dataset include data for the estimation of obesity levels in individuals from the countries of Mexico, Peru and Colombia, based on their eating habits and physical condition. You can find it in the UC Irvine Machine Learning Repository https://archive.ics.uci.edu/dataset/544/estimation+of+obesity+levels+based+on+eating+habits+and+physical+condition\n",
    "\n",
    "The first step will be to read the file and save its information in a variable named `data`, for which we will use the `read_csv()` function of pandas, a library for data analysis in Python. As an argument, simply put the file name in quotes.\n",
    "\n",
    "Before using the function, we will have to import the library in question into our work environment. To achieve this we will use the `import` declaration, and we will include a shorter name as a synonym for said library, so that our lines of code are not so long. For this occasion, the line of code to import is already written, make sure you understand it, because later you will have to use it with other libraries.<br><br>\n",
    "\n",
    "<details>\n",
    "    <summary>If you have problems, click here to show the solution</summary>\n",
    "    data = pd.read_csv(\"ObesityDataSet.csv\")\n",
    "</details>"
   ]
  },
  {
   "cell_type": "code",
   "execution_count": 5,
   "id": "d2d99232",
   "metadata": {},
   "outputs": [],
   "source": [
    "# The pandas library is imported, using the term \"pd\" as a synonym\n",
    "import pandas as pd\n",
    "\n",
    "# Download .zip file from the URL provided\n",
    "url = 'https://archive.ics.uci.edu/static/public/544/estimation+of+obesity+levels+based+on+eating+habits+and+physical+condition.zip'\n",
    "obesity_df = pd.read_csv(url, compression='zip')"
   ]
  },
  {
   "cell_type": "markdown",
   "id": "5882d64d",
   "metadata": {},
   "source": [
    "Now we will review the content of said file, applying the `head()` function on the `data` variable. This function helps us display the content of our variable, displaying by *default* only the first 5 rows of data, or the number of rows that we specify as a parameter of the function. Try it in the next cell. This way is that we review a sample of the data. <br><br>\n",
    "\n",
    "<details>\n",
    "    <summary>If you have problems, click here to show the solution</summary>\n",
    "    data.head()\n",
    "</details>"
   ]
  },
  {
   "cell_type": "code",
   "execution_count": 6,
   "id": "5f385434",
   "metadata": {},
   "outputs": [
    {
     "data": {
      "text/html": [
       "<div>\n",
       "<style scoped>\n",
       "    .dataframe tbody tr th:only-of-type {\n",
       "        vertical-align: middle;\n",
       "    }\n",
       "\n",
       "    .dataframe tbody tr th {\n",
       "        vertical-align: top;\n",
       "    }\n",
       "\n",
       "    .dataframe thead th {\n",
       "        text-align: right;\n",
       "    }\n",
       "</style>\n",
       "<table border=\"1\" class=\"dataframe\">\n",
       "  <thead>\n",
       "    <tr style=\"text-align: right;\">\n",
       "      <th></th>\n",
       "      <th>Gender</th>\n",
       "      <th>Age</th>\n",
       "      <th>Height</th>\n",
       "      <th>Weight</th>\n",
       "      <th>family_history_with_overweight</th>\n",
       "      <th>FAVC</th>\n",
       "      <th>FCVC</th>\n",
       "      <th>NCP</th>\n",
       "      <th>CAEC</th>\n",
       "      <th>SMOKE</th>\n",
       "      <th>CH2O</th>\n",
       "      <th>SCC</th>\n",
       "      <th>FAF</th>\n",
       "      <th>TUE</th>\n",
       "      <th>CALC</th>\n",
       "      <th>MTRANS</th>\n",
       "      <th>NObeyesdad</th>\n",
       "    </tr>\n",
       "  </thead>\n",
       "  <tbody>\n",
       "    <tr>\n",
       "      <th>0</th>\n",
       "      <td>Female</td>\n",
       "      <td>21.0</td>\n",
       "      <td>1.62</td>\n",
       "      <td>64.0</td>\n",
       "      <td>yes</td>\n",
       "      <td>no</td>\n",
       "      <td>2.0</td>\n",
       "      <td>3.0</td>\n",
       "      <td>Sometimes</td>\n",
       "      <td>no</td>\n",
       "      <td>2.0</td>\n",
       "      <td>no</td>\n",
       "      <td>0.0</td>\n",
       "      <td>1.0</td>\n",
       "      <td>no</td>\n",
       "      <td>Public_Transportation</td>\n",
       "      <td>Normal_Weight</td>\n",
       "    </tr>\n",
       "    <tr>\n",
       "      <th>1</th>\n",
       "      <td>Female</td>\n",
       "      <td>21.0</td>\n",
       "      <td>1.52</td>\n",
       "      <td>56.0</td>\n",
       "      <td>yes</td>\n",
       "      <td>no</td>\n",
       "      <td>3.0</td>\n",
       "      <td>3.0</td>\n",
       "      <td>Sometimes</td>\n",
       "      <td>yes</td>\n",
       "      <td>3.0</td>\n",
       "      <td>yes</td>\n",
       "      <td>3.0</td>\n",
       "      <td>0.0</td>\n",
       "      <td>Sometimes</td>\n",
       "      <td>Public_Transportation</td>\n",
       "      <td>Normal_Weight</td>\n",
       "    </tr>\n",
       "    <tr>\n",
       "      <th>2</th>\n",
       "      <td>Male</td>\n",
       "      <td>23.0</td>\n",
       "      <td>1.80</td>\n",
       "      <td>77.0</td>\n",
       "      <td>yes</td>\n",
       "      <td>no</td>\n",
       "      <td>2.0</td>\n",
       "      <td>3.0</td>\n",
       "      <td>Sometimes</td>\n",
       "      <td>no</td>\n",
       "      <td>2.0</td>\n",
       "      <td>no</td>\n",
       "      <td>2.0</td>\n",
       "      <td>1.0</td>\n",
       "      <td>Frequently</td>\n",
       "      <td>Public_Transportation</td>\n",
       "      <td>Normal_Weight</td>\n",
       "    </tr>\n",
       "    <tr>\n",
       "      <th>3</th>\n",
       "      <td>Male</td>\n",
       "      <td>27.0</td>\n",
       "      <td>1.80</td>\n",
       "      <td>87.0</td>\n",
       "      <td>no</td>\n",
       "      <td>no</td>\n",
       "      <td>3.0</td>\n",
       "      <td>3.0</td>\n",
       "      <td>Sometimes</td>\n",
       "      <td>no</td>\n",
       "      <td>2.0</td>\n",
       "      <td>no</td>\n",
       "      <td>2.0</td>\n",
       "      <td>0.0</td>\n",
       "      <td>Frequently</td>\n",
       "      <td>Walking</td>\n",
       "      <td>Overweight_Level_I</td>\n",
       "    </tr>\n",
       "    <tr>\n",
       "      <th>4</th>\n",
       "      <td>Male</td>\n",
       "      <td>22.0</td>\n",
       "      <td>1.78</td>\n",
       "      <td>89.8</td>\n",
       "      <td>no</td>\n",
       "      <td>no</td>\n",
       "      <td>2.0</td>\n",
       "      <td>1.0</td>\n",
       "      <td>Sometimes</td>\n",
       "      <td>no</td>\n",
       "      <td>2.0</td>\n",
       "      <td>no</td>\n",
       "      <td>0.0</td>\n",
       "      <td>0.0</td>\n",
       "      <td>Sometimes</td>\n",
       "      <td>Public_Transportation</td>\n",
       "      <td>Overweight_Level_II</td>\n",
       "    </tr>\n",
       "  </tbody>\n",
       "</table>\n",
       "</div>"
      ],
      "text/plain": [
       "   Gender   Age  Height  Weight family_history_with_overweight FAVC  FCVC  \\\n",
       "0  Female  21.0    1.62    64.0                            yes   no   2.0   \n",
       "1  Female  21.0    1.52    56.0                            yes   no   3.0   \n",
       "2    Male  23.0    1.80    77.0                            yes   no   2.0   \n",
       "3    Male  27.0    1.80    87.0                             no   no   3.0   \n",
       "4    Male  22.0    1.78    89.8                             no   no   2.0   \n",
       "\n",
       "   NCP       CAEC SMOKE  CH2O  SCC  FAF  TUE        CALC  \\\n",
       "0  3.0  Sometimes    no   2.0   no  0.0  1.0          no   \n",
       "1  3.0  Sometimes   yes   3.0  yes  3.0  0.0   Sometimes   \n",
       "2  3.0  Sometimes    no   2.0   no  2.0  1.0  Frequently   \n",
       "3  3.0  Sometimes    no   2.0   no  2.0  0.0  Frequently   \n",
       "4  1.0  Sometimes    no   2.0   no  0.0  0.0   Sometimes   \n",
       "\n",
       "                  MTRANS           NObeyesdad  \n",
       "0  Public_Transportation        Normal_Weight  \n",
       "1  Public_Transportation        Normal_Weight  \n",
       "2  Public_Transportation        Normal_Weight  \n",
       "3                Walking   Overweight_Level_I  \n",
       "4  Public_Transportation  Overweight_Level_II  "
      ]
     },
     "execution_count": 6,
     "metadata": {},
     "output_type": "execute_result"
    }
   ],
   "source": [
    "# Write the requested line of code below\n",
    "obesity_df.head()"
   ]
  },
  {
   "cell_type": "markdown",
   "id": "c24f7d14",
   "metadata": {},
   "source": [
    "If you want to review the last rows of the data you can apply the `tail()`function in the same way or if you want to review a random sample use the `sample()` function. Try one of the two in the next cell. <br><br>\n",
    "\n",
    "<details>\n",
    "    <summary>If you have problems, click here to show the solution</summary>\n",
    "    data.tail(10)\n",
    "    data.sample(3)\n",
    "</details>"
   ]
  },
  {
   "cell_type": "code",
   "execution_count": 7,
   "id": "05b9beef",
   "metadata": {},
   "outputs": [
    {
     "data": {
      "text/html": [
       "<div>\n",
       "<style scoped>\n",
       "    .dataframe tbody tr th:only-of-type {\n",
       "        vertical-align: middle;\n",
       "    }\n",
       "\n",
       "    .dataframe tbody tr th {\n",
       "        vertical-align: top;\n",
       "    }\n",
       "\n",
       "    .dataframe thead th {\n",
       "        text-align: right;\n",
       "    }\n",
       "</style>\n",
       "<table border=\"1\" class=\"dataframe\">\n",
       "  <thead>\n",
       "    <tr style=\"text-align: right;\">\n",
       "      <th></th>\n",
       "      <th>Gender</th>\n",
       "      <th>Age</th>\n",
       "      <th>Height</th>\n",
       "      <th>Weight</th>\n",
       "      <th>family_history_with_overweight</th>\n",
       "      <th>FAVC</th>\n",
       "      <th>FCVC</th>\n",
       "      <th>NCP</th>\n",
       "      <th>CAEC</th>\n",
       "      <th>SMOKE</th>\n",
       "      <th>CH2O</th>\n",
       "      <th>SCC</th>\n",
       "      <th>FAF</th>\n",
       "      <th>TUE</th>\n",
       "      <th>CALC</th>\n",
       "      <th>MTRANS</th>\n",
       "      <th>NObeyesdad</th>\n",
       "    </tr>\n",
       "  </thead>\n",
       "  <tbody>\n",
       "    <tr>\n",
       "      <th>1740</th>\n",
       "      <td>Male</td>\n",
       "      <td>37.765356</td>\n",
       "      <td>1.763582</td>\n",
       "      <td>117.861590</td>\n",
       "      <td>yes</td>\n",
       "      <td>yes</td>\n",
       "      <td>2.145114</td>\n",
       "      <td>2.888193</td>\n",
       "      <td>Sometimes</td>\n",
       "      <td>no</td>\n",
       "      <td>2.038128</td>\n",
       "      <td>no</td>\n",
       "      <td>0.852344</td>\n",
       "      <td>0.000000</td>\n",
       "      <td>Sometimes</td>\n",
       "      <td>Automobile</td>\n",
       "      <td>Obesity_Type_II</td>\n",
       "    </tr>\n",
       "    <tr>\n",
       "      <th>1840</th>\n",
       "      <td>Female</td>\n",
       "      <td>21.051107</td>\n",
       "      <td>1.753266</td>\n",
       "      <td>133.852432</td>\n",
       "      <td>yes</td>\n",
       "      <td>yes</td>\n",
       "      <td>3.000000</td>\n",
       "      <td>3.000000</td>\n",
       "      <td>Sometimes</td>\n",
       "      <td>no</td>\n",
       "      <td>2.953110</td>\n",
       "      <td>no</td>\n",
       "      <td>1.445148</td>\n",
       "      <td>0.673210</td>\n",
       "      <td>Sometimes</td>\n",
       "      <td>Public_Transportation</td>\n",
       "      <td>Obesity_Type_III</td>\n",
       "    </tr>\n",
       "    <tr>\n",
       "      <th>620</th>\n",
       "      <td>Female</td>\n",
       "      <td>19.931667</td>\n",
       "      <td>1.653209</td>\n",
       "      <td>49.026214</td>\n",
       "      <td>no</td>\n",
       "      <td>no</td>\n",
       "      <td>2.530066</td>\n",
       "      <td>3.000000</td>\n",
       "      <td>Sometimes</td>\n",
       "      <td>no</td>\n",
       "      <td>1.965237</td>\n",
       "      <td>no</td>\n",
       "      <td>2.000000</td>\n",
       "      <td>1.000000</td>\n",
       "      <td>Sometimes</td>\n",
       "      <td>Public_Transportation</td>\n",
       "      <td>Insufficient_Weight</td>\n",
       "    </tr>\n",
       "    <tr>\n",
       "      <th>822</th>\n",
       "      <td>Female</td>\n",
       "      <td>21.938831</td>\n",
       "      <td>1.611239</td>\n",
       "      <td>67.939653</td>\n",
       "      <td>yes</td>\n",
       "      <td>yes</td>\n",
       "      <td>1.906194</td>\n",
       "      <td>3.987707</td>\n",
       "      <td>Sometimes</td>\n",
       "      <td>no</td>\n",
       "      <td>2.597746</td>\n",
       "      <td>no</td>\n",
       "      <td>1.922234</td>\n",
       "      <td>1.376124</td>\n",
       "      <td>Sometimes</td>\n",
       "      <td>Public_Transportation</td>\n",
       "      <td>Overweight_Level_I</td>\n",
       "    </tr>\n",
       "  </tbody>\n",
       "</table>\n",
       "</div>"
      ],
      "text/plain": [
       "      Gender        Age    Height      Weight family_history_with_overweight  \\\n",
       "1740    Male  37.765356  1.763582  117.861590                            yes   \n",
       "1840  Female  21.051107  1.753266  133.852432                            yes   \n",
       "620   Female  19.931667  1.653209   49.026214                             no   \n",
       "822   Female  21.938831  1.611239   67.939653                            yes   \n",
       "\n",
       "     FAVC      FCVC       NCP       CAEC SMOKE      CH2O SCC       FAF  \\\n",
       "1740  yes  2.145114  2.888193  Sometimes    no  2.038128  no  0.852344   \n",
       "1840  yes  3.000000  3.000000  Sometimes    no  2.953110  no  1.445148   \n",
       "620    no  2.530066  3.000000  Sometimes    no  1.965237  no  2.000000   \n",
       "822   yes  1.906194  3.987707  Sometimes    no  2.597746  no  1.922234   \n",
       "\n",
       "           TUE       CALC                 MTRANS           NObeyesdad  \n",
       "1740  0.000000  Sometimes             Automobile      Obesity_Type_II  \n",
       "1840  0.673210  Sometimes  Public_Transportation     Obesity_Type_III  \n",
       "620   1.000000  Sometimes  Public_Transportation  Insufficient_Weight  \n",
       "822   1.376124  Sometimes  Public_Transportation   Overweight_Level_I  "
      ]
     },
     "execution_count": 7,
     "metadata": {},
     "output_type": "execute_result"
    }
   ],
   "source": [
    "# Write the requested line of code below\n",
    "obesity_df.tail(5)\n",
    "obesity_df.sample(4)"
   ]
  },
  {
   "cell_type": "markdown",
   "id": "33ce5f77",
   "metadata": {},
   "source": [
    "Before starting to work with a data set, it is suggested to know the attributes that were measured, the dimensions of the data frame, the number of instances and columns, know the types of data, the variable of interest, as well as a descriptive summary of the data. Next we will try different functions starting with the `shape` function in the `data` variable in the same way as before. <br><br>\n",
    "\n",
    "<details>\n",
    "    <summary>If you have problems, click here to show the solution</summary>\n",
    "    data.shape\n",
    "</details>\n",
    "\n"
   ]
  },
  {
   "cell_type": "code",
   "execution_count": 8,
   "id": "5e2d3d53",
   "metadata": {},
   "outputs": [
    {
     "data": {
      "text/plain": [
       "(2111, 17)"
      ]
     },
     "execution_count": 8,
     "metadata": {},
     "output_type": "execute_result"
    }
   ],
   "source": [
    "# Write the requested line of code below\n",
    "obesity_df.shape"
   ]
  },
  {
   "cell_type": "markdown",
   "id": "e50fef68",
   "metadata": {},
   "source": [
    "Now we know that we have 2111 instances and 17 columns. It is time to now know the name of the columns, with their data type and if there is missing data in each of them. We will achieve this with the `info()` function on the `data` variable.<br><br>\n",
    "\n",
    "<details>\n",
    "    <summary>If you have problems, click here to show the solution</summary>\n",
    "    data.info()\n",
    "</details>\n"
   ]
  },
  {
   "cell_type": "code",
   "execution_count": 9,
   "id": "2ab91025",
   "metadata": {},
   "outputs": [
    {
     "name": "stdout",
     "output_type": "stream",
     "text": [
      "<class 'pandas.core.frame.DataFrame'>\n",
      "RangeIndex: 2111 entries, 0 to 2110\n",
      "Data columns (total 17 columns):\n",
      " #   Column                          Non-Null Count  Dtype  \n",
      "---  ------                          --------------  -----  \n",
      " 0   Gender                          2111 non-null   object \n",
      " 1   Age                             2111 non-null   float64\n",
      " 2   Height                          2111 non-null   float64\n",
      " 3   Weight                          2111 non-null   float64\n",
      " 4   family_history_with_overweight  2111 non-null   object \n",
      " 5   FAVC                            2111 non-null   object \n",
      " 6   FCVC                            2111 non-null   float64\n",
      " 7   NCP                             2111 non-null   float64\n",
      " 8   CAEC                            2111 non-null   object \n",
      " 9   SMOKE                           2111 non-null   object \n",
      " 10  CH2O                            2111 non-null   float64\n",
      " 11  SCC                             2111 non-null   object \n",
      " 12  FAF                             2111 non-null   float64\n",
      " 13  TUE                             2111 non-null   float64\n",
      " 14  CALC                            2111 non-null   object \n",
      " 15  MTRANS                          2111 non-null   object \n",
      " 16  NObeyesdad                      2111 non-null   object \n",
      "dtypes: float64(8), object(9)\n",
      "memory usage: 280.5+ KB\n"
     ]
    }
   ],
   "source": [
    "# Write the requested line of code below\n",
    "obesity_df.info()"
   ]
  },
  {
   "cell_type": "markdown",
   "id": "6f39edc9",
   "metadata": {},
   "source": [
    "Excellent, we can see that there are no missing values in our data frame. When the data type is `object` it is usually a categorical variable and when it is `float64` it is continuous numeric but not necessarily in all cases. Let's review a summary of continuous variables with the `describe()` function in the same way on the `data` variable.\n",
    "\n",
    "<details>\n",
    "    <summary>If you have problems, click here to show the solution</summary>\n",
    "    data.describe()\n",
    "</details>\n"
   ]
  },
  {
   "cell_type": "code",
   "execution_count": 10,
   "id": "3560a0b7",
   "metadata": {},
   "outputs": [
    {
     "data": {
      "text/html": [
       "<div>\n",
       "<style scoped>\n",
       "    .dataframe tbody tr th:only-of-type {\n",
       "        vertical-align: middle;\n",
       "    }\n",
       "\n",
       "    .dataframe tbody tr th {\n",
       "        vertical-align: top;\n",
       "    }\n",
       "\n",
       "    .dataframe thead th {\n",
       "        text-align: right;\n",
       "    }\n",
       "</style>\n",
       "<table border=\"1\" class=\"dataframe\">\n",
       "  <thead>\n",
       "    <tr style=\"text-align: right;\">\n",
       "      <th></th>\n",
       "      <th>Age</th>\n",
       "      <th>Height</th>\n",
       "      <th>Weight</th>\n",
       "      <th>FCVC</th>\n",
       "      <th>NCP</th>\n",
       "      <th>CH2O</th>\n",
       "      <th>FAF</th>\n",
       "      <th>TUE</th>\n",
       "    </tr>\n",
       "  </thead>\n",
       "  <tbody>\n",
       "    <tr>\n",
       "      <th>count</th>\n",
       "      <td>2111.000000</td>\n",
       "      <td>2111.000000</td>\n",
       "      <td>2111.000000</td>\n",
       "      <td>2111.000000</td>\n",
       "      <td>2111.000000</td>\n",
       "      <td>2111.000000</td>\n",
       "      <td>2111.000000</td>\n",
       "      <td>2111.000000</td>\n",
       "    </tr>\n",
       "    <tr>\n",
       "      <th>mean</th>\n",
       "      <td>24.312600</td>\n",
       "      <td>1.701677</td>\n",
       "      <td>86.586058</td>\n",
       "      <td>2.419043</td>\n",
       "      <td>2.685628</td>\n",
       "      <td>2.008011</td>\n",
       "      <td>1.010298</td>\n",
       "      <td>0.657866</td>\n",
       "    </tr>\n",
       "    <tr>\n",
       "      <th>std</th>\n",
       "      <td>6.345968</td>\n",
       "      <td>0.093305</td>\n",
       "      <td>26.191172</td>\n",
       "      <td>0.533927</td>\n",
       "      <td>0.778039</td>\n",
       "      <td>0.612953</td>\n",
       "      <td>0.850592</td>\n",
       "      <td>0.608927</td>\n",
       "    </tr>\n",
       "    <tr>\n",
       "      <th>min</th>\n",
       "      <td>14.000000</td>\n",
       "      <td>1.450000</td>\n",
       "      <td>39.000000</td>\n",
       "      <td>1.000000</td>\n",
       "      <td>1.000000</td>\n",
       "      <td>1.000000</td>\n",
       "      <td>0.000000</td>\n",
       "      <td>0.000000</td>\n",
       "    </tr>\n",
       "    <tr>\n",
       "      <th>25%</th>\n",
       "      <td>19.947192</td>\n",
       "      <td>1.630000</td>\n",
       "      <td>65.473343</td>\n",
       "      <td>2.000000</td>\n",
       "      <td>2.658738</td>\n",
       "      <td>1.584812</td>\n",
       "      <td>0.124505</td>\n",
       "      <td>0.000000</td>\n",
       "    </tr>\n",
       "    <tr>\n",
       "      <th>50%</th>\n",
       "      <td>22.777890</td>\n",
       "      <td>1.700499</td>\n",
       "      <td>83.000000</td>\n",
       "      <td>2.385502</td>\n",
       "      <td>3.000000</td>\n",
       "      <td>2.000000</td>\n",
       "      <td>1.000000</td>\n",
       "      <td>0.625350</td>\n",
       "    </tr>\n",
       "    <tr>\n",
       "      <th>75%</th>\n",
       "      <td>26.000000</td>\n",
       "      <td>1.768464</td>\n",
       "      <td>107.430682</td>\n",
       "      <td>3.000000</td>\n",
       "      <td>3.000000</td>\n",
       "      <td>2.477420</td>\n",
       "      <td>1.666678</td>\n",
       "      <td>1.000000</td>\n",
       "    </tr>\n",
       "    <tr>\n",
       "      <th>max</th>\n",
       "      <td>61.000000</td>\n",
       "      <td>1.980000</td>\n",
       "      <td>173.000000</td>\n",
       "      <td>3.000000</td>\n",
       "      <td>4.000000</td>\n",
       "      <td>3.000000</td>\n",
       "      <td>3.000000</td>\n",
       "      <td>2.000000</td>\n",
       "    </tr>\n",
       "  </tbody>\n",
       "</table>\n",
       "</div>"
      ],
      "text/plain": [
       "               Age       Height       Weight         FCVC          NCP  \\\n",
       "count  2111.000000  2111.000000  2111.000000  2111.000000  2111.000000   \n",
       "mean     24.312600     1.701677    86.586058     2.419043     2.685628   \n",
       "std       6.345968     0.093305    26.191172     0.533927     0.778039   \n",
       "min      14.000000     1.450000    39.000000     1.000000     1.000000   \n",
       "25%      19.947192     1.630000    65.473343     2.000000     2.658738   \n",
       "50%      22.777890     1.700499    83.000000     2.385502     3.000000   \n",
       "75%      26.000000     1.768464   107.430682     3.000000     3.000000   \n",
       "max      61.000000     1.980000   173.000000     3.000000     4.000000   \n",
       "\n",
       "              CH2O          FAF          TUE  \n",
       "count  2111.000000  2111.000000  2111.000000  \n",
       "mean      2.008011     1.010298     0.657866  \n",
       "std       0.612953     0.850592     0.608927  \n",
       "min       1.000000     0.000000     0.000000  \n",
       "25%       1.584812     0.124505     0.000000  \n",
       "50%       2.000000     1.000000     0.625350  \n",
       "75%       2.477420     1.666678     1.000000  \n",
       "max       3.000000     3.000000     2.000000  "
      ]
     },
     "execution_count": 10,
     "metadata": {},
     "output_type": "execute_result"
    }
   ],
   "source": [
    "# Write the requested line of code below\n",
    "obesity_df.describe()"
   ]
  },
  {
   "cell_type": "markdown",
   "id": "5d856821",
   "metadata": {},
   "source": [
    "Let's do the same for now the object type variables including them as an argument with `describe(include='object')`\n",
    "\n",
    "<details>\n",
    "    <summary>If you have problems, click here to show the solution</summary>\n",
    "    data.describe(include='object')\n",
    "</details>\n"
   ]
  },
  {
   "cell_type": "code",
   "execution_count": 11,
   "id": "e4f4efe5",
   "metadata": {},
   "outputs": [
    {
     "data": {
      "text/html": [
       "<div>\n",
       "<style scoped>\n",
       "    .dataframe tbody tr th:only-of-type {\n",
       "        vertical-align: middle;\n",
       "    }\n",
       "\n",
       "    .dataframe tbody tr th {\n",
       "        vertical-align: top;\n",
       "    }\n",
       "\n",
       "    .dataframe thead th {\n",
       "        text-align: right;\n",
       "    }\n",
       "</style>\n",
       "<table border=\"1\" class=\"dataframe\">\n",
       "  <thead>\n",
       "    <tr style=\"text-align: right;\">\n",
       "      <th></th>\n",
       "      <th>Gender</th>\n",
       "      <th>family_history_with_overweight</th>\n",
       "      <th>FAVC</th>\n",
       "      <th>CAEC</th>\n",
       "      <th>SMOKE</th>\n",
       "      <th>SCC</th>\n",
       "      <th>CALC</th>\n",
       "      <th>MTRANS</th>\n",
       "      <th>NObeyesdad</th>\n",
       "    </tr>\n",
       "  </thead>\n",
       "  <tbody>\n",
       "    <tr>\n",
       "      <th>count</th>\n",
       "      <td>2111</td>\n",
       "      <td>2111</td>\n",
       "      <td>2111</td>\n",
       "      <td>2111</td>\n",
       "      <td>2111</td>\n",
       "      <td>2111</td>\n",
       "      <td>2111</td>\n",
       "      <td>2111</td>\n",
       "      <td>2111</td>\n",
       "    </tr>\n",
       "    <tr>\n",
       "      <th>unique</th>\n",
       "      <td>2</td>\n",
       "      <td>2</td>\n",
       "      <td>2</td>\n",
       "      <td>4</td>\n",
       "      <td>2</td>\n",
       "      <td>2</td>\n",
       "      <td>4</td>\n",
       "      <td>5</td>\n",
       "      <td>7</td>\n",
       "    </tr>\n",
       "    <tr>\n",
       "      <th>top</th>\n",
       "      <td>Male</td>\n",
       "      <td>yes</td>\n",
       "      <td>yes</td>\n",
       "      <td>Sometimes</td>\n",
       "      <td>no</td>\n",
       "      <td>no</td>\n",
       "      <td>Sometimes</td>\n",
       "      <td>Public_Transportation</td>\n",
       "      <td>Obesity_Type_I</td>\n",
       "    </tr>\n",
       "    <tr>\n",
       "      <th>freq</th>\n",
       "      <td>1068</td>\n",
       "      <td>1726</td>\n",
       "      <td>1866</td>\n",
       "      <td>1765</td>\n",
       "      <td>2067</td>\n",
       "      <td>2015</td>\n",
       "      <td>1401</td>\n",
       "      <td>1580</td>\n",
       "      <td>351</td>\n",
       "    </tr>\n",
       "  </tbody>\n",
       "</table>\n",
       "</div>"
      ],
      "text/plain": [
       "       Gender family_history_with_overweight  FAVC       CAEC SMOKE   SCC  \\\n",
       "count    2111                           2111  2111       2111  2111  2111   \n",
       "unique      2                              2     2          4     2     2   \n",
       "top      Male                            yes   yes  Sometimes    no    no   \n",
       "freq     1068                           1726  1866       1765  2067  2015   \n",
       "\n",
       "             CALC                 MTRANS      NObeyesdad  \n",
       "count        2111                   2111            2111  \n",
       "unique          4                      5               7  \n",
       "top     Sometimes  Public_Transportation  Obesity_Type_I  \n",
       "freq         1401                   1580             351  "
      ]
     },
     "execution_count": 11,
     "metadata": {},
     "output_type": "execute_result"
    }
   ],
   "source": [
    "# Write the requested line of code below\n",
    "obesity_df.describe(include='object')"
   ]
  },
  {
   "cell_type": "markdown",
   "id": "3c639970",
   "metadata": {},
   "source": [
    "Sometimes it will be very useful to review some characteristics of our data before using them to train models or visualize them. But, to know what information is of interest, we need to know our database. The data we have been using in this reading come from a study for the estimation of obesity levels in individuals from the countries of Mexico, Peru and Colombia, based on their eating habits and physical condition. You can find it in the UC Irvine Machine Learning Repository https://archive.ics.uci.edu/dataset/544/estimation+of+obesity+levels+based+on+eating+habits+and+physical+condition\n",
    " \n",
    "[UCI Machine Learning Repository](https://archive.ics.uci.edu/ml/index.php) is a repository where you can find multiple public and free use databases, I invite you to check it and search for databases that might be of interes to you.\n",
    "\n",
    "Here is a brief description of the variables we are using:\n",
    "- `Gender` indicates whether the person in question is male or female.\n",
    "- `Age` indicates the year of age of the person\n",
    "- `Height` indicates the height of the person\n",
    "- `Weight` indicates the weight of the person\n",
    "- `family_history_with_overweight` answer the question: Has a family member suffered or suffers from overweight?\n",
    "- `FAVC` answer the question: Do you eat high caloric food frequently?\n",
    "- `FCVC` answer the question: Do you usually eat vegetables in your meals?\n",
    "- `NCP` answer the question: How many main meals do you have daily?\n",
    "- `CAEC` answer the question: Do you eat any food between meals?\n",
    "- `SMOKE` answer the question: Do you smoke?\n",
    "- `CH2O` answer the question: How much water do you drink daily?\n",
    "- `SCC` answer the question: Do you monitor the calories you eat daily?\n",
    "- `FAF` answer the question: How often do you have physical activity?\n",
    "- `TUE` answer the question: How much time do you use technological devices such as cell phone, videogames, television, computer and others?\n",
    "- `CALC` answer the question: How often do you drink alcohol?\n",
    "- `MTRANS` answer the question: Which transportation do you usually use?\n",
    "- `NObeyesdad` indicates the obesity level of the person"
   ]
  },
  {
   "cell_type": "markdown",
   "id": "444fd23c",
   "metadata": {},
   "source": [
    "In the following cells, we will try to print to the console:\n",
    "1. Find the gender that has the greatest weight on average\n",
    "2. The number of people who have a family history of being overweight and smoke\n",
    "3. We will change the name of the SCC column to Monitoring\n",
    "\n",
    "Additionally, we will generate a graph that shows the level of obesity on the x-axis and the weight of the people who fall into that level on the y-axis."
   ]
  },
  {
   "cell_type": "markdown",
   "id": "271dfd41",
   "metadata": {},
   "source": [
    "To determine the average weight of men and women we will need to make use of the `mean` function of the `numpy` library, a library for handling multidimensional arrays and matrices, recognized as the fundamental library for the scientific community. We will import the library in a similar way as we did with `pandas`, using the `import` function and abbreviating the name to `np`.\n",
    "\n",
    "Subsequently, the term `data.Gender` refers to the `Gender` variable in our dataset, and the comparison `data.Gender == “Male”` returns a 1 for all rows with a value of “Male” in that column. Also, `data.Weight[data.Gender == “Male”])` refers to the weights of the males in our dataset. Try to use this information to print in console, both the average weight of males and females.\n",
    "\n",
    "<details>\n",
    "    <summary>If you have problems, click here to show the solution</summary>\n",
    "    weight_male=np.mean(data.Weight[data.Gender==\"Male\"])<br>\n",
    "    print(\"The average weight of males is:\",weight_male)<br>\n",
    "    weight_female=np.mean(data.Weight[data.Gender==\"Female\"])<br>\n",
    "    print(\"The average weight of females is:\",weight_female)<br>\n",
    "</details>\n",
    "\n",
    "\n"
   ]
  },
  {
   "cell_type": "code",
   "execution_count": 20,
   "id": "91219d13",
   "metadata": {},
   "outputs": [
    {
     "name": "stdout",
     "output_type": "stream",
     "text": [
      "The average weight of males is:  90.7694783445693\n",
      "The average weight of females is:  82.30236417353788\n"
     ]
    }
   ],
   "source": [
    "import numpy as np\n",
    "\n",
    "# Write the requested line of code below\n",
    "weight_male = np.mean(obesity_df.Weight[obesity_df.Gender == 'Male'])\n",
    "print(\"The average weight of males is: \", weight_male)\n",
    "\n",
    "weight_female = np.mean(obesity_df.Weight[obesity_df.Gender == 'Female'])\n",
    "print(\"The average weight of females is: \", weight_female)"
   ]
  },
  {
   "cell_type": "markdown",
   "id": "3eb9e0f6",
   "metadata": {},
   "source": [
    "There are times when it is important to know the number of instances that meet certain conditions. For this we will do a process similar to the previous one. The term `data.SMOKE` refers to the `SMOKE` column of our `data` array. The comparison `data.SMOKE == “yes”` returns 1 for all rows with value “yes” in the `SMOKE` column. The term `data.family_history_with_overweight[data.SMOKE == “yes”]` refers to the `family_history_with_overweight` column for those subjects who do smoke. Finally, the comparison `data.family_history_with_overweight[data.SMOKE == “yes”] == “yes”` returns 1 for the subgroup of subjects who smoke and have a family member who has suffered from overweight. This time the `sum` function can be used to sum all values of a variable. Use this information to print in the console of the next cell the number of smokers with a member who is overweight.<br><br>\n",
    "\n",
    "<details>\n",
    "    <summary>If you have problems, click here to show the solution</summary>\n",
    "    people_over_smoke = sum(data.family_history_with_overweight[data.SMOKE == \"yes\"] == \"yes\")<br>\n",
    "    print(people_over_smoke)\n",
    "</details>"
   ]
  },
  {
   "cell_type": "code",
   "execution_count": 21,
   "id": "6a20283c",
   "metadata": {},
   "outputs": [
    {
     "name": "stdout",
     "output_type": "stream",
     "text": [
      "The number of people with a family history of overweight is: 38\n",
      "Index(['Gender', 'Age', 'Height', 'Weight', 'family_history_with_overweight',\n",
      "       'FAVC', 'FCVC', 'NCP', 'CAEC', 'SMOKE', 'CH2O', 'Monitoring', 'FAF',\n",
      "       'TUE', 'CALC', 'MTRANS', 'NObeyesdad'],\n",
      "      dtype='object')\n"
     ]
    }
   ],
   "source": [
    "people_with_history = obesity_df[(obesity_df['family_history_with_overweight'] == 'yes') & (obesity_df['SMOKE'] == 'yes')].shape[0]\n",
    "print(f\"The number of people with a family history of overweight is: {people_with_history}\")"
   ]
  },
  {
   "cell_type": "markdown",
   "id": "80ad8793",
   "metadata": {},
   "source": [
    "We can realize that the name of the variable family_history_with_overweight can become tedious and long to be manipulating it constantly. So I suggest that we rename it. To do this we will use the `rename()` function of `pandas` in which you will place three terms on `data`. The first `{'family_history_with_overweight':'family_history'}` is the instruction where you specify which variable you will rename and by what name you will rename it. The second `axis=1` to let you know that the variable is a column. The third `inplace=True` so that a new column is not created and only the same one with changed name remains. Finally it is not necessary to assign these changes again to data. So print in the console the first 10 instances to see if the change was made correctly.\n",
    "\n",
    "\n",
    "<details>\n",
    "    <summary>If you have problems, click here to show the solution</summary>\n",
    "    data.rename({'family_history_with_overweight':'family_history'}, axis=1, inplace=True)<br>\n",
    "    data.head(10)\n",
    "</details>"
   ]
  },
  {
   "cell_type": "code",
   "execution_count": 22,
   "id": "a026c138",
   "metadata": {},
   "outputs": [
    {
     "name": "stdout",
     "output_type": "stream",
     "text": [
      "Index(['Gender', 'Age', 'Height', 'Weight', 'family_history_with_overweight',\n",
      "       'FAVC', 'FCVC', 'NCP', 'CAEC', 'SMOKE', 'CH2O', 'Monitoring', 'FAF',\n",
      "       'TUE', 'CALC', 'MTRANS', 'NObeyesdad'],\n",
      "      dtype='object')\n"
     ]
    }
   ],
   "source": [
    "# Write the requested line of code below\n",
    "obesity_df.rename(columns={'SCC': 'Monitoring'}, inplace=True)\n",
    "print(obesity_df.columns)"
   ]
  },
  {
   "cell_type": "markdown",
   "id": "8fc55b0f",
   "metadata": {},
   "source": [
    "Finally, we will plot the weights of the subjects according to the different groups in the obesity classification. To do this, we will need the matplotlib library, a library with functions to create visualizations in Python. Specifically we will be using `matplotlib.pyplot`. We will import this library with the `import` function, abbreviating it as `plt`.\n",
    "\n",
    "Before doing this I suggest you place the instruction `%matplotlib inline` that serves so that the images are displayed without problem in the jupyter notebooks.\n",
    "\n",
    "Subsequently, we will call the `scatter` function of pyplot, using as parameters `x = data.NObeyesdad` and `y = data.Weight`. By using the `scatter` function we ensure that each observation is displayed as a point on our plot, detailing the relationship between the obesity group or BMI and the weight of each subject. Within the same function we will also add the parameter `alpha = 0.1` which serves to give a little transparency to the circles, and to be able to visualize sections of the Cartesian plane where there is a lot of accumulation of points.\n",
    "\n",
    "Finally, we will make sure that the graph is displayed on the screen with the `show()` function.\n",
    "\n",
    "<details>\n",
    "    <summary>If you have problems, click here to show the solution</summary>\n",
    "    import matplotlib.pyplot as plt<br>\n",
    "    plt.scatter(x = data.NObeyesdad,y = data.Weight, alpha = 0.1)<br>\n",
    "    plt.show()\n",
    "</details>\n"
   ]
  },
  {
   "cell_type": "code",
   "execution_count": 23,
   "id": "12b0942c",
   "metadata": {},
   "outputs": [
    {
     "data": {
      "image/png": "[encoded data removed]",
      "text/plain": [
       "<Figure size 640x480 with 1 Axes>"
      ]
     },
     "metadata": {},
     "output_type": "display_data"
    }
   ],
   "source": [
    "%matplotlib inline\n",
    "from matplotlib import pyplot as plt\n",
    "\n",
    "# Write the requested lines of code below\n",
    "ax = plt.scatter(x = obesity_df.NObeyesdad, y = obesity_df.Height, alpha=0.1)\n",
    "plt.show()"
   ]
  },
  {
   "cell_type": "markdown",
   "id": "01f67c26",
   "metadata": {},
   "source": [
    "We can finally appreciate two things that the size of the plot is not the best and that the scatter plot is perhaps not the best plot to be able to visualize the data. For this we will better make a boxplot for each obesity group. This is achieved by applying the `boxplot()` function to the `data` variable including 3 terms, the first `column=“Weight”`, the second `by=“NObeyesdad”` and the last one is to improve the resolution of the image `figsize=(12,6))`. This is stored in a new variable `boxplot`.\n",
    "\n",
    "Finally to display the plot type `boxplot.plot()`\n",
    "\n",
    "\n",
    "<details>\n",
    "    <summary>If you have problems, click here to show the solution</summary>\n",
    "    boxplot = data.boxplot(column='Weight',by = 'NObeyesdad',figsize=(12,6))<br>\n",
    "    boxplot.plot()\n",
    "</details>\n",
    "\n"
   ]
  },
  {
   "cell_type": "code",
   "execution_count": 24,
   "id": "f0d6fab3",
   "metadata": {},
   "outputs": [
    {
     "data": {
      "text/plain": [
       "[]"
      ]
     },
     "execution_count": 24,
     "metadata": {},
     "output_type": "execute_result"
    },
    {
     "data": {
      "image/png": "[encoded data removed]",
      "text/plain": [
       "<Figure size 1200x600 with 1 Axes>"
      ]
     },
     "metadata": {},
     "output_type": "display_data"
    }
   ],
   "source": [
    "# Write the requested lines of code below\n",
    "boxplot = obesity_df.boxplot(column=['Weight'], by = 'NObeyesdad', figsize=(12, 6))\n",
    "boxplot.plot()"
   ]
  },
  {
   "cell_type": "markdown",
   "id": "f3f008b3",
   "metadata": {},
   "source": [
    "Write and print your reflections on this activity using the print function. Think about how you could use it in the future and which tools or functions you liked the most."
   ]
  },
  {
   "cell_type": "code",
   "execution_count": 25,
   "id": "0ab10a15",
   "metadata": {},
   "outputs": [
    {
     "name": "stdout",
     "output_type": "stream",
     "text": [
      "I've used these libraries before, however I always learn something new on the used of DataFrames and Series like the one using np.mean() to calculate the average weight\n",
      "I also learned about the boxplot of pandas, which is a great way to visualize the data in a more detailed way. I did only use sns.boxplot() before, but I will use this one more often now.\n"
     ]
    }
   ],
   "source": [
    "# Write the requested lines of code below\n",
    "print(\"I've used these libraries before, however I always learn something new on the used of DataFrames and Series like the one using np.mean() to calculate the average weight\")\n",
    "print(\"I also learned about the boxplot of pandas, which is a great way to visualize the data in a more detailed way. I did only use sns.boxplot() before, but I will use this one more often now.\")\n"
   ]
  }
 ],
 "metadata": {
  "kernelspec": {
   "display_name": "Python 3 (ipykernel)",
   "language": "python",
   "name": "python3"
  },
  "language_info": {
   "codemirror_mode": {
    "name": "ipython",
    "version": 3
   },
   "file_extension": ".py",
   "mimetype": "text/x-python",
   "name": "python",
   "nbconvert_exporter": "python",
   "pygments_lexer": "ipython3",
   "version": "3.11.9"
  }
 },
 "nbformat": 4,
 "nbformat_minor": 5
}
