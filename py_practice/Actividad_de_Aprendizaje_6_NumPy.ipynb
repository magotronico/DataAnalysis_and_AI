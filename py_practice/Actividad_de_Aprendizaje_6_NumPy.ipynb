{
 "cells": [
  {
   "cell_type": "markdown",
   "metadata": {},
   "source": [
    "# Actividad de aprendizaje 6"
   ]
  },
  {
   "cell_type": "code",
   "execution_count": null,
   "metadata": {},
   "outputs": [],
   "source": [
    "#   __  __                   _                   _           \n",
    "#  |  \\/  |                 | |                 (_)          \n",
    "#  | \\  / | __ _  __ _  ___ | |_ _ __ ___  _ __  _  ___ ___  \n",
    "#  | |\\/| |/ _` |/ _` |/ _ \\| __| '__/ _ \\| '_ \\| |/ __/ _ \\ \n",
    "#  | |  | | (_| | (_| | (_) | |_| | | (_) | | | | | (_| (_) |\n",
    "#  |_|  |_|\\__,_|\\__, |\\___/ \\__|_|  \\___/|_| |_|_|\\___\\___/ \n",
    "#                 __/ |                                      \n",
    "#                |___/                                       \n",
    "# ─────────────────────────────────────────────────────────────────────────────\n",
    "#                                                                           \n",
    "# Script Name : Análisis numérico con NumPy\n",
    "# Author      : Dilan Castañeda                                             \n",
    "# Created On  : September 03, 2024                                           \n",
    "# Last Update : September 03, 2024                                         \n",
    "# Version     : 1.0.0                                          \n",
    "# Description : Used car company analyzing historical data to optimize buying decisions based on car performance metrics.             \n",
    "# ─────────────────────────────────────────────────────────────────────────────"
   ]
  },
  {
   "cell_type": "markdown",
   "metadata": {},
   "source": [
    "## Overview"
   ]
  },
  {
   "cell_type": "markdown",
   "metadata": {},
   "source": [
    "Una compañía de autos usados está realizando un análisis para ver en qué año se han construido los mejores automóviles para centrar sus compras-ventas en dichos automóviles. Para esta tarea necesita obtener algunos datos de un histórico de información al que ha tenido acceso.\n",
    "\n",
    "La estructura de la información es la siguiente:\n",
    "\n",
    "- year: año de construcción\n",
    "\n",
    "- price: precio en dolares\n",
    "\n",
    "- transmission: Tipo de transmisión del automóvil\n",
    "\n",
    "    1. Automático\n",
    "    2. Manual\n",
    "    3. Semi-automático\n",
    "\n",
    "- mileage: millaje\n",
    "\n",
    "- fuelType: Tipo de combustible\n",
    "\n",
    "    1. Disel\n",
    "    2. Eléctrico\n",
    "    3. Híbrido\n",
    "    4. Otro\n",
    "    5. Gasolina\n",
    "\n",
    "- tax: Impuesto en dólares\n",
    "\n",
    "- mpg: Millaje por galón\n",
    "\n",
    "- engineSize: Tamaño motor\n",
    "\n",
    "El archivo que contiene toda la información se denomina \"DatosAutos.cvs\" Download \"DatosAutos.cvs\". Realiza la lectura de la información a través de las funciones básicas de Python y carga la información en una matriz de NumPy.\n",
    "\n",
    "Al tener la información en memoria deberás obtener la información que necesita la compañía en dos fases. La primera fase requiere que extraigas los siguientes datos:\n",
    "\n",
    "- El impuesto máximo pagado por un automóvil\n",
    "\n",
    "- La suma de impuestos pagados por ese lote de automóviles\n",
    "\n",
    "- La cantidad de autos de cada año\n",
    "\n",
    "- La promedio de millas de cada tipo de combustible\n",
    "\n",
    "- El millaje por galón promedio del lote de autos\n",
    "\n",
    "La segunda fase es una comparativa. Para ello debes crear dos matrices de datos, una para los datos del año 2016 y otra para el año 2018. Cada matriz debe contener la siguiente estructura:\n",
    "\n",
    "- Las filas representan el tipo de transmisión\n",
    "\n",
    "- Las columnas representan: precio promedio, suma de los millajes y el máximo impuesto\n",
    "\n",
    "> [\n",
    "> \n",
    ">     [Precio promedio\tSuma de los millajes\tImpuesto máximo],\n",
    "> \n",
    ">     [Automático\tdato\tdato\tdato],\n",
    "> \n",
    ">     [Manual\tdato\tdato\tdato],\n",
    "> \n",
    ">     [Semi-automático\tdato\tdato\tdato]\n",
    "> ]\n",
    "\n",
    "Recuerda que en NumPy solamente usas los valores numéricos, la representación anterior es para que tengas una idea de cómo quedarán los datos en memoria, en realidad sólo utilizarás las celdas de datos, sin incluir nombres de filas ni de columnas.\n",
    "\n",
    "Por último, hay que encontrar las diferencias entre los datos del año 2018 y 2016."
   ]
  },
  {
   "cell_type": "markdown",
   "metadata": {},
   "source": [
    "## Load data"
   ]
  },
  {
   "cell_type": "code",
   "execution_count": 18,
   "metadata": {},
   "outputs": [],
   "source": [
    "# Libraries\n",
    "import numpy as np\n",
    "from pandas import read_csv\n",
    "from math import inf"
   ]
  },
  {
   "cell_type": "code",
   "execution_count": 16,
   "metadata": {},
   "outputs": [
    {
     "name": "stdout",
     "output_type": "stream",
     "text": [
      "[[2.017e+03 1.200e+04 1.000e+00 ... 1.500e+02 5.770e+01 1.000e+00]\n",
      " [2.018e+03 1.400e+04 2.000e+00 ... 1.500e+02 5.770e+01 1.000e+00]\n",
      " [2.017e+03 1.300e+04 2.000e+00 ... 1.500e+02 5.770e+01 1.000e+00]\n",
      " ...\n",
      " [2.015e+03 9.999e+03 2.000e+00 ... 2.000e+01 6.730e+01 1.600e+00]\n",
      " [2.018e+03 8.299e+03 2.000e+00 ... 1.450e+02 5.770e+01 1.200e+00]\n",
      " [2.015e+03 8.299e+03 2.000e+00 ... 2.200e+01 5.770e+01 1.000e+00]]\n"
     ]
    }
   ],
   "source": [
    "raw_data = read_csv('DatosAutos.csv')\n",
    "datos_autos = np.array(raw_data) # 0: year, 1: price, 2: transmission, 3: mileage, 4: fuelType, 5: tax, 6: mpg, 7: engineSize\n",
    "\n",
    "print(datos_autos)"
   ]
  },
  {
   "cell_type": "markdown",
   "metadata": {},
   "source": [
    "## Phase 1"
   ]
  },
  {
   "cell_type": "markdown",
   "metadata": {},
   "source": [
    "### El impuesto máximo pagado por un automóvil"
   ]
  },
  {
   "cell_type": "code",
   "execution_count": 39,
   "metadata": {},
   "outputs": [
    {
     "name": "stdout",
     "output_type": "stream",
     "text": [
      "Maximum amount of tax: 580.0\n"
     ]
    }
   ],
   "source": [
    "def max_tax(df):\n",
    "    max = -inf\n",
    "\n",
    "    for i in df:\n",
    "        if i[5] > max:\n",
    "            max = i[5]\n",
    "\n",
    "    return max\n",
    " \n",
    "print('Maximum amount of tax:', max_tax(datos_autos))"
   ]
  },
  {
   "cell_type": "markdown",
   "metadata": {},
   "source": [
    "### La suma de impuestos pagados por ese lote de automóviles"
   ]
  },
  {
   "cell_type": "code",
   "execution_count": 40,
   "metadata": {},
   "outputs": [
    {
     "name": "stdout",
     "output_type": "stream",
     "text": [
      "Total amount of tax: 2035287.0\n"
     ]
    }
   ],
   "source": [
    "def tot_tax(df):\n",
    "    total = 0\n",
    "\n",
    "    for i in df:\n",
    "        total += i[5]\n",
    "\n",
    "    return total\n",
    "\n",
    "print('Total amount of tax:', tot_tax(datos_autos))"
   ]
  },
  {
   "cell_type": "markdown",
   "metadata": {},
   "source": [
    "### La cantidad de autos de cada año"
   ]
  },
  {
   "cell_type": "code",
   "execution_count": 32,
   "metadata": {},
   "outputs": [
    {
     "name": "stdout",
     "output_type": "stream",
     "text": [
      "First year with a record: 2002.0\n",
      "Last year with a record: 2020.0 \n",
      "\n",
      "Years of records:\n",
      " [2002 2003 2004 2005 2006 2007 2008 2009 2010 2011 2012 2013 2014 2015\n",
      " 2016 2017 2018 2019 2020] \n",
      "\n",
      "Amount of cars per year:\n",
      " [   3    3    4   16   13   32   57   91   67   94  115  609  805 1368\n",
      " 2331 4888 4014 3194  258] \n",
      "\n"
     ]
    }
   ],
   "source": [
    "def autos_per_year(df, year):\n",
    "    count = 0\n",
    "\n",
    "    for i in df:\n",
    "        if i[0] == year:\n",
    "            count += 1\n",
    "\n",
    "    return count\n",
    "\n",
    "def min_year(df):\n",
    "    min = inf\n",
    "\n",
    "    for i in df:\n",
    "        if i[0] < min:\n",
    "            min = i[0]\n",
    "\n",
    "    return min\n",
    "\n",
    "def max_year(df):\n",
    "    max = -inf\n",
    "\n",
    "    for i in df:\n",
    "        if i[0] > max:\n",
    "            max = i[0]\n",
    "\n",
    "    return max\n",
    "\n",
    "# Find the first and last year with a record\n",
    "first_year = int(min_year(datos_autos))\n",
    "last_year = int(max_year(datos_autos))\n",
    "print('First year with a record:', min_year(datos_autos))\n",
    "print('Last year with a record:', max_year(datos_autos),'\\n')\n",
    "\n",
    "# Create an array of years and an array of the number of cars sold each year\n",
    "years_array = np.array([i for i in range(first_year, last_year+1)])\n",
    "print('Years of records:\\n', years_array,'\\n')\n",
    "\n",
    "yearly_autos = np.array([autos_per_year(datos_autos, i) for i in range(first_year, last_year+1)])\n",
    "print('Amount of cars per year:\\n',yearly_autos,'\\n')\n"
   ]
  },
  {
   "cell_type": "markdown",
   "metadata": {},
   "source": [
    "### La promedio de millas de cada tipo de combustible"
   ]
  },
  {
   "cell_type": "code",
   "execution_count": 37,
   "metadata": {},
   "outputs": [
    {
     "name": "stdout",
     "output_type": "stream",
     "text": [
      "Average mileage per fuel type:\n",
      "Diesel: 30663.06\n",
      "Electric: 16963.5\n",
      "Hybrid: 22602.0\n",
      "Other: 19470.0\n",
      "Gas: 19902.8\n"
     ]
    }
   ],
   "source": [
    "def avg_mileage_per_fullType(df, fuelType):\n",
    "    total = 0\n",
    "    counter = 0\n",
    "\n",
    "    for i in df:\n",
    "        if i[4] == fuelType:\n",
    "            total += i[3]\n",
    "            counter += 1\n",
    "\n",
    "    return round(total/counter,2)\n",
    "\n",
    "print('Average mileage per fuel type:')\n",
    "print('Diesel:', avg_mileage_per_fullType(datos_autos, 1))\n",
    "print('Electric:', avg_mileage_per_fullType(datos_autos, 2))\n",
    "print('Hybrid:', avg_mileage_per_fullType(datos_autos, 3))\n",
    "print('Other:', avg_mileage_per_fullType(datos_autos, 4))\n",
    "print('Gas:', avg_mileage_per_fullType(datos_autos, 5))"
   ]
  },
  {
   "cell_type": "markdown",
   "metadata": {},
   "source": [
    "### El millaje por galón promedio del lote de autos"
   ]
  },
  {
   "cell_type": "code",
   "execution_count": 38,
   "metadata": {},
   "outputs": [
    {
     "name": "stdout",
     "output_type": "stream",
     "text": [
      "\n",
      "Average miles per gallon: 57.91\n"
     ]
    }
   ],
   "source": [
    "def avg_mpg(df):\n",
    "    total = 0\n",
    "\n",
    "    for i in df:\n",
    "        total += i[6]\n",
    "\n",
    "    return round(total/len(df),2)\n",
    "\n",
    "print('\\nAverage miles per gallon:', avg_mpg(datos_autos))"
   ]
  },
  {
   "cell_type": "markdown",
   "metadata": {},
   "source": [
    "## Phase 2\n"
   ]
  },
  {
   "cell_type": "code",
   "execution_count": 56,
   "metadata": {},
   "outputs": [
    {
     "name": "stdout",
     "output_type": "stream",
     "text": [
      "\n",
      "Year 2016 data:\n",
      "Average price per transmission type, total mileage, and max tax:\n",
      "[[1.2402500e+03 5.9432770e+06 5.7000000e+02]\n",
      " [8.5522300e+03 5.9611316e+07 5.8000000e+02]\n",
      " [8.7319000e+02 4.1076380e+06 5.7000000e+02]]\n",
      "\n",
      "Year 2018 data:\n",
      "Average price per transmission type, total mileage, and max tax:\n",
      "[[9.0409000e+02 3.5842030e+06 1.5000000e+02]\n",
      " [1.1512330e+04 5.6462493e+07 1.5000000e+02]\n",
      " [7.4147000e+02 3.0043890e+06 1.5000000e+02]]\n"
     ]
    }
   ],
   "source": [
    "# Generate array of a year with price_avg, total_mileage, max_tax per transmission type\n",
    "# Generate one array for 2016 and one for 2018\n",
    "\n",
    "def year_data(df, year):\n",
    "    # Define arrays to store the data\n",
    "    price_avg = [0, 0, 0] # 1: automatic, 2: manual, 3: semi-automatic\n",
    "    total_mileage = [0, 0, 0]\n",
    "    max_tax = [-inf, -inf, -inf]\n",
    "\n",
    "    # Iterate through the data and store the values in the arrays\n",
    "    for i in df:\n",
    "        # Check if the year matches the input year\n",
    "        if i[0] == year:\n",
    "            # Check the transmission type and store the values in the corresponding array\n",
    "            if i[2] == 1:\n",
    "                price_avg[0] += i[1]\n",
    "                total_mileage[0] += i[3]\n",
    "                if i[5] > max_tax[0]:\n",
    "                    max_tax[0] = i[5]\n",
    "            elif i[2] == 2:\n",
    "                price_avg[1] += i[1]\n",
    "                total_mileage[1] += i[3]\n",
    "                if i[5] > max_tax[1]:\n",
    "                    max_tax[1] = i[5]\n",
    "            elif i[2] == 3:\n",
    "                price_avg[2] += i[1]\n",
    "                total_mileage[2] += i[3]\n",
    "                if i[5] > max_tax[2]:\n",
    "                    max_tax[2] = i[5]\n",
    "    \n",
    "    # Calculate the average price per transmission type\n",
    "    price_avg = [round(price_avg[0]/autos_per_year(df, year),2), round(price_avg[1]/autos_per_year(df, year),2), round(price_avg[2]/autos_per_year(df, year),2)]\n",
    "\n",
    "    # Create columns with arrays\n",
    "    res = np.column_stack((price_avg, total_mileage, max_tax))\n",
    "\n",
    "    return res\n",
    "\n",
    "# Test the function with the data\n",
    "year2016 = year_data(datos_autos, 2016)\n",
    "year2018 = year_data(datos_autos, 2018)\n",
    "\n",
    "# Print the results\n",
    "print('\\nYear 2016 data:')\n",
    "print('Average price per transmission type, total mileage, and max tax:')\n",
    "print(year2016)\n",
    "\n",
    "print('\\nYear 2018 data:')\n",
    "print('Average price per transmission type, total mileage, and max tax:')\n",
    "print(year2018)\n",
    "\n"
   ]
  },
  {
   "cell_type": "markdown",
   "metadata": {},
   "source": [
    "## Differences"
   ]
  },
  {
   "cell_type": "markdown",
   "metadata": {},
   "source": [
    "- El precio promedio del 2016 es mayor que en el 2018.\n",
    "- La suma de los millages en el 2018 es menor que en el 2016.\n",
    "- Los taxes son considerablemente 3.8 veces mas en el 2016 referente a los del 2018.\n",
    "\n",
    "En resumen, se observan reducciones en el precio promedio (para algunas categorías), el millaje total y una reducción significativa en el impuesto máximo entre los años 2016 y 2018."
   ]
  }
 ],
 "metadata": {
  "kernelspec": {
   "display_name": ".venv",
   "language": "python",
   "name": "python3"
  },
  "language_info": {
   "codemirror_mode": {
    "name": "ipython",
    "version": 3
   },
   "file_extension": ".py",
   "mimetype": "text/x-python",
   "name": "python",
   "nbconvert_exporter": "python",
   "pygments_lexer": "ipython3",
   "version": "3.11.9"
  }
 },
 "nbformat": 4,
 "nbformat_minor": 2
}
