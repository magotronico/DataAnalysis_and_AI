{
  "nbformat": 4,
  "nbformat_minor": 0,
  "metadata": {
    "colab": {
      "provenance": []
    },
    "kernelspec": {
      "name": "python3",
      "display_name": "Python 3"
    },
    "language_info": {
      "name": "python"
    }
  },
  "cells": [
    {
      "cell_type": "markdown",
      "source": [
        "# Actividad de aprendizaje 1: Trabajando con Python y sus estructuras de datos\n",
        "\n",
        "This notebook aims to resolve a set of instructions in order to practice as part of an assigment.\n",
        "\n",
        "To make this notebook professional, I will use PEP 8, PEP  484 and PEP 257.\n",
        "\n",
        "**Instructions:**\n",
        "1. Una función para obtener la lista de palabras del archivo\n",
        "2. Una función que reciba la lista de palabras y obtenga la cantidad de palabras aproximadas que tiene el archivo\n",
        "3. Una función que reciba la lista de palabras y obtenga el promedio de letras que tienen las palabras\n",
        "4. Una función que reciba la lista de palabras y regrese una tupla con dos valores: el primero representa la cantidad de palabras que comienzan con una vocal y el segundo representa la cantidad de palabras que comienzan con una consonante.\n",
        "5. Una función que reciba la lista de palabras y regrese un diccionario donde las llaves son las letras del abecedario y cada elemento una lista de las palabras que comienzan con dicha letra.\n",
        "6. Una función que reciba el texto en formato cadena y regrese el conteo de los signos de puntuación que se utilizaron.\n",
        "\n",
        "---\n",
        "Dilan Gonzalez Castañeda A00831905"
      ],
      "metadata": {
        "id": "0HTh7Wb7V43N"
      }
    },
    {
      "cell_type": "markdown",
      "source": [
        "## Load file"
      ],
      "metadata": {
        "id": "A2SIoTIwWomU"
      }
    },
    {
      "cell_type": "code",
      "source": [
        "def load_file(file_name: str = '/content/Fragmento El Principito.txt') -> str:\n",
        "  \"\"\"\"\n",
        "  Load a file and return the text.\n",
        "  \"\"\"\n",
        "\n",
        "  file = open(file_name, 'r')\n",
        "  text = file.read()\n",
        "  file.close()\n",
        "  return text\n",
        "\n",
        "if __name__ == '__main__':\n",
        "  text = load_file(file_name)\n",
        "  print(text[100:200])"
      ],
      "metadata": {
        "colab": {
          "base_uri": "https://localhost:8080/"
        },
        "id": "O3akwy5yWqxU",
        "outputId": "99ac942b-7e45-44f3-8123-4150c075f7cf"
      },
      "execution_count": 42,
      "outputs": [
        {
          "output_type": "stream",
          "name": "stdout",
          "text": [
            "cado este libro a una persona mayor. Tengo \n",
            "una seña excusa: esta persona mayor es el mejor amigo qu\n"
          ]
        }
      ]
    },
    {
      "cell_type": "markdown",
      "source": [
        "## List of words"
      ],
      "metadata": {
        "id": "R16s-vxEWi9g"
      }
    },
    {
      "cell_type": "code",
      "execution_count": 43,
      "metadata": {
        "colab": {
          "base_uri": "https://localhost:8080/"
        },
        "id": "m1UMeoZNVX3n",
        "outputId": "0bbc05d7-4c93-4cae-b062-eb48251f3085"
      },
      "outputs": [
        {
          "output_type": "stream",
          "name": "stdout",
          "text": [
            "['el', 'principito', 'antoine', 'de', 'saintexupery', 'a', 'leon', 'werth', 'pido', 'perdon', 'a', 'los', 'ninos', 'por', 'haber', 'dedicado', 'este', 'libro', 'a', 'una', 'persona', 'mayor', 'tengo', 'una', 'sena', 'excusa', 'esta', 'persona', 'mayor', 'es', 'el', 'mejor', 'amigo', 'que', 'tengo', 'en', 'el', 'mundo', 'pero', 'tengo', 'otra', 'excusa', 'esta', 'persona', 'mayor', 'es', 'capaz', 'de', 'comprenderlo', 'todo']\n"
          ]
        }
      ],
      "source": [
        "import unicodedata\n",
        "from typing import List\n",
        "\n",
        "def lst_words(text: str) -> List[str]:\n",
        "  \"\"\"\n",
        "  Return a list of words.\n",
        "  \"\"\"\n",
        "  # Lowercase text\n",
        "  text = text.lower()\n",
        "\n",
        "  # Normalize text to remove accents and diacritics\n",
        "  text = unicodedata.normalize('NFKD', text)\n",
        "  text = ''.join([c for c in text if not unicodedata.combining(c)])\n",
        "\n",
        "  # Remove special characters (only keep alphanumeric and spaces)\n",
        "  text = ''.join([c for c in text if c.isalnum() or c.isspace()])\n",
        "\n",
        "  # Remove extra whitespace\n",
        "  text = text.strip()\n",
        "\n",
        "  # Split text into words\n",
        "  words = text.split()\n",
        "\n",
        "  # Remove empty strings\n",
        "  words = [word for word in words if word != \"\"]\n",
        "\n",
        "  return words\n",
        "\n",
        "\n",
        "if __name__ == '__main__':\n",
        "  words = lst_words(text)\n",
        "  print(words[:50])"
      ]
    },
    {
      "cell_type": "markdown",
      "source": [
        "## Amount of words"
      ],
      "metadata": {
        "id": "9I7tYdqNZol1"
      }
    },
    {
      "cell_type": "code",
      "source": [
        "def calc_words(words: List[str]) -> int:\n",
        "  \"\"\"\n",
        "  Return the amount of words.\n",
        "  \"\"\"\n",
        "  return len(words)\n",
        "\n",
        "if __name__ == '__main__':\n",
        "  amount_words = calc_words(words)\n",
        "  print(f\"Total amount of words: {amount_words}\")"
      ],
      "metadata": {
        "colab": {
          "base_uri": "https://localhost:8080/"
        },
        "id": "krW3l2LSZlEs",
        "outputId": "902b6bae-3bb6-4375-af97-699b5a5357cc"
      },
      "execution_count": 44,
      "outputs": [
        {
          "output_type": "stream",
          "name": "stdout",
          "text": [
            "Total amount of words: 5658\n"
          ]
        }
      ]
    },
    {
      "cell_type": "markdown",
      "source": [
        "## Average amount of letters per word"
      ],
      "metadata": {
        "id": "Qr8lobgMZxEs"
      }
    },
    {
      "cell_type": "code",
      "source": [
        "def avg_letters(words: List[str]) -> float:\n",
        "  \"\"\"\n",
        "  Return the average\n",
        "  \"\"\"\n",
        "  # Calculate the total number of letters\n",
        "  total_letters = sum(len(word) for word in words)\n",
        "\n",
        "  # Calculate the average\n",
        "  avg_letters = total_letters / calc_words(words)\n",
        "\n",
        "  return avg_letters\n",
        "\n",
        "if __name__ == '__main__':\n",
        "  avg_letters = avg_letters(words)\n",
        "  print(f\"Amount the letters per word: {avg_letters}\")"
      ],
      "metadata": {
        "colab": {
          "base_uri": "https://localhost:8080/"
        },
        "id": "K0_m2-0sZvdz",
        "outputId": "d338867c-6e8b-4bd6-c7b5-a4e06f96e669"
      },
      "execution_count": 45,
      "outputs": [
        {
          "output_type": "stream",
          "name": "stdout",
          "text": [
            "Amount the letters per word: 4.532166843407564\n"
          ]
        }
      ]
    },
    {
      "cell_type": "markdown",
      "source": [
        "## Words starting with vowel or consonant"
      ],
      "metadata": {
        "id": "YpURiDD4aOG5"
      }
    },
    {
      "cell_type": "code",
      "source": [
        "from typing import Tuple, List\n",
        "\n",
        "def starts_v_or_c(words: List[str]) -> Tuple:\n",
        "  \"\"\"\n",
        "  Return a tuple with the amount of words starting with vowel and consonant\n",
        "  \"\"\"\n",
        "  # Iterate over words\n",
        "  one_hot = [1 if word[0] in 'aeiou' else 0 for word in words]\n",
        "  vowels = sum(one_hot)\n",
        "  consonants = len(words) - vowels\n",
        "\n",
        "  return (vowels, consonants)\n",
        "\n",
        "if __name__ == '__main__':\n",
        "  v, c = starts_v_or_c(words)\n",
        "  print(f\"Words starting with vowel: {v}\")\n",
        "  print(f\"Words starting with consonant: {c}\")"
      ],
      "metadata": {
        "colab": {
          "base_uri": "https://localhost:8080/"
        },
        "id": "CBLiafSbafWX",
        "outputId": "73026554-2107-423e-e31b-8513e34a4b7b"
      },
      "execution_count": 46,
      "outputs": [
        {
          "output_type": "stream",
          "name": "stdout",
          "text": [
            "Words starting with vowel: 1399\n",
            "Words starting with consonant: 4259\n"
          ]
        }
      ]
    },
    {
      "cell_type": "code",
      "source": [
        "def dict_words(words: List[str]) -> dict:\n",
        "  \"\"\"\n",
        "  Return a dictionary with the words starting with each letter\n",
        "  \"\"\"\n",
        "  dict_words = {}\n",
        "\n",
        "  # Iterate over words\n",
        "  for word in words:\n",
        "    if word[0] not in dict_words:\n",
        "      dict_words[word[0]] = [word]\n",
        "    else:\n",
        "      dict_words[word[0]].append(word)\n",
        "\n",
        "  return dict_words\n",
        "\n",
        "if __name__ == '__main__':\n",
        "  dict_words = dict_words(words)\n",
        "  print(\"List of words starting with a:\")\n",
        "  print(dict_words['a'])\n",
        "  print(\"\\nList of words starting with p:\")\n",
        "  print(dict_words['p'])\n",
        "  print(\"\\nList of words starting with s:\")\n",
        "  print(dict_words['s'])"
      ],
      "metadata": {
        "colab": {
          "base_uri": "https://localhost:8080/"
        },
        "id": "Vy2d2MTLbrvM",
        "outputId": "091ef445-d448-49cd-e9d1-13887f23ee02"
      },
      "execution_count": 47,
      "outputs": [
        {
          "output_type": "stream",
          "name": "stdout",
          "text": [
            "List of words starting with a:\n",
            "['antoine', 'a', 'a', 'a', 'amigo', 'al', 'antes', 'a', 'anos', 'a', 'afirmaba', 'aventuras', 'a', 'arte', 'a', 'asustar', 'a', 'asi', 'aconsejaron', 'abandonar', 'abiertas', 'a', 'anos', 'abandone', 'algo', 'aburrido', 'aprendia', 'aviones', 'al', 'arizona', 'a', 'alguien', 'a', 'abstenia', 'a', 'altura', 'a', 'asi', 'anos', 'averia', 'algo', 'alguno', 'a', 'apenas', 'agua', 'arena', 'a', 'aislado', 'al', 'amanecer', 'a', 'alrededor', 'a', 'ahi', 'aunque', 'a', 'anos', 'aprendido', 'a', 'abiertas', 'a', 'aquella', 'aparicion', 'admiracion', 'a', 'ahora', 'absoluto', 'apariencia', 'a', 'articular', 'aqui', 'algo', 'absurdo', 'aquello', 'a', 'al', 'al', 'atentamente', 'a', 'amigo', 'anteriores', 'a', 'agregue', 'adentro', 'asi', 'asi', 'al', 'al', 'azar', 'a', 'asi', 'avion', 'avion', 'avion', 'avion', 'al', 'ah', 'anadio', 'avion', 'abismo', 'algo', 'atarlo', 'al', 'atarlo', 'atas', 'amigo', 'a', 'adelante', 'agrego', 'adelante', 'apenas', 'asombrarme', 'aparte', 'a', 'a', 'aun', 'ayuda', 'astronomo', 'asteroide', 'asteroide', 'asteroide', 'astronomo', 'astronomo', 'astronomia', 'a', 'asi', 'asteroide', 'a', 'a', 'astronomo', 'a', 'acepto', 'asteroide', 'a', 'a', 'amigo', 'a', 'a', 'arranco', 'a', 'aquellos', 'aquella', 'a', 'al', 'abrigo', 'adios', 'a', 'adios', 'al', 'ausencia', 'aire', 'aire', 'animales', 'a', 'a', 'anadio', 'asteroides', 'algo', 'al', 'armino', 'ah', 'al', 'al', 'aqui', 'aproximate', 'alguien', 'armino', 'apenas', 'anos', 'a', 'algo', 'a', 'autoridad', 'absoluto', 'a', 'ave', 'armino', 'aquel', 'aquel', 'apresuro', 'a', 'a', 'absoluto', 'ademas', 'al', 'asistir', 'a', 'a', 'a', 'a', 'arrastrar', 'al', 'abandonado', 'atrevio', 'a', 'al', 'al', 'a', 'ave', 'a', 'autoridad', 'apoya', 'antes', 'a', 'al', 'a', 'ademas', 'aburriendo', 'aqui', 'al', 'aqui', 'a', 'al', 'alla', 'abajo', 'a', 'a', 'a', 'a', 'aqui', 'alguna', 'a', 'a', 'a', 'a', 'a', 'a', 'al', 'antes', 'apresuro', 'a', 'aspecto', 'autoridad', 'ah', 'ah', 'admirador', 'a', 'al', 'a', 'al', 'admiradores', 'a', 'aclaman', 'aqui', 'ah', 'aconsejo', 'aplaudio', 'al', 'aplaudiendo', 'a', 'a', 'aquel', 'alabanzas', 'admiras', 'al', 'admirar', 'admirar', 'admirame', 'admiro', 'al', 'ahi', 'al', 'ante', 'a', 'ayudarle', 'abstraido', 'a', 'apagado', 'ahi', 'a', 'a', 'anos', 'anos', 'abejorro', 'aqui', 'anos', 'algunas', 'abejas', 'a', 'ah', 'alguien', 'arranco', 'a', 'aquellos', 'aquella', 'a', 'al', 'abrigo', 'adios', 'a', 'adios', 'al', 'ausencia', 'aire', 'aire', 'animales', 'a', 'a', 'anadio', 'asteroides', 'algo', 'al', 'armino', 'ah', 'al', 'al', 'aqui', 'aproximate', 'alguien', 'armino', 'apenas', 'anos', 'a', 'algo', 'a', 'autoridad', 'absoluto', 'a', 'ave', 'armino', 'aquel', 'aquel', 'apresuro', 'a', 'a', 'absoluto', 'ademas', 'al', 'asistir', 'a', 'a', 'a', 'a', 'arrastrar', 'al', 'abandonado', 'atrevio', 'a', 'al', 'al', 'a', 'ave', 'a', 'autoridad', 'apoya', 'antes', 'a', 'al', 'a', 'ademas', 'aburriendo', 'aqui', 'al', 'aqui', 'a', 'al', 'alla', 'abajo', 'a', 'a', 'a', 'a', 'aqui', 'alguna', 'a', 'a', 'a', 'a', 'a', 'a', 'al', 'antes', 'apresuro', 'a', 'aspecto', 'autoridad', 'ah', 'ah', 'admirador', 'a', 'al', 'a', 'al', 'admiradores', 'a', 'aclaman', 'aqui', 'ah', 'aconsejo', 'aplaudio', 'al', 'aplaudiendo', 'a', 'a', 'aquel', 'alabanzas', 'admiras', 'al', 'admirar', 'admirar', 'admirame', 'admiro', 'al', 'ahi', 'al', 'ante', 'a', 'ayudarle', 'abstraido', 'a', 'apagado']\n",
            "\n",
            "List of words starting with p:\n",
            "['principito', 'pido', 'perdon', 'por', 'persona', 'persona', 'pero', 'persona', 'para', 'persona', 'pasa', 'por', 'persona', 'personas', 'pero', 'pocas', 'por', 'presa', 'puede', 'primer', 'personas', 'pregunte', 'por', 'personas', 'pudieran', 'personas', 'personas', 'poner', 'pintor', 'por', 'personas', 'pueden', 'por', 'para', 'pues', 'pilotear', 'poco', 'por', 'primer', 'podia', 'perfectamente', 'pierde', 'personas', 'pero', 'parecia', 'poco', 'poniendome', 'politica', 'poder', 'pasajero', 'para', 'pues', 'para', 'primera', 'proximo', 'pues', 'por', 'pintame', 'pintame', 'puse', 'pie', 'por', 'pero', 'personas', 'pintor', 'pues', 'proximo', 'parecia', 'perdido', 'perdido', 'proximo', 'por', 'palabra', 'pero', 'por', 'por', 'pintame', 'por', 'pareciera', 'peligro', 'papel', 'pluma', 'poco', 'pintame', 'para', 'peligrosa', 'pequeno', 'pintame', 'paciencia', 'para', 'por', 'porque', 'pequeno', 'pequeno', 'principito', 'principito', 'preguntas', 'parecia', 'palabras', 'pronunciadas', 'poco', 'poco', 'por', 'primera', 'por', 'para', 'pregunto', 'principito', 'planeta', 'presencia', 'pregunte', 'pues', 'planeta', 'pero', 'puedes', 'planetas', 'pues', 'por', 'para', 'proposicion', 'parecio', 'principito', 'perdera', 'parte', 'principito', 'pequena', 'poco', 'puede', 'planeta', 'podia', 'planetas', 'pequenos', 'planetas', 'por', 'por', 'poderosas', 'para', 'planeta', 'principito', 'por', 'pero', 'personas', 'para', 'pueblo', 'pena', 'por', 'personas', 'preguntan', 'preguntar', 'prefiere', 'pero', 'preguntan', 'pesa', 'padre', 'personas', 'preciosa', 'palomas', 'posibilidad', 'pequenos', 'por', 'principito', 'poco', 'pero', 'parecieron', 'por', 'ponerla', 'principito', 'pero', 'porque', 'perdoname', 'procura', 'por', 'pero', 'pero', 'para', 'prolongues', 'puesto', 'partir', 'para', 'primero', 'por', 'purpura', 'principito', 'principito', 'pregunto', 'posible', 'para', 'para', 'por', 'principito', 'pero', 'planeta', 'por', 'pues', 'pie', 'pero', 'permite', 'presencia', 'prohibo', 'podido', 'principito', 'para', 'principito', 'pronto', 'poco', 'parecia', 'pues', 'pero', 'puedo', 'pregunto', 'principito', 'principito', 'planeta', 'pequeno', 'podria', 'perdoneme', 'pregunto', 'preguntes', 'poder', 'planeta', 'planetas', 'preguntar', 'principito', 'pues', 'poder', 'principito', 'poder', 'podido', 'puestas', 'poco', 'pequeno', 'planeta', 'puesta', 'ponga', 'principito', 'pedir', 'puede', 'pueblo', 'pueblo', 'porque', 'puesta', 'principito', 'pregunta', 'puesta', 'pero', 'previamente', 'principito', 'puesta', 'poco', 'partas', 'pero', 'para', 'pero', 'principito', 'para', 'planeta', 'puedo', 'parte', 'parte', 'planeta', 'por', 'podras', 'para', 'principito', 'pero', 'principito', 'preparativos', 'puntualmente', 'podria', 'podria', 'por', 'partir', 'parece', 'principito', 'primero', 'personas', 'principito', 'para', 'planeta', 'por', 'principito', 'para', 'principito', 'para', 'pasa', 'por', 'pregunto', 'principito', 'principito', 'parece', 'para', 'principito', 'principito', 'para', 'pregunto', 'principito', 'pero', 'pregunto', 'principito', 'planeta', 'planeta', 'principito', 'pero', 'para', 'principito', 'personas', 'para', 'principito', 'planeta', 'por', 'pues', 'principito', 'pregunto', 'por', 'preguntar', 'principito', 'para', 'para', 'principito', 'para', 'principito', 'principito', 'perplejo', 'personas', 'para', 'principito', 'planeta', 'por', 'principito', 'preguntar', 'principito', 'pregunta', 'planeta', 'primera', 'por', 'por', 'pues', 'pues', 'paz', 'pequenas', 'poseo', 'poseen', 'poseer', 'para', 'para', 'posibilidad', 'pequenos', 'por', 'principito', 'poco', 'pero', 'parecieron', 'por', 'ponerla', 'principito', 'pero', 'porque', 'perdoname', 'procura', 'por', 'pero', 'pero', 'para', 'prolongues', 'puesto', 'partir', 'para', 'primero', 'por', 'purpura', 'principito', 'principito', 'pregunto', 'posible', 'para', 'para', 'por', 'principito', 'pero', 'planeta', 'por', 'pues', 'pie', 'pero', 'permite', 'presencia', 'prohibo', 'podido', 'principito', 'para', 'principito', 'pronto', 'poco', 'parecia', 'pues', 'pero', 'puedo', 'pregunto', 'principito', 'principito', 'planeta', 'pequeno', 'podria', 'perdoneme', 'pregunto', 'preguntes', 'poder', 'planeta', 'planetas', 'preguntar', 'principito', 'pues', 'poder', 'principito', 'poder', 'podido', 'puestas', 'poco', 'pequeno', 'planeta', 'puesta', 'ponga', 'principito', 'pedir', 'puede', 'pueblo', 'pueblo', 'porque', 'puesta', 'principito', 'pregunta', 'puesta', 'pero', 'previamente', 'principito', 'puesta', 'poco', 'partas', 'pero', 'para', 'pero', 'principito', 'para', 'planeta', 'puedo', 'parte', 'parte', 'planeta', 'por', 'podras', 'para', 'principito', 'pero', 'principito', 'preparativos', 'puntualmente', 'podria', 'podria', 'por', 'partir', 'parece', 'principito', 'primero', 'personas', 'principito', 'para', 'planeta', 'por', 'principito', 'para', 'principito', 'para', 'pasa', 'por', 'pregunto', 'principito', 'principito', 'parece', 'para', 'principito', 'principito', 'para', 'pregunto', 'principito', 'pero', 'pregunto', 'principito', 'planeta', 'planeta', 'principito', 'pero', 'para', 'principito', 'personas', 'para', 'principito', 'planeta', 'por', 'pues', 'principito', 'pregunto', 'por', 'preguntar', 'principito', 'para', 'para', 'principito', 'para', 'principito', 'principito', 'perplejo', 'personas', 'para', 'principito', 'planeta', 'por', 'principito']\n",
            "\n",
            "List of words starting with s:\n",
            "['saintexupery', 'sena', 'ser', 'si', 'suficientes', 'sido', 'seis', 'sobre', 'selva', 'se', 'serpiente', 'se', 'se', 'serpiente', 'se', 'su', 'sin', 'seis', 'su', 'sobre', 'si', 'sombrero', 'sombrero', 'serpiente', 'serpiente', 'siempre', 'serpientes', 'seis', 'si', 'solas', 'servido', 'sobre', 'si', 'se', 'seria', 'sobre', 'sometido', 'siempre', 'saber', 'si', 'ser', 'siempre', 'sombrero', 'serpiente', 'selva', 'su', 'se', 'solo', 'seis', 'sahara', 'se', 'solo', 'sobre', 'sorpresa', 'salto', 'seis', 'sed', 'suavemente', 'saque', 'sabia', 'serpiente', 'serpiente', 'serpiente', 'sitio', 'sonrio', 'se', 'sorpresa', 'se', 'sea', 'se', 'sentia', 'si', 'se', 'serio', 'su', 'se', 'sacando', 'su', 'se', 'su', 'semiconfidencia', 'sobre', 'saber', 'silenciosamente', 'servira', 'sin', 'si', 'si', 'se', 'sabe', 'se', 'solto', 'se', 'senalo', 'se', 'supe', 'segunda', 'su', 'sabia', 'se', 'sido', 'solo', 'su', 'su', 'son', 'su', 'su', 'su', 'si', 'sobre', 'su', 'se', 'sobre', 'se', 'su', 'su', 'solamente', 'si', 'somos', 'se', 'sintio', 'sido', 'ser', 'se', 'sorprendio', 'si', 'sido', 'sepas', 'sido', 'ser', 'suelta', 'soy', 'sera', 'soporte', 'si', 'son', 'si', 'sus', 'se', 'sentado', 'sobre', 'sencillo', 'sin', 'subdito', 'se', 'si', 'simplificado', 'son', 'subditos', 'ser', 'sentarse', 'se', 'son', 'su', 'siempre', 'si', 'si', 'se', 'seria', 'sino', 'sentarme', 'sentarte', 'su', 'sorprendido', 'se', 'sobre', 'senor', 'si', 'se', 'senor', 'sobre', 'su', 'sobre', 'sobre', 'sencillo', 'senalo', 'su', 'sobre', 'sobre', 'solo', 'seguida', 'semejante', 'si', 'sino', 'setenta', 'sol', 'sin', 'su', 'silla', 'se', 'sentia', 'su', 'se', 'solicitar', 'sol', 'sol', 'se', 'si', 'seria', 'seria', 'solo', 'se', 'si', 'se', 'son', 'sol', 'su', 'sol', 'segun', 'sean', 'sera', 'sera', 'sera', 'siete', 'se', 'su', 'sol', 'se', 'se', 'sentia', 'subdito', 'si', 'se', 'sabe', 'sitio', 'se', 'si', 'si', 'sabio', 'su', 'sus', 'si', 'ser', 'son', 'suspiro', 'se', 'son', 'se', 'si', 'segundo', 'son', 'sombrero', 'saludar', 'si', 'sin', 'saludo', 'sombrero', 'se', 'si', 'saludarle', 'sombrero', 'se', 'sombrero', 'se', 'solo', 'significa', 'significa', 'soy', 'si', 'solo', 'sirve', 'se', 'son', 'se', 'si', 'su', 'siguiente', 'sentado', 'silencio', 'sinnumero', 'siento', 'se', 'se', 'silencio', 'se', 'son', 'seguia', 'si', 'su', 'siquiera', 'su', 'se', 'siete', 'siete', 'seis', 'suma', 'seiscientos', 'setecientos', 'se', 'soy', 'serio', 'siete', 'su', 'solo', 'sabe', 'suma', 'segunda', 'soy', 'serio', 'se', 'soy', 'serio', 'seiscientos', 'setecientos', 'soy', 'serio', 'si', 'son', 'si', 'sirve', 'sirve', 'ser', 'sirve', 'ser', 'sirve', 'si', 'somos', 'se', 'sintio', 'sido', 'ser', 'se', 'sorprendio', 'si', 'sido', 'sepas', 'sido', 'ser', 'suelta', 'soy', 'sera', 'soporte', 'si', 'son', 'si', 'sus', 'se', 'sentado', 'sobre', 'sencillo', 'sin', 'subdito', 'se', 'si', 'simplificado', 'son', 'subditos', 'ser', 'sentarse', 'se', 'son', 'su', 'siempre', 'si', 'si', 'se', 'seria', 'sino', 'sentarme', 'sentarte', 'su', 'sorprendido', 'se', 'sobre', 'senor', 'si', 'se', 'senor', 'sobre', 'su', 'sobre', 'sobre', 'sencillo', 'senalo', 'su', 'sobre', 'sobre', 'solo', 'seguida', 'semejante', 'si', 'sino', 'setenta', 'sol', 'sin', 'su', 'silla', 'se', 'sentia', 'su', 'se', 'solicitar', 'sol', 'sol', 'se', 'si', 'seria', 'seria', 'solo', 'se', 'si', 'se', 'son', 'sol', 'su', 'sol', 'segun', 'sean', 'sera', 'sera', 'sera', 'siete', 'se', 'su', 'sol', 'se', 'se', 'sentia', 'subdito', 'si', 'se', 'sabe', 'sitio', 'se', 'si', 'si', 'sabio', 'su', 'sus', 'si', 'ser', 'son', 'suspiro', 'se', 'son', 'se', 'si', 'segundo', 'son', 'sombrero', 'saludar', 'si', 'sin', 'saludo', 'sombrero', 'se', 'si', 'saludarle', 'sombrero', 'se', 'sombrero', 'se', 'solo', 'significa', 'significa', 'soy', 'si', 'solo', 'sirve', 'se', 'son', 'se', 'si', 'su', 'siguiente', 'sentado', 'silencio', 'sinnumero', 'siento', 'se', 'se', 'silencio', 'se', 'son', 'seguia', 'si', 'su', 'siquiera', 'su', 'se']\n"
          ]
        }
      ]
    },
    {
      "cell_type": "code",
      "source": [
        "import string\n",
        "\n",
        "def count_punctuation(text: str) -> int:\n",
        "  \"\"\"\n",
        "  Return the number of punctuation symbols in the text.\n",
        "  \"\"\"\n",
        "  # Initialize count to 0\n",
        "  count = 0\n",
        "\n",
        "  # Iterate through each character in the text\n",
        "  for c in text:\n",
        "      # Check if the character is in the punctuation set\n",
        "      if c in string.punctuation: # string.punctuation = (!\"#$%&'()*+,-./:;<=>?@[\\]^_{|}~`)\n",
        "          count += 1\n",
        "\n",
        "  return count\n",
        "\n",
        "if __name__ == '__main__':\n",
        "  count = count_punctuation(text)\n",
        "  print(f\"Amount of punctuation symbols in text: {count}\")"
      ],
      "metadata": {
        "colab": {
          "base_uri": "https://localhost:8080/"
        },
        "id": "t5KP9-qvcTFV",
        "outputId": "2b5a244a-8542-4100-fe13-f373d14e4adc"
      },
      "execution_count": 48,
      "outputs": [
        {
          "output_type": "stream",
          "name": "stdout",
          "text": [
            "Amount of punctuation symbols in text: 1474\n"
          ]
        }
      ]
    }
  ]
}