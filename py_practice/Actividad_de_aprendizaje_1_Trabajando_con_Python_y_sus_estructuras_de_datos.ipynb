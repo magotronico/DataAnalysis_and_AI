{
  "cells": [
    {
      "cell_type": "markdown",
      "metadata": {
        "id": "0HTh7Wb7V43N"
      },
      "source": [
        "# Actividad de aprendizaje 1: Trabajando con Python y sus estructuras de datos\n",
        "\n",
        "This notebook aims to resolve a set of instructions in order to practice as part of an assigment.\n",
        "\n",
        "To make this notebook professional, I will use PEP 8, PEP  484 and PEP 257.\n",
        "\n",
        "**Instructions:**\n",
        "1. Una función para obtener la lista de palabras del archivo\n",
        "2. Una función que reciba la lista de palabras y obtenga la cantidad de palabras aproximadas que tiene el archivo\n",
        "3. Una función que reciba la lista de palabras y obtenga el promedio de letras que tienen las palabras\n",
        "4. Una función que reciba la lista de palabras y regrese una tupla con dos valores: el primero representa la cantidad de palabras que comienzan con una vocal y el segundo representa la cantidad de palabras que comienzan con una consonante.\n",
        "5. Una función que reciba la lista de palabras y regrese un diccionario donde las llaves son las letras del abecedario y cada elemento una lista de las palabras que comienzan con dicha letra.\n",
        "6. Una función que reciba el texto en formato cadena y regrese el conteo de los signos de puntuación que se utilizaron.\n",
        "\n",
        "---\n",
        "Dilan Gonzalez Castañeda A00831905"
      ]
    },
    {
      "cell_type": "markdown",
      "metadata": {
        "id": "A2SIoTIwWomU"
      },
      "source": [
        "## Load file"
      ]
    },
    {
      "cell_type": "code",
      "execution_count": 3,
      "metadata": {
        "colab": {
          "base_uri": "https://localhost:8080/"
        },
        "id": "O3akwy5yWqxU",
        "outputId": "99ac942b-7e45-44f3-8123-4150c075f7cf"
      },
      "outputs": [
        {
          "name": "stdout",
          "output_type": "stream",
          "text": [
            "edicado este libro a una persona mayor. Tengo \n",
            "una seÃ±a excusa: esta persona mayor es el mejor amig\n"
          ]
        }
      ],
      "source": [
        "def load_file(file_name: str = 'Fragmento El Principito.txt') -> str:\n",
        "  \"\"\"\"\n",
        "  Load a file and return the text.\n",
        "  \"\"\"\n",
        "\n",
        "  file = open(file_name, 'r')\n",
        "  text = file.read()\n",
        "  file.close()\n",
        "  return text\n",
        "\n",
        "if __name__ == '__main__':\n",
        "  text = load_file()\n",
        "  print(text[100:200])"
      ]
    },
    {
      "cell_type": "markdown",
      "metadata": {
        "id": "R16s-vxEWi9g"
      },
      "source": [
        "## List of words"
      ]
    },
    {
      "cell_type": "code",
      "execution_count": 4,
      "metadata": {
        "colab": {
          "base_uri": "https://localhost:8080/"
        },
        "id": "m1UMeoZNVX3n",
        "outputId": "0bbc05d7-4c93-4cae-b062-eb48251f3085"
      },
      "outputs": [
        {
          "name": "stdout",
          "output_type": "stream",
          "text": [
            "['el', 'principito', 'antoine', 'de', 'saintexupary', 'a', 'leon', 'werth', 'pido', 'perda3n', 'a', 'los', 'niaos', 'por', 'haber', 'dedicado', 'este', 'libro', 'a', 'una', 'persona', 'mayor', 'tengo', 'una', 'seaa', 'excusa', 'esta', 'persona', 'mayor', 'es', 'el', 'mejor', 'amigo', 'que', 'tengo', 'en', 'el', 'mundo', 'pero', 'tengo', 'otra', 'excusa', 'esta', 'persona', 'mayor', 'es', 'capaz', 'de', 'comprenderlo', 'todo']\n"
          ]
        }
      ],
      "source": [
        "import unicodedata\n",
        "from typing import List\n",
        "\n",
        "def lst_words(text: str) -> List[str]:\n",
        "  \"\"\"\n",
        "  Return a list of words.\n",
        "  \"\"\"\n",
        "  # Lowercase text\n",
        "  text = text.lower()\n",
        "\n",
        "  # Normalize text to remove accents and diacritics\n",
        "  text = unicodedata.normalize('NFKD', text)\n",
        "  text = ''.join([c for c in text if not unicodedata.combining(c)])\n",
        "\n",
        "  # Remove special characters (only keep alphanumeric and spaces)\n",
        "  text = ''.join([c for c in text if c.isalnum() or c.isspace()])\n",
        "\n",
        "  # Remove extra whitespace\n",
        "  text = text.strip()\n",
        "\n",
        "  # Split text into words\n",
        "  words = text.split()\n",
        "\n",
        "  # Remove empty strings\n",
        "  words = [word for word in words if word != \"\"]\n",
        "\n",
        "  return words\n",
        "\n",
        "\n",
        "if __name__ == '__main__':\n",
        "  words = lst_words(text)\n",
        "  print(words[:50])"
      ]
    },
    {
      "cell_type": "markdown",
      "metadata": {
        "id": "9I7tYdqNZol1"
      },
      "source": [
        "## Amount of words"
      ]
    },
    {
      "cell_type": "code",
      "execution_count": 5,
      "metadata": {
        "colab": {
          "base_uri": "https://localhost:8080/"
        },
        "id": "krW3l2LSZlEs",
        "outputId": "902b6bae-3bb6-4375-af97-699b5a5357cc"
      },
      "outputs": [
        {
          "name": "stdout",
          "output_type": "stream",
          "text": [
            "Total amount of words: 5658\n"
          ]
        }
      ],
      "source": [
        "def calc_words(words: List[str]) -> int:\n",
        "  \"\"\"\n",
        "  Return the amount of words.\n",
        "  \"\"\"\n",
        "  return len(words)\n",
        "\n",
        "if __name__ == '__main__':\n",
        "  amount_words = calc_words(words)\n",
        "  print(f\"Total amount of words: {amount_words}\")"
      ]
    },
    {
      "cell_type": "markdown",
      "metadata": {
        "id": "Qr8lobgMZxEs"
      },
      "source": [
        "## Average amount of letters per word"
      ]
    },
    {
      "cell_type": "code",
      "execution_count": 6,
      "metadata": {
        "colab": {
          "base_uri": "https://localhost:8080/"
        },
        "id": "K0_m2-0sZvdz",
        "outputId": "d338867c-6e8b-4bd6-c7b5-a4e06f96e669"
      },
      "outputs": [
        {
          "name": "stdout",
          "output_type": "stream",
          "text": [
            "Amount the letters per word: 4.606751502297632\n"
          ]
        }
      ],
      "source": [
        "def avg_letters(words: List[str]) -> float:\n",
        "  \"\"\"\n",
        "  Return the average\n",
        "  \"\"\"\n",
        "  # Calculate the total number of letters\n",
        "  total_letters = sum(len(word) for word in words)\n",
        "\n",
        "  # Calculate the average\n",
        "  avg_letters = total_letters / calc_words(words)\n",
        "\n",
        "  return avg_letters\n",
        "\n",
        "if __name__ == '__main__':\n",
        "  avg_letters = avg_letters(words)\n",
        "  print(f\"Amount the letters per word: {avg_letters}\")"
      ]
    },
    {
      "cell_type": "markdown",
      "metadata": {
        "id": "YpURiDD4aOG5"
      },
      "source": [
        "## Words starting with vowel or consonant"
      ]
    },
    {
      "cell_type": "code",
      "execution_count": 7,
      "metadata": {
        "colab": {
          "base_uri": "https://localhost:8080/"
        },
        "id": "CBLiafSbafWX",
        "outputId": "73026554-2107-423e-e31b-8513e34a4b7b"
      },
      "outputs": [
        {
          "name": "stdout",
          "output_type": "stream",
          "text": [
            "Words starting with vowel: 1511\n",
            "Words starting with consonant: 4147\n"
          ]
        }
      ],
      "source": [
        "from typing import Tuple, List\n",
        "\n",
        "def starts_v_or_c(words: List[str]) -> Tuple:\n",
        "  \"\"\"\n",
        "  Return a tuple with the amount of words starting with vowel and consonant\n",
        "  \"\"\"\n",
        "  # Iterate over words\n",
        "  one_hot = [1 if word[0] in 'aeiou' else 0 for word in words]\n",
        "  vowels = sum(one_hot)\n",
        "  consonants = len(words) - vowels\n",
        "\n",
        "  return (vowels, consonants)\n",
        "\n",
        "if __name__ == '__main__':\n",
        "  v, c = starts_v_or_c(words)\n",
        "  print(f\"Words starting with vowel: {v}\")\n",
        "  print(f\"Words starting with consonant: {c}\")"
      ]
    },
    {
      "cell_type": "code",
      "execution_count": 8,
      "metadata": {
        "colab": {
          "base_uri": "https://localhost:8080/"
        },
        "id": "Vy2d2MTLbrvM",
        "outputId": "091ef445-d448-49cd-e9d1-13887f23ee02"
      },
      "outputs": [
        {
          "name": "stdout",
          "output_type": "stream",
          "text": [
            "List of words starting with a:\n",
            "['antoine', 'a', 'a', 'a', 'amigo', 'al', 'antes', 'a', 'aaos', 'a', 'afirmaba', 'aventuras', 'a', 'arte', 'a', 'apor', 'asustar', 'a', 'asa', 'aconsejaron', 'abandonar', 'abiertas', 'a', 'aaos', 'abandona', 'algo', 'aburrido', 'aprendaa', 'aviones', 'al', 'arizona', 'aotil', 'a', 'alguien', 'a', 'abstenaa', 'a', 'altura', 'a', 'asa', 'aaos', 'averaa', 'algo', 'alguno', 'a', 'apenas', 'agua', 'arena', 'a', 'aislado', 'al', 'amanecer', 'apor', 'aeh', 'apantame', 'a', 'alrededor', 'a', 'aha', 'al', 'aunque', 'a', 'aaos', 'aprendido', 'a', 'abiertas', 'a', 'aquella', 'aparicia3n', 'admiracia3n', 'a', 'ahora', 'absoluto', 'apariencia', 'a', 'articular', 'aqua', 'aqua', 'al', 'algo', 'apor', 'absurdo', 'aquello', 'a', 'al', 'al', 'aonicos', 'al', 'ano', 'atentamente', 'ano', 'a', 'amigo', 'aves', 'anteriores', 'a', 'agregua', 'adentro', 'aasa', 'acrees', 'apor', 'abueno', 'asa', 'al', 'al', 'azar', 'a', 'asa', 'avia3n', 'avia3n', 'aqua', 'avia3n', 'avia3n', 'al', 'aca3mo', 'ahas', 'aah', 'aaadia3', 'atao', 'ade', 'atu', 'avia3n', 'abisma3', 'algo', 'ade', 'ada3nde', 'ada3nde', 'atarlo', 'al', 'aatarlo', 'aqua', 'atas', 'amigo', 'ay', 'a', 'adelante', 'ano', 'agrega3', 'adelante', 'apenas', 'asombrarme', 'aparte', 'a', 'a', 'aun', 'ayuda', 'astra3nomo', 'asteroide', 'asteroide', 'asteroide', 'astra3nomo', 'astra3nomo', 'astronomaa', 'a', 'asa', 'asteroide', 'a', 'a', 'astra3nomo', 'a', 'acepta3', 'asteroide', 'a', 'a', 'amigo', 'aqua', 'aqua', 'ale', 'aqua', 'acuantos', 'acuanto', 'acuanto', 'a', 'a', 'arranca3', 'aoltimos', 'a', 'aquellos', 'aquella', 'aoltima', 'a', 'al', 'abrigo', 'adia3s', 'a', 'adia3s', 'al', 'ausencia', 'aire', 'aire', 'animales', 'aquian', 'a', 'a', 'aaadia3', 'asteroides', 'algo', 'al', 'armiao', 'aah', 'al', 'al', 'aqua', 'aca3mo', 'aproxamate', 'alguien', 'armiao', 'apenas', 'aaos', 'a', 'algo', 'avamos', 'ahum', 'abueno', 'a', 'autoridad', 'absoluto', 'a3rdenes', 'a', 'ave', 'apuedo', 'armiao', 'aquel', 'aquel', 'apresura3', 'a', 'asobre', 'asobre', 'asobre', 'a', 'absoluto', 'ademas', 'ay', 'anaturalmente', 'al', 'al', 'asistir', 'a', 'a', 'a', 'a', 'arrastrar', 'al', 'abandonado', 'atrevia3', 'a', 'al', 'al', 'a', 'ave', 'ade', 'al', 'a', 'autoridad', 'apoya', 'antes', 'a', 'al', 'a', 'a3rdenes', 'aentonces', 'ay', 'aejem', 'aejem', 'ademas', 'aburriendo', 'aqua', 'al', 'aministro', 'ade', 'apero', 'aqua', 'a', 'aoh', 'al', 'alla', 'abajo', 'a', 'a', 'a', 'a', 'aqua', 'aejem', 'alguna', 'a', 'a', 'a', 'a', 'a', 'a', 'al', 'antes', 'ate', 'apresura3', 'a', 'aspecto', 'autoridad', 'aah', 'aah', 'aun', 'admirador', 'a', 'al', 'a', 'al', 'admiradores', 'abuenos', 'aqua', 'a', 'aclaman', 'aqua', 'aah', 'aconseja3', 'aplaudia3', 'al', 'aplaudiendo', 'a', 'a', 'aquel', 'aqua', 'alabanzas', 'atao', 'admiras', 'al', 'aqua', 'admirar', 'admirar', 'asi', 'ahazme', 'admarame', 'abueno', 'admiro', 'apara', 'al', 'aqua', 'aha', 'al', 'ante', 'abebo', 'apor', 'a', 'apara', 'averga14enza', 'ayudarle', 'averga14enza', 'abstraado', 'a', 'abuenos', 'aste', 'apagado', 'abuenos', 'auf', 'aquinientos', 'aeh', 'aestas', 'aha', 'ahe', 'ayo', 'aquinientos', 'a', 'a', 'aaos', 'aaos', 'abejorro', 'aqua', 'aaos', 'ala', 'asta', 'amillones', 'algunas', 'amoscas', 'ano', 'aabejas', 'a', 'ayo', 'aah', 'aestrellas', 'ay', 'ay', 'aque', 'aque', 'ay', 'ay', 'alguien', 'arranca3', 'aoltimos', 'a', 'aquellos', 'aquella', 'aoltima', 'a', 'al', 'abrigo', 'adia3s', 'a', 'adia3s', 'al', 'ausencia', 'aire', 'aire', 'animales', 'aquian', 'a', 'a', 'aaadia3', 'asteroides', 'algo', 'al', 'armiao', 'aah', 'al', 'al', 'aqua', 'aca3mo', 'aproxamate', 'alguien', 'armiao', 'apenas', 'aaos', 'a', 'algo', 'avamos', 'ahum', 'abueno', 'a', 'autoridad', 'absoluto', 'a3rdenes', 'a', 'ave', 'apuedo', 'armiao', 'aquel', 'aquel', 'apresura3', 'a', 'asobre', 'asobre', 'asobre', 'a', 'absoluto', 'ademas', 'ay', 'anaturalmente', 'al', 'al', 'asistir', 'a', 'a', 'a', 'a', 'arrastrar', 'al', 'abandonado', 'atrevia3', 'a', 'al', 'al', 'a', 'ave', 'ade', 'al', 'a', 'autoridad', 'apoya', 'antes', 'a', 'al', 'a', 'a3rdenes', 'aentonces', 'ay', 'aejem', 'aejem', 'ademas', 'aburriendo', 'aqua', 'al', 'aministro', 'ade', 'apero', 'aqua', 'a', 'aoh', 'al', 'alla', 'abajo', 'a', 'a', 'a', 'a', 'aqua', 'aejem', 'alguna', 'a', 'a', 'a', 'a', 'a', 'a', 'al', 'antes', 'ate', 'apresura3', 'a', 'aspecto', 'autoridad', 'aah', 'aah', 'aun', 'admirador', 'a', 'al', 'a', 'al', 'admiradores', 'abuenos', 'aqua', 'a', 'aclaman', 'aqua', 'aah', 'aconseja3', 'aplaudia3', 'al', 'aplaudiendo', 'a', 'a', 'aquel', 'aqua', 'alabanzas', 'atao', 'admiras', 'al', 'aqua', 'admirar', 'admirar', 'asi', 'ahazme', 'admarame', 'abueno', 'admiro', 'apara', 'al', 'aqua', 'aha', 'al', 'ante', 'abebo', 'apor', 'a', 'apara', 'averga14enza', 'ayudarle', 'averga14enza', 'abstraado', 'a', 'abuenos', 'aste', 'apagado']\n",
            "\n",
            "List of words starting with p:\n",
            "['principito', 'pido', 'perda3n', 'por', 'persona', 'persona', 'pero', 'persona', 'para', 'persona', 'pasa', 'por', 'persona', 'personas', 'pero', 'pocas', 'por', 'presa', 'puede', 'primer', 'personas', 'pregunta', 'personas', 'pudieran', 'personas', 'personas', 'poner', 'pintor', 'por', 'personas', 'pueden', 'por', 'para', 'pues', 'pilotear', 'poco', 'por', 'primer', 'podaa', 'perfectamente', 'pierde', 'personas', 'pero', 'parecaa', 'poco', 'poniandome', 'polatica', 'poder', 'pasajero', 'para', 'pues', 'para', 'primera', 'pra3ximo', 'pues', 'pantame', 'puse', 'pie', 'por', 'pero', 'personas', 'pintor', 'pues', 'pra3ximo', 'parecaa', 'perdido', 'perdido', 'pra3ximo', 'por', 'palabra', 'pero', 'por', 'pantame', 'por', 'pareciera', 'peligro', 'papel', 'pluma', 'poco', 'pantame', 'para', 'peligrosa', 'pequeao', 'pantame', 'paciencia', 'para', 'porque', 'pequeao', 'pequeao', 'principito', 'principito', 'preguntas', 'parecaa', 'palabras', 'pronunciadas', 'poco', 'poco', 'por', 'primera', 'por', 'para', 'pregunta3', 'principito', 'planeta', 'presencia', 'pregunta', 'pues', 'planeta', 'pero', 'puedes', 'planetas', 'pues', 'por', 'para', 'proposicia3n', 'parecia3', 'principito', 'perdera', 'parte', 'principito', 'pequeaa', 'poco', 'puede', 'planeta', 'podaa', 'planetas', 'pequeaos', 'planetas', 'por', 'por', 'poderosas', 'para', 'planeta', 'principito', 'por', 'pero', 'personas', 'para', 'pueblo', 'pena', 'por', 'personas', 'preguntan', 'preguntar', 'prefiere', 'pero', 'preguntan', 'pesa', 'padre', 'personas', 'preciosa', 'palomas', 'posibilidad', 'pequeaos', 'por', 'principito', 'poco', 'pero', 'parecieron', 'por', 'ponerla', 'principito', 'pero', 'porque', 'perda3name', 'procura', 'por', 'pero', 'pero', 'para', 'prolongues', 'puesto', 'partir', 'para', 'primero', 'por', 'paorpura', 'principito', 'principito', 'pregunta3', 'posible', 'para', 'para', 'por', 'principito', 'pero', 'planeta', 'por', 'pues', 'pie', 'pero', 'permite', 'presencia', 'prohabo', 'podido', 'principito', 'para', 'principito', 'pronto', 'poco', 'parecaa', 'pues', 'pero', 'pregunta3', 'principito', 'principito', 'planeta', 'pequeao', 'podraa', 'perda3neme', 'pregunto', 'preguntes', 'poder', 'planeta', 'planetas', 'preguntar', 'principito', 'pues', 'poder', 'principito', 'poder', 'podido', 'puestas', 'poco', 'pequeao', 'planeta', 'puesta', 'ponga', 'principito', 'pedir', 'puede', 'pueblo', 'pueblo', 'porque', 'puesta', 'principito', 'pregunta', 'puesta', 'pero', 'previamente', 'principito', 'puesta', 'poco', 'partas', 'para', 'pero', 'principito', 'para', 'planeta', 'puedo', 'parte', 'parte', 'planeta', 'por', 'podras', 'para', 'principito', 'pero', 'principito', 'preparativos', 'puntualmente', 'podraa', 'podraa', 'por', 'partir', 'parece', 'principito', 'primero', 'personas', 'principito', 'para', 'planeta', 'por', 'principito', 'para', 'principito', 'para', 'pasa', 'por', 'pregunta3', 'principito', 'principito', 'parece', 'para', 'principito', 'principito', 'para', 'pregunta3', 'principito', 'pero', 'pregunta3', 'principito', 'planeta', 'planeta', 'principito', 'pero', 'principito', 'personas', 'para', 'principito', 'planeta', 'por', 'pues', 'principito', 'pregunta3', 'preguntar', 'principito', 'para', 'principito', 'para', 'principito', 'principito', 'perplejo', 'personas', 'para', 'principito', 'planeta', 'por', 'principito', 'preguntar', 'principito', 'pregunta', 'planeta', 'primera', 'por', 'por', 'pues', 'pues', 'paz', 'pequeaas', 'poseo', 'poseen', 'poseer', 'para', 'para', 'posibilidad', 'pequeaos', 'por', 'principito', 'poco', 'pero', 'parecieron', 'por', 'ponerla', 'principito', 'pero', 'porque', 'perda3name', 'procura', 'por', 'pero', 'pero', 'para', 'prolongues', 'puesto', 'partir', 'para', 'primero', 'por', 'paorpura', 'principito', 'principito', 'pregunta3', 'posible', 'para', 'para', 'por', 'principito', 'pero', 'planeta', 'por', 'pues', 'pie', 'pero', 'permite', 'presencia', 'prohabo', 'podido', 'principito', 'para', 'principito', 'pronto', 'poco', 'parecaa', 'pues', 'pero', 'pregunta3', 'principito', 'principito', 'planeta', 'pequeao', 'podraa', 'perda3neme', 'pregunto', 'preguntes', 'poder', 'planeta', 'planetas', 'preguntar', 'principito', 'pues', 'poder', 'principito', 'poder', 'podido', 'puestas', 'poco', 'pequeao', 'planeta', 'puesta', 'ponga', 'principito', 'pedir', 'puede', 'pueblo', 'pueblo', 'porque', 'puesta', 'principito', 'pregunta', 'puesta', 'pero', 'previamente', 'principito', 'puesta', 'poco', 'partas', 'para', 'pero', 'principito', 'para', 'planeta', 'puedo', 'parte', 'parte', 'planeta', 'por', 'podras', 'para', 'principito', 'pero', 'principito', 'preparativos', 'puntualmente', 'podraa', 'podraa', 'por', 'partir', 'parece', 'principito', 'primero', 'personas', 'principito', 'para', 'planeta', 'por', 'principito', 'para', 'principito', 'para', 'pasa', 'por', 'pregunta3', 'principito', 'principito', 'parece', 'para', 'principito', 'principito', 'para', 'pregunta3', 'principito', 'pero', 'pregunta3', 'principito', 'planeta', 'planeta', 'principito', 'pero', 'principito', 'personas', 'para', 'principito', 'planeta', 'por', 'pues', 'principito', 'pregunta3', 'preguntar', 'principito', 'para', 'principito', 'para', 'principito', 'principito', 'perplejo', 'personas', 'para', 'principito', 'planeta', 'por', 'principito']\n",
            "\n",
            "List of words starting with s:\n",
            "['saintexupary', 'seaa', 'ser', 'si', 'suficientes', 'sido', 'seis', 'sobre', 'selva', 'se', 'serpiente', 'se', 'se', 'serpiente', 'se', 'su', 'sin', 'seis', 'su', 'sobre', 'si', 'sombrero', 'sombrero', 'serpiente', 'serpiente', 'siempre', 'serpientes', 'seis', 'sa', 'solas', 'servido', 'sobre', 'si', 'se', 'seria', 'sobre', 'sometido', 'siempre', 'saber', 'si', 'ser', 'siempre', 'sombrero', 'serpiente', 'selva', 'su', 'se', 'solo', 'seis', 'sahara', 'se', 'solo', 'sobre', 'sorpresa', 'salto', 'seis', 'sed', 'suavemente', 'saqua', 'sabaa', 'serpiente', 'serpiente', 'serpiente', 'sitio', 'sonria3', 'se', 'sorpresa', 'se', 'sea', 'se', 'sentaa', 'sa', 'se', 'serio', 'su', 'se', 'sacando', 'su', 'se', 'su', 'semiconfidencia', 'sobre', 'saber', 'silenciosamente', 'servira', 'sin', 'si', 'si', 'se', 'sabe', 'se', 'solta3', 'sa', 'seaala3', 'se', 'supe', 'segunda', 'su', 'sabaa', 'se', 'sido', 'sa3lo', 'su', 'su', 'son', 'su', 'su', 'su', 'si', 'sobre', 'su', 'se', 'sobre', 'se', 'su', 'su', 'solamente', 'si', 'somos', 'se', 'sintia3', 'sido', 'ser', 'se', 'sorprendia3', 'sa', 'sido', 'sepas', 'sido', 'ser', 'suelta', 'soy', 'sera', 'soporte', 'si', 'son', 'si', 'sus', 'se', 'sentado', 'sobre', 'sencillo', 'sin', 'saobdito', 'se', 'si', 'simplificado', 'son', 'saobditos', 'ser', 'sentarse', 'se', 'son', 'su', 'siempre', 'si', 'si', 'se', 'seraa', 'sino', 'sentarme', 'sentarte', 'su', 'sorprendido', 'se', 'sobre', 'seaor', 'si', 'se', 'seaor', 'su', 'sobre', 'sencillo', 'seaala3', 'su', 'sobre', 'sa3lo', 'seguida', 'semejante', 'si', 'sino', 'setenta', 'sol', 'sin', 'su', 'silla', 'se', 'sentaa', 'su', 'se', 'solicitar', 'sol', 'sol', 'se', 'si', 'seraa', 'seraa', 'sa3lo', 'se', 'si', 'se', 'son', 'sol', 'su', 'sol', 'segaon', 'sean', 'sera', 'sera', 'sera', 'siete', 'se', 'su', 'sol', 'se', 'se', 'sentaa', 'saobdito', 'si', 'se', 'sabe', 'sitio', 'se', 'sa', 'si', 'sabio', 'su', 'sus', 'si', 'ser', 'son', 'suspiro', 'se', 'son', 'se', 'sa', 'segundo', 'son', 'sombrero', 'saludar', 'sa', 'sin', 'saluda3', 'sombrero', 'se', 'sa', 'saludarle', 'sombrero', 'se', 'sombrero', 'se', 'sa3lo', 'significa', 'significa', 'soy', 'solo', 'sirve', 'se', 'son', 'se', 'sa', 'su', 'siguiente', 'sentado', 'silencio', 'sinnaomero', 'siento', 'se', 'se', 'silencio', 'se', 'son', 'seguaa', 'sa', 'su', 'siquiera', 'su', 'se', 'siete', 'siete', 'seis', 'suma', 'seiscientos', 'setecientos', 'sa', 'soy', 'serio', 'siete', 'su', 'sa3lo', 'sabe', 'suma', 'segunda', 'soy', 'serio', 'se', 'soy', 'serio', 'seiscientos', 'setecientos', 'soy', 'serio', 'sa', 'son', 'sa', 'sirve', 'sirve', 'ser', 'sirve', 'ser', 'sirve', 'si', 'somos', 'se', 'sintia3', 'sido', 'ser', 'se', 'sorprendia3', 'sa', 'sido', 'sepas', 'sido', 'ser', 'suelta', 'soy', 'sera', 'soporte', 'si', 'son', 'si', 'sus', 'se', 'sentado', 'sobre', 'sencillo', 'sin', 'saobdito', 'se', 'si', 'simplificado', 'son', 'saobditos', 'ser', 'sentarse', 'se', 'son', 'su', 'siempre', 'si', 'si', 'se', 'seraa', 'sino', 'sentarme', 'sentarte', 'su', 'sorprendido', 'se', 'sobre', 'seaor', 'si', 'se', 'seaor', 'su', 'sobre', 'sencillo', 'seaala3', 'su', 'sobre', 'sa3lo', 'seguida', 'semejante', 'si', 'sino', 'setenta', 'sol', 'sin', 'su', 'silla', 'se', 'sentaa', 'su', 'se', 'solicitar', 'sol', 'sol', 'se', 'si', 'seraa', 'seraa', 'sa3lo', 'se', 'si', 'se', 'son', 'sol', 'su', 'sol', 'segaon', 'sean', 'sera', 'sera', 'sera', 'siete', 'se', 'su', 'sol', 'se', 'se', 'sentaa', 'saobdito', 'si', 'se', 'sabe', 'sitio', 'se', 'sa', 'si', 'sabio', 'su', 'sus', 'si', 'ser', 'son', 'suspiro', 'se', 'son', 'se', 'sa', 'segundo', 'son', 'sombrero', 'saludar', 'sa', 'sin', 'saluda3', 'sombrero', 'se', 'sa', 'saludarle', 'sombrero', 'se', 'sombrero', 'se', 'sa3lo', 'significa', 'significa', 'soy', 'solo', 'sirve', 'se', 'son', 'se', 'sa', 'su', 'siguiente', 'sentado', 'silencio', 'sinnaomero', 'siento', 'se', 'se', 'silencio', 'se', 'son', 'seguaa', 'sa', 'su', 'siquiera', 'su', 'se']\n"
          ]
        }
      ],
      "source": [
        "def dict_words(words: List[str]) -> dict:\n",
        "  \"\"\"\n",
        "  Return a dictionary with the words starting with each letter\n",
        "  \"\"\"\n",
        "  dict_words = {}\n",
        "\n",
        "  # Iterate over words\n",
        "  for word in words:\n",
        "    if word[0] not in dict_words:\n",
        "      dict_words[word[0]] = [word]\n",
        "    else:\n",
        "      dict_words[word[0]].append(word)\n",
        "\n",
        "  return dict_words\n",
        "\n",
        "if __name__ == '__main__':\n",
        "  dict_words = dict_words(words)\n",
        "  print(\"List of words starting with a:\")\n",
        "  print(dict_words['a'])\n",
        "  print(\"\\nList of words starting with p:\")\n",
        "  print(dict_words['p'])\n",
        "  print(\"\\nList of words starting with s:\")\n",
        "  print(dict_words['s'])"
      ]
    },
    {
      "cell_type": "code",
      "execution_count": 9,
      "metadata": {
        "colab": {
          "base_uri": "https://localhost:8080/"
        },
        "id": "t5KP9-qvcTFV",
        "outputId": "2b5a244a-8542-4100-fe13-f373d14e4adc"
      },
      "outputs": [
        {
          "name": "stdout",
          "output_type": "stream",
          "text": [
            "Amount of punctuation symbols in text: 1474\n"
          ]
        }
      ],
      "source": [
        "import string\n",
        "\n",
        "def count_punctuation(text: str) -> int:\n",
        "  \"\"\"\n",
        "  Return the number of punctuation symbols in the text.\n",
        "  \"\"\"\n",
        "  # Initialize count to 0\n",
        "  count = 0\n",
        "\n",
        "  # Iterate through each character in the text\n",
        "  for c in text:\n",
        "      # Check if the character is in the punctuation set\n",
        "      if c in string.punctuation: # string.punctuation = (!\"#$%&'()*+,-./:;<=>?@[\\]^_{|}~`)\n",
        "          count += 1\n",
        "\n",
        "  return count\n",
        "\n",
        "if __name__ == '__main__':\n",
        "  count = count_punctuation(text)\n",
        "  print(f\"Amount of punctuation symbols in text: {count}\")"
      ]
    }
  ],
  "metadata": {
    "colab": {
      "provenance": []
    },
    "kernelspec": {
      "display_name": "Python 3",
      "name": "python3"
    },
    "language_info": {
      "codemirror_mode": {
        "name": "ipython",
        "version": 3
      },
      "file_extension": ".py",
      "mimetype": "text/x-python",
      "name": "python",
      "nbconvert_exporter": "python",
      "pygments_lexer": "ipython3",
      "version": "3.11.9"
    }
  },
  "nbformat": 4,
  "nbformat_minor": 0
}
